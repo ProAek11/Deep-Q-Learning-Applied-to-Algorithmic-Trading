{
  "cells": [
    {
      "cell_type": "markdown",
      "metadata": {
        "id": "klGNgWREsvQv"
      },
      "source": [
        "##### Copyright 2023 The TF-Agents Authors."
      ]
    },
    {
      "cell_type": "code",
      "execution_count": 1,
      "metadata": {
        "cellView": "form",
        "id": "nQnmcm0oI1Q-"
      },
      "outputs": [],
      "source": [
        "#@title Licensed under the Apache License, Version 2.0 (the \"License\");\n",
        "# you may not use this file except in compliance with the License.\n",
        "# You may obtain a copy of the License at\n",
        "#\n",
        "# https://www.apache.org/licenses/LICENSE-2.0\n",
        "#\n",
        "# Unless required by applicable law or agreed to in writing, software\n",
        "# distributed under the License is distributed on an \"AS IS\" BASIS,\n",
        "# WITHOUT WARRANTIES OR CONDITIONS OF ANY KIND, either express or implied.\n",
        "# See the License for the specific language governing permissions and\n",
        "# limitations under the License."
      ]
    },
    {
      "cell_type": "markdown",
      "metadata": {
        "id": "pmDI-h7cI0tI"
      },
      "source": [
        "# Train a Deep Q Network with TF-Agents\n",
        "\n",
        "<table class=\"tfo-notebook-buttons\" align=\"left\">\n",
        "  <td>\n",
        "    <a target=\"_blank\" href=\"https://www.tensorflow.org/agents/tutorials/1_dqn_tutorial\">\n",
        "    <img src=\"https://www.tensorflow.org/images/tf_logo_32px.png\" />\n",
        "    View on TensorFlow.org</a>\n",
        "  </td>\n",
        "  <td>\n",
        "    <a target=\"_blank\" href=\"https://colab.research.google.com/github/tensorflow/agents/blob/master/docs/tutorials/1_dqn_tutorial.ipynb\">\n",
        "    <img src=\"https://www.tensorflow.org/images/colab_logo_32px.png\" />\n",
        "    Run in Google Colab</a>\n",
        "  </td>\n",
        "  <td>\n",
        "    <a target=\"_blank\" href=\"https://github.com/tensorflow/agents/blob/master/docs/tutorials/1_dqn_tutorial.ipynb\">\n",
        "    <img src=\"https://www.tensorflow.org/images/GitHub-Mark-32px.png\" />\n",
        "    View source on GitHub</a>\n",
        "  </td>\n",
        "  <td>\n",
        "    <a href=\"https://storage.googleapis.com/tensorflow_docs/agents/docs/tutorials/1_dqn_tutorial.ipynb\"><img src=\"https://www.tensorflow.org/images/download_logo_32px.png\" />Download notebook</a>\n",
        "  </td>\n",
        "</table>"
      ]
    },
    {
      "cell_type": "markdown",
      "metadata": {
        "id": "lsaQlK8fFQqH"
      },
      "source": [
        "## Introduction\n"
      ]
    },
    {
      "cell_type": "markdown",
      "metadata": {},
      "source": []
    },
    {
      "cell_type": "markdown",
      "metadata": {},
      "source": []
    },
    {
      "cell_type": "markdown",
      "metadata": {
        "id": "cKOCZlhUgXVK"
      },
      "source": [
        "This example shows how to train a [DQN (Deep Q Networks)](https://storage.googleapis.com/deepmind-media/dqn/DQNNaturePaper.pdf)  agent on the Cartpole environment using the TF-Agents library.\n",
        "\n",
        "![Cartpole environment](https://raw.githubusercontent.com/tensorflow/agents/master/docs/tutorials/images/cartpole.png)\n",
        "\n",
        "It will walk you through all the components in a Reinforcement Learning (RL) pipeline for training, evaluation and data collection.\n",
        "\n",
        "\n",
        "To run this code live, click the 'Run in Google Colab' link above.\n"
      ]
    },
    {
      "cell_type": "markdown",
      "metadata": {
        "id": "1u9QVVsShC9X"
      },
      "source": [
        "## Setup"
      ]
    },
    {
      "cell_type": "markdown",
      "metadata": {
        "id": "kNrNXKI7bINP"
      },
      "source": [
        "If you haven't installed the following dependencies, run:"
      ]
    },
    {
      "cell_type": "code",
      "execution_count": 2,
      "metadata": {
        "id": "KEHR2Ui-lo8O"
      },
      "outputs": [
        {
          "data": {
            "text/plain": [
              "\"\\n!apt-get update\\n!apt-get install -y xvfb ffmpeg freeglut3-dev\\n!pip install 'imageio==2.4.0'\\n!pip install pyvirtualdisplay\\n!pip install tf-agents[reverb]\\n!pip install pyglet\\n!pip install tf-keras\\n\""
            ]
          },
          "execution_count": 2,
          "metadata": {},
          "output_type": "execute_result"
        }
      ],
      "source": [
        "\"\"\"\n",
        "!apt-get update\n",
        "!apt-get install -y xvfb ffmpeg freeglut3-dev\n",
        "!pip install 'imageio==2.4.0'\n",
        "!pip install pyvirtualdisplay\n",
        "!pip install tf-agents[reverb]\n",
        "!pip install pyglet\n",
        "!pip install tf-keras\n",
        "\"\"\""
      ]
    },
    {
      "cell_type": "code",
      "execution_count": 3,
      "metadata": {
        "id": "UX0aSKBCYmj2"
      },
      "outputs": [],
      "source": [
        "import os\n",
        "# Keep using keras-2 (tf-keras) rather than keras-3 (keras).\n",
        "os.environ['TF_USE_LEGACY_KERAS'] = '1'"
      ]
    },
    {
      "cell_type": "code",
      "execution_count": 4,
      "metadata": {
        "id": "sMitx5qSgJk1"
      },
      "outputs": [
        {
          "name": "stderr",
          "output_type": "stream",
          "text": [
            "2024-03-06 20:49:37.430162: I external/local_tsl/tsl/cuda/cudart_stub.cc:31] Could not find cuda drivers on your machine, GPU will not be used.\n",
            "2024-03-06 20:49:37.484977: E external/local_xla/xla/stream_executor/cuda/cuda_dnn.cc:9261] Unable to register cuDNN factory: Attempting to register factory for plugin cuDNN when one has already been registered\n",
            "2024-03-06 20:49:37.485004: E external/local_xla/xla/stream_executor/cuda/cuda_fft.cc:607] Unable to register cuFFT factory: Attempting to register factory for plugin cuFFT when one has already been registered\n",
            "2024-03-06 20:49:37.485877: E external/local_xla/xla/stream_executor/cuda/cuda_blas.cc:1515] Unable to register cuBLAS factory: Attempting to register factory for plugin cuBLAS when one has already been registered\n",
            "2024-03-06 20:49:37.492525: I external/local_tsl/tsl/cuda/cudart_stub.cc:31] Could not find cuda drivers on your machine, GPU will not be used.\n",
            "2024-03-06 20:49:37.493655: I tensorflow/core/platform/cpu_feature_guard.cc:182] This TensorFlow binary is optimized to use available CPU instructions in performance-critical operations.\n",
            "To enable the following instructions: AVX2 FMA, in other operations, rebuild TensorFlow with the appropriate compiler flags.\n",
            "2024-03-06 20:49:38.685609: W tensorflow/compiler/tf2tensorrt/utils/py_utils.cc:38] TF-TRT Warning: Could not find TensorRT\n"
          ]
        }
      ],
      "source": [
        "from __future__ import absolute_import, division, print_function\n",
        "\n",
        "import base64\n",
        "import imageio\n",
        "import IPython\n",
        "import matplotlib\n",
        "import matplotlib.pyplot as plt\n",
        "import numpy as np\n",
        "import PIL.Image\n",
        "import pyvirtualdisplay\n",
        "import reverb\n",
        "\n",
        "import tensorflow as tf\n",
        "\n",
        "from tf_agents.agents.dqn import dqn_agent\n",
        "from tf_agents.drivers import py_driver\n",
        "from tf_agents.environments import suite_gym\n",
        "from tf_agents.environments import tf_py_environment\n",
        "from tf_agents.eval import metric_utils\n",
        "from tf_agents.metrics import tf_metrics\n",
        "from tf_agents.networks import sequential\n",
        "from tf_agents.policies import py_tf_eager_policy\n",
        "from tf_agents.policies import random_tf_policy\n",
        "from tf_agents.replay_buffers import reverb_replay_buffer\n",
        "from tf_agents.replay_buffers import reverb_utils\n",
        "from tf_agents.trajectories import trajectory\n",
        "from tf_agents.specs import tensor_spec\n",
        "from tf_agents.utils import common"
      ]
    },
    {
      "cell_type": "code",
      "execution_count": 5,
      "metadata": {
        "id": "J6HsdS5GbSjd"
      },
      "outputs": [
        {
          "data": {
            "text/plain": [
              "<pyvirtualdisplay.display.Display at 0x7f3f997c0910>"
            ]
          },
          "execution_count": 5,
          "metadata": {},
          "output_type": "execute_result"
        }
      ],
      "source": [
        "# Set up a virtual display for rendering OpenAI gym environments.\n",
        "import os\n",
        "os.environ['PYVIRTUALDISPLAY_DISPLAYFD'] = '0'\n",
        "\n",
        "from pyvirtualdisplay import Display\n",
        "display = Display(visible=0, size=(1400, 900))\n",
        "display.start()"
      ]
    },
    {
      "cell_type": "code",
      "execution_count": 6,
      "metadata": {
        "id": "NspmzG4nP3b9"
      },
      "outputs": [
        {
          "data": {
            "text/plain": [
              "'2.15.0'"
            ]
          },
          "execution_count": 6,
          "metadata": {},
          "output_type": "execute_result"
        }
      ],
      "source": [
        "tf.version.VERSION"
      ]
    },
    {
      "cell_type": "markdown",
      "metadata": {
        "id": "LmC0NDhdLIKY"
      },
      "source": [
        "## Hyperparameters"
      ]
    },
    {
      "cell_type": "code",
      "execution_count": 7,
      "metadata": {
        "id": "HC1kNrOsLSIZ"
      },
      "outputs": [],
      "source": [
        "num_iterations = 20000 # @param {type:\"integer\"}\n",
        "\n",
        "initial_collect_steps = 100  # @param {type:\"integer\"}\n",
        "collect_steps_per_iteration =   1# @param {type:\"integer\"}\n",
        "replay_buffer_max_length = 100000  # @param {type:\"integer\"}\n",
        "\n",
        "batch_size = 64  # @param {type:\"integer\"}\n",
        "learning_rate = 1e-3  # @param {type:\"number\"}\n",
        "log_interval = 200  # @param {type:\"integer\"}\n",
        "\n",
        "num_eval_episodes = 10  # @param {type:\"integer\"}\n",
        "eval_interval = 1000  # @param {type:\"integer\"}"
      ]
    },
    {
      "cell_type": "markdown",
      "metadata": {
        "id": "VMsJC3DEgI0x"
      },
      "source": [
        "## Environment\n",
        "\n",
        "In Reinforcement Learning (RL), an environment represents the task or problem to be solved. Standard environments can be created in TF-Agents using `tf_agents.environments` suites. TF-Agents has suites for loading environments from sources such as the OpenAI Gym, Atari, and DM Control.\n",
        "\n",
        "Load the CartPole environment from the OpenAI Gym suite."
      ]
    },
    {
      "cell_type": "code",
      "execution_count": 8,
      "metadata": {
        "id": "pYEz-S9gEv2-"
      },
      "outputs": [],
      "source": [
        "env_name = 'CartPole-v0'\n",
        "env = suite_gym.load(env_name)"
      ]
    },
    {
      "cell_type": "markdown",
      "metadata": {
        "id": "IIHYVBkuvPNw"
      },
      "source": [
        "You can render this environment to see how it looks. A free-swinging pole is attached to a cart.  The goal is to move the cart right or left in order to keep the pole pointing up."
      ]
    },
    {
      "cell_type": "code",
      "execution_count": 9,
      "metadata": {
        "id": "RlO7WIQHu_7D"
      },
      "outputs": [
        {
          "data": {
            "image/jpeg": "[encoded data removed]",
            "image/png": "[encoded data removed]",
            "text/plain": [
              "<PIL.Image.Image image mode=RGB size=600x400>"
            ]
          },
          "execution_count": 9,
          "metadata": {},
          "output_type": "execute_result"
        }
      ],
      "source": [
        "#@test {\"skip\": true}\n",
        "env.reset()\n",
        "PIL.Image.fromarray(env.render())"
      ]
    },
    {
      "cell_type": "markdown",
      "metadata": {
        "id": "B9_lskPOey18"
      },
      "source": [
        "The `environment.step` method takes an `action` in the environment and returns a `TimeStep` tuple containing the next observation of the environment and the reward for the action.\n",
        "\n",
        "The `time_step_spec()` method returns the specification for the `TimeStep` tuple. Its `observation` attribute shows the shape of observations, the data types, and the ranges of allowed values. The `reward` attribute shows the same details for the reward.\n"
      ]
    },
    {
      "cell_type": "code",
      "execution_count": 10,
      "metadata": {
        "id": "exDv57iHfwQV"
      },
      "outputs": [
        {
          "name": "stdout",
          "output_type": "stream",
          "text": [
            "Observation Spec:\n",
            "BoundedArraySpec(shape=(4,), dtype=dtype('float32'), name='observation', minimum=[-4.8000002e+00 -3.4028235e+38 -4.1887903e-01 -3.4028235e+38], maximum=[4.8000002e+00 3.4028235e+38 4.1887903e-01 3.4028235e+38])\n"
          ]
        }
      ],
      "source": [
        "print('Observation Spec:')\n",
        "print(env.time_step_spec().observation)"
      ]
    },
    {
      "cell_type": "code",
      "execution_count": 11,
      "metadata": {
        "id": "UxiSyCbBUQPi"
      },
      "outputs": [
        {
          "name": "stdout",
          "output_type": "stream",
          "text": [
            "Reward Spec:\n",
            "ArraySpec(shape=(), dtype=dtype('float32'), name='reward')\n"
          ]
        }
      ],
      "source": [
        "print('Reward Spec:')\n",
        "print(env.time_step_spec().reward)"
      ]
    },
    {
      "cell_type": "markdown",
      "metadata": {
        "id": "b_lHcIcqUaqB"
      },
      "source": [
        "The `action_spec()` method returns the shape, data types, and allowed values of valid actions."
      ]
    },
    {
      "cell_type": "code",
      "execution_count": 12,
      "metadata": {
        "id": "bttJ4uxZUQBr"
      },
      "outputs": [
        {
          "name": "stdout",
          "output_type": "stream",
          "text": [
            "Action Spec:\n",
            "BoundedArraySpec(shape=(), dtype=dtype('int64'), name='action', minimum=0, maximum=1)\n"
          ]
        }
      ],
      "source": [
        "print('Action Spec:')\n",
        "print(env.action_spec())"
      ]
    },
    {
      "cell_type": "markdown",
      "metadata": {
        "id": "eJCgJnx3g0yY"
      },
      "source": [
        "In the Cartpole environment:\n",
        "\n",
        "-   `observation` is an array of 4 floats:\n",
        "    -   the position and velocity of the cart\n",
        "    -   the angular position and velocity of the pole\n",
        "-   `reward` is a scalar float value\n",
        "-   `action` is a scalar integer with only two possible values:\n",
        "    -   `0` — \"move left\"\n",
        "    -   `1` — \"move right\"\n"
      ]
    },
    {
      "cell_type": "code",
      "execution_count": 13,
      "metadata": {
        "id": "V2UGR5t_iZX-"
      },
      "outputs": [
        {
          "name": "stdout",
          "output_type": "stream",
          "text": [
            "Time step:\n",
            "TimeStep(\n",
            "{'step_type': array(0, dtype=int32),\n",
            " 'reward': array(0., dtype=float32),\n",
            " 'discount': array(1., dtype=float32),\n",
            " 'observation': array([0.01438855, 0.03081045, 0.00794888, 0.0067874 ], dtype=float32)})\n",
            "Next time step:\n",
            "TimeStep(\n",
            "{'step_type': array(1, dtype=int32),\n",
            " 'reward': array(1., dtype=float32),\n",
            " 'discount': array(1., dtype=float32),\n",
            " 'observation': array([ 0.01500476,  0.2258175 ,  0.00808463, -0.283377  ], dtype=float32)})\n"
          ]
        }
      ],
      "source": [
        "time_step = env.reset()\n",
        "print('Time step:')\n",
        "print(time_step)\n",
        "\n",
        "action = np.array(1, dtype=np.int32)\n",
        "\n",
        "next_time_step = env.step(action)\n",
        "print('Next time step:')\n",
        "print(next_time_step)"
      ]
    },
    {
      "cell_type": "markdown",
      "metadata": {
        "id": "4JSc9GviWUBK"
      },
      "source": [
        "Usually two environments are instantiated: one for training and one for evaluation."
      ]
    },
    {
      "cell_type": "code",
      "execution_count": 14,
      "metadata": {
        "id": "N7brXNIGWXjC"
      },
      "outputs": [],
      "source": [
        "train_py_env = suite_gym.load(env_name)\n",
        "eval_py_env = suite_gym.load(env_name)"
      ]
    },
    {
      "cell_type": "markdown",
      "metadata": {
        "id": "zuUqXAVmecTU"
      },
      "source": [
        "The Cartpole environment, like most environments, is written in pure Python. This is converted to TensorFlow using the `TFPyEnvironment` wrapper.\n",
        "\n",
        "The original environment's API uses Numpy arrays. The `TFPyEnvironment` converts these to `Tensors` to make it compatible with Tensorflow agents and policies.\n"
      ]
    },
    {
      "cell_type": "code",
      "execution_count": 15,
      "metadata": {
        "id": "Xp-Y4mD6eDhF"
      },
      "outputs": [],
      "source": [
        "train_env = tf_py_environment.TFPyEnvironment(train_py_env)\n",
        "eval_env = tf_py_environment.TFPyEnvironment(eval_py_env)"
      ]
    },
    {
      "cell_type": "markdown",
      "metadata": {
        "id": "E9lW_OZYFR8A"
      },
      "source": [
        "## Agent\n",
        "\n",
        "The algorithm used to solve an RL problem is represented by an `Agent`. TF-Agents provides standard implementations of a variety of `Agents`, including:\n",
        "\n",
        "-   [DQN](https://storage.googleapis.com/deepmind-media/dqn/DQNNaturePaper.pdf) (used in this tutorial)\n",
        "-   [REINFORCE](https://www-anw.cs.umass.edu/~barto/courses/cs687/williams92simple.pdf)\n",
        "-   [DDPG](https://arxiv.org/pdf/1509.02971.pdf)\n",
        "-   [TD3](https://arxiv.org/pdf/1802.09477.pdf)\n",
        "-   [PPO](https://arxiv.org/abs/1707.06347)\n",
        "-   [SAC](https://arxiv.org/abs/1801.01290)\n",
        "\n",
        "The DQN agent can be used in any environment which has a discrete action space.\n",
        "\n",
        "At the heart of a DQN Agent is a `QNetwork`, a neural network model that can learn to predict `QValues` (expected returns) for all actions, given an observation from the environment.\n",
        "\n",
        "We will use `tf_agents.networks.` to create a `QNetwork`. The network will consist of a sequence of `tf.keras.layers.Dense` layers, where the final layer will have 1 output for each possible action."
      ]
    },
    {
      "cell_type": "code",
      "execution_count": 16,
      "metadata": {
        "id": "TgkdEPg_muzV"
      },
      "outputs": [],
      "source": [
        "fc_layer_params = (100, 50)\n",
        "action_tensor_spec = tensor_spec.from_spec(env.action_spec())\n",
        "num_actions = action_tensor_spec.maximum - action_tensor_spec.minimum + 1\n",
        "\n",
        "# Define a helper function to create Dense layers configured with the right\n",
        "# activation and kernel initializer.\n",
        "def dense_layer(num_units):\n",
        "  return tf.keras.layers.Dense(\n",
        "      num_units,\n",
        "      activation=tf.keras.activations.relu,\n",
        "      kernel_initializer=tf.keras.initializers.VarianceScaling(\n",
        "          scale=2.0, mode='fan_in', distribution='truncated_normal'))\n",
        "\n",
        "# QNetwork consists of a sequence of Dense layers followed by a dense layer\n",
        "# with `num_actions` units to generate one q_value per available action as\n",
        "# its output.\n",
        "dense_layers = [dense_layer(num_units) for num_units in fc_layer_params]\n",
        "q_values_layer = tf.keras.layers.Dense(\n",
        "    num_actions,\n",
        "    activation=None,\n",
        "    kernel_initializer=tf.keras.initializers.RandomUniform(\n",
        "        minval=-0.03, maxval=0.03),\n",
        "    bias_initializer=tf.keras.initializers.Constant(-0.2))\n",
        "q_net = sequential.Sequential(dense_layers + [q_values_layer])"
      ]
    },
    {
      "cell_type": "markdown",
      "metadata": {
        "id": "z62u55hSmviJ"
      },
      "source": [
        "Now use `tf_agents.agents.dqn.dqn_agent` to instantiate a `DqnAgent`. In addition to the `time_step_spec`, `action_spec` and the QNetwork, the agent constructor also requires an optimizer (in this case, `AdamOptimizer`), a loss function, and an integer step counter."
      ]
    },
    {
      "cell_type": "code",
      "execution_count": 17,
      "metadata": {
        "id": "jbY4yrjTEyc9"
      },
      "outputs": [
        {
          "name": "stderr",
          "output_type": "stream",
          "text": [
            "2024-03-06 20:49:41.683368: I external/local_xla/xla/stream_executor/cuda/cuda_executor.cc:887] could not open file to read NUMA node: /sys/bus/pci/devices/0000:01:00.0/numa_node\n",
            "Your kernel may have been built without NUMA support.\n",
            "2024-03-06 20:49:41.683895: W tensorflow/core/common_runtime/gpu/gpu_device.cc:2256] Cannot dlopen some GPU libraries. Please make sure the missing libraries mentioned above are installed properly if you would like to use GPU. Follow the guide at https://www.tensorflow.org/install/gpu for how to download and setup the required libraries for your platform.\n",
            "Skipping registering GPU devices...\n"
          ]
        }
      ],
      "source": [
        "optimizer = tf.keras.optimizers.Adam(learning_rate=learning_rate)\n",
        "\n",
        "train_step_counter = tf.Variable(0)\n",
        "\n",
        "agent = dqn_agent.DqnAgent(\n",
        "    train_env.time_step_spec(),\n",
        "    train_env.action_spec(),\n",
        "    q_network=q_net,\n",
        "    optimizer=optimizer,\n",
        "    td_errors_loss_fn=common.element_wise_squared_loss,\n",
        "    train_step_counter=train_step_counter)\n",
        "\n",
        "agent.initialize()"
      ]
    },
    {
      "cell_type": "markdown",
      "metadata": {
        "id": "I0KLrEPwkn5x"
      },
      "source": [
        "## Policies\n",
        "\n",
        "A policy defines the way an agent acts in an environment. Typically, the goal of reinforcement learning is to train the underlying model until the policy produces the desired outcome.\n",
        "\n",
        "In this tutorial:\n",
        "\n",
        "-   The desired outcome is keeping the pole balanced upright over the cart.\n",
        "-   The policy returns an action (left or right) for each `time_step` observation.\n",
        "\n",
        "Agents contain two policies:\n",
        "\n",
        "-   `agent.policy` — The main policy that is used for evaluation and deployment.\n",
        "-   `agent.collect_policy` — A second policy that is used for data collection.\n"
      ]
    },
    {
      "cell_type": "code",
      "execution_count": 18,
      "metadata": {
        "id": "BwY7StuMkuV4"
      },
      "outputs": [],
      "source": [
        "eval_policy = agent.policy\n",
        "collect_policy = agent.collect_policy"
      ]
    },
    {
      "cell_type": "markdown",
      "metadata": {
        "id": "2Qs1Fl3dV0ae"
      },
      "source": [
        "Policies can be created independently of agents. For example, use `tf_agents.policies.random_tf_policy` to create a policy which will randomly select an action for each `time_step`."
      ]
    },
    {
      "cell_type": "code",
      "execution_count": 19,
      "metadata": {
        "id": "HE37-UCIrE69"
      },
      "outputs": [],
      "source": [
        "random_policy = random_tf_policy.RandomTFPolicy(train_env.time_step_spec(),\n",
        "                                                train_env.action_spec())"
      ]
    },
    {
      "cell_type": "markdown",
      "metadata": {
        "id": "dOlnlRRsUbxP"
      },
      "source": [
        "To get an action from a policy, call the `policy.action(time_step)` method. The `time_step` contains the observation from the environment. This method returns a `PolicyStep`, which is a named tuple with three components:\n",
        "\n",
        "-   `action` — the action to be taken (in this case, `0` or `1`)\n",
        "-   `state` — used for stateful (that is, RNN-based) policies\n",
        "-   `info` — auxiliary data, such as log probabilities of actions"
      ]
    },
    {
      "cell_type": "code",
      "execution_count": 20,
      "metadata": {
        "id": "5gCcpXswVAxk"
      },
      "outputs": [],
      "source": [
        "example_environment = tf_py_environment.TFPyEnvironment(\n",
        "    suite_gym.load('CartPole-v0'))"
      ]
    },
    {
      "cell_type": "code",
      "execution_count": 21,
      "metadata": {
        "id": "D4DHZtq3Ndis"
      },
      "outputs": [],
      "source": [
        "time_step = example_environment.reset()"
      ]
    },
    {
      "cell_type": "code",
      "execution_count": 22,
      "metadata": {
        "id": "PRFqAUzpNaAW"
      },
      "outputs": [
        {
          "data": {
            "text/plain": [
              "PolicyStep(action=<tf.Tensor: shape=(1,), dtype=int64, numpy=array([1])>, state=(), info=())"
            ]
          },
          "execution_count": 22,
          "metadata": {},
          "output_type": "execute_result"
        }
      ],
      "source": [
        "random_policy.action(time_step)"
      ]
    },
    {
      "cell_type": "markdown",
      "metadata": {
        "id": "94rCXQtbUbXv"
      },
      "source": [
        "## Metrics and Evaluation\n",
        "\n",
        "The most common metric used to evaluate a policy is the average return. The return is the sum of rewards obtained while running a policy in an environment for an episode. Several episodes are run, creating an average return.\n",
        "\n",
        "The following function computes the average return of a policy, given the policy, environment, and a number of episodes.\n"
      ]
    },
    {
      "cell_type": "code",
      "execution_count": 23,
      "metadata": {
        "id": "bitzHo5_UbXy"
      },
      "outputs": [],
      "source": [
        "#@test {\"skip\": true}\n",
        "def compute_avg_return(environment, policy, num_episodes=10):\n",
        "\n",
        "  total_return = 0.0\n",
        "  for _ in range(num_episodes):\n",
        "\n",
        "    time_step = environment.reset()\n",
        "    episode_return = 0.0\n",
        "\n",
        "    while not time_step.is_last():\n",
        "      action_step = policy.action(time_step)\n",
        "      time_step = environment.step(action_step.action)\n",
        "      episode_return += time_step.reward\n",
        "    total_return += episode_return\n",
        "\n",
        "  avg_return = total_return / num_episodes\n",
        "  return avg_return.numpy()[0]\n",
        "\n",
        "\n",
        "# See also the metrics module for standard implementations of different metrics.\n",
        "# https://github.com/tensorflow/agents/tree/master/tf_agents/metrics"
      ]
    },
    {
      "cell_type": "markdown",
      "metadata": {
        "id": "_snCVvq5Z8lJ"
      },
      "source": [
        "Running this computation on the `random_policy` shows a baseline performance in the environment."
      ]
    },
    {
      "cell_type": "code",
      "execution_count": 24,
      "metadata": {
        "id": "9bgU6Q6BZ8Bp"
      },
      "outputs": [
        {
          "data": {
            "text/plain": [
              "18.5"
            ]
          },
          "execution_count": 24,
          "metadata": {},
          "output_type": "execute_result"
        }
      ],
      "source": [
        "compute_avg_return(eval_env, random_policy, num_eval_episodes)"
      ]
    },
    {
      "cell_type": "markdown",
      "metadata": {
        "id": "NLva6g2jdWgr"
      },
      "source": [
        "## Replay Buffer\n",
        "\n",
        "In order to keep track of the data collected from the environment, we will use [Reverb](https://deepmind.com/research/open-source/Reverb), an efficient, extensible, and easy-to-use replay system by Deepmind. It stores experience data when we collect trajectories and is consumed during training.\n",
        "\n",
        "This replay buffer is constructed using specs describing the tensors that are to be stored, which can be obtained from the agent using agent.collect_data_spec.\n"
      ]
    },
    {
      "cell_type": "code",
      "execution_count": 25,
      "metadata": {
        "id": "vX2zGUWJGWAl"
      },
      "outputs": [
        {
          "name": "stderr",
          "output_type": "stream",
          "text": [
            "[reverb/cc/platform/tfrecord_checkpointer.cc:162]  Initializing TFRecordCheckpointer in /tmp/tmpn9r5a5uz.\n",
            "[reverb/cc/platform/tfrecord_checkpointer.cc:565] Loading latest checkpoint from /tmp/tmpn9r5a5uz\n",
            "[reverb/cc/platform/default/server.cc:71] Started replay server on port 33389\n"
          ]
        }
      ],
      "source": [
        "table_name = 'uniform_table'\n",
        "replay_buffer_signature = tensor_spec.from_spec(\n",
        "      agent.collect_data_spec)\n",
        "replay_buffer_signature = tensor_spec.add_outer_dim(\n",
        "    replay_buffer_signature)\n",
        "\n",
        "table = reverb.Table(\n",
        "    table_name,\n",
        "    max_size=replay_buffer_max_length,\n",
        "    sampler=reverb.selectors.Uniform(),\n",
        "    remover=reverb.selectors.Fifo(),\n",
        "    rate_limiter=reverb.rate_limiters.MinSize(1),\n",
        "    signature=replay_buffer_signature)\n",
        "\n",
        "reverb_server = reverb.Server([table])\n",
        "\n",
        "replay_buffer = reverb_replay_buffer.ReverbReplayBuffer(\n",
        "    agent.collect_data_spec,\n",
        "    table_name=table_name,\n",
        "    sequence_length=2,\n",
        "    local_server=reverb_server)\n",
        "\n",
        "rb_observer = reverb_utils.ReverbAddTrajectoryObserver(\n",
        "  replay_buffer.py_client,\n",
        "  table_name,\n",
        "  sequence_length=2)"
      ]
    },
    {
      "cell_type": "markdown",
      "metadata": {
        "id": "ZGNTDJpZs4NN"
      },
      "source": [
        "For most agents, `collect_data_spec` is a named tuple called `Trajectory`, containing the specs for observations, actions, rewards, and other items."
      ]
    },
    {
      "cell_type": "code",
      "execution_count": 26,
      "metadata": {
        "id": "_IZ-3HcqgE1z"
      },
      "outputs": [
        {
          "data": {
            "text/plain": [
              "Trajectory(\n",
              "{'step_type': TensorSpec(shape=(), dtype=tf.int32, name='step_type'),\n",
              " 'observation': BoundedTensorSpec(shape=(4,), dtype=tf.float32, name='observation', minimum=array([-4.8000002e+00, -3.4028235e+38, -4.1887903e-01, -3.4028235e+38],\n",
              "      dtype=float32), maximum=array([4.8000002e+00, 3.4028235e+38, 4.1887903e-01, 3.4028235e+38],\n",
              "      dtype=float32)),\n",
              " 'action': BoundedTensorSpec(shape=(), dtype=tf.int64, name='action', minimum=array(0), maximum=array(1)),\n",
              " 'policy_info': (),\n",
              " 'next_step_type': TensorSpec(shape=(), dtype=tf.int32, name='step_type'),\n",
              " 'reward': TensorSpec(shape=(), dtype=tf.float32, name='reward'),\n",
              " 'discount': BoundedTensorSpec(shape=(), dtype=tf.float32, name='discount', minimum=array(0., dtype=float32), maximum=array(1., dtype=float32))})"
            ]
          },
          "execution_count": 26,
          "metadata": {},
          "output_type": "execute_result"
        }
      ],
      "source": [
        "agent.collect_data_spec"
      ]
    },
    {
      "cell_type": "code",
      "execution_count": 27,
      "metadata": {
        "id": "sy6g1tGcfRlw"
      },
      "outputs": [
        {
          "data": {
            "text/plain": [
              "('step_type',\n",
              " 'observation',\n",
              " 'action',\n",
              " 'policy_info',\n",
              " 'next_step_type',\n",
              " 'reward',\n",
              " 'discount')"
            ]
          },
          "execution_count": 27,
          "metadata": {},
          "output_type": "execute_result"
        }
      ],
      "source": [
        "agent.collect_data_spec._fields"
      ]
    },
    {
      "cell_type": "markdown",
      "metadata": {
        "id": "rVD5nQ9ZGo8_"
      },
      "source": [
        "## Data Collection\n",
        "\n",
        "Now execute the random policy in the environment for a few steps, recording the data in the replay buffer.\n",
        "\n",
        "Here we are using 'PyDriver' to run the experience collecting loop. You can learn more about TF Agents driver in our [drivers tutorial](https://www.tensorflow.org/agents/tutorials/4_drivers_tutorial)."
      ]
    },
    {
      "cell_type": "code",
      "execution_count": 28,
      "metadata": {
        "id": "wr1KSAEGG4h9"
      },
      "outputs": [
        {
          "data": {
            "text/plain": [
              "(TimeStep(\n",
              " {'step_type': array(1, dtype=int32),\n",
              "  'reward': array(1., dtype=float32),\n",
              "  'discount': array(1., dtype=float32),\n",
              "  'observation': array([ 0.15765402,  0.17072432, -0.14822821, -0.4411045 ], dtype=float32)}),\n",
              " ())"
            ]
          },
          "execution_count": 28,
          "metadata": {},
          "output_type": "execute_result"
        }
      ],
      "source": [
        "#@test {\"skip\": true}\n",
        "py_driver.PyDriver(\n",
        "    env,\n",
        "    py_tf_eager_policy.PyTFEagerPolicy(\n",
        "      random_policy, use_tf_function=True),\n",
        "    [rb_observer],\n",
        "    max_steps=initial_collect_steps).run(train_py_env.reset())"
      ]
    },
    {
      "cell_type": "markdown",
      "metadata": {
        "id": "84z5pQJdoKxo"
      },
      "source": [
        "The replay buffer is now a collection of Trajectories."
      ]
    },
    {
      "cell_type": "code",
      "execution_count": 29,
      "metadata": {
        "id": "4wZnLu2ViO4E"
      },
      "outputs": [],
      "source": [
        "# For the curious:\n",
        "# Uncomment to peel one of these off and inspect it.\n",
        "# iter(replay_buffer.as_dataset()).next()"
      ]
    },
    {
      "cell_type": "markdown",
      "metadata": {
        "id": "TujU-PMUsKjS"
      },
      "source": [
        "The agent needs access to the replay buffer. This is provided by creating an iterable `tf.data.Dataset` pipeline which will feed data to the agent.\n",
        "\n",
        "Each row of the replay buffer only stores a single observation step. But since the DQN Agent needs both the current and next observation to compute the loss, the dataset pipeline will sample two adjacent rows for each item in the batch (`num_steps=2`).\n",
        "\n",
        "This dataset is also optimized by running parallel calls and prefetching data."
      ]
    },
    {
      "cell_type": "code",
      "execution_count": 30,
      "metadata": {
        "id": "ba7bilizt_qW"
      },
      "outputs": [
        {
          "data": {
            "text/plain": [
              "<_PrefetchDataset element_spec=(Trajectory(\n",
              "{'step_type': TensorSpec(shape=(64, 2), dtype=tf.int32, name=None),\n",
              " 'observation': TensorSpec(shape=(64, 2, 4), dtype=tf.float32, name=None),\n",
              " 'action': TensorSpec(shape=(64, 2), dtype=tf.int64, name=None),\n",
              " 'policy_info': (),\n",
              " 'next_step_type': TensorSpec(shape=(64, 2), dtype=tf.int32, name=None),\n",
              " 'reward': TensorSpec(shape=(64, 2), dtype=tf.float32, name=None),\n",
              " 'discount': TensorSpec(shape=(64, 2), dtype=tf.float32, name=None)}), SampleInfo(key=TensorSpec(shape=(64, 2), dtype=tf.uint64, name=None), probability=TensorSpec(shape=(64, 2), dtype=tf.float64, name=None), table_size=TensorSpec(shape=(64, 2), dtype=tf.int64, name=None), priority=TensorSpec(shape=(64, 2), dtype=tf.float64, name=None), times_sampled=TensorSpec(shape=(64, 2), dtype=tf.int32, name=None)))>"
            ]
          },
          "execution_count": 30,
          "metadata": {},
          "output_type": "execute_result"
        }
      ],
      "source": [
        "# Dataset generates trajectories with shape [Bx2x...]\n",
        "dataset = replay_buffer.as_dataset(\n",
        "    num_parallel_calls=3,\n",
        "    sample_batch_size=batch_size,\n",
        "    num_steps=2).prefetch(3)\n",
        "\n",
        "dataset"
      ]
    },
    {
      "cell_type": "code",
      "execution_count": 31,
      "metadata": {
        "id": "K13AST-2ppOq"
      },
      "outputs": [
        {
          "name": "stdout",
          "output_type": "stream",
          "text": [
            "<tensorflow.python.data.ops.iterator_ops.OwnedIterator object at 0x7f3f42cba550>\n"
          ]
        }
      ],
      "source": [
        "iterator = iter(dataset)\n",
        "print(iterator)"
      ]
    },
    {
      "cell_type": "code",
      "execution_count": 32,
      "metadata": {
        "id": "Th5w5Sff0b16"
      },
      "outputs": [],
      "source": [
        "# For the curious:\n",
        "# Uncomment to see what the dataset iterator is feeding to the agent.\n",
        "# Compare this representation of replay data\n",
        "# to the collection of individual trajectories shown earlier.\n",
        "\n",
        "# iterator.next()"
      ]
    },
    {
      "cell_type": "markdown",
      "metadata": {
        "id": "hBc9lj9VWWtZ"
      },
      "source": [
        "## Training the agent\n",
        "\n",
        "Two things must happen during the training loop:\n",
        "\n",
        "-   collect data from the environment\n",
        "-   use that data to train the agent's neural network(s)\n",
        "\n",
        "This example also periodicially evaluates the policy and prints the current score.\n",
        "\n",
        "The following will take ~5 minutes to run."
      ]
    },
    {
      "cell_type": "code",
      "execution_count": 33,
      "metadata": {
        "id": "0pTbJ3PeyF-u"
      },
      "outputs": [
        {
          "name": "stdout",
          "output_type": "stream",
          "text": [
            "WARNING:tensorflow:From /home/radmada/miniconda3/envs/quant/lib/python3.11/site-packages/tensorflow/python/util/dispatch.py:1260: calling foldr_v2 (from tensorflow.python.ops.functional_ops) with back_prop=False is deprecated and will be removed in a future version.\n",
            "Instructions for updating:\n",
            "back_prop=False is deprecated. Consider using tf.stop_gradient instead.\n",
            "Instead of:\n",
            "results = tf.foldr(fn, elems, back_prop=False)\n",
            "Use:\n",
            "results = tf.nest.map_structure(tf.stop_gradient, tf.foldr(fn, elems))\n"
          ]
        },
        {
          "name": "stderr",
          "output_type": "stream",
          "text": [
            "[reverb/cc/client.cc:165] Sampler and server are owned by the same process (14535) so Table uniform_table is accessed directly without gRPC.\n",
            "[reverb/cc/client.cc:165] Sampler and server are owned by the same process (14535) so Table uniform_table is accessed directly without gRPC.\n",
            "[reverb/cc/client.cc:165] Sampler and server are owned by the same process (14535) so Table uniform_table is accessed directly without gRPC.\n",
            "[reverb/cc/client.cc:165] Sampler and server are owned by the same process (14535) so Table uniform_table is accessed directly without gRPC.\n",
            "[reverb/cc/client.cc:165] Sampler and server are owned by the same process (14535) so Table uniform_table is accessed directly without gRPC.\n",
            "[reverb/cc/client.cc:165] Sampler and server are owned by the same process (14535) so Table uniform_table is accessed directly without gRPC.\n"
          ]
        },
        {
          "name": "stdout",
          "output_type": "stream",
          "text": [
            "step = 200: loss = 48.73290252685547\n",
            "step = 400: loss = 4.453860282897949\n",
            "step = 600: loss = 46.96614074707031\n",
            "step = 800: loss = 50.12440490722656\n",
            "step = 1000: loss = 97.37767028808594\n",
            "step = 1000: Average Return = 30.899999618530273\n",
            "step = 1200: loss = 317.31341552734375\n",
            "step = 1400: loss = 20.276580810546875\n",
            "step = 1600: loss = 22.144424438476562\n",
            "step = 1800: loss = 544.286376953125\n",
            "step = 2000: loss = 96.33192443847656\n",
            "step = 2000: Average Return = 173.60000610351562\n",
            "step = 2200: loss = 124.57872772216797\n",
            "step = 2400: loss = 639.6336059570312\n",
            "step = 2600: loss = 113.6268310546875\n",
            "step = 2800: loss = 1093.34326171875\n",
            "step = 3000: loss = 2309.591552734375\n",
            "step = 3000: Average Return = 200.0\n",
            "step = 3200: loss = 190.28759765625\n",
            "step = 3400: loss = 6968.9228515625\n",
            "step = 3600: loss = 5188.43896484375\n",
            "step = 3800: loss = 521.5908203125\n",
            "step = 4000: loss = 294.2070007324219\n",
            "step = 4000: Average Return = 200.0\n",
            "step = 4200: loss = 377.808837890625\n",
            "step = 4400: loss = 2557.84716796875\n",
            "step = 4600: loss = 159.68861389160156\n",
            "step = 4800: loss = 133.53036499023438\n",
            "step = 5000: loss = 1514.7681884765625\n",
            "step = 5000: Average Return = 200.0\n",
            "step = 5200: loss = 1951.9794921875\n",
            "step = 5400: loss = 161.5187530517578\n",
            "step = 5600: loss = 153.46865844726562\n",
            "step = 5800: loss = 88.0970230102539\n",
            "step = 6000: loss = 431.5088195800781\n",
            "step = 6000: Average Return = 200.0\n",
            "step = 6200: loss = 176.96200561523438\n",
            "step = 6400: loss = 45.53419876098633\n",
            "step = 6600: loss = 139.24588012695312\n",
            "step = 6800: loss = 105.10466003417969\n",
            "step = 7000: loss = 122.78933715820312\n",
            "step = 7000: Average Return = 200.0\n",
            "step = 7200: loss = 251.89100646972656\n",
            "step = 7400: loss = 6323.509765625\n",
            "step = 7600: loss = 5990.2744140625\n",
            "step = 7800: loss = 404.6287841796875\n",
            "step = 8000: loss = 2800.89208984375\n",
            "step = 8000: Average Return = 200.0\n",
            "step = 8200: loss = 2354.40478515625\n",
            "step = 8400: loss = 1369.84326171875\n",
            "step = 8600: loss = 1922.636474609375\n",
            "step = 8800: loss = 1187.8065185546875\n",
            "step = 9000: loss = 1722.0626220703125\n",
            "step = 9000: Average Return = 200.0\n",
            "step = 9200: loss = 108128.4453125\n",
            "step = 9400: loss = 1696.244384765625\n",
            "step = 9600: loss = 1658.45263671875\n",
            "step = 9800: loss = 2620.72705078125\n",
            "step = 10000: loss = 4379.33349609375\n",
            "step = 10000: Average Return = 200.0\n",
            "step = 10200: loss = 3123.7880859375\n",
            "step = 10400: loss = 3924.896728515625\n",
            "step = 10600: loss = 3767.747802734375\n",
            "step = 10800: loss = 91679.6171875\n",
            "step = 11000: loss = 24617.9140625\n",
            "step = 11000: Average Return = 200.0\n",
            "step = 11200: loss = 3025.193359375\n",
            "step = 11400: loss = 891.49072265625\n",
            "step = 11600: loss = 3272.3779296875\n",
            "step = 11800: loss = 1694.73583984375\n",
            "step = 12000: loss = 1421.84130859375\n",
            "step = 12000: Average Return = 199.1999969482422\n",
            "step = 12200: loss = 2051.94189453125\n",
            "step = 12400: loss = 1535.4974365234375\n",
            "step = 12600: loss = 1552.0855712890625\n",
            "step = 12800: loss = 2021.25732421875\n",
            "step = 13000: loss = 1176.24755859375\n",
            "step = 13000: Average Return = 200.0\n",
            "step = 13200: loss = 581.0860595703125\n",
            "step = 13400: loss = 1394.169189453125\n",
            "step = 13600: loss = 578.7926025390625\n",
            "step = 13800: loss = 748.1500244140625\n",
            "step = 14000: loss = 706.6893920898438\n",
            "step = 14000: Average Return = 200.0\n",
            "step = 14200: loss = 467.7607727050781\n",
            "step = 14400: loss = 1860.67919921875\n",
            "step = 14600: loss = 414.1024169921875\n",
            "step = 14800: loss = 4084.52978515625\n",
            "step = 15000: loss = 4045.532958984375\n",
            "step = 15000: Average Return = 200.0\n",
            "step = 15200: loss = 5716.97607421875\n",
            "step = 15400: loss = 875.5592651367188\n",
            "step = 15600: loss = 602.716552734375\n",
            "step = 15800: loss = 377.26641845703125\n",
            "step = 16000: loss = 225.275390625\n",
            "step = 16000: Average Return = 200.0\n",
            "step = 16200: loss = 688.289794921875\n",
            "step = 16400: loss = 3403.201171875\n",
            "step = 16600: loss = 614.3610229492188\n",
            "step = 16800: loss = 3575.464111328125\n",
            "step = 17000: loss = 2156.775390625\n",
            "step = 17000: Average Return = 200.0\n",
            "step = 17200: loss = 3873.510986328125\n",
            "step = 17400: loss = 627.3704833984375\n",
            "step = 17600: loss = 1277.5999755859375\n",
            "step = 17800: loss = 4068.17333984375\n",
            "step = 18000: loss = 4385.7861328125\n",
            "step = 18000: Average Return = 200.0\n",
            "step = 18200: loss = 8099.04296875\n",
            "step = 18400: loss = 5185.7470703125\n",
            "step = 18600: loss = 5161.2529296875\n",
            "step = 18800: loss = 24981.25\n",
            "step = 19000: loss = 7648.76220703125\n",
            "step = 19000: Average Return = 200.0\n",
            "step = 19200: loss = 14803.6728515625\n",
            "step = 19400: loss = 1530694.0\n",
            "step = 19600: loss = 12440.3271484375\n",
            "step = 19800: loss = 13202.9296875\n",
            "step = 20000: loss = 3838070.0\n",
            "step = 20000: Average Return = 200.0\n"
          ]
        }
      ],
      "source": [
        "#@test {\"skip\": true}\n",
        "try:\n",
        "  %%time\n",
        "except:\n",
        "  pass\n",
        "\n",
        "# (Optional) Optimize by wrapping some of the code in a graph using TF function.\n",
        "agent.train = common.function(agent.train)\n",
        "\n",
        "# Reset the train step.\n",
        "agent.train_step_counter.assign(0)\n",
        "\n",
        "# Evaluate the agent's policy once before training.\n",
        "avg_return = compute_avg_return(eval_env, agent.policy, num_eval_episodes)\n",
        "returns = [avg_return]\n",
        "\n",
        "# Reset the environment.\n",
        "time_step = train_py_env.reset()\n",
        "\n",
        "# Create a driver to collect experience.\n",
        "collect_driver = py_driver.PyDriver(\n",
        "    env,\n",
        "    py_tf_eager_policy.PyTFEagerPolicy(\n",
        "      agent.collect_policy, use_tf_function=True),\n",
        "    [rb_observer],\n",
        "    max_steps=collect_steps_per_iteration)\n",
        "\n",
        "for _ in range(num_iterations):\n",
        "\n",
        "  # Collect a few steps and save to the replay buffer.\n",
        "  time_step, _ = collect_driver.run(time_step)\n",
        "\n",
        "  # Sample a batch of data from the buffer and update the agent's network.\n",
        "  experience, unused_info = next(iterator)\n",
        "  train_loss = agent.train(experience).loss\n",
        "\n",
        "  step = agent.train_step_counter.numpy()\n",
        "\n",
        "  if step % log_interval == 0:\n",
        "    print('step = {0}: loss = {1}'.format(step, train_loss))\n",
        "\n",
        "  if step % eval_interval == 0:\n",
        "    avg_return = compute_avg_return(eval_env, agent.policy, num_eval_episodes)\n",
        "    print('step = {0}: Average Return = {1}'.format(step, avg_return))\n",
        "    returns.append(avg_return)"
      ]
    },
    {
      "cell_type": "markdown",
      "metadata": {
        "id": "68jNcA_TiJDq"
      },
      "source": [
        "## Visualization\n"
      ]
    },
    {
      "cell_type": "markdown",
      "metadata": {
        "id": "aO-LWCdbbOIC"
      },
      "source": [
        "### Plots\n",
        "\n",
        "Use `matplotlib.pyplot` to chart how the policy improved during training.\n",
        "\n",
        "One iteration of `Cartpole-v0` consists of 200 time steps. The environment gives a reward of `+1` for each step the pole stays up, so the maximum return for one episode is 200. The charts shows the return increasing towards that maximum each time it is evaluated during training. (It may be a little unstable and not increase monotonically each time.)"
      ]
    },
    {
      "cell_type": "code",
      "execution_count": 34,
      "metadata": {
        "id": "NxtL1mbOYCVO"
      },
      "outputs": [
        {
          "data": {
            "text/plain": [
              "(0.1849997997283932, 250.0)"
            ]
          },
          "execution_count": 34,
          "metadata": {},
          "output_type": "execute_result"
        },
        {
          "data": {
            "image/png": "[encoded data removed]",
            "text/plain": [
              "<Figure size 640x480 with 1 Axes>"
            ]
          },
          "metadata": {},
          "output_type": "display_data"
        }
      ],
      "source": [
        "#@test {\"skip\": true}\n",
        "\n",
        "iterations = range(0, num_iterations + 1, eval_interval)\n",
        "plt.plot(iterations, returns)\n",
        "plt.ylabel('Average Return')\n",
        "plt.xlabel('Iterations')\n",
        "plt.ylim(top=250)"
      ]
    },
    {
      "cell_type": "markdown",
      "metadata": {
        "id": "M7-XpPP99Cy7"
      },
      "source": [
        "### Videos"
      ]
    },
    {
      "cell_type": "markdown",
      "metadata": {
        "id": "9pGfGxSH32gn"
      },
      "source": [
        "Charts are nice. But more exciting is seeing an agent actually performing a task in an environment.\n",
        "\n",
        "First, create a function to embed videos in the notebook."
      ]
    },
    {
      "cell_type": "code",
      "execution_count": 35,
      "metadata": {
        "id": "ULaGr8pvOKbl"
      },
      "outputs": [],
      "source": [
        "def embed_mp4(filename):\n",
        "  \"\"\"Embeds an mp4 file in the notebook.\"\"\"\n",
        "  video = open(filename,'rb').read()\n",
        "  b64 = base64.b64encode(video)\n",
        "  tag = '''\n",
        "  <video width=\"640\" height=\"480\" controls>\n",
        "    <source src=\"data:video/mp4;base64,{0}\" type=\"video/mp4\">\n",
        "  Your browser does not support the video tag.\n",
        "  </video>'''.format(b64.decode())\n",
        "\n",
        "  return IPython.display.HTML(tag)"
      ]
    },
    {
      "cell_type": "markdown",
      "metadata": {
        "id": "9c_PH-pX4Pr5"
      },
      "source": [
        "Now iterate through a few episodes of the Cartpole game with the agent. The underlying Python environment (the one \"inside\" the TensorFlow environment wrapper) provides a `render()` method, which outputs an image of the environment state. These can be collected into a video."
      ]
    },
    {
      "cell_type": "code",
      "execution_count": 36,
      "metadata": {
        "id": "owOVWB158NlF"
      },
      "outputs": [
        {
          "name": "stderr",
          "output_type": "stream",
          "text": [
            "WARNING:root:IMAGEIO FFMPEG_WRITER WARNING: input image is not divisible by macro_block_size=16, resizing from (400, 600) to (400, 608) to ensure video compatibility with most codecs and players. To prevent resizing, make your input image divisible by the macro_block_size or set the macro_block_size to None (risking incompatibility). You may also see a FFMPEG warning concerning speedloss due to data not being aligned.\n",
            "[swscaler @ 0x55c313eba280] Warning: data is not aligned! This can lead to a speed loss\n"
          ]
        },
        {
          "data": {
            "text/html": [
              "\n",
              "  <video width=\"640\" height=\"480\" controls>\n",
              "    <source src=\"data:video/mp4;base64,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\" type=\"video/mp4\">\n",
              "  Your browser does not support the video tag.\n",
              "  </video>"
            ],
            "text/plain": [
              "<IPython.core.display.HTML object>"
            ]
          },
          "execution_count": 36,
          "metadata": {},
          "output_type": "execute_result"
        }
      ],
      "source": [
        "def create_policy_eval_video(policy, filename, num_episodes=5, fps=30):\n",
        "  filename = filename + \".mp4\"\n",
        "  with imageio.get_writer(filename, fps=fps) as video:\n",
        "    for _ in range(num_episodes):\n",
        "      time_step = eval_env.reset()\n",
        "      video.append_data(eval_py_env.render())\n",
        "      while not time_step.is_last():\n",
        "        action_step = policy.action(time_step)\n",
        "        time_step = eval_env.step(action_step.action)\n",
        "        video.append_data(eval_py_env.render())\n",
        "  return embed_mp4(filename)\n",
        "\n",
        "create_policy_eval_video(agent.policy, \"trained-agent\")"
      ]
    },
    {
      "cell_type": "markdown",
      "metadata": {
        "id": "povaAOcZygLw"
      },
      "source": [
        "For fun, compare the trained agent (above) to an agent moving randomly. (It does not do as well.)"
      ]
    },
    {
      "cell_type": "code",
      "execution_count": 37,
      "metadata": {
        "id": "pJZIdC37yNH4"
      },
      "outputs": [
        {
          "name": "stderr",
          "output_type": "stream",
          "text": [
            "WARNING:root:IMAGEIO FFMPEG_WRITER WARNING: input image is not divisible by macro_block_size=16, resizing from (400, 600) to (400, 608) to ensure video compatibility with most codecs and players. To prevent resizing, make your input image divisible by the macro_block_size or set the macro_block_size to None (risking incompatibility). You may also see a FFMPEG warning concerning speedloss due to data not being aligned.\n",
            "[swscaler @ 0x55abc980b280] Warning: data is not aligned! This can lead to a speed loss\n"
          ]
        },
        {
          "data": {
            "text/html": [
              "\n",
              "  <video width=\"640\" height=\"480\" controls>\n",
              "    <source src=\"data:video/mp4;base64,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\" type=\"video/mp4\">\n",
              "  Your browser does not support the video tag.\n",
              "  </video>"
            ],
            "text/plain": [
              "<IPython.core.display.HTML object>"
            ]
          },
          "execution_count": 37,
          "metadata": {},
          "output_type": "execute_result"
        }
      ],
      "source": [
        "create_policy_eval_video(random_policy, \"random-agent\")"
      ]
    }
  ],
  "metadata": {
    "colab": {
      "name": "DQN Tutorial.ipynb",
      "private_outputs": true,
      "provenance": [],
      "toc_visible": true
    },
    "kernelspec": {
      "display_name": "Python 3",
      "language": "python",
      "name": "python3"
    },
    "language_info": {
      "codemirror_mode": {
        "name": "ipython",
        "version": 3
      },
      "file_extension": ".py",
      "mimetype": "text/x-python",
      "name": "python",
      "nbconvert_exporter": "python",
      "pygments_lexer": "ipython3",
      "version": "3.11.8"
    },
    "pycharm": {
      "stem_cell": {
        "cell_type": "raw",
        "metadata": {
          "collapsed": false
        },
        "source": []
      }
    }
  },
  "nbformat": 4,
  "nbformat_minor": 0
}
