{
 "cells": [
  {
   "cell_type": "markdown",
   "id": "7a8c9ac8",
   "metadata": {
    "id": "oaDoHbxVH0CW",
    "papermill": {
     "duration": 0.007424,
     "end_time": "2024-03-15T22:16:03.936009",
     "exception": false,
     "start_time": "2024-03-15T22:16:03.928585",
     "status": "completed"
    },
    "tags": []
   },
   "source": [
    "# Deep Q-Learning Applied to Algorithmic Trading\n",
    "\n",
    "<a href=\"https://www.kaggle.com/code/addarm/deep-q-rl-with-algorithmic-trading-policy\" target=\"_blank\"><img align=\"left\" alt=\"Kaggle\" title=\"Open in Kaggle\" src=\"https://kaggle.com/static/images/open-in-kaggle.svg\"></a>\n",
    "\n",
    "\n",
    "<a href=\"https://colab.research.google.com/drive/1FTj65b2DA8oFgvmmjLc0XIwtII32PwcM?usp=sharing\" target=\"_parent\"><img src=\"https://colab.research.google.com/assets/colab-badge.svg\" alt=\"Open In Colab\"/></a>\n"
   ]
  },
  {
   "cell_type": "markdown",
   "id": "81ceef72",
   "metadata": {
    "id": "fopVWzH_sxr-",
    "papermill": {
     "duration": 0.006719,
     "end_time": "2024-03-15T22:16:03.950640",
     "exception": false,
     "start_time": "2024-03-15T22:16:03.943921",
     "status": "completed"
    },
    "tags": []
   },
   "source": [
    "![\"Pavlov's trader dog, DALEE 2024\"](https://github.com/adamd1985/Deep-Q-Learning-Applied-to-Algorithmic-Trading/blob/main/images/rl_banner.PNG?raw=true)"
   ]
  },
  {
   "cell_type": "markdown",
   "id": "ffe013c8",
   "metadata": {
    "id": "xqvaSLkfsxr-",
    "papermill": {
     "duration": 0.006418,
     "end_time": "2024-03-15T22:16:03.963674",
     "exception": false,
     "start_time": "2024-03-15T22:16:03.957256",
     "status": "completed"
    },
    "tags": []
   },
   "source": [
    "In the book *\"A Random Walk Down Wall Street\"*, the author Burton G. Malkiel claimed that: “a blindfolded monkey throwing darts at a newspaper's financial pages could select a portfolio that would do just as well as one carefully selected by experts.”.\n",
    "\n",
    "What if instead of monkey, it was Pavlov's dog trained with reinforcement learning to select the optimal portfolio strategy? In this article, Reinforcement Learning (RL) is the one used in machine learning, where an agent learns actions in an environment that maximizes their value. The agent learns from the outcomes of its actions, without being explicitly programmed with task-specific rules,\n",
    "\n",
    "The goal of any RL algo, is to find value-maximizing policy (*π*):\n",
    "$$\n",
    "\\pi* = \\sum_{k=0}^{\\infty} \\gamma^k R_{t+k+1}\n",
    "$$\n",
    "Where *γ (0 ≤ γ ≤ 1)* is the discounting factor to control the agent's rewards, *t* is a timestep and *R* is the returns in that step. The policy in RL is the probability of taking **action *a*** in **state *s***.\n",
    "\n",
    "The algo we will adopt is **Q-Learning**, a model-free RL algorithm, that aims to indirectly learn the policy through the **VALUE** of an action for a discrete state its in, rather the policy itself. It's useful in our case, as it doesn't need to model the environment - in our case, the random capital markets.\n",
    "\n",
    "Estimating the **Q-Value** is done through the Bellman's equation:\n",
    "\n",
    "$$\n",
    "Q^*(s, a) = \\mathbb{E}[R_{t+1} + \\gamma \\max_{a'} Q^*(s', a') \\mid s, a]\n",
    "$$\n",
    "\n",
    "These Q-values are placed in the Q-Tables and used by the agent as look-up, to find all possible actions' Q-values from the current state, and choose the action with the highest Q-value (exploitation). This is good within a finite space, but not in a stochastic environment with limitless combinations, a problem which we will solve with our neural-network.\n",
    "\n",
    "This agent designed in this article has been inspired by the paper of *Théate, Thibaut and Ernst, Damien (2021)*."
   ]
  },
  {
   "cell_type": "markdown",
   "id": "5b2ed2b1",
   "metadata": {
    "id": "aM59cTClH0CZ",
    "papermill": {
     "duration": 0.006463,
     "end_time": "2024-03-15T22:16:03.976902",
     "exception": false,
     "start_time": "2024-03-15T22:16:03.970439",
     "status": "completed"
    },
    "tags": []
   },
   "source": [
    "```BibTeX\n",
    "@article{theate2021application,\n",
    "  title={An application of deep reinforcement learning to algorithmic trading},\n",
    "  author={Th{\\'e}ate, Thibaut and Ernst, Damien},\n",
    "  journal={Expert Systems with Applications},\n",
    "  volume={173},\n",
    "  pages={114632},\n",
    "  year={2021},\n",
    "  publisher={Elsevier}\n",
    "}\n",
    "```"
   ]
  },
  {
   "cell_type": "code",
   "execution_count": 1,
   "id": "ea1621ad",
   "metadata": {
    "execution": {
     "iopub.execute_input": "2024-03-15T22:16:03.991580Z",
     "iopub.status.busy": "2024-03-15T22:16:03.991347Z",
     "iopub.status.idle": "2024-03-15T22:16:04.012316Z",
     "shell.execute_reply": "2024-03-15T22:16:04.011751Z"
    },
    "executionInfo": {
     "elapsed": 703809,
     "status": "ok",
     "timestamp": 1710410570017,
     "user": {
      "displayName": "Adam Darmanin",
      "userId": "00262451996831505471"
     },
     "user_tz": -60
    },
    "id": "Q4-GoceIIfT_",
    "outputId": "008e6278-a966-4e09-e848-d830d601d29f",
    "papermill": {
     "duration": 0.030615,
     "end_time": "2024-03-15T22:16:04.014048",
     "exception": false,
     "start_time": "2024-03-15T22:16:03.983433",
     "status": "completed"
    },
    "tags": []
   },
   "outputs": [],
   "source": [
    "import os\n",
    "os.environ['TF_USE_LEGACY_KERAS'] = '1' # KERAS 2 only for tfagents\n",
    "\n",
    "import warnings\n",
    "warnings.filterwarnings(\"ignore\")\n",
    "\n",
    "try:\n",
    "  import google.colab\n",
    "  from google.colab import files\n",
    "  from google.colab import drive\n",
    "\n",
    "  %pip install scikit-learn\n",
    "  %pip install matplotlib\n",
    "  %pip install tf-agents[reverb]\n",
    "  %pip install shutil\n",
    "  %pip install yfinance\n",
    "  %pip install pyarrow\n",
    "  %pip install ta\n",
    "  %pip install pandas_ta\n",
    "  %pip install tqdm\n",
    "\n",
    "  IN_COLAB = True\n",
    "  GDRIVE = '/content/drive'\n",
    "  drive.mount(GDRIVE)\n",
    "  print(\"Mounted on COLLAB\")\n",
    "except:\n",
    "  GDRIVE = None\n",
    "  IN_COLAB = False\n",
    "  files = None"
   ]
  },
  {
   "cell_type": "code",
   "execution_count": 2,
   "id": "e7044ea2",
   "metadata": {
    "execution": {
     "iopub.execute_input": "2024-03-15T22:16:04.029149Z",
     "iopub.status.busy": "2024-03-15T22:16:04.028928Z",
     "iopub.status.idle": "2024-03-15T22:17:13.535869Z",
     "shell.execute_reply": "2024-03-15T22:17:13.535067Z"
    },
    "executionInfo": {
     "elapsed": 13,
     "status": "ok",
     "timestamp": 1710410570017,
     "user": {
      "displayName": "Adam Darmanin",
      "userId": "00262451996831505471"
     },
     "user_tz": -60
    },
    "id": "C39UfWDmzYvL",
    "papermill": {
     "duration": 69.516798,
     "end_time": "2024-03-15T22:17:13.537661",
     "exception": false,
     "start_time": "2024-03-15T22:16:04.020863",
     "status": "completed"
    },
    "tags": []
   },
   "outputs": [
    {
     "name": "stdout",
     "output_type": "stream",
     "text": [
      "Running in Kaggle...\n"
     ]
    },
    {
     "name": "stdout",
     "output_type": "stream",
     "text": [
      "Requirement already satisfied: scikit-learn in /usr/local/lib/python3.10/site-packages (1.4.1.post1)\r\n"
     ]
    },
    {
     "name": "stdout",
     "output_type": "stream",
     "text": [
      "Requirement already satisfied: numpy<2.0,>=1.19.5 in /usr/local/lib/python3.10/site-packages (from scikit-learn) (1.26.4)\r\n",
      "Requirement already satisfied: joblib>=1.2.0 in /usr/local/lib/python3.10/site-packages (from scikit-learn) (1.3.2)\r\n",
      "Requirement already satisfied: scipy>=1.6.0 in /usr/local/lib/python3.10/site-packages (from scikit-learn) (1.12.0)\r\n",
      "Requirement already satisfied: threadpoolctl>=2.0.0 in /usr/local/lib/python3.10/site-packages (from scikit-learn) (3.3.0)\r\n"
     ]
    },
    {
     "name": "stdout",
     "output_type": "stream",
     "text": [
      "\u001b[33mWARNING: Running pip as the 'root' user can result in broken permissions and conflicting behaviour with the system package manager. It is recommended to use a virtual environment instead: https://pip.pypa.io/warnings/venv\u001b[0m\u001b[33m\r\n",
      "\u001b[0m"
     ]
    },
    {
     "name": "stdout",
     "output_type": "stream",
     "text": [
      "\r\n",
      "\u001b[1m[\u001b[0m\u001b[34;49mnotice\u001b[0m\u001b[1;39;49m]\u001b[0m\u001b[39;49m A new release of pip is available: \u001b[0m\u001b[31;49m23.0.1\u001b[0m\u001b[39;49m -> \u001b[0m\u001b[32;49m24.0\u001b[0m\r\n",
      "\u001b[1m[\u001b[0m\u001b[34;49mnotice\u001b[0m\u001b[1;39;49m]\u001b[0m\u001b[39;49m To update, run: \u001b[0m\u001b[32;49mpip install --upgrade pip\u001b[0m\r\n"
     ]
    },
    {
     "name": "stdout",
     "output_type": "stream",
     "text": [
      "Note: you may need to restart the kernel to use updated packages.\n"
     ]
    },
    {
     "name": "stdout",
     "output_type": "stream",
     "text": [
      "Requirement already satisfied: matplotlib in /usr/local/lib/python3.10/site-packages (3.8.3)\r\n",
      "Requirement already satisfied: pillow>=8 in /usr/local/lib/python3.10/site-packages (from matplotlib) (10.2.0)\r\n",
      "Requirement already satisfied: fonttools>=4.22.0 in /usr/local/lib/python3.10/site-packages (from matplotlib) (4.49.0)\r\n",
      "Requirement already satisfied: kiwisolver>=1.3.1 in /usr/local/lib/python3.10/site-packages (from matplotlib) (1.4.5)\r\n"
     ]
    },
    {
     "name": "stdout",
     "output_type": "stream",
     "text": [
      "Requirement already satisfied: numpy<2,>=1.21 in /usr/local/lib/python3.10/site-packages (from matplotlib) (1.26.4)\r\n",
      "Requirement already satisfied: pyparsing>=2.3.1 in /usr/local/lib/python3.10/site-packages (from matplotlib) (3.1.1)\r\n",
      "Requirement already satisfied: packaging>=20.0 in /usr/local/lib/python3.10/site-packages (from matplotlib) (23.2)\r\n",
      "Requirement already satisfied: python-dateutil>=2.7 in /usr/local/lib/python3.10/site-packages (from matplotlib) (2.8.2)\r\n",
      "Requirement already satisfied: contourpy>=1.0.1 in /usr/local/lib/python3.10/site-packages (from matplotlib) (1.2.0)\r\n",
      "Requirement already satisfied: cycler>=0.10 in /usr/local/lib/python3.10/site-packages (from matplotlib) (0.12.1)\r\n"
     ]
    },
    {
     "name": "stdout",
     "output_type": "stream",
     "text": [
      "Requirement already satisfied: six>=1.5 in /usr/local/lib/python3.10/site-packages (from python-dateutil>=2.7->matplotlib) (1.16.0)\r\n"
     ]
    },
    {
     "name": "stdout",
     "output_type": "stream",
     "text": [
      "\u001b[33mWARNING: Running pip as the 'root' user can result in broken permissions and conflicting behaviour with the system package manager. It is recommended to use a virtual environment instead: https://pip.pypa.io/warnings/venv\u001b[0m\u001b[33m\r\n",
      "\u001b[0m"
     ]
    },
    {
     "name": "stdout",
     "output_type": "stream",
     "text": [
      "\r\n",
      "\u001b[1m[\u001b[0m\u001b[34;49mnotice\u001b[0m\u001b[1;39;49m]\u001b[0m\u001b[39;49m A new release of pip is available: \u001b[0m\u001b[31;49m23.0.1\u001b[0m\u001b[39;49m -> \u001b[0m\u001b[32;49m24.0\u001b[0m\r\n",
      "\u001b[1m[\u001b[0m\u001b[34;49mnotice\u001b[0m\u001b[1;39;49m]\u001b[0m\u001b[39;49m To update, run: \u001b[0m\u001b[32;49mpip install --upgrade pip\u001b[0m\r\n"
     ]
    },
    {
     "name": "stdout",
     "output_type": "stream",
     "text": [
      "Note: you may need to restart the kernel to use updated packages.\n"
     ]
    },
    {
     "name": "stdout",
     "output_type": "stream",
     "text": [
      "Collecting tf-agents[reverb]\r\n"
     ]
    },
    {
     "name": "stdout",
     "output_type": "stream",
     "text": [
      "  Downloading tf_agents-0.19.0-py3-none-any.whl (1.4 MB)\r\n",
      "\u001b[?25l     \u001b[90m━━━━━━━━━━━━━━━━━━━━━━━━━━━━━━━━━━━━━━━━\u001b[0m \u001b[32m0.0/1.4 MB\u001b[0m \u001b[31m?\u001b[0m eta \u001b[36m-:--:--\u001b[0m"
     ]
    },
    {
     "name": "stdout",
     "output_type": "stream",
     "text": [
      "\r",
      "\u001b[2K     \u001b[91m╸\u001b[0m\u001b[90m━━━━━━━━━━━━━━━━━━━━━━━━━━━━━━━━━━━━━━━\u001b[0m \u001b[32m0.0/1.4 MB\u001b[0m \u001b[31m1.4 MB/s\u001b[0m eta \u001b[36m0:00:01\u001b[0m\r",
      "\u001b[2K     \u001b[91m━\u001b[0m\u001b[90m╺\u001b[0m\u001b[90m━━━━━━━━━━━━━━━━━━━━━━━━━━━━━━━━━━━━━━\u001b[0m \u001b[32m0.1/1.4 MB\u001b[0m \u001b[31m870.7 kB/s\u001b[0m eta \u001b[36m0:00:02\u001b[0m"
     ]
    },
    {
     "name": "stdout",
     "output_type": "stream",
     "text": [
      "\r",
      "\u001b[2K     \u001b[91m━━━━\u001b[0m\u001b[90m╺\u001b[0m\u001b[90m━━━━━━━━━━━━━━━━━━━━━━━━━━━━━━━━━━━\u001b[0m \u001b[32m0.1/1.4 MB\u001b[0m \u001b[31m1.4 MB/s\u001b[0m eta \u001b[36m0:00:01\u001b[0m"
     ]
    },
    {
     "name": "stdout",
     "output_type": "stream",
     "text": [
      "\r",
      "\u001b[2K     \u001b[91m━━━━━━━━\u001b[0m\u001b[90m╺\u001b[0m\u001b[90m━━━━━━━━━━━━━━━━━━━━━━━━━━━━━━━\u001b[0m \u001b[32m0.3/1.4 MB\u001b[0m \u001b[31m2.0 MB/s\u001b[0m eta \u001b[36m0:00:01\u001b[0m\r",
      "\u001b[2K     \u001b[91m━━━━━━━━━━━━━━━\u001b[0m\u001b[90m╺\u001b[0m\u001b[90m━━━━━━━━━━━━━━━━━━━━━━━━\u001b[0m \u001b[32m0.5/1.4 MB\u001b[0m \u001b[31m3.0 MB/s\u001b[0m eta \u001b[36m0:00:01\u001b[0m"
     ]
    },
    {
     "name": "stdout",
     "output_type": "stream",
     "text": [
      "\r",
      "\u001b[2K     \u001b[91m━━━━━━━━━━━━━━━━━━━━━━━━━━━\u001b[0m\u001b[91m╸\u001b[0m\u001b[90m━━━━━━━━━━━━\u001b[0m \u001b[32m1.0/1.4 MB\u001b[0m \u001b[31m4.6 MB/s\u001b[0m eta \u001b[36m0:00:01\u001b[0m"
     ]
    },
    {
     "name": "stdout",
     "output_type": "stream",
     "text": [
      "\r",
      "\u001b[2K     \u001b[90m━━━━━━━━━━━━━━━━━━━━━━━━━━━━━━━━━━━━━━━━\u001b[0m \u001b[32m1.4/1.4 MB\u001b[0m \u001b[31m5.7 MB/s\u001b[0m eta \u001b[36m0:00:00\u001b[0m\r\n",
      "\u001b[?25hRequirement already satisfied: tensorflow-probability~=0.23.0 in /usr/local/lib/python3.10/site-packages (from tf-agents[reverb]) (0.23.0)\r\n"
     ]
    },
    {
     "name": "stdout",
     "output_type": "stream",
     "text": [
      "Collecting pygame==2.1.3\r\n"
     ]
    },
    {
     "name": "stdout",
     "output_type": "stream",
     "text": [
      "  Downloading pygame-2.1.3-cp310-cp310-manylinux_2_17_x86_64.manylinux2014_x86_64.whl (13.7 MB)\r\n",
      "\u001b[?25l     \u001b[90m━━━━━━━━━━━━━━━━━━━━━━━━━━━━━━━━━━━━━━━━\u001b[0m \u001b[32m0.0/13.7 MB\u001b[0m \u001b[31m?\u001b[0m eta \u001b[36m-:--:--\u001b[0m"
     ]
    },
    {
     "name": "stdout",
     "output_type": "stream",
     "text": [
      "\r",
      "\u001b[2K     \u001b[91m━━━━\u001b[0m\u001b[90m╺\u001b[0m\u001b[90m━━━━━━━━━━━━━━━━━━━━━━━━━━━━━━━━━━━\u001b[0m \u001b[32m1.4/13.7 MB\u001b[0m \u001b[31m84.1 MB/s\u001b[0m eta \u001b[36m0:00:01\u001b[0m\r",
      "\u001b[2K     \u001b[91m━━━━━━━━━━━\u001b[0m\u001b[91m╸\u001b[0m\u001b[90m━━━━━━━━━━━━━━━━━━━━━━━━━━━━\u001b[0m \u001b[32m4.1/13.7 MB\u001b[0m \u001b[31m67.0 MB/s\u001b[0m eta \u001b[36m0:00:01\u001b[0m"
     ]
    },
    {
     "name": "stdout",
     "output_type": "stream",
     "text": [
      "\r",
      "\u001b[2K     \u001b[91m━━━━━━━━━━━━━━━━━━━━━━━\u001b[0m\u001b[91m╸\u001b[0m\u001b[90m━━━━━━━━━━━━━━━━\u001b[0m \u001b[32m8.2/13.7 MB\u001b[0m \u001b[31m80.3 MB/s\u001b[0m eta \u001b[36m0:00:01\u001b[0m"
     ]
    },
    {
     "name": "stdout",
     "output_type": "stream",
     "text": [
      "\r",
      "\u001b[2K     \u001b[91m━━━━━━━━━━━━━━━━━━━━━━━━━━━━━━━━━\u001b[0m\u001b[90m╺\u001b[0m\u001b[90m━━━━━━\u001b[0m \u001b[32m11.4/13.7 MB\u001b[0m \u001b[31m82.4 MB/s\u001b[0m eta \u001b[36m0:00:01\u001b[0m\r",
      "\u001b[2K     \u001b[91m━━━━━━━━━━━━━━━━━━━━━━━━━━━━━━━━━━━━━━━\u001b[0m\u001b[91m╸\u001b[0m \u001b[32m13.7/13.7 MB\u001b[0m \u001b[31m91.2 MB/s\u001b[0m eta \u001b[36m0:00:01\u001b[0m"
     ]
    },
    {
     "name": "stdout",
     "output_type": "stream",
     "text": [
      "\r",
      "\u001b[2K     \u001b[91m━━━━━━━━━━━━━━━━━━━━━━━━━━━━━━━━━━━━━━━\u001b[0m\u001b[91m╸\u001b[0m \u001b[32m13.7/13.7 MB\u001b[0m \u001b[31m91.2 MB/s\u001b[0m eta \u001b[36m0:00:01\u001b[0m"
     ]
    },
    {
     "name": "stdout",
     "output_type": "stream",
     "text": [
      "\r",
      "\u001b[2K     \u001b[91m━━━━━━━━━━━━━━━━━━━━━━━━━━━━━━━━━━━━━━━\u001b[0m\u001b[91m╸\u001b[0m \u001b[32m13.7/13.7 MB\u001b[0m \u001b[31m91.2 MB/s\u001b[0m eta \u001b[36m0:00:01\u001b[0m\r",
      "\u001b[2K     \u001b[90m━━━━━━━━━━━━━━━━━━━━━━━━━━━━━━━━━━━━━━━━\u001b[0m \u001b[32m13.7/13.7 MB\u001b[0m \u001b[31m49.6 MB/s\u001b[0m eta \u001b[36m0:00:00\u001b[0m\r\n",
      "\u001b[?25h"
     ]
    },
    {
     "name": "stdout",
     "output_type": "stream",
     "text": [
      "Requirement already satisfied: numpy>=1.19.0 in /usr/local/lib/python3.10/site-packages (from tf-agents[reverb]) (1.26.4)\r\n",
      "Requirement already satisfied: absl-py>=0.6.1 in /usr/local/lib/python3.10/site-packages (from tf-agents[reverb]) (1.4.0)\r\n",
      "Requirement already satisfied: cloudpickle>=1.3 in /usr/local/lib/python3.10/site-packages (from tf-agents[reverb]) (3.0.0)\r\n"
     ]
    },
    {
     "name": "stdout",
     "output_type": "stream",
     "text": [
      "Collecting gym<=0.23.0,>=0.17.0\r\n"
     ]
    },
    {
     "name": "stdout",
     "output_type": "stream",
     "text": [
      "  Downloading gym-0.23.0.tar.gz (624 kB)\r\n",
      "\u001b[?25l     \u001b[90m━━━━━━━━━━━━━━━━━━━━━━━━━━━━━━━━━━━━━━━━\u001b[0m \u001b[32m0.0/624.4 kB\u001b[0m \u001b[31m?\u001b[0m eta \u001b[36m-:--:--\u001b[0m\r",
      "\u001b[2K     \u001b[90m━━━━━━━━━━━━━━━━━━━━━━━━━━━━━━━━━━━━━━\u001b[0m \u001b[32m624.4/624.4 kB\u001b[0m \u001b[31m34.2 MB/s\u001b[0m eta \u001b[36m0:00:00\u001b[0m\r\n",
      "\u001b[?25h"
     ]
    },
    {
     "name": "stdout",
     "output_type": "stream",
     "text": [
      "  Installing build dependencies ... \u001b[?25l-"
     ]
    },
    {
     "name": "stdout",
     "output_type": "stream",
     "text": [
      "\b \b\\"
     ]
    },
    {
     "name": "stdout",
     "output_type": "stream",
     "text": [
      "\b \b|"
     ]
    },
    {
     "name": "stdout",
     "output_type": "stream",
     "text": [
      "\b \b/"
     ]
    },
    {
     "name": "stdout",
     "output_type": "stream",
     "text": [
      "\b \b-"
     ]
    },
    {
     "name": "stdout",
     "output_type": "stream",
     "text": [
      "\b \b\\"
     ]
    },
    {
     "name": "stdout",
     "output_type": "stream",
     "text": [
      "\b \bdone\r\n"
     ]
    },
    {
     "name": "stdout",
     "output_type": "stream",
     "text": [
      "\u001b[?25h  Getting requirements to build wheel ... \u001b[?25l-"
     ]
    },
    {
     "name": "stdout",
     "output_type": "stream",
     "text": [
      "\b \bdone\r\n"
     ]
    },
    {
     "name": "stdout",
     "output_type": "stream",
     "text": [
      "\u001b[?25h  Preparing metadata (pyproject.toml) ... \u001b[?25l-"
     ]
    },
    {
     "name": "stdout",
     "output_type": "stream",
     "text": [
      "\b \bdone\r\n",
      "\u001b[?25hRequirement already satisfied: six>=1.10.0 in /usr/local/lib/python3.10/site-packages (from tf-agents[reverb]) (1.16.0)\r\n",
      "Requirement already satisfied: protobuf>=3.11.3 in /usr/local/lib/python3.10/site-packages (from tf-agents[reverb]) (3.20.3)\r\n",
      "Requirement already satisfied: gin-config>=0.4.0 in /usr/local/lib/python3.10/site-packages (from tf-agents[reverb]) (0.5.0)\r\n",
      "Requirement already satisfied: pillow in /usr/local/lib/python3.10/site-packages (from tf-agents[reverb]) (10.2.0)\r\n",
      "Requirement already satisfied: wrapt>=1.11.1 in /usr/local/lib/python3.10/site-packages (from tf-agents[reverb]) (1.14.1)\r\n"
     ]
    },
    {
     "name": "stdout",
     "output_type": "stream",
     "text": [
      "Collecting typing-extensions==4.5.0\r\n"
     ]
    },
    {
     "name": "stdout",
     "output_type": "stream",
     "text": [
      "  Downloading typing_extensions-4.5.0-py3-none-any.whl (27 kB)\r\n"
     ]
    },
    {
     "name": "stdout",
     "output_type": "stream",
     "text": [
      "Collecting rlds\r\n",
      "  Downloading rlds-0.1.8-py3-none-manylinux2010_x86_64.whl (48 kB)\r\n",
      "\u001b[?25l     \u001b[90m━━━━━━━━━━━━━━━━━━━━━━━━━━━━━━━━━━━━━━━━\u001b[0m \u001b[32m0.0/48.4 kB\u001b[0m \u001b[31m?\u001b[0m eta \u001b[36m-:--:--\u001b[0m"
     ]
    },
    {
     "name": "stdout",
     "output_type": "stream",
     "text": [
      "\r",
      "\u001b[2K     \u001b[90m━━━━━━━━━━━━━━━━━━━━━━━━━━━━━━━━━━━━━━━━\u001b[0m \u001b[32m48.4/48.4 kB\u001b[0m \u001b[31m4.8 MB/s\u001b[0m eta \u001b[36m0:00:00\u001b[0m\r\n",
      "\u001b[?25h"
     ]
    },
    {
     "name": "stdout",
     "output_type": "stream",
     "text": [
      "Collecting dm-reverb~=0.14.0\r\n"
     ]
    },
    {
     "name": "stdout",
     "output_type": "stream",
     "text": [
      "  Downloading dm_reverb-0.14.0-cp310-cp310-manylinux2014_x86_64.whl (6.4 MB)\r\n",
      "\u001b[?25l     \u001b[90m━━━━━━━━━━━━━━━━━━━━━━━━━━━━━━━━━━━━━━━━\u001b[0m \u001b[32m0.0/6.4 MB\u001b[0m \u001b[31m?\u001b[0m eta \u001b[36m-:--:--\u001b[0m"
     ]
    },
    {
     "name": "stdout",
     "output_type": "stream",
     "text": [
      "\r",
      "\u001b[2K     \u001b[91m━━━━━━━━━━━━━━━━━━━━━━━━━\u001b[0m\u001b[91m╸\u001b[0m\u001b[90m━━━━━━━━━━━━━━\u001b[0m \u001b[32m4.1/6.4 MB\u001b[0m \u001b[31m180.2 MB/s\u001b[0m eta \u001b[36m0:00:01\u001b[0m"
     ]
    },
    {
     "name": "stdout",
     "output_type": "stream",
     "text": [
      "\r",
      "\u001b[2K     \u001b[91m━━━━━━━━━━━━━━━━━━━━━━━━━━━━━━━━━━━━━━━\u001b[0m\u001b[91m╸\u001b[0m \u001b[32m6.3/6.4 MB\u001b[0m \u001b[31m103.6 MB/s\u001b[0m eta \u001b[36m0:00:01\u001b[0m\r",
      "\u001b[2K     \u001b[91m━━━━━━━━━━━━━━━━━━━━━━━━━━━━━━━━━━━━━━━\u001b[0m\u001b[91m╸\u001b[0m \u001b[32m6.3/6.4 MB\u001b[0m \u001b[31m103.6 MB/s\u001b[0m eta \u001b[36m0:00:01\u001b[0m\r",
      "\u001b[2K     \u001b[90m━━━━━━━━━━━━━━━━━━━━━━━━━━━━━━━━━━━━━━━━\u001b[0m \u001b[32m6.4/6.4 MB\u001b[0m \u001b[31m58.0 MB/s\u001b[0m eta \u001b[36m0:00:00\u001b[0m\r\n",
      "\u001b[?25h"
     ]
    },
    {
     "name": "stdout",
     "output_type": "stream",
     "text": [
      "Requirement already satisfied: tensorflow~=2.15.0 in /usr/local/lib/python3.10/site-packages (from tf-agents[reverb]) (2.15.0)\r\n",
      "Requirement already satisfied: dm-tree in /usr/local/lib/python3.10/site-packages (from dm-reverb~=0.14.0->tf-agents[reverb]) (0.1.8)\r\n"
     ]
    },
    {
     "name": "stdout",
     "output_type": "stream",
     "text": [
      "Collecting portpicker\r\n"
     ]
    },
    {
     "name": "stdout",
     "output_type": "stream",
     "text": [
      "  Downloading portpicker-1.6.0-py3-none-any.whl (16 kB)\r\n",
      "Requirement already satisfied: gym-notices>=0.0.4 in /usr/local/lib/python3.10/site-packages (from gym<=0.23.0,>=0.17.0->tf-agents[reverb]) (0.0.8)\r\n"
     ]
    },
    {
     "name": "stdout",
     "output_type": "stream",
     "text": [
      "Requirement already satisfied: tensorflow-io-gcs-filesystem>=0.23.1 in /usr/local/lib/python3.10/site-packages (from tensorflow~=2.15.0->tf-agents[reverb]) (0.36.0)\r\n",
      "Requirement already satisfied: grpcio<2.0,>=1.24.3 in /usr/local/lib/python3.10/site-packages (from tensorflow~=2.15.0->tf-agents[reverb]) (1.62.0)\r\n",
      "Requirement already satisfied: tensorflow-estimator<2.16,>=2.15.0 in /usr/local/lib/python3.10/site-packages (from tensorflow~=2.15.0->tf-agents[reverb]) (2.15.0)\r\n",
      "Requirement already satisfied: tensorboard<2.16,>=2.15 in /usr/local/lib/python3.10/site-packages (from tensorflow~=2.15.0->tf-agents[reverb]) (2.15.2)\r\n",
      "Requirement already satisfied: packaging in /usr/local/lib/python3.10/site-packages (from tensorflow~=2.15.0->tf-agents[reverb]) (23.2)\r\n",
      "Requirement already satisfied: gast!=0.5.0,!=0.5.1,!=0.5.2,>=0.2.1 in /usr/local/lib/python3.10/site-packages (from tensorflow~=2.15.0->tf-agents[reverb]) (0.5.4)\r\n"
     ]
    },
    {
     "name": "stdout",
     "output_type": "stream",
     "text": [
      "Collecting keras<2.16,>=2.15.0\r\n"
     ]
    },
    {
     "name": "stdout",
     "output_type": "stream",
     "text": [
      "  Downloading keras-2.15.0-py3-none-any.whl (1.7 MB)\r\n",
      "\u001b[?25l     \u001b[90m━━━━━━━━━━━━━━━━━━━━━━━━━━━━━━━━━━━━━━━━\u001b[0m \u001b[32m0.0/1.7 MB\u001b[0m \u001b[31m?\u001b[0m eta \u001b[36m-:--:--\u001b[0m"
     ]
    },
    {
     "name": "stdout",
     "output_type": "stream",
     "text": [
      "\r",
      "\u001b[2K     \u001b[90m━━━━━━━━━━━━━━━━━━━━━━━━━━━━━━━━━━━━━━━━\u001b[0m \u001b[32m1.7/1.7 MB\u001b[0m \u001b[31m53.7 MB/s\u001b[0m eta \u001b[36m0:00:00\u001b[0m\r\n",
      "\u001b[?25hRequirement already satisfied: h5py>=2.9.0 in /usr/local/lib/python3.10/site-packages (from tensorflow~=2.15.0->tf-agents[reverb]) (3.10.0)\r\n",
      "Requirement already satisfied: flatbuffers>=23.5.26 in /usr/local/lib/python3.10/site-packages (from tensorflow~=2.15.0->tf-agents[reverb]) (23.5.26)\r\n",
      "Requirement already satisfied: setuptools in /usr/local/lib/python3.10/site-packages (from tensorflow~=2.15.0->tf-agents[reverb]) (65.5.1)\r\n",
      "Requirement already satisfied: astunparse>=1.6.0 in /usr/local/lib/python3.10/site-packages (from tensorflow~=2.15.0->tf-agents[reverb]) (1.6.3)\r\n",
      "Requirement already satisfied: google-pasta>=0.1.1 in /usr/local/lib/python3.10/site-packages (from tensorflow~=2.15.0->tf-agents[reverb]) (0.2.0)\r\n",
      "Requirement already satisfied: opt-einsum>=2.3.2 in /usr/local/lib/python3.10/site-packages (from tensorflow~=2.15.0->tf-agents[reverb]) (3.3.0)\r\n",
      "Requirement already satisfied: termcolor>=1.1.0 in /usr/local/lib/python3.10/site-packages (from tensorflow~=2.15.0->tf-agents[reverb]) (2.4.0)\r\n",
      "Requirement already satisfied: libclang>=13.0.0 in /usr/local/lib/python3.10/site-packages (from tensorflow~=2.15.0->tf-agents[reverb]) (16.0.6)\r\n",
      "Requirement already satisfied: ml-dtypes~=0.2.0 in /usr/local/lib/python3.10/site-packages (from tensorflow~=2.15.0->tf-agents[reverb]) (0.2.0)\r\n"
     ]
    },
    {
     "name": "stdout",
     "output_type": "stream",
     "text": [
      "Requirement already satisfied: decorator in /usr/local/lib/python3.10/site-packages (from tensorflow-probability~=0.23.0->tf-agents[reverb]) (5.1.1)\r\n"
     ]
    },
    {
     "name": "stdout",
     "output_type": "stream",
     "text": [
      "Requirement already satisfied: wheel<1.0,>=0.23.0 in /usr/local/lib/python3.10/site-packages (from astunparse>=1.6.0->tensorflow~=2.15.0->tf-agents[reverb]) (0.42.0)\r\n"
     ]
    },
    {
     "name": "stdout",
     "output_type": "stream",
     "text": [
      "Requirement already satisfied: tensorboard-data-server<0.8.0,>=0.7.0 in /usr/local/lib/python3.10/site-packages (from tensorboard<2.16,>=2.15->tensorflow~=2.15.0->tf-agents[reverb]) (0.7.2)\r\n",
      "Requirement already satisfied: requests<3,>=2.21.0 in /usr/local/lib/python3.10/site-packages (from tensorboard<2.16,>=2.15->tensorflow~=2.15.0->tf-agents[reverb]) (2.31.0)\r\n",
      "Requirement already satisfied: werkzeug>=1.0.1 in /usr/local/lib/python3.10/site-packages (from tensorboard<2.16,>=2.15->tensorflow~=2.15.0->tf-agents[reverb]) (3.0.1)\r\n",
      "Requirement already satisfied: google-auth<3,>=1.6.3 in /usr/local/lib/python3.10/site-packages (from tensorboard<2.16,>=2.15->tensorflow~=2.15.0->tf-agents[reverb]) (2.28.1)\r\n",
      "Requirement already satisfied: google-auth-oauthlib<2,>=0.5 in /usr/local/lib/python3.10/site-packages (from tensorboard<2.16,>=2.15->tensorflow~=2.15.0->tf-agents[reverb]) (1.2.0)\r\n",
      "Requirement already satisfied: markdown>=2.6.8 in /usr/local/lib/python3.10/site-packages (from tensorboard<2.16,>=2.15->tensorflow~=2.15.0->tf-agents[reverb]) (3.5.2)\r\n"
     ]
    },
    {
     "name": "stdout",
     "output_type": "stream",
     "text": [
      "Requirement already satisfied: psutil in /usr/local/lib/python3.10/site-packages (from portpicker->dm-reverb~=0.14.0->tf-agents[reverb]) (5.9.8)\r\n",
      "Requirement already satisfied: cachetools<6.0,>=2.0.0 in /usr/local/lib/python3.10/site-packages (from google-auth<3,>=1.6.3->tensorboard<2.16,>=2.15->tensorflow~=2.15.0->tf-agents[reverb]) (5.3.2)\r\n",
      "Requirement already satisfied: rsa<5,>=3.1.4 in /usr/local/lib/python3.10/site-packages (from google-auth<3,>=1.6.3->tensorboard<2.16,>=2.15->tensorflow~=2.15.0->tf-agents[reverb]) (4.9)\r\n",
      "Requirement already satisfied: pyasn1-modules>=0.2.1 in /usr/local/lib/python3.10/site-packages (from google-auth<3,>=1.6.3->tensorboard<2.16,>=2.15->tensorflow~=2.15.0->tf-agents[reverb]) (0.3.0)\r\n",
      "Requirement already satisfied: requests-oauthlib>=0.7.0 in /usr/local/lib/python3.10/site-packages (from google-auth-oauthlib<2,>=0.5->tensorboard<2.16,>=2.15->tensorflow~=2.15.0->tf-agents[reverb]) (1.3.1)\r\n"
     ]
    },
    {
     "name": "stdout",
     "output_type": "stream",
     "text": [
      "Requirement already satisfied: charset-normalizer<4,>=2 in /usr/local/lib/python3.10/site-packages (from requests<3,>=2.21.0->tensorboard<2.16,>=2.15->tensorflow~=2.15.0->tf-agents[reverb]) (3.3.2)\r\n",
      "Requirement already satisfied: idna<4,>=2.5 in /usr/local/lib/python3.10/site-packages (from requests<3,>=2.21.0->tensorboard<2.16,>=2.15->tensorflow~=2.15.0->tf-agents[reverb]) (3.6)\r\n",
      "Requirement already satisfied: urllib3<3,>=1.21.1 in /usr/local/lib/python3.10/site-packages (from requests<3,>=2.21.0->tensorboard<2.16,>=2.15->tensorflow~=2.15.0->tf-agents[reverb]) (2.2.1)\r\n",
      "Requirement already satisfied: certifi>=2017.4.17 in /usr/local/lib/python3.10/site-packages (from requests<3,>=2.21.0->tensorboard<2.16,>=2.15->tensorflow~=2.15.0->tf-agents[reverb]) (2024.2.2)\r\n",
      "Requirement already satisfied: MarkupSafe>=2.1.1 in /usr/local/lib/python3.10/site-packages (from werkzeug>=1.0.1->tensorboard<2.16,>=2.15->tensorflow~=2.15.0->tf-agents[reverb]) (2.1.5)\r\n"
     ]
    },
    {
     "name": "stdout",
     "output_type": "stream",
     "text": [
      "Requirement already satisfied: pyasn1<0.6.0,>=0.4.6 in /usr/local/lib/python3.10/site-packages (from pyasn1-modules>=0.2.1->google-auth<3,>=1.6.3->tensorboard<2.16,>=2.15->tensorflow~=2.15.0->tf-agents[reverb]) (0.5.1)\r\n",
      "Requirement already satisfied: oauthlib>=3.0.0 in /usr/local/lib/python3.10/site-packages (from requests-oauthlib>=0.7.0->google-auth-oauthlib<2,>=0.5->tensorboard<2.16,>=2.15->tensorflow~=2.15.0->tf-agents[reverb]) (3.2.2)\r\n"
     ]
    },
    {
     "name": "stdout",
     "output_type": "stream",
     "text": [
      "Building wheels for collected packages: gym\r\n"
     ]
    },
    {
     "name": "stdout",
     "output_type": "stream",
     "text": [
      "  Building wheel for gym (pyproject.toml) ... \u001b[?25l-"
     ]
    },
    {
     "name": "stdout",
     "output_type": "stream",
     "text": [
      "\b \b\\"
     ]
    },
    {
     "name": "stdout",
     "output_type": "stream",
     "text": [
      "\b \b|\b \bdone\r\n"
     ]
    },
    {
     "name": "stdout",
     "output_type": "stream",
     "text": [
      "\u001b[?25h  Created wheel for gym: filename=gym-0.23.0-py3-none-any.whl size=697630 sha256=508997b3975eb5470b9ca563a4f43e672f9e8c380f13f79527eab386ce466fb9\r\n",
      "  Stored in directory: /root/.cache/pip/wheels/3d/6f/b4/3991d4fae11d0ecb0754c11cc1b4e7745012850da4efaaf0b1\r\n",
      "Successfully built gym\r\n"
     ]
    },
    {
     "name": "stdout",
     "output_type": "stream",
     "text": [
      "Installing collected packages: typing-extensions, rlds, pygame, portpicker, keras, gym, tf-agents, dm-reverb\r\n",
      "  Attempting uninstall: typing-extensions\r\n",
      "    Found existing installation: typing_extensions 4.9.0\r\n",
      "    Uninstalling typing_extensions-4.9.0:\r\n"
     ]
    },
    {
     "name": "stdout",
     "output_type": "stream",
     "text": [
      "      Successfully uninstalled typing_extensions-4.9.0\r\n"
     ]
    },
    {
     "name": "stdout",
     "output_type": "stream",
     "text": [
      "  Attempting uninstall: keras\r\n",
      "    Found existing installation: keras 3.0.5\r\n"
     ]
    },
    {
     "name": "stdout",
     "output_type": "stream",
     "text": [
      "    Uninstalling keras-3.0.5:\r\n"
     ]
    },
    {
     "name": "stdout",
     "output_type": "stream",
     "text": [
      "      Successfully uninstalled keras-3.0.5\r\n"
     ]
    },
    {
     "name": "stdout",
     "output_type": "stream",
     "text": [
      "  Attempting uninstall: gym\r\n",
      "    Found existing installation: gym 0.26.2\r\n"
     ]
    },
    {
     "name": "stdout",
     "output_type": "stream",
     "text": [
      "    Uninstalling gym-0.26.2:\r\n"
     ]
    },
    {
     "name": "stdout",
     "output_type": "stream",
     "text": [
      "      Successfully uninstalled gym-0.26.2\r\n"
     ]
    },
    {
     "name": "stdout",
     "output_type": "stream",
     "text": [
      "\u001b[31mERROR: pip's dependency resolver does not currently take into account all the packages that are installed. This behaviour is the source of the following dependency conflicts.\r\n",
      "keras-nlp 0.8.1 requires keras-core, which is not installed.\u001b[0m\u001b[31m\r\n",
      "\u001b[0mSuccessfully installed dm-reverb-0.14.0 gym-0.23.0 keras-2.15.0 portpicker-1.6.0 pygame-2.1.3 rlds-0.1.8 tf-agents-0.19.0 typing-extensions-4.5.0\r\n",
      "\u001b[33mWARNING: Running pip as the 'root' user can result in broken permissions and conflicting behaviour with the system package manager. It is recommended to use a virtual environment instead: https://pip.pypa.io/warnings/venv\u001b[0m\u001b[33m\r\n",
      "\u001b[0m\r\n",
      "\u001b[1m[\u001b[0m\u001b[34;49mnotice\u001b[0m\u001b[1;39;49m]\u001b[0m\u001b[39;49m A new release of pip is available: \u001b[0m\u001b[31;49m23.0.1\u001b[0m\u001b[39;49m -> \u001b[0m\u001b[32;49m24.0\u001b[0m\r\n",
      "\u001b[1m[\u001b[0m\u001b[34;49mnotice\u001b[0m\u001b[1;39;49m]\u001b[0m\u001b[39;49m To update, run: \u001b[0m\u001b[32;49mpip install --upgrade pip\u001b[0m\r\n"
     ]
    },
    {
     "name": "stdout",
     "output_type": "stream",
     "text": [
      "Note: you may need to restart the kernel to use updated packages.\n"
     ]
    },
    {
     "name": "stdout",
     "output_type": "stream",
     "text": [
      "\u001b[31mERROR: Could not find a version that satisfies the requirement shutil (from versions: none)\u001b[0m\u001b[31m\r\n",
      "\u001b[0m\u001b[31mERROR: No matching distribution found for shutil\u001b[0m\u001b[31m\r\n",
      "\u001b[0m\r\n",
      "\u001b[1m[\u001b[0m\u001b[34;49mnotice\u001b[0m\u001b[1;39;49m]\u001b[0m\u001b[39;49m A new release of pip is available: \u001b[0m\u001b[31;49m23.0.1\u001b[0m\u001b[39;49m -> \u001b[0m\u001b[32;49m24.0\u001b[0m\r\n",
      "\u001b[1m[\u001b[0m\u001b[34;49mnotice\u001b[0m\u001b[1;39;49m]\u001b[0m\u001b[39;49m To update, run: \u001b[0m\u001b[32;49mpip install --upgrade pip\u001b[0m\r\n"
     ]
    },
    {
     "name": "stdout",
     "output_type": "stream",
     "text": [
      "Note: you may need to restart the kernel to use updated packages.\n"
     ]
    },
    {
     "name": "stdout",
     "output_type": "stream",
     "text": [
      "Collecting yfinance\r\n"
     ]
    },
    {
     "name": "stdout",
     "output_type": "stream",
     "text": [
      "  Downloading yfinance-0.2.37-py2.py3-none-any.whl (72 kB)\r\n",
      "\u001b[?25l     \u001b[90m━━━━━━━━━━━━━━━━━━━━━━━━━━━━━━━━━━━━━━━━\u001b[0m \u001b[32m0.0/73.0 kB\u001b[0m \u001b[31m?\u001b[0m eta \u001b[36m-:--:--\u001b[0m"
     ]
    },
    {
     "name": "stdout",
     "output_type": "stream",
     "text": [
      "\r",
      "\u001b[2K     \u001b[91m━━━━━━━━━━━━━━━━\u001b[0m\u001b[90m╺\u001b[0m\u001b[90m━━━━━━━━━━━━━━━━━━━━━━\u001b[0m \u001b[32m30.7/73.0 kB\u001b[0m \u001b[31m758.3 kB/s\u001b[0m eta \u001b[36m0:00:01\u001b[0m"
     ]
    },
    {
     "name": "stdout",
     "output_type": "stream",
     "text": [
      "\r",
      "\u001b[2K     \u001b[91m━━━━━━━━━━━━━━━━━━━━━━━━━━━━━━━━━━━━━━\u001b[0m\u001b[90m╺\u001b[0m \u001b[32m71.7/73.0 kB\u001b[0m \u001b[31m999.3 kB/s\u001b[0m eta \u001b[36m0:00:01\u001b[0m\r",
      "\u001b[2K     \u001b[90m━━━━━━━━━━━━━━━━━━━━━━━━━━━━━━━━━━━━━━━\u001b[0m \u001b[32m73.0/73.0 kB\u001b[0m \u001b[31m878.0 kB/s\u001b[0m eta \u001b[36m0:00:00\u001b[0m\r\n",
      "\u001b[?25hRequirement already satisfied: beautifulsoup4>=4.11.1 in /usr/local/lib/python3.10/site-packages (from yfinance) (4.12.3)\r\n"
     ]
    },
    {
     "name": "stdout",
     "output_type": "stream",
     "text": [
      "Collecting frozendict>=2.3.4\r\n"
     ]
    },
    {
     "name": "stdout",
     "output_type": "stream",
     "text": [
      "  Downloading frozendict-2.4.0-cp310-cp310-manylinux_2_17_x86_64.manylinux2014_x86_64.whl (116 kB)\r\n",
      "\u001b[?25l     \u001b[90m━━━━━━━━━━━━━━━━━━━━━━━━━━━━━━━━━━━━━━━━\u001b[0m \u001b[32m0.0/116.7 kB\u001b[0m \u001b[31m?\u001b[0m eta \u001b[36m-:--:--\u001b[0m"
     ]
    },
    {
     "name": "stdout",
     "output_type": "stream",
     "text": [
      "\r",
      "\u001b[2K     \u001b[91m━━━━━━━━━━━━━━━━━━━━━━━━━━━━\u001b[0m\u001b[90m╺\u001b[0m\u001b[90m━━━━━━━━━━━\u001b[0m \u001b[32m81.9/116.7 kB\u001b[0m \u001b[31m2.4 MB/s\u001b[0m eta \u001b[36m0:00:01\u001b[0m\r",
      "\u001b[2K     \u001b[90m━━━━━━━━━━━━━━━━━━━━━━━━━━━━━━━━━━━━━━━\u001b[0m \u001b[32m116.7/116.7 kB\u001b[0m \u001b[31m2.4 MB/s\u001b[0m eta \u001b[36m0:00:00\u001b[0m\r\n",
      "\u001b[?25h"
     ]
    },
    {
     "name": "stdout",
     "output_type": "stream",
     "text": [
      "Collecting lxml>=4.9.1\r\n"
     ]
    },
    {
     "name": "stdout",
     "output_type": "stream",
     "text": [
      "  Downloading lxml-5.1.0-cp310-cp310-manylinux_2_17_x86_64.manylinux2014_x86_64.whl (8.0 MB)\r\n",
      "\u001b[?25l     \u001b[90m━━━━━━━━━━━━━━━━━━━━━━━━━━━━━━━━━━━━━━━━\u001b[0m \u001b[32m0.0/8.0 MB\u001b[0m \u001b[31m?\u001b[0m eta \u001b[36m-:--:--\u001b[0m\r",
      "\u001b[2K     \u001b[91m━\u001b[0m\u001b[90m╺\u001b[0m\u001b[90m━━━━━━━━━━━━━━━━━━━━━━━━━━━━━━━━━━━━━━\u001b[0m \u001b[32m0.2/8.0 MB\u001b[0m \u001b[31m7.1 MB/s\u001b[0m eta \u001b[36m0:00:02\u001b[0m"
     ]
    },
    {
     "name": "stdout",
     "output_type": "stream",
     "text": [
      "\r",
      "\u001b[2K     \u001b[91m━━━\u001b[0m\u001b[91m╸\u001b[0m\u001b[90m━━━━━━━━━━━━━━━━━━━━━━━━━━━━━━━━━━━━\u001b[0m \u001b[32m0.7/8.0 MB\u001b[0m \u001b[31m10.8 MB/s\u001b[0m eta \u001b[36m0:00:01\u001b[0m"
     ]
    },
    {
     "name": "stdout",
     "output_type": "stream",
     "text": [
      "\r",
      "\u001b[2K     \u001b[91m━━━━━━━━\u001b[0m\u001b[91m╸\u001b[0m\u001b[90m━━━━━━━━━━━━━━━━━━━━━━━━━━━━━━━\u001b[0m \u001b[32m1.8/8.0 MB\u001b[0m \u001b[31m17.2 MB/s\u001b[0m eta \u001b[36m0:00:01\u001b[0m"
     ]
    },
    {
     "name": "stdout",
     "output_type": "stream",
     "text": [
      "\r",
      "\u001b[2K     \u001b[91m━━━━━━━━━━━━━━━━━━━━\u001b[0m\u001b[90m╺\u001b[0m\u001b[90m━━━━━━━━━━━━━━━━━━━\u001b[0m \u001b[32m4.0/8.0 MB\u001b[0m \u001b[31m29.2 MB/s\u001b[0m eta \u001b[36m0:00:01\u001b[0m\r",
      "\u001b[2K     \u001b[91m━━━━━━━━━━━━━━━━━━━━━━━━━━━━━━━━━━━━━━━\u001b[0m\u001b[91m╸\u001b[0m \u001b[32m8.0/8.0 MB\u001b[0m \u001b[31m46.3 MB/s\u001b[0m eta \u001b[36m0:00:01\u001b[0m"
     ]
    },
    {
     "name": "stdout",
     "output_type": "stream",
     "text": [
      "\r",
      "\u001b[2K     \u001b[91m━━━━━━━━━━━━━━━━━━━━━━━━━━━━━━━━━━━━━━━\u001b[0m\u001b[91m╸\u001b[0m \u001b[32m8.0/8.0 MB\u001b[0m \u001b[31m46.3 MB/s\u001b[0m eta \u001b[36m0:00:01\u001b[0m\r",
      "\u001b[2K     \u001b[90m━━━━━━━━━━━━━━━━━━━━━━━━━━━━━━━━━━━━━━━━\u001b[0m \u001b[32m8.0/8.0 MB\u001b[0m \u001b[31m34.5 MB/s\u001b[0m eta \u001b[36m0:00:00\u001b[0m\r\n",
      "\u001b[?25h"
     ]
    },
    {
     "name": "stdout",
     "output_type": "stream",
     "text": [
      "Collecting peewee>=3.16.2\r\n"
     ]
    },
    {
     "name": "stdout",
     "output_type": "stream",
     "text": [
      "  Downloading peewee-3.17.1.tar.gz (3.0 MB)\r\n",
      "\u001b[?25l     \u001b[90m━━━━━━━━━━━━━━━━━━━━━━━━━━━━━━━━━━━━━━━━\u001b[0m \u001b[32m0.0/3.0 MB\u001b[0m \u001b[31m?\u001b[0m eta \u001b[36m-:--:--\u001b[0m\r",
      "\u001b[2K     \u001b[91m━━━━━━━━━━━━━━━━━━━━━━━━━━━━━━━━━━━━━━━\u001b[0m\u001b[91m╸\u001b[0m \u001b[32m2.9/3.0 MB\u001b[0m \u001b[31m168.0 MB/s\u001b[0m eta \u001b[36m0:00:01\u001b[0m\r",
      "\u001b[2K     \u001b[90m━━━━━━━━━━━━━━━━━━━━━━━━━━━━━━━━━━━━━━━━\u001b[0m \u001b[32m3.0/3.0 MB\u001b[0m \u001b[31m65.3 MB/s\u001b[0m eta \u001b[36m0:00:00\u001b[0m\r\n",
      "\u001b[?25h"
     ]
    },
    {
     "name": "stdout",
     "output_type": "stream",
     "text": [
      "  Installing build dependencies ... \u001b[?25l-"
     ]
    },
    {
     "name": "stdout",
     "output_type": "stream",
     "text": [
      "\b \b\\"
     ]
    },
    {
     "name": "stdout",
     "output_type": "stream",
     "text": [
      "\b \b|"
     ]
    },
    {
     "name": "stdout",
     "output_type": "stream",
     "text": [
      "\b \bdone\r\n"
     ]
    },
    {
     "name": "stdout",
     "output_type": "stream",
     "text": [
      "\u001b[?25h  Getting requirements to build wheel ... \u001b[?25l-"
     ]
    },
    {
     "name": "stdout",
     "output_type": "stream",
     "text": [
      "\b \bdone\r\n"
     ]
    },
    {
     "name": "stdout",
     "output_type": "stream",
     "text": [
      "\u001b[?25h  Preparing metadata (pyproject.toml) ... \u001b[?25l-"
     ]
    },
    {
     "name": "stdout",
     "output_type": "stream",
     "text": [
      "\b \bdone\r\n"
     ]
    },
    {
     "name": "stdout",
     "output_type": "stream",
     "text": [
      "\u001b[?25hCollecting multitasking>=0.0.7\r\n"
     ]
    },
    {
     "name": "stdout",
     "output_type": "stream",
     "text": [
      "  Downloading multitasking-0.0.11-py3-none-any.whl (8.5 kB)\r\n",
      "Requirement already satisfied: pytz>=2022.5 in /usr/local/lib/python3.10/site-packages (from yfinance) (2024.1)\r\n",
      "Collecting html5lib>=1.1\r\n"
     ]
    },
    {
     "name": "stdout",
     "output_type": "stream",
     "text": [
      "  Downloading html5lib-1.1-py2.py3-none-any.whl (112 kB)\r\n",
      "\u001b[?25l     \u001b[90m━━━━━━━━━━━━━━━━━━━━━━━━━━━━━━━━━━━━━━━━\u001b[0m \u001b[32m0.0/112.2 kB\u001b[0m \u001b[31m?\u001b[0m eta \u001b[36m-:--:--\u001b[0m\r",
      "\u001b[2K     \u001b[90m━━━━━━━━━━━━━━━━━━━━━━━━━━━━━━━━━━━━━━━\u001b[0m \u001b[32m112.2/112.2 kB\u001b[0m \u001b[31m9.1 MB/s\u001b[0m eta \u001b[36m0:00:00\u001b[0m\r\n",
      "\u001b[?25h"
     ]
    },
    {
     "name": "stdout",
     "output_type": "stream",
     "text": [
      "Requirement already satisfied: requests>=2.31 in /usr/local/lib/python3.10/site-packages (from yfinance) (2.31.0)\r\n",
      "Collecting appdirs>=1.4.4\r\n"
     ]
    },
    {
     "name": "stdout",
     "output_type": "stream",
     "text": [
      "  Downloading appdirs-1.4.4-py2.py3-none-any.whl (9.6 kB)\r\n",
      "Requirement already satisfied: numpy>=1.16.5 in /usr/local/lib/python3.10/site-packages (from yfinance) (1.26.4)\r\n",
      "Requirement already satisfied: pandas>=1.3.0 in /usr/local/lib/python3.10/site-packages (from yfinance) (2.2.0)\r\n",
      "Requirement already satisfied: soupsieve>1.2 in /usr/local/lib/python3.10/site-packages (from beautifulsoup4>=4.11.1->yfinance) (2.5)\r\n",
      "Requirement already satisfied: webencodings in /usr/local/lib/python3.10/site-packages (from html5lib>=1.1->yfinance) (0.5.1)\r\n",
      "Requirement already satisfied: six>=1.9 in /usr/local/lib/python3.10/site-packages (from html5lib>=1.1->yfinance) (1.16.0)\r\n"
     ]
    },
    {
     "name": "stdout",
     "output_type": "stream",
     "text": [
      "Requirement already satisfied: python-dateutil>=2.8.2 in /usr/local/lib/python3.10/site-packages (from pandas>=1.3.0->yfinance) (2.8.2)\r\n",
      "Requirement already satisfied: tzdata>=2022.7 in /usr/local/lib/python3.10/site-packages (from pandas>=1.3.0->yfinance) (2024.1)\r\n"
     ]
    },
    {
     "name": "stdout",
     "output_type": "stream",
     "text": [
      "Requirement already satisfied: certifi>=2017.4.17 in /usr/local/lib/python3.10/site-packages (from requests>=2.31->yfinance) (2024.2.2)\r\n",
      "Requirement already satisfied: idna<4,>=2.5 in /usr/local/lib/python3.10/site-packages (from requests>=2.31->yfinance) (3.6)\r\n",
      "Requirement already satisfied: urllib3<3,>=1.21.1 in /usr/local/lib/python3.10/site-packages (from requests>=2.31->yfinance) (2.2.1)\r\n",
      "Requirement already satisfied: charset-normalizer<4,>=2 in /usr/local/lib/python3.10/site-packages (from requests>=2.31->yfinance) (3.3.2)\r\n"
     ]
    },
    {
     "name": "stdout",
     "output_type": "stream",
     "text": [
      "Building wheels for collected packages: peewee\r\n"
     ]
    },
    {
     "name": "stdout",
     "output_type": "stream",
     "text": [
      "  Building wheel for peewee (pyproject.toml) ... \u001b[?25l-"
     ]
    },
    {
     "name": "stdout",
     "output_type": "stream",
     "text": [
      "\b \b\\"
     ]
    },
    {
     "name": "stdout",
     "output_type": "stream",
     "text": [
      "\b \b|"
     ]
    },
    {
     "name": "stdout",
     "output_type": "stream",
     "text": [
      "\b \b/"
     ]
    },
    {
     "name": "stdout",
     "output_type": "stream",
     "text": [
      "\b \bdone\r\n",
      "\u001b[?25h  Created wheel for peewee: filename=peewee-3.17.1-cp310-cp310-linux_x86_64.whl size=849902 sha256=a5dd1f82d546fe5e32dbccdb2d9f7d234987efa151fc1e7ba709c9d9ef7795bf\r\n",
      "  Stored in directory: /root/.cache/pip/wheels/d7/35/5c/1374782be033462df5f40174d8d879519d64ed8c25a1977554\r\n",
      "Successfully built peewee\r\n"
     ]
    },
    {
     "name": "stdout",
     "output_type": "stream",
     "text": [
      "Installing collected packages: peewee, multitasking, appdirs, lxml, html5lib, frozendict, yfinance\r\n"
     ]
    },
    {
     "name": "stdout",
     "output_type": "stream",
     "text": [
      "Successfully installed appdirs-1.4.4 frozendict-2.4.0 html5lib-1.1 lxml-5.1.0 multitasking-0.0.11 peewee-3.17.1 yfinance-0.2.37\r\n",
      "\u001b[33mWARNING: Running pip as the 'root' user can result in broken permissions and conflicting behaviour with the system package manager. It is recommended to use a virtual environment instead: https://pip.pypa.io/warnings/venv\u001b[0m\u001b[33m\r\n",
      "\u001b[0m"
     ]
    },
    {
     "name": "stdout",
     "output_type": "stream",
     "text": [
      "\r\n",
      "\u001b[1m[\u001b[0m\u001b[34;49mnotice\u001b[0m\u001b[1;39;49m]\u001b[0m\u001b[39;49m A new release of pip is available: \u001b[0m\u001b[31;49m23.0.1\u001b[0m\u001b[39;49m -> \u001b[0m\u001b[32;49m24.0\u001b[0m\r\n",
      "\u001b[1m[\u001b[0m\u001b[34;49mnotice\u001b[0m\u001b[1;39;49m]\u001b[0m\u001b[39;49m To update, run: \u001b[0m\u001b[32;49mpip install --upgrade pip\u001b[0m\r\n"
     ]
    },
    {
     "name": "stdout",
     "output_type": "stream",
     "text": [
      "Note: you may need to restart the kernel to use updated packages.\n"
     ]
    },
    {
     "name": "stdout",
     "output_type": "stream",
     "text": [
      "Collecting pyarrow\r\n"
     ]
    },
    {
     "name": "stdout",
     "output_type": "stream",
     "text": [
      "  Downloading pyarrow-15.0.1-cp310-cp310-manylinux_2_28_x86_64.whl (38.3 MB)\r\n",
      "\u001b[?25l"
     ]
    },
    {
     "name": "stdout",
     "output_type": "stream",
     "text": [
      "     \u001b[90m━━━━━━━━━━━━━━━━━━━━━━━━━━━━━━━━━━━━━━━━\u001b[0m \u001b[32m0.0/38.3 MB\u001b[0m \u001b[31m?\u001b[0m eta \u001b[36m-:--:--\u001b[0m\r",
      "\u001b[2K     \u001b[90m━━━━━━━━━━━━━━━━━━━━━━━━━━━━━━━━━━━━━━━━\u001b[0m \u001b[32m0.0/38.3 MB\u001b[0m \u001b[31m715.6 kB/s\u001b[0m eta \u001b[36m0:00:54\u001b[0m"
     ]
    },
    {
     "name": "stdout",
     "output_type": "stream",
     "text": [
      "\r",
      "\u001b[2K     \u001b[90m━━━━━━━━━━━━━━━━━━━━━━━━━━━━━━━━━━━━━━━━\u001b[0m \u001b[32m0.1/38.3 MB\u001b[0m \u001b[31m843.9 kB/s\u001b[0m eta \u001b[36m0:00:46\u001b[0m"
     ]
    },
    {
     "name": "stdout",
     "output_type": "stream",
     "text": [
      "\r",
      "\u001b[2K     \u001b[90m━━━━━━━━━━━━━━━━━━━━━━━━━━━━━━━━━━━━━━━━\u001b[0m \u001b[32m0.2/38.3 MB\u001b[0m \u001b[31m1.8 MB/s\u001b[0m eta \u001b[36m0:00:22\u001b[0m\r",
      "\u001b[2K     \u001b[90m━━━━━━━━━━━━━━━━━━━━━━━━━━━━━━━━━━━━━━━━\u001b[0m \u001b[32m0.5/38.3 MB\u001b[0m \u001b[31m3.2 MB/s\u001b[0m eta \u001b[36m0:00:12\u001b[0m"
     ]
    },
    {
     "name": "stdout",
     "output_type": "stream",
     "text": [
      "\r",
      "\u001b[2K     \u001b[91m━\u001b[0m\u001b[90m╺\u001b[0m\u001b[90m━━━━━━━━━━━━━━━━━━━━━━━━━━━━━━━━━━━━━━\u001b[0m \u001b[32m1.0/38.3 MB\u001b[0m \u001b[31m5.9 MB/s\u001b[0m eta \u001b[36m0:00:07\u001b[0m"
     ]
    },
    {
     "name": "stdout",
     "output_type": "stream",
     "text": [
      "\r",
      "\u001b[2K     \u001b[91m━━\u001b[0m\u001b[90m╺\u001b[0m\u001b[90m━━━━━━━━━━━━━━━━━━━━━━━━━━━━━━━━━━━━━\u001b[0m \u001b[32m2.2/38.3 MB\u001b[0m \u001b[31m10.6 MB/s\u001b[0m eta \u001b[36m0:00:04\u001b[0m\r",
      "\u001b[2K     \u001b[91m━━━━\u001b[0m\u001b[91m╸\u001b[0m\u001b[90m━━━━━━━━━━━━━━━━━━━━━━━━━━━━━━━━━━━\u001b[0m \u001b[32m4.6/38.3 MB\u001b[0m \u001b[31m19.1 MB/s\u001b[0m eta \u001b[36m0:00:02\u001b[0m"
     ]
    },
    {
     "name": "stdout",
     "output_type": "stream",
     "text": [
      "\r",
      "\u001b[2K     \u001b[91m━━━━━━━━\u001b[0m\u001b[91m╸\u001b[0m\u001b[90m━━━━━━━━━━━━━━━━━━━━━━━━━━━━━━━\u001b[0m \u001b[32m8.6/38.3 MB\u001b[0m \u001b[31m30.9 MB/s\u001b[0m eta \u001b[36m0:00:01\u001b[0m"
     ]
    },
    {
     "name": "stdout",
     "output_type": "stream",
     "text": [
      "\r",
      "\u001b[2K     \u001b[91m━━━━━━━━━━━━━\u001b[0m\u001b[90m╺\u001b[0m\u001b[90m━━━━━━━━━━━━━━━━━━━━━━━━━━\u001b[0m \u001b[32m12.6/38.3 MB\u001b[0m \u001b[31m99.7 MB/s\u001b[0m eta \u001b[36m0:00:01\u001b[0m\r",
      "\u001b[2K     \u001b[91m━━━━━━━━━━━━━━━━\u001b[0m\u001b[91m╸\u001b[0m\u001b[90m━━━━━━━━━━━━━━━━━━━━━━\u001b[0m \u001b[32m16.7/38.3 MB\u001b[0m \u001b[31m121.7 MB/s\u001b[0m eta \u001b[36m0:00:01\u001b[0m"
     ]
    },
    {
     "name": "stdout",
     "output_type": "stream",
     "text": [
      "\r",
      "\u001b[2K     \u001b[91m━━━━━━━━━━━━━━━━━━━━\u001b[0m\u001b[91m╸\u001b[0m\u001b[90m━━━━━━━━━━━━━━━━━━\u001b[0m \u001b[32m20.5/38.3 MB\u001b[0m \u001b[31m125.8 MB/s\u001b[0m eta \u001b[36m0:00:01\u001b[0m"
     ]
    },
    {
     "name": "stdout",
     "output_type": "stream",
     "text": [
      "\r",
      "\u001b[2K     \u001b[91m━━━━━━━━━━━━━━━━━━━━━━━━\u001b[0m\u001b[91m╸\u001b[0m\u001b[90m━━━━━━━━━━━━━━\u001b[0m \u001b[32m24.5/38.3 MB\u001b[0m \u001b[31m116.0 MB/s\u001b[0m eta \u001b[36m0:00:01\u001b[0m"
     ]
    },
    {
     "name": "stdout",
     "output_type": "stream",
     "text": [
      "\r",
      "\u001b[2K     \u001b[91m━━━━━━━━━━━━━━━━━━━━━━━━━━━━━\u001b[0m\u001b[90m╺\u001b[0m\u001b[90m━━━━━━━━━\u001b[0m \u001b[32m28.7/38.3 MB\u001b[0m \u001b[31m114.4 MB/s\u001b[0m eta \u001b[36m0:00:01\u001b[0m\r",
      "\u001b[2K     \u001b[91m━━━━━━━━━━━━━━━━━━━━━━━━━━━━━━━━━\u001b[0m\u001b[90m╺\u001b[0m\u001b[90m━━━━━\u001b[0m \u001b[32m32.8/38.3 MB\u001b[0m \u001b[31m113.6 MB/s\u001b[0m eta \u001b[36m0:00:01\u001b[0m"
     ]
    },
    {
     "name": "stdout",
     "output_type": "stream",
     "text": [
      "\r",
      "\u001b[2K     \u001b[91m━━━━━━━━━━━━━━━━━━━━━━━━━━━━━━━━━━━━━\u001b[0m\u001b[91m╸\u001b[0m\u001b[90m━\u001b[0m \u001b[32m37.1/38.3 MB\u001b[0m \u001b[31m114.5 MB/s\u001b[0m eta \u001b[36m0:00:01\u001b[0m"
     ]
    },
    {
     "name": "stdout",
     "output_type": "stream",
     "text": [
      "\r",
      "\u001b[2K     \u001b[91m━━━━━━━━━━━━━━━━━━━━━━━━━━━━━━━━━━━━━━\u001b[0m\u001b[91m╸\u001b[0m \u001b[32m38.3/38.3 MB\u001b[0m \u001b[31m112.3 MB/s\u001b[0m eta \u001b[36m0:00:01\u001b[0m"
     ]
    },
    {
     "name": "stdout",
     "output_type": "stream",
     "text": [
      "\r",
      "\u001b[2K     \u001b[91m━━━━━━━━━━━━━━━━━━━━━━━━━━━━━━━━━━━━━━\u001b[0m\u001b[91m╸\u001b[0m \u001b[32m38.3/38.3 MB\u001b[0m \u001b[31m112.3 MB/s\u001b[0m eta \u001b[36m0:00:01\u001b[0m"
     ]
    },
    {
     "name": "stdout",
     "output_type": "stream",
     "text": [
      "\r",
      "\u001b[2K     \u001b[91m━━━━━━━━━━━━━━━━━━━━━━━━━━━━━━━━━━━━━━\u001b[0m\u001b[91m╸\u001b[0m \u001b[32m38.3/38.3 MB\u001b[0m \u001b[31m112.3 MB/s\u001b[0m eta \u001b[36m0:00:01\u001b[0m\r",
      "\u001b[2K     \u001b[91m━━━━━━━━━━━━━━━━━━━━━━━━━━━━━━━━━━━━━━\u001b[0m\u001b[91m╸\u001b[0m \u001b[32m38.3/38.3 MB\u001b[0m \u001b[31m112.3 MB/s\u001b[0m eta \u001b[36m0:00:01\u001b[0m"
     ]
    },
    {
     "name": "stdout",
     "output_type": "stream",
     "text": [
      "\r",
      "\u001b[2K     \u001b[91m━━━━━━━━━━━━━━━━━━━━━━━━━━━━━━━━━━━━━━\u001b[0m\u001b[91m╸\u001b[0m \u001b[32m38.3/38.3 MB\u001b[0m \u001b[31m112.3 MB/s\u001b[0m eta \u001b[36m0:00:01\u001b[0m"
     ]
    },
    {
     "name": "stdout",
     "output_type": "stream",
     "text": [
      "\r",
      "\u001b[2K     \u001b[91m━━━━━━━━━━━━━━━━━━━━━━━━━━━━━━━━━━━━━━\u001b[0m\u001b[91m╸\u001b[0m \u001b[32m38.3/38.3 MB\u001b[0m \u001b[31m112.3 MB/s\u001b[0m eta \u001b[36m0:00:01\u001b[0m"
     ]
    },
    {
     "name": "stdout",
     "output_type": "stream",
     "text": [
      "\r",
      "\u001b[2K     \u001b[91m━━━━━━━━━━━━━━━━━━━━━━━━━━━━━━━━━━━━━━\u001b[0m\u001b[91m╸\u001b[0m \u001b[32m38.3/38.3 MB\u001b[0m \u001b[31m112.3 MB/s\u001b[0m eta \u001b[36m0:00:01\u001b[0m\r",
      "\u001b[2K     \u001b[91m━━━━━━━━━━━━━━━━━━━━━━━━━━━━━━━━━━━━━━\u001b[0m\u001b[91m╸\u001b[0m \u001b[32m38.3/38.3 MB\u001b[0m \u001b[31m112.3 MB/s\u001b[0m eta \u001b[36m0:00:01\u001b[0m"
     ]
    },
    {
     "name": "stdout",
     "output_type": "stream",
     "text": [
      "\r",
      "\u001b[2K     \u001b[91m━━━━━━━━━━━━━━━━━━━━━━━━━━━━━━━━━━━━━━\u001b[0m\u001b[91m╸\u001b[0m \u001b[32m38.3/38.3 MB\u001b[0m \u001b[31m112.3 MB/s\u001b[0m eta \u001b[36m0:00:01\u001b[0m"
     ]
    },
    {
     "name": "stdout",
     "output_type": "stream",
     "text": [
      "\r",
      "\u001b[2K     \u001b[91m━━━━━━━━━━━━━━━━━━━━━━━━━━━━━━━━━━━━━━\u001b[0m\u001b[91m╸\u001b[0m \u001b[32m38.3/38.3 MB\u001b[0m \u001b[31m112.3 MB/s\u001b[0m eta \u001b[36m0:00:01\u001b[0m\r",
      "\u001b[2K     \u001b[91m━━━━━━━━━━━━━━━━━━━━━━━━━━━━━━━━━━━━━━\u001b[0m\u001b[91m╸\u001b[0m \u001b[32m38.3/38.3 MB\u001b[0m \u001b[31m112.3 MB/s\u001b[0m eta \u001b[36m0:00:01\u001b[0m"
     ]
    },
    {
     "name": "stdout",
     "output_type": "stream",
     "text": [
      "\r",
      "\u001b[2K     \u001b[91m━━━━━━━━━━━━━━━━━━━━━━━━━━━━━━━━━━━━━━\u001b[0m\u001b[91m╸\u001b[0m \u001b[32m38.3/38.3 MB\u001b[0m \u001b[31m112.3 MB/s\u001b[0m eta \u001b[36m0:00:01\u001b[0m"
     ]
    },
    {
     "name": "stdout",
     "output_type": "stream",
     "text": [
      "\r",
      "\u001b[2K     \u001b[91m━━━━━━━━━━━━━━━━━━━━━━━━━━━━━━━━━━━━━━\u001b[0m\u001b[91m╸\u001b[0m \u001b[32m38.3/38.3 MB\u001b[0m \u001b[31m112.3 MB/s\u001b[0m eta \u001b[36m0:00:01\u001b[0m\r",
      "\u001b[2K     \u001b[91m━━━━━━━━━━━━━━━━━━━━━━━━━━━━━━━━━━━━━━\u001b[0m\u001b[91m╸\u001b[0m \u001b[32m38.3/38.3 MB\u001b[0m \u001b[31m112.3 MB/s\u001b[0m eta \u001b[36m0:00:01\u001b[0m"
     ]
    },
    {
     "name": "stdout",
     "output_type": "stream",
     "text": [
      "\r",
      "\u001b[2K     \u001b[91m━━━━━━━━━━━━━━━━━━━━━━━━━━━━━━━━━━━━━━\u001b[0m\u001b[91m╸\u001b[0m \u001b[32m38.3/38.3 MB\u001b[0m \u001b[31m112.3 MB/s\u001b[0m eta \u001b[36m0:00:01\u001b[0m"
     ]
    },
    {
     "name": "stdout",
     "output_type": "stream",
     "text": [
      "\r",
      "\u001b[2K     \u001b[91m━━━━━━━━━━━━━━━━━━━━━━━━━━━━━━━━━━━━━━\u001b[0m\u001b[91m╸\u001b[0m \u001b[32m38.3/38.3 MB\u001b[0m \u001b[31m112.3 MB/s\u001b[0m eta \u001b[36m0:00:01\u001b[0m\r",
      "\u001b[2K     \u001b[91m━━━━━━━━━━━━━━━━━━━━━━━━━━━━━━━━━━━━━━\u001b[0m\u001b[91m╸\u001b[0m \u001b[32m38.3/38.3 MB\u001b[0m \u001b[31m112.3 MB/s\u001b[0m eta \u001b[36m0:00:01\u001b[0m"
     ]
    },
    {
     "name": "stdout",
     "output_type": "stream",
     "text": [
      "\r",
      "\u001b[2K     \u001b[91m━━━━━━━━━━━━━━━━━━━━━━━━━━━━━━━━━━━━━━\u001b[0m\u001b[91m╸\u001b[0m \u001b[32m38.3/38.3 MB\u001b[0m \u001b[31m112.3 MB/s\u001b[0m eta \u001b[36m0:00:01\u001b[0m"
     ]
    },
    {
     "name": "stdout",
     "output_type": "stream",
     "text": [
      "\r",
      "\u001b[2K     \u001b[91m━━━━━━━━━━━━━━━━━━━━━━━━━━━━━━━━━━━━━━\u001b[0m\u001b[91m╸\u001b[0m \u001b[32m38.3/38.3 MB\u001b[0m \u001b[31m112.3 MB/s\u001b[0m eta \u001b[36m0:00:01\u001b[0m"
     ]
    },
    {
     "name": "stdout",
     "output_type": "stream",
     "text": [
      "\r",
      "\u001b[2K     \u001b[91m━━━━━━━━━━━━━━━━━━━━━━━━━━━━━━━━━━━━━━\u001b[0m\u001b[91m╸\u001b[0m \u001b[32m38.3/38.3 MB\u001b[0m \u001b[31m112.3 MB/s\u001b[0m eta \u001b[36m0:00:01\u001b[0m\r",
      "\u001b[2K     \u001b[91m━━━━━━━━━━━━━━━━━━━━━━━━━━━━━━━━━━━━━━\u001b[0m\u001b[91m╸\u001b[0m \u001b[32m38.3/38.3 MB\u001b[0m \u001b[31m112.3 MB/s\u001b[0m eta \u001b[36m0:00:01\u001b[0m"
     ]
    },
    {
     "name": "stdout",
     "output_type": "stream",
     "text": [
      "\r",
      "\u001b[2K     \u001b[91m━━━━━━━━━━━━━━━━━━━━━━━━━━━━━━━━━━━━━━\u001b[0m\u001b[91m╸\u001b[0m \u001b[32m38.3/38.3 MB\u001b[0m \u001b[31m112.3 MB/s\u001b[0m eta \u001b[36m0:00:01\u001b[0m"
     ]
    },
    {
     "name": "stdout",
     "output_type": "stream",
     "text": [
      "\r",
      "\u001b[2K     \u001b[91m━━━━━━━━━━━━━━━━━━━━━━━━━━━━━━━━━━━━━━\u001b[0m\u001b[91m╸\u001b[0m \u001b[32m38.3/38.3 MB\u001b[0m \u001b[31m112.3 MB/s\u001b[0m eta \u001b[36m0:00:01\u001b[0m\r",
      "\u001b[2K     \u001b[91m━━━━━━━━━━━━━━━━━━━━━━━━━━━━━━━━━━━━━━\u001b[0m\u001b[91m╸\u001b[0m \u001b[32m38.3/38.3 MB\u001b[0m \u001b[31m112.3 MB/s\u001b[0m eta \u001b[36m0:00:01\u001b[0m"
     ]
    },
    {
     "name": "stdout",
     "output_type": "stream",
     "text": [
      "\r",
      "\u001b[2K     \u001b[91m━━━━━━━━━━━━━━━━━━━━━━━━━━━━━━━━━━━━━━\u001b[0m\u001b[91m╸\u001b[0m \u001b[32m38.3/38.3 MB\u001b[0m \u001b[31m112.3 MB/s\u001b[0m eta \u001b[36m0:00:01\u001b[0m\r",
      "\u001b[2K     \u001b[90m━━━━━━━━━━━━━━━━━━━━━━━━━━━━━━━━━━━━━━━━\u001b[0m \u001b[32m38.3/38.3 MB\u001b[0m \u001b[31m10.0 MB/s\u001b[0m eta \u001b[36m0:00:00\u001b[0m\r\n",
      "\u001b[?25h"
     ]
    },
    {
     "name": "stdout",
     "output_type": "stream",
     "text": [
      "Requirement already satisfied: numpy<2,>=1.16.6 in /usr/local/lib/python3.10/site-packages (from pyarrow) (1.26.4)\r\n"
     ]
    },
    {
     "name": "stdout",
     "output_type": "stream",
     "text": [
      "Installing collected packages: pyarrow\r\n"
     ]
    },
    {
     "name": "stdout",
     "output_type": "stream",
     "text": [
      "Successfully installed pyarrow-15.0.1\r\n",
      "\u001b[33mWARNING: Running pip as the 'root' user can result in broken permissions and conflicting behaviour with the system package manager. It is recommended to use a virtual environment instead: https://pip.pypa.io/warnings/venv\u001b[0m\u001b[33m\r\n",
      "\u001b[0m\r\n",
      "\u001b[1m[\u001b[0m\u001b[34;49mnotice\u001b[0m\u001b[1;39;49m]\u001b[0m\u001b[39;49m A new release of pip is available: \u001b[0m\u001b[31;49m23.0.1\u001b[0m\u001b[39;49m -> \u001b[0m\u001b[32;49m24.0\u001b[0m\r\n",
      "\u001b[1m[\u001b[0m\u001b[34;49mnotice\u001b[0m\u001b[1;39;49m]\u001b[0m\u001b[39;49m To update, run: \u001b[0m\u001b[32;49mpip install --upgrade pip\u001b[0m\r\n"
     ]
    },
    {
     "name": "stdout",
     "output_type": "stream",
     "text": [
      "Note: you may need to restart the kernel to use updated packages.\n"
     ]
    },
    {
     "name": "stdout",
     "output_type": "stream",
     "text": [
      "Collecting ta\r\n"
     ]
    },
    {
     "name": "stdout",
     "output_type": "stream",
     "text": [
      "  Downloading ta-0.11.0.tar.gz (25 kB)\r\n"
     ]
    },
    {
     "name": "stdout",
     "output_type": "stream",
     "text": [
      "  Preparing metadata (setup.py) ... \u001b[?25l-"
     ]
    },
    {
     "name": "stdout",
     "output_type": "stream",
     "text": [
      "\b \bdone\r\n",
      "\u001b[?25hRequirement already satisfied: numpy in /usr/local/lib/python3.10/site-packages (from ta) (1.26.4)\r\n",
      "Requirement already satisfied: pandas in /usr/local/lib/python3.10/site-packages (from ta) (2.2.0)\r\n"
     ]
    },
    {
     "name": "stdout",
     "output_type": "stream",
     "text": [
      "Requirement already satisfied: python-dateutil>=2.8.2 in /usr/local/lib/python3.10/site-packages (from pandas->ta) (2.8.2)\r\n",
      "Requirement already satisfied: tzdata>=2022.7 in /usr/local/lib/python3.10/site-packages (from pandas->ta) (2024.1)\r\n",
      "Requirement already satisfied: pytz>=2020.1 in /usr/local/lib/python3.10/site-packages (from pandas->ta) (2024.1)\r\n",
      "Requirement already satisfied: six>=1.5 in /usr/local/lib/python3.10/site-packages (from python-dateutil>=2.8.2->pandas->ta) (1.16.0)\r\n",
      "Building wheels for collected packages: ta\r\n"
     ]
    },
    {
     "name": "stdout",
     "output_type": "stream",
     "text": [
      "  Building wheel for ta (setup.py) ... \u001b[?25l-"
     ]
    },
    {
     "name": "stdout",
     "output_type": "stream",
     "text": [
      "\b \b\\"
     ]
    },
    {
     "name": "stdout",
     "output_type": "stream",
     "text": [
      "\b \bdone\r\n",
      "\u001b[?25h  Created wheel for ta: filename=ta-0.11.0-py3-none-any.whl size=29413 sha256=0f7da66d1b6f28705015b5d38f7eb6e35cc930b16daa7ccc5c653d6a31197c44\r\n",
      "  Stored in directory: /root/.cache/pip/wheels/5f/67/4f/8a9f252836e053e532c6587a3230bc72a4deb16b03a829610b\r\n",
      "Successfully built ta\r\n"
     ]
    },
    {
     "name": "stdout",
     "output_type": "stream",
     "text": [
      "Installing collected packages: ta\r\n"
     ]
    },
    {
     "name": "stdout",
     "output_type": "stream",
     "text": [
      "Successfully installed ta-0.11.0\r\n",
      "\u001b[33mWARNING: Running pip as the 'root' user can result in broken permissions and conflicting behaviour with the system package manager. It is recommended to use a virtual environment instead: https://pip.pypa.io/warnings/venv\u001b[0m\u001b[33m\r\n",
      "\u001b[0m\r\n",
      "\u001b[1m[\u001b[0m\u001b[34;49mnotice\u001b[0m\u001b[1;39;49m]\u001b[0m\u001b[39;49m A new release of pip is available: \u001b[0m\u001b[31;49m23.0.1\u001b[0m\u001b[39;49m -> \u001b[0m\u001b[32;49m24.0\u001b[0m\r\n",
      "\u001b[1m[\u001b[0m\u001b[34;49mnotice\u001b[0m\u001b[1;39;49m]\u001b[0m\u001b[39;49m To update, run: \u001b[0m\u001b[32;49mpip install --upgrade pip\u001b[0m\r\n"
     ]
    },
    {
     "name": "stdout",
     "output_type": "stream",
     "text": [
      "Note: you may need to restart the kernel to use updated packages.\n"
     ]
    },
    {
     "name": "stdout",
     "output_type": "stream",
     "text": [
      "Collecting pandas_ta\r\n"
     ]
    },
    {
     "name": "stdout",
     "output_type": "stream",
     "text": [
      "  Downloading pandas_ta-0.3.14b.tar.gz (115 kB)\r\n",
      "\u001b[?25l     \u001b[90m━━━━━━━━━━━━━━━━━━━━━━━━━━━━━━━━━━━━━━━━\u001b[0m \u001b[32m0.0/115.1 kB\u001b[0m \u001b[31m?\u001b[0m eta \u001b[36m-:--:--\u001b[0m"
     ]
    },
    {
     "name": "stdout",
     "output_type": "stream",
     "text": [
      "\r",
      "\u001b[2K     \u001b[91m━━━━━━━━━━\u001b[0m\u001b[90m╺\u001b[0m\u001b[90m━━━━━━━━━━━━━━━━━━━━━━━━━━━\u001b[0m \u001b[32m30.7/115.1 kB\u001b[0m \u001b[31m704.1 kB/s\u001b[0m eta \u001b[36m0:00:01\u001b[0m"
     ]
    },
    {
     "name": "stdout",
     "output_type": "stream",
     "text": [
      "\r",
      "\u001b[2K     \u001b[91m━━━━━━━━━━━━━━━━━━━━━━━\u001b[0m\u001b[91m╸\u001b[0m\u001b[90m━━━━━━━━━━━━━━\u001b[0m \u001b[32m71.7/115.1 kB\u001b[0m \u001b[31m930.8 kB/s\u001b[0m eta \u001b[36m0:00:01\u001b[0m\r",
      "\u001b[2K     \u001b[90m━━━━━━━━━━━━━━━━━━━━━━━━━━━━━━━━━━━━━━━\u001b[0m \u001b[32m115.1/115.1 kB\u001b[0m \u001b[31m1.2 MB/s\u001b[0m eta \u001b[36m0:00:00\u001b[0m\r\n",
      "\u001b[?25h"
     ]
    },
    {
     "name": "stdout",
     "output_type": "stream",
     "text": [
      "  Preparing metadata (setup.py) ... \u001b[?25l-"
     ]
    },
    {
     "name": "stdout",
     "output_type": "stream",
     "text": [
      "\b \bdone\r\n",
      "\u001b[?25hRequirement already satisfied: pandas in /usr/local/lib/python3.10/site-packages (from pandas_ta) (2.2.0)\r\n"
     ]
    },
    {
     "name": "stdout",
     "output_type": "stream",
     "text": [
      "Requirement already satisfied: python-dateutil>=2.8.2 in /usr/local/lib/python3.10/site-packages (from pandas->pandas_ta) (2.8.2)\r\n",
      "Requirement already satisfied: pytz>=2020.1 in /usr/local/lib/python3.10/site-packages (from pandas->pandas_ta) (2024.1)\r\n",
      "Requirement already satisfied: numpy<2,>=1.22.4 in /usr/local/lib/python3.10/site-packages (from pandas->pandas_ta) (1.26.4)\r\n",
      "Requirement already satisfied: tzdata>=2022.7 in /usr/local/lib/python3.10/site-packages (from pandas->pandas_ta) (2024.1)\r\n",
      "Requirement already satisfied: six>=1.5 in /usr/local/lib/python3.10/site-packages (from python-dateutil>=2.8.2->pandas->pandas_ta) (1.16.0)\r\n",
      "Building wheels for collected packages: pandas_ta\r\n"
     ]
    },
    {
     "name": "stdout",
     "output_type": "stream",
     "text": [
      "  Building wheel for pandas_ta (setup.py) ... \u001b[?25l-"
     ]
    },
    {
     "name": "stdout",
     "output_type": "stream",
     "text": [
      "\b \b\\"
     ]
    },
    {
     "name": "stdout",
     "output_type": "stream",
     "text": [
      "\b \b|"
     ]
    },
    {
     "name": "stdout",
     "output_type": "stream",
     "text": [
      "\b \bdone\r\n",
      "\u001b[?25h  Created wheel for pandas_ta: filename=pandas_ta-0.3.14b0-py3-none-any.whl size=218907 sha256=d2b8d7ed28a7d247567d05f00477fdf2b38fc4ea95d5d8c4c0b25ef7f994a6a5\r\n",
      "  Stored in directory: /root/.cache/pip/wheels/69/00/ac/f7fa862c34b0e2ef320175100c233377b4c558944f12474cf0\r\n",
      "Successfully built pandas_ta\r\n"
     ]
    },
    {
     "name": "stdout",
     "output_type": "stream",
     "text": [
      "Installing collected packages: pandas_ta\r\n"
     ]
    },
    {
     "name": "stdout",
     "output_type": "stream",
     "text": [
      "Successfully installed pandas_ta-0.3.14b0\r\n",
      "\u001b[33mWARNING: Running pip as the 'root' user can result in broken permissions and conflicting behaviour with the system package manager. It is recommended to use a virtual environment instead: https://pip.pypa.io/warnings/venv\u001b[0m\u001b[33m\r\n",
      "\u001b[0m\r\n",
      "\u001b[1m[\u001b[0m\u001b[34;49mnotice\u001b[0m\u001b[1;39;49m]\u001b[0m\u001b[39;49m A new release of pip is available: \u001b[0m\u001b[31;49m23.0.1\u001b[0m\u001b[39;49m -> \u001b[0m\u001b[32;49m24.0\u001b[0m\r\n",
      "\u001b[1m[\u001b[0m\u001b[34;49mnotice\u001b[0m\u001b[1;39;49m]\u001b[0m\u001b[39;49m To update, run: \u001b[0m\u001b[32;49mpip install --upgrade pip\u001b[0m\r\n"
     ]
    },
    {
     "name": "stdout",
     "output_type": "stream",
     "text": [
      "Note: you may need to restart the kernel to use updated packages.\n"
     ]
    },
    {
     "name": "stdout",
     "output_type": "stream",
     "text": [
      "Requirement already satisfied: tqdm in /usr/local/lib/python3.10/site-packages (4.66.2)\r\n"
     ]
    },
    {
     "name": "stdout",
     "output_type": "stream",
     "text": [
      "\u001b[33mWARNING: Running pip as the 'root' user can result in broken permissions and conflicting behaviour with the system package manager. It is recommended to use a virtual environment instead: https://pip.pypa.io/warnings/venv\u001b[0m\u001b[33m\r\n",
      "\u001b[0m\r\n",
      "\u001b[1m[\u001b[0m\u001b[34;49mnotice\u001b[0m\u001b[1;39;49m]\u001b[0m\u001b[39;49m A new release of pip is available: \u001b[0m\u001b[31;49m23.0.1\u001b[0m\u001b[39;49m -> \u001b[0m\u001b[32;49m24.0\u001b[0m\r\n",
      "\u001b[1m[\u001b[0m\u001b[34;49mnotice\u001b[0m\u001b[1;39;49m]\u001b[0m\u001b[39;49m To update, run: \u001b[0m\u001b[32;49mpip install --upgrade pip\u001b[0m\r\n"
     ]
    },
    {
     "name": "stdout",
     "output_type": "stream",
     "text": [
      "Note: you may need to restart the kernel to use updated packages.\n"
     ]
    }
   ],
   "source": [
    "if 'KAGGLE_KERNEL_RUN_TYPE' in os.environ:\n",
    "    print('Running in Kaggle...')\n",
    "\n",
    "    %pip install scikit-learn\n",
    "    %pip install matplotlib\n",
    "    %pip install tf-agents[reverb]\n",
    "    %pip install shutil\n",
    "    %pip install yfinance\n",
    "    %pip install pyarrow\n",
    "    %pip install ta\n",
    "    %pip install pandas_ta\n",
    "    %pip install tqdm\n",
    "\n",
    "    for dirname, _, filenames in os.walk('/kaggle/input'):\n",
    "        for filename in filenames:\n",
    "            print(os.path.join(dirname, filename))\n",
    "\n",
    "    DATA_DIR = \"/kaggle/input/DATASET\"\n",
    "    IN_KAGGLE = True\n",
    "else:\n",
    "    IN_KAGGLE = False\n",
    "    DATA_DIR = \"./data/\""
   ]
  },
  {
   "cell_type": "code",
   "execution_count": 3,
   "id": "dd5c0f14",
   "metadata": {
    "execution": {
     "iopub.execute_input": "2024-03-15T22:17:13.572081Z",
     "iopub.status.busy": "2024-03-15T22:17:13.571760Z",
     "iopub.status.idle": "2024-03-15T22:17:35.111179Z",
     "shell.execute_reply": "2024-03-15T22:17:35.110403Z"
    },
    "executionInfo": {
     "elapsed": 6369,
     "status": "ok",
     "timestamp": 1710410576375,
     "user": {
      "displayName": "Adam Darmanin",
      "userId": "00262451996831505471"
     },
     "user_tz": -60
    },
    "id": "GJiIs_h-H0Ca",
    "outputId": "e639a0a2-0f32-4741-916b-afb9f8f8202d",
    "papermill": {
     "duration": 21.558678,
     "end_time": "2024-03-15T22:17:35.112934",
     "exception": false,
     "start_time": "2024-03-15T22:17:13.554256",
     "status": "completed"
    },
    "tags": []
   },
   "outputs": [
    {
     "name": "stdout",
     "output_type": "stream",
     "text": [
      "Running on CPU\n",
      "Number of accelerators: 1\n"
     ]
    },
    {
     "data": {
      "text/plain": [
       "'/kaggle/working'"
      ]
     },
     "execution_count": 3,
     "metadata": {},
     "output_type": "execute_result"
    }
   ],
   "source": [
    "\n",
    "import numpy as np\n",
    "import math\n",
    "import shutil\n",
    "import yfinance as yf\n",
    "import pandas as pd\n",
    "\n",
    "import matplotlib.pyplot as plt\n",
    "import matplotlib.dates as mdates\n",
    "\n",
    "from datetime import datetime\n",
    "\n",
    "from scipy.stats import skew, kurtosis\n",
    "from ta.utils import dropna\n",
    "from ta.trend import MACD, EMAIndicator\n",
    "from ta.volatility import AverageTrueRange\n",
    "\n",
    "import tensorflow as tf\n",
    "from tf_agents.specs import array_spec, tensor_spec\n",
    "from tf_agents.trajectories import time_step as ts\n",
    "from tf_agents.utils import common\n",
    "from tf_agents.agents.dqn import dqn_agent\n",
    "from tf_agents.drivers import py_driver\n",
    "from tf_agents.environments import py_environment, tf_py_environment, utils\n",
    "from tf_agents.networks import sequential\n",
    "from tf_agents.policies import py_tf_eager_policy, policy_saver, random_tf_policy\n",
    "\n",
    "import reverb\n",
    "from tf_agents.replay_buffers import reverb_replay_buffer, reverb_utils\n",
    "\n",
    "from tqdm import tqdm\n",
    "\n",
    "os.environ['TF_CPP_MIN_LOG_LEVEL'] = '3'\n",
    "# In case CPU > GPU\n",
    "# tf.config.set_visible_devices([], 'GPU')\n",
    "\n",
    "resolver = None\n",
    "\n",
    "if ('COLAB_TPU_ADDR' in os.environ and IN_COLAB) or (IN_KAGGLE and 'TPU_NAME' in os.environ):\n",
    "    resolver = tf.distribute.cluster_resolver.TPUClusterResolver(tpu='grpc://' + os.environ['COLAB_TPU_ADDR'] if 'IN_COLAB' in globals() else os.environ['TPU_NAME'])\n",
    "    tf.config.experimental_connect_to_cluster(resolver)\n",
    "    tf.tpu.experimental.initialize_tpu_system(resolver)\n",
    "    strategy = tf.distribute.experimental.TPUStrategy(resolver)\n",
    "    print(\"Running on TPU:\", resolver.master())\n",
    "elif len(tf.config.list_physical_devices('GPU')) > 0:\n",
    "    strategy = tf.distribute.MirroredStrategy()\n",
    "    gpus = tf.config.experimental.list_physical_devices('GPU')\n",
    "    for gpu in gpus:\n",
    "        tf.config.experimental.set_memory_growth(gpu, True)\n",
    "    print(\"Running on\", len(tf.config.list_physical_devices('GPU')), \"GPU(s)\")\n",
    "else:\n",
    "    strategy = tf.distribute.get_strategy()\n",
    "    print(\"Running on CPU\")\n",
    "\n",
    "print(\"Number of accelerators:\", strategy.num_replicas_in_sync)\n",
    "\n",
    "os.getcwd()"
   ]
  },
  {
   "cell_type": "code",
   "execution_count": 4,
   "id": "230fdcff",
   "metadata": {
    "execution": {
     "iopub.execute_input": "2024-03-15T22:17:35.148303Z",
     "iopub.status.busy": "2024-03-15T22:17:35.147826Z",
     "iopub.status.idle": "2024-03-15T22:17:35.155605Z",
     "shell.execute_reply": "2024-03-15T22:17:35.154904Z"
    },
    "executionInfo": {
     "elapsed": 8,
     "status": "ok",
     "timestamp": 1710410576375,
     "user": {
      "displayName": "Adam Darmanin",
      "userId": "00262451996831505471"
     },
     "user_tz": -60
    },
    "id": "Mh5TWk3l1CJ-",
    "papermill": {
     "duration": 0.026942,
     "end_time": "2024-03-15T22:17:35.157290",
     "exception": false,
     "start_time": "2024-03-15T22:17:35.130348",
     "status": "completed"
    },
    "tags": []
   },
   "outputs": [],
   "source": [
    "START_DATE = \"2017-01-01\"\n",
    "SPLIT_DATE = '2018-1-1' # Turning point from train to tst\n",
    "END_DATE = \"2019-12-31\" # pd.Timestamp(datetime.now() - BDay(1)).strftime('%Y-%m-%d')\n",
    "DATA_DIR = \"./data\"\n",
    "INDEX = \"Date\"\n",
    "TARGET = 'TSLA'\n",
    "RATES_INDEX = \"^TNX\"  # 10 Year Treasury Note Yield\n",
    "VOLATILITY_INDEX = \"^VIX\"  # CBOE Volatility Index\n",
    "SMALLCAP_INDEX = \"^RUT\" # Russell 2000 Index\n",
    "GOLD_INDEX = \"GC=F\" # Gold futures\n",
    "TICKER_SYMBOLS = [TARGET, RATES_INDEX, VOLATILITY_INDEX, SMALLCAP_INDEX, GOLD_INDEX]\n",
    "INTERVAL = \"1d\"\n",
    "\n",
    "MODELS_PATH = './models'\n",
    "LOGS_PATH = './logs'\n",
    "\n",
    "ACT_NEUTRAL = 3 # Added this action to go to neutral and wait\n",
    "ACT_HOLD = 2\n",
    "ACT_LONG = 1\n",
    "ACT_SHORT = 0\n",
    "ACTIONS = [ACT_SHORT, ACT_LONG]\n",
    "\n",
    "CAPITAL = 100000\n",
    "TRADE_COSTS_PERCENT = 10 / 100 / 100 # 10BPS costs\n",
    "\n",
    "\n",
    "MACRO_FEATURES = [RATES_INDEX, VOLATILITY_INDEX, SMALLCAP_INDEX, GOLD_INDEX]\n",
    "TA_FEATURES = ['MACD', 'MACD_HIST', 'MACD_SIG', 'ATR']\n",
    "FEATURES = [\"Close\", \"High\", \"Low\", \"Open\", \"Volume\"]\n",
    "TARGET_FEATURE = \"Price Raw\"\n",
    "STATE_LEN = 30\n",
    "OBS_SPACE = (STATE_LEN)*len(FEATURES)\n",
    "ACT_SPACE = len(ACTIONS)\n",
    "\n",
    "BATCH_SIZE = 32\n",
    "LEARN_RATE = 1e-3\n",
    "TOTAL_ITERS = 600#10000\n",
    "TRAIN_EPISODES = 10\n",
    "INIT_COLLECT = 100\n",
    "TOTAL_COLLECT = 1\n",
    "LOG_INTERVALS = 200\n",
    "TEST_INTERVALS = 400\n",
    "MEMORY_LENGTH = 100000\n",
    "DISCOUNT = .6\n",
    "EPSILON_START = 1.\n",
    "TARGET_UPDATE = 1000\n",
    "EPSILON_END = 0.0015\n",
    "EPSILON_DECAY = 1000\n",
    "GRAD_CLIP = 1\n",
    "REWARD_CLIP = 1\n",
    "PUNISHMENT = 1.25\n",
    "\n",
    "DROPOUT = 0.4\n",
    "L2FACTOR = 0.000001\n",
    "NEURONS = 512\n",
    "LAYERS = (NEURONS, NEURONS, NEURONS, NEURONS, NEURONS)"
   ]
  },
  {
   "cell_type": "markdown",
   "id": "fd5f770f",
   "metadata": {
    "id": "H4DpIfIPH0Ch",
    "papermill": {
     "duration": 0.015913,
     "end_time": "2024-03-15T22:17:35.216295",
     "exception": false,
     "start_time": "2024-03-15T22:17:35.200382",
     "status": "completed"
    },
    "tags": []
   },
   "source": [
    "# Financial Data\n",
    "\n",
    "We download some financial data, this is now the standard in our articles."
   ]
  },
  {
   "cell_type": "code",
   "execution_count": 5,
   "id": "22f9015c",
   "metadata": {
    "execution": {
     "iopub.execute_input": "2024-03-15T22:17:35.249561Z",
     "iopub.status.busy": "2024-03-15T22:17:35.249289Z",
     "iopub.status.idle": "2024-03-15T22:17:36.422816Z",
     "shell.execute_reply": "2024-03-15T22:17:36.422069Z"
    },
    "executionInfo": {
     "elapsed": 1225,
     "status": "ok",
     "timestamp": 1710410577593,
     "user": {
      "displayName": "Adam Darmanin",
      "userId": "00262451996831505471"
     },
     "user_tz": -60
    },
    "id": "s64pmt9mH0Cj",
    "outputId": "ffdcc9c6-322f-4598-c4d0-92ffb7f60885",
    "papermill": {
     "duration": 1.192313,
     "end_time": "2024-03-15T22:17:36.424519",
     "exception": false,
     "start_time": "2024-03-15T22:17:35.232206",
     "status": "completed"
    },
    "tags": []
   },
   "outputs": [
    {
     "name": "stdout",
     "output_type": "stream",
     "text": [
      "TSLA => min_date: 2017-01-03 00:00:00, max_date: 2019-12-30 00:00:00, kurt:-0.56, skewness:-0.28, outliers_count:0,  nan_count: 0\n",
      "^TNX => min_date: 2017-01-03 00:00:00, max_date: 2019-12-30 00:00:00, kurt:-0.64, skewness:-0.29, outliers_count:0,  nan_count: 0\n"
     ]
    },
    {
     "name": "stdout",
     "output_type": "stream",
     "text": [
      "^VIX => min_date: 2017-01-03 00:00:00, max_date: 2019-12-30 00:00:00, kurt:3.5, skewness:1.55, outliers_count:11,  nan_count: 0\n",
      "^RUT => min_date: 2017-01-03 00:00:00, max_date: 2019-12-30 00:00:00, kurt:-0.71, skewness:0.05, outliers_count:0,  nan_count: 0\n"
     ]
    },
    {
     "name": "stdout",
     "output_type": "stream",
     "text": [
      "GC=F => min_date: 2017-01-03 00:00:00, max_date: 2019-12-30 00:00:00, kurt:0.24, skewness:1.05, outliers_count:0,  nan_count: 0\n"
     ]
    },
    {
     "data": {
      "text/html": [
       "<div>\n",
       "<style scoped>\n",
       "    .dataframe tbody tr th:only-of-type {\n",
       "        vertical-align: middle;\n",
       "    }\n",
       "\n",
       "    .dataframe tbody tr th {\n",
       "        vertical-align: top;\n",
       "    }\n",
       "\n",
       "    .dataframe thead th {\n",
       "        text-align: right;\n",
       "    }\n",
       "</style>\n",
       "<table border=\"1\" class=\"dataframe\">\n",
       "  <thead>\n",
       "    <tr style=\"text-align: right;\">\n",
       "      <th></th>\n",
       "      <th>Open</th>\n",
       "      <th>High</th>\n",
       "      <th>Low</th>\n",
       "      <th>Close</th>\n",
       "      <th>Adj Close</th>\n",
       "      <th>Volume</th>\n",
       "      <th>MACD</th>\n",
       "      <th>MACD_HIST</th>\n",
       "      <th>MACD_SIG</th>\n",
       "      <th>ATR</th>\n",
       "      <th>EMA</th>\n",
       "    </tr>\n",
       "    <tr>\n",
       "      <th>Date</th>\n",
       "      <th></th>\n",
       "      <th></th>\n",
       "      <th></th>\n",
       "      <th></th>\n",
       "      <th></th>\n",
       "      <th></th>\n",
       "      <th></th>\n",
       "      <th></th>\n",
       "      <th></th>\n",
       "      <th></th>\n",
       "      <th></th>\n",
       "    </tr>\n",
       "  </thead>\n",
       "  <tbody>\n",
       "    <tr>\n",
       "      <th>2017-01-03</th>\n",
       "      <td>14.324000</td>\n",
       "      <td>14.688667</td>\n",
       "      <td>14.064000</td>\n",
       "      <td>14.466000</td>\n",
       "      <td>14.466000</td>\n",
       "      <td>88849500</td>\n",
       "      <td>0.000000</td>\n",
       "      <td>0.000000</td>\n",
       "      <td>0.000000</td>\n",
       "      <td>0.000000</td>\n",
       "      <td>14.466000</td>\n",
       "    </tr>\n",
       "    <tr>\n",
       "      <th>2017-01-04</th>\n",
       "      <td>14.316667</td>\n",
       "      <td>15.200000</td>\n",
       "      <td>14.287333</td>\n",
       "      <td>15.132667</td>\n",
       "      <td>15.132667</td>\n",
       "      <td>168202500</td>\n",
       "      <td>0.053181</td>\n",
       "      <td>0.042545</td>\n",
       "      <td>0.010636</td>\n",
       "      <td>0.000000</td>\n",
       "      <td>14.554889</td>\n",
       "    </tr>\n",
       "    <tr>\n",
       "      <th>2017-01-05</th>\n",
       "      <td>15.094667</td>\n",
       "      <td>15.165333</td>\n",
       "      <td>14.796667</td>\n",
       "      <td>15.116667</td>\n",
       "      <td>15.116667</td>\n",
       "      <td>88675500</td>\n",
       "      <td>0.092965</td>\n",
       "      <td>0.065863</td>\n",
       "      <td>0.027102</td>\n",
       "      <td>0.000000</td>\n",
       "      <td>14.629792</td>\n",
       "    </tr>\n",
       "    <tr>\n",
       "      <th>2017-01-06</th>\n",
       "      <td>15.128667</td>\n",
       "      <td>15.354000</td>\n",
       "      <td>15.030000</td>\n",
       "      <td>15.267333</td>\n",
       "      <td>15.267333</td>\n",
       "      <td>82918500</td>\n",
       "      <td>0.135095</td>\n",
       "      <td>0.086394</td>\n",
       "      <td>0.048701</td>\n",
       "      <td>0.000000</td>\n",
       "      <td>14.714798</td>\n",
       "    </tr>\n",
       "    <tr>\n",
       "      <th>2017-01-09</th>\n",
       "      <td>15.264667</td>\n",
       "      <td>15.461333</td>\n",
       "      <td>15.200000</td>\n",
       "      <td>15.418667</td>\n",
       "      <td>15.418667</td>\n",
       "      <td>59692500</td>\n",
       "      <td>0.178635</td>\n",
       "      <td>0.103947</td>\n",
       "      <td>0.074687</td>\n",
       "      <td>0.000000</td>\n",
       "      <td>14.808647</td>\n",
       "    </tr>\n",
       "    <tr>\n",
       "      <th>...</th>\n",
       "      <td>...</td>\n",
       "      <td>...</td>\n",
       "      <td>...</td>\n",
       "      <td>...</td>\n",
       "      <td>...</td>\n",
       "      <td>...</td>\n",
       "      <td>...</td>\n",
       "      <td>...</td>\n",
       "      <td>...</td>\n",
       "      <td>...</td>\n",
       "      <td>...</td>\n",
       "    </tr>\n",
       "    <tr>\n",
       "      <th>2019-12-23</th>\n",
       "      <td>27.452000</td>\n",
       "      <td>28.134001</td>\n",
       "      <td>27.333332</td>\n",
       "      <td>27.948000</td>\n",
       "      <td>27.948000</td>\n",
       "      <td>199794000</td>\n",
       "      <td>1.430910</td>\n",
       "      <td>0.395042</td>\n",
       "      <td>1.035868</td>\n",
       "      <td>0.775349</td>\n",
       "      <td>25.108233</td>\n",
       "    </tr>\n",
       "    <tr>\n",
       "      <th>2019-12-24</th>\n",
       "      <td>27.890667</td>\n",
       "      <td>28.364668</td>\n",
       "      <td>27.512667</td>\n",
       "      <td>28.350000</td>\n",
       "      <td>28.350000</td>\n",
       "      <td>120820500</td>\n",
       "      <td>1.562356</td>\n",
       "      <td>0.421191</td>\n",
       "      <td>1.141165</td>\n",
       "      <td>0.780824</td>\n",
       "      <td>25.540469</td>\n",
       "    </tr>\n",
       "    <tr>\n",
       "      <th>2019-12-26</th>\n",
       "      <td>28.527332</td>\n",
       "      <td>28.898666</td>\n",
       "      <td>28.423332</td>\n",
       "      <td>28.729334</td>\n",
       "      <td>28.729334</td>\n",
       "      <td>159508500</td>\n",
       "      <td>1.677797</td>\n",
       "      <td>0.429305</td>\n",
       "      <td>1.248492</td>\n",
       "      <td>0.764242</td>\n",
       "      <td>25.965651</td>\n",
       "    </tr>\n",
       "    <tr>\n",
       "      <th>2019-12-27</th>\n",
       "      <td>29.000000</td>\n",
       "      <td>29.020666</td>\n",
       "      <td>28.407333</td>\n",
       "      <td>28.691999</td>\n",
       "      <td>28.691999</td>\n",
       "      <td>149185500</td>\n",
       "      <td>1.746143</td>\n",
       "      <td>0.398121</td>\n",
       "      <td>1.348022</td>\n",
       "      <td>0.753462</td>\n",
       "      <td>26.329164</td>\n",
       "    </tr>\n",
       "    <tr>\n",
       "      <th>2019-12-30</th>\n",
       "      <td>28.586000</td>\n",
       "      <td>28.600000</td>\n",
       "      <td>27.284000</td>\n",
       "      <td>27.646667</td>\n",
       "      <td>27.646667</td>\n",
       "      <td>188796000</td>\n",
       "      <td>1.696403</td>\n",
       "      <td>0.278705</td>\n",
       "      <td>1.417698</td>\n",
       "      <td>0.800215</td>\n",
       "      <td>26.504831</td>\n",
       "    </tr>\n",
       "  </tbody>\n",
       "</table>\n",
       "<p>753 rows × 11 columns</p>\n",
       "</div>"
      ],
      "text/plain": [
       "                 Open       High        Low      Close  Adj Close     Volume  \\\n",
       "Date                                                                           \n",
       "2017-01-03  14.324000  14.688667  14.064000  14.466000  14.466000   88849500   \n",
       "2017-01-04  14.316667  15.200000  14.287333  15.132667  15.132667  168202500   \n",
       "2017-01-05  15.094667  15.165333  14.796667  15.116667  15.116667   88675500   \n",
       "2017-01-06  15.128667  15.354000  15.030000  15.267333  15.267333   82918500   \n",
       "2017-01-09  15.264667  15.461333  15.200000  15.418667  15.418667   59692500   \n",
       "...               ...        ...        ...        ...        ...        ...   \n",
       "2019-12-23  27.452000  28.134001  27.333332  27.948000  27.948000  199794000   \n",
       "2019-12-24  27.890667  28.364668  27.512667  28.350000  28.350000  120820500   \n",
       "2019-12-26  28.527332  28.898666  28.423332  28.729334  28.729334  159508500   \n",
       "2019-12-27  29.000000  29.020666  28.407333  28.691999  28.691999  149185500   \n",
       "2019-12-30  28.586000  28.600000  27.284000  27.646667  27.646667  188796000   \n",
       "\n",
       "                MACD  MACD_HIST  MACD_SIG       ATR        EMA  \n",
       "Date                                                            \n",
       "2017-01-03  0.000000   0.000000  0.000000  0.000000  14.466000  \n",
       "2017-01-04  0.053181   0.042545  0.010636  0.000000  14.554889  \n",
       "2017-01-05  0.092965   0.065863  0.027102  0.000000  14.629792  \n",
       "2017-01-06  0.135095   0.086394  0.048701  0.000000  14.714798  \n",
       "2017-01-09  0.178635   0.103947  0.074687  0.000000  14.808647  \n",
       "...              ...        ...       ...       ...        ...  \n",
       "2019-12-23  1.430910   0.395042  1.035868  0.775349  25.108233  \n",
       "2019-12-24  1.562356   0.421191  1.141165  0.780824  25.540469  \n",
       "2019-12-26  1.677797   0.429305  1.248492  0.764242  25.965651  \n",
       "2019-12-27  1.746143   0.398121  1.348022  0.753462  26.329164  \n",
       "2019-12-30  1.696403   0.278705  1.417698  0.800215  26.504831  \n",
       "\n",
       "[753 rows x 11 columns]"
      ]
     },
     "execution_count": 5,
     "metadata": {},
     "output_type": "execute_result"
    }
   ],
   "source": [
    "def get_tickerdata(tickers_symbols, start=START_DATE, end=END_DATE, interval=INTERVAL, datadir=DATA_DIR):\n",
    "    tickers = {}\n",
    "    earliest_end= datetime.strptime(end,'%Y-%m-%d')\n",
    "    latest_start = datetime.strptime(start,'%Y-%m-%d')\n",
    "    os.makedirs(DATA_DIR, exist_ok=True)\n",
    "    for symbol in tickers_symbols:\n",
    "        cached_file_path = f\"{datadir}/{symbol}-{start}-{end}-{interval}.csv\"\n",
    "\n",
    "        try:\n",
    "            if os.path.exists(cached_file_path):\n",
    "                df = pd.read_parquet(cached_file_path)\n",
    "                df.index = pd.to_datetime(df.index)\n",
    "                assert len(df) > 0\n",
    "            else:\n",
    "                df = yf.download(\n",
    "                    symbol,\n",
    "                    start=START_DATE,\n",
    "                    end=END_DATE,\n",
    "                    progress=False,\n",
    "                    interval=INTERVAL,\n",
    "                )\n",
    "                assert len(df) > 0\n",
    "                df.to_parquet(cached_file_path, index=True, compression=\"snappy\")\n",
    "            min_date = df.index.min()\n",
    "            max_date = df.index.max()\n",
    "            nan_count = df[\"Close\"].isnull().sum()\n",
    "            skewness = round(skew(df[\"Close\"].dropna()), 2)\n",
    "            kurt = round(kurtosis(df[\"Close\"].dropna()), 2)\n",
    "            outliers_count = (df[\"Close\"] > df[\"Close\"].mean() + (3 * df[\"Close\"].std())).sum()\n",
    "            print(\n",
    "                f\"{symbol} => min_date: {min_date}, max_date: {max_date}, kurt:{kurt}, skewness:{skewness}, outliers_count:{outliers_count},  nan_count: {nan_count}\"\n",
    "            )\n",
    "            tickers[symbol] = df\n",
    "\n",
    "            if min_date > latest_start:\n",
    "                latest_start = min_date\n",
    "            if max_date < earliest_end:\n",
    "                earliest_end = max_date\n",
    "        except Exception as e:\n",
    "            print(f\"Error with {symbol}: {e}\")\n",
    "\n",
    "    return tickers, latest_start, earliest_end\n",
    "\n",
    "tickers, latest_start, earliest_end = get_tickerdata(TICKER_SYMBOLS)\n",
    "\n",
    "from ta.utils import dropna\n",
    "from ta.trend import MACD, EMAIndicator\n",
    "from ta.volatility import AverageTrueRange\n",
    "\n",
    "stock_df = tickers[TARGET].copy()\n",
    "\n",
    "macd = MACD(close=stock_df[\"Close\"], window_slow=26, window_fast=12, window_sign=9, fillna=True)\n",
    "stock_df['MACD'] = macd.macd()\n",
    "stock_df['MACD_HIST'] = macd.macd_diff()\n",
    "stock_df['MACD_SIG'] = macd.macd_signal()\n",
    "\n",
    "atr = AverageTrueRange(stock_df[\"High\"], stock_df[\"Low\"], stock_df[\"Close\"], window = 14, fillna = True)\n",
    "stock_df['ATR'] = atr.average_true_range()\n",
    "\n",
    "ema = EMAIndicator(stock_df[\"Close\"], window = 14, fillna = True)\n",
    "stock_df['EMA'] = ema.ema_indicator()\n",
    "\n",
    "stock_df"
   ]
  },
  {
   "cell_type": "code",
   "execution_count": 6,
   "id": "09b51bc1",
   "metadata": {
    "execution": {
     "iopub.execute_input": "2024-03-15T22:17:36.459402Z",
     "iopub.status.busy": "2024-03-15T22:17:36.459143Z",
     "iopub.status.idle": "2024-03-15T22:17:36.478933Z",
     "shell.execute_reply": "2024-03-15T22:17:36.478271Z"
    },
    "papermill": {
     "duration": 0.038894,
     "end_time": "2024-03-15T22:17:36.480530",
     "exception": false,
     "start_time": "2024-03-15T22:17:36.441636",
     "status": "completed"
    },
    "tags": []
   },
   "outputs": [
    {
     "data": {
      "text/html": [
       "<div>\n",
       "<style scoped>\n",
       "    .dataframe tbody tr th:only-of-type {\n",
       "        vertical-align: middle;\n",
       "    }\n",
       "\n",
       "    .dataframe tbody tr th {\n",
       "        vertical-align: top;\n",
       "    }\n",
       "\n",
       "    .dataframe thead th {\n",
       "        text-align: right;\n",
       "    }\n",
       "</style>\n",
       "<table border=\"1\" class=\"dataframe\">\n",
       "  <thead>\n",
       "    <tr style=\"text-align: right;\">\n",
       "      <th></th>\n",
       "      <th>Open</th>\n",
       "      <th>High</th>\n",
       "      <th>Low</th>\n",
       "      <th>Close</th>\n",
       "      <th>Adj Close</th>\n",
       "      <th>Volume</th>\n",
       "      <th>MACD</th>\n",
       "      <th>MACD_HIST</th>\n",
       "      <th>MACD_SIG</th>\n",
       "      <th>ATR</th>\n",
       "      <th>EMA</th>\n",
       "      <th>^VIX</th>\n",
       "      <th>^TNX</th>\n",
       "      <th>^RUT</th>\n",
       "      <th>GC=F</th>\n",
       "    </tr>\n",
       "    <tr>\n",
       "      <th>Date</th>\n",
       "      <th></th>\n",
       "      <th></th>\n",
       "      <th></th>\n",
       "      <th></th>\n",
       "      <th></th>\n",
       "      <th></th>\n",
       "      <th></th>\n",
       "      <th></th>\n",
       "      <th></th>\n",
       "      <th></th>\n",
       "      <th></th>\n",
       "      <th></th>\n",
       "      <th></th>\n",
       "      <th></th>\n",
       "      <th></th>\n",
       "    </tr>\n",
       "  </thead>\n",
       "  <tbody>\n",
       "    <tr>\n",
       "      <th>2017-01-03</th>\n",
       "      <td>14.324000</td>\n",
       "      <td>14.688667</td>\n",
       "      <td>14.064000</td>\n",
       "      <td>14.466000</td>\n",
       "      <td>14.466000</td>\n",
       "      <td>88849500</td>\n",
       "      <td>0.000000</td>\n",
       "      <td>0.000000</td>\n",
       "      <td>0.000000</td>\n",
       "      <td>0.000000</td>\n",
       "      <td>14.466000</td>\n",
       "      <td>12.85</td>\n",
       "      <td>2.450</td>\n",
       "      <td>1365.489990</td>\n",
       "      <td>1160.400024</td>\n",
       "    </tr>\n",
       "    <tr>\n",
       "      <th>2017-01-04</th>\n",
       "      <td>14.316667</td>\n",
       "      <td>15.200000</td>\n",
       "      <td>14.287333</td>\n",
       "      <td>15.132667</td>\n",
       "      <td>15.132667</td>\n",
       "      <td>168202500</td>\n",
       "      <td>0.053181</td>\n",
       "      <td>0.042545</td>\n",
       "      <td>0.010636</td>\n",
       "      <td>0.000000</td>\n",
       "      <td>14.554889</td>\n",
       "      <td>11.85</td>\n",
       "      <td>2.452</td>\n",
       "      <td>1387.949951</td>\n",
       "      <td>1163.800049</td>\n",
       "    </tr>\n",
       "    <tr>\n",
       "      <th>2017-01-05</th>\n",
       "      <td>15.094667</td>\n",
       "      <td>15.165333</td>\n",
       "      <td>14.796667</td>\n",
       "      <td>15.116667</td>\n",
       "      <td>15.116667</td>\n",
       "      <td>88675500</td>\n",
       "      <td>0.092965</td>\n",
       "      <td>0.065863</td>\n",
       "      <td>0.027102</td>\n",
       "      <td>0.000000</td>\n",
       "      <td>14.629792</td>\n",
       "      <td>11.67</td>\n",
       "      <td>2.368</td>\n",
       "      <td>1371.939941</td>\n",
       "      <td>1179.699951</td>\n",
       "    </tr>\n",
       "    <tr>\n",
       "      <th>2017-01-06</th>\n",
       "      <td>15.128667</td>\n",
       "      <td>15.354000</td>\n",
       "      <td>15.030000</td>\n",
       "      <td>15.267333</td>\n",
       "      <td>15.267333</td>\n",
       "      <td>82918500</td>\n",
       "      <td>0.135095</td>\n",
       "      <td>0.086394</td>\n",
       "      <td>0.048701</td>\n",
       "      <td>0.000000</td>\n",
       "      <td>14.714798</td>\n",
       "      <td>11.32</td>\n",
       "      <td>2.418</td>\n",
       "      <td>1367.280029</td>\n",
       "      <td>1171.900024</td>\n",
       "    </tr>\n",
       "    <tr>\n",
       "      <th>2017-01-09</th>\n",
       "      <td>15.264667</td>\n",
       "      <td>15.461333</td>\n",
       "      <td>15.200000</td>\n",
       "      <td>15.418667</td>\n",
       "      <td>15.418667</td>\n",
       "      <td>59692500</td>\n",
       "      <td>0.178635</td>\n",
       "      <td>0.103947</td>\n",
       "      <td>0.074687</td>\n",
       "      <td>0.000000</td>\n",
       "      <td>14.808647</td>\n",
       "      <td>11.56</td>\n",
       "      <td>2.376</td>\n",
       "      <td>1357.489990</td>\n",
       "      <td>1183.500000</td>\n",
       "    </tr>\n",
       "    <tr>\n",
       "      <th>...</th>\n",
       "      <td>...</td>\n",
       "      <td>...</td>\n",
       "      <td>...</td>\n",
       "      <td>...</td>\n",
       "      <td>...</td>\n",
       "      <td>...</td>\n",
       "      <td>...</td>\n",
       "      <td>...</td>\n",
       "      <td>...</td>\n",
       "      <td>...</td>\n",
       "      <td>...</td>\n",
       "      <td>...</td>\n",
       "      <td>...</td>\n",
       "      <td>...</td>\n",
       "      <td>...</td>\n",
       "    </tr>\n",
       "    <tr>\n",
       "      <th>2019-12-23</th>\n",
       "      <td>27.452000</td>\n",
       "      <td>28.134001</td>\n",
       "      <td>27.333332</td>\n",
       "      <td>27.948000</td>\n",
       "      <td>27.948000</td>\n",
       "      <td>199794000</td>\n",
       "      <td>1.430910</td>\n",
       "      <td>0.395042</td>\n",
       "      <td>1.035868</td>\n",
       "      <td>0.775349</td>\n",
       "      <td>25.108233</td>\n",
       "      <td>12.61</td>\n",
       "      <td>1.935</td>\n",
       "      <td>1674.140015</td>\n",
       "      <td>1482.500000</td>\n",
       "    </tr>\n",
       "    <tr>\n",
       "      <th>2019-12-24</th>\n",
       "      <td>27.890667</td>\n",
       "      <td>28.364668</td>\n",
       "      <td>27.512667</td>\n",
       "      <td>28.350000</td>\n",
       "      <td>28.350000</td>\n",
       "      <td>120820500</td>\n",
       "      <td>1.562356</td>\n",
       "      <td>0.421191</td>\n",
       "      <td>1.141165</td>\n",
       "      <td>0.780824</td>\n",
       "      <td>25.540469</td>\n",
       "      <td>12.67</td>\n",
       "      <td>1.910</td>\n",
       "      <td>1678.010010</td>\n",
       "      <td>1499.099976</td>\n",
       "    </tr>\n",
       "    <tr>\n",
       "      <th>2019-12-26</th>\n",
       "      <td>28.527332</td>\n",
       "      <td>28.898666</td>\n",
       "      <td>28.423332</td>\n",
       "      <td>28.729334</td>\n",
       "      <td>28.729334</td>\n",
       "      <td>159508500</td>\n",
       "      <td>1.677797</td>\n",
       "      <td>0.429305</td>\n",
       "      <td>1.248492</td>\n",
       "      <td>0.764242</td>\n",
       "      <td>25.965651</td>\n",
       "      <td>12.65</td>\n",
       "      <td>1.905</td>\n",
       "      <td>1677.670044</td>\n",
       "      <td>1509.300049</td>\n",
       "    </tr>\n",
       "    <tr>\n",
       "      <th>2019-12-27</th>\n",
       "      <td>29.000000</td>\n",
       "      <td>29.020666</td>\n",
       "      <td>28.407333</td>\n",
       "      <td>28.691999</td>\n",
       "      <td>28.691999</td>\n",
       "      <td>149185500</td>\n",
       "      <td>1.746143</td>\n",
       "      <td>0.398121</td>\n",
       "      <td>1.348022</td>\n",
       "      <td>0.753462</td>\n",
       "      <td>26.329164</td>\n",
       "      <td>13.43</td>\n",
       "      <td>1.874</td>\n",
       "      <td>1669.030029</td>\n",
       "      <td>1513.800049</td>\n",
       "    </tr>\n",
       "    <tr>\n",
       "      <th>2019-12-30</th>\n",
       "      <td>28.586000</td>\n",
       "      <td>28.600000</td>\n",
       "      <td>27.284000</td>\n",
       "      <td>27.646667</td>\n",
       "      <td>27.646667</td>\n",
       "      <td>188796000</td>\n",
       "      <td>1.696403</td>\n",
       "      <td>0.278705</td>\n",
       "      <td>1.417698</td>\n",
       "      <td>0.800215</td>\n",
       "      <td>26.504831</td>\n",
       "      <td>14.82</td>\n",
       "      <td>1.895</td>\n",
       "      <td>1664.150024</td>\n",
       "      <td>1514.500000</td>\n",
       "    </tr>\n",
       "  </tbody>\n",
       "</table>\n",
       "<p>753 rows × 15 columns</p>\n",
       "</div>"
      ],
      "text/plain": [
       "                 Open       High        Low      Close  Adj Close     Volume  \\\n",
       "Date                                                                           \n",
       "2017-01-03  14.324000  14.688667  14.064000  14.466000  14.466000   88849500   \n",
       "2017-01-04  14.316667  15.200000  14.287333  15.132667  15.132667  168202500   \n",
       "2017-01-05  15.094667  15.165333  14.796667  15.116667  15.116667   88675500   \n",
       "2017-01-06  15.128667  15.354000  15.030000  15.267333  15.267333   82918500   \n",
       "2017-01-09  15.264667  15.461333  15.200000  15.418667  15.418667   59692500   \n",
       "...               ...        ...        ...        ...        ...        ...   \n",
       "2019-12-23  27.452000  28.134001  27.333332  27.948000  27.948000  199794000   \n",
       "2019-12-24  27.890667  28.364668  27.512667  28.350000  28.350000  120820500   \n",
       "2019-12-26  28.527332  28.898666  28.423332  28.729334  28.729334  159508500   \n",
       "2019-12-27  29.000000  29.020666  28.407333  28.691999  28.691999  149185500   \n",
       "2019-12-30  28.586000  28.600000  27.284000  27.646667  27.646667  188796000   \n",
       "\n",
       "                MACD  MACD_HIST  MACD_SIG       ATR        EMA   ^VIX   ^TNX  \\\n",
       "Date                                                                           \n",
       "2017-01-03  0.000000   0.000000  0.000000  0.000000  14.466000  12.85  2.450   \n",
       "2017-01-04  0.053181   0.042545  0.010636  0.000000  14.554889  11.85  2.452   \n",
       "2017-01-05  0.092965   0.065863  0.027102  0.000000  14.629792  11.67  2.368   \n",
       "2017-01-06  0.135095   0.086394  0.048701  0.000000  14.714798  11.32  2.418   \n",
       "2017-01-09  0.178635   0.103947  0.074687  0.000000  14.808647  11.56  2.376   \n",
       "...              ...        ...       ...       ...        ...    ...    ...   \n",
       "2019-12-23  1.430910   0.395042  1.035868  0.775349  25.108233  12.61  1.935   \n",
       "2019-12-24  1.562356   0.421191  1.141165  0.780824  25.540469  12.67  1.910   \n",
       "2019-12-26  1.677797   0.429305  1.248492  0.764242  25.965651  12.65  1.905   \n",
       "2019-12-27  1.746143   0.398121  1.348022  0.753462  26.329164  13.43  1.874   \n",
       "2019-12-30  1.696403   0.278705  1.417698  0.800215  26.504831  14.82  1.895   \n",
       "\n",
       "                   ^RUT         GC=F  \n",
       "Date                                  \n",
       "2017-01-03  1365.489990  1160.400024  \n",
       "2017-01-04  1387.949951  1163.800049  \n",
       "2017-01-05  1371.939941  1179.699951  \n",
       "2017-01-06  1367.280029  1171.900024  \n",
       "2017-01-09  1357.489990  1183.500000  \n",
       "...                 ...          ...  \n",
       "2019-12-23  1674.140015  1482.500000  \n",
       "2019-12-24  1678.010010  1499.099976  \n",
       "2019-12-26  1677.670044  1509.300049  \n",
       "2019-12-27  1669.030029  1513.800049  \n",
       "2019-12-30  1664.150024  1514.500000  \n",
       "\n",
       "[753 rows x 15 columns]"
      ]
     },
     "execution_count": 6,
     "metadata": {},
     "output_type": "execute_result"
    }
   ],
   "source": [
    "stock_df[VOLATILITY_INDEX] = tickers[VOLATILITY_INDEX][\"Close\"]\n",
    "stock_df[RATES_INDEX] = tickers[RATES_INDEX][\"Close\"]\n",
    "stock_df[SMALLCAP_INDEX] = tickers[SMALLCAP_INDEX][\"Close\"]\n",
    "stock_df[GOLD_INDEX] = tickers[GOLD_INDEX][\"Close\"]\n",
    "\n",
    "stock_df"
   ]
  },
  {
   "cell_type": "markdown",
   "id": "65e975ad",
   "metadata": {
    "id": "ZDY9OBeVsxsA",
    "papermill": {
     "duration": 0.018076,
     "end_time": "2024-03-15T22:17:36.516046",
     "exception": false,
     "start_time": "2024-03-15T22:17:36.497970",
     "status": "completed"
    },
    "tags": []
   },
   "source": [
    "# The Problem Definition\n",
    "\n",
    "With Q-Training, we shall teach a pavlovian-agent to trade. Our objective is to make sequential interaction that lead to the highest sharpe ratio, formalized by this policy (remember Q-Learning is off-policy, and we won't learn this directly):\n",
    "\n",
    "$$\n",
    "\\pi^*(a_t | s_t) = \\arg\\max_{a \\in \\mathcal{A}} \\mathbb{E} \\left[ \\sum_{t=0}^{\\infty} \\gamma^t r_t \\middle| s_t = f(o_1, a_1, r_1, \\ldots, o_t), a_t \\right]\n",
    "$$\n",
    "\n",
    "At each timestep *t*:\n",
    "\n",
    "1. Observe the environments state *st* and map history with *f(.)*\n",
    "2. Observations *ot* from history *ht*, have previous actions *a_t-1*, previous observations *o_t-1* and their returns *r_t-1*. For our experiment, we'll encode these into features for a network.\n",
    "3. Execute action *a_t*, which can be: hold, long, short\n",
    "4. Get returns *r_t* discounted at *γt*. *γ* is the discounting factor to prevent the agent from doing only tactical choices for returns in the present (missing better future returns).\n",
    "\n",
    "\n",
    "The *π(at|ht)* creates an action on a Quantity Q *at = Qt*. Where a positive *Q* is the long, the negative *Q* signals a short and when its 0 no action is taken. For this article we will use the definition of policy *π(at|ht)* and Q-Value *Q(at,st)* interchangeably, as Q will define quantities bought."
   ]
  },
  {
   "cell_type": "markdown",
   "id": "0bc5ebd5",
   "metadata": {
    "id": "I7yPL6IJtuuz",
    "papermill": {
     "duration": 0.016743,
     "end_time": "2024-03-15T22:17:36.549848",
     "exception": false,
     "start_time": "2024-03-15T22:17:36.533105",
     "status": "completed"
    },
    "tags": []
   },
   "source": [
    "## Observations and State Space\n",
    "\n",
    "The paper uses only High, Low, Open, Close and Volume as observations from the agent's environment state.\n",
    "\n",
    "We will augment this space with 2 technical indicators and 2 macroeconomic indicators:\n",
    "- 20day slow and 7 day fast exponential moving average, from our article: \"Momentum and Reversion Trading Signals Analysis\"\n",
    "- The daily VIX as proxy for market volatility & fear, and the 2 year T-note as proxy for inflation & rates, from our article: \"Temporal Convolutional Neural Network with Conditioning for Broad Market Signals\"\n",
    "\n",
    "$$\n",
    "o_t = s_t \\in \\{{\\text{High}_t}, {\\text{Low}_t}, {\\text{Open}_t}, {\\text{Close}_t}, {\\text{Volume}_t}, {\\text{FastEMA}_t}, {\\text{SlowEMA}_t}, {\\text{VIX}_t}, {\\text{T2YR}_t}\\}\n",
    "$$"
   ]
  },
  {
   "cell_type": "markdown",
   "id": "f7ae2bcc",
   "metadata": {
    "id": "IUoFMk_AsxsA",
    "papermill": {
     "duration": 0.018051,
     "end_time": "2024-03-15T22:17:36.584922",
     "exception": false,
     "start_time": "2024-03-15T22:17:36.566871",
     "status": "completed"
    },
    "tags": []
   },
   "source": [
    "## Actions and Rewards\n",
    "\n",
    "A core concept in RL is rewards engineering. Let's look at our action space *A* at time *t*:\n",
    "\n",
    "$$\n",
    "a_t = Q_t \\in \\{Q_{\\text{Long}, t}, Q_{\\text{Short}, t}\\}\n",
    "$$\n",
    "\n",
    "The action *Q_Long,t* is set to maximize returns on a buy, given our liquidity *vc_t* (the value *v* of our portfolio with cash remainng *c*) and purchasing *Q_long* at price *p* shares (transaction costs *C*) if we are not already long:\n",
    "\n",
    "$$\n",
    "Q_{\\text{Long}, t} =\n",
    "\\begin{cases}\n",
    "\\left\\lfloor \\frac{v_{c,t}}{p_t (1 + C)}\\right\\rfloor & \\text{if } a_{t-1} \\neq Q_{\\text{Long}, t-1}, \\\\\n",
    "0 & \\text{otherwise}.\n",
    "\\end{cases}\n",
    "$$\n",
    "\n",
    "The action *Q_Short,t* aims to convert a **negative** number of shares to returns (shorting is the borrowing of shares, therefore our *v_c* will be initially negative).\n",
    "\n",
    "$$\n",
    "\\hat{Q}_{\\text{Short}, t} =\n",
    "\\begin{cases}\n",
    "-2n_t - \\left\\lfloor \\frac{v_{c,t}}{p_t (1 + C)}\\right\\rfloor & \\text{if } a_{t-1} \\neq Q_{\\text{Short}, t-1}, \\\\\n",
    "0 & \\text{otherwise}.\n",
    "\\end{cases}\n",
    "$$\n",
    "\n",
    "Note the *-2n* is an indication to sell twice, meaning not only close the long position but open a short position for the *Qn* shares, since shorting is a negative trajectory, we need to negate the amount we can buy to get the correct representation in our holdings. If we had no shares to start, then *-2(0)* will not have an effect save for the short amount:\n",
    "\n",
    "$$\n",
    "\\hat{Q}_{\\text{Short}, t} = -\\left\\lfloor \\frac{v_{c,t}}{p_t (1 + C)} \\right\\rfloor\n",
    "$$\n",
    "\n",
    "Shorts are risky, and we need to give boundaries to the agent, as a short can incur infinite loss:\n",
    "\n",
    "$$\n",
    "Q_{\\text{Short}, t} = \\max\\{\\hat{Q}_{\\text{Short}, t}, Q_t\\}\n",
    "$$\n",
    "\n",
    "Given that our portfolio cannot fall into negative amounts, we need to model constraints.\n",
    "1. Cash value *vc_t* needs to be large enough to return to neutral *n_t=0*.\n",
    "2. To return to 0, we need to adjust for costs *C* which are caused by market volatility epsiloc *ϵ* (think slippages, spreads, etc..).\n",
    "3. We redefine the action space permissable to ensure we can always return to neutral.\n",
    "\n",
    "$$\n",
    "v_{c,t+1} \\geq -n_{t+1} p_t (1 + \\varepsilon)(1 + C)\n",
    "$$\n",
    "\n",
    "The action space *A* is redefined as a set of acceptable values for *Q_t* between boundaries *Q-* and *Q+*:\n",
    "\n",
    "$$\n",
    "A = \\left\\{ Q_t \\in \\mathbb{Z} \\cap \\left[Q_t^-, Q_t^+\\right] \\right\\}\n",
    "$$\n",
    "\n",
    "Where the top boundary *Q+* is:\n",
    "$$\n",
    "Q_t^+ = \\frac{v_{c,t}}{p_t (1+C)}\n",
    "$$\n",
    "\n",
    "And the lower boundary *Q-* is (for both coming out of a long where delta *t* is positive, or reversing a short and incurring twice the costs with delta *t* in the negative):\n",
    "\n",
    "$$\n",
    "Q_t^- = \\begin{cases}\n",
    "    \\frac{\\Delta t}{p_t \\varepsilon (1 + C)} & \\text{if } \\Delta t \\geq 0, \\\\\n",
    "    \\frac{\\Delta t}{p_t (2C + \\varepsilon(1 + C))} & \\text{if } \\Delta t < 0,\n",
    "    \\end{cases}\n",
    "$$\n",
    "\n",
    "with *delta t* being the in change of portfolio value in time:\n",
    "\n",
    "$$\n",
    " t_Δ = -v_{c,t} - n_t p_t (1 + \\varepsilon)(1 + C)\n",
    "$$\n",
    "\n",
    "In the above boundaries, the cost of trading is defined as:\n",
    "\n",
    "$$\n",
    "v_{c,t+1} = v_{c,t} - Q_t p_t - C |Q_t| p_t\n",
    "$$\n",
    "\n",
    "Where *C* is the percentage cost of the transaction given the absolute quantity *|Q_t|* of shares and their price *p_t*."
   ]
  },
  {
   "cell_type": "markdown",
   "id": "b98e3447",
   "metadata": {
    "id": "_A2EBYR9sxsA",
    "papermill": {
     "duration": 0.017411,
     "end_time": "2024-03-15T22:17:36.619667",
     "exception": false,
     "start_time": "2024-03-15T22:17:36.602256",
     "status": "completed"
    },
    "tags": []
   },
   "source": [
    "## Agent's Objective\n",
    "\n",
    "In the paper, they utilize the percentage returns as a rewards signal, clipped between -1 and 1, and adjusted by a discount factor γ:\n",
    "$$\n",
    "\\text{Signal} = \\left( \\frac{vc_{t} - vc_{t-1}}{vc_{t-1}} \\right) \\gamma^t\n",
    "$$\n",
    "\n",
    "In the article, we will use an annualized Sharpe (from *N* time window, up to 252 trading days), and teach the agent's to generate an optimal ratio, clipped no discount factor:\n",
    "\n",
    "$$\n",
    "\\text{Signal} = \\frac{E\\left[\\sum_{t=0}^{T} r_t - R_f\\times \\right]\\sqrt{N} }{\\sqrt{\\mathrm{Var}\\left[\\sum_{t=0}^{T} r_t\\right]}}\n",
    "$$\n",
    "\n",
    "which is just the maximization of:\n",
    "\n",
    "$$\n",
    "\\text{sharpe}= \\left( \\frac{\\bar{R} - R_f}{\\sigma} \\right)\n",
    "$$\n",
    "\n",
    "or the returns of the portfolio (*R* average), minus the risk free rate (*Rf*, at the time of writing, 5%) divided by the volatility (*σ*) of the portfolio"
   ]
  },
  {
   "cell_type": "markdown",
   "id": "2d7f4a4a",
   "metadata": {
    "id": "lke4koO5H0Cl",
    "papermill": {
     "duration": 0.016725,
     "end_time": "2024-03-15T22:17:36.653787",
     "exception": false,
     "start_time": "2024-03-15T22:17:36.637062",
     "status": "completed"
    },
    "tags": []
   },
   "source": [
    "# Trading Environment\n",
    "\n",
    "Using TensorFlow's PyEnvironment, we will give the agent the environment that implements the above rules:"
   ]
  },
  {
   "cell_type": "code",
   "execution_count": 7,
   "id": "7ba8b04a",
   "metadata": {
    "execution": {
     "iopub.execute_input": "2024-03-15T22:17:36.690279Z",
     "iopub.status.busy": "2024-03-15T22:17:36.689938Z",
     "iopub.status.idle": "2024-03-15T22:17:36.933431Z",
     "shell.execute_reply": "2024-03-15T22:17:36.932777Z"
    },
    "executionInfo": {
     "elapsed": 7,
     "status": "ok",
     "timestamp": 1710410577594,
     "user": {
      "displayName": "Adam Darmanin",
      "userId": "00262451996831505471"
     },
     "user_tz": -60
    },
    "id": "dXLhk-CKH0Co",
    "papermill": {
     "duration": 0.264418,
     "end_time": "2024-03-15T22:17:36.935428",
     "exception": false,
     "start_time": "2024-03-15T22:17:36.671010",
     "status": "completed"
    },
    "tags": []
   },
   "outputs": [],
   "source": [
    "class TradingEnv(py_environment.PyEnvironment):\n",
    "    \"\"\"\n",
    "    A custom trading environment for reinforcement learning, compatible with tf_agents.\n",
    "\n",
    "    This environment simulates a simple trading scenario where an agent can take one of three actions:\n",
    "    - Long (buy), Short (sell), or Hold a financial instrument, aiming to maximize profit through trading decisions.\n",
    "\n",
    "    Parameters:\n",
    "    - data: DataFrame containing the stock market data.\n",
    "    - data_dim: Dimension of the data to be used for each observation.\n",
    "    - money: Initial capital to start trading.\n",
    "    - state_length: Number of past observations to consider for the state.\n",
    "    - transaction_cost: Costs associated with trading actions.\n",
    "    \"\"\"\n",
    "\n",
    "    def __init__(self, data, features = FEATURES + MACRO_FEATURES, money=CAPITAL, state_length=STATE_LEN, transaction_cost=0, market_costs=TRADE_COSTS_PERCENT, reward_discount=DISCOUNT):\n",
    "        super(TradingEnv, self).__init__()\n",
    "\n",
    "        assert data is not None\n",
    "\n",
    "        self.features = features\n",
    "        self.data_dim = len(self.features)\n",
    "        self.state_length = state_length\n",
    "        self.current_step = self.state_length\n",
    "        self.reward_discount = reward_discount\n",
    "\n",
    "        self.balance = money\n",
    "        self.initial_balance = money\n",
    "        self.transaction_cost = transaction_cost\n",
    "        self.epsilon = max(market_costs, np.finfo(float).eps) # there is always volatility costs\n",
    "        self.total_shares = 0\n",
    "\n",
    "        self._episode_ended = False\n",
    "        self._batch_size = 1\n",
    "        self._action_spec = array_spec.BoundedArraySpec(shape=(), dtype=np.int32, minimum=ACT_SHORT, maximum=ACT_LONG, name='action')\n",
    "        self._observation_spec = array_spec.BoundedArraySpec(shape=(self.state_length * self.data_dim, ), dtype=np.float32, name='observation')\n",
    "\n",
    "        self.data = self.preprocess_data(data.copy())\n",
    "\n",
    "        self.reset()\n",
    "\n",
    "    @property\n",
    "    def batched(self):\n",
    "        return False #True\n",
    "\n",
    "    @property\n",
    "    def batch_size(self):\n",
    "        return None #self._batch_size\n",
    "\n",
    "    @batch_size.setter\n",
    "    def batch_size(self, size):\n",
    "        self._batch_size = size\n",
    "\n",
    "    def preprocess_data(self, df):\n",
    "        def _log_rets(df):\n",
    "            log_returns = np.log(df / df.shift(1))\n",
    "            df = (log_returns - log_returns.mean()) / log_returns.std()\n",
    "            df = df.dropna()\n",
    "            return df\n",
    "\n",
    "        def min_max_scale_tensor(tensor):\n",
    "            min_val = tf.reduce_min(tensor)\n",
    "            max_val = tf.reduce_max(tensor)\n",
    "            return (tensor - min_val) / (max_val - min_val)\n",
    "\n",
    "        price_raw = df['Close'].copy()\n",
    "        for col in self.features:\n",
    "            if col in TA_FEATURES:\n",
    "                continue\n",
    "            tensor = tf.convert_to_tensor(df[col], dtype=tf.float32)\n",
    "            normalized_tensor = min_max_scale_tensor(tensor)\n",
    "            df[col] = normalized_tensor.numpy()\n",
    "\n",
    "        df = df.replace(0.0, np.nan)\n",
    "        df = df.interpolate(method='linear', limit=5, limit_area='inside')\n",
    "        df = df.ffill().bfill().fillna(0)\n",
    "\n",
    "        df[TARGET_FEATURE] = price_raw\n",
    "        df['Sharpe'] = 0\n",
    "        df['Position'] = 0\n",
    "        df['Action'] = ACT_HOLD\n",
    "        df['Holdings'] = 0.\n",
    "        df['Cash'] = float(self.balance)\n",
    "        df['Money'] = df['Holdings'] + df['Cash']\n",
    "        df['Returns'] = 0.\n",
    "        df['Reward'] = 0.\n",
    "\n",
    "        assert not df.isna().any().any()\n",
    "\n",
    "        return df\n",
    "\n",
    "    def action_spec(self):\n",
    "        \"\"\"Provides the specification of the action space.\"\"\"\n",
    "        return self._action_spec\n",
    "\n",
    "    def observation_spec(self):\n",
    "        \"\"\"Provides the specification of the observation space.\"\"\"\n",
    "        return self._observation_spec\n",
    "\n",
    "    def _reset(self):\n",
    "        \"\"\"Resets the environment state and prepares for a new episode.\"\"\"\n",
    "        self.balance = self.initial_balance\n",
    "        self.current_step = self.state_length\n",
    "        self._episode_ended = False\n",
    "        self.total_shares = 0\n",
    "\n",
    "        self.data['Reward'] = 0.\n",
    "        self.data['Sharpe'] = 0.\n",
    "        self.data['Position'] = 0\n",
    "        self.data['Action'] = ACT_HOLD\n",
    "        self.data['Holdings'] = 0.\n",
    "        self.data['Cash']  = float(self.balance)\n",
    "        self.data['Money'] = self.data.iloc[0]['Holdings'] + self.data.iloc[0]['Cash']\n",
    "        self.data['Returns'] = 0.\n",
    "\n",
    "        initial_observation = self._next_observation()\n",
    "        return ts.restart(initial_observation)\n",
    "\n",
    "    def _next_observation(self):\n",
    "        \"\"\"Generates the next observation based on the current step and history length.\"\"\"\n",
    "        start_idx = max(0, self.current_step - self.state_length + 1)\n",
    "        end_idx = self.current_step + 1\n",
    "        obs = self.data[self.features].iloc[start_idx:end_idx]\n",
    "\n",
    "        # flatten because: https://stackoverflow.com/questions/67921084/dqn-agent-issue-with-custom-environment\n",
    "        obs_values = obs.values.flatten().astype(np.float32)\n",
    "        return obs_values\n",
    "\n",
    "    def _step(self, action):\n",
    "        \"\"\"Executes a trading action and updates the environment's state.\"\"\"\n",
    "        if self._episode_ended:\n",
    "            return self.reset()\n",
    "\n",
    "        self.current_step += 1\n",
    "        current_price = self.data.iloc[self.current_step][TARGET_FEATURE]\n",
    "\n",
    "        assert not self.data.iloc[self.current_step].isna().any().any()\n",
    "\n",
    "        if action == ACT_LONG:\n",
    "            self._process_long_position(current_price)\n",
    "        elif action == ACT_SHORT:\n",
    "            prev_current_price = self.data.iloc[self.current_step - 1][TARGET_FEATURE]\n",
    "            self._process_short_position(current_price, prev_current_price)\n",
    "        elif action == ACT_HOLD:\n",
    "            self._process_hold_position()\n",
    "        elif action == ACT_NEUTRAL:\n",
    "            self._process_neutral_position(current_price)\n",
    "        else:\n",
    "          raise Exception(f\"Invalid Actions: {action}\")\n",
    "\n",
    "        self._update_financials()\n",
    "        done = self.current_step >= len(self.data) - 1\n",
    "        reward = self._calculate_reward_signal()\n",
    "        self.data.at[self.data.index[self.current_step], \"Reward\"] = reward\n",
    "        if done:\n",
    "            self._episode_ended = True\n",
    "            return ts.termination(self._next_observation(), reward)\n",
    "        else:\n",
    "            return ts.transition(self._next_observation(), reward, discount=self.reward_discount)\n",
    "\n",
    "    def _get_lower_bound(self, cash, total_shares, price):\n",
    "        \"\"\"\n",
    "        Compute the lower bound of the action space, particularly for short selling,\n",
    "        based on current cash, the number of shares, and the current price.\n",
    "        \"\"\"\n",
    "        delta = -cash - total_shares * price * (1 + self.epsilon) * (1 + self.transaction_cost)\n",
    "\n",
    "        if delta < 0:\n",
    "            lowerBound = delta / (price * (2 * self.transaction_cost + self.epsilon * (1 + self.transaction_cost)))\n",
    "        else:\n",
    "            lowerBound = delta / (price * self.epsilon * (1 + self.transaction_cost))\n",
    "\n",
    "        if np.isinf(lowerBound):\n",
    "            assert False\n",
    "        return lowerBound\n",
    "\n",
    "    def _process_hold_position(self):\n",
    "        step_idx = self.data.index[self.current_step]\n",
    "        self.data.at[step_idx, \"Cash\"] = self.data.iloc[self.current_step - 1][\"Cash\"]\n",
    "        self.data.at[step_idx, \"Holdings\"] = self.data.iloc[self.current_step - 1][\"Holdings\"]\n",
    "        self.data.at[step_idx, \"Position\"] = self.data.iloc[self.current_step - 1][\"Position\"]\n",
    "        self.data.at[step_idx, \"Action\"] = ACT_HOLD\n",
    "\n",
    "    def _process_neutral_position(self, current_price):\n",
    "        step_idx = self.data.index[self.current_step]\n",
    "        self.data.at[step_idx, \"Cash\"] = self.data.iloc[self.current_step - 1]['Cash'] - self.total_shares * current_price * (1 + self.transaction_cost)\n",
    "        self.data.at[step_idx, \"Holdings\"] = 0.0\n",
    "        self.data.at[step_idx, \"Position\"] = 0.0\n",
    "        self.data.at[step_idx, \"Action\"] = ACT_NEUTRAL\n",
    "\n",
    "    def _process_long_position(self, current_price):\n",
    "        step_idx = self.data.index[self.current_step]\n",
    "        self.data.at[step_idx, 'Position'] = 1\n",
    "        self.data.at[step_idx, 'Action'] = ACT_LONG\n",
    "\n",
    "        if self.data.iloc[self.current_step - 1]['Position'] == 1:\n",
    "            # more long\n",
    "            self.data.at[step_idx, 'Cash'] = self.data.iloc[self.current_step - 1]['Cash']\n",
    "            self.data.at[step_idx, 'Holdings'] = self.total_shares * current_price\n",
    "            self.data.at[step_idx, \"Action\"] = ACT_HOLD\n",
    "        elif self.data.iloc[self.current_step - 1]['Position'] == 0:\n",
    "            # new long\n",
    "            self.total_shares = math.floor(self.data.iloc[self.current_step - 1]['Cash'] / (current_price * (1 + self.transaction_cost)))\n",
    "            self.data.at[step_idx, 'Cash'] = self.data.iloc[self.current_step - 1]['Cash'] - self.total_shares * current_price * (1 + self.transaction_cost)\n",
    "            self.data.at[step_idx, 'Holdings'] = self.total_shares * current_price\n",
    "        else:\n",
    "            # short to long\n",
    "            self.data.at[step_idx, 'Cash'] = self.data.iloc[self.current_step - 1]['Cash'] - self.total_shares * current_price * (1 + self.transaction_cost)\n",
    "            self.total_shares = math.floor(self.data.iloc[self.current_step]['Cash'] / (current_price * (1 + self.transaction_cost)))\n",
    "            self.data.at[step_idx, 'Cash'] = self.data.iloc[self.current_step]['Cash'] - self.total_shares * current_price * (1 + self.transaction_cost)\n",
    "            self.data.at[step_idx, 'Holdings'] = self.total_shares * current_price\n",
    "\n",
    "    def _process_short_position(self, current_price, prev_price):\n",
    "        \"\"\"\n",
    "        Adjusts the logic for processing short positions to include lower bound calculations.\n",
    "        \"\"\"\n",
    "        step_idx = self.data.index[self.current_step]\n",
    "        self.data.at[step_idx, 'Position'] = -1\n",
    "        self.data.at[step_idx, \"Action\"] = ACT_SHORT\n",
    "        if self.data.iloc[self.current_step - 1]['Position'] == -1:\n",
    "            # Short more\n",
    "            low = self._get_lower_bound(self.data.iloc[self.current_step - 1]['Cash'], -self.total_shares, prev_price)\n",
    "            if low <= 0:\n",
    "                self.data.at[step_idx, 'Cash'] = self.data.iloc[self.current_step - 1][\"Cash\"]\n",
    "                self.data.at[step_idx, 'Holdings'] = -self.total_shares * current_price\n",
    "                self.data.at[step_idx, \"Action\"] = ACT_HOLD\n",
    "            else:\n",
    "                total_sharesToBuy = min(math.floor(low), self.total_shares)\n",
    "                self.total_shares -= total_sharesToBuy\n",
    "                self.data.at[step_idx, 'Cash'] = self.data.iloc[self.current_step - 1][\"Cash\"] - total_sharesToBuy * current_price * (1 + self.transaction_cost)\n",
    "                self.data.at[step_idx, 'Holdings'] = -self.total_shares * current_price\n",
    "        elif self.data.iloc[self.current_step - 1]['Position'] == 0:\n",
    "            # new short\n",
    "            self.total_shares = math.floor(self.data.iloc[self.current_step - 1][\"Cash\"] / (current_price * (1 + self.transaction_cost)))\n",
    "            self.data.at[step_idx, 'Cash'] = self.data.iloc[self.current_step - 1][\"Cash\"] + self.total_shares * current_price * (1 - self.transaction_cost)\n",
    "            self.data.at[step_idx, 'Holdings'] = -self.total_shares * current_price\n",
    "        else:\n",
    "            # long to short\n",
    "            self.data.at[step_idx, 'Cash'] = self.data.iloc[self.current_step - 1][\"Cash\"] + self.total_shares * current_price * (1 - self.transaction_cost)\n",
    "            self.total_shares = math.floor(self.data.iloc[self.current_step][\"Cash\"] / (current_price * (1 + self.transaction_cost)))\n",
    "            self.data.at[step_idx, 'Cash'] = self.data.iloc[self.current_step][\"Cash\"] + self.total_shares * current_price * (1 - self.transaction_cost)\n",
    "            self.data.at[step_idx, 'Holdings'] = -self.total_shares * current_price\n",
    "\n",
    "    def _update_financials(self):\n",
    "        \"\"\"Updates the financial metrics including cash, money, and returns.\"\"\"\n",
    "        step_idx = self.data.index[self.current_step]\n",
    "        self.balance = self.data.iloc[self.current_step]['Cash']\n",
    "\n",
    "        self.data.at[step_idx,'Money'] = self.data.iloc[self.current_step]['Holdings'] + self.data.iloc[self.current_step]['Cash']\n",
    "        self.data.at[step_idx,'Returns'] = ((self.data.iloc[self.current_step]['Money'] - self.data.iloc[self.current_step - 1]['Money'])) / self.data.iloc[self.current_step - 1]['Money']\n",
    "\n",
    "    def _calculate_reward_signal(self, reward_clip=REWARD_CLIP, punishment=PUNISHMENT):\n",
    "        \"\"\"\n",
    "        Calculates the reward for the current step. In the paper they use the %returns.\n",
    "        \"\"\"\n",
    "        reward = rets = self.data.iloc[self.current_step]['Returns']\n",
    "        if rets < 0:\n",
    "            reward *= punishment\n",
    "            if rets < 0.5:\n",
    "                # We lost 1/2 our portfolio, give max punishment\n",
    "                reward *= 100\n",
    "        return np.clip(reward, -reward_clip, reward_clip)\n",
    "\n",
    "    def _calculate_sharpe_reward_signal(self, risk_free_rate=0.05, periods_per_year=252, reward_clip=REWARD_CLIP):\n",
    "        \"\"\"\n",
    "        Calculates the annualized Sharpe ratio up to the CURRENT STEP.\n",
    "\n",
    "        Parameters:\n",
    "        - risk_free_rate (float): The annual risk-free rate. It will be adjusted to match the period of the returns.\n",
    "        - periods_per_year (int): Number of periods in a year (e.g., 252 for daily, 12 for monthly).\n",
    "\n",
    "        Returns:\n",
    "        - float: The annualized Sharpe ratio as reward.\n",
    "        \"\"\"\n",
    "        period_risk_free_rate = (1 + risk_free_rate) ** (1 / periods_per_year) - 1\n",
    "        observed_returns = self.data['Returns'].iloc[:self.current_step + 1]\n",
    "\n",
    "        excess_returns = observed_returns - period_risk_free_rate\n",
    "\n",
    "        mean_excess_return = np.mean(excess_returns)\n",
    "        std_dev_returns = np.std(observed_returns)\n",
    "\n",
    "        sharpe_ratio = mean_excess_return / std_dev_returns if std_dev_returns > 0 else 0\n",
    "        annual_sr = sharpe_ratio * np.sqrt(periods_per_year)\n",
    "\n",
    "        self.data.at[self.data.index[self.current_step], 'Sharpe'] = annual_sr\n",
    "\n",
    "        return np.clip(annual_sr, -reward_clip, reward_clip)\n",
    "\n",
    "    def calculate_churn(self):\n",
    "        churn = 0\n",
    "        prev_position = 0\n",
    "        for i in range(1, self.current_step + 1):\n",
    "            current_position = self.data.at[self.data.index[i], 'Position']\n",
    "            action = self.data.at[self.data.index[i], 'Action']\n",
    "            if action in [ACT_LONG, ACT_SHORT] and current_position != prev_position:\n",
    "                churn += self.transaction_cost\n",
    "\n",
    "            prev_position = current_position\n",
    "\n",
    "        if self.current_step > 0:\n",
    "            churn /= self.current_step\n",
    "\n",
    "        return churn\n",
    "\n",
    "    def calculate_drawdown_metrics(self):\n",
    "        cumulative_returns = (1 + self.data['Returns'].iloc[:self.current_step + 1]).cumprod()\n",
    "        peak = cumulative_returns.expanding(min_periods=1).max()\n",
    "        drawdown = (cumulative_returns - peak) / peak\n",
    "\n",
    "        peak_dates = cumulative_returns[peak == cumulative_returns]\n",
    "        drawdown_durations = pd.Series(index=drawdown.index, dtype='timedelta64[ns]')\n",
    "        for date in drawdown.index:\n",
    "            recent_peak_date = peak_dates[peak_dates.index <= date].index[-1]\n",
    "            duration = date - recent_peak_date\n",
    "            drawdown_durations.at[date] = duration\n",
    "\n",
    "        drawdown_durations_days = drawdown_durations.dt.days\n",
    "        max_dd_duration_days = drawdown_durations_days.max()\n",
    "\n",
    "        return drawdown, max_dd_duration_days\n",
    "\n",
    "    def get_trade_stats(self, riskfree_rate=0.05):\n",
    "        rets = self.data['Returns'].iloc[:self.current_step + 1]\n",
    "\n",
    "\n",
    "        annualized_return = rets.mean() * 252\n",
    "        annualized_vol = rets.std() * np.sqrt(252)\n",
    "\n",
    "        daily_riskfree_rate = (1 + riskfree_rate)**(1/252) - 1\n",
    "        sharpe_ratio = ((rets.mean() - daily_riskfree_rate) / rets.std()) * np.sqrt(252)\n",
    "\n",
    "        downside_deviation = rets[rets < 0].std() * np.sqrt(252)\n",
    "        drawdowns, max_dd_duration_days = self.calculate_drawdown_metrics()\n",
    "\n",
    "        sortino_ratio = ((rets.mean() - daily_riskfree_rate) / downside_deviation)\n",
    "\n",
    "        churn = self.calculate_churn()\n",
    "\n",
    "        return {\n",
    "            \"Annualized Return\": annualized_return,\n",
    "            \"Annualized Vol\": annualized_vol,\n",
    "            \"Sharpe Ratio\": sharpe_ratio,\n",
    "            \"Downside Deviation\": downside_deviation,\n",
    "            \"Sortino Ratio\": sortino_ratio,\n",
    "            \"Max Drawdown\": drawdowns.max(),\n",
    "            \"Max Drawdown Days\": max_dd_duration_days,\n",
    "            \"Trade Churn\": churn,\n",
    "            \"Skewness\": skew(rets.values),\n",
    "            \"Kurtosis\": kurtosis(rets.values)\n",
    "        }\n",
    "\n",
    "    def render(self, mode='human'):\n",
    "        print(f'Step: {self.current_step}, Balance: {self.balance}, Holdings: {self.total_shares}')\n",
    "        print(f\"trade stats: {self.get_trade_stats()}\")"
   ]
  },
  {
   "cell_type": "code",
   "execution_count": 8,
   "id": "072c0d99",
   "metadata": {
    "execution": {
     "iopub.execute_input": "2024-03-15T22:17:36.971013Z",
     "iopub.status.busy": "2024-03-15T22:17:36.970731Z",
     "iopub.status.idle": "2024-03-15T22:17:48.958542Z",
     "shell.execute_reply": "2024-03-15T22:17:48.957722Z"
    },
    "executionInfo": {
     "elapsed": 18080,
     "status": "ok",
     "timestamp": 1710410595668,
     "user": {
      "displayName": "Adam Darmanin",
      "userId": "00262451996831505471"
     },
     "user_tz": -60
    },
    "id": "_2lK8WKhtuu4",
    "outputId": "76ff0f33-2642-4bdd-bf85-e113b7556db0",
    "papermill": {
     "duration": 12.007833,
     "end_time": "2024-03-15T22:17:48.960263",
     "exception": false,
     "start_time": "2024-03-15T22:17:36.952430",
     "status": "completed"
    },
    "tags": []
   },
   "outputs": [
    {
     "name": "stderr",
     "output_type": "stream",
     "text": [
      "2024-03-15 22:17:40.841344: E external/local_xla/xla/stream_executor/stream_executor_internal.h:177] SetPriority unimplemented for this stream.\n",
      "2024-03-15 22:17:40.841453: E external/local_xla/xla/stream_executor/stream_executor_internal.h:177] SetPriority unimplemented for this stream.\n",
      "2024-03-15 22:17:40.841551: E external/local_xla/xla/stream_executor/stream_executor_internal.h:177] SetPriority unimplemented for this stream.\n",
      "2024-03-15 22:17:40.841632: E external/local_xla/xla/stream_executor/stream_executor_internal.h:177] SetPriority unimplemented for this stream.\n",
      "2024-03-15 22:17:40.841701: E external/local_xla/xla/stream_executor/stream_executor_internal.h:177] SetPriority unimplemented for this stream.\n",
      "2024-03-15 22:17:40.841913: E external/local_xla/xla/stream_executor/stream_executor_internal.h:177] SetPriority unimplemented for this stream.\n",
      "2024-03-15 22:17:40.842017: E external/local_xla/xla/stream_executor/stream_executor_internal.h:177] SetPriority unimplemented for this stream.\n",
      "2024-03-15 22:17:40.842111: E external/local_xla/xla/stream_executor/stream_executor_internal.h:177] SetPriority unimplemented for this stream.\n",
      "2024-03-15 22:17:40.842217: E external/local_xla/xla/stream_executor/stream_executor_internal.h:177] SetPriority unimplemented for this stream.\n",
      "2024-03-15 22:17:40.842333: E external/local_xla/xla/stream_executor/stream_executor_internal.h:177] SetPriority unimplemented for this stream.\n",
      "2024-03-15 22:17:40.842563: E external/local_xla/xla/stream_executor/stream_executor_internal.h:177] SetPriority unimplemented for this stream.\n",
      "2024-03-15 22:17:40.842666: E external/local_xla/xla/stream_executor/stream_executor_internal.h:177] SetPriority unimplemented for this stream.\n",
      "2024-03-15 22:17:40.842763: E external/local_xla/xla/stream_executor/stream_executor_internal.h:177] SetPriority unimplemented for this stream.\n",
      "2024-03-15 22:17:40.842858: E external/local_xla/xla/stream_executor/stream_executor_internal.h:177] SetPriority unimplemented for this stream.\n",
      "2024-03-15 22:17:40.842958: E external/local_xla/xla/stream_executor/stream_executor_internal.h:177] SetPriority unimplemented for this stream.\n",
      "2024-03-15 22:17:40.843207: E external/local_xla/xla/stream_executor/stream_executor_internal.h:177] SetPriority unimplemented for this stream.\n",
      "2024-03-15 22:17:40.843323: E external/local_xla/xla/stream_executor/stream_executor_internal.h:177] SetPriority unimplemented for this stream.\n",
      "2024-03-15 22:17:40.843424: E external/local_xla/xla/stream_executor/stream_executor_internal.h:177] SetPriority unimplemented for this stream.\n",
      "2024-03-15 22:17:40.843519: E external/local_xla/xla/stream_executor/stream_executor_internal.h:177] SetPriority unimplemented for this stream.\n",
      "2024-03-15 22:17:40.843597: E external/local_xla/xla/stream_executor/stream_executor_internal.h:177] SetPriority unimplemented for this stream.\n",
      "2024-03-15 22:17:40.843862: E external/local_xla/xla/stream_executor/stream_executor_internal.h:177] SetPriority unimplemented for this stream.\n",
      "2024-03-15 22:17:40.843963: E external/local_xla/xla/stream_executor/stream_executor_internal.h:177] SetPriority unimplemented for this stream.\n",
      "2024-03-15 22:17:40.844060: E external/local_xla/xla/stream_executor/stream_executor_internal.h:177] SetPriority unimplemented for this stream.\n",
      "2024-03-15 22:17:40.844167: E external/local_xla/xla/stream_executor/stream_executor_internal.h:177] SetPriority unimplemented for this stream.\n",
      "2024-03-15 22:17:40.844274: E external/local_xla/xla/stream_executor/stream_executor_internal.h:177] SetPriority unimplemented for this stream.\n",
      "2024-03-15 22:17:40.844535: E external/local_xla/xla/stream_executor/stream_executor_internal.h:177] SetPriority unimplemented for this stream.\n",
      "2024-03-15 22:17:40.844637: E external/local_xla/xla/stream_executor/stream_executor_internal.h:177] SetPriority unimplemented for this stream.\n",
      "2024-03-15 22:17:40.844718: E external/local_xla/xla/stream_executor/stream_executor_internal.h:177] SetPriority unimplemented for this stream.\n",
      "2024-03-15 22:17:40.844809: E external/local_xla/xla/stream_executor/stream_executor_internal.h:177] SetPriority unimplemented for this stream.\n",
      "2024-03-15 22:17:40.844904: E external/local_xla/xla/stream_executor/stream_executor_internal.h:177] SetPriority unimplemented for this stream.\n",
      "2024-03-15 22:17:40.845210: E external/local_xla/xla/stream_executor/stream_executor_internal.h:177] SetPriority unimplemented for this stream.\n",
      "2024-03-15 22:17:40.845319: E external/local_xla/xla/stream_executor/stream_executor_internal.h:177] SetPriority unimplemented for this stream.\n",
      "2024-03-15 22:17:40.845407: E external/local_xla/xla/stream_executor/stream_executor_internal.h:177] SetPriority unimplemented for this stream.\n",
      "2024-03-15 22:17:40.845486: E external/local_xla/xla/stream_executor/stream_executor_internal.h:177] SetPriority unimplemented for this stream.\n",
      "2024-03-15 22:17:40.845602: E external/local_xla/xla/stream_executor/stream_executor_internal.h:177] SetPriority unimplemented for this stream.\n",
      "2024-03-15 22:17:40.845883: E external/local_xla/xla/stream_executor/stream_executor_internal.h:177] SetPriority unimplemented for this stream.\n",
      "2024-03-15 22:17:40.845995: E external/local_xla/xla/stream_executor/stream_executor_internal.h:177] SetPriority unimplemented for this stream.\n",
      "2024-03-15 22:17:40.846101: E external/local_xla/xla/stream_executor/stream_executor_internal.h:177] SetPriority unimplemented for this stream.\n",
      "2024-03-15 22:17:40.846198: E external/local_xla/xla/stream_executor/stream_executor_internal.h:177] SetPriority unimplemented for this stream.\n",
      "2024-03-15 22:17:40.846293: E external/local_xla/xla/stream_executor/stream_executor_internal.h:177] SetPriority unimplemented for this stream.\n"
     ]
    },
    {
     "name": "stdout",
     "output_type": "stream",
     "text": [
      "TimeStep Specs: TimeStep(\n",
      "{'step_type': ArraySpec(shape=(), dtype=dtype('int32'), name='step_type'),\n",
      " 'reward': ArraySpec(shape=(), dtype=dtype('float32'), name='reward'),\n",
      " 'discount': BoundedArraySpec(shape=(), dtype=dtype('float32'), name='discount', minimum=0.0, maximum=1.0),\n",
      " 'observation': BoundedArraySpec(shape=(270,), dtype=dtype('float32'), name='observation', minimum=-3.4028234663852886e+38, maximum=3.4028234663852886e+38)})\n",
      "Action Specs: BoundedArraySpec(shape=(), dtype=dtype('int32'), name='action', minimum=0, maximum=1)\n",
      "Reward Specs: ArraySpec(shape=(), dtype=dtype('float32'), name='reward')\n"
     ]
    }
   ],
   "source": [
    "train_data = stock_df[stock_df.index < pd.to_datetime(SPLIT_DATE)].copy()\n",
    "test_data = stock_df[stock_df.index >= pd.to_datetime(SPLIT_DATE)].copy()\n",
    "\n",
    "train_env = TradingEnv(train_data)\n",
    "utils.validate_py_environment(train_env, episodes=TRAIN_EPISODES)\n",
    "test_env = TradingEnv(test_data)\n",
    "utils.validate_py_environment(train_env, episodes=TRAIN_EPISODES//4)\n",
    "\n",
    "print(f\"TimeStep Specs: {train_env.time_step_spec()}\")\n",
    "print(f\"Action Specs: {train_env.action_spec()}\")\n",
    "print(f\"Reward Specs: {train_env.time_step_spec().reward}\")"
   ]
  },
  {
   "cell_type": "code",
   "execution_count": 9,
   "id": "410a9872",
   "metadata": {
    "execution": {
     "iopub.execute_input": "2024-03-15T22:17:48.996432Z",
     "iopub.status.busy": "2024-03-15T22:17:48.996116Z",
     "iopub.status.idle": "2024-03-15T22:17:49.017091Z",
     "shell.execute_reply": "2024-03-15T22:17:49.016290Z"
    },
    "executionInfo": {
     "elapsed": 32,
     "status": "ok",
     "timestamp": 1710410595668,
     "user": {
      "displayName": "Adam Darmanin",
      "userId": "00262451996831505471"
     },
     "user_tz": -60
    },
    "id": "6yXdVTRctuu5",
    "outputId": "9dac562a-7dba-446a-e971-b505c5ca4c11",
    "papermill": {
     "duration": 0.040701,
     "end_time": "2024-03-15T22:17:49.018821",
     "exception": false,
     "start_time": "2024-03-15T22:17:48.978120",
     "status": "completed"
    },
    "tags": []
   },
   "outputs": [
    {
     "name": "stdout",
     "output_type": "stream",
     "text": [
      "Action taken: 2 at step: 31\n",
      "New balance: 100000.0\n",
      "Total shares: 0\n",
      "Reward: 0.0\n",
      "\n",
      "Action taken: 1 at step: 32\n",
      "New balance: 0.848236083984375\n",
      "Total shares: 5510\n",
      "Reward: 0.0\n",
      "\n",
      "Action taken: 0 at step: 33\n",
      "New balance: 203790.03025054932\n",
      "Total shares: 5510\n",
      "Reward: 0.01895439252257347\n",
      "\n",
      "Action taken: 2 at step: 34\n",
      "New balance: 203790.03025054932\n",
      "Total shares: 5510\n",
      "Reward: 0.0\n",
      "\n",
      "Action taken: 1 at step: 35\n",
      "New balance: 4.924432754516602\n",
      "Total shares: 6431\n",
      "Reward: 0.07714703679084778\n",
      "\n"
     ]
    }
   ],
   "source": [
    "def execute_action_and_print_state(env, action):\n",
    "    next_time_step = env.step(np.array(action, dtype=np.int32))\n",
    "    print(f'Action taken: {action} at step: {env.current_step}')\n",
    "    # print(f'New state: {next_time_step.observation}')\n",
    "    print(f'New balance: {env.balance}')\n",
    "    print(f'Total shares: {env.total_shares}')\n",
    "    print(f'Reward: {next_time_step.reward}\\n')\n",
    "\n",
    "time_step = train_env.reset()\n",
    "# print(f'Initial state: {time_step.observation}')\n",
    "\n",
    "# Some dryruns to validate our env logic: Buy, Sell, we should have a positive balance with TSLA\n",
    "execute_action_and_print_state(train_env, ACT_HOLD)\n",
    "execute_action_and_print_state(train_env, ACT_LONG)\n",
    "execute_action_and_print_state(train_env, ACT_SHORT)\n",
    "execute_action_and_print_state(train_env, ACT_HOLD)\n",
    "execute_action_and_print_state(train_env, ACT_LONG)"
   ]
  },
  {
   "cell_type": "markdown",
   "id": "4f9ba0be",
   "metadata": {
    "id": "xcb7hq6yH0Cq",
    "papermill": {
     "duration": 0.016712,
     "end_time": "2024-03-15T22:17:49.052829",
     "exception": false,
     "start_time": "2024-03-15T22:17:49.036117",
     "status": "completed"
    },
    "tags": []
   },
   "source": [
    "# Deep Q-Network Architecure"
   ]
  },
  {
   "cell_type": "markdown",
   "id": "f4fcadbe",
   "metadata": {
    "id": "_AIE_vPrH0Cr",
    "papermill": {
     "duration": 0.017368,
     "end_time": "2024-03-15T22:17:49.087351",
     "exception": false,
     "start_time": "2024-03-15T22:17:49.069983",
     "status": "completed"
    },
    "tags": []
   },
   "source": [
    "## Architecture\n",
    "\n",
    "Deep Q-neural-network architecture (DQN) approximates the the Q-tables algorithm as its approximating the action-value function π∗(at|st). Its an approximation because the number of combinations you can have with your Q-Tables is gargantuan and impossible to process.\n",
    "\n",
    "The Q-network is also referred to as the policy model. We will also leverage a target Q-network in our architecture. Tha Target model is updated more seldomly than the Q-Network, and helps stabilize the training process as the Q-Network is trained to reduced its output and the target network (a more stable value).\n",
    "\n",
    "Finally, we will add a Replay Memory to sample data for our models. The memory is a circular memory of fixed size (therefore it 'forgets' old memories), and at every fixed frequency the models use the memory to calculate the loss between their predicted Q values and the ones performed in the memory."
   ]
  },
  {
   "cell_type": "markdown",
   "id": "f2b50aa4",
   "metadata": {
    "id": "Q49V1zseH0Cs",
    "papermill": {
     "duration": 0.01684,
     "end_time": "2024-03-15T22:17:49.120810",
     "exception": false,
     "start_time": "2024-03-15T22:17:49.103970",
     "status": "completed"
    },
    "tags": []
   },
   "source": [
    "## The Reinforce Learning Flow\n",
    "\n",
    "A picture says a thousand words; the flow chart below will guide us on the whole training and updating the target model:\n",
    "\n",
    "![\"Flowchart of training\"](https://raw.githubusercontent.com/adamd1985/Deep-Q-Learning-Applied-to-Algorithmic-Trading/main/images/Q-net.png)\n",
    "\n",
    "First we initinialize the environment *St* and the action state *Qt*.\n",
    "\n",
    "We then run multiple episodes of n iterations to train the model and remember the state, actions and the Q value predicted. On each iteration, these events will occur:\n",
    "1. Fetch the state.\n",
    "1. Take either a random action (ε greedy) or predict a Q value given an action in the current state, the former is called exploration, and the latter exploitation. The ε decays with time, as the model learns, it should explore less.\n",
    "1. When predicting the Q value, it will use the policy model. Regardles of exploring or explointing, it saves the memory of the states, actions and the given Q value.\n",
    "1. Calculate the target Q-Value by taking the max predictions from the target-network. From the previous formula *rt + γt * Qtarget(s_t+1, a_t+1)* where gamma *γ* is the discounting factor.\n",
    "1. Re-traing the policy model to minimize the Q-values from the different models. Training uses sampled states from our replay memory.\n",
    "1. At the end of the episode, or any interval of our chosing, we copy the wieghts of the policy model to the target model."
   ]
  },
  {
   "cell_type": "code",
   "execution_count": 10,
   "id": "1dd13387",
   "metadata": {
    "execution": {
     "iopub.execute_input": "2024-03-15T22:17:49.156606Z",
     "iopub.status.busy": "2024-03-15T22:17:49.156291Z",
     "iopub.status.idle": "2024-03-15T22:17:49.461229Z",
     "shell.execute_reply": "2024-03-15T22:17:49.460248Z"
    },
    "executionInfo": {
     "elapsed": 4191,
     "status": "ok",
     "timestamp": 1710410599829,
     "user": {
      "displayName": "Adam Darmanin",
      "userId": "00262451996831505471"
     },
     "user_tz": -60
    },
    "id": "2y5vgYpxH0Cs",
    "outputId": "4855dd85-dee9-4dcf-9104-d4dfde71470b",
    "papermill": {
     "duration": 0.32536,
     "end_time": "2024-03-15T22:17:49.463338",
     "exception": false,
     "start_time": "2024-03-15T22:17:49.137978",
     "status": "completed"
    },
    "tags": []
   },
   "outputs": [
    {
     "name": "stdout",
     "output_type": "stream",
     "text": [
      "<tf_agents.policies.greedy_policy.GreedyPolicy object at 0x7b70e07afc70>\n",
      "<tf_agents.policies.epsilon_greedy_policy.EpsilonGreedyPolicy object at 0x7b70e07afe50>\n"
     ]
    }
   ],
   "source": [
    "def create_q_network(env, fc_layer_params=LAYERS, dropout_rate=DROPOUT, l2_reg=L2FACTOR):\n",
    "    \"\"\"\n",
    "    Creates a Q-Network with dropout and batch normalization.\n",
    "    Parameters:\n",
    "    - env: The environment instance.\n",
    "    - fc_layer_params: Tuple of integers representing the number of units in each dense layer.\n",
    "    - dropout_rate: Dropout rate for dropout layers.\n",
    "    - l2_reg: L2 regularization factor.\n",
    "\n",
    "    Returns:\n",
    "    - q_net: The Q-Network model.\n",
    "    \"\"\"\n",
    "    env = tf_py_environment.TFPyEnvironment(env)\n",
    "    action_tensor_spec = tensor_spec.from_spec(env.action_spec())\n",
    "    num_actions = action_tensor_spec.maximum - action_tensor_spec.minimum + 1\n",
    "\n",
    "    layers = []\n",
    "    for num_units in fc_layer_params:\n",
    "        layers.append(tf.keras.layers.Dense(\n",
    "                                num_units,\n",
    "                                activation=None,\n",
    "                                kernel_initializer=tf.keras.initializers.VarianceScaling(scale=2.0, mode='fan_in', distribution='truncated_normal'),\n",
    "                                kernel_regularizer=tf.keras.regularizers.l2(l2_reg)))\n",
    "        # Internal Covariate Shift Reductio by normalizing layer inputs, this improves gradient flow.\n",
    "        layers.append(tf.keras.layers.BatchNormalization())\n",
    "        layers.append(tf.keras.layers.LeakyReLU())\n",
    "        layers.append(tf.keras.layers.Dropout(dropout_rate))\n",
    "\n",
    "    q_values_layer = tf.keras.layers.Dense(\n",
    "        num_actions,\n",
    "        activation=None,\n",
    "        kernel_initializer=tf.keras.initializers.GlorotNormal(),\n",
    "        bias_initializer=tf.keras.initializers.GlorotNormal(),\n",
    "        kernel_regularizer=tf.keras.regularizers.l2(l2_reg))\n",
    "\n",
    "    q_net = sequential.Sequential(layers + [q_values_layer])\n",
    "\n",
    "    return q_net\n",
    "\n",
    "def create_agent(q_net, env, t_q_net = None, optimizer = None, eps=EPSILON_START, learning_rate=LEARN_RATE, gradient_clipping = GRAD_CLIP, discount=DISCOUNT):\n",
    "    \"\"\"\n",
    "    Creates a DQN agent for a given environment with specified configurations.\n",
    "\n",
    "    Parameters:\n",
    "    - q_net (tf_agents.networks.Network): The primary Q-network for the agent.\n",
    "    - env (tf_agents.environments.PyEnvironment or tf_agents.environments.TFPyEnvironment):\n",
    "      The environment the agent will interact with. A TFPyEnvironment wrapper is applied\n",
    "      if not already wrapped.\n",
    "    - t_q_net (tf_agents.networks.Network, optional): The target Q-network for the agent.\n",
    "      If None, no target network is used.\n",
    "    - optimizer (tf.keras.optimizers.Optimizer, optional): The optimizer to use for training the agent.\n",
    "      If None, an Adam optimizer with exponential decay learning rate is used.\n",
    "    - eps (float): The epsilon value for epsilon-greedy exploration.\n",
    "    - learning_rate (float): The initial learning rate for the exponential decay learning rate schedule.\n",
    "      Ignored if an optimizer is provided.\n",
    "    - gradient_clipping (float): The value for gradient clipping. If 1., no clipping is applied.\n",
    "\n",
    "    Returns:\n",
    "    - agent (tf_agents.agents.DqnAgent): The initialized and configured DQN agent.\n",
    "    \"\"\"\n",
    "    if optimizer is None:\n",
    "        lr_schedule = tf.keras.optimizers.schedules.ExponentialDecay(learning_rate, decay_steps=1000, decay_rate=0.96, staircase=True)\n",
    "        optimizer = tf.keras.optimizers.Adam(learning_rate=lr_schedule)\n",
    "\n",
    "    env = tf_py_environment.TFPyEnvironment(env)\n",
    "    # see: https://www.tensorflow.org/agents/api_docs/python/tf_agents/agents/DqnAgent\n",
    "    agent = dqn_agent.DqnAgent(\n",
    "        env.time_step_spec(),\n",
    "        env.action_spec(),\n",
    "        gamma=discount,\n",
    "        q_network=q_net,\n",
    "        target_q_network = t_q_net,\n",
    "        target_update_period = TARGET_UPDATE,\n",
    "        optimizer=optimizer,\n",
    "        epsilon_greedy = eps,\n",
    "        reward_scale_factor = 1,\n",
    "        gradient_clipping = gradient_clipping,\n",
    "        td_errors_loss_fn=common.element_wise_huber_loss,\n",
    "        train_step_counter=tf.compat.v1.train.get_or_create_global_step(),\n",
    "        name=\"TradeAgent\")\n",
    "\n",
    "    agent.initialize()\n",
    "    print(agent.policy)\n",
    "    print(agent.collect_policy)\n",
    "    return agent\n",
    "\n",
    "with strategy.scope():\n",
    "  q_net = create_q_network(train_env)\n",
    "  t_q_net = create_q_network(train_env)\n",
    "  agent = create_agent(q_net, train_env, t_q_net=t_q_net)"
   ]
  },
  {
   "cell_type": "markdown",
   "id": "3498752e",
   "metadata": {
    "id": "WXZ_bo04H0Ct",
    "papermill": {
     "duration": 0.01856,
     "end_time": "2024-03-15T22:17:49.501027",
     "exception": false,
     "start_time": "2024-03-15T22:17:49.482467",
     "status": "completed"
    },
    "tags": []
   },
   "source": [
    "# Trading Operations\n",
    "\n",
    "Using TensorFlow agents' framework, training our pavlovian trader should be easier than building the architecture ourselves.\n",
    "\n",
    "The trading simulator class will prepare all the variables required. In this case it will initialize the reply memory using DeepMind's Reverb, and create a collector policy for the agent. Unlike the evaluation policy (*π(at|ht)*) which is use to predict the target Q value, the collector will explore and collect data with actions and their resulting value for the memory, memories are saved as trajectories (*τ*) in tensorflow which is a collection of the current observed state (*ot*), the action taken (*at*), the reward received (*r_t+1*) and the following observed state (*o_t+1*) formalized as *r=(o_t-1, a_t-1, rt, ot, dt)*, where dt is a flag for the end state if this was the last observation.\n",
    "\n",
    "To give learning opportunity to our agent, we will use a high epsilon to have it explore a lot, and slowly decay it using the formula below:\n",
    "\n",
    "$$\n",
    "\\epsilon_{\\text{decayed}} = \\epsilon_{\\text{final}} + (\\epsilon_{\\text{initial}} - \\epsilon_{\\text{final}}) \\times e^{-\\frac{\\text{step}}{\\text{decay\\_steps}}}\n",
    "$$\n",
    "\n",
    "Where:\n",
    "- *ϵ_decayed* is the decayed epsilon value at the current step,\n",
    "- *ϵ_initial* is the initial epsilon value at the start of training, we set it to 1, meaning it only explores at start.\n",
    "- *ϵ_final* is the end value we want that the agent exploits is environment, preferably when deployed.\n",
    "- *step* is the current step or iteration in the training process, and decay_steps is a parameter that controls the rate, in our case 1000. As the steps approach the end, the decay will get smaller and smaller.\n"
   ]
  },
  {
   "cell_type": "code",
   "execution_count": 11,
   "id": "df8000a2",
   "metadata": {
    "execution": {
     "iopub.execute_input": "2024-03-15T22:17:49.541245Z",
     "iopub.status.busy": "2024-03-15T22:17:49.540889Z",
     "iopub.status.idle": "2024-03-15T22:17:49.605109Z",
     "shell.execute_reply": "2024-03-15T22:17:49.604303Z"
    },
    "executionInfo": {
     "elapsed": 6,
     "status": "ok",
     "timestamp": 1710410599830,
     "user": {
      "displayName": "Adam Darmanin",
      "userId": "00262451996831505471"
     },
     "user_tz": -60
    },
    "id": "7DmbtWugH0Ct",
    "papermill": {
     "duration": 0.086881,
     "end_time": "2024-03-15T22:17:49.607076",
     "exception": false,
     "start_time": "2024-03-15T22:17:49.520195",
     "status": "completed"
    },
    "tags": []
   },
   "outputs": [],
   "source": [
    "import tensorflow as tf\n",
    "\n",
    "class CustomMetrics(tf.Module):\n",
    "    def __init__(self, name=None):\n",
    "        super(CustomMetrics, self).__init__(name=name)\n",
    "        self.total_returns = tf.Variable([], dtype=tf.float32, trainable=False, shape=tf.TensorShape(None))\n",
    "        self.average_returns = tf.Variable([], dtype=tf.float32, trainable=False, shape=tf.TensorShape(None))\n",
    "        self.sharpe_ratios = tf.Variable([], dtype=tf.float32, trainable=False, shape=tf.TensorShape(None))\n",
    "        self.losses = tf.Variable([], dtype=tf.float32, trainable=False, shape=tf.TensorShape(None))\n",
    "\n",
    "    def update_metrics(self, losses=None, total_return=None, average_return=None, sharpe_ratio=None):\n",
    "        if total_return is not None:\n",
    "            self.total_returns.assign(tf.concat([self.total_returns.value(), [total_return]], axis=0))\n",
    "        if total_return is not None:\n",
    "            self.average_returns.assign(tf.concat([self.average_returns.value(), [average_return]], axis=0))\n",
    "        if total_return is not None:\n",
    "            self.sharpe_ratios.assign(tf.concat([self.sharpe_ratios.value(), [sharpe_ratio]], axis=0))\n",
    "        if losses is not None:\n",
    "            self.losses.assign(tf.concat([self.losses.value(), [losses]], axis=0))\n",
    "\n",
    "class TradingSimulator:\n",
    "    def __init__(self, env, eval_env, agent, episodes=TRAIN_EPISODES,\n",
    "                 batch_size=BATCH_SIZE, num_eval_episodes=TEST_INTERVALS,\n",
    "                 collect_steps_per_iteration=INIT_COLLECT,\n",
    "                 replay_buffer_max_length=MEMORY_LENGTH ,\n",
    "                 num_iterations = TOTAL_ITERS, log_interval=LOG_INTERVALS,\n",
    "                 eval_interval=None, global_step=None):\n",
    "        self.py_env = env\n",
    "        self.env =  tf_py_environment.TFPyEnvironment(self.py_env)\n",
    "        self.py_eval_env = eval_env\n",
    "        self.eval_env =  tf_py_environment.TFPyEnvironment(self.py_eval_env)\n",
    "        self.agent = agent\n",
    "        self.episodes = episodes\n",
    "        self.log_interval = log_interval\n",
    "        self.eval_interval = eval_interval\n",
    "        self.global_step = global_step\n",
    "\n",
    "        self.batch_size = batch_size\n",
    "        self.num_eval_episodes = num_eval_episodes\n",
    "        self.collect_steps_per_iteration = collect_steps_per_iteration\n",
    "        self.replay_buffer_max_length = replay_buffer_max_length\n",
    "        self.num_iterations = num_iterations\n",
    "\n",
    "        self.policy = self.agent.policy\n",
    "        self.collect_policy = self.agent.collect_policy\n",
    "        self.random_policy = random_tf_policy.RandomTFPolicy(\n",
    "            self.env.time_step_spec(),\n",
    "            self.env.action_spec())\n",
    "\n",
    "        self.replay_buffer_signature = tensor_spec.from_spec(\n",
    "            self.agent.collect_data_spec)\n",
    "        self.replay_buffer_signature = tensor_spec.add_outer_dim(\n",
    "            self.replay_buffer_signature)\n",
    "\n",
    "    def init_memory(self, table_name = 'uniform_table'):\n",
    "        self.table = reverb.Table(\n",
    "            table_name,\n",
    "            max_size=self.replay_buffer_max_length,\n",
    "            sampler=reverb.selectors.Uniform(),\n",
    "            remover=reverb.selectors.Fifo(),\n",
    "            rate_limiter=reverb.rate_limiters.MinSize(1),\n",
    "            signature=self.replay_buffer_signature)\n",
    "\n",
    "        self.reverb_server = reverb.Server([self.table])\n",
    "        self.replay_buffer = reverb_replay_buffer.ReverbReplayBuffer(\n",
    "                                    self.agent.collect_data_spec,\n",
    "                                    table_name=table_name,\n",
    "                                    sequence_length=2,\n",
    "                                    local_server=self.reverb_server)\n",
    "\n",
    "        self.rb_observer = reverb_utils.ReverbAddTrajectoryObserver(self.replay_buffer.py_client, table_name, sequence_length=2)\n",
    "        self.dataset = self.replay_buffer.as_dataset(num_parallel_calls=3, sample_batch_size=self.batch_size, num_steps=2).prefetch(3)\n",
    "\n",
    "        return self.dataset, iter(self.dataset)\n",
    "\n",
    "    def eval_metrics(self, num_eval_episodes):\n",
    "        @tf.function\n",
    "        def _eval_step():\n",
    "            time_step = self.eval_env.reset()\n",
    "            episode_returns = tf.TensorArray(dtype=tf.float32, size=0, dynamic_size=True, clear_after_read=False)\n",
    "\n",
    "            while not time_step.is_last():\n",
    "                action_step = self.policy.action(time_step)\n",
    "                time_step = self.eval_env.step(action_step.action)\n",
    "                rewards = time_step.reward\n",
    "                episode_returns = episode_returns.write(episode_returns.size(), rewards)\n",
    "\n",
    "            episode_returns_stacked = episode_returns.stack()\n",
    "            cumulative_returns = tf.math.cumprod(episode_returns_stacked + 1) - 1\n",
    "            total_episode_return = cumulative_returns[-1]\n",
    "            episode_avg_return = tf.reduce_mean(episode_returns_stacked)\n",
    "            episode_std_dev = tf.math.reduce_std(episode_returns_stacked)\n",
    "            episode_sharpe_ratio = tf.cond(\n",
    "                episode_std_dev > 0,\n",
    "                lambda: episode_avg_return / episode_std_dev,\n",
    "                lambda: tf.constant(0.0)\n",
    "            )\n",
    "\n",
    "            return total_episode_return, episode_avg_return, episode_std_dev, episode_sharpe_ratio\n",
    "\n",
    "        # Initialize lists to hold the metrics for all episodes\n",
    "        total_returns_list = []\n",
    "        episode_avg_returns_list = []\n",
    "        episode_std_devs_list = []\n",
    "        episode_sharpe_ratios_list = []\n",
    "\n",
    "        for i in tqdm(range(0, num_eval_episodes), desc=f\"Eval for {num_eval_episodes}\"):\n",
    "            total_episode_return, episode_avg_return, episode_std_dev, episode_sharpe_ratio = _eval_step()\n",
    "            total_returns_list.append(total_episode_return)\n",
    "            episode_avg_returns_list.append(episode_avg_return)\n",
    "            episode_std_devs_list.append(episode_std_dev)\n",
    "            episode_sharpe_ratios_list.append(episode_sharpe_ratio)\n",
    "\n",
    "        # Convert lists to tensors for returning\n",
    "        total_returns = tf.convert_to_tensor(total_returns_list)\n",
    "        episode_avg_returns = tf.convert_to_tensor(episode_avg_returns_list)\n",
    "        episode_std_devs = tf.convert_to_tensor(episode_std_devs_list)\n",
    "        episode_sharpe_ratios = tf.convert_to_tensor(episode_sharpe_ratios_list)\n",
    "\n",
    "        return total_returns, episode_avg_returns, episode_std_devs, episode_sharpe_ratios\n",
    "\n",
    "    def train(self, checkpoint_path=MODELS_PATH, initial_epsilon= EPSILON_START, final_epsilon = EPSILON_END, decay_steps=EPSILON_DECAY):\n",
    "        @tf.function\n",
    "        def _train_step(experience, agent, metrics, global_step, initial_epsilon, final_epsilon, decay_steps):\n",
    "\n",
    "            train_loss = agent.train(experience).loss\n",
    "            metrics.update_metrics(losses=train_loss)\n",
    "\n",
    "            decayed_epsilon = final_epsilon + (initial_epsilon - final_epsilon) * tf.math.exp(-1. * tf.cast(global_step, tf.float32) / decay_steps)\n",
    "            agent.collect_policy._epsilon = decayed_epsilon\n",
    "\n",
    "            return train_loss\n",
    "\n",
    "        print(\"Preparing replay memory and dataset\")\n",
    "        _, iterator = self.init_memory()\n",
    "\n",
    "        self.metrics = CustomMetrics()\n",
    "        self.global_step = tf.compat.v1.train.get_or_create_global_step()\n",
    "        checkpoint_dir = os.path.join(checkpoint_path, 'checkpoint')\n",
    "        train_checkpointer = common.Checkpointer(\n",
    "            ckpt_dir=checkpoint_dir,\n",
    "            max_to_keep=1,\n",
    "            agent=agent,\n",
    "            metrics=self.metrics,\n",
    "            policy=agent.policy,\n",
    "            replay_buffer=self.replay_buffer,\n",
    "            global_step=self.global_step\n",
    "        )\n",
    "        status = train_checkpointer.initialize_or_restore()\n",
    "        self.global_step = tf.compat.v1.train.get_global_step()\n",
    "        print(f'Next step restored: {self.global_step.numpy()} status: {status}')\n",
    "        self.policy = agent.policy\n",
    "        self.agent.train = common.function(self.agent.train)\n",
    "        self.agent.train_step_counter.assign(self.global_step )\n",
    "\n",
    "        time_step = self.py_env.reset()\n",
    "        collect_driver = py_driver.PyDriver(\n",
    "            self.py_env,\n",
    "            py_tf_eager_policy.PyTFEagerPolicy(self.agent.collect_policy, use_tf_function=True),\n",
    "            [self.rb_observer],\n",
    "            max_steps=self.collect_steps_per_iteration)\n",
    "\n",
    "        print(f\"Running training starting {self.global_step.numpy()} to {self.num_iterations}\")\n",
    "\n",
    "        for _ in tqdm(range(self.global_step.numpy(), self.num_iterations), desc=f\"Training for {self.global_step.numpy() - self.num_iterations}\"):\n",
    "            if time_step.is_last():\n",
    "                time_step = self.py_env.reset()\n",
    "            time_step, _ = collect_driver.run(time_step)\n",
    "            experience, _ = next(iterator)\n",
    "            train_loss = _train_step(experience, agent, self.metrics, self.global_step, initial_epsilon= initial_epsilon, final_epsilon = final_epsilon, decay_steps=decay_steps)\n",
    "\n",
    "            if self.global_step.numpy() % self.log_interval == 0:\n",
    "                print(f'step = {self.global_step.numpy()}: loss = {train_loss}')\n",
    "                # Later call: saved_policy = tf.saved_model.load(policy_dir)\n",
    "                train_checkpointer.save(self.global_step)\n",
    "\n",
    "            if (self.eval_interval is not None) and (self.global_step.numpy() % self.eval_interval == 0):\n",
    "                total_returns, episode_avg_returns, episode_std_devs, episode_sharpe_ratios= self.eval_metrics(self.eval_interval // 2)\n",
    "                tr = np.mean(total_returns)\n",
    "                av = np.mean(episode_avg_returns)\n",
    "                sr = np.mean(episode_sharpe_ratios)\n",
    "                sd = np.mean(episode_std_devs)\n",
    "\n",
    "                print(f'step = {self.global_step.numpy()}: Average Return = {av}, Total Return = {tr}, Avg Sharpe = {sr} -- Saving {self.global_step} Checkpoint')\n",
    "                self.metrics.update_metrics(total_return=tr, average_return=av, sharpe_ratio=sr)\n",
    "                train_checkpointer.save(self.global_step)\n",
    "\n",
    "        print(f'\\nTraining completed. Loss: {np.mean(self.metrics.losses.numpy()):.4f}')\n",
    "\n",
    "        policy_dir = os.path.join(checkpoint_path, 'policy')\n",
    "        tf_policy_saver = policy_saver.PolicySaver(agent.policy)\n",
    "        tf_policy_saver.save(policy_dir)\n",
    "        self.zip_directories(checkpoint_path)\n",
    "        print(\"Policy saved\")\n",
    "\n",
    "        self.rb_observer.close()\n",
    "        self.reverb_server.stop()\n",
    "\n",
    "        return self.metrics\n",
    "\n",
    "    def load_and_eval_policy(self, policy_path=MODELS_PATH, eval_interval=TEST_INTERVALS//4):\n",
    "        policy_dir = os.path.join(policy_path, 'policy')\n",
    "\n",
    "        self.policy = tf.saved_model.load(policy_dir)\n",
    "        total_returns, avg_return, _, sharpe_ratio = self.eval_metrics(eval_interval)\n",
    "\n",
    "        print(f'Average Return = {np.mean(avg_return)}, Total Return = {np.mean(total_returns)}, Sharpe = {np.mean(sharpe_ratio)}')\n",
    "\n",
    "        return self.policy, total_returns, avg_return, sharpe_ratio\n",
    "\n",
    "    def clear_directories(self, directories = MODELS_PATH):\n",
    "        try:\n",
    "            if IN_COLAB:\n",
    "                shutil.rmtree(f\"{GDRIVE}/MyDrive/{directories}\")\n",
    "                print(f\"Successfully cleared {GDRIVE}/MyDrive/{directories}\")\n",
    "            shutil.rmtree(directories)\n",
    "            print(f\"Successfully cleared {directories}\")\n",
    "        except Exception as e:\n",
    "            print(f\"Error clearing {directories}: {e}\")\n",
    "\n",
    "\n",
    "    def zip_directories(self, directories = MODELS_PATH, output_filename=f'{MODELS_PATH}/model_files'):\n",
    "        \"\"\"\n",
    "        Creates a zip archive containing the specified directories.\n",
    "\n",
    "        Parameters:\n",
    "        - directories: List of paths to directories to include in the archive.\n",
    "        - output_filename: The base name of the file to create, including the path,\n",
    "                        minus any format-specific extension. Default is 'training_backup'.\n",
    "        \"\"\"\n",
    "        if IN_COLAB:\n",
    "            archive_path = shutil.make_archive(f'{GDRIVE}/MyDrive/{directories}', 'zip', root_dir='.', base_dir=directories)\n",
    "            print(f\"Archived {GDRIVE}/MyDrive/{directories}\")\n",
    "        else:\n",
    "            archive_path = shutil.make_archive(output_filename, 'zip', root_dir='.', base_dir=directories)\n",
    "            print(f\"Archived {directories} into {archive_path}\")\n",
    "\n",
    "\n",
    "    def plot_performance(self, metrics):\n",
    "        \"\"\"\n",
    "        Plot the training performance including average returns and Sharpe Ratios on the same plot,\n",
    "        with returns on the left y-axis and Sharpe Ratios on the right y-axis.\n",
    "        \"\"\"\n",
    "        if self.eval_interval is not None:\n",
    "            fig, axs = plt.subplots(1, 2, figsize=(18, 4))\n",
    "\n",
    "            axs[0].set_xlabel('Iterations')\n",
    "            axs[0].set_ylabel('Average Return')\n",
    "            axs[0].plot(range(0, len(metrics.average_returns.numpy())), metrics.average_returns.numpy(), label='Average Return', color=\"blue\")\n",
    "            axs[0].tick_params(axis='y')\n",
    "            axs[0].legend(loc=\"upper right\")\n",
    "\n",
    "            ax12 = axs[0].twinx()\n",
    "            ax12.set_ylabel('Sharpe Ratio')\n",
    "            ax12.plot(range(0, len(metrics.sharpe_ratios.numpy())), metrics.sharpe_ratios.numpy(), label='Sharpe Ratio', color=\"yellow\")\n",
    "            ax12.tick_params(axis='y')\n",
    "            ax12.legend(loc=\"upper left\")\n",
    "\n",
    "            axs[1].set_xlabel('Iterations')\n",
    "            axs[1].set_ylabel('Loss')\n",
    "            axs[1].plot(range(0, len(metrics.losses.numpy())), metrics.losses.numpy(), label='Loss', color=\"red\")\n",
    "            axs[1].tick_params(axis='y')\n",
    "            axs[1].legend()\n",
    "\n",
    "            fig.tight_layout()\n",
    "        else:\n",
    "            fig = plt.figure(figsize=(18, 4))\n",
    "            plt.xlabel('Iterations')\n",
    "            plt.ylabel('Loss')\n",
    "            plt.plot(range(0, len(metrics.losses.numpy())), metrics.losses.numpy(), label='Loss', color=\"red\")\n",
    "            plt.tick_params(axis='y')\n",
    "        plt.title('Training Performance')\n",
    "        plt.show()\n",
    "\n",
    "    def plot_returns_and_actions(self):\n",
    "        \"\"\"\n",
    "        Steps through the environment's data using the given policy and plots the actions,\n",
    "        along with a subplot for cumulative returns and rewards with colored areas.\n",
    "        \"\"\"\n",
    "        print(\"Live episode started...\")\n",
    "        pbar = tqdm(total=None, desc=\"Steps executed\", leave=True)\n",
    "        time_step = self.eval_env.reset()\n",
    "        while not time_step.is_last():\n",
    "            action_step = self.policy.action(time_step)\n",
    "            time_step = self.eval_env.step(action_step.action)\n",
    "            pbar.update(1)\n",
    "        pbar.close()\n",
    "        print(\"...Live episode finished\")\n",
    "\n",
    "        data = self.py_eval_env.data.copy()\n",
    "        data['Cumulative_Returns'] = np.cumprod(data[\"Returns\"] + 1) - 1\n",
    "        data['Rewards'] = data['Returns']\n",
    "\n",
    "        fig, axs = plt.subplots(3, 1, figsize=(18, 12), gridspec_kw={'height_ratios': [3, 1, 1]})\n",
    "\n",
    "        axs[0].plot(data.index, data[TARGET_FEATURE], label='Close', color='k', alpha=0.6)\n",
    "        buys = data[data['Action'] == ACT_LONG]\n",
    "        sells = data[data['Action'] == ACT_SHORT]\n",
    "        axs[0].scatter(buys.index, buys[TARGET_FEATURE], label='Buy', color='green', marker='^', alpha=1)\n",
    "        axs[0].scatter(sells.index, sells[TARGET_FEATURE], label='Sell', color='red', marker='v', alpha=1)\n",
    "        axs[0].set_ylabel('Close ($)')\n",
    "        axs[0].set_title('Trading Actions and Close Prices')\n",
    "        axs[0].legend()\n",
    "\n",
    "        axs[1].bar(data.index, data[\"Holdings\"], label='Holdings', color='blue', alpha=0.6)\n",
    "        axs[1].set_ylabel('Holdings')\n",
    "        axs[1].set_title('Holdings')\n",
    "        axs[1].legend()\n",
    "\n",
    "        axs[2].plot(data.index, data['Cumulative_Returns'], label='Cumulative Returns', color='black')\n",
    "        axs[2].fill_between(data.index, 0, data['Cumulative_Returns'], where=(data['Cumulative_Returns'] >= 0), facecolor='green', alpha=0.3)\n",
    "        axs[2].fill_between(data.index, 0, data['Cumulative_Returns'], where=(data['Cumulative_Returns'] < 0), facecolor='red', alpha=0.3)\n",
    "        axs[2].set_ylabel('Cumulative Returns')\n",
    "        axs[2].set_title('Cumulative Returns')\n",
    "        axs[2].legend()\n",
    "\n",
    "        ax12 = axs[0].twinx()\n",
    "        reward_colors = ['green' if x >= 0 else 'red' for x in data['Rewards']]\n",
    "        ax12.bar(data.index, data['Rewards'], color=reward_colors, label='Rewards', alpha=0.4)\n",
    "        ax12.set_ylabel('Rewards')\n",
    "        ax12.set_title('Rewards')\n",
    "        ax12.legend()\n",
    "\n",
    "        for ax in axs:\n",
    "            ax.xaxis.set_major_locator(mdates.AutoDateLocator())\n",
    "            ax.xaxis.set_major_formatter(mdates.DateFormatter('%Y-%m-%d'))\n",
    "        fig.autofmt_xdate()\n",
    "\n",
    "        plt.xlabel('Date')\n",
    "        plt.tight_layout()\n",
    "        plt.show()\n",
    "\n",
    "        return data\n",
    "\n",
    "with strategy.scope():\n",
    "    sim = TradingSimulator(train_env, test_env, agent=agent)"
   ]
  },
  {
   "cell_type": "code",
   "execution_count": 12,
   "id": "0af4e31f",
   "metadata": {
    "execution": {
     "iopub.execute_input": "2024-03-15T22:17:49.644822Z",
     "iopub.status.busy": "2024-03-15T22:17:49.644516Z",
     "iopub.status.idle": "2024-03-15T22:23:32.507114Z",
     "shell.execute_reply": "2024-03-15T22:23:32.506137Z"
    },
    "executionInfo": {
     "elapsed": 943379,
     "status": "error",
     "timestamp": 1710411543204,
     "user": {
      "displayName": "Adam Darmanin",
      "userId": "00262451996831505471"
     },
     "user_tz": -60
    },
    "id": "C8944WF9ykML",
    "outputId": "44f4a8be-ed18-4d38-f09d-cc17dd205d17",
    "papermill": {
     "duration": 342.883594,
     "end_time": "2024-03-15T22:23:32.509119",
     "exception": false,
     "start_time": "2024-03-15T22:17:49.625525",
     "status": "completed"
    },
    "tags": []
   },
   "outputs": [
    {
     "name": "stdout",
     "output_type": "stream",
     "text": [
      "Error clearing ./models: [Errno 2] No such file or directory: './models'\n",
      "Preparing replay memory and dataset\n"
     ]
    },
    {
     "name": "stderr",
     "output_type": "stream",
     "text": [
      "[reverb/cc/platform/tfrecord_checkpointer.cc:162]  Initializing TFRecordCheckpointer in /tmp/tmp7uwjtvsm.\n",
      "[reverb/cc/platform/tfrecord_checkpointer.cc:565] Loading latest checkpoint from /tmp/tmp7uwjtvsm\n",
      "[reverb/cc/platform/default/server.cc:71] Started replay server on port 42447\n"
     ]
    },
    {
     "name": "stdout",
     "output_type": "stream",
     "text": [
      "Next step restored: 0 status: <tensorflow.python.checkpoint.checkpoint.InitializationOnlyStatus object at 0x7b70e05d2bf0>\n",
      "Running training starting 0 to 600\n"
     ]
    },
    {
     "name": "stderr",
     "output_type": "stream",
     "text": [
      "\r",
      "Training for -600:   0%|          | 0/600 [00:00<?, ?it/s]"
     ]
    },
    {
     "name": "stdout",
     "output_type": "stream",
     "text": [
      "WARNING:tensorflow:From /usr/local/lib/python3.10/site-packages/tensorflow/python/util/dispatch.py:1260: calling foldr_v2 (from tensorflow.python.ops.functional_ops) with back_prop=False is deprecated and will be removed in a future version.\n",
      "Instructions for updating:\n",
      "back_prop=False is deprecated. Consider using tf.stop_gradient instead.\n",
      "Instead of:\n",
      "results = tf.foldr(fn, elems, back_prop=False)\n",
      "Use:\n",
      "results = tf.nest.map_structure(tf.stop_gradient, tf.foldr(fn, elems))\n"
     ]
    },
    {
     "name": "stderr",
     "output_type": "stream",
     "text": [
      "[reverb/cc/client.cc:165] Sampler and server are owned by the same process (14) so Table uniform_table is accessed directly without gRPC.\n",
      "[reverb/cc/client.cc:165] Sampler and server are owned by the same process (14) so Table uniform_table is accessed directly without gRPC.\n",
      "[reverb/cc/client.cc:165] Sampler and server are owned by the same process (14) so Table uniform_table is accessed directly without gRPC.\n",
      "[reverb/cc/client.cc:165] Sampler and server are owned by the same process (14) so Table uniform_table is accessed directly without gRPC.\n",
      "[reverb/cc/client.cc:165] Sampler and server are owned by the same process (14) so Table uniform_table is accessed directly without gRPC.\n",
      "[reverb/cc/client.cc:165] Sampler and server are owned by the same process (14) so Table uniform_table is accessed directly without gRPC.\n",
      "WARNING:tensorflow:From /usr/local/lib/python3.10/site-packages/tensorflow/python/util/dispatch.py:1260: calling foldr_v2 (from tensorflow.python.ops.functional_ops) with back_prop=False is deprecated and will be removed in a future version.\n",
      "Instructions for updating:\n",
      "back_prop=False is deprecated. Consider using tf.stop_gradient instead.\n",
      "Instead of:\n",
      "results = tf.foldr(fn, elems, back_prop=False)\n",
      "Use:\n",
      "results = tf.nest.map_structure(tf.stop_gradient, tf.foldr(fn, elems))\n"
     ]
    },
    {
     "name": "stderr",
     "output_type": "stream",
     "text": [
      "\r",
      "Training for -600:   0%|          | 1/600 [00:04<47:30,  4.76s/it]"
     ]
    },
    {
     "name": "stderr",
     "output_type": "stream",
     "text": [
      "\r",
      "Training for -600:   0%|          | 2/600 [00:05<22:22,  2.25s/it]"
     ]
    },
    {
     "name": "stderr",
     "output_type": "stream",
     "text": [
      "\r",
      "Training for -600:   0%|          | 3/600 [00:05<14:25,  1.45s/it]"
     ]
    },
    {
     "name": "stderr",
     "output_type": "stream",
     "text": [
      "\r",
      "Training for -600:   1%|          | 4/600 [00:06<10:41,  1.08s/it]"
     ]
    },
    {
     "name": "stderr",
     "output_type": "stream",
     "text": [
      "\r",
      "Training for -600:   1%|          | 5/600 [00:06<08:37,  1.15it/s]"
     ]
    },
    {
     "name": "stderr",
     "output_type": "stream",
     "text": [
      "\r",
      "Training for -600:   1%|          | 6/600 [00:07<07:17,  1.36it/s]"
     ]
    },
    {
     "name": "stderr",
     "output_type": "stream",
     "text": [
      "\r",
      "Training for -600:   1%|          | 7/600 [00:07<06:36,  1.50it/s]"
     ]
    },
    {
     "name": "stderr",
     "output_type": "stream",
     "text": [
      "\r",
      "Training for -600:   1%|▏         | 8/600 [00:08<06:09,  1.60it/s]"
     ]
    },
    {
     "name": "stderr",
     "output_type": "stream",
     "text": [
      "\r",
      "Training for -600:   2%|▏         | 9/600 [00:08<05:44,  1.72it/s]"
     ]
    },
    {
     "name": "stderr",
     "output_type": "stream",
     "text": [
      "\r",
      "Training for -600:   2%|▏         | 10/600 [00:09<05:25,  1.81it/s]"
     ]
    },
    {
     "name": "stderr",
     "output_type": "stream",
     "text": [
      "\r",
      "Training for -600:   2%|▏         | 11/600 [00:09<05:11,  1.89it/s]"
     ]
    },
    {
     "name": "stderr",
     "output_type": "stream",
     "text": [
      "\r",
      "Training for -600:   2%|▏         | 12/600 [00:10<05:00,  1.96it/s]"
     ]
    },
    {
     "name": "stderr",
     "output_type": "stream",
     "text": [
      "\r",
      "Training for -600:   2%|▏         | 13/600 [00:10<04:57,  1.97it/s]"
     ]
    },
    {
     "name": "stderr",
     "output_type": "stream",
     "text": [
      "\r",
      "Training for -600:   2%|▏         | 14/600 [00:11<04:53,  2.00it/s]"
     ]
    },
    {
     "name": "stderr",
     "output_type": "stream",
     "text": [
      "\r",
      "Training for -600:   2%|▎         | 15/600 [00:11<04:49,  2.02it/s]"
     ]
    },
    {
     "name": "stderr",
     "output_type": "stream",
     "text": [
      "\r",
      "Training for -600:   3%|▎         | 16/600 [00:12<04:47,  2.03it/s]"
     ]
    },
    {
     "name": "stderr",
     "output_type": "stream",
     "text": [
      "\r",
      "Training for -600:   3%|▎         | 17/600 [00:12<04:55,  1.98it/s]"
     ]
    },
    {
     "name": "stderr",
     "output_type": "stream",
     "text": [
      "\r",
      "Training for -600:   3%|▎         | 18/600 [00:13<04:53,  1.98it/s]"
     ]
    },
    {
     "name": "stderr",
     "output_type": "stream",
     "text": [
      "\r",
      "Training for -600:   3%|▎         | 19/600 [00:13<04:56,  1.96it/s]"
     ]
    },
    {
     "name": "stderr",
     "output_type": "stream",
     "text": [
      "\r",
      "Training for -600:   3%|▎         | 20/600 [00:14<05:01,  1.92it/s]"
     ]
    },
    {
     "name": "stderr",
     "output_type": "stream",
     "text": [
      "\r",
      "Training for -600:   4%|▎         | 21/600 [00:14<04:55,  1.96it/s]"
     ]
    },
    {
     "name": "stderr",
     "output_type": "stream",
     "text": [
      "\r",
      "Training for -600:   4%|▎         | 22/600 [00:15<04:48,  2.00it/s]"
     ]
    },
    {
     "name": "stderr",
     "output_type": "stream",
     "text": [
      "\r",
      "Training for -600:   4%|▍         | 23/600 [00:15<04:46,  2.02it/s]"
     ]
    },
    {
     "name": "stderr",
     "output_type": "stream",
     "text": [
      "\r",
      "Training for -600:   4%|▍         | 24/600 [00:16<04:40,  2.05it/s]"
     ]
    },
    {
     "name": "stderr",
     "output_type": "stream",
     "text": [
      "\r",
      "Training for -600:   4%|▍         | 25/600 [00:16<04:38,  2.07it/s]"
     ]
    },
    {
     "name": "stderr",
     "output_type": "stream",
     "text": [
      "\r",
      "Training for -600:   4%|▍         | 26/600 [00:17<04:36,  2.08it/s]"
     ]
    },
    {
     "name": "stderr",
     "output_type": "stream",
     "text": [
      "\r",
      "Training for -600:   4%|▍         | 27/600 [00:17<04:34,  2.09it/s]"
     ]
    },
    {
     "name": "stderr",
     "output_type": "stream",
     "text": [
      "\r",
      "Training for -600:   5%|▍         | 28/600 [00:18<04:32,  2.10it/s]"
     ]
    },
    {
     "name": "stderr",
     "output_type": "stream",
     "text": [
      "\r",
      "Training for -600:   5%|▍         | 29/600 [00:18<04:33,  2.09it/s]"
     ]
    },
    {
     "name": "stderr",
     "output_type": "stream",
     "text": [
      "\r",
      "Training for -600:   5%|▌         | 30/600 [00:19<04:36,  2.06it/s]"
     ]
    },
    {
     "name": "stderr",
     "output_type": "stream",
     "text": [
      "\r",
      "Training for -600:   5%|▌         | 31/600 [00:19<04:42,  2.02it/s]"
     ]
    },
    {
     "name": "stderr",
     "output_type": "stream",
     "text": [
      "\r",
      "Training for -600:   5%|▌         | 32/600 [00:20<04:49,  1.96it/s]"
     ]
    },
    {
     "name": "stderr",
     "output_type": "stream",
     "text": [
      "\r",
      "Training for -600:   6%|▌         | 33/600 [00:20<04:47,  1.97it/s]"
     ]
    },
    {
     "name": "stderr",
     "output_type": "stream",
     "text": [
      "\r",
      "Training for -600:   6%|▌         | 34/600 [00:21<04:43,  1.99it/s]"
     ]
    },
    {
     "name": "stderr",
     "output_type": "stream",
     "text": [
      "\r",
      "Training for -600:   6%|▌         | 35/600 [00:21<04:39,  2.03it/s]"
     ]
    },
    {
     "name": "stderr",
     "output_type": "stream",
     "text": [
      "\r",
      "Training for -600:   6%|▌         | 36/600 [00:22<04:35,  2.05it/s]"
     ]
    },
    {
     "name": "stderr",
     "output_type": "stream",
     "text": [
      "\r",
      "Training for -600:   6%|▌         | 37/600 [00:22<04:34,  2.05it/s]"
     ]
    },
    {
     "name": "stderr",
     "output_type": "stream",
     "text": [
      "\r",
      "Training for -600:   6%|▋         | 38/600 [00:23<04:33,  2.06it/s]"
     ]
    },
    {
     "name": "stderr",
     "output_type": "stream",
     "text": [
      "\r",
      "Training for -600:   6%|▋         | 39/600 [00:23<04:29,  2.08it/s]"
     ]
    },
    {
     "name": "stderr",
     "output_type": "stream",
     "text": [
      "\r",
      "Training for -600:   7%|▋         | 40/600 [00:23<04:28,  2.08it/s]"
     ]
    },
    {
     "name": "stderr",
     "output_type": "stream",
     "text": [
      "\r",
      "Training for -600:   7%|▋         | 41/600 [00:24<04:26,  2.10it/s]"
     ]
    },
    {
     "name": "stderr",
     "output_type": "stream",
     "text": [
      "\r",
      "Training for -600:   7%|▋         | 42/600 [00:24<04:26,  2.10it/s]"
     ]
    },
    {
     "name": "stderr",
     "output_type": "stream",
     "text": [
      "\r",
      "Training for -600:   7%|▋         | 43/600 [00:25<04:28,  2.07it/s]"
     ]
    },
    {
     "name": "stderr",
     "output_type": "stream",
     "text": [
      "\r",
      "Training for -600:   7%|▋         | 44/600 [00:25<04:35,  2.02it/s]"
     ]
    },
    {
     "name": "stderr",
     "output_type": "stream",
     "text": [
      "\r",
      "Training for -600:   8%|▊         | 45/600 [00:26<04:39,  1.99it/s]"
     ]
    },
    {
     "name": "stderr",
     "output_type": "stream",
     "text": [
      "\r",
      "Training for -600:   8%|▊         | 46/600 [00:26<04:33,  2.03it/s]"
     ]
    },
    {
     "name": "stderr",
     "output_type": "stream",
     "text": [
      "\r",
      "Training for -600:   8%|▊         | 47/600 [00:27<04:29,  2.05it/s]"
     ]
    },
    {
     "name": "stderr",
     "output_type": "stream",
     "text": [
      "\r",
      "Training for -600:   8%|▊         | 48/600 [00:27<04:26,  2.07it/s]"
     ]
    },
    {
     "name": "stderr",
     "output_type": "stream",
     "text": [
      "\r",
      "Training for -600:   8%|▊         | 49/600 [00:28<04:24,  2.08it/s]"
     ]
    },
    {
     "name": "stderr",
     "output_type": "stream",
     "text": [
      "\r",
      "Training for -600:   8%|▊         | 50/600 [00:28<04:21,  2.10it/s]"
     ]
    },
    {
     "name": "stderr",
     "output_type": "stream",
     "text": [
      "\r",
      "Training for -600:   8%|▊         | 51/600 [00:29<04:22,  2.09it/s]"
     ]
    },
    {
     "name": "stderr",
     "output_type": "stream",
     "text": [
      "\r",
      "Training for -600:   9%|▊         | 52/600 [00:29<04:21,  2.10it/s]"
     ]
    },
    {
     "name": "stderr",
     "output_type": "stream",
     "text": [
      "\r",
      "Training for -600:   9%|▉         | 53/600 [00:30<04:22,  2.09it/s]"
     ]
    },
    {
     "name": "stderr",
     "output_type": "stream",
     "text": [
      "\r",
      "Training for -600:   9%|▉         | 54/600 [00:30<04:21,  2.09it/s]"
     ]
    },
    {
     "name": "stderr",
     "output_type": "stream",
     "text": [
      "\r",
      "Training for -600:   9%|▉         | 55/600 [00:31<04:21,  2.08it/s]"
     ]
    },
    {
     "name": "stderr",
     "output_type": "stream",
     "text": [
      "\r",
      "Training for -600:   9%|▉         | 56/600 [00:31<04:28,  2.02it/s]"
     ]
    },
    {
     "name": "stderr",
     "output_type": "stream",
     "text": [
      "\r",
      "Training for -600:  10%|▉         | 57/600 [00:32<04:36,  1.97it/s]"
     ]
    },
    {
     "name": "stderr",
     "output_type": "stream",
     "text": [
      "\r",
      "Training for -600:  10%|▉         | 58/600 [00:32<04:34,  1.97it/s]"
     ]
    },
    {
     "name": "stderr",
     "output_type": "stream",
     "text": [
      "\r",
      "Training for -600:  10%|▉         | 59/600 [00:33<04:30,  2.00it/s]"
     ]
    },
    {
     "name": "stderr",
     "output_type": "stream",
     "text": [
      "\r",
      "Training for -600:  10%|█         | 60/600 [00:33<04:25,  2.03it/s]"
     ]
    },
    {
     "name": "stderr",
     "output_type": "stream",
     "text": [
      "\r",
      "Training for -600:  10%|█         | 61/600 [00:34<04:21,  2.06it/s]"
     ]
    },
    {
     "name": "stderr",
     "output_type": "stream",
     "text": [
      "\r",
      "Training for -600:  10%|█         | 62/600 [00:34<04:20,  2.06it/s]"
     ]
    },
    {
     "name": "stderr",
     "output_type": "stream",
     "text": [
      "\r",
      "Training for -600:  10%|█         | 63/600 [00:35<04:17,  2.09it/s]"
     ]
    },
    {
     "name": "stderr",
     "output_type": "stream",
     "text": [
      "\r",
      "Training for -600:  11%|█         | 64/600 [00:35<04:17,  2.08it/s]"
     ]
    },
    {
     "name": "stderr",
     "output_type": "stream",
     "text": [
      "\r",
      "Training for -600:  11%|█         | 65/600 [00:36<04:14,  2.10it/s]"
     ]
    },
    {
     "name": "stderr",
     "output_type": "stream",
     "text": [
      "\r",
      "Training for -600:  11%|█         | 66/600 [00:36<04:14,  2.10it/s]"
     ]
    },
    {
     "name": "stderr",
     "output_type": "stream",
     "text": [
      "\r",
      "Training for -600:  11%|█         | 67/600 [00:37<04:13,  2.10it/s]"
     ]
    },
    {
     "name": "stderr",
     "output_type": "stream",
     "text": [
      "\r",
      "Training for -600:  11%|█▏        | 68/600 [00:37<04:17,  2.07it/s]"
     ]
    },
    {
     "name": "stderr",
     "output_type": "stream",
     "text": [
      "\r",
      "Training for -600:  12%|█▏        | 69/600 [00:38<04:22,  2.03it/s]"
     ]
    },
    {
     "name": "stderr",
     "output_type": "stream",
     "text": [
      "\r",
      "Training for -600:  12%|█▏        | 70/600 [00:38<04:21,  2.03it/s]"
     ]
    },
    {
     "name": "stderr",
     "output_type": "stream",
     "text": [
      "\r",
      "Training for -600:  12%|█▏        | 71/600 [00:39<04:21,  2.02it/s]"
     ]
    },
    {
     "name": "stderr",
     "output_type": "stream",
     "text": [
      "\r",
      "Training for -600:  12%|█▏        | 72/600 [00:39<04:20,  2.03it/s]"
     ]
    },
    {
     "name": "stderr",
     "output_type": "stream",
     "text": [
      "\r",
      "Training for -600:  12%|█▏        | 73/600 [00:40<04:16,  2.05it/s]"
     ]
    },
    {
     "name": "stderr",
     "output_type": "stream",
     "text": [
      "\r",
      "Training for -600:  12%|█▏        | 74/600 [00:40<04:13,  2.07it/s]"
     ]
    },
    {
     "name": "stderr",
     "output_type": "stream",
     "text": [
      "\r",
      "Training for -600:  12%|█▎        | 75/600 [00:41<04:15,  2.06it/s]"
     ]
    },
    {
     "name": "stderr",
     "output_type": "stream",
     "text": [
      "\r",
      "Training for -600:  13%|█▎        | 76/600 [00:41<04:12,  2.08it/s]"
     ]
    },
    {
     "name": "stderr",
     "output_type": "stream",
     "text": [
      "\r",
      "Training for -600:  13%|█▎        | 77/600 [00:41<04:09,  2.09it/s]"
     ]
    },
    {
     "name": "stderr",
     "output_type": "stream",
     "text": [
      "\r",
      "Training for -600:  13%|█▎        | 78/600 [00:42<04:10,  2.08it/s]"
     ]
    },
    {
     "name": "stderr",
     "output_type": "stream",
     "text": [
      "\r",
      "Training for -600:  13%|█▎        | 79/600 [00:42<04:07,  2.10it/s]"
     ]
    },
    {
     "name": "stderr",
     "output_type": "stream",
     "text": [
      "\r",
      "Training for -600:  13%|█▎        | 80/600 [00:43<04:07,  2.10it/s]"
     ]
    },
    {
     "name": "stderr",
     "output_type": "stream",
     "text": [
      "\r",
      "Training for -600:  14%|█▎        | 81/600 [00:43<04:15,  2.03it/s]"
     ]
    },
    {
     "name": "stderr",
     "output_type": "stream",
     "text": [
      "\r",
      "Training for -600:  14%|█▎        | 82/600 [00:44<04:18,  2.00it/s]"
     ]
    },
    {
     "name": "stderr",
     "output_type": "stream",
     "text": [
      "\r",
      "Training for -600:  14%|█▍        | 83/600 [00:44<04:14,  2.03it/s]"
     ]
    },
    {
     "name": "stderr",
     "output_type": "stream",
     "text": [
      "\r",
      "Training for -600:  14%|█▍        | 84/600 [00:45<04:12,  2.04it/s]"
     ]
    },
    {
     "name": "stderr",
     "output_type": "stream",
     "text": [
      "\r",
      "Training for -600:  14%|█▍        | 85/600 [00:45<04:10,  2.05it/s]"
     ]
    },
    {
     "name": "stderr",
     "output_type": "stream",
     "text": [
      "\r",
      "Training for -600:  14%|█▍        | 86/600 [00:46<04:09,  2.06it/s]"
     ]
    },
    {
     "name": "stderr",
     "output_type": "stream",
     "text": [
      "\r",
      "Training for -600:  14%|█▍        | 87/600 [00:46<04:07,  2.07it/s]"
     ]
    },
    {
     "name": "stderr",
     "output_type": "stream",
     "text": [
      "\r",
      "Training for -600:  15%|█▍        | 88/600 [00:47<04:05,  2.09it/s]"
     ]
    },
    {
     "name": "stderr",
     "output_type": "stream",
     "text": [
      "\r",
      "Training for -600:  15%|█▍        | 89/600 [00:47<04:03,  2.09it/s]"
     ]
    },
    {
     "name": "stderr",
     "output_type": "stream",
     "text": [
      "\r",
      "Training for -600:  15%|█▌        | 90/600 [00:48<04:02,  2.10it/s]"
     ]
    },
    {
     "name": "stderr",
     "output_type": "stream",
     "text": [
      "\r",
      "Training for -600:  15%|█▌        | 91/600 [00:48<04:01,  2.11it/s]"
     ]
    },
    {
     "name": "stderr",
     "output_type": "stream",
     "text": [
      "\r",
      "Training for -600:  15%|█▌        | 92/600 [00:49<04:01,  2.11it/s]"
     ]
    },
    {
     "name": "stderr",
     "output_type": "stream",
     "text": [
      "\r",
      "Training for -600:  16%|█▌        | 93/600 [00:49<04:07,  2.05it/s]"
     ]
    },
    {
     "name": "stderr",
     "output_type": "stream",
     "text": [
      "\r",
      "Training for -600:  16%|█▌        | 94/600 [00:50<04:13,  1.99it/s]"
     ]
    },
    {
     "name": "stderr",
     "output_type": "stream",
     "text": [
      "\r",
      "Training for -600:  16%|█▌        | 95/600 [00:50<04:10,  2.01it/s]"
     ]
    },
    {
     "name": "stderr",
     "output_type": "stream",
     "text": [
      "\r",
      "Training for -600:  16%|█▌        | 96/600 [00:51<04:06,  2.04it/s]"
     ]
    },
    {
     "name": "stderr",
     "output_type": "stream",
     "text": [
      "\r",
      "Training for -600:  16%|█▌        | 97/600 [00:51<04:05,  2.05it/s]"
     ]
    },
    {
     "name": "stderr",
     "output_type": "stream",
     "text": [
      "\r",
      "Training for -600:  16%|█▋        | 98/600 [00:52<04:07,  2.03it/s]"
     ]
    },
    {
     "name": "stderr",
     "output_type": "stream",
     "text": [
      "\r",
      "Training for -600:  16%|█▋        | 99/600 [00:52<04:07,  2.02it/s]"
     ]
    },
    {
     "name": "stderr",
     "output_type": "stream",
     "text": [
      "\r",
      "Training for -600:  17%|█▋        | 100/600 [00:53<04:04,  2.05it/s]"
     ]
    },
    {
     "name": "stderr",
     "output_type": "stream",
     "text": [
      "\r",
      "Training for -600:  17%|█▋        | 101/600 [00:53<04:00,  2.07it/s]"
     ]
    },
    {
     "name": "stderr",
     "output_type": "stream",
     "text": [
      "\r",
      "Training for -600:  17%|█▋        | 102/600 [00:54<03:58,  2.09it/s]"
     ]
    },
    {
     "name": "stderr",
     "output_type": "stream",
     "text": [
      "\r",
      "Training for -600:  17%|█▋        | 103/600 [00:54<03:56,  2.10it/s]"
     ]
    },
    {
     "name": "stderr",
     "output_type": "stream",
     "text": [
      "\r",
      "Training for -600:  17%|█▋        | 104/600 [00:55<03:55,  2.10it/s]"
     ]
    },
    {
     "name": "stderr",
     "output_type": "stream",
     "text": [
      "\r",
      "Training for -600:  18%|█▊        | 105/600 [00:55<03:59,  2.07it/s]"
     ]
    },
    {
     "name": "stderr",
     "output_type": "stream",
     "text": [
      "\r",
      "Training for -600:  18%|█▊        | 106/600 [00:56<04:02,  2.03it/s]"
     ]
    },
    {
     "name": "stderr",
     "output_type": "stream",
     "text": [
      "\r",
      "Training for -600:  18%|█▊        | 107/600 [00:56<04:02,  2.03it/s]"
     ]
    },
    {
     "name": "stderr",
     "output_type": "stream",
     "text": [
      "\r",
      "Training for -600:  18%|█▊        | 108/600 [00:57<03:58,  2.06it/s]"
     ]
    },
    {
     "name": "stderr",
     "output_type": "stream",
     "text": [
      "\r",
      "Training for -600:  18%|█▊        | 109/600 [00:57<03:54,  2.09it/s]"
     ]
    },
    {
     "name": "stderr",
     "output_type": "stream",
     "text": [
      "\r",
      "Training for -600:  18%|█▊        | 110/600 [00:57<03:52,  2.10it/s]"
     ]
    },
    {
     "name": "stderr",
     "output_type": "stream",
     "text": [
      "\r",
      "Training for -600:  18%|█▊        | 111/600 [00:58<03:54,  2.09it/s]"
     ]
    },
    {
     "name": "stderr",
     "output_type": "stream",
     "text": [
      "\r",
      "Training for -600:  19%|█▊        | 112/600 [00:58<03:53,  2.09it/s]"
     ]
    },
    {
     "name": "stderr",
     "output_type": "stream",
     "text": [
      "\r",
      "Training for -600:  19%|█▉        | 113/600 [00:59<03:52,  2.09it/s]"
     ]
    },
    {
     "name": "stderr",
     "output_type": "stream",
     "text": [
      "\r",
      "Training for -600:  19%|█▉        | 114/600 [00:59<03:50,  2.11it/s]"
     ]
    },
    {
     "name": "stderr",
     "output_type": "stream",
     "text": [
      "\r",
      "Training for -600:  19%|█▉        | 115/600 [01:00<03:49,  2.11it/s]"
     ]
    },
    {
     "name": "stderr",
     "output_type": "stream",
     "text": [
      "\r",
      "Training for -600:  19%|█▉        | 116/600 [01:00<03:49,  2.11it/s]"
     ]
    },
    {
     "name": "stderr",
     "output_type": "stream",
     "text": [
      "\r",
      "Training for -600:  20%|█▉        | 117/600 [01:01<03:48,  2.11it/s]"
     ]
    },
    {
     "name": "stderr",
     "output_type": "stream",
     "text": [
      "\r",
      "Training for -600:  20%|█▉        | 118/600 [01:01<03:54,  2.06it/s]"
     ]
    },
    {
     "name": "stderr",
     "output_type": "stream",
     "text": [
      "\r",
      "Training for -600:  20%|█▉        | 119/600 [01:02<03:59,  2.01it/s]"
     ]
    },
    {
     "name": "stderr",
     "output_type": "stream",
     "text": [
      "\r",
      "Training for -600:  20%|██        | 120/600 [01:02<03:55,  2.04it/s]"
     ]
    },
    {
     "name": "stderr",
     "output_type": "stream",
     "text": [
      "\r",
      "Training for -600:  20%|██        | 121/600 [01:03<03:50,  2.07it/s]"
     ]
    },
    {
     "name": "stderr",
     "output_type": "stream",
     "text": [
      "\r",
      "Training for -600:  20%|██        | 122/600 [01:03<03:50,  2.07it/s]"
     ]
    },
    {
     "name": "stderr",
     "output_type": "stream",
     "text": [
      "\r",
      "Training for -600:  20%|██        | 123/600 [01:04<03:47,  2.10it/s]"
     ]
    },
    {
     "name": "stderr",
     "output_type": "stream",
     "text": [
      "\r",
      "Training for -600:  21%|██        | 124/600 [01:04<03:47,  2.10it/s]"
     ]
    },
    {
     "name": "stderr",
     "output_type": "stream",
     "text": [
      "\r",
      "Training for -600:  21%|██        | 125/600 [01:05<03:48,  2.08it/s]"
     ]
    },
    {
     "name": "stderr",
     "output_type": "stream",
     "text": [
      "\r",
      "Training for -600:  21%|██        | 126/600 [01:05<03:50,  2.06it/s]"
     ]
    },
    {
     "name": "stderr",
     "output_type": "stream",
     "text": [
      "\r",
      "Training for -600:  21%|██        | 127/600 [01:06<03:46,  2.08it/s]"
     ]
    },
    {
     "name": "stderr",
     "output_type": "stream",
     "text": [
      "\r",
      "Training for -600:  21%|██▏       | 128/600 [01:06<03:45,  2.09it/s]"
     ]
    },
    {
     "name": "stderr",
     "output_type": "stream",
     "text": [
      "\r",
      "Training for -600:  22%|██▏       | 129/600 [01:07<03:43,  2.10it/s]"
     ]
    },
    {
     "name": "stderr",
     "output_type": "stream",
     "text": [
      "\r",
      "Training for -600:  22%|██▏       | 130/600 [01:07<03:47,  2.07it/s]"
     ]
    },
    {
     "name": "stderr",
     "output_type": "stream",
     "text": [
      "\r",
      "Training for -600:  22%|██▏       | 131/600 [01:08<03:51,  2.03it/s]"
     ]
    },
    {
     "name": "stderr",
     "output_type": "stream",
     "text": [
      "\r",
      "Training for -600:  22%|██▏       | 132/600 [01:08<03:49,  2.04it/s]"
     ]
    },
    {
     "name": "stderr",
     "output_type": "stream",
     "text": [
      "\r",
      "Training for -600:  22%|██▏       | 133/600 [01:09<03:46,  2.07it/s]"
     ]
    },
    {
     "name": "stderr",
     "output_type": "stream",
     "text": [
      "\r",
      "Training for -600:  22%|██▏       | 134/600 [01:09<03:43,  2.08it/s]"
     ]
    },
    {
     "name": "stderr",
     "output_type": "stream",
     "text": [
      "\r",
      "Training for -600:  22%|██▎       | 135/600 [01:09<03:42,  2.09it/s]"
     ]
    },
    {
     "name": "stderr",
     "output_type": "stream",
     "text": [
      "\r",
      "Training for -600:  23%|██▎       | 136/600 [01:10<03:41,  2.09it/s]"
     ]
    },
    {
     "name": "stderr",
     "output_type": "stream",
     "text": [
      "\r",
      "Training for -600:  23%|██▎       | 137/600 [01:10<03:42,  2.08it/s]"
     ]
    },
    {
     "name": "stderr",
     "output_type": "stream",
     "text": [
      "\r",
      "Training for -600:  23%|██▎       | 138/600 [01:11<03:41,  2.09it/s]"
     ]
    },
    {
     "name": "stderr",
     "output_type": "stream",
     "text": [
      "\r",
      "Training for -600:  23%|██▎       | 139/600 [01:11<03:42,  2.07it/s]"
     ]
    },
    {
     "name": "stderr",
     "output_type": "stream",
     "text": [
      "\r",
      "Training for -600:  23%|██▎       | 140/600 [01:12<03:43,  2.05it/s]"
     ]
    },
    {
     "name": "stderr",
     "output_type": "stream",
     "text": [
      "\r",
      "Training for -600:  24%|██▎       | 141/600 [01:12<03:41,  2.07it/s]"
     ]
    },
    {
     "name": "stderr",
     "output_type": "stream",
     "text": [
      "\r",
      "Training for -600:  24%|██▎       | 142/600 [01:13<03:41,  2.07it/s]"
     ]
    },
    {
     "name": "stderr",
     "output_type": "stream",
     "text": [
      "\r",
      "Training for -600:  24%|██▍       | 143/600 [01:13<03:46,  2.02it/s]"
     ]
    },
    {
     "name": "stderr",
     "output_type": "stream",
     "text": [
      "\r",
      "Training for -600:  24%|██▍       | 144/600 [01:14<03:47,  2.00it/s]"
     ]
    },
    {
     "name": "stderr",
     "output_type": "stream",
     "text": [
      "\r",
      "Training for -600:  24%|██▍       | 145/600 [01:14<03:44,  2.03it/s]"
     ]
    },
    {
     "name": "stderr",
     "output_type": "stream",
     "text": [
      "\r",
      "Training for -600:  24%|██▍       | 146/600 [01:15<03:41,  2.05it/s]"
     ]
    },
    {
     "name": "stderr",
     "output_type": "stream",
     "text": [
      "\r",
      "Training for -600:  24%|██▍       | 147/600 [01:15<03:38,  2.07it/s]"
     ]
    },
    {
     "name": "stderr",
     "output_type": "stream",
     "text": [
      "\r",
      "Training for -600:  25%|██▍       | 148/600 [01:16<03:36,  2.09it/s]"
     ]
    },
    {
     "name": "stderr",
     "output_type": "stream",
     "text": [
      "\r",
      "Training for -600:  25%|██▍       | 149/600 [01:16<03:33,  2.11it/s]"
     ]
    },
    {
     "name": "stderr",
     "output_type": "stream",
     "text": [
      "\r",
      "Training for -600:  25%|██▌       | 150/600 [01:17<03:32,  2.12it/s]"
     ]
    },
    {
     "name": "stderr",
     "output_type": "stream",
     "text": [
      "\r",
      "Training for -600:  25%|██▌       | 151/600 [01:17<03:30,  2.13it/s]"
     ]
    },
    {
     "name": "stderr",
     "output_type": "stream",
     "text": [
      "\r",
      "Training for -600:  25%|██▌       | 152/600 [01:18<03:31,  2.12it/s]"
     ]
    },
    {
     "name": "stderr",
     "output_type": "stream",
     "text": [
      "\r",
      "Training for -600:  26%|██▌       | 153/600 [01:18<03:33,  2.09it/s]"
     ]
    },
    {
     "name": "stderr",
     "output_type": "stream",
     "text": [
      "\r",
      "Training for -600:  26%|██▌       | 154/600 [01:19<03:31,  2.11it/s]"
     ]
    },
    {
     "name": "stderr",
     "output_type": "stream",
     "text": [
      "\r",
      "Training for -600:  26%|██▌       | 155/600 [01:19<03:38,  2.04it/s]"
     ]
    },
    {
     "name": "stderr",
     "output_type": "stream",
     "text": [
      "\r",
      "Training for -600:  26%|██▌       | 156/600 [01:20<03:43,  1.99it/s]"
     ]
    },
    {
     "name": "stderr",
     "output_type": "stream",
     "text": [
      "\r",
      "Training for -600:  26%|██▌       | 157/600 [01:20<03:38,  2.03it/s]"
     ]
    },
    {
     "name": "stderr",
     "output_type": "stream",
     "text": [
      "\r",
      "Training for -600:  26%|██▋       | 158/600 [01:21<03:35,  2.05it/s]"
     ]
    },
    {
     "name": "stderr",
     "output_type": "stream",
     "text": [
      "\r",
      "Training for -600:  26%|██▋       | 159/600 [01:21<03:32,  2.08it/s]"
     ]
    },
    {
     "name": "stderr",
     "output_type": "stream",
     "text": [
      "\r",
      "Training for -600:  27%|██▋       | 160/600 [01:22<03:29,  2.10it/s]"
     ]
    },
    {
     "name": "stderr",
     "output_type": "stream",
     "text": [
      "\r",
      "Training for -600:  27%|██▋       | 161/600 [01:22<03:29,  2.10it/s]"
     ]
    },
    {
     "name": "stderr",
     "output_type": "stream",
     "text": [
      "\r",
      "Training for -600:  27%|██▋       | 162/600 [01:23<03:26,  2.12it/s]"
     ]
    },
    {
     "name": "stderr",
     "output_type": "stream",
     "text": [
      "\r",
      "Training for -600:  27%|██▋       | 163/600 [01:23<03:25,  2.13it/s]"
     ]
    },
    {
     "name": "stderr",
     "output_type": "stream",
     "text": [
      "\r",
      "Training for -600:  27%|██▋       | 164/600 [01:23<03:22,  2.15it/s]"
     ]
    },
    {
     "name": "stderr",
     "output_type": "stream",
     "text": [
      "\r",
      "Training for -600:  28%|██▊       | 165/600 [01:24<03:21,  2.16it/s]"
     ]
    },
    {
     "name": "stderr",
     "output_type": "stream",
     "text": [
      "\r",
      "Training for -600:  28%|██▊       | 166/600 [01:24<03:24,  2.12it/s]"
     ]
    },
    {
     "name": "stderr",
     "output_type": "stream",
     "text": [
      "\r",
      "Training for -600:  28%|██▊       | 167/600 [01:25<03:28,  2.08it/s]"
     ]
    },
    {
     "name": "stderr",
     "output_type": "stream",
     "text": [
      "\r",
      "Training for -600:  28%|██▊       | 168/600 [01:25<03:36,  2.00it/s]"
     ]
    },
    {
     "name": "stderr",
     "output_type": "stream",
     "text": [
      "\r",
      "Training for -600:  28%|██▊       | 169/600 [01:26<03:37,  1.98it/s]"
     ]
    },
    {
     "name": "stderr",
     "output_type": "stream",
     "text": [
      "\r",
      "Training for -600:  28%|██▊       | 170/600 [01:26<03:32,  2.03it/s]"
     ]
    },
    {
     "name": "stderr",
     "output_type": "stream",
     "text": [
      "\r",
      "Training for -600:  28%|██▊       | 171/600 [01:27<03:28,  2.06it/s]"
     ]
    },
    {
     "name": "stderr",
     "output_type": "stream",
     "text": [
      "\r",
      "Training for -600:  29%|██▊       | 172/600 [01:27<03:27,  2.06it/s]"
     ]
    },
    {
     "name": "stderr",
     "output_type": "stream",
     "text": [
      "\r",
      "Training for -600:  29%|██▉       | 173/600 [01:28<03:23,  2.09it/s]"
     ]
    },
    {
     "name": "stderr",
     "output_type": "stream",
     "text": [
      "\r",
      "Training for -600:  29%|██▉       | 174/600 [01:28<03:22,  2.11it/s]"
     ]
    },
    {
     "name": "stderr",
     "output_type": "stream",
     "text": [
      "\r",
      "Training for -600:  29%|██▉       | 175/600 [01:29<03:20,  2.12it/s]"
     ]
    },
    {
     "name": "stderr",
     "output_type": "stream",
     "text": [
      "\r",
      "Training for -600:  29%|██▉       | 176/600 [01:29<03:18,  2.13it/s]"
     ]
    },
    {
     "name": "stderr",
     "output_type": "stream",
     "text": [
      "\r",
      "Training for -600:  30%|██▉       | 177/600 [01:30<03:16,  2.15it/s]"
     ]
    },
    {
     "name": "stderr",
     "output_type": "stream",
     "text": [
      "\r",
      "Training for -600:  30%|██▉       | 178/600 [01:30<03:16,  2.15it/s]"
     ]
    },
    {
     "name": "stderr",
     "output_type": "stream",
     "text": [
      "\r",
      "Training for -600:  30%|██▉       | 179/600 [01:31<03:18,  2.12it/s]"
     ]
    },
    {
     "name": "stderr",
     "output_type": "stream",
     "text": [
      "\r",
      "Training for -600:  30%|███       | 180/600 [01:31<03:26,  2.04it/s]"
     ]
    },
    {
     "name": "stderr",
     "output_type": "stream",
     "text": [
      "\r",
      "Training for -600:  30%|███       | 181/600 [01:32<03:31,  1.98it/s]"
     ]
    },
    {
     "name": "stderr",
     "output_type": "stream",
     "text": [
      "\r",
      "Training for -600:  30%|███       | 182/600 [01:32<03:25,  2.03it/s]"
     ]
    },
    {
     "name": "stderr",
     "output_type": "stream",
     "text": [
      "\r",
      "Training for -600:  30%|███       | 183/600 [01:33<03:22,  2.06it/s]"
     ]
    },
    {
     "name": "stderr",
     "output_type": "stream",
     "text": [
      "\r",
      "Training for -600:  31%|███       | 184/600 [01:33<03:18,  2.10it/s]"
     ]
    },
    {
     "name": "stderr",
     "output_type": "stream",
     "text": [
      "\r",
      "Training for -600:  31%|███       | 185/600 [01:34<03:15,  2.12it/s]"
     ]
    },
    {
     "name": "stderr",
     "output_type": "stream",
     "text": [
      "\r",
      "Training for -600:  31%|███       | 186/600 [01:34<03:14,  2.13it/s]"
     ]
    },
    {
     "name": "stderr",
     "output_type": "stream",
     "text": [
      "\r",
      "Training for -600:  31%|███       | 187/600 [01:34<03:14,  2.13it/s]"
     ]
    },
    {
     "name": "stderr",
     "output_type": "stream",
     "text": [
      "\r",
      "Training for -600:  31%|███▏      | 188/600 [01:35<03:14,  2.12it/s]"
     ]
    },
    {
     "name": "stderr",
     "output_type": "stream",
     "text": [
      "\r",
      "Training for -600:  32%|███▏      | 189/600 [01:35<03:13,  2.12it/s]"
     ]
    },
    {
     "name": "stderr",
     "output_type": "stream",
     "text": [
      "\r",
      "Training for -600:  32%|███▏      | 190/600 [01:36<03:15,  2.10it/s]"
     ]
    },
    {
     "name": "stderr",
     "output_type": "stream",
     "text": [
      "\r",
      "Training for -600:  32%|███▏      | 191/600 [01:36<03:13,  2.11it/s]"
     ]
    },
    {
     "name": "stderr",
     "output_type": "stream",
     "text": [
      "\r",
      "Training for -600:  32%|███▏      | 192/600 [01:37<03:16,  2.07it/s]"
     ]
    },
    {
     "name": "stderr",
     "output_type": "stream",
     "text": [
      "\r",
      "Training for -600:  32%|███▏      | 193/600 [01:37<03:23,  2.00it/s]"
     ]
    },
    {
     "name": "stderr",
     "output_type": "stream",
     "text": [
      "\r",
      "Training for -600:  32%|███▏      | 194/600 [01:38<03:31,  1.92it/s]"
     ]
    },
    {
     "name": "stderr",
     "output_type": "stream",
     "text": [
      "\r",
      "Training for -600:  32%|███▎      | 195/600 [01:38<03:26,  1.97it/s]"
     ]
    },
    {
     "name": "stderr",
     "output_type": "stream",
     "text": [
      "\r",
      "Training for -600:  33%|███▎      | 196/600 [01:39<03:23,  1.99it/s]"
     ]
    },
    {
     "name": "stderr",
     "output_type": "stream",
     "text": [
      "\r",
      "Training for -600:  33%|███▎      | 197/600 [01:39<03:18,  2.03it/s]"
     ]
    },
    {
     "name": "stderr",
     "output_type": "stream",
     "text": [
      "\r",
      "Training for -600:  33%|███▎      | 198/600 [01:40<03:15,  2.05it/s]"
     ]
    },
    {
     "name": "stderr",
     "output_type": "stream",
     "text": [
      "\r",
      "Training for -600:  33%|███▎      | 199/600 [01:40<03:14,  2.07it/s]"
     ]
    },
    {
     "name": "stderr",
     "output_type": "stream",
     "text": [
      "\r",
      "Training for -600:  33%|███▎      | 200/600 [01:41<03:26,  1.94it/s]"
     ]
    },
    {
     "name": "stdout",
     "output_type": "stream",
     "text": [
      "step = 200: loss = 0.40266284346580505\n"
     ]
    },
    {
     "name": "stderr",
     "output_type": "stream",
     "text": [
      "\r",
      "Training for -600:  34%|███▎      | 201/600 [01:41<03:20,  1.99it/s]"
     ]
    },
    {
     "name": "stderr",
     "output_type": "stream",
     "text": [
      "\r",
      "Training for -600:  34%|███▎      | 202/600 [01:42<03:17,  2.01it/s]"
     ]
    },
    {
     "name": "stderr",
     "output_type": "stream",
     "text": [
      "\r",
      "Training for -600:  34%|███▍      | 203/600 [01:42<03:14,  2.04it/s]"
     ]
    },
    {
     "name": "stderr",
     "output_type": "stream",
     "text": [
      "\r",
      "Training for -600:  34%|███▍      | 204/600 [01:43<03:15,  2.02it/s]"
     ]
    },
    {
     "name": "stderr",
     "output_type": "stream",
     "text": [
      "\r",
      "Training for -600:  34%|███▍      | 205/600 [01:43<03:19,  1.98it/s]"
     ]
    },
    {
     "name": "stderr",
     "output_type": "stream",
     "text": [
      "\r",
      "Training for -600:  34%|███▍      | 206/600 [01:44<03:18,  1.99it/s]"
     ]
    },
    {
     "name": "stderr",
     "output_type": "stream",
     "text": [
      "\r",
      "Training for -600:  34%|███▍      | 207/600 [01:44<03:17,  1.99it/s]"
     ]
    },
    {
     "name": "stderr",
     "output_type": "stream",
     "text": [
      "\r",
      "Training for -600:  35%|███▍      | 208/600 [01:45<03:15,  2.01it/s]"
     ]
    },
    {
     "name": "stderr",
     "output_type": "stream",
     "text": [
      "\r",
      "Training for -600:  35%|███▍      | 209/600 [01:45<03:11,  2.04it/s]"
     ]
    },
    {
     "name": "stderr",
     "output_type": "stream",
     "text": [
      "\r",
      "Training for -600:  35%|███▌      | 210/600 [01:46<03:11,  2.04it/s]"
     ]
    },
    {
     "name": "stderr",
     "output_type": "stream",
     "text": [
      "\r",
      "Training for -600:  35%|███▌      | 211/600 [01:46<03:08,  2.07it/s]"
     ]
    },
    {
     "name": "stderr",
     "output_type": "stream",
     "text": [
      "\r",
      "Training for -600:  35%|███▌      | 212/600 [01:47<03:07,  2.07it/s]"
     ]
    },
    {
     "name": "stderr",
     "output_type": "stream",
     "text": [
      "\r",
      "Training for -600:  36%|███▌      | 213/600 [01:47<03:06,  2.08it/s]"
     ]
    },
    {
     "name": "stderr",
     "output_type": "stream",
     "text": [
      "\r",
      "Training for -600:  36%|███▌      | 214/600 [01:48<03:04,  2.09it/s]"
     ]
    },
    {
     "name": "stderr",
     "output_type": "stream",
     "text": [
      "\r",
      "Training for -600:  36%|███▌      | 215/600 [01:48<03:02,  2.11it/s]"
     ]
    },
    {
     "name": "stderr",
     "output_type": "stream",
     "text": [
      "\r",
      "Training for -600:  36%|███▌      | 216/600 [01:49<03:03,  2.09it/s]"
     ]
    },
    {
     "name": "stderr",
     "output_type": "stream",
     "text": [
      "\r",
      "Training for -600:  36%|███▌      | 217/600 [01:49<03:08,  2.03it/s]"
     ]
    },
    {
     "name": "stderr",
     "output_type": "stream",
     "text": [
      "\r",
      "Training for -600:  36%|███▋      | 218/600 [01:50<03:10,  2.01it/s]"
     ]
    },
    {
     "name": "stderr",
     "output_type": "stream",
     "text": [
      "\r",
      "Training for -600:  36%|███▋      | 219/600 [01:50<03:08,  2.02it/s]"
     ]
    },
    {
     "name": "stderr",
     "output_type": "stream",
     "text": [
      "\r",
      "Training for -600:  37%|███▋      | 220/600 [01:51<03:05,  2.04it/s]"
     ]
    },
    {
     "name": "stderr",
     "output_type": "stream",
     "text": [
      "\r",
      "Training for -600:  37%|███▋      | 221/600 [01:51<03:06,  2.03it/s]"
     ]
    },
    {
     "name": "stderr",
     "output_type": "stream",
     "text": [
      "\r",
      "Training for -600:  37%|███▋      | 222/600 [01:52<03:05,  2.04it/s]"
     ]
    },
    {
     "name": "stderr",
     "output_type": "stream",
     "text": [
      "\r",
      "Training for -600:  37%|███▋      | 223/600 [01:52<03:02,  2.06it/s]"
     ]
    },
    {
     "name": "stderr",
     "output_type": "stream",
     "text": [
      "\r",
      "Training for -600:  37%|███▋      | 224/600 [01:53<03:00,  2.08it/s]"
     ]
    },
    {
     "name": "stderr",
     "output_type": "stream",
     "text": [
      "\r",
      "Training for -600:  38%|███▊      | 225/600 [01:53<03:00,  2.07it/s]"
     ]
    },
    {
     "name": "stderr",
     "output_type": "stream",
     "text": [
      "\r",
      "Training for -600:  38%|███▊      | 226/600 [01:54<02:58,  2.09it/s]"
     ]
    },
    {
     "name": "stderr",
     "output_type": "stream",
     "text": [
      "\r",
      "Training for -600:  38%|███▊      | 227/600 [01:54<02:57,  2.10it/s]"
     ]
    },
    {
     "name": "stderr",
     "output_type": "stream",
     "text": [
      "\r",
      "Training for -600:  38%|███▊      | 228/600 [01:55<02:56,  2.11it/s]"
     ]
    },
    {
     "name": "stderr",
     "output_type": "stream",
     "text": [
      "\r",
      "Training for -600:  38%|███▊      | 229/600 [01:55<03:01,  2.05it/s]"
     ]
    },
    {
     "name": "stderr",
     "output_type": "stream",
     "text": [
      "\r",
      "Training for -600:  38%|███▊      | 230/600 [01:56<03:03,  2.02it/s]"
     ]
    },
    {
     "name": "stderr",
     "output_type": "stream",
     "text": [
      "\r",
      "Training for -600:  38%|███▊      | 231/600 [01:56<03:04,  2.00it/s]"
     ]
    },
    {
     "name": "stderr",
     "output_type": "stream",
     "text": [
      "\r",
      "Training for -600:  39%|███▊      | 232/600 [01:57<03:01,  2.02it/s]"
     ]
    },
    {
     "name": "stderr",
     "output_type": "stream",
     "text": [
      "\r",
      "Training for -600:  39%|███▉      | 233/600 [01:57<02:59,  2.05it/s]"
     ]
    },
    {
     "name": "stderr",
     "output_type": "stream",
     "text": [
      "\r",
      "Training for -600:  39%|███▉      | 234/600 [01:58<02:59,  2.04it/s]"
     ]
    },
    {
     "name": "stderr",
     "output_type": "stream",
     "text": [
      "\r",
      "Training for -600:  39%|███▉      | 235/600 [01:58<02:59,  2.03it/s]"
     ]
    },
    {
     "name": "stderr",
     "output_type": "stream",
     "text": [
      "\r",
      "Training for -600:  39%|███▉      | 236/600 [01:59<02:57,  2.06it/s]"
     ]
    },
    {
     "name": "stderr",
     "output_type": "stream",
     "text": [
      "\r",
      "Training for -600:  40%|███▉      | 237/600 [01:59<02:54,  2.08it/s]"
     ]
    },
    {
     "name": "stderr",
     "output_type": "stream",
     "text": [
      "\r",
      "Training for -600:  40%|███▉      | 238/600 [01:59<02:53,  2.09it/s]"
     ]
    },
    {
     "name": "stderr",
     "output_type": "stream",
     "text": [
      "\r",
      "Training for -600:  40%|███▉      | 239/600 [02:00<02:51,  2.11it/s]"
     ]
    },
    {
     "name": "stderr",
     "output_type": "stream",
     "text": [
      "\r",
      "Training for -600:  40%|████      | 240/600 [02:00<02:51,  2.10it/s]"
     ]
    },
    {
     "name": "stderr",
     "output_type": "stream",
     "text": [
      "\r",
      "Training for -600:  40%|████      | 241/600 [02:01<02:53,  2.07it/s]"
     ]
    },
    {
     "name": "stderr",
     "output_type": "stream",
     "text": [
      "\r",
      "Training for -600:  40%|████      | 242/600 [02:01<02:57,  2.02it/s]"
     ]
    },
    {
     "name": "stderr",
     "output_type": "stream",
     "text": [
      "\r",
      "Training for -600:  40%|████      | 243/600 [02:02<02:57,  2.02it/s]"
     ]
    },
    {
     "name": "stderr",
     "output_type": "stream",
     "text": [
      "\r",
      "Training for -600:  41%|████      | 244/600 [02:02<02:53,  2.05it/s]"
     ]
    },
    {
     "name": "stderr",
     "output_type": "stream",
     "text": [
      "\r",
      "Training for -600:  41%|████      | 245/600 [02:03<02:51,  2.07it/s]"
     ]
    },
    {
     "name": "stderr",
     "output_type": "stream",
     "text": [
      "\r",
      "Training for -600:  41%|████      | 246/600 [02:03<02:50,  2.07it/s]"
     ]
    },
    {
     "name": "stderr",
     "output_type": "stream",
     "text": [
      "\r",
      "Training for -600:  41%|████      | 247/600 [02:04<02:49,  2.08it/s]"
     ]
    },
    {
     "name": "stderr",
     "output_type": "stream",
     "text": [
      "\r",
      "Training for -600:  41%|████▏     | 248/600 [02:04<02:50,  2.07it/s]"
     ]
    },
    {
     "name": "stderr",
     "output_type": "stream",
     "text": [
      "\r",
      "Training for -600:  42%|████▏     | 249/600 [02:05<02:49,  2.07it/s]"
     ]
    },
    {
     "name": "stderr",
     "output_type": "stream",
     "text": [
      "\r",
      "Training for -600:  42%|████▏     | 250/600 [02:05<02:48,  2.08it/s]"
     ]
    },
    {
     "name": "stderr",
     "output_type": "stream",
     "text": [
      "\r",
      "Training for -600:  42%|████▏     | 251/600 [02:06<02:47,  2.09it/s]"
     ]
    },
    {
     "name": "stderr",
     "output_type": "stream",
     "text": [
      "\r",
      "Training for -600:  42%|████▏     | 252/600 [02:06<02:45,  2.10it/s]"
     ]
    },
    {
     "name": "stderr",
     "output_type": "stream",
     "text": [
      "\r",
      "Training for -600:  42%|████▏     | 253/600 [02:07<02:45,  2.10it/s]"
     ]
    },
    {
     "name": "stderr",
     "output_type": "stream",
     "text": [
      "\r",
      "Training for -600:  42%|████▏     | 254/600 [02:07<02:49,  2.04it/s]"
     ]
    },
    {
     "name": "stderr",
     "output_type": "stream",
     "text": [
      "\r",
      "Training for -600:  42%|████▎     | 255/600 [02:08<02:50,  2.02it/s]"
     ]
    },
    {
     "name": "stderr",
     "output_type": "stream",
     "text": [
      "\r",
      "Training for -600:  43%|████▎     | 256/600 [02:08<02:49,  2.03it/s]"
     ]
    },
    {
     "name": "stderr",
     "output_type": "stream",
     "text": [
      "\r",
      "Training for -600:  43%|████▎     | 257/600 [02:09<02:45,  2.07it/s]"
     ]
    },
    {
     "name": "stderr",
     "output_type": "stream",
     "text": [
      "\r",
      "Training for -600:  43%|████▎     | 258/600 [02:09<02:45,  2.07it/s]"
     ]
    },
    {
     "name": "stderr",
     "output_type": "stream",
     "text": [
      "\r",
      "Training for -600:  43%|████▎     | 259/600 [02:10<02:42,  2.09it/s]"
     ]
    },
    {
     "name": "stderr",
     "output_type": "stream",
     "text": [
      "\r",
      "Training for -600:  43%|████▎     | 260/600 [02:10<02:43,  2.08it/s]"
     ]
    },
    {
     "name": "stderr",
     "output_type": "stream",
     "text": [
      "\r",
      "Training for -600:  44%|████▎     | 261/600 [02:11<02:43,  2.08it/s]"
     ]
    },
    {
     "name": "stderr",
     "output_type": "stream",
     "text": [
      "\r",
      "Training for -600:  44%|████▎     | 262/600 [02:11<02:43,  2.07it/s]"
     ]
    },
    {
     "name": "stderr",
     "output_type": "stream",
     "text": [
      "\r",
      "Training for -600:  44%|████▍     | 263/600 [02:12<02:41,  2.08it/s]"
     ]
    },
    {
     "name": "stderr",
     "output_type": "stream",
     "text": [
      "\r",
      "Training for -600:  44%|████▍     | 264/600 [02:12<02:41,  2.08it/s]"
     ]
    },
    {
     "name": "stderr",
     "output_type": "stream",
     "text": [
      "\r",
      "Training for -600:  44%|████▍     | 265/600 [02:13<02:40,  2.09it/s]"
     ]
    },
    {
     "name": "stderr",
     "output_type": "stream",
     "text": [
      "\r",
      "Training for -600:  44%|████▍     | 266/600 [02:13<02:43,  2.05it/s]"
     ]
    },
    {
     "name": "stderr",
     "output_type": "stream",
     "text": [
      "\r",
      "Training for -600:  44%|████▍     | 267/600 [02:14<02:46,  2.00it/s]"
     ]
    },
    {
     "name": "stderr",
     "output_type": "stream",
     "text": [
      "\r",
      "Training for -600:  45%|████▍     | 268/600 [02:14<02:45,  2.01it/s]"
     ]
    },
    {
     "name": "stderr",
     "output_type": "stream",
     "text": [
      "\r",
      "Training for -600:  45%|████▍     | 269/600 [02:15<02:42,  2.04it/s]"
     ]
    },
    {
     "name": "stderr",
     "output_type": "stream",
     "text": [
      "\r",
      "Training for -600:  45%|████▌     | 270/600 [02:15<02:40,  2.06it/s]"
     ]
    },
    {
     "name": "stderr",
     "output_type": "stream",
     "text": [
      "\r",
      "Training for -600:  45%|████▌     | 271/600 [02:15<02:38,  2.08it/s]"
     ]
    },
    {
     "name": "stderr",
     "output_type": "stream",
     "text": [
      "\r",
      "Training for -600:  45%|████▌     | 272/600 [02:16<02:36,  2.09it/s]"
     ]
    },
    {
     "name": "stderr",
     "output_type": "stream",
     "text": [
      "\r",
      "Training for -600:  46%|████▌     | 273/600 [02:16<02:36,  2.08it/s]"
     ]
    },
    {
     "name": "stderr",
     "output_type": "stream",
     "text": [
      "\r",
      "Training for -600:  46%|████▌     | 274/600 [02:17<02:36,  2.09it/s]"
     ]
    },
    {
     "name": "stderr",
     "output_type": "stream",
     "text": [
      "\r",
      "Training for -600:  46%|████▌     | 275/600 [02:17<02:36,  2.08it/s]"
     ]
    },
    {
     "name": "stderr",
     "output_type": "stream",
     "text": [
      "\r",
      "Training for -600:  46%|████▌     | 276/600 [02:18<02:35,  2.08it/s]"
     ]
    },
    {
     "name": "stderr",
     "output_type": "stream",
     "text": [
      "\r",
      "Training for -600:  46%|████▌     | 277/600 [02:18<02:34,  2.10it/s]"
     ]
    },
    {
     "name": "stderr",
     "output_type": "stream",
     "text": [
      "\r",
      "Training for -600:  46%|████▋     | 278/600 [02:19<02:34,  2.08it/s]"
     ]
    },
    {
     "name": "stderr",
     "output_type": "stream",
     "text": [
      "\r",
      "Training for -600:  46%|████▋     | 279/600 [02:19<02:37,  2.03it/s]"
     ]
    },
    {
     "name": "stderr",
     "output_type": "stream",
     "text": [
      "\r",
      "Training for -600:  47%|████▋     | 280/600 [02:20<02:38,  2.01it/s]"
     ]
    },
    {
     "name": "stderr",
     "output_type": "stream",
     "text": [
      "\r",
      "Training for -600:  47%|████▋     | 281/600 [02:20<02:37,  2.02it/s]"
     ]
    },
    {
     "name": "stderr",
     "output_type": "stream",
     "text": [
      "\r",
      "Training for -600:  47%|████▋     | 282/600 [02:21<02:36,  2.03it/s]"
     ]
    },
    {
     "name": "stderr",
     "output_type": "stream",
     "text": [
      "\r",
      "Training for -600:  47%|████▋     | 283/600 [02:21<02:35,  2.04it/s]"
     ]
    },
    {
     "name": "stderr",
     "output_type": "stream",
     "text": [
      "\r",
      "Training for -600:  47%|████▋     | 284/600 [02:22<02:35,  2.03it/s]"
     ]
    },
    {
     "name": "stderr",
     "output_type": "stream",
     "text": [
      "\r",
      "Training for -600:  48%|████▊     | 285/600 [02:22<02:34,  2.04it/s]"
     ]
    },
    {
     "name": "stderr",
     "output_type": "stream",
     "text": [
      "\r",
      "Training for -600:  48%|████▊     | 286/600 [02:23<02:32,  2.06it/s]"
     ]
    },
    {
     "name": "stderr",
     "output_type": "stream",
     "text": [
      "\r",
      "Training for -600:  48%|████▊     | 287/600 [02:23<02:32,  2.05it/s]"
     ]
    },
    {
     "name": "stderr",
     "output_type": "stream",
     "text": [
      "\r",
      "Training for -600:  48%|████▊     | 288/600 [02:24<02:35,  2.01it/s]"
     ]
    },
    {
     "name": "stderr",
     "output_type": "stream",
     "text": [
      "\r",
      "Training for -600:  48%|████▊     | 289/600 [02:24<02:36,  1.99it/s]"
     ]
    },
    {
     "name": "stderr",
     "output_type": "stream",
     "text": [
      "\r",
      "Training for -600:  48%|████▊     | 290/600 [02:25<02:35,  2.00it/s]"
     ]
    },
    {
     "name": "stderr",
     "output_type": "stream",
     "text": [
      "\r",
      "Training for -600:  48%|████▊     | 291/600 [02:25<02:39,  1.94it/s]"
     ]
    },
    {
     "name": "stderr",
     "output_type": "stream",
     "text": [
      "\r",
      "Training for -600:  49%|████▊     | 292/600 [02:26<02:37,  1.96it/s]"
     ]
    },
    {
     "name": "stderr",
     "output_type": "stream",
     "text": [
      "\r",
      "Training for -600:  49%|████▉     | 293/600 [02:26<02:32,  2.01it/s]"
     ]
    },
    {
     "name": "stderr",
     "output_type": "stream",
     "text": [
      "\r",
      "Training for -600:  49%|████▉     | 294/600 [02:27<02:28,  2.06it/s]"
     ]
    },
    {
     "name": "stderr",
     "output_type": "stream",
     "text": [
      "\r",
      "Training for -600:  49%|████▉     | 295/600 [02:27<02:27,  2.07it/s]"
     ]
    },
    {
     "name": "stderr",
     "output_type": "stream",
     "text": [
      "\r",
      "Training for -600:  49%|████▉     | 296/600 [02:28<02:24,  2.10it/s]"
     ]
    },
    {
     "name": "stderr",
     "output_type": "stream",
     "text": [
      "\r",
      "Training for -600:  50%|████▉     | 297/600 [02:28<02:23,  2.12it/s]"
     ]
    },
    {
     "name": "stderr",
     "output_type": "stream",
     "text": [
      "\r",
      "Training for -600:  50%|████▉     | 298/600 [02:29<02:22,  2.13it/s]"
     ]
    },
    {
     "name": "stderr",
     "output_type": "stream",
     "text": [
      "\r",
      "Training for -600:  50%|████▉     | 299/600 [02:29<02:21,  2.13it/s]"
     ]
    },
    {
     "name": "stderr",
     "output_type": "stream",
     "text": [
      "\r",
      "Training for -600:  50%|█████     | 300/600 [02:30<02:21,  2.12it/s]"
     ]
    },
    {
     "name": "stderr",
     "output_type": "stream",
     "text": [
      "\r",
      "Training for -600:  50%|█████     | 301/600 [02:30<02:22,  2.11it/s]"
     ]
    },
    {
     "name": "stderr",
     "output_type": "stream",
     "text": [
      "\r",
      "Training for -600:  50%|█████     | 302/600 [02:31<02:23,  2.08it/s]"
     ]
    },
    {
     "name": "stderr",
     "output_type": "stream",
     "text": [
      "\r",
      "Training for -600:  50%|█████     | 303/600 [02:31<02:27,  2.01it/s]"
     ]
    },
    {
     "name": "stderr",
     "output_type": "stream",
     "text": [
      "\r",
      "Training for -600:  51%|█████     | 304/600 [02:32<02:28,  1.99it/s]"
     ]
    },
    {
     "name": "stderr",
     "output_type": "stream",
     "text": [
      "\r",
      "Training for -600:  51%|█████     | 305/600 [02:32<02:24,  2.04it/s]"
     ]
    },
    {
     "name": "stderr",
     "output_type": "stream",
     "text": [
      "\r",
      "Training for -600:  51%|█████     | 306/600 [02:33<02:21,  2.07it/s]"
     ]
    },
    {
     "name": "stderr",
     "output_type": "stream",
     "text": [
      "\r",
      "Training for -600:  51%|█████     | 307/600 [02:33<02:19,  2.09it/s]"
     ]
    },
    {
     "name": "stderr",
     "output_type": "stream",
     "text": [
      "\r",
      "Training for -600:  51%|█████▏    | 308/600 [02:33<02:17,  2.12it/s]"
     ]
    },
    {
     "name": "stderr",
     "output_type": "stream",
     "text": [
      "\r",
      "Training for -600:  52%|█████▏    | 309/600 [02:34<02:16,  2.13it/s]"
     ]
    },
    {
     "name": "stderr",
     "output_type": "stream",
     "text": [
      "\r",
      "Training for -600:  52%|█████▏    | 310/600 [02:34<02:15,  2.14it/s]"
     ]
    },
    {
     "name": "stderr",
     "output_type": "stream",
     "text": [
      "\r",
      "Training for -600:  52%|█████▏    | 311/600 [02:35<02:16,  2.11it/s]"
     ]
    },
    {
     "name": "stderr",
     "output_type": "stream",
     "text": [
      "\r",
      "Training for -600:  52%|█████▏    | 312/600 [02:35<02:15,  2.13it/s]"
     ]
    },
    {
     "name": "stderr",
     "output_type": "stream",
     "text": [
      "\r",
      "Training for -600:  52%|█████▏    | 313/600 [02:36<02:14,  2.13it/s]"
     ]
    },
    {
     "name": "stderr",
     "output_type": "stream",
     "text": [
      "\r",
      "Training for -600:  52%|█████▏    | 314/600 [02:36<02:13,  2.14it/s]"
     ]
    },
    {
     "name": "stderr",
     "output_type": "stream",
     "text": [
      "\r",
      "Training for -600:  52%|█████▎    | 315/600 [02:37<02:16,  2.09it/s]"
     ]
    },
    {
     "name": "stderr",
     "output_type": "stream",
     "text": [
      "\r",
      "Training for -600:  53%|█████▎    | 316/600 [02:37<02:18,  2.05it/s]"
     ]
    },
    {
     "name": "stderr",
     "output_type": "stream",
     "text": [
      "\r",
      "Training for -600:  53%|█████▎    | 317/600 [02:38<02:19,  2.03it/s]"
     ]
    },
    {
     "name": "stderr",
     "output_type": "stream",
     "text": [
      "\r",
      "Training for -600:  53%|█████▎    | 318/600 [02:38<02:16,  2.07it/s]"
     ]
    },
    {
     "name": "stderr",
     "output_type": "stream",
     "text": [
      "\r",
      "Training for -600:  53%|█████▎    | 319/600 [02:39<02:14,  2.10it/s]"
     ]
    },
    {
     "name": "stderr",
     "output_type": "stream",
     "text": [
      "\r",
      "Training for -600:  53%|█████▎    | 320/600 [02:39<02:12,  2.11it/s]"
     ]
    },
    {
     "name": "stderr",
     "output_type": "stream",
     "text": [
      "\r",
      "Training for -600:  54%|█████▎    | 321/600 [02:40<02:10,  2.13it/s]"
     ]
    },
    {
     "name": "stderr",
     "output_type": "stream",
     "text": [
      "\r",
      "Training for -600:  54%|█████▎    | 322/600 [02:40<02:11,  2.12it/s]"
     ]
    },
    {
     "name": "stderr",
     "output_type": "stream",
     "text": [
      "\r",
      "Training for -600:  54%|█████▍    | 323/600 [02:41<02:10,  2.12it/s]"
     ]
    },
    {
     "name": "stderr",
     "output_type": "stream",
     "text": [
      "\r",
      "Training for -600:  54%|█████▍    | 324/600 [02:41<02:09,  2.14it/s]"
     ]
    },
    {
     "name": "stderr",
     "output_type": "stream",
     "text": [
      "\r",
      "Training for -600:  54%|█████▍    | 325/600 [02:41<02:07,  2.16it/s]"
     ]
    },
    {
     "name": "stderr",
     "output_type": "stream",
     "text": [
      "\r",
      "Training for -600:  54%|█████▍    | 326/600 [02:42<02:06,  2.16it/s]"
     ]
    },
    {
     "name": "stderr",
     "output_type": "stream",
     "text": [
      "\r",
      "Training for -600:  55%|█████▍    | 327/600 [02:42<02:06,  2.17it/s]"
     ]
    },
    {
     "name": "stderr",
     "output_type": "stream",
     "text": [
      "\r",
      "Training for -600:  55%|█████▍    | 328/600 [02:43<02:09,  2.10it/s]"
     ]
    },
    {
     "name": "stderr",
     "output_type": "stream",
     "text": [
      "\r",
      "Training for -600:  55%|█████▍    | 329/600 [02:43<02:12,  2.04it/s]"
     ]
    },
    {
     "name": "stderr",
     "output_type": "stream",
     "text": [
      "\r",
      "Training for -600:  55%|█████▌    | 330/600 [02:44<02:13,  2.02it/s]"
     ]
    },
    {
     "name": "stderr",
     "output_type": "stream",
     "text": [
      "\r",
      "Training for -600:  55%|█████▌    | 331/600 [02:44<02:10,  2.06it/s]"
     ]
    },
    {
     "name": "stderr",
     "output_type": "stream",
     "text": [
      "\r",
      "Training for -600:  55%|█████▌    | 332/600 [02:45<02:08,  2.09it/s]"
     ]
    },
    {
     "name": "stderr",
     "output_type": "stream",
     "text": [
      "\r",
      "Training for -600:  56%|█████▌    | 333/600 [02:45<02:06,  2.11it/s]"
     ]
    },
    {
     "name": "stderr",
     "output_type": "stream",
     "text": [
      "\r",
      "Training for -600:  56%|█████▌    | 334/600 [02:46<02:05,  2.12it/s]"
     ]
    },
    {
     "name": "stderr",
     "output_type": "stream",
     "text": [
      "\r",
      "Training for -600:  56%|█████▌    | 335/600 [02:46<02:04,  2.13it/s]"
     ]
    },
    {
     "name": "stderr",
     "output_type": "stream",
     "text": [
      "\r",
      "Training for -600:  56%|█████▌    | 336/600 [02:47<02:03,  2.14it/s]"
     ]
    },
    {
     "name": "stderr",
     "output_type": "stream",
     "text": [
      "\r",
      "Training for -600:  56%|█████▌    | 337/600 [02:47<02:02,  2.14it/s]"
     ]
    },
    {
     "name": "stderr",
     "output_type": "stream",
     "text": [
      "\r",
      "Training for -600:  56%|█████▋    | 338/600 [02:48<02:01,  2.15it/s]"
     ]
    },
    {
     "name": "stderr",
     "output_type": "stream",
     "text": [
      "\r",
      "Training for -600:  56%|█████▋    | 339/600 [02:48<02:02,  2.14it/s]"
     ]
    },
    {
     "name": "stderr",
     "output_type": "stream",
     "text": [
      "\r",
      "Training for -600:  57%|█████▋    | 340/600 [02:49<02:03,  2.11it/s]"
     ]
    },
    {
     "name": "stderr",
     "output_type": "stream",
     "text": [
      "\r",
      "Training for -600:  57%|█████▋    | 341/600 [02:49<02:06,  2.05it/s]"
     ]
    },
    {
     "name": "stderr",
     "output_type": "stream",
     "text": [
      "\r",
      "Training for -600:  57%|█████▋    | 342/600 [02:50<02:08,  2.02it/s]"
     ]
    },
    {
     "name": "stderr",
     "output_type": "stream",
     "text": [
      "\r",
      "Training for -600:  57%|█████▋    | 343/600 [02:50<02:06,  2.02it/s]"
     ]
    },
    {
     "name": "stderr",
     "output_type": "stream",
     "text": [
      "\r",
      "Training for -600:  57%|█████▋    | 344/600 [02:51<02:06,  2.03it/s]"
     ]
    },
    {
     "name": "stderr",
     "output_type": "stream",
     "text": [
      "\r",
      "Training for -600:  57%|█████▊    | 345/600 [02:51<02:04,  2.05it/s]"
     ]
    },
    {
     "name": "stderr",
     "output_type": "stream",
     "text": [
      "\r",
      "Training for -600:  58%|█████▊    | 346/600 [02:52<02:01,  2.09it/s]"
     ]
    },
    {
     "name": "stderr",
     "output_type": "stream",
     "text": [
      "\r",
      "Training for -600:  58%|█████▊    | 347/600 [02:52<01:59,  2.12it/s]"
     ]
    },
    {
     "name": "stderr",
     "output_type": "stream",
     "text": [
      "\r",
      "Training for -600:  58%|█████▊    | 348/600 [02:52<01:58,  2.13it/s]"
     ]
    },
    {
     "name": "stderr",
     "output_type": "stream",
     "text": [
      "\r",
      "Training for -600:  58%|█████▊    | 349/600 [02:53<01:57,  2.13it/s]"
     ]
    },
    {
     "name": "stderr",
     "output_type": "stream",
     "text": [
      "\r",
      "Training for -600:  58%|█████▊    | 350/600 [02:53<01:57,  2.13it/s]"
     ]
    },
    {
     "name": "stderr",
     "output_type": "stream",
     "text": [
      "\r",
      "Training for -600:  58%|█████▊    | 351/600 [02:54<01:55,  2.15it/s]"
     ]
    },
    {
     "name": "stderr",
     "output_type": "stream",
     "text": [
      "\r",
      "Training for -600:  59%|█████▊    | 352/600 [02:54<01:55,  2.15it/s]"
     ]
    },
    {
     "name": "stderr",
     "output_type": "stream",
     "text": [
      "\r",
      "Training for -600:  59%|█████▉    | 353/600 [02:55<01:56,  2.11it/s]"
     ]
    },
    {
     "name": "stderr",
     "output_type": "stream",
     "text": [
      "\r",
      "Training for -600:  59%|█████▉    | 354/600 [02:55<01:59,  2.05it/s]"
     ]
    },
    {
     "name": "stderr",
     "output_type": "stream",
     "text": [
      "\r",
      "Training for -600:  59%|█████▉    | 355/600 [02:56<01:59,  2.05it/s]"
     ]
    },
    {
     "name": "stderr",
     "output_type": "stream",
     "text": [
      "\r",
      "Training for -600:  59%|█████▉    | 356/600 [02:56<01:58,  2.06it/s]"
     ]
    },
    {
     "name": "stderr",
     "output_type": "stream",
     "text": [
      "\r",
      "Training for -600:  60%|█████▉    | 357/600 [02:57<01:58,  2.05it/s]"
     ]
    },
    {
     "name": "stderr",
     "output_type": "stream",
     "text": [
      "\r",
      "Training for -600:  60%|█████▉    | 358/600 [02:57<01:58,  2.05it/s]"
     ]
    },
    {
     "name": "stderr",
     "output_type": "stream",
     "text": [
      "\r",
      "Training for -600:  60%|█████▉    | 359/600 [02:58<01:55,  2.08it/s]"
     ]
    },
    {
     "name": "stderr",
     "output_type": "stream",
     "text": [
      "\r",
      "Training for -600:  60%|██████    | 360/600 [02:58<01:53,  2.11it/s]"
     ]
    },
    {
     "name": "stderr",
     "output_type": "stream",
     "text": [
      "\r",
      "Training for -600:  60%|██████    | 361/600 [02:59<01:52,  2.13it/s]"
     ]
    },
    {
     "name": "stderr",
     "output_type": "stream",
     "text": [
      "\r",
      "Training for -600:  60%|██████    | 362/600 [02:59<01:51,  2.14it/s]"
     ]
    },
    {
     "name": "stderr",
     "output_type": "stream",
     "text": [
      "\r",
      "Training for -600:  60%|██████    | 363/600 [03:00<01:50,  2.15it/s]"
     ]
    },
    {
     "name": "stderr",
     "output_type": "stream",
     "text": [
      "\r",
      "Training for -600:  61%|██████    | 364/600 [03:00<01:49,  2.15it/s]"
     ]
    },
    {
     "name": "stderr",
     "output_type": "stream",
     "text": [
      "\r",
      "Training for -600:  61%|██████    | 365/600 [03:01<01:50,  2.12it/s]"
     ]
    },
    {
     "name": "stderr",
     "output_type": "stream",
     "text": [
      "\r",
      "Training for -600:  61%|██████    | 366/600 [03:01<01:54,  2.04it/s]"
     ]
    },
    {
     "name": "stderr",
     "output_type": "stream",
     "text": [
      "\r",
      "Training for -600:  61%|██████    | 367/600 [03:02<01:55,  2.01it/s]"
     ]
    },
    {
     "name": "stderr",
     "output_type": "stream",
     "text": [
      "\r",
      "Training for -600:  61%|██████▏   | 368/600 [03:02<01:52,  2.05it/s]"
     ]
    },
    {
     "name": "stderr",
     "output_type": "stream",
     "text": [
      "\r",
      "Training for -600:  62%|██████▏   | 369/600 [03:03<01:50,  2.09it/s]"
     ]
    },
    {
     "name": "stderr",
     "output_type": "stream",
     "text": [
      "\r",
      "Training for -600:  62%|██████▏   | 370/600 [03:03<01:50,  2.09it/s]"
     ]
    },
    {
     "name": "stderr",
     "output_type": "stream",
     "text": [
      "\r",
      "Training for -600:  62%|██████▏   | 371/600 [03:04<01:51,  2.06it/s]"
     ]
    },
    {
     "name": "stderr",
     "output_type": "stream",
     "text": [
      "\r",
      "Training for -600:  62%|██████▏   | 372/600 [03:04<01:50,  2.06it/s]"
     ]
    },
    {
     "name": "stderr",
     "output_type": "stream",
     "text": [
      "\r",
      "Training for -600:  62%|██████▏   | 373/600 [03:04<01:48,  2.09it/s]"
     ]
    },
    {
     "name": "stderr",
     "output_type": "stream",
     "text": [
      "\r",
      "Training for -600:  62%|██████▏   | 374/600 [03:05<01:47,  2.10it/s]"
     ]
    },
    {
     "name": "stderr",
     "output_type": "stream",
     "text": [
      "\r",
      "Training for -600:  62%|██████▎   | 375/600 [03:05<01:47,  2.10it/s]"
     ]
    },
    {
     "name": "stderr",
     "output_type": "stream",
     "text": [
      "\r",
      "Training for -600:  63%|██████▎   | 376/600 [03:06<01:45,  2.12it/s]"
     ]
    },
    {
     "name": "stderr",
     "output_type": "stream",
     "text": [
      "\r",
      "Training for -600:  63%|██████▎   | 377/600 [03:06<01:45,  2.11it/s]"
     ]
    },
    {
     "name": "stderr",
     "output_type": "stream",
     "text": [
      "\r",
      "Training for -600:  63%|██████▎   | 378/600 [03:07<01:47,  2.07it/s]"
     ]
    },
    {
     "name": "stderr",
     "output_type": "stream",
     "text": [
      "\r",
      "Training for -600:  63%|██████▎   | 379/600 [03:07<01:51,  1.99it/s]"
     ]
    },
    {
     "name": "stderr",
     "output_type": "stream",
     "text": [
      "\r",
      "Training for -600:  63%|██████▎   | 380/600 [03:08<01:48,  2.02it/s]"
     ]
    },
    {
     "name": "stderr",
     "output_type": "stream",
     "text": [
      "\r",
      "Training for -600:  64%|██████▎   | 381/600 [03:08<01:46,  2.06it/s]"
     ]
    },
    {
     "name": "stderr",
     "output_type": "stream",
     "text": [
      "\r",
      "Training for -600:  64%|██████▎   | 382/600 [03:09<01:44,  2.09it/s]"
     ]
    },
    {
     "name": "stderr",
     "output_type": "stream",
     "text": [
      "\r",
      "Training for -600:  64%|██████▍   | 383/600 [03:09<01:43,  2.11it/s]"
     ]
    },
    {
     "name": "stderr",
     "output_type": "stream",
     "text": [
      "\r",
      "Training for -600:  64%|██████▍   | 384/600 [03:10<01:43,  2.10it/s]"
     ]
    },
    {
     "name": "stderr",
     "output_type": "stream",
     "text": [
      "\r",
      "Training for -600:  64%|██████▍   | 385/600 [03:10<01:43,  2.07it/s]"
     ]
    },
    {
     "name": "stderr",
     "output_type": "stream",
     "text": [
      "\r",
      "Training for -600:  64%|██████▍   | 386/600 [03:11<01:43,  2.07it/s]"
     ]
    },
    {
     "name": "stderr",
     "output_type": "stream",
     "text": [
      "\r",
      "Training for -600:  64%|██████▍   | 387/600 [03:11<01:41,  2.10it/s]"
     ]
    },
    {
     "name": "stderr",
     "output_type": "stream",
     "text": [
      "\r",
      "Training for -600:  65%|██████▍   | 388/600 [03:12<01:40,  2.11it/s]"
     ]
    },
    {
     "name": "stderr",
     "output_type": "stream",
     "text": [
      "\r",
      "Training for -600:  65%|██████▍   | 389/600 [03:12<01:39,  2.12it/s]"
     ]
    },
    {
     "name": "stderr",
     "output_type": "stream",
     "text": [
      "\r",
      "Training for -600:  65%|██████▌   | 390/600 [03:13<01:38,  2.13it/s]"
     ]
    },
    {
     "name": "stderr",
     "output_type": "stream",
     "text": [
      "\r",
      "Training for -600:  65%|██████▌   | 391/600 [03:13<01:43,  2.01it/s]"
     ]
    },
    {
     "name": "stderr",
     "output_type": "stream",
     "text": [
      "\r",
      "Training for -600:  65%|██████▌   | 392/600 [03:14<01:44,  1.99it/s]"
     ]
    },
    {
     "name": "stderr",
     "output_type": "stream",
     "text": [
      "\r",
      "Training for -600:  66%|██████▌   | 393/600 [03:14<01:41,  2.03it/s]"
     ]
    },
    {
     "name": "stderr",
     "output_type": "stream",
     "text": [
      "\r",
      "Training for -600:  66%|██████▌   | 394/600 [03:15<01:40,  2.06it/s]"
     ]
    },
    {
     "name": "stderr",
     "output_type": "stream",
     "text": [
      "\r",
      "Training for -600:  66%|██████▌   | 395/600 [03:15<01:37,  2.09it/s]"
     ]
    },
    {
     "name": "stderr",
     "output_type": "stream",
     "text": [
      "\r",
      "Training for -600:  66%|██████▌   | 396/600 [03:16<01:36,  2.11it/s]"
     ]
    },
    {
     "name": "stderr",
     "output_type": "stream",
     "text": [
      "\r",
      "Training for -600:  66%|██████▌   | 397/600 [03:16<01:36,  2.11it/s]"
     ]
    },
    {
     "name": "stderr",
     "output_type": "stream",
     "text": [
      "\r",
      "Training for -600:  66%|██████▋   | 398/600 [03:17<01:37,  2.08it/s]"
     ]
    },
    {
     "name": "stderr",
     "output_type": "stream",
     "text": [
      "\r",
      "Training for -600:  66%|██████▋   | 399/600 [03:17<01:36,  2.07it/s]"
     ]
    },
    {
     "name": "stderr",
     "output_type": "stream",
     "text": [
      "\r",
      "Training for -600:  67%|██████▋   | 400/600 [03:18<01:40,  1.99it/s]"
     ]
    },
    {
     "name": "stdout",
     "output_type": "stream",
     "text": [
      "step = 400: loss = 0.14680586755275726\n"
     ]
    },
    {
     "name": "stderr",
     "output_type": "stream",
     "text": [
      "\r",
      "Training for -600:  67%|██████▋   | 401/600 [03:18<01:38,  2.02it/s]"
     ]
    },
    {
     "name": "stderr",
     "output_type": "stream",
     "text": [
      "\r",
      "Training for -600:  67%|██████▋   | 402/600 [03:18<01:36,  2.06it/s]"
     ]
    },
    {
     "name": "stderr",
     "output_type": "stream",
     "text": [
      "\r",
      "Training for -600:  67%|██████▋   | 403/600 [03:19<01:37,  2.02it/s]"
     ]
    },
    {
     "name": "stderr",
     "output_type": "stream",
     "text": [
      "\r",
      "Training for -600:  67%|██████▋   | 404/600 [03:20<01:38,  1.98it/s]"
     ]
    },
    {
     "name": "stderr",
     "output_type": "stream",
     "text": [
      "\r",
      "Training for -600:  68%|██████▊   | 405/600 [03:20<01:37,  2.00it/s]"
     ]
    },
    {
     "name": "stderr",
     "output_type": "stream",
     "text": [
      "\r",
      "Training for -600:  68%|██████▊   | 406/600 [03:20<01:35,  2.04it/s]"
     ]
    },
    {
     "name": "stderr",
     "output_type": "stream",
     "text": [
      "\r",
      "Training for -600:  68%|██████▊   | 407/600 [03:21<01:33,  2.07it/s]"
     ]
    },
    {
     "name": "stderr",
     "output_type": "stream",
     "text": [
      "\r",
      "Training for -600:  68%|██████▊   | 408/600 [03:21<01:32,  2.09it/s]"
     ]
    },
    {
     "name": "stderr",
     "output_type": "stream",
     "text": [
      "\r",
      "Training for -600:  68%|██████▊   | 409/600 [03:22<01:30,  2.11it/s]"
     ]
    },
    {
     "name": "stderr",
     "output_type": "stream",
     "text": [
      "\r",
      "Training for -600:  68%|██████▊   | 410/600 [03:22<01:30,  2.11it/s]"
     ]
    },
    {
     "name": "stderr",
     "output_type": "stream",
     "text": [
      "\r",
      "Training for -600:  68%|██████▊   | 411/600 [03:23<01:30,  2.08it/s]"
     ]
    },
    {
     "name": "stderr",
     "output_type": "stream",
     "text": [
      "\r",
      "Training for -600:  69%|██████▊   | 412/600 [03:23<01:32,  2.03it/s]"
     ]
    },
    {
     "name": "stderr",
     "output_type": "stream",
     "text": [
      "\r",
      "Training for -600:  69%|██████▉   | 413/600 [03:24<01:31,  2.04it/s]"
     ]
    },
    {
     "name": "stderr",
     "output_type": "stream",
     "text": [
      "\r",
      "Training for -600:  69%|██████▉   | 414/600 [03:24<01:30,  2.06it/s]"
     ]
    },
    {
     "name": "stderr",
     "output_type": "stream",
     "text": [
      "\r",
      "Training for -600:  69%|██████▉   | 415/600 [03:25<01:32,  2.00it/s]"
     ]
    },
    {
     "name": "stderr",
     "output_type": "stream",
     "text": [
      "\r",
      "Training for -600:  69%|██████▉   | 416/600 [03:25<01:34,  1.95it/s]"
     ]
    },
    {
     "name": "stderr",
     "output_type": "stream",
     "text": [
      "\r",
      "Training for -600:  70%|██████▉   | 417/600 [03:26<01:31,  2.00it/s]"
     ]
    },
    {
     "name": "stderr",
     "output_type": "stream",
     "text": [
      "\r",
      "Training for -600:  70%|██████▉   | 418/600 [03:26<01:29,  2.03it/s]"
     ]
    },
    {
     "name": "stderr",
     "output_type": "stream",
     "text": [
      "\r",
      "Training for -600:  70%|██████▉   | 419/600 [03:27<01:28,  2.05it/s]"
     ]
    },
    {
     "name": "stderr",
     "output_type": "stream",
     "text": [
      "\r",
      "Training for -600:  70%|███████   | 420/600 [03:27<01:26,  2.08it/s]"
     ]
    },
    {
     "name": "stderr",
     "output_type": "stream",
     "text": [
      "\r",
      "Training for -600:  70%|███████   | 421/600 [03:28<01:25,  2.09it/s]"
     ]
    },
    {
     "name": "stderr",
     "output_type": "stream",
     "text": [
      "\r",
      "Training for -600:  70%|███████   | 422/600 [03:28<01:24,  2.11it/s]"
     ]
    },
    {
     "name": "stderr",
     "output_type": "stream",
     "text": [
      "\r",
      "Training for -600:  70%|███████   | 423/600 [03:29<01:23,  2.12it/s]"
     ]
    },
    {
     "name": "stderr",
     "output_type": "stream",
     "text": [
      "\r",
      "Training for -600:  71%|███████   | 424/600 [03:29<01:22,  2.12it/s]"
     ]
    },
    {
     "name": "stderr",
     "output_type": "stream",
     "text": [
      "\r",
      "Training for -600:  71%|███████   | 425/600 [03:30<01:23,  2.09it/s]"
     ]
    },
    {
     "name": "stderr",
     "output_type": "stream",
     "text": [
      "\r",
      "Training for -600:  71%|███████   | 426/600 [03:30<01:23,  2.08it/s]"
     ]
    },
    {
     "name": "stderr",
     "output_type": "stream",
     "text": [
      "\r",
      "Training for -600:  71%|███████   | 427/600 [03:31<01:24,  2.04it/s]"
     ]
    },
    {
     "name": "stderr",
     "output_type": "stream",
     "text": [
      "\r",
      "Training for -600:  71%|███████▏  | 428/600 [03:31<01:27,  1.96it/s]"
     ]
    },
    {
     "name": "stderr",
     "output_type": "stream",
     "text": [
      "\r",
      "Training for -600:  72%|███████▏  | 429/600 [03:32<01:26,  1.97it/s]"
     ]
    },
    {
     "name": "stderr",
     "output_type": "stream",
     "text": [
      "\r",
      "Training for -600:  72%|███████▏  | 430/600 [03:32<01:24,  2.01it/s]"
     ]
    },
    {
     "name": "stderr",
     "output_type": "stream",
     "text": [
      "\r",
      "Training for -600:  72%|███████▏  | 431/600 [03:33<01:22,  2.05it/s]"
     ]
    },
    {
     "name": "stderr",
     "output_type": "stream",
     "text": [
      "\r",
      "Training for -600:  72%|███████▏  | 432/600 [03:33<01:21,  2.07it/s]"
     ]
    },
    {
     "name": "stderr",
     "output_type": "stream",
     "text": [
      "\r",
      "Training for -600:  72%|███████▏  | 433/600 [03:34<01:19,  2.09it/s]"
     ]
    },
    {
     "name": "stderr",
     "output_type": "stream",
     "text": [
      "\r",
      "Training for -600:  72%|███████▏  | 434/600 [03:34<01:18,  2.10it/s]"
     ]
    },
    {
     "name": "stderr",
     "output_type": "stream",
     "text": [
      "\r",
      "Training for -600:  72%|███████▎  | 435/600 [03:35<01:17,  2.12it/s]"
     ]
    },
    {
     "name": "stderr",
     "output_type": "stream",
     "text": [
      "\r",
      "Training for -600:  73%|███████▎  | 436/600 [03:35<01:17,  2.11it/s]"
     ]
    },
    {
     "name": "stderr",
     "output_type": "stream",
     "text": [
      "\r",
      "Training for -600:  73%|███████▎  | 437/600 [03:35<01:17,  2.10it/s]"
     ]
    },
    {
     "name": "stderr",
     "output_type": "stream",
     "text": [
      "\r",
      "Training for -600:  73%|███████▎  | 438/600 [03:36<01:18,  2.06it/s]"
     ]
    },
    {
     "name": "stderr",
     "output_type": "stream",
     "text": [
      "\r",
      "Training for -600:  73%|███████▎  | 439/600 [03:37<01:19,  2.02it/s]"
     ]
    },
    {
     "name": "stderr",
     "output_type": "stream",
     "text": [
      "\r",
      "Training for -600:  73%|███████▎  | 440/600 [03:37<01:20,  1.98it/s]"
     ]
    },
    {
     "name": "stderr",
     "output_type": "stream",
     "text": [
      "\r",
      "Training for -600:  74%|███████▎  | 441/600 [03:38<01:20,  1.98it/s]"
     ]
    },
    {
     "name": "stderr",
     "output_type": "stream",
     "text": [
      "\r",
      "Training for -600:  74%|███████▎  | 442/600 [03:38<01:18,  2.02it/s]"
     ]
    },
    {
     "name": "stderr",
     "output_type": "stream",
     "text": [
      "\r",
      "Training for -600:  74%|███████▍  | 443/600 [03:38<01:16,  2.05it/s]"
     ]
    },
    {
     "name": "stderr",
     "output_type": "stream",
     "text": [
      "\r",
      "Training for -600:  74%|███████▍  | 444/600 [03:39<01:15,  2.07it/s]"
     ]
    },
    {
     "name": "stderr",
     "output_type": "stream",
     "text": [
      "\r",
      "Training for -600:  74%|███████▍  | 445/600 [03:39<01:14,  2.08it/s]"
     ]
    },
    {
     "name": "stderr",
     "output_type": "stream",
     "text": [
      "\r",
      "Training for -600:  74%|███████▍  | 446/600 [03:40<01:13,  2.09it/s]"
     ]
    },
    {
     "name": "stderr",
     "output_type": "stream",
     "text": [
      "\r",
      "Training for -600:  74%|███████▍  | 447/600 [03:40<01:13,  2.09it/s]"
     ]
    },
    {
     "name": "stderr",
     "output_type": "stream",
     "text": [
      "\r",
      "Training for -600:  75%|███████▍  | 448/600 [03:41<01:12,  2.10it/s]"
     ]
    },
    {
     "name": "stderr",
     "output_type": "stream",
     "text": [
      "\r",
      "Training for -600:  75%|███████▍  | 449/600 [03:41<01:11,  2.12it/s]"
     ]
    },
    {
     "name": "stderr",
     "output_type": "stream",
     "text": [
      "\r",
      "Training for -600:  75%|███████▌  | 450/600 [03:42<01:10,  2.12it/s]"
     ]
    },
    {
     "name": "stderr",
     "output_type": "stream",
     "text": [
      "\r",
      "Training for -600:  75%|███████▌  | 451/600 [03:42<01:10,  2.11it/s]"
     ]
    },
    {
     "name": "stderr",
     "output_type": "stream",
     "text": [
      "\r",
      "Training for -600:  75%|███████▌  | 452/600 [03:43<01:12,  2.04it/s]"
     ]
    },
    {
     "name": "stderr",
     "output_type": "stream",
     "text": [
      "\r",
      "Training for -600:  76%|███████▌  | 453/600 [03:43<01:13,  1.99it/s]"
     ]
    },
    {
     "name": "stderr",
     "output_type": "stream",
     "text": [
      "\r",
      "Training for -600:  76%|███████▌  | 454/600 [03:44<01:13,  2.00it/s]"
     ]
    },
    {
     "name": "stderr",
     "output_type": "stream",
     "text": [
      "\r",
      "Training for -600:  76%|███████▌  | 455/600 [03:44<01:11,  2.04it/s]"
     ]
    },
    {
     "name": "stderr",
     "output_type": "stream",
     "text": [
      "\r",
      "Training for -600:  76%|███████▌  | 456/600 [03:45<01:09,  2.06it/s]"
     ]
    },
    {
     "name": "stderr",
     "output_type": "stream",
     "text": [
      "\r",
      "Training for -600:  76%|███████▌  | 457/600 [03:45<01:08,  2.09it/s]"
     ]
    },
    {
     "name": "stderr",
     "output_type": "stream",
     "text": [
      "\r",
      "Training for -600:  76%|███████▋  | 458/600 [03:46<01:07,  2.10it/s]"
     ]
    },
    {
     "name": "stderr",
     "output_type": "stream",
     "text": [
      "\r",
      "Training for -600:  76%|███████▋  | 459/600 [03:46<01:06,  2.12it/s]"
     ]
    },
    {
     "name": "stderr",
     "output_type": "stream",
     "text": [
      "\r",
      "Training for -600:  77%|███████▋  | 460/600 [03:47<01:05,  2.13it/s]"
     ]
    },
    {
     "name": "stderr",
     "output_type": "stream",
     "text": [
      "\r",
      "Training for -600:  77%|███████▋  | 461/600 [03:47<01:05,  2.14it/s]"
     ]
    },
    {
     "name": "stderr",
     "output_type": "stream",
     "text": [
      "\r",
      "Training for -600:  77%|███████▋  | 462/600 [03:48<01:04,  2.14it/s]"
     ]
    },
    {
     "name": "stderr",
     "output_type": "stream",
     "text": [
      "\r",
      "Training for -600:  77%|███████▋  | 463/600 [03:48<01:04,  2.14it/s]"
     ]
    },
    {
     "name": "stderr",
     "output_type": "stream",
     "text": [
      "\r",
      "Training for -600:  77%|███████▋  | 464/600 [03:48<01:03,  2.14it/s]"
     ]
    },
    {
     "name": "stderr",
     "output_type": "stream",
     "text": [
      "\r",
      "Training for -600:  78%|███████▊  | 465/600 [03:49<01:05,  2.07it/s]"
     ]
    },
    {
     "name": "stderr",
     "output_type": "stream",
     "text": [
      "\r",
      "Training for -600:  78%|███████▊  | 466/600 [03:50<01:06,  2.00it/s]"
     ]
    },
    {
     "name": "stderr",
     "output_type": "stream",
     "text": [
      "\r",
      "Training for -600:  78%|███████▊  | 467/600 [03:50<01:06,  2.01it/s]"
     ]
    },
    {
     "name": "stderr",
     "output_type": "stream",
     "text": [
      "\r",
      "Training for -600:  78%|███████▊  | 468/600 [03:51<01:05,  2.03it/s]"
     ]
    },
    {
     "name": "stderr",
     "output_type": "stream",
     "text": [
      "\r",
      "Training for -600:  78%|███████▊  | 469/600 [03:51<01:04,  2.04it/s]"
     ]
    },
    {
     "name": "stderr",
     "output_type": "stream",
     "text": [
      "\r",
      "Training for -600:  78%|███████▊  | 470/600 [03:51<01:02,  2.08it/s]"
     ]
    },
    {
     "name": "stderr",
     "output_type": "stream",
     "text": [
      "\r",
      "Training for -600:  78%|███████▊  | 471/600 [03:52<01:01,  2.08it/s]"
     ]
    },
    {
     "name": "stderr",
     "output_type": "stream",
     "text": [
      "\r",
      "Training for -600:  79%|███████▊  | 472/600 [03:52<01:00,  2.10it/s]"
     ]
    },
    {
     "name": "stderr",
     "output_type": "stream",
     "text": [
      "\r",
      "Training for -600:  79%|███████▉  | 473/600 [03:53<01:00,  2.12it/s]"
     ]
    },
    {
     "name": "stderr",
     "output_type": "stream",
     "text": [
      "\r",
      "Training for -600:  79%|███████▉  | 474/600 [03:53<00:59,  2.13it/s]"
     ]
    },
    {
     "name": "stderr",
     "output_type": "stream",
     "text": [
      "\r",
      "Training for -600:  79%|███████▉  | 475/600 [03:54<00:58,  2.14it/s]"
     ]
    },
    {
     "name": "stderr",
     "output_type": "stream",
     "text": [
      "\r",
      "Training for -600:  79%|███████▉  | 476/600 [03:54<00:58,  2.13it/s]"
     ]
    },
    {
     "name": "stderr",
     "output_type": "stream",
     "text": [
      "\r",
      "Training for -600:  80%|███████▉  | 477/600 [03:55<00:58,  2.10it/s]"
     ]
    },
    {
     "name": "stderr",
     "output_type": "stream",
     "text": [
      "\r",
      "Training for -600:  80%|███████▉  | 478/600 [03:55<01:00,  2.03it/s]"
     ]
    },
    {
     "name": "stderr",
     "output_type": "stream",
     "text": [
      "\r",
      "Training for -600:  80%|███████▉  | 479/600 [03:56<01:00,  2.00it/s]"
     ]
    },
    {
     "name": "stderr",
     "output_type": "stream",
     "text": [
      "\r",
      "Training for -600:  80%|████████  | 480/600 [03:56<00:59,  2.01it/s]"
     ]
    },
    {
     "name": "stderr",
     "output_type": "stream",
     "text": [
      "\r",
      "Training for -600:  80%|████████  | 481/600 [03:57<00:58,  2.03it/s]"
     ]
    },
    {
     "name": "stderr",
     "output_type": "stream",
     "text": [
      "\r",
      "Training for -600:  80%|████████  | 482/600 [03:57<00:57,  2.06it/s]"
     ]
    },
    {
     "name": "stderr",
     "output_type": "stream",
     "text": [
      "\r",
      "Training for -600:  80%|████████  | 483/600 [03:58<00:56,  2.09it/s]"
     ]
    },
    {
     "name": "stderr",
     "output_type": "stream",
     "text": [
      "\r",
      "Training for -600:  81%|████████  | 484/600 [03:58<00:55,  2.11it/s]"
     ]
    },
    {
     "name": "stderr",
     "output_type": "stream",
     "text": [
      "\r",
      "Training for -600:  81%|████████  | 485/600 [03:59<00:54,  2.10it/s]"
     ]
    },
    {
     "name": "stderr",
     "output_type": "stream",
     "text": [
      "\r",
      "Training for -600:  81%|████████  | 486/600 [03:59<00:53,  2.12it/s]"
     ]
    },
    {
     "name": "stderr",
     "output_type": "stream",
     "text": [
      "\r",
      "Training for -600:  81%|████████  | 487/600 [04:00<00:53,  2.12it/s]"
     ]
    },
    {
     "name": "stderr",
     "output_type": "stream",
     "text": [
      "\r",
      "Training for -600:  81%|████████▏ | 488/600 [04:00<00:52,  2.12it/s]"
     ]
    },
    {
     "name": "stderr",
     "output_type": "stream",
     "text": [
      "\r",
      "Training for -600:  82%|████████▏ | 489/600 [04:01<00:52,  2.11it/s]"
     ]
    },
    {
     "name": "stderr",
     "output_type": "stream",
     "text": [
      "\r",
      "Training for -600:  82%|████████▏ | 490/600 [04:01<00:54,  2.03it/s]"
     ]
    },
    {
     "name": "stderr",
     "output_type": "stream",
     "text": [
      "\r",
      "Training for -600:  82%|████████▏ | 491/600 [04:02<00:54,  1.99it/s]"
     ]
    },
    {
     "name": "stderr",
     "output_type": "stream",
     "text": [
      "\r",
      "Training for -600:  82%|████████▏ | 492/600 [04:02<00:53,  2.01it/s]"
     ]
    },
    {
     "name": "stderr",
     "output_type": "stream",
     "text": [
      "\r",
      "Training for -600:  82%|████████▏ | 493/600 [04:03<00:53,  2.00it/s]"
     ]
    },
    {
     "name": "stderr",
     "output_type": "stream",
     "text": [
      "\r",
      "Training for -600:  82%|████████▏ | 494/600 [04:03<00:52,  2.02it/s]"
     ]
    },
    {
     "name": "stderr",
     "output_type": "stream",
     "text": [
      "\r",
      "Training for -600:  82%|████████▎ | 495/600 [04:04<00:51,  2.04it/s]"
     ]
    },
    {
     "name": "stderr",
     "output_type": "stream",
     "text": [
      "\r",
      "Training for -600:  83%|████████▎ | 496/600 [04:04<00:50,  2.06it/s]"
     ]
    },
    {
     "name": "stderr",
     "output_type": "stream",
     "text": [
      "\r",
      "Training for -600:  83%|████████▎ | 497/600 [04:05<00:49,  2.08it/s]"
     ]
    },
    {
     "name": "stderr",
     "output_type": "stream",
     "text": [
      "\r",
      "Training for -600:  83%|████████▎ | 498/600 [04:05<00:48,  2.09it/s]"
     ]
    },
    {
     "name": "stderr",
     "output_type": "stream",
     "text": [
      "\r",
      "Training for -600:  83%|████████▎ | 499/600 [04:05<00:48,  2.10it/s]"
     ]
    },
    {
     "name": "stderr",
     "output_type": "stream",
     "text": [
      "\r",
      "Training for -600:  83%|████████▎ | 500/600 [04:06<00:47,  2.10it/s]"
     ]
    },
    {
     "name": "stderr",
     "output_type": "stream",
     "text": [
      "\r",
      "Training for -600:  84%|████████▎ | 501/600 [04:06<00:47,  2.10it/s]"
     ]
    },
    {
     "name": "stderr",
     "output_type": "stream",
     "text": [
      "\r",
      "Training for -600:  84%|████████▎ | 502/600 [04:07<00:48,  2.03it/s]"
     ]
    },
    {
     "name": "stderr",
     "output_type": "stream",
     "text": [
      "\r",
      "Training for -600:  84%|████████▍ | 503/600 [04:07<00:48,  1.99it/s]"
     ]
    },
    {
     "name": "stderr",
     "output_type": "stream",
     "text": [
      "\r",
      "Training for -600:  84%|████████▍ | 504/600 [04:08<00:48,  2.00it/s]"
     ]
    },
    {
     "name": "stderr",
     "output_type": "stream",
     "text": [
      "\r",
      "Training for -600:  84%|████████▍ | 505/600 [04:08<00:46,  2.03it/s]"
     ]
    },
    {
     "name": "stderr",
     "output_type": "stream",
     "text": [
      "\r",
      "Training for -600:  84%|████████▍ | 506/600 [04:09<00:46,  2.04it/s]"
     ]
    },
    {
     "name": "stderr",
     "output_type": "stream",
     "text": [
      "\r",
      "Training for -600:  84%|████████▍ | 507/600 [04:09<00:45,  2.03it/s]"
     ]
    },
    {
     "name": "stderr",
     "output_type": "stream",
     "text": [
      "\r",
      "Training for -600:  85%|████████▍ | 508/600 [04:10<00:45,  2.04it/s]"
     ]
    },
    {
     "name": "stderr",
     "output_type": "stream",
     "text": [
      "\r",
      "Training for -600:  85%|████████▍ | 509/600 [04:10<00:44,  2.05it/s]"
     ]
    },
    {
     "name": "stderr",
     "output_type": "stream",
     "text": [
      "\r",
      "Training for -600:  85%|████████▌ | 510/600 [04:11<00:43,  2.08it/s]"
     ]
    },
    {
     "name": "stderr",
     "output_type": "stream",
     "text": [
      "\r",
      "Training for -600:  85%|████████▌ | 511/600 [04:11<00:42,  2.09it/s]"
     ]
    },
    {
     "name": "stderr",
     "output_type": "stream",
     "text": [
      "\r",
      "Training for -600:  85%|████████▌ | 512/600 [04:12<00:41,  2.11it/s]"
     ]
    },
    {
     "name": "stderr",
     "output_type": "stream",
     "text": [
      "\r",
      "Training for -600:  86%|████████▌ | 513/600 [04:12<00:41,  2.11it/s]"
     ]
    },
    {
     "name": "stderr",
     "output_type": "stream",
     "text": [
      "\r",
      "Training for -600:  86%|████████▌ | 514/600 [04:13<00:41,  2.09it/s]"
     ]
    },
    {
     "name": "stderr",
     "output_type": "stream",
     "text": [
      "\r",
      "Training for -600:  86%|████████▌ | 515/600 [04:13<00:41,  2.04it/s]"
     ]
    },
    {
     "name": "stderr",
     "output_type": "stream",
     "text": [
      "\r",
      "Training for -600:  86%|████████▌ | 516/600 [04:14<00:41,  2.02it/s]"
     ]
    },
    {
     "name": "stderr",
     "output_type": "stream",
     "text": [
      "\r",
      "Training for -600:  86%|████████▌ | 517/600 [04:14<00:40,  2.05it/s]"
     ]
    },
    {
     "name": "stderr",
     "output_type": "stream",
     "text": [
      "\r",
      "Training for -600:  86%|████████▋ | 518/600 [04:15<00:39,  2.08it/s]"
     ]
    },
    {
     "name": "stderr",
     "output_type": "stream",
     "text": [
      "\r",
      "Training for -600:  86%|████████▋ | 519/600 [04:15<00:39,  2.06it/s]"
     ]
    },
    {
     "name": "stderr",
     "output_type": "stream",
     "text": [
      "\r",
      "Training for -600:  87%|████████▋ | 520/600 [04:16<00:38,  2.06it/s]"
     ]
    },
    {
     "name": "stderr",
     "output_type": "stream",
     "text": [
      "\r",
      "Training for -600:  87%|████████▋ | 521/600 [04:16<00:38,  2.05it/s]"
     ]
    },
    {
     "name": "stderr",
     "output_type": "stream",
     "text": [
      "\r",
      "Training for -600:  87%|████████▋ | 522/600 [04:17<00:37,  2.06it/s]"
     ]
    },
    {
     "name": "stderr",
     "output_type": "stream",
     "text": [
      "\r",
      "Training for -600:  87%|████████▋ | 523/600 [04:17<00:37,  2.08it/s]"
     ]
    },
    {
     "name": "stderr",
     "output_type": "stream",
     "text": [
      "\r",
      "Training for -600:  87%|████████▋ | 524/600 [04:18<00:36,  2.10it/s]"
     ]
    },
    {
     "name": "stderr",
     "output_type": "stream",
     "text": [
      "\r",
      "Training for -600:  88%|████████▊ | 525/600 [04:18<00:35,  2.10it/s]"
     ]
    },
    {
     "name": "stderr",
     "output_type": "stream",
     "text": [
      "\r",
      "Training for -600:  88%|████████▊ | 526/600 [04:19<00:35,  2.10it/s]"
     ]
    },
    {
     "name": "stderr",
     "output_type": "stream",
     "text": [
      "\r",
      "Training for -600:  88%|████████▊ | 527/600 [04:19<00:35,  2.04it/s]"
     ]
    },
    {
     "name": "stderr",
     "output_type": "stream",
     "text": [
      "\r",
      "Training for -600:  88%|████████▊ | 528/600 [04:20<00:36,  1.98it/s]"
     ]
    },
    {
     "name": "stderr",
     "output_type": "stream",
     "text": [
      "\r",
      "Training for -600:  88%|████████▊ | 529/600 [04:20<00:35,  2.01it/s]"
     ]
    },
    {
     "name": "stderr",
     "output_type": "stream",
     "text": [
      "\r",
      "Training for -600:  88%|████████▊ | 530/600 [04:21<00:34,  2.03it/s]"
     ]
    },
    {
     "name": "stderr",
     "output_type": "stream",
     "text": [
      "\r",
      "Training for -600:  88%|████████▊ | 531/600 [04:21<00:34,  2.03it/s]"
     ]
    },
    {
     "name": "stderr",
     "output_type": "stream",
     "text": [
      "\r",
      "Training for -600:  89%|████████▊ | 532/600 [04:22<00:33,  2.05it/s]"
     ]
    },
    {
     "name": "stderr",
     "output_type": "stream",
     "text": [
      "\r",
      "Training for -600:  89%|████████▉ | 533/600 [04:22<00:32,  2.03it/s]"
     ]
    },
    {
     "name": "stderr",
     "output_type": "stream",
     "text": [
      "\r",
      "Training for -600:  89%|████████▉ | 534/600 [04:23<00:32,  2.02it/s]"
     ]
    },
    {
     "name": "stderr",
     "output_type": "stream",
     "text": [
      "\r",
      "Training for -600:  89%|████████▉ | 535/600 [04:23<00:32,  2.02it/s]"
     ]
    },
    {
     "name": "stderr",
     "output_type": "stream",
     "text": [
      "\r",
      "Training for -600:  89%|████████▉ | 536/600 [04:24<00:31,  2.05it/s]"
     ]
    },
    {
     "name": "stderr",
     "output_type": "stream",
     "text": [
      "\r",
      "Training for -600:  90%|████████▉ | 537/600 [04:24<00:30,  2.06it/s]"
     ]
    },
    {
     "name": "stderr",
     "output_type": "stream",
     "text": [
      "\r",
      "Training for -600:  90%|████████▉ | 538/600 [04:24<00:29,  2.07it/s]"
     ]
    },
    {
     "name": "stderr",
     "output_type": "stream",
     "text": [
      "\r",
      "Training for -600:  90%|████████▉ | 539/600 [04:25<00:30,  2.02it/s]"
     ]
    },
    {
     "name": "stderr",
     "output_type": "stream",
     "text": [
      "\r",
      "Training for -600:  90%|█████████ | 540/600 [04:26<00:30,  1.96it/s]"
     ]
    },
    {
     "name": "stderr",
     "output_type": "stream",
     "text": [
      "\r",
      "Training for -600:  90%|█████████ | 541/600 [04:26<00:29,  1.98it/s]"
     ]
    },
    {
     "name": "stderr",
     "output_type": "stream",
     "text": [
      "\r",
      "Training for -600:  90%|█████████ | 542/600 [04:26<00:28,  2.03it/s]"
     ]
    },
    {
     "name": "stderr",
     "output_type": "stream",
     "text": [
      "\r",
      "Training for -600:  90%|█████████ | 543/600 [04:27<00:27,  2.04it/s]"
     ]
    },
    {
     "name": "stderr",
     "output_type": "stream",
     "text": [
      "\r",
      "Training for -600:  91%|█████████ | 544/600 [04:27<00:27,  2.06it/s]"
     ]
    },
    {
     "name": "stderr",
     "output_type": "stream",
     "text": [
      "\r",
      "Training for -600:  91%|█████████ | 545/600 [04:28<00:26,  2.07it/s]"
     ]
    },
    {
     "name": "stderr",
     "output_type": "stream",
     "text": [
      "\r",
      "Training for -600:  91%|█████████ | 546/600 [04:28<00:26,  2.07it/s]"
     ]
    },
    {
     "name": "stderr",
     "output_type": "stream",
     "text": [
      "\r",
      "Training for -600:  91%|█████████ | 547/600 [04:29<00:25,  2.06it/s]"
     ]
    },
    {
     "name": "stderr",
     "output_type": "stream",
     "text": [
      "\r",
      "Training for -600:  91%|█████████▏| 548/600 [04:29<00:25,  2.03it/s]"
     ]
    },
    {
     "name": "stderr",
     "output_type": "stream",
     "text": [
      "\r",
      "Training for -600:  92%|█████████▏| 549/600 [04:30<00:25,  2.04it/s]"
     ]
    },
    {
     "name": "stderr",
     "output_type": "stream",
     "text": [
      "\r",
      "Training for -600:  92%|█████████▏| 550/600 [04:30<00:24,  2.04it/s]"
     ]
    },
    {
     "name": "stderr",
     "output_type": "stream",
     "text": [
      "\r",
      "Training for -600:  92%|█████████▏| 551/600 [04:31<00:24,  2.00it/s]"
     ]
    },
    {
     "name": "stderr",
     "output_type": "stream",
     "text": [
      "\r",
      "Training for -600:  92%|█████████▏| 552/600 [04:31<00:24,  1.96it/s]"
     ]
    },
    {
     "name": "stderr",
     "output_type": "stream",
     "text": [
      "\r",
      "Training for -600:  92%|█████████▏| 553/600 [04:32<00:23,  1.97it/s]"
     ]
    },
    {
     "name": "stderr",
     "output_type": "stream",
     "text": [
      "\r",
      "Training for -600:  92%|█████████▏| 554/600 [04:32<00:22,  2.01it/s]"
     ]
    },
    {
     "name": "stderr",
     "output_type": "stream",
     "text": [
      "\r",
      "Training for -600:  92%|█████████▎| 555/600 [04:33<00:22,  2.03it/s]"
     ]
    },
    {
     "name": "stderr",
     "output_type": "stream",
     "text": [
      "\r",
      "Training for -600:  93%|█████████▎| 556/600 [04:33<00:21,  2.05it/s]"
     ]
    },
    {
     "name": "stderr",
     "output_type": "stream",
     "text": [
      "\r",
      "Training for -600:  93%|█████████▎| 557/600 [04:34<00:20,  2.06it/s]"
     ]
    },
    {
     "name": "stderr",
     "output_type": "stream",
     "text": [
      "\r",
      "Training for -600:  93%|█████████▎| 558/600 [04:34<00:20,  2.10it/s]"
     ]
    },
    {
     "name": "stderr",
     "output_type": "stream",
     "text": [
      "\r",
      "Training for -600:  93%|█████████▎| 559/600 [04:35<00:19,  2.10it/s]"
     ]
    },
    {
     "name": "stderr",
     "output_type": "stream",
     "text": [
      "\r",
      "Training for -600:  93%|█████████▎| 560/600 [04:35<00:19,  2.09it/s]"
     ]
    },
    {
     "name": "stderr",
     "output_type": "stream",
     "text": [
      "\r",
      "Training for -600:  94%|█████████▎| 561/600 [04:36<00:18,  2.07it/s]"
     ]
    },
    {
     "name": "stderr",
     "output_type": "stream",
     "text": [
      "\r",
      "Training for -600:  94%|█████████▎| 562/600 [04:36<00:18,  2.07it/s]"
     ]
    },
    {
     "name": "stderr",
     "output_type": "stream",
     "text": [
      "\r",
      "Training for -600:  94%|█████████▍| 563/600 [04:37<00:17,  2.06it/s]"
     ]
    },
    {
     "name": "stderr",
     "output_type": "stream",
     "text": [
      "\r",
      "Training for -600:  94%|█████████▍| 564/600 [04:37<00:17,  2.02it/s]"
     ]
    },
    {
     "name": "stderr",
     "output_type": "stream",
     "text": [
      "\r",
      "Training for -600:  94%|█████████▍| 565/600 [04:38<00:17,  2.02it/s]"
     ]
    },
    {
     "name": "stderr",
     "output_type": "stream",
     "text": [
      "\r",
      "Training for -600:  94%|█████████▍| 566/600 [04:38<00:16,  2.05it/s]"
     ]
    },
    {
     "name": "stderr",
     "output_type": "stream",
     "text": [
      "\r",
      "Training for -600:  94%|█████████▍| 567/600 [04:39<00:15,  2.07it/s]"
     ]
    },
    {
     "name": "stderr",
     "output_type": "stream",
     "text": [
      "\r",
      "Training for -600:  95%|█████████▍| 568/600 [04:39<00:15,  2.08it/s]"
     ]
    },
    {
     "name": "stderr",
     "output_type": "stream",
     "text": [
      "\r",
      "Training for -600:  95%|█████████▍| 569/600 [04:40<00:14,  2.09it/s]"
     ]
    },
    {
     "name": "stderr",
     "output_type": "stream",
     "text": [
      "\r",
      "Training for -600:  95%|█████████▌| 570/600 [04:40<00:14,  2.09it/s]"
     ]
    },
    {
     "name": "stderr",
     "output_type": "stream",
     "text": [
      "\r",
      "Training for -600:  95%|█████████▌| 571/600 [04:41<00:13,  2.09it/s]"
     ]
    },
    {
     "name": "stderr",
     "output_type": "stream",
     "text": [
      "\r",
      "Training for -600:  95%|█████████▌| 572/600 [04:41<00:13,  2.11it/s]"
     ]
    },
    {
     "name": "stderr",
     "output_type": "stream",
     "text": [
      "\r",
      "Training for -600:  96%|█████████▌| 573/600 [04:42<00:12,  2.12it/s]"
     ]
    },
    {
     "name": "stderr",
     "output_type": "stream",
     "text": [
      "\r",
      "Training for -600:  96%|█████████▌| 574/600 [04:42<00:12,  2.09it/s]"
     ]
    },
    {
     "name": "stderr",
     "output_type": "stream",
     "text": [
      "\r",
      "Training for -600:  96%|█████████▌| 575/600 [04:43<00:12,  2.06it/s]"
     ]
    },
    {
     "name": "stderr",
     "output_type": "stream",
     "text": [
      "\r",
      "Training for -600:  96%|█████████▌| 576/600 [04:43<00:12,  2.00it/s]"
     ]
    },
    {
     "name": "stderr",
     "output_type": "stream",
     "text": [
      "\r",
      "Training for -600:  96%|█████████▌| 577/600 [04:44<00:11,  1.96it/s]"
     ]
    },
    {
     "name": "stderr",
     "output_type": "stream",
     "text": [
      "\r",
      "Training for -600:  96%|█████████▋| 578/600 [04:44<00:10,  2.01it/s]"
     ]
    },
    {
     "name": "stderr",
     "output_type": "stream",
     "text": [
      "\r",
      "Training for -600:  96%|█████████▋| 579/600 [04:45<00:10,  2.05it/s]"
     ]
    },
    {
     "name": "stderr",
     "output_type": "stream",
     "text": [
      "\r",
      "Training for -600:  97%|█████████▋| 580/600 [04:45<00:09,  2.08it/s]"
     ]
    },
    {
     "name": "stderr",
     "output_type": "stream",
     "text": [
      "\r",
      "Training for -600:  97%|█████████▋| 581/600 [04:45<00:09,  2.10it/s]"
     ]
    },
    {
     "name": "stderr",
     "output_type": "stream",
     "text": [
      "\r",
      "Training for -600:  97%|█████████▋| 582/600 [04:46<00:08,  2.11it/s]"
     ]
    },
    {
     "name": "stderr",
     "output_type": "stream",
     "text": [
      "\r",
      "Training for -600:  97%|█████████▋| 583/600 [04:46<00:08,  2.12it/s]"
     ]
    },
    {
     "name": "stderr",
     "output_type": "stream",
     "text": [
      "\r",
      "Training for -600:  97%|█████████▋| 584/600 [04:47<00:07,  2.10it/s]"
     ]
    },
    {
     "name": "stderr",
     "output_type": "stream",
     "text": [
      "\r",
      "Training for -600:  98%|█████████▊| 585/600 [04:47<00:07,  2.09it/s]"
     ]
    },
    {
     "name": "stderr",
     "output_type": "stream",
     "text": [
      "\r",
      "Training for -600:  98%|█████████▊| 586/600 [04:48<00:06,  2.09it/s]"
     ]
    },
    {
     "name": "stderr",
     "output_type": "stream",
     "text": [
      "\r",
      "Training for -600:  98%|█████████▊| 587/600 [04:48<00:06,  2.08it/s]"
     ]
    },
    {
     "name": "stderr",
     "output_type": "stream",
     "text": [
      "\r",
      "Training for -600:  98%|█████████▊| 588/600 [04:49<00:06,  2.00it/s]"
     ]
    },
    {
     "name": "stderr",
     "output_type": "stream",
     "text": [
      "\r",
      "Training for -600:  98%|█████████▊| 589/600 [04:49<00:05,  1.95it/s]"
     ]
    },
    {
     "name": "stderr",
     "output_type": "stream",
     "text": [
      "\r",
      "Training for -600:  98%|█████████▊| 590/600 [04:50<00:04,  2.01it/s]"
     ]
    },
    {
     "name": "stderr",
     "output_type": "stream",
     "text": [
      "\r",
      "Training for -600:  98%|█████████▊| 591/600 [04:50<00:04,  2.04it/s]"
     ]
    },
    {
     "name": "stderr",
     "output_type": "stream",
     "text": [
      "\r",
      "Training for -600:  99%|█████████▊| 592/600 [04:51<00:03,  2.06it/s]"
     ]
    },
    {
     "name": "stderr",
     "output_type": "stream",
     "text": [
      "\r",
      "Training for -600:  99%|█████████▉| 593/600 [04:51<00:03,  2.08it/s]"
     ]
    },
    {
     "name": "stderr",
     "output_type": "stream",
     "text": [
      "\r",
      "Training for -600:  99%|█████████▉| 594/600 [04:52<00:02,  2.09it/s]"
     ]
    },
    {
     "name": "stderr",
     "output_type": "stream",
     "text": [
      "\r",
      "Training for -600:  99%|█████████▉| 595/600 [04:52<00:02,  2.09it/s]"
     ]
    },
    {
     "name": "stderr",
     "output_type": "stream",
     "text": [
      "\r",
      "Training for -600:  99%|█████████▉| 596/600 [04:53<00:01,  2.11it/s]"
     ]
    },
    {
     "name": "stderr",
     "output_type": "stream",
     "text": [
      "\r",
      "Training for -600: 100%|█████████▉| 597/600 [04:53<00:01,  2.09it/s]"
     ]
    },
    {
     "name": "stderr",
     "output_type": "stream",
     "text": [
      "\r",
      "Training for -600: 100%|█████████▉| 598/600 [04:54<00:00,  2.10it/s]"
     ]
    },
    {
     "name": "stderr",
     "output_type": "stream",
     "text": [
      "\r",
      "Training for -600: 100%|█████████▉| 599/600 [04:54<00:00,  2.09it/s]"
     ]
    },
    {
     "name": "stderr",
     "output_type": "stream",
     "text": [
      "\r",
      "Training for -600: 100%|██████████| 600/600 [04:55<00:00,  1.94it/s]"
     ]
    },
    {
     "name": "stderr",
     "output_type": "stream",
     "text": [
      "\r",
      "Training for -600: 100%|██████████| 600/600 [04:55<00:00,  2.03it/s]"
     ]
    },
    {
     "name": "stdout",
     "output_type": "stream",
     "text": [
      "step = 600: loss = 0.154702290892601\n",
      "\n",
      "Training completed. Loss: 0.3070\n"
     ]
    },
    {
     "name": "stderr",
     "output_type": "stream",
     "text": [
      "\n"
     ]
    },
    {
     "name": "stderr",
     "output_type": "stream",
     "text": [
      "WARNING:absl:`0/step_type` is not a valid tf.function parameter name. Sanitizing to `arg_0_step_type`.\n"
     ]
    },
    {
     "name": "stderr",
     "output_type": "stream",
     "text": [
      "WARNING:absl:`0/reward` is not a valid tf.function parameter name. Sanitizing to `arg_0_reward`.\n"
     ]
    },
    {
     "name": "stderr",
     "output_type": "stream",
     "text": [
      "WARNING:absl:`0/discount` is not a valid tf.function parameter name. Sanitizing to `arg_0_discount`.\n"
     ]
    },
    {
     "name": "stderr",
     "output_type": "stream",
     "text": [
      "WARNING:absl:`0/observation` is not a valid tf.function parameter name. Sanitizing to `arg_0_observation`.\n"
     ]
    },
    {
     "name": "stderr",
     "output_type": "stream",
     "text": [
      "WARNING:absl:`0/step_type` is not a valid tf.function parameter name. Sanitizing to `arg_0_step_type`.\n"
     ]
    },
    {
     "name": "stdout",
     "output_type": "stream",
     "text": [
      "INFO:tensorflow:Assets written to: ./models/policy/assets\n"
     ]
    },
    {
     "name": "stderr",
     "output_type": "stream",
     "text": [
      "INFO:tensorflow:Assets written to: ./models/policy/assets\n"
     ]
    },
    {
     "name": "stdout",
     "output_type": "stream",
     "text": [
      "Archived ./models into /kaggle/working/models/model_files.zip\n",
      "Policy saved\n"
     ]
    },
    {
     "name": "stderr",
     "output_type": "stream",
     "text": [
      "[reverb/cc/platform/default/server.cc:84] Shutting down replay server\n"
     ]
    },
    {
     "data": {
      "image/png": "[encoded data removed]",
      "text/plain": [
       "<Figure size 1800x400 with 1 Axes>"
      ]
     },
     "metadata": {},
     "output_type": "display_data"
    },
    {
     "name": "stderr",
     "output_type": "stream",
     "text": [
      "\r",
      "Eval for 25:   0%|          | 0/25 [00:00<?, ?it/s]"
     ]
    },
    {
     "name": "stderr",
     "output_type": "stream",
     "text": [
      "\r",
      "Eval for 25:   4%|▍         | 1/25 [00:10<04:21, 10.89s/it]"
     ]
    },
    {
     "name": "stderr",
     "output_type": "stream",
     "text": [
      "\r",
      "Eval for 25:   8%|▊         | 2/25 [00:12<02:01,  5.27s/it]"
     ]
    },
    {
     "name": "stderr",
     "output_type": "stream",
     "text": [
      "\r",
      "Eval for 25:  12%|█▏        | 3/25 [00:13<01:16,  3.47s/it]"
     ]
    },
    {
     "name": "stderr",
     "output_type": "stream",
     "text": [
      "\r",
      "Eval for 25:  16%|█▌        | 4/25 [00:14<00:55,  2.66s/it]"
     ]
    },
    {
     "name": "stderr",
     "output_type": "stream",
     "text": [
      "\r",
      "Eval for 25:  20%|██        | 5/25 [00:16<00:43,  2.18s/it]"
     ]
    },
    {
     "name": "stderr",
     "output_type": "stream",
     "text": [
      "\r",
      "Eval for 25:  24%|██▍       | 6/25 [00:17<00:35,  1.89s/it]"
     ]
    },
    {
     "name": "stderr",
     "output_type": "stream",
     "text": [
      "\r",
      "Eval for 25:  28%|██▊       | 7/25 [00:18<00:30,  1.70s/it]"
     ]
    },
    {
     "name": "stderr",
     "output_type": "stream",
     "text": [
      "\r",
      "Eval for 25:  32%|███▏      | 8/25 [00:20<00:27,  1.60s/it]"
     ]
    },
    {
     "name": "stderr",
     "output_type": "stream",
     "text": [
      "\r",
      "Eval for 25:  36%|███▌      | 9/25 [00:21<00:24,  1.53s/it]"
     ]
    },
    {
     "name": "stderr",
     "output_type": "stream",
     "text": [
      "\r",
      "Eval for 25:  40%|████      | 10/25 [00:23<00:22,  1.48s/it]"
     ]
    },
    {
     "name": "stderr",
     "output_type": "stream",
     "text": [
      "\r",
      "Eval for 25:  44%|████▍     | 11/25 [00:24<00:20,  1.44s/it]"
     ]
    },
    {
     "name": "stderr",
     "output_type": "stream",
     "text": [
      "\r",
      "Eval for 25:  48%|████▊     | 12/25 [00:25<00:18,  1.40s/it]"
     ]
    },
    {
     "name": "stderr",
     "output_type": "stream",
     "text": [
      "\r",
      "Eval for 25:  52%|█████▏    | 13/25 [00:27<00:17,  1.42s/it]"
     ]
    },
    {
     "name": "stderr",
     "output_type": "stream",
     "text": [
      "\r",
      "Eval for 25:  56%|█████▌    | 14/25 [00:28<00:15,  1.40s/it]"
     ]
    },
    {
     "name": "stderr",
     "output_type": "stream",
     "text": [
      "\r",
      "Eval for 25:  60%|██████    | 15/25 [00:29<00:13,  1.39s/it]"
     ]
    },
    {
     "name": "stderr",
     "output_type": "stream",
     "text": [
      "\r",
      "Eval for 25:  64%|██████▍   | 16/25 [00:31<00:12,  1.37s/it]"
     ]
    },
    {
     "name": "stderr",
     "output_type": "stream",
     "text": [
      "\r",
      "Eval for 25:  68%|██████▊   | 17/25 [00:32<00:11,  1.38s/it]"
     ]
    },
    {
     "name": "stderr",
     "output_type": "stream",
     "text": [
      "\r",
      "Eval for 25:  72%|███████▏  | 18/25 [00:33<00:09,  1.37s/it]"
     ]
    },
    {
     "name": "stderr",
     "output_type": "stream",
     "text": [
      "\r",
      "Eval for 25:  76%|███████▌  | 19/25 [00:35<00:08,  1.35s/it]"
     ]
    },
    {
     "name": "stderr",
     "output_type": "stream",
     "text": [
      "\r",
      "Eval for 25:  80%|████████  | 20/25 [00:36<00:06,  1.36s/it]"
     ]
    },
    {
     "name": "stderr",
     "output_type": "stream",
     "text": [
      "\r",
      "Eval for 25:  84%|████████▍ | 21/25 [00:37<00:05,  1.35s/it]"
     ]
    },
    {
     "name": "stderr",
     "output_type": "stream",
     "text": [
      "\r",
      "Eval for 25:  88%|████████▊ | 22/25 [00:39<00:04,  1.37s/it]"
     ]
    },
    {
     "name": "stderr",
     "output_type": "stream",
     "text": [
      "\r",
      "Eval for 25:  92%|█████████▏| 23/25 [00:40<00:02,  1.35s/it]"
     ]
    },
    {
     "name": "stderr",
     "output_type": "stream",
     "text": [
      "\r",
      "Eval for 25:  96%|█████████▌| 24/25 [00:42<00:01,  1.35s/it]"
     ]
    },
    {
     "name": "stderr",
     "output_type": "stream",
     "text": [
      "\r",
      "Eval for 25: 100%|██████████| 25/25 [00:43<00:00,  1.35s/it]"
     ]
    },
    {
     "name": "stderr",
     "output_type": "stream",
     "text": [
      "\r",
      "Eval for 25: 100%|██████████| 25/25 [00:43<00:00,  1.74s/it]"
     ]
    },
    {
     "name": "stderr",
     "output_type": "stream",
     "text": [
      "\n"
     ]
    }
   ],
   "source": [
    "def train():\n",
    "  with strategy.scope():\n",
    "    loss = sim.train()\n",
    "    sim.plot_performance(loss)\n",
    "    sim.eval_metrics(25)\n",
    "# Uncomment this for a new run to remove previously saved policies and checkpoints\n",
    "sim.clear_directories()\n",
    "train()"
   ]
  },
  {
   "cell_type": "code",
   "execution_count": 13,
   "id": "11b01b01",
   "metadata": {
    "execution": {
     "iopub.execute_input": "2024-03-15T22:23:32.612196Z",
     "iopub.status.busy": "2024-03-15T22:23:32.611821Z",
     "iopub.status.idle": "2024-03-15T22:25:51.698371Z",
     "shell.execute_reply": "2024-03-15T22:25:51.697375Z"
    },
    "executionInfo": {
     "elapsed": 5,
     "status": "aborted",
     "timestamp": 1710411543205,
     "user": {
      "displayName": "Adam Darmanin",
      "userId": "00262451996831505471"
     },
     "user_tz": -60
    },
    "id": "SM6Lz_mSylZw",
    "papermill": {
     "duration": 139.13953,
     "end_time": "2024-03-15T22:25:51.700101",
     "exception": false,
     "start_time": "2024-03-15T22:23:32.560571",
     "status": "completed"
    },
    "tags": []
   },
   "outputs": [
    {
     "name": "stderr",
     "output_type": "stream",
     "text": [
      "\r",
      "Eval for 100:   0%|          | 0/100 [00:00<?, ?it/s]"
     ]
    },
    {
     "name": "stderr",
     "output_type": "stream",
     "text": [
      "\r",
      "Eval for 100:   1%|          | 1/100 [00:01<02:46,  1.68s/it]"
     ]
    },
    {
     "name": "stderr",
     "output_type": "stream",
     "text": [
      "\r",
      "Eval for 100:   2%|▏         | 2/100 [00:03<02:23,  1.47s/it]"
     ]
    },
    {
     "name": "stderr",
     "output_type": "stream",
     "text": [
      "\r",
      "Eval for 100:   3%|▎         | 3/100 [00:04<02:19,  1.44s/it]"
     ]
    },
    {
     "name": "stderr",
     "output_type": "stream",
     "text": [
      "\r",
      "Eval for 100:   4%|▍         | 4/100 [00:05<02:17,  1.43s/it]"
     ]
    },
    {
     "name": "stderr",
     "output_type": "stream",
     "text": [
      "\r",
      "Eval for 100:   5%|▌         | 5/100 [00:07<02:15,  1.43s/it]"
     ]
    },
    {
     "name": "stderr",
     "output_type": "stream",
     "text": [
      "\r",
      "Eval for 100:   6%|▌         | 6/100 [00:08<02:11,  1.40s/it]"
     ]
    },
    {
     "name": "stderr",
     "output_type": "stream",
     "text": [
      "\r",
      "Eval for 100:   7%|▋         | 7/100 [00:09<02:07,  1.37s/it]"
     ]
    },
    {
     "name": "stderr",
     "output_type": "stream",
     "text": [
      "\r",
      "Eval for 100:   8%|▊         | 8/100 [00:11<02:07,  1.39s/it]"
     ]
    },
    {
     "name": "stderr",
     "output_type": "stream",
     "text": [
      "\r",
      "Eval for 100:   9%|▉         | 9/100 [00:12<02:08,  1.42s/it]"
     ]
    },
    {
     "name": "stderr",
     "output_type": "stream",
     "text": [
      "\r",
      "Eval for 100:  10%|█         | 10/100 [00:14<02:04,  1.39s/it]"
     ]
    },
    {
     "name": "stderr",
     "output_type": "stream",
     "text": [
      "\r",
      "Eval for 100:  11%|█         | 11/100 [00:15<02:03,  1.39s/it]"
     ]
    },
    {
     "name": "stderr",
     "output_type": "stream",
     "text": [
      "\r",
      "Eval for 100:  12%|█▏        | 12/100 [00:16<02:00,  1.37s/it]"
     ]
    },
    {
     "name": "stderr",
     "output_type": "stream",
     "text": [
      "\r",
      "Eval for 100:  13%|█▎        | 13/100 [00:18<02:02,  1.41s/it]"
     ]
    },
    {
     "name": "stderr",
     "output_type": "stream",
     "text": [
      "\r",
      "Eval for 100:  14%|█▍        | 14/100 [00:19<01:59,  1.39s/it]"
     ]
    },
    {
     "name": "stderr",
     "output_type": "stream",
     "text": [
      "\r",
      "Eval for 100:  15%|█▌        | 15/100 [00:21<01:56,  1.37s/it]"
     ]
    },
    {
     "name": "stderr",
     "output_type": "stream",
     "text": [
      "\r",
      "Eval for 100:  16%|█▌        | 16/100 [00:22<01:54,  1.36s/it]"
     ]
    },
    {
     "name": "stderr",
     "output_type": "stream",
     "text": [
      "\r",
      "Eval for 100:  17%|█▋        | 17/100 [00:23<01:54,  1.38s/it]"
     ]
    },
    {
     "name": "stderr",
     "output_type": "stream",
     "text": [
      "\r",
      "Eval for 100:  18%|█▊        | 18/100 [00:25<01:54,  1.39s/it]"
     ]
    },
    {
     "name": "stderr",
     "output_type": "stream",
     "text": [
      "\r",
      "Eval for 100:  19%|█▉        | 19/100 [00:26<01:50,  1.37s/it]"
     ]
    },
    {
     "name": "stderr",
     "output_type": "stream",
     "text": [
      "\r",
      "Eval for 100:  20%|██        | 20/100 [00:27<01:49,  1.36s/it]"
     ]
    },
    {
     "name": "stderr",
     "output_type": "stream",
     "text": [
      "\r",
      "Eval for 100:  21%|██        | 21/100 [00:29<01:47,  1.36s/it]"
     ]
    },
    {
     "name": "stderr",
     "output_type": "stream",
     "text": [
      "\r",
      "Eval for 100:  22%|██▏       | 22/100 [00:30<01:47,  1.37s/it]"
     ]
    },
    {
     "name": "stderr",
     "output_type": "stream",
     "text": [
      "\r",
      "Eval for 100:  23%|██▎       | 23/100 [00:32<01:45,  1.37s/it]"
     ]
    },
    {
     "name": "stderr",
     "output_type": "stream",
     "text": [
      "\r",
      "Eval for 100:  24%|██▍       | 24/100 [00:33<01:43,  1.37s/it]"
     ]
    },
    {
     "name": "stderr",
     "output_type": "stream",
     "text": [
      "\r",
      "Eval for 100:  25%|██▌       | 25/100 [00:34<01:40,  1.35s/it]"
     ]
    },
    {
     "name": "stderr",
     "output_type": "stream",
     "text": [
      "\r",
      "Eval for 100:  26%|██▌       | 26/100 [00:36<01:42,  1.38s/it]"
     ]
    },
    {
     "name": "stderr",
     "output_type": "stream",
     "text": [
      "\r",
      "Eval for 100:  27%|██▋       | 27/100 [00:37<01:41,  1.39s/it]"
     ]
    },
    {
     "name": "stderr",
     "output_type": "stream",
     "text": [
      "\r",
      "Eval for 100:  28%|██▊       | 28/100 [00:38<01:39,  1.38s/it]"
     ]
    },
    {
     "name": "stderr",
     "output_type": "stream",
     "text": [
      "\r",
      "Eval for 100:  29%|██▉       | 29/100 [00:40<01:37,  1.37s/it]"
     ]
    },
    {
     "name": "stderr",
     "output_type": "stream",
     "text": [
      "\r",
      "Eval for 100:  30%|███       | 30/100 [00:41<01:36,  1.38s/it]"
     ]
    },
    {
     "name": "stderr",
     "output_type": "stream",
     "text": [
      "\r",
      "Eval for 100:  31%|███       | 31/100 [00:43<01:36,  1.40s/it]"
     ]
    },
    {
     "name": "stderr",
     "output_type": "stream",
     "text": [
      "\r",
      "Eval for 100:  32%|███▏      | 32/100 [00:44<01:35,  1.41s/it]"
     ]
    },
    {
     "name": "stderr",
     "output_type": "stream",
     "text": [
      "\r",
      "Eval for 100:  33%|███▎      | 33/100 [00:45<01:33,  1.40s/it]"
     ]
    },
    {
     "name": "stderr",
     "output_type": "stream",
     "text": [
      "\r",
      "Eval for 100:  34%|███▍      | 34/100 [00:47<01:31,  1.38s/it]"
     ]
    },
    {
     "name": "stderr",
     "output_type": "stream",
     "text": [
      "\r",
      "Eval for 100:  35%|███▌      | 35/100 [00:48<01:31,  1.40s/it]"
     ]
    },
    {
     "name": "stderr",
     "output_type": "stream",
     "text": [
      "\r",
      "Eval for 100:  36%|███▌      | 36/100 [00:49<01:28,  1.38s/it]"
     ]
    },
    {
     "name": "stderr",
     "output_type": "stream",
     "text": [
      "\r",
      "Eval for 100:  37%|███▋      | 37/100 [00:51<01:27,  1.39s/it]"
     ]
    },
    {
     "name": "stderr",
     "output_type": "stream",
     "text": [
      "\r",
      "Eval for 100:  38%|███▊      | 38/100 [00:52<01:25,  1.38s/it]"
     ]
    },
    {
     "name": "stderr",
     "output_type": "stream",
     "text": [
      "\r",
      "Eval for 100:  39%|███▉      | 39/100 [00:54<01:25,  1.41s/it]"
     ]
    },
    {
     "name": "stderr",
     "output_type": "stream",
     "text": [
      "\r",
      "Eval for 100:  40%|████      | 40/100 [00:55<01:22,  1.38s/it]"
     ]
    },
    {
     "name": "stderr",
     "output_type": "stream",
     "text": [
      "\r",
      "Eval for 100:  41%|████      | 41/100 [00:56<01:21,  1.39s/it]"
     ]
    },
    {
     "name": "stderr",
     "output_type": "stream",
     "text": [
      "\r",
      "Eval for 100:  42%|████▏     | 42/100 [00:58<01:19,  1.38s/it]"
     ]
    },
    {
     "name": "stderr",
     "output_type": "stream",
     "text": [
      "\r",
      "Eval for 100:  43%|████▎     | 43/100 [00:59<01:19,  1.39s/it]"
     ]
    },
    {
     "name": "stderr",
     "output_type": "stream",
     "text": [
      "\r",
      "Eval for 100:  44%|████▍     | 44/100 [01:01<01:17,  1.38s/it]"
     ]
    },
    {
     "name": "stderr",
     "output_type": "stream",
     "text": [
      "\r",
      "Eval for 100:  45%|████▌     | 45/100 [01:02<01:14,  1.36s/it]"
     ]
    },
    {
     "name": "stderr",
     "output_type": "stream",
     "text": [
      "\r",
      "Eval for 100:  46%|████▌     | 46/100 [01:03<01:13,  1.36s/it]"
     ]
    },
    {
     "name": "stderr",
     "output_type": "stream",
     "text": [
      "\r",
      "Eval for 100:  47%|████▋     | 47/100 [01:05<01:11,  1.35s/it]"
     ]
    },
    {
     "name": "stderr",
     "output_type": "stream",
     "text": [
      "\r",
      "Eval for 100:  48%|████▊     | 48/100 [01:06<01:11,  1.37s/it]"
     ]
    },
    {
     "name": "stderr",
     "output_type": "stream",
     "text": [
      "\r",
      "Eval for 100:  49%|████▉     | 49/100 [01:07<01:10,  1.37s/it]"
     ]
    },
    {
     "name": "stderr",
     "output_type": "stream",
     "text": [
      "\r",
      "Eval for 100:  50%|█████     | 50/100 [01:09<01:08,  1.36s/it]"
     ]
    },
    {
     "name": "stderr",
     "output_type": "stream",
     "text": [
      "\r",
      "Eval for 100:  51%|█████     | 51/100 [01:10<01:07,  1.37s/it]"
     ]
    },
    {
     "name": "stderr",
     "output_type": "stream",
     "text": [
      "\r",
      "Eval for 100:  52%|█████▏    | 52/100 [01:12<01:06,  1.39s/it]"
     ]
    },
    {
     "name": "stderr",
     "output_type": "stream",
     "text": [
      "\r",
      "Eval for 100:  53%|█████▎    | 53/100 [01:13<01:04,  1.37s/it]"
     ]
    },
    {
     "name": "stderr",
     "output_type": "stream",
     "text": [
      "\r",
      "Eval for 100:  54%|█████▍    | 54/100 [01:14<01:02,  1.35s/it]"
     ]
    },
    {
     "name": "stderr",
     "output_type": "stream",
     "text": [
      "\r",
      "Eval for 100:  55%|█████▌    | 55/100 [01:16<01:01,  1.37s/it]"
     ]
    },
    {
     "name": "stderr",
     "output_type": "stream",
     "text": [
      "\r",
      "Eval for 100:  56%|█████▌    | 56/100 [01:17<01:01,  1.39s/it]"
     ]
    },
    {
     "name": "stderr",
     "output_type": "stream",
     "text": [
      "\r",
      "Eval for 100:  57%|█████▋    | 57/100 [01:18<01:00,  1.40s/it]"
     ]
    },
    {
     "name": "stderr",
     "output_type": "stream",
     "text": [
      "\r",
      "Eval for 100:  58%|█████▊    | 58/100 [01:20<00:57,  1.38s/it]"
     ]
    },
    {
     "name": "stderr",
     "output_type": "stream",
     "text": [
      "\r",
      "Eval for 100:  59%|█████▉    | 59/100 [01:21<00:56,  1.38s/it]"
     ]
    },
    {
     "name": "stderr",
     "output_type": "stream",
     "text": [
      "\r",
      "Eval for 100:  60%|██████    | 60/100 [01:23<00:54,  1.37s/it]"
     ]
    },
    {
     "name": "stderr",
     "output_type": "stream",
     "text": [
      "\r",
      "Eval for 100:  61%|██████    | 61/100 [01:24<00:55,  1.42s/it]"
     ]
    },
    {
     "name": "stderr",
     "output_type": "stream",
     "text": [
      "\r",
      "Eval for 100:  62%|██████▏   | 62/100 [01:25<00:53,  1.40s/it]"
     ]
    },
    {
     "name": "stderr",
     "output_type": "stream",
     "text": [
      "\r",
      "Eval for 100:  63%|██████▎   | 63/100 [01:27<00:51,  1.39s/it]"
     ]
    },
    {
     "name": "stderr",
     "output_type": "stream",
     "text": [
      "\r",
      "Eval for 100:  64%|██████▍   | 64/100 [01:28<00:49,  1.38s/it]"
     ]
    },
    {
     "name": "stderr",
     "output_type": "stream",
     "text": [
      "\r",
      "Eval for 100:  65%|██████▌   | 65/100 [01:30<00:50,  1.43s/it]"
     ]
    },
    {
     "name": "stderr",
     "output_type": "stream",
     "text": [
      "\r",
      "Eval for 100:  66%|██████▌   | 66/100 [01:31<00:47,  1.40s/it]"
     ]
    },
    {
     "name": "stderr",
     "output_type": "stream",
     "text": [
      "\r",
      "Eval for 100:  67%|██████▋   | 67/100 [01:32<00:45,  1.38s/it]"
     ]
    },
    {
     "name": "stderr",
     "output_type": "stream",
     "text": [
      "\r",
      "Eval for 100:  68%|██████▊   | 68/100 [01:34<00:43,  1.36s/it]"
     ]
    },
    {
     "name": "stderr",
     "output_type": "stream",
     "text": [
      "\r",
      "Eval for 100:  69%|██████▉   | 69/100 [01:35<00:42,  1.37s/it]"
     ]
    },
    {
     "name": "stderr",
     "output_type": "stream",
     "text": [
      "\r",
      "Eval for 100:  70%|███████   | 70/100 [01:36<00:41,  1.39s/it]"
     ]
    },
    {
     "name": "stderr",
     "output_type": "stream",
     "text": [
      "\r",
      "Eval for 100:  71%|███████   | 71/100 [01:38<00:39,  1.38s/it]"
     ]
    },
    {
     "name": "stderr",
     "output_type": "stream",
     "text": [
      "\r",
      "Eval for 100:  72%|███████▏  | 72/100 [01:39<00:38,  1.36s/it]"
     ]
    },
    {
     "name": "stderr",
     "output_type": "stream",
     "text": [
      "\r",
      "Eval for 100:  73%|███████▎  | 73/100 [01:40<00:36,  1.35s/it]"
     ]
    },
    {
     "name": "stderr",
     "output_type": "stream",
     "text": [
      "\r",
      "Eval for 100:  74%|███████▍  | 74/100 [01:42<00:35,  1.38s/it]"
     ]
    },
    {
     "name": "stderr",
     "output_type": "stream",
     "text": [
      "\r",
      "Eval for 100:  75%|███████▌  | 75/100 [01:43<00:34,  1.38s/it]"
     ]
    },
    {
     "name": "stderr",
     "output_type": "stream",
     "text": [
      "\r",
      "Eval for 100:  76%|███████▌  | 76/100 [01:45<00:32,  1.37s/it]"
     ]
    },
    {
     "name": "stderr",
     "output_type": "stream",
     "text": [
      "\r",
      "Eval for 100:  77%|███████▋  | 77/100 [01:46<00:31,  1.37s/it]"
     ]
    },
    {
     "name": "stderr",
     "output_type": "stream",
     "text": [
      "\r",
      "Eval for 100:  78%|███████▊  | 78/100 [01:47<00:30,  1.39s/it]"
     ]
    },
    {
     "name": "stderr",
     "output_type": "stream",
     "text": [
      "\r",
      "Eval for 100:  79%|███████▉  | 79/100 [01:49<00:29,  1.38s/it]"
     ]
    },
    {
     "name": "stderr",
     "output_type": "stream",
     "text": [
      "\r",
      "Eval for 100:  80%|████████  | 80/100 [01:50<00:27,  1.38s/it]"
     ]
    },
    {
     "name": "stderr",
     "output_type": "stream",
     "text": [
      "\r",
      "Eval for 100:  81%|████████  | 81/100 [01:52<00:26,  1.38s/it]"
     ]
    },
    {
     "name": "stderr",
     "output_type": "stream",
     "text": [
      "\r",
      "Eval for 100:  82%|████████▏ | 82/100 [01:53<00:24,  1.38s/it]"
     ]
    },
    {
     "name": "stderr",
     "output_type": "stream",
     "text": [
      "\r",
      "Eval for 100:  83%|████████▎ | 83/100 [01:54<00:23,  1.39s/it]"
     ]
    },
    {
     "name": "stderr",
     "output_type": "stream",
     "text": [
      "\r",
      "Eval for 100:  84%|████████▍ | 84/100 [01:56<00:22,  1.40s/it]"
     ]
    },
    {
     "name": "stderr",
     "output_type": "stream",
     "text": [
      "\r",
      "Eval for 100:  85%|████████▌ | 85/100 [01:57<00:20,  1.39s/it]"
     ]
    },
    {
     "name": "stderr",
     "output_type": "stream",
     "text": [
      "\r",
      "Eval for 100:  86%|████████▌ | 86/100 [01:58<00:19,  1.37s/it]"
     ]
    },
    {
     "name": "stderr",
     "output_type": "stream",
     "text": [
      "\r",
      "Eval for 100:  87%|████████▋ | 87/100 [02:00<00:17,  1.38s/it]"
     ]
    },
    {
     "name": "stderr",
     "output_type": "stream",
     "text": [
      "\r",
      "Eval for 100:  88%|████████▊ | 88/100 [02:01<00:16,  1.37s/it]"
     ]
    },
    {
     "name": "stderr",
     "output_type": "stream",
     "text": [
      "\r",
      "Eval for 100:  89%|████████▉ | 89/100 [02:03<00:15,  1.37s/it]"
     ]
    },
    {
     "name": "stderr",
     "output_type": "stream",
     "text": [
      "\r",
      "Eval for 100:  90%|█████████ | 90/100 [02:04<00:13,  1.35s/it]"
     ]
    },
    {
     "name": "stderr",
     "output_type": "stream",
     "text": [
      "\r",
      "Eval for 100:  91%|█████████ | 91/100 [02:05<00:12,  1.36s/it]"
     ]
    },
    {
     "name": "stderr",
     "output_type": "stream",
     "text": [
      "\r",
      "Eval for 100:  92%|█████████▏| 92/100 [02:07<00:10,  1.36s/it]"
     ]
    },
    {
     "name": "stderr",
     "output_type": "stream",
     "text": [
      "\r",
      "Eval for 100:  93%|█████████▎| 93/100 [02:08<00:09,  1.35s/it]"
     ]
    },
    {
     "name": "stderr",
     "output_type": "stream",
     "text": [
      "\r",
      "Eval for 100:  94%|█████████▍| 94/100 [02:09<00:08,  1.36s/it]"
     ]
    },
    {
     "name": "stderr",
     "output_type": "stream",
     "text": [
      "\r",
      "Eval for 100:  95%|█████████▌| 95/100 [02:11<00:06,  1.35s/it]"
     ]
    },
    {
     "name": "stderr",
     "output_type": "stream",
     "text": [
      "\r",
      "Eval for 100:  96%|█████████▌| 96/100 [02:12<00:05,  1.37s/it]"
     ]
    },
    {
     "name": "stderr",
     "output_type": "stream",
     "text": [
      "\r",
      "Eval for 100:  97%|█████████▋| 97/100 [02:13<00:04,  1.36s/it]"
     ]
    },
    {
     "name": "stderr",
     "output_type": "stream",
     "text": [
      "\r",
      "Eval for 100:  98%|█████████▊| 98/100 [02:15<00:02,  1.36s/it]"
     ]
    },
    {
     "name": "stderr",
     "output_type": "stream",
     "text": [
      "\r",
      "Eval for 100:  99%|█████████▉| 99/100 [02:16<00:01,  1.36s/it]"
     ]
    },
    {
     "name": "stderr",
     "output_type": "stream",
     "text": [
      "\r",
      "Eval for 100: 100%|██████████| 100/100 [02:18<00:00,  1.39s/it]"
     ]
    },
    {
     "name": "stderr",
     "output_type": "stream",
     "text": [
      "\r",
      "Eval for 100: 100%|██████████| 100/100 [02:18<00:00,  1.38s/it]"
     ]
    },
    {
     "name": "stdout",
     "output_type": "stream",
     "text": [
      "Average Return = -0.41125306487083435, Total Return = -1.0, Sharpe = -0.866434633731842\n"
     ]
    },
    {
     "name": "stderr",
     "output_type": "stream",
     "text": [
      "\n"
     ]
    }
   ],
   "source": [
    "with strategy.scope():\n",
    "    sim.load_and_eval_policy(policy_path=MODELS_PATH)"
   ]
  },
  {
   "cell_type": "code",
   "execution_count": 14,
   "id": "f5e841d3",
   "metadata": {
    "execution": {
     "iopub.execute_input": "2024-03-15T22:25:51.811723Z",
     "iopub.status.busy": "2024-03-15T22:25:51.811331Z",
     "iopub.status.idle": "2024-03-15T22:25:51.918978Z",
     "shell.execute_reply": "2024-03-15T22:25:51.918111Z"
    },
    "papermill": {
     "duration": 0.165132,
     "end_time": "2024-03-15T22:25:51.920629",
     "exception": false,
     "start_time": "2024-03-15T22:25:51.755497",
     "status": "completed"
    },
    "tags": []
   },
   "outputs": [
    {
     "data": {
      "text/plain": [
       "{'Annualized Return': 0.40004209886900943,\n",
       " 'Annualized Vol': 0.5318522613171742,\n",
       " 'Sharpe Ratio': 0.6604225210024238,\n",
       " 'Downside Deviation': 0.34749249129017273,\n",
       " 'Sortino Ratio': 0.004011131678231568,\n",
       " 'Max Drawdown': 0.0,\n",
       " 'Max Drawdown Days': 261,\n",
       " 'Trade Churn': 0.0,\n",
       " 'Skewness': 0.7504050664815642,\n",
       " 'Kurtosis': 5.422313658121823}"
      ]
     },
     "execution_count": 14,
     "metadata": {},
     "output_type": "execute_result"
    }
   ],
   "source": [
    "test_env.get_trade_stats()"
   ]
  },
  {
   "cell_type": "markdown",
   "id": "3f8d10d7",
   "metadata": {
    "papermill": {
     "duration": 0.053799,
     "end_time": "2024-03-15T22:25:52.028438",
     "exception": false,
     "start_time": "2024-03-15T22:25:51.974639",
     "status": "completed"
    },
    "tags": []
   },
   "source": [
    "# Metrics\n",
    "\n",
    "Compared the the paper's benchmarks and their TQDM architecture, we did better with our Tensorflow setup and architecture (we took a guess at some hyper params), with the exception of the Sortino ratio:\n",
    "\n",
    "| Metric                 | Ours                   | B&H               | S&H              | TF                | MR               | TDQN             | \n",
    "|------------------------|------------------------|-------------------|------------------|-------------------|------------------|------------------|\n",
    "| Annualized Return      | 41.58%                 | 24.11%            | -7.38%           | -100.00%          | 19.02%           | 12.80%           | \n",
    "| Annualized Vol         | 52.65%                 | 53.14%            | 46.11%           | 52.70%            | 58.05%           | 52.09%           | \n",
    "| Sharpe Ratio           | 0.697                  | 0.508             | -0.154           | -0.987            | 0.358            | 0.261            | \n",
    "| Sortino Ratio          | 0.0042                 | 0.741             | -0.205           | -1.229            | 0.539            | 0.359            | \n",
    "| Max Drawdown           | 0.00%                  | 52.83%            | 54.09%           | 79.91%            | 65.31%           | 58.95%           | \n",
    "| Max Drawdown Days      | 261                    | 205               | 144              | 229               | 159              | 331              | \n",
    "| Trade Churn            | 0.00%                  | -                 | -                | -                 | -                | -                | \n",
    "| Skewness               | 0.719                  | -                 | -                | -                 | -                | -                | \n",
    "| Kurtosis               | 5.448                  | -                 | -                | -                 | -                | -                | \n"
   ]
  },
  {
   "cell_type": "code",
   "execution_count": 15,
   "id": "8831d630",
   "metadata": {
    "execution": {
     "iopub.execute_input": "2024-03-15T22:25:52.140924Z",
     "iopub.status.busy": "2024-03-15T22:25:52.140557Z",
     "iopub.status.idle": "2024-03-15T22:25:57.184289Z",
     "shell.execute_reply": "2024-03-15T22:25:57.183332Z"
    },
    "executionInfo": {
     "elapsed": 6,
     "status": "aborted",
     "timestamp": 1710411543206,
     "user": {
      "displayName": "Adam Darmanin",
      "userId": "00262451996831505471"
     },
     "user_tz": -60
    },
    "id": "fYL1ny9Etuu8",
    "papermill": {
     "duration": 5.105707,
     "end_time": "2024-03-15T22:25:57.187696",
     "exception": false,
     "start_time": "2024-03-15T22:25:52.081989",
     "status": "completed"
    },
    "tags": []
   },
   "outputs": [
    {
     "name": "stdout",
     "output_type": "stream",
     "text": [
      "Live episode started...\n"
     ]
    },
    {
     "name": "stderr",
     "output_type": "stream",
     "text": [
      "\r",
      "Steps executed: 0it [00:00, ?it/s]"
     ]
    },
    {
     "name": "stderr",
     "output_type": "stream",
     "text": [
      "\r",
      "Steps executed: 9it [00:00, 88.33it/s]"
     ]
    },
    {
     "name": "stderr",
     "output_type": "stream",
     "text": [
      "\r",
      "Steps executed: 31it [00:00, 162.63it/s]"
     ]
    },
    {
     "name": "stderr",
     "output_type": "stream",
     "text": [
      "\r",
      "Steps executed: 52it [00:00, 181.79it/s]"
     ]
    },
    {
     "name": "stderr",
     "output_type": "stream",
     "text": [
      "\r",
      "Steps executed: 74it [00:00, 195.59it/s]"
     ]
    },
    {
     "name": "stderr",
     "output_type": "stream",
     "text": [
      "\r",
      "Steps executed: 96it [00:00, 203.67it/s]"
     ]
    },
    {
     "name": "stderr",
     "output_type": "stream",
     "text": [
      "\r",
      "Steps executed: 120it [00:00, 213.94it/s]"
     ]
    },
    {
     "name": "stderr",
     "output_type": "stream",
     "text": [
      "\r",
      "Steps executed: 145it [00:00, 222.86it/s]"
     ]
    },
    {
     "name": "stderr",
     "output_type": "stream",
     "text": [
      "\r",
      "Steps executed: 170it [00:00, 228.82it/s]"
     ]
    },
    {
     "name": "stderr",
     "output_type": "stream",
     "text": [
      "\r",
      "Steps executed: 194it [00:00, 231.48it/s]"
     ]
    },
    {
     "name": "stderr",
     "output_type": "stream",
     "text": [
      "\r",
      "Steps executed: 218it [00:01, 232.95it/s]"
     ]
    },
    {
     "name": "stderr",
     "output_type": "stream",
     "text": [
      "\r",
      "Steps executed: 242it [00:01, 232.73it/s]"
     ]
    },
    {
     "name": "stderr",
     "output_type": "stream",
     "text": [
      "\r",
      "Steps executed: 267it [00:01, 235.34it/s]"
     ]
    },
    {
     "name": "stderr",
     "output_type": "stream",
     "text": [
      "\r",
      "Steps executed: 292it [00:01, 237.40it/s]"
     ]
    },
    {
     "name": "stderr",
     "output_type": "stream",
     "text": [
      "\r",
      "Steps executed: 317it [00:01, 238.22it/s]"
     ]
    },
    {
     "name": "stderr",
     "output_type": "stream",
     "text": [
      "\r",
      "Steps executed: 342it [00:01, 239.10it/s]"
     ]
    },
    {
     "name": "stderr",
     "output_type": "stream",
     "text": [
      "\r",
      "Steps executed: 366it [00:01, 239.26it/s]"
     ]
    },
    {
     "name": "stderr",
     "output_type": "stream",
     "text": [
      "\r",
      "Steps executed: 390it [00:01, 239.31it/s]"
     ]
    },
    {
     "name": "stderr",
     "output_type": "stream",
     "text": [
      "\r",
      "Steps executed: 415it [00:01, 240.21it/s]"
     ]
    },
    {
     "name": "stderr",
     "output_type": "stream",
     "text": [
      "\r",
      "Steps executed: 440it [00:01, 240.62it/s]"
     ]
    },
    {
     "name": "stderr",
     "output_type": "stream",
     "text": [
      "\r",
      "Steps executed: 465it [00:02, 238.10it/s]"
     ]
    },
    {
     "name": "stderr",
     "output_type": "stream",
     "text": [
      "\r",
      "Steps executed: 471it [00:02, 226.43it/s]"
     ]
    },
    {
     "name": "stderr",
     "output_type": "stream",
     "text": [
      "\n"
     ]
    },
    {
     "name": "stdout",
     "output_type": "stream",
     "text": [
      "...Live episode finished\n"
     ]
    },
    {
     "data": {
      "image/png": "[encoded data removed]",
      "text/plain": [
       "<Figure size 1800x1200 with 4 Axes>"
      ]
     },
     "metadata": {},
     "output_type": "display_data"
    }
   ],
   "source": [
    "data = sim.plot_returns_and_actions()"
   ]
  },
  {
   "cell_type": "code",
   "execution_count": 16,
   "id": "7be735f6",
   "metadata": {
    "execution": {
     "iopub.execute_input": "2024-03-15T22:25:57.316593Z",
     "iopub.status.busy": "2024-03-15T22:25:57.316137Z",
     "iopub.status.idle": "2024-03-15T22:25:57.341774Z",
     "shell.execute_reply": "2024-03-15T22:25:57.340970Z"
    },
    "papermill": {
     "duration": 0.089141,
     "end_time": "2024-03-15T22:25:57.343462",
     "exception": false,
     "start_time": "2024-03-15T22:25:57.254321",
     "status": "completed"
    },
    "tags": []
   },
   "outputs": [
    {
     "data": {
      "text/html": [
       "<div>\n",
       "<style scoped>\n",
       "    .dataframe tbody tr th:only-of-type {\n",
       "        vertical-align: middle;\n",
       "    }\n",
       "\n",
       "    .dataframe tbody tr th {\n",
       "        vertical-align: top;\n",
       "    }\n",
       "\n",
       "    .dataframe thead th {\n",
       "        text-align: right;\n",
       "    }\n",
       "</style>\n",
       "<table border=\"1\" class=\"dataframe\">\n",
       "  <thead>\n",
       "    <tr style=\"text-align: right;\">\n",
       "      <th></th>\n",
       "      <th>Open</th>\n",
       "      <th>High</th>\n",
       "      <th>Low</th>\n",
       "      <th>Close</th>\n",
       "      <th>Adj Close</th>\n",
       "      <th>Volume</th>\n",
       "      <th>MACD</th>\n",
       "      <th>MACD_HIST</th>\n",
       "      <th>MACD_SIG</th>\n",
       "      <th>ATR</th>\n",
       "      <th>...</th>\n",
       "      <th>Sharpe</th>\n",
       "      <th>Position</th>\n",
       "      <th>Action</th>\n",
       "      <th>Holdings</th>\n",
       "      <th>Cash</th>\n",
       "      <th>Money</th>\n",
       "      <th>Returns</th>\n",
       "      <th>Reward</th>\n",
       "      <th>Cumulative_Returns</th>\n",
       "      <th>Rewards</th>\n",
       "    </tr>\n",
       "    <tr>\n",
       "      <th>Date</th>\n",
       "      <th></th>\n",
       "      <th></th>\n",
       "      <th></th>\n",
       "      <th></th>\n",
       "      <th></th>\n",
       "      <th></th>\n",
       "      <th></th>\n",
       "      <th></th>\n",
       "      <th></th>\n",
       "      <th></th>\n",
       "      <th></th>\n",
       "      <th></th>\n",
       "      <th></th>\n",
       "      <th></th>\n",
       "      <th></th>\n",
       "      <th></th>\n",
       "      <th></th>\n",
       "      <th></th>\n",
       "      <th></th>\n",
       "      <th></th>\n",
       "      <th></th>\n",
       "    </tr>\n",
       "  </thead>\n",
       "  <tbody>\n",
       "    <tr>\n",
       "      <th>2018-01-02</th>\n",
       "      <td>0.515557</td>\n",
       "      <td>0.544705</td>\n",
       "      <td>0.537416</td>\n",
       "      <td>0.561813</td>\n",
       "      <td>21.368668</td>\n",
       "      <td>0.060499</td>\n",
       "      <td>-0.040477</td>\n",
       "      <td>-0.119077</td>\n",
       "      <td>0.078601</td>\n",
       "      <td>0.582232</td>\n",
       "      <td>...</td>\n",
       "      <td>0.0</td>\n",
       "      <td>0</td>\n",
       "      <td>2</td>\n",
       "      <td>0.000000</td>\n",
       "      <td>100000.000000</td>\n",
       "      <td>100000.000000</td>\n",
       "      <td>0.000000</td>\n",
       "      <td>0.000000</td>\n",
       "      <td>0.000000</td>\n",
       "      <td>0.000000</td>\n",
       "    </tr>\n",
       "    <tr>\n",
       "      <th>2018-01-03</th>\n",
       "      <td>0.551004</td>\n",
       "      <td>0.557334</td>\n",
       "      <td>0.555663</td>\n",
       "      <td>0.548796</td>\n",
       "      <td>21.150000</td>\n",
       "      <td>0.065928</td>\n",
       "      <td>-0.058835</td>\n",
       "      <td>-0.109949</td>\n",
       "      <td>0.051113</td>\n",
       "      <td>0.586834</td>\n",
       "      <td>...</td>\n",
       "      <td>0.0</td>\n",
       "      <td>0</td>\n",
       "      <td>2</td>\n",
       "      <td>0.000000</td>\n",
       "      <td>100000.000000</td>\n",
       "      <td>100000.000000</td>\n",
       "      <td>0.000000</td>\n",
       "      <td>0.000000</td>\n",
       "      <td>0.000000</td>\n",
       "      <td>0.000000</td>\n",
       "    </tr>\n",
       "    <tr>\n",
       "      <th>2018-01-04</th>\n",
       "      <td>0.518984</td>\n",
       "      <td>0.530387</td>\n",
       "      <td>0.516081</td>\n",
       "      <td>0.538358</td>\n",
       "      <td>20.974667</td>\n",
       "      <td>0.239888</td>\n",
       "      <td>-0.086535</td>\n",
       "      <td>-0.110118</td>\n",
       "      <td>0.023584</td>\n",
       "      <td>0.606203</td>\n",
       "      <td>...</td>\n",
       "      <td>0.0</td>\n",
       "      <td>0</td>\n",
       "      <td>2</td>\n",
       "      <td>0.000000</td>\n",
       "      <td>100000.000000</td>\n",
       "      <td>100000.000000</td>\n",
       "      <td>0.000000</td>\n",
       "      <td>0.000000</td>\n",
       "      <td>0.000000</td>\n",
       "      <td>0.000000</td>\n",
       "    </tr>\n",
       "    <tr>\n",
       "      <th>2018-01-05</th>\n",
       "      <td>0.533753</td>\n",
       "      <td>0.525118</td>\n",
       "      <td>0.541426</td>\n",
       "      <td>0.546136</td>\n",
       "      <td>21.105333</td>\n",
       "      <td>0.068163</td>\n",
       "      <td>-0.096827</td>\n",
       "      <td>-0.096328</td>\n",
       "      <td>-0.000498</td>\n",
       "      <td>0.587855</td>\n",
       "      <td>...</td>\n",
       "      <td>0.0</td>\n",
       "      <td>0</td>\n",
       "      <td>2</td>\n",
       "      <td>0.000000</td>\n",
       "      <td>100000.000000</td>\n",
       "      <td>100000.000000</td>\n",
       "      <td>0.000000</td>\n",
       "      <td>0.000000</td>\n",
       "      <td>0.000000</td>\n",
       "      <td>0.000000</td>\n",
       "    </tr>\n",
       "    <tr>\n",
       "      <th>2018-01-08</th>\n",
       "      <td>0.531312</td>\n",
       "      <td>0.604674</td>\n",
       "      <td>0.555462</td>\n",
       "      <td>0.624836</td>\n",
       "      <td>22.427334</td>\n",
       "      <td>0.237102</td>\n",
       "      <td>0.001672</td>\n",
       "      <td>0.001736</td>\n",
       "      <td>-0.000064</td>\n",
       "      <td>0.648342</td>\n",
       "      <td>...</td>\n",
       "      <td>0.0</td>\n",
       "      <td>0</td>\n",
       "      <td>2</td>\n",
       "      <td>0.000000</td>\n",
       "      <td>100000.000000</td>\n",
       "      <td>100000.000000</td>\n",
       "      <td>0.000000</td>\n",
       "      <td>0.000000</td>\n",
       "      <td>0.000000</td>\n",
       "      <td>0.000000</td>\n",
       "    </tr>\n",
       "    <tr>\n",
       "      <th>...</th>\n",
       "      <td>...</td>\n",
       "      <td>...</td>\n",
       "      <td>...</td>\n",
       "      <td>...</td>\n",
       "      <td>...</td>\n",
       "      <td>...</td>\n",
       "      <td>...</td>\n",
       "      <td>...</td>\n",
       "      <td>...</td>\n",
       "      <td>...</td>\n",
       "      <td>...</td>\n",
       "      <td>...</td>\n",
       "      <td>...</td>\n",
       "      <td>...</td>\n",
       "      <td>...</td>\n",
       "      <td>...</td>\n",
       "      <td>...</td>\n",
       "      <td>...</td>\n",
       "      <td>...</td>\n",
       "      <td>...</td>\n",
       "      <td>...</td>\n",
       "    </tr>\n",
       "    <tr>\n",
       "      <th>2019-12-23</th>\n",
       "      <td>0.908547</td>\n",
       "      <td>0.946507</td>\n",
       "      <td>0.934432</td>\n",
       "      <td>0.953487</td>\n",
       "      <td>27.948000</td>\n",
       "      <td>0.348062</td>\n",
       "      <td>1.430910</td>\n",
       "      <td>0.395042</td>\n",
       "      <td>1.035868</td>\n",
       "      <td>0.775349</td>\n",
       "      <td>...</td>\n",
       "      <td>0.0</td>\n",
       "      <td>1</td>\n",
       "      <td>2</td>\n",
       "      <td>169923.839722</td>\n",
       "      <td>13.251076</td>\n",
       "      <td>169937.090797</td>\n",
       "      <td>0.033603</td>\n",
       "      <td>0.033603</td>\n",
       "      <td>0.699371</td>\n",
       "      <td>0.033603</td>\n",
       "    </tr>\n",
       "    <tr>\n",
       "      <th>2019-12-24</th>\n",
       "      <td>0.934462</td>\n",
       "      <td>0.960423</td>\n",
       "      <td>0.945220</td>\n",
       "      <td>0.977418</td>\n",
       "      <td>28.350000</td>\n",
       "      <td>0.179229</td>\n",
       "      <td>1.562356</td>\n",
       "      <td>0.421191</td>\n",
       "      <td>1.141165</td>\n",
       "      <td>0.780824</td>\n",
       "      <td>...</td>\n",
       "      <td>0.0</td>\n",
       "      <td>1</td>\n",
       "      <td>2</td>\n",
       "      <td>172368.002319</td>\n",
       "      <td>13.251076</td>\n",
       "      <td>172381.253395</td>\n",
       "      <td>0.014383</td>\n",
       "      <td>0.014383</td>\n",
       "      <td>0.723813</td>\n",
       "      <td>0.014383</td>\n",
       "    </tr>\n",
       "    <tr>\n",
       "      <th>2019-12-26</th>\n",
       "      <td>0.972076</td>\n",
       "      <td>0.992640</td>\n",
       "      <td>1.000000</td>\n",
       "      <td>1.000000</td>\n",
       "      <td>28.729334</td>\n",
       "      <td>0.261938</td>\n",
       "      <td>1.677797</td>\n",
       "      <td>0.429305</td>\n",
       "      <td>1.248492</td>\n",
       "      <td>0.764242</td>\n",
       "      <td>...</td>\n",
       "      <td>0.0</td>\n",
       "      <td>1</td>\n",
       "      <td>2</td>\n",
       "      <td>174674.349976</td>\n",
       "      <td>13.251076</td>\n",
       "      <td>174687.601051</td>\n",
       "      <td>0.013379</td>\n",
       "      <td>0.013379</td>\n",
       "      <td>0.746876</td>\n",
       "      <td>0.013379</td>\n",
       "    </tr>\n",
       "    <tr>\n",
       "      <th>2019-12-27</th>\n",
       "      <td>1.000000</td>\n",
       "      <td>1.000000</td>\n",
       "      <td>0.999038</td>\n",
       "      <td>0.997777</td>\n",
       "      <td>28.691999</td>\n",
       "      <td>0.239869</td>\n",
       "      <td>1.746143</td>\n",
       "      <td>0.398121</td>\n",
       "      <td>1.348022</td>\n",
       "      <td>0.753462</td>\n",
       "      <td>...</td>\n",
       "      <td>0.0</td>\n",
       "      <td>1</td>\n",
       "      <td>2</td>\n",
       "      <td>174447.356567</td>\n",
       "      <td>13.251076</td>\n",
       "      <td>174460.607643</td>\n",
       "      <td>-0.001299</td>\n",
       "      <td>-0.162428</td>\n",
       "      <td>0.744606</td>\n",
       "      <td>-0.001299</td>\n",
       "    </tr>\n",
       "    <tr>\n",
       "      <th>2019-12-30</th>\n",
       "      <td>0.975542</td>\n",
       "      <td>0.974621</td>\n",
       "      <td>0.931465</td>\n",
       "      <td>0.935548</td>\n",
       "      <td>27.646667</td>\n",
       "      <td>0.324550</td>\n",
       "      <td>1.696403</td>\n",
       "      <td>0.278705</td>\n",
       "      <td>1.417698</td>\n",
       "      <td>0.800215</td>\n",
       "      <td>...</td>\n",
       "      <td>0.0</td>\n",
       "      <td>1</td>\n",
       "      <td>2</td>\n",
       "      <td>168091.738281</td>\n",
       "      <td>13.251076</td>\n",
       "      <td>168104.989357</td>\n",
       "      <td>-0.036430</td>\n",
       "      <td>-1.000000</td>\n",
       "      <td>0.681050</td>\n",
       "      <td>-0.036430</td>\n",
       "    </tr>\n",
       "  </tbody>\n",
       "</table>\n",
       "<p>502 rows × 26 columns</p>\n",
       "</div>"
      ],
      "text/plain": [
       "                Open      High       Low     Close  Adj Close    Volume  \\\n",
       "Date                                                                      \n",
       "2018-01-02  0.515557  0.544705  0.537416  0.561813  21.368668  0.060499   \n",
       "2018-01-03  0.551004  0.557334  0.555663  0.548796  21.150000  0.065928   \n",
       "2018-01-04  0.518984  0.530387  0.516081  0.538358  20.974667  0.239888   \n",
       "2018-01-05  0.533753  0.525118  0.541426  0.546136  21.105333  0.068163   \n",
       "2018-01-08  0.531312  0.604674  0.555462  0.624836  22.427334  0.237102   \n",
       "...              ...       ...       ...       ...        ...       ...   \n",
       "2019-12-23  0.908547  0.946507  0.934432  0.953487  27.948000  0.348062   \n",
       "2019-12-24  0.934462  0.960423  0.945220  0.977418  28.350000  0.179229   \n",
       "2019-12-26  0.972076  0.992640  1.000000  1.000000  28.729334  0.261938   \n",
       "2019-12-27  1.000000  1.000000  0.999038  0.997777  28.691999  0.239869   \n",
       "2019-12-30  0.975542  0.974621  0.931465  0.935548  27.646667  0.324550   \n",
       "\n",
       "                MACD  MACD_HIST  MACD_SIG       ATR  ...  Sharpe  Position  \\\n",
       "Date                                                 ...                     \n",
       "2018-01-02 -0.040477  -0.119077  0.078601  0.582232  ...     0.0         0   \n",
       "2018-01-03 -0.058835  -0.109949  0.051113  0.586834  ...     0.0         0   \n",
       "2018-01-04 -0.086535  -0.110118  0.023584  0.606203  ...     0.0         0   \n",
       "2018-01-05 -0.096827  -0.096328 -0.000498  0.587855  ...     0.0         0   \n",
       "2018-01-08  0.001672   0.001736 -0.000064  0.648342  ...     0.0         0   \n",
       "...              ...        ...       ...       ...  ...     ...       ...   \n",
       "2019-12-23  1.430910   0.395042  1.035868  0.775349  ...     0.0         1   \n",
       "2019-12-24  1.562356   0.421191  1.141165  0.780824  ...     0.0         1   \n",
       "2019-12-26  1.677797   0.429305  1.248492  0.764242  ...     0.0         1   \n",
       "2019-12-27  1.746143   0.398121  1.348022  0.753462  ...     0.0         1   \n",
       "2019-12-30  1.696403   0.278705  1.417698  0.800215  ...     0.0         1   \n",
       "\n",
       "            Action       Holdings           Cash          Money   Returns  \\\n",
       "Date                                                                        \n",
       "2018-01-02       2       0.000000  100000.000000  100000.000000  0.000000   \n",
       "2018-01-03       2       0.000000  100000.000000  100000.000000  0.000000   \n",
       "2018-01-04       2       0.000000  100000.000000  100000.000000  0.000000   \n",
       "2018-01-05       2       0.000000  100000.000000  100000.000000  0.000000   \n",
       "2018-01-08       2       0.000000  100000.000000  100000.000000  0.000000   \n",
       "...            ...            ...            ...            ...       ...   \n",
       "2019-12-23       2  169923.839722      13.251076  169937.090797  0.033603   \n",
       "2019-12-24       2  172368.002319      13.251076  172381.253395  0.014383   \n",
       "2019-12-26       2  174674.349976      13.251076  174687.601051  0.013379   \n",
       "2019-12-27       2  174447.356567      13.251076  174460.607643 -0.001299   \n",
       "2019-12-30       2  168091.738281      13.251076  168104.989357 -0.036430   \n",
       "\n",
       "              Reward  Cumulative_Returns   Rewards  \n",
       "Date                                                \n",
       "2018-01-02  0.000000            0.000000  0.000000  \n",
       "2018-01-03  0.000000            0.000000  0.000000  \n",
       "2018-01-04  0.000000            0.000000  0.000000  \n",
       "2018-01-05  0.000000            0.000000  0.000000  \n",
       "2018-01-08  0.000000            0.000000  0.000000  \n",
       "...              ...                 ...       ...  \n",
       "2019-12-23  0.033603            0.699371  0.033603  \n",
       "2019-12-24  0.014383            0.723813  0.014383  \n",
       "2019-12-26  0.013379            0.746876  0.013379  \n",
       "2019-12-27 -0.162428            0.744606 -0.001299  \n",
       "2019-12-30 -1.000000            0.681050 -0.036430  \n",
       "\n",
       "[502 rows x 26 columns]"
      ]
     },
     "execution_count": 16,
     "metadata": {},
     "output_type": "execute_result"
    }
   ],
   "source": [
    "data"
   ]
  },
  {
   "cell_type": "markdown",
   "id": "b000302c",
   "metadata": {
    "papermill": {
     "duration": 0.063739,
     "end_time": "2024-03-15T22:25:57.466343",
     "exception": false,
     "start_time": "2024-03-15T22:25:57.402604",
     "status": "completed"
    },
    "tags": []
   },
   "source": [
    "# Results with Experiments\n",
    "\n",
    "| Metric                 | Ours - Base            | Experiment 1         | Experiment 2         | Experiment 3         | B&H               | S&H              | TF                | MR               | TDQN             | \n",
    "|------------------------|------------------------|----------------------|----------------------|----------------------|-------------------|------------------|-------------------|------------------|------------------|\n",
    "| Annualized Return      | 41.58%                 | 27.96%               | -10.35%              | 67.92%               | 24.11%            | -7.38%           | -100.00%          | 19.02%           | 12.80%           | \n",
    "| Annualized Vol         | 52.65%                 | 53.11%               | 51.86%               | 52.11%               | 53.14%            | 46.11%           | 52.70%            | 58.05%           | 52.09%           | \n",
    "| Sharpe Ratio           | 0.697                  | 0.434                | -0.294               | 1.210                | 0.508             | -0.154           | -0.987            | 0.358            | 0.261            | \n",
    "| Sortino Ratio          | 0.0042                 | 0.0025               | -0.0016              | 0.0071               | 0.741             | -0.205           | -1.229            | 0.539            | 0.359            | \n",
    "| Max Drawdown           | 0.00%                  | 0.00%                | 0.00%                | 0.00%                | 52.83%            | 54.09%           | 79.91%            | 65.31%           | 58.95%           | \n",
    "| Max Drawdown Days      | 261                    | 361                  | 518                  | 238                  | 205               | 144              | 229               | 159              | 331              | \n",
    "| Trade Churn            | 0.00%                  | 0.00%                | 0.00%                | 0.00%                | -                 | -                | -                 | -                | -                | \n",
    "| Skewness               | 0.719                  | 0.567                | 0.208                | 0.539                | -                 | -                | -                 | -                | -                | \n",
    "| Kurtosis               | 5.448                  | 5.433                | 5.391                | 5.349                | -                 | -                | -                 | -                | -                | \n"
   ]
  },
  {
   "cell_type": "markdown",
   "id": "bf5a7af5",
   "metadata": {
    "id": "pTeb9dL6H0Cu",
    "papermill": {
     "duration": 0.064954,
     "end_time": "2024-03-15T22:25:57.597140",
     "exception": false,
     "start_time": "2024-03-15T22:25:57.532186",
     "status": "completed"
    },
    "tags": []
   },
   "source": [
    "# Conclusion\n",
    "\n",
    "In this article we have adapted Deep Q-Network (TDQN) algorithm from *Théate, Thibaut and Ernst, Damien (2021)*, using our signals and Tensorflow's Agent framework. Our agent can now determine optimal trading positions (buy, sell, or hold) to maximize our portfolio returns in a simulated environment."
   ]
  },
  {
   "cell_type": "markdown",
   "id": "eebc6426",
   "metadata": {
    "id": "bBrMDUgZH0Cv",
    "papermill": {
     "duration": 0.058743,
     "end_time": "2024-03-15T22:25:57.718036",
     "exception": false,
     "start_time": "2024-03-15T22:25:57.659293",
     "status": "completed"
    },
    "tags": []
   },
   "source": [
    "## References\n",
    "\n",
    "- [A Random Walk Down Wall Street](https://www.amazon.co.uk/Random-Walk-Down-Wall-Street/dp/0393330338)\n",
    "- [TensorFlow Agents](https://www.tensorflow.org/agents/overview)\n",
    "- [Open Gym AI Github](https://github.com/openai/gym)\n",
    "- [Greg et al, OpenAI Gym, (2016)](https://arxiv.org/abs/1606.01540)\n",
    "- [Théate, Thibaut, and Damien Ernst. \"An application of deep reinforcement learning to algorithmic trading.\" Expert Systems with Applications 173 (2021): 114632.](https://www.sciencedirect.com/science/article/pii/S0957417421000737)\n",
    "- [Remote development in WSL](https://code.visualstudio.com/docs/remote/wsl-tutorial)\n",
    "- [NVIDIA Driver Downloads](https://www.nvidia.com/Download/index.aspx)\n",
    "- [CUDA Toolkit](https://developer.nvidia.com/cuda-toolkit-archive)\n",
    "- [TensorRT for CUDA](https://docs.nvidia.com/deeplearning/tensorrt/archives/index.html#trt_7)\n",
    "- [Momentum and Reversion Trading Signals Analysis](https://medium.com/call-for-atlas/momentum-and-reversion-the-poor-mans-trading-strategies-9b8e1e6d3496)\n",
    "- [Temporal Convolutional Neural Network with Conditioning for Broad Market Signals](https://medium.com/call-for-atlas/temporal-convolutional-neural-network-with-conditioning-for-broad-market-signals-9f0b0426b2b9)\n",
    "- [Pandas TA - A Technical Analysis Library in Python 3](https://github.com/twopirllc/pandas-ta)"
   ]
  },
  {
   "cell_type": "markdown",
   "id": "3e861cb8",
   "metadata": {
    "id": "kIgjl92lH0Cv",
    "papermill": {
     "duration": 0.057931,
     "end_time": "2024-03-15T22:25:57.834021",
     "exception": false,
     "start_time": "2024-03-15T22:25:57.776090",
     "status": "completed"
    },
    "tags": []
   },
   "source": [
    "## Github\n",
    "\n",
    "Article and code available on [Github](https://github.com/adamd1985/Deep-Q-Learning-Applied-to-Algorithmic-Trading)\n",
    "\n",
    "Kaggle notebook available [here](https://www.kaggle.com/code/addarm/deep-q-rl-with-algorithmic-trading-policy)\n",
    "\n",
    "Google Collab available [here](https://colab.research.google.com/drive/1FTj65b2DA8oFgvmmjLc0XIwtII32PwcM?usp=sharing)\n",
    "\n",
    "## Media\n",
    "\n",
    "All media used (in the form of code or images) are either solely owned by me, acquired through licensing, or part of the Public Domain and granted use through Creative Commons License.\n",
    "\n",
    "## CC Licensing and Use\n",
    "\n",
    "<a rel=\"license\" href=\"http://creativecommons.org/licenses/by-nc/4.0/\"><img alt=\"Creative Commons License\" style=\"border-width:0\" src=\"https://i.creativecommons.org/l/by-nc/4.0/88x31.png\" /></a><br />This work is licensed under a <a rel=\"license\" href=\"http://creativecommons.org/licenses/by-nc/4.0/\">Creative Commons Attribution-NonCommercial 4.0 International License</a>."
   ]
  }
 ],
 "metadata": {
  "accelerator": "GPU",
  "colab": {
   "gpuType": "T4",
   "provenance": []
  },
  "kaggle": {
   "accelerator": "tpu1vmV38",
   "dataSources": [],
   "dockerImageVersionId": 30664,
   "isGpuEnabled": false,
   "isInternetEnabled": true,
   "language": "python",
   "sourceType": "notebook"
  },
  "kernelspec": {
   "display_name": "Python 3",
   "name": "python3"
  },
  "language_info": {
   "codemirror_mode": {
    "name": "ipython",
    "version": 3
   },
   "file_extension": ".py",
   "mimetype": "text/x-python",
   "name": "python",
   "nbconvert_exporter": "python",
   "pygments_lexer": "ipython3",
   "version": "3.10.13"
  },
  "papermill": {
   "default_parameters": {},
   "duration": 603.250195,
   "end_time": "2024-03-15T22:26:05.337930",
   "environment_variables": {},
   "exception": null,
   "input_path": "__notebook__.ipynb",
   "output_path": "__notebook__.ipynb",
   "parameters": {},
   "start_time": "2024-03-15T22:16:02.087735",
   "version": "2.5.0"
  }
 },
 "nbformat": 4,
 "nbformat_minor": 5
}
