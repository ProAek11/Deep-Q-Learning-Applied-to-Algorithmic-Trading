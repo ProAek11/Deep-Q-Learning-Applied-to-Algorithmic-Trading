{
 "cells": [
  {
   "cell_type": "markdown",
   "id": "5de0edbe",
   "metadata": {
    "id": "oaDoHbxVH0CW",
    "papermill": {
     "duration": 0.008382,
     "end_time": "2024-03-16T01:38:43.437674",
     "exception": false,
     "start_time": "2024-03-16T01:38:43.429292",
     "status": "completed"
    },
    "tags": []
   },
   "source": [
    "# Deep Q-Learning Applied to Algorithmic Trading\n",
    "\n",
    "<a href=\"https://www.kaggle.com/code/addarm/deep-q-rl-with-algorithmic-trading-policy\" target=\"_blank\"><img align=\"left\" alt=\"Kaggle\" title=\"Open in Kaggle\" src=\"https://kaggle.com/static/images/open-in-kaggle.svg\"></a>\n",
    "\n",
    "\n",
    "<a href=\"https://colab.research.google.com/drive/1FTj65b2DA8oFgvmmjLc0XIwtII32PwcM?usp=sharing\" target=\"_parent\"><img src=\"https://colab.research.google.com/assets/colab-badge.svg\" alt=\"Open In Colab\"/></a>\n"
   ]
  },
  {
   "cell_type": "markdown",
   "id": "199f1474",
   "metadata": {
    "id": "fopVWzH_sxr-",
    "papermill": {
     "duration": 0.007444,
     "end_time": "2024-03-16T01:38:43.453572",
     "exception": false,
     "start_time": "2024-03-16T01:38:43.446128",
     "status": "completed"
    },
    "tags": []
   },
   "source": [
    "![\"Pavlov's trader dog, DALEE 2024\"](https://github.com/adamd1985/Deep-Q-Learning-Applied-to-Algorithmic-Trading/blob/main/images/rl_banner.PNG?raw=true)"
   ]
  },
  {
   "cell_type": "markdown",
   "id": "082b72d3",
   "metadata": {
    "id": "xqvaSLkfsxr-",
    "papermill": {
     "duration": 0.007632,
     "end_time": "2024-03-16T01:38:43.468164",
     "exception": false,
     "start_time": "2024-03-16T01:38:43.460532",
     "status": "completed"
    },
    "tags": []
   },
   "source": [
    "In the book *\"A Random Walk Down Wall Street\"*, the author Burton G. Malkiel claimed that: “a blindfolded monkey throwing darts at a newspaper's financial pages could select a portfolio that would do just as well as one carefully selected by experts.”.\n",
    "\n",
    "What if instead of monkey, it was Pavlov's dog trained with reinforcement learning to select the optimal portfolio strategy? In this article, Reinforcement Learning (RL) is the one used in machine learning, where an agent learns actions in an environment that maximizes their value. The agent learns from the outcomes of its actions, without being explicitly programmed with task-specific rules,\n",
    "\n",
    "The goal of any RL algo, is to find value-maximizing policy (*π*):\n",
    "$$\n",
    "\\pi* = \\sum_{k=0}^{\\infty} \\gamma^k R_{t+k+1}\n",
    "$$\n",
    "Where *γ (0 ≤ γ ≤ 1)* is the discounting factor to control the agent's rewards, *t* is a timestep and *R* is the returns in that step. The policy in RL is the probability of taking **action *a*** in **state *s***.\n",
    "\n",
    "The algo we will adopt is **Q-Learning**, a model-free RL algorithm, that aims to indirectly learn the policy through the **VALUE** of an action for a discrete state its in, rather the policy itself. It's useful in our case, as it doesn't need to model the environment - in our case, the random capital markets.\n",
    "\n",
    "Estimating the **Q-Value** is done through the Bellman's equation:\n",
    "\n",
    "$$\n",
    "Q^*(s, a) = \\mathbb{E}[R_{t+1} + \\gamma \\max_{a'} Q^*(s', a') \\mid s, a]\n",
    "$$\n",
    "\n",
    "These Q-values are placed in the Q-Tables and used by the agent as look-up, to find all possible actions' Q-values from the current state, and choose the action with the highest Q-value (exploitation). This is good within a finite space, but not in a stochastic environment with limitless combinations, a problem which we will solve with our neural-network.\n",
    "\n",
    "This agent designed in this article has been inspired by the paper of *Théate, Thibaut and Ernst, Damien (2021)*."
   ]
  },
  {
   "cell_type": "markdown",
   "id": "972a0647",
   "metadata": {
    "id": "aM59cTClH0CZ",
    "papermill": {
     "duration": 0.007283,
     "end_time": "2024-03-16T01:38:43.482786",
     "exception": false,
     "start_time": "2024-03-16T01:38:43.475503",
     "status": "completed"
    },
    "tags": []
   },
   "source": [
    "```BibTeX\n",
    "@article{theate2021application,\n",
    "  title={An application of deep reinforcement learning to algorithmic trading},\n",
    "  author={Th{\\'e}ate, Thibaut and Ernst, Damien},\n",
    "  journal={Expert Systems with Applications},\n",
    "  volume={173},\n",
    "  pages={114632},\n",
    "  year={2021},\n",
    "  publisher={Elsevier}\n",
    "}\n",
    "```"
   ]
  },
  {
   "cell_type": "code",
   "execution_count": 1,
   "id": "c8dd64ef",
   "metadata": {
    "execution": {
     "iopub.execute_input": "2024-03-16T01:38:43.498321Z",
     "iopub.status.busy": "2024-03-16T01:38:43.498066Z",
     "iopub.status.idle": "2024-03-16T01:38:43.519265Z",
     "shell.execute_reply": "2024-03-16T01:38:43.518697Z"
    },
    "executionInfo": {
     "elapsed": 703809,
     "status": "ok",
     "timestamp": 1710410570017,
     "user": {
      "displayName": "Adam Darmanin",
      "userId": "00262451996831505471"
     },
     "user_tz": -60
    },
    "id": "Q4-GoceIIfT_",
    "outputId": "008e6278-a966-4e09-e848-d830d601d29f",
    "papermill": {
     "duration": 0.031459,
     "end_time": "2024-03-16T01:38:43.521146",
     "exception": false,
     "start_time": "2024-03-16T01:38:43.489687",
     "status": "completed"
    },
    "tags": []
   },
   "outputs": [],
   "source": [
    "import os\n",
    "os.environ['TF_USE_LEGACY_KERAS'] = '1' # KERAS 2 only for tfagents\n",
    "\n",
    "import warnings\n",
    "warnings.filterwarnings(\"ignore\")\n",
    "\n",
    "try:\n",
    "  import google.colab\n",
    "  from google.colab import files\n",
    "  from google.colab import drive\n",
    "\n",
    "  %pip install scikit-learn\n",
    "  %pip install matplotlib\n",
    "  %pip install tf-agents[reverb]\n",
    "  %pip install shutil\n",
    "  %pip install yfinance\n",
    "  %pip install pyarrow\n",
    "  %pip install ta\n",
    "  %pip install pandas_ta\n",
    "  %pip install tqdm\n",
    "\n",
    "  IN_COLAB = True\n",
    "  GDRIVE = '/content/drive'\n",
    "  drive.mount(GDRIVE)\n",
    "  print(\"Mounted on COLLAB\")\n",
    "except:\n",
    "  GDRIVE = None\n",
    "  IN_COLAB = False\n",
    "  files = None"
   ]
  },
  {
   "cell_type": "code",
   "execution_count": 2,
   "id": "4d6cac0a",
   "metadata": {
    "execution": {
     "iopub.execute_input": "2024-03-16T01:38:43.536856Z",
     "iopub.status.busy": "2024-03-16T01:38:43.536644Z",
     "iopub.status.idle": "2024-03-16T01:39:50.480446Z",
     "shell.execute_reply": "2024-03-16T01:39:50.479594Z"
    },
    "executionInfo": {
     "elapsed": 13,
     "status": "ok",
     "timestamp": 1710410570017,
     "user": {
      "displayName": "Adam Darmanin",
      "userId": "00262451996831505471"
     },
     "user_tz": -60
    },
    "id": "C39UfWDmzYvL",
    "papermill": {
     "duration": 66.953913,
     "end_time": "2024-03-16T01:39:50.482308",
     "exception": false,
     "start_time": "2024-03-16T01:38:43.528395",
     "status": "completed"
    },
    "tags": []
   },
   "outputs": [
    {
     "name": "stdout",
     "output_type": "stream",
     "text": [
      "Running in Kaggle...\n"
     ]
    },
    {
     "name": "stdout",
     "output_type": "stream",
     "text": [
      "Requirement already satisfied: scikit-learn in /usr/local/lib/python3.10/site-packages (1.4.1.post1)\r\n"
     ]
    },
    {
     "name": "stdout",
     "output_type": "stream",
     "text": [
      "Requirement already satisfied: threadpoolctl>=2.0.0 in /usr/local/lib/python3.10/site-packages (from scikit-learn) (3.3.0)\r\n",
      "Requirement already satisfied: numpy<2.0,>=1.19.5 in /usr/local/lib/python3.10/site-packages (from scikit-learn) (1.26.4)\r\n",
      "Requirement already satisfied: joblib>=1.2.0 in /usr/local/lib/python3.10/site-packages (from scikit-learn) (1.3.2)\r\n",
      "Requirement already satisfied: scipy>=1.6.0 in /usr/local/lib/python3.10/site-packages (from scikit-learn) (1.12.0)\r\n"
     ]
    },
    {
     "name": "stdout",
     "output_type": "stream",
     "text": [
      "\u001b[33mWARNING: Running pip as the 'root' user can result in broken permissions and conflicting behaviour with the system package manager. It is recommended to use a virtual environment instead: https://pip.pypa.io/warnings/venv\u001b[0m\u001b[33m\r\n",
      "\u001b[0m"
     ]
    },
    {
     "name": "stdout",
     "output_type": "stream",
     "text": [
      "\r\n",
      "\u001b[1m[\u001b[0m\u001b[34;49mnotice\u001b[0m\u001b[1;39;49m]\u001b[0m\u001b[39;49m A new release of pip is available: \u001b[0m\u001b[31;49m23.0.1\u001b[0m\u001b[39;49m -> \u001b[0m\u001b[32;49m24.0\u001b[0m\r\n",
      "\u001b[1m[\u001b[0m\u001b[34;49mnotice\u001b[0m\u001b[1;39;49m]\u001b[0m\u001b[39;49m To update, run: \u001b[0m\u001b[32;49mpip install --upgrade pip\u001b[0m\r\n"
     ]
    },
    {
     "name": "stdout",
     "output_type": "stream",
     "text": [
      "Note: you may need to restart the kernel to use updated packages.\n"
     ]
    },
    {
     "name": "stdout",
     "output_type": "stream",
     "text": [
      "Requirement already satisfied: matplotlib in /usr/local/lib/python3.10/site-packages (3.8.3)\r\n",
      "Requirement already satisfied: contourpy>=1.0.1 in /usr/local/lib/python3.10/site-packages (from matplotlib) (1.2.0)\r\n",
      "Requirement already satisfied: packaging>=20.0 in /usr/local/lib/python3.10/site-packages (from matplotlib) (23.2)\r\n",
      "Requirement already satisfied: pillow>=8 in /usr/local/lib/python3.10/site-packages (from matplotlib) (10.2.0)\r\n",
      "Requirement already satisfied: fonttools>=4.22.0 in /usr/local/lib/python3.10/site-packages (from matplotlib) (4.49.0)\r\n",
      "Requirement already satisfied: numpy<2,>=1.21 in /usr/local/lib/python3.10/site-packages (from matplotlib) (1.26.4)\r\n",
      "Requirement already satisfied: python-dateutil>=2.7 in /usr/local/lib/python3.10/site-packages (from matplotlib) (2.8.2)\r\n",
      "Requirement already satisfied: kiwisolver>=1.3.1 in /usr/local/lib/python3.10/site-packages (from matplotlib) (1.4.5)\r\n",
      "Requirement already satisfied: cycler>=0.10 in /usr/local/lib/python3.10/site-packages (from matplotlib) (0.12.1)\r\n",
      "Requirement already satisfied: pyparsing>=2.3.1 in /usr/local/lib/python3.10/site-packages (from matplotlib) (3.1.1)\r\n"
     ]
    },
    {
     "name": "stdout",
     "output_type": "stream",
     "text": [
      "Requirement already satisfied: six>=1.5 in /usr/local/lib/python3.10/site-packages (from python-dateutil>=2.7->matplotlib) (1.16.0)\r\n"
     ]
    },
    {
     "name": "stdout",
     "output_type": "stream",
     "text": [
      "\u001b[33mWARNING: Running pip as the 'root' user can result in broken permissions and conflicting behaviour with the system package manager. It is recommended to use a virtual environment instead: https://pip.pypa.io/warnings/venv\u001b[0m\u001b[33m\r\n",
      "\u001b[0m\r\n",
      "\u001b[1m[\u001b[0m\u001b[34;49mnotice\u001b[0m\u001b[1;39;49m]\u001b[0m\u001b[39;49m A new release of pip is available: \u001b[0m\u001b[31;49m23.0.1\u001b[0m\u001b[39;49m -> \u001b[0m\u001b[32;49m24.0\u001b[0m\r\n",
      "\u001b[1m[\u001b[0m\u001b[34;49mnotice\u001b[0m\u001b[1;39;49m]\u001b[0m\u001b[39;49m To update, run: \u001b[0m\u001b[32;49mpip install --upgrade pip\u001b[0m\r\n"
     ]
    },
    {
     "name": "stdout",
     "output_type": "stream",
     "text": [
      "Note: you may need to restart the kernel to use updated packages.\n"
     ]
    },
    {
     "name": "stdout",
     "output_type": "stream",
     "text": [
      "Collecting tf-agents[reverb]\r\n"
     ]
    },
    {
     "name": "stdout",
     "output_type": "stream",
     "text": [
      "  Downloading tf_agents-0.19.0-py3-none-any.whl (1.4 MB)\r\n",
      "\u001b[?25l     \u001b[90m━━━━━━━━━━━━━━━━━━━━━━━━━━━━━━━━━━━━━━━━\u001b[0m \u001b[32m0.0/1.4 MB\u001b[0m \u001b[31m?\u001b[0m eta \u001b[36m-:--:--\u001b[0m\r",
      "\u001b[2K     \u001b[91m━━━━━━\u001b[0m\u001b[91m╸\u001b[0m\u001b[90m━━━━━━━━━━━━━━━━━━━━━━━━━━━━━━━━━\u001b[0m \u001b[32m0.2/1.4 MB\u001b[0m \u001b[31m7.3 MB/s\u001b[0m eta \u001b[36m0:00:01\u001b[0m"
     ]
    },
    {
     "name": "stdout",
     "output_type": "stream",
     "text": [
      "\r",
      "\u001b[2K     \u001b[91m━━━━━━━━━━━━━━━━━━━━━━━━━━━━━━━━━━━━━━━\u001b[0m\u001b[91m╸\u001b[0m \u001b[32m1.4/1.4 MB\u001b[0m \u001b[31m22.8 MB/s\u001b[0m eta \u001b[36m0:00:01\u001b[0m\r",
      "\u001b[2K     \u001b[90m━━━━━━━━━━━━━━━━━━━━━━━━━━━━━━━━━━━━━━━━\u001b[0m \u001b[32m1.4/1.4 MB\u001b[0m \u001b[31m17.7 MB/s\u001b[0m eta \u001b[36m0:00:00\u001b[0m\r\n",
      "\u001b[?25h"
     ]
    },
    {
     "name": "stdout",
     "output_type": "stream",
     "text": [
      "Requirement already satisfied: six>=1.10.0 in /usr/local/lib/python3.10/site-packages (from tf-agents[reverb]) (1.16.0)\r\n",
      "Requirement already satisfied: numpy>=1.19.0 in /usr/local/lib/python3.10/site-packages (from tf-agents[reverb]) (1.26.4)\r\n"
     ]
    },
    {
     "name": "stdout",
     "output_type": "stream",
     "text": [
      "Collecting pygame==2.1.3\r\n",
      "  Downloading pygame-2.1.3-cp310-cp310-manylinux_2_17_x86_64.manylinux2014_x86_64.whl (13.7 MB)\r\n",
      "\u001b[?25l     \u001b[90m━━━━━━━━━━━━━━━━━━━━━━━━━━━━━━━━━━━━━━━━\u001b[0m \u001b[32m0.0/13.7 MB\u001b[0m \u001b[31m?\u001b[0m eta \u001b[36m-:--:--\u001b[0m"
     ]
    },
    {
     "name": "stdout",
     "output_type": "stream",
     "text": [
      "\r",
      "\u001b[2K     \u001b[91m━━━━━━━━━━━━\u001b[0m\u001b[90m╺\u001b[0m\u001b[90m━━━━━━━━━━━━━━━━━━━━━━━━━━━\u001b[0m \u001b[32m4.2/13.7 MB\u001b[0m \u001b[31m180.8 MB/s\u001b[0m eta \u001b[36m0:00:01\u001b[0m\r",
      "\u001b[2K     \u001b[91m━━━━━━━━━━━━━━\u001b[0m\u001b[91m╸\u001b[0m\u001b[90m━━━━━━━━━━━━━━━━━━━━━━━━━\u001b[0m \u001b[32m5.1/13.7 MB\u001b[0m \u001b[31m74.6 MB/s\u001b[0m eta \u001b[36m0:00:01\u001b[0m"
     ]
    },
    {
     "name": "stdout",
     "output_type": "stream",
     "text": [
      "\r",
      "\u001b[2K     \u001b[91m━━━━━━━━━━━━━━━━━━━\u001b[0m\u001b[91m╸\u001b[0m\u001b[90m━━━━━━━━━━━━━━━━━━━━\u001b[0m \u001b[32m6.8/13.7 MB\u001b[0m \u001b[31m65.5 MB/s\u001b[0m eta \u001b[36m0:00:01\u001b[0m"
     ]
    },
    {
     "name": "stdout",
     "output_type": "stream",
     "text": [
      "\r",
      "\u001b[2K     \u001b[91m━━━━━━━━━━━━━━━━━━━━━━━━━\u001b[0m\u001b[90m╺\u001b[0m\u001b[90m━━━━━━━━━━━━━━\u001b[0m \u001b[32m8.6/13.7 MB\u001b[0m \u001b[31m62.3 MB/s\u001b[0m eta \u001b[36m0:00:01\u001b[0m\r",
      "\u001b[2K     \u001b[91m━━━━━━━━━━━━━━━━━━━━━━━━━━━━━━━━━\u001b[0m\u001b[91m╸\u001b[0m\u001b[90m━━━━━━\u001b[0m \u001b[32m11.5/13.7 MB\u001b[0m \u001b[31m62.1 MB/s\u001b[0m eta \u001b[36m0:00:01\u001b[0m"
     ]
    },
    {
     "name": "stdout",
     "output_type": "stream",
     "text": [
      "\r",
      "\u001b[2K     \u001b[91m━━━━━━━━━━━━━━━━━━━━━━━━━━━━━━━━━━━━\u001b[0m\u001b[91m╸\u001b[0m\u001b[90m━━━\u001b[0m \u001b[32m12.6/13.7 MB\u001b[0m \u001b[31m53.0 MB/s\u001b[0m eta \u001b[36m0:00:01\u001b[0m"
     ]
    },
    {
     "name": "stdout",
     "output_type": "stream",
     "text": [
      "\r",
      "\u001b[2K     \u001b[91m━━━━━━━━━━━━━━━━━━━━━━━━━━━━━━━━━━━━━━━\u001b[0m\u001b[91m╸\u001b[0m \u001b[32m13.7/13.7 MB\u001b[0m \u001b[31m49.0 MB/s\u001b[0m eta \u001b[36m0:00:01\u001b[0m"
     ]
    },
    {
     "name": "stdout",
     "output_type": "stream",
     "text": [
      "\r",
      "\u001b[2K     \u001b[91m━━━━━━━━━━━━━━━━━━━━━━━━━━━━━━━━━━━━━━━\u001b[0m\u001b[91m╸\u001b[0m \u001b[32m13.7/13.7 MB\u001b[0m \u001b[31m49.0 MB/s\u001b[0m eta \u001b[36m0:00:01\u001b[0m\r",
      "\u001b[2K     \u001b[91m━━━━━━━━━━━━━━━━━━━━━━━━━━━━━━━━━━━━━━━\u001b[0m\u001b[91m╸\u001b[0m \u001b[32m13.7/13.7 MB\u001b[0m \u001b[31m49.0 MB/s\u001b[0m eta \u001b[36m0:00:01\u001b[0m"
     ]
    },
    {
     "name": "stdout",
     "output_type": "stream",
     "text": [
      "\r",
      "\u001b[2K     \u001b[90m━━━━━━━━━━━━━━━━━━━━━━━━━━━━━━━━━━━━━━━━\u001b[0m \u001b[32m13.7/13.7 MB\u001b[0m \u001b[31m31.4 MB/s\u001b[0m eta \u001b[36m0:00:00\u001b[0m\r\n",
      "\u001b[?25h"
     ]
    },
    {
     "name": "stdout",
     "output_type": "stream",
     "text": [
      "Requirement already satisfied: gin-config>=0.4.0 in /usr/local/lib/python3.10/site-packages (from tf-agents[reverb]) (0.5.0)\r\n",
      "Requirement already satisfied: absl-py>=0.6.1 in /usr/local/lib/python3.10/site-packages (from tf-agents[reverb]) (1.4.0)\r\n",
      "Requirement already satisfied: wrapt>=1.11.1 in /usr/local/lib/python3.10/site-packages (from tf-agents[reverb]) (1.14.1)\r\n",
      "Requirement already satisfied: protobuf>=3.11.3 in /usr/local/lib/python3.10/site-packages (from tf-agents[reverb]) (3.20.3)\r\n",
      "Requirement already satisfied: cloudpickle>=1.3 in /usr/local/lib/python3.10/site-packages (from tf-agents[reverb]) (3.0.0)\r\n",
      "Requirement already satisfied: pillow in /usr/local/lib/python3.10/site-packages (from tf-agents[reverb]) (10.2.0)\r\n",
      "Requirement already satisfied: tensorflow-probability~=0.23.0 in /usr/local/lib/python3.10/site-packages (from tf-agents[reverb]) (0.23.0)\r\n"
     ]
    },
    {
     "name": "stdout",
     "output_type": "stream",
     "text": [
      "Collecting gym<=0.23.0,>=0.17.0\r\n",
      "  Downloading gym-0.23.0.tar.gz (624 kB)\r\n",
      "\u001b[?25l     \u001b[90m━━━━━━━━━━━━━━━━━━━━━━━━━━━━━━━━━━━━━━━━\u001b[0m \u001b[32m0.0/624.4 kB\u001b[0m \u001b[31m?\u001b[0m eta \u001b[36m-:--:--\u001b[0m"
     ]
    },
    {
     "name": "stdout",
     "output_type": "stream",
     "text": [
      "\r",
      "\u001b[2K     \u001b[90m━━━━━━━━━━━━━━━━━━━━━━━━━━━━━━━━━━━━━━\u001b[0m \u001b[32m624.4/624.4 kB\u001b[0m \u001b[31m36.4 MB/s\u001b[0m eta \u001b[36m0:00:00\u001b[0m\r\n",
      "\u001b[?25h"
     ]
    },
    {
     "name": "stdout",
     "output_type": "stream",
     "text": [
      "  Installing build dependencies ... \u001b[?25l-"
     ]
    },
    {
     "name": "stdout",
     "output_type": "stream",
     "text": [
      "\b \b\\"
     ]
    },
    {
     "name": "stdout",
     "output_type": "stream",
     "text": [
      "\b \b|"
     ]
    },
    {
     "name": "stdout",
     "output_type": "stream",
     "text": [
      "\b \b/"
     ]
    },
    {
     "name": "stdout",
     "output_type": "stream",
     "text": [
      "\b \b-"
     ]
    },
    {
     "name": "stdout",
     "output_type": "stream",
     "text": [
      "\b \bdone\r\n"
     ]
    },
    {
     "name": "stdout",
     "output_type": "stream",
     "text": [
      "\u001b[?25h  Getting requirements to build wheel ... \u001b[?25l-"
     ]
    },
    {
     "name": "stdout",
     "output_type": "stream",
     "text": [
      "\b \bdone\r\n"
     ]
    },
    {
     "name": "stdout",
     "output_type": "stream",
     "text": [
      "\u001b[?25h  Preparing metadata (pyproject.toml) ... \u001b[?25l-"
     ]
    },
    {
     "name": "stdout",
     "output_type": "stream",
     "text": [
      "\b \bdone\r\n"
     ]
    },
    {
     "name": "stdout",
     "output_type": "stream",
     "text": [
      "\u001b[?25hCollecting typing-extensions==4.5.0\r\n",
      "  Downloading typing_extensions-4.5.0-py3-none-any.whl (27 kB)\r\n"
     ]
    },
    {
     "name": "stdout",
     "output_type": "stream",
     "text": [
      "Collecting dm-reverb~=0.14.0\r\n",
      "  Downloading dm_reverb-0.14.0-cp310-cp310-manylinux2014_x86_64.whl (6.4 MB)\r\n",
      "\u001b[?25l     \u001b[90m━━━━━━━━━━━━━━━━━━━━━━━━━━━━━━━━━━━━━━━━\u001b[0m \u001b[32m0.0/6.4 MB\u001b[0m \u001b[31m?\u001b[0m eta \u001b[36m-:--:--\u001b[0m"
     ]
    },
    {
     "name": "stdout",
     "output_type": "stream",
     "text": [
      "\r",
      "\u001b[2K     \u001b[91m━━━━━━━━━━━━━━━━━━━━━━━━━━\u001b[0m\u001b[90m╺\u001b[0m\u001b[90m━━━━━━━━━━━━━\u001b[0m \u001b[32m4.2/6.4 MB\u001b[0m \u001b[31m128.5 MB/s\u001b[0m eta \u001b[36m0:00:01\u001b[0m"
     ]
    },
    {
     "name": "stdout",
     "output_type": "stream",
     "text": [
      "\r",
      "\u001b[2K     \u001b[91m━━━━━━━━━━━━━━━━━━━━━━━━━━━━━━━━━━━━━━━\u001b[0m\u001b[91m╸\u001b[0m \u001b[32m6.3/6.4 MB\u001b[0m \u001b[31m112.1 MB/s\u001b[0m eta \u001b[36m0:00:01\u001b[0m\r",
      "\u001b[2K     \u001b[91m━━━━━━━━━━━━━━━━━━━━━━━━━━━━━━━━━━━━━━━\u001b[0m\u001b[91m╸\u001b[0m \u001b[32m6.3/6.4 MB\u001b[0m \u001b[31m112.1 MB/s\u001b[0m eta \u001b[36m0:00:01\u001b[0m\r",
      "\u001b[2K     \u001b[90m━━━━━━━━━━━━━━━━━━━━━━━━━━━━━━━━━━━━━━━━\u001b[0m \u001b[32m6.4/6.4 MB\u001b[0m \u001b[31m58.2 MB/s\u001b[0m eta \u001b[36m0:00:00\u001b[0m\r\n",
      "\u001b[?25h"
     ]
    },
    {
     "name": "stdout",
     "output_type": "stream",
     "text": [
      "Collecting rlds\r\n"
     ]
    },
    {
     "name": "stdout",
     "output_type": "stream",
     "text": [
      "  Downloading rlds-0.1.8-py3-none-manylinux2010_x86_64.whl (48 kB)\r\n",
      "\u001b[?25l     \u001b[90m━━━━━━━━━━━━━━━━━━━━━━━━━━━━━━━━━━━━━━━━\u001b[0m \u001b[32m0.0/48.4 kB\u001b[0m \u001b[31m?\u001b[0m eta \u001b[36m-:--:--\u001b[0m\r",
      "\u001b[2K     \u001b[90m━━━━━━━━━━━━━━━━━━━━━━━━━━━━━━━━━━━━━━━━\u001b[0m \u001b[32m48.4/48.4 kB\u001b[0m \u001b[31m6.3 MB/s\u001b[0m eta \u001b[36m0:00:00\u001b[0m\r\n",
      "\u001b[?25hRequirement already satisfied: tensorflow~=2.15.0 in /usr/local/lib/python3.10/site-packages (from tf-agents[reverb]) (2.15.0)\r\n"
     ]
    },
    {
     "name": "stdout",
     "output_type": "stream",
     "text": [
      "Collecting portpicker\r\n",
      "  Downloading portpicker-1.6.0-py3-none-any.whl (16 kB)\r\n",
      "Requirement already satisfied: dm-tree in /usr/local/lib/python3.10/site-packages (from dm-reverb~=0.14.0->tf-agents[reverb]) (0.1.8)\r\n"
     ]
    },
    {
     "name": "stdout",
     "output_type": "stream",
     "text": [
      "Requirement already satisfied: gym-notices>=0.0.4 in /usr/local/lib/python3.10/site-packages (from gym<=0.23.0,>=0.17.0->tf-agents[reverb]) (0.0.8)\r\n"
     ]
    },
    {
     "name": "stdout",
     "output_type": "stream",
     "text": [
      "Requirement already satisfied: google-pasta>=0.1.1 in /usr/local/lib/python3.10/site-packages (from tensorflow~=2.15.0->tf-agents[reverb]) (0.2.0)\r\n"
     ]
    },
    {
     "name": "stdout",
     "output_type": "stream",
     "text": [
      "Collecting keras<2.16,>=2.15.0\r\n",
      "  Downloading keras-2.15.0-py3-none-any.whl (1.7 MB)\r\n",
      "\u001b[?25l     \u001b[90m━━━━━━━━━━━━━━━━━━━━━━━━━━━━━━━━━━━━━━━━\u001b[0m \u001b[32m0.0/1.7 MB\u001b[0m \u001b[31m?\u001b[0m eta \u001b[36m-:--:--\u001b[0m"
     ]
    },
    {
     "name": "stdout",
     "output_type": "stream",
     "text": [
      "\r",
      "\u001b[2K     \u001b[90m━━━━━━━━━━━━━━━━━━━━━━━━━━━━━━━━━━━━━━━━\u001b[0m \u001b[32m1.7/1.7 MB\u001b[0m \u001b[31m69.8 MB/s\u001b[0m eta \u001b[36m0:00:00\u001b[0m\r\n",
      "\u001b[?25hRequirement already satisfied: setuptools in /usr/local/lib/python3.10/site-packages (from tensorflow~=2.15.0->tf-agents[reverb]) (65.5.1)\r\n",
      "Requirement already satisfied: ml-dtypes~=0.2.0 in /usr/local/lib/python3.10/site-packages (from tensorflow~=2.15.0->tf-agents[reverb]) (0.2.0)\r\n",
      "Requirement already satisfied: flatbuffers>=23.5.26 in /usr/local/lib/python3.10/site-packages (from tensorflow~=2.15.0->tf-agents[reverb]) (23.5.26)\r\n",
      "Requirement already satisfied: tensorflow-io-gcs-filesystem>=0.23.1 in /usr/local/lib/python3.10/site-packages (from tensorflow~=2.15.0->tf-agents[reverb]) (0.36.0)\r\n",
      "Requirement already satisfied: grpcio<2.0,>=1.24.3 in /usr/local/lib/python3.10/site-packages (from tensorflow~=2.15.0->tf-agents[reverb]) (1.62.0)\r\n",
      "Requirement already satisfied: tensorflow-estimator<2.16,>=2.15.0 in /usr/local/lib/python3.10/site-packages (from tensorflow~=2.15.0->tf-agents[reverb]) (2.15.0)\r\n",
      "Requirement already satisfied: libclang>=13.0.0 in /usr/local/lib/python3.10/site-packages (from tensorflow~=2.15.0->tf-agents[reverb]) (16.0.6)\r\n",
      "Requirement already satisfied: h5py>=2.9.0 in /usr/local/lib/python3.10/site-packages (from tensorflow~=2.15.0->tf-agents[reverb]) (3.10.0)\r\n",
      "Requirement already satisfied: tensorboard<2.16,>=2.15 in /usr/local/lib/python3.10/site-packages (from tensorflow~=2.15.0->tf-agents[reverb]) (2.15.2)\r\n",
      "Requirement already satisfied: opt-einsum>=2.3.2 in /usr/local/lib/python3.10/site-packages (from tensorflow~=2.15.0->tf-agents[reverb]) (3.3.0)\r\n",
      "Requirement already satisfied: termcolor>=1.1.0 in /usr/local/lib/python3.10/site-packages (from tensorflow~=2.15.0->tf-agents[reverb]) (2.4.0)\r\n",
      "Requirement already satisfied: packaging in /usr/local/lib/python3.10/site-packages (from tensorflow~=2.15.0->tf-agents[reverb]) (23.2)\r\n",
      "Requirement already satisfied: astunparse>=1.6.0 in /usr/local/lib/python3.10/site-packages (from tensorflow~=2.15.0->tf-agents[reverb]) (1.6.3)\r\n",
      "Requirement already satisfied: gast!=0.5.0,!=0.5.1,!=0.5.2,>=0.2.1 in /usr/local/lib/python3.10/site-packages (from tensorflow~=2.15.0->tf-agents[reverb]) (0.5.4)\r\n",
      "Requirement already satisfied: decorator in /usr/local/lib/python3.10/site-packages (from tensorflow-probability~=0.23.0->tf-agents[reverb]) (5.1.1)\r\n"
     ]
    },
    {
     "name": "stdout",
     "output_type": "stream",
     "text": [
      "Requirement already satisfied: wheel<1.0,>=0.23.0 in /usr/local/lib/python3.10/site-packages (from astunparse>=1.6.0->tensorflow~=2.15.0->tf-agents[reverb]) (0.42.0)\r\n"
     ]
    },
    {
     "name": "stdout",
     "output_type": "stream",
     "text": [
      "Requirement already satisfied: werkzeug>=1.0.1 in /usr/local/lib/python3.10/site-packages (from tensorboard<2.16,>=2.15->tensorflow~=2.15.0->tf-agents[reverb]) (3.0.1)\r\n",
      "Requirement already satisfied: google-auth-oauthlib<2,>=0.5 in /usr/local/lib/python3.10/site-packages (from tensorboard<2.16,>=2.15->tensorflow~=2.15.0->tf-agents[reverb]) (1.2.0)\r\n"
     ]
    },
    {
     "name": "stdout",
     "output_type": "stream",
     "text": [
      "Requirement already satisfied: google-auth<3,>=1.6.3 in /usr/local/lib/python3.10/site-packages (from tensorboard<2.16,>=2.15->tensorflow~=2.15.0->tf-agents[reverb]) (2.28.1)\r\n",
      "Requirement already satisfied: tensorboard-data-server<0.8.0,>=0.7.0 in /usr/local/lib/python3.10/site-packages (from tensorboard<2.16,>=2.15->tensorflow~=2.15.0->tf-agents[reverb]) (0.7.2)\r\n",
      "Requirement already satisfied: requests<3,>=2.21.0 in /usr/local/lib/python3.10/site-packages (from tensorboard<2.16,>=2.15->tensorflow~=2.15.0->tf-agents[reverb]) (2.31.0)\r\n",
      "Requirement already satisfied: markdown>=2.6.8 in /usr/local/lib/python3.10/site-packages (from tensorboard<2.16,>=2.15->tensorflow~=2.15.0->tf-agents[reverb]) (3.5.2)\r\n",
      "Requirement already satisfied: psutil in /usr/local/lib/python3.10/site-packages (from portpicker->dm-reverb~=0.14.0->tf-agents[reverb]) (5.9.8)\r\n",
      "Requirement already satisfied: rsa<5,>=3.1.4 in /usr/local/lib/python3.10/site-packages (from google-auth<3,>=1.6.3->tensorboard<2.16,>=2.15->tensorflow~=2.15.0->tf-agents[reverb]) (4.9)\r\n",
      "Requirement already satisfied: cachetools<6.0,>=2.0.0 in /usr/local/lib/python3.10/site-packages (from google-auth<3,>=1.6.3->tensorboard<2.16,>=2.15->tensorflow~=2.15.0->tf-agents[reverb]) (5.3.2)\r\n",
      "Requirement already satisfied: pyasn1-modules>=0.2.1 in /usr/local/lib/python3.10/site-packages (from google-auth<3,>=1.6.3->tensorboard<2.16,>=2.15->tensorflow~=2.15.0->tf-agents[reverb]) (0.3.0)\r\n"
     ]
    },
    {
     "name": "stdout",
     "output_type": "stream",
     "text": [
      "Requirement already satisfied: requests-oauthlib>=0.7.0 in /usr/local/lib/python3.10/site-packages (from google-auth-oauthlib<2,>=0.5->tensorboard<2.16,>=2.15->tensorflow~=2.15.0->tf-agents[reverb]) (1.3.1)\r\n",
      "Requirement already satisfied: charset-normalizer<4,>=2 in /usr/local/lib/python3.10/site-packages (from requests<3,>=2.21.0->tensorboard<2.16,>=2.15->tensorflow~=2.15.0->tf-agents[reverb]) (3.3.2)\r\n",
      "Requirement already satisfied: urllib3<3,>=1.21.1 in /usr/local/lib/python3.10/site-packages (from requests<3,>=2.21.0->tensorboard<2.16,>=2.15->tensorflow~=2.15.0->tf-agents[reverb]) (2.2.1)\r\n",
      "Requirement already satisfied: idna<4,>=2.5 in /usr/local/lib/python3.10/site-packages (from requests<3,>=2.21.0->tensorboard<2.16,>=2.15->tensorflow~=2.15.0->tf-agents[reverb]) (3.6)\r\n",
      "Requirement already satisfied: certifi>=2017.4.17 in /usr/local/lib/python3.10/site-packages (from requests<3,>=2.21.0->tensorboard<2.16,>=2.15->tensorflow~=2.15.0->tf-agents[reverb]) (2024.2.2)\r\n",
      "Requirement already satisfied: MarkupSafe>=2.1.1 in /usr/local/lib/python3.10/site-packages (from werkzeug>=1.0.1->tensorboard<2.16,>=2.15->tensorflow~=2.15.0->tf-agents[reverb]) (2.1.5)\r\n"
     ]
    },
    {
     "name": "stdout",
     "output_type": "stream",
     "text": [
      "Requirement already satisfied: pyasn1<0.6.0,>=0.4.6 in /usr/local/lib/python3.10/site-packages (from pyasn1-modules>=0.2.1->google-auth<3,>=1.6.3->tensorboard<2.16,>=2.15->tensorflow~=2.15.0->tf-agents[reverb]) (0.5.1)\r\n",
      "Requirement already satisfied: oauthlib>=3.0.0 in /usr/local/lib/python3.10/site-packages (from requests-oauthlib>=0.7.0->google-auth-oauthlib<2,>=0.5->tensorboard<2.16,>=2.15->tensorflow~=2.15.0->tf-agents[reverb]) (3.2.2)\r\n"
     ]
    },
    {
     "name": "stdout",
     "output_type": "stream",
     "text": [
      "Building wheels for collected packages: gym\r\n"
     ]
    },
    {
     "name": "stdout",
     "output_type": "stream",
     "text": [
      "  Building wheel for gym (pyproject.toml) ... \u001b[?25l-"
     ]
    },
    {
     "name": "stdout",
     "output_type": "stream",
     "text": [
      "\b \b\\"
     ]
    },
    {
     "name": "stdout",
     "output_type": "stream",
     "text": [
      "\b \bdone\r\n"
     ]
    },
    {
     "name": "stdout",
     "output_type": "stream",
     "text": [
      "\u001b[?25h  Created wheel for gym: filename=gym-0.23.0-py3-none-any.whl size=697630 sha256=4ce11c66f6e2cdadfec8eed868b07668658a58309d9cc36f13f929d8d134257c\r\n",
      "  Stored in directory: /root/.cache/pip/wheels/3d/6f/b4/3991d4fae11d0ecb0754c11cc1b4e7745012850da4efaaf0b1\r\n",
      "Successfully built gym\r\n"
     ]
    },
    {
     "name": "stdout",
     "output_type": "stream",
     "text": [
      "Installing collected packages: typing-extensions, rlds, pygame, portpicker, keras, gym, tf-agents, dm-reverb\r\n",
      "  Attempting uninstall: typing-extensions\r\n",
      "    Found existing installation: typing_extensions 4.9.0\r\n",
      "    Uninstalling typing_extensions-4.9.0:\r\n"
     ]
    },
    {
     "name": "stdout",
     "output_type": "stream",
     "text": [
      "      Successfully uninstalled typing_extensions-4.9.0\r\n"
     ]
    },
    {
     "name": "stdout",
     "output_type": "stream",
     "text": [
      "  Attempting uninstall: keras\r\n",
      "    Found existing installation: keras 3.0.5\r\n"
     ]
    },
    {
     "name": "stdout",
     "output_type": "stream",
     "text": [
      "    Uninstalling keras-3.0.5:\r\n"
     ]
    },
    {
     "name": "stdout",
     "output_type": "stream",
     "text": [
      "      Successfully uninstalled keras-3.0.5\r\n"
     ]
    },
    {
     "name": "stdout",
     "output_type": "stream",
     "text": [
      "  Attempting uninstall: gym\r\n",
      "    Found existing installation: gym 0.26.2\r\n"
     ]
    },
    {
     "name": "stdout",
     "output_type": "stream",
     "text": [
      "    Uninstalling gym-0.26.2:\r\n"
     ]
    },
    {
     "name": "stdout",
     "output_type": "stream",
     "text": [
      "      Successfully uninstalled gym-0.26.2\r\n"
     ]
    },
    {
     "name": "stdout",
     "output_type": "stream",
     "text": [
      "\u001b[31mERROR: pip's dependency resolver does not currently take into account all the packages that are installed. This behaviour is the source of the following dependency conflicts.\r\n",
      "keras-nlp 0.8.1 requires keras-core, which is not installed.\u001b[0m\u001b[31m\r\n",
      "\u001b[0mSuccessfully installed dm-reverb-0.14.0 gym-0.23.0 keras-2.15.0 portpicker-1.6.0 pygame-2.1.3 rlds-0.1.8 tf-agents-0.19.0 typing-extensions-4.5.0\r\n",
      "\u001b[33mWARNING: Running pip as the 'root' user can result in broken permissions and conflicting behaviour with the system package manager. It is recommended to use a virtual environment instead: https://pip.pypa.io/warnings/venv\u001b[0m\u001b[33m\r\n",
      "\u001b[0m\r\n",
      "\u001b[1m[\u001b[0m\u001b[34;49mnotice\u001b[0m\u001b[1;39;49m]\u001b[0m\u001b[39;49m A new release of pip is available: \u001b[0m\u001b[31;49m23.0.1\u001b[0m\u001b[39;49m -> \u001b[0m\u001b[32;49m24.0\u001b[0m\r\n",
      "\u001b[1m[\u001b[0m\u001b[34;49mnotice\u001b[0m\u001b[1;39;49m]\u001b[0m\u001b[39;49m To update, run: \u001b[0m\u001b[32;49mpip install --upgrade pip\u001b[0m\r\n"
     ]
    },
    {
     "name": "stdout",
     "output_type": "stream",
     "text": [
      "Note: you may need to restart the kernel to use updated packages.\n"
     ]
    },
    {
     "name": "stdout",
     "output_type": "stream",
     "text": [
      "\u001b[31mERROR: Could not find a version that satisfies the requirement shutil (from versions: none)\u001b[0m\u001b[31m\r\n",
      "\u001b[0m\u001b[31mERROR: No matching distribution found for shutil\u001b[0m\u001b[31m\r\n",
      "\u001b[0m"
     ]
    },
    {
     "name": "stdout",
     "output_type": "stream",
     "text": [
      "\r\n",
      "\u001b[1m[\u001b[0m\u001b[34;49mnotice\u001b[0m\u001b[1;39;49m]\u001b[0m\u001b[39;49m A new release of pip is available: \u001b[0m\u001b[31;49m23.0.1\u001b[0m\u001b[39;49m -> \u001b[0m\u001b[32;49m24.0\u001b[0m\r\n",
      "\u001b[1m[\u001b[0m\u001b[34;49mnotice\u001b[0m\u001b[1;39;49m]\u001b[0m\u001b[39;49m To update, run: \u001b[0m\u001b[32;49mpip install --upgrade pip\u001b[0m\r\n"
     ]
    },
    {
     "name": "stdout",
     "output_type": "stream",
     "text": [
      "Note: you may need to restart the kernel to use updated packages.\n"
     ]
    },
    {
     "name": "stdout",
     "output_type": "stream",
     "text": [
      "Collecting yfinance\r\n"
     ]
    },
    {
     "name": "stdout",
     "output_type": "stream",
     "text": [
      "  Downloading yfinance-0.2.37-py2.py3-none-any.whl (72 kB)\r\n",
      "\u001b[?25l     \u001b[90m━━━━━━━━━━━━━━━━━━━━━━━━━━━━━━━━━━━━━━━━\u001b[0m \u001b[32m0.0/73.0 kB\u001b[0m \u001b[31m?\u001b[0m eta \u001b[36m-:--:--\u001b[0m\r",
      "\u001b[2K     \u001b[90m━━━━━━━━━━━━━━━━━━━━━━━━━━━━━━━━━━━━━━━━\u001b[0m \u001b[32m73.0/73.0 kB\u001b[0m \u001b[31m2.3 MB/s\u001b[0m eta \u001b[36m0:00:00\u001b[0m\r\n",
      "\u001b[?25h"
     ]
    },
    {
     "name": "stdout",
     "output_type": "stream",
     "text": [
      "Collecting appdirs>=1.4.4\r\n"
     ]
    },
    {
     "name": "stdout",
     "output_type": "stream",
     "text": [
      "  Downloading appdirs-1.4.4-py2.py3-none-any.whl (9.6 kB)\r\n",
      "Requirement already satisfied: numpy>=1.16.5 in /usr/local/lib/python3.10/site-packages (from yfinance) (1.26.4)\r\n"
     ]
    },
    {
     "name": "stdout",
     "output_type": "stream",
     "text": [
      "Collecting multitasking>=0.0.7\r\n",
      "  Downloading multitasking-0.0.11-py3-none-any.whl (8.5 kB)\r\n",
      "Requirement already satisfied: requests>=2.31 in /usr/local/lib/python3.10/site-packages (from yfinance) (2.31.0)\r\n",
      "Requirement already satisfied: pandas>=1.3.0 in /usr/local/lib/python3.10/site-packages (from yfinance) (2.2.0)\r\n"
     ]
    },
    {
     "name": "stdout",
     "output_type": "stream",
     "text": [
      "Collecting peewee>=3.16.2\r\n"
     ]
    },
    {
     "name": "stdout",
     "output_type": "stream",
     "text": [
      "  Downloading peewee-3.17.1.tar.gz (3.0 MB)\r\n",
      "\u001b[?25l     \u001b[90m━━━━━━━━━━━━━━━━━━━━━━━━━━━━━━━━━━━━━━━━\u001b[0m \u001b[32m0.0/3.0 MB\u001b[0m \u001b[31m?\u001b[0m eta \u001b[36m-:--:--\u001b[0m\r",
      "\u001b[2K     \u001b[91m━━━━━━━━━━\u001b[0m\u001b[91m╸\u001b[0m\u001b[90m━━━━━━━━━━━━━━━━━━━━━━━━━━━━━\u001b[0m \u001b[32m0.8/3.0 MB\u001b[0m \u001b[31m23.1 MB/s\u001b[0m eta \u001b[36m0:00:01\u001b[0m"
     ]
    },
    {
     "name": "stdout",
     "output_type": "stream",
     "text": [
      "\r",
      "\u001b[2K     \u001b[91m━━━━━━━━━━━━━━━━━━━━━━━━━━━━\u001b[0m\u001b[90m╺\u001b[0m\u001b[90m━━━━━━━━━━━\u001b[0m \u001b[32m2.1/3.0 MB\u001b[0m \u001b[31m44.2 MB/s\u001b[0m eta \u001b[36m0:00:01\u001b[0m"
     ]
    },
    {
     "name": "stdout",
     "output_type": "stream",
     "text": [
      "\r",
      "\u001b[2K     \u001b[91m━━━━━━━━━━━━━━━━━━━━━━━━━━━━\u001b[0m\u001b[90m╺\u001b[0m\u001b[90m━━━━━━━━━━━\u001b[0m \u001b[32m2.1/3.0 MB\u001b[0m \u001b[31m44.2 MB/s\u001b[0m eta \u001b[36m0:00:01\u001b[0m"
     ]
    },
    {
     "name": "stdout",
     "output_type": "stream",
     "text": [
      "\r",
      "\u001b[2K     \u001b[91m━━━━━━━━━━━━━━━━━━━━━━━━━━━━\u001b[0m\u001b[90m╺\u001b[0m\u001b[90m━━━━━━━━━━━\u001b[0m \u001b[32m2.1/3.0 MB\u001b[0m \u001b[31m44.2 MB/s\u001b[0m eta \u001b[36m0:00:01\u001b[0m\r",
      "\u001b[2K     \u001b[91m━━━━━━━━━━━━━━━━━━━━━━━━━━━━\u001b[0m\u001b[90m╺\u001b[0m\u001b[90m━━━━━━━━━━━\u001b[0m \u001b[32m2.1/3.0 MB\u001b[0m \u001b[31m44.2 MB/s\u001b[0m eta \u001b[36m0:00:01\u001b[0m"
     ]
    },
    {
     "name": "stdout",
     "output_type": "stream",
     "text": [
      "\r",
      "\u001b[2K     \u001b[91m━━━━━━━━━━━━━━━━━━━━━━━━━━━━\u001b[0m\u001b[90m╺\u001b[0m\u001b[90m━━━━━━━━━━━\u001b[0m \u001b[32m2.1/3.0 MB\u001b[0m \u001b[31m44.2 MB/s\u001b[0m eta \u001b[36m0:00:01\u001b[0m"
     ]
    },
    {
     "name": "stdout",
     "output_type": "stream",
     "text": [
      "\r",
      "\u001b[2K     \u001b[91m━━━━━━━━━━━━━━━━━━━━━━━━━━━━\u001b[0m\u001b[90m╺\u001b[0m\u001b[90m━━━━━━━━━━━\u001b[0m \u001b[32m2.1/3.0 MB\u001b[0m \u001b[31m44.2 MB/s\u001b[0m eta \u001b[36m0:00:01\u001b[0m\r",
      "\u001b[2K     \u001b[91m━━━━━━━━━━━━━━━━━━━━━━━━━━━━\u001b[0m\u001b[90m╺\u001b[0m\u001b[90m━━━━━━━━━━━\u001b[0m \u001b[32m2.1/3.0 MB\u001b[0m \u001b[31m44.2 MB/s\u001b[0m eta \u001b[36m0:00:01\u001b[0m"
     ]
    },
    {
     "name": "stdout",
     "output_type": "stream",
     "text": [
      "\r",
      "\u001b[2K     \u001b[91m━━━━━━━━━━━━━━━━━━━━━━━━━━━━━\u001b[0m\u001b[90m╺\u001b[0m\u001b[90m━━━━━━━━━━\u001b[0m \u001b[32m2.2/3.0 MB\u001b[0m \u001b[31m6.9 MB/s\u001b[0m eta \u001b[36m0:00:01\u001b[0m"
     ]
    },
    {
     "name": "stdout",
     "output_type": "stream",
     "text": [
      "\r",
      "\u001b[2K     \u001b[91m━━━━━━━━━━━━━━━━━━━━━━━━━━━━━━━━━━━━━━━\u001b[0m\u001b[91m╸\u001b[0m \u001b[32m2.9/3.0 MB\u001b[0m \u001b[31m9.2 MB/s\u001b[0m eta \u001b[36m0:00:01\u001b[0m\r",
      "\u001b[2K     \u001b[90m━━━━━━━━━━━━━━━━━━━━━━━━━━━━━━━━━━━━━━━━\u001b[0m \u001b[32m3.0/3.0 MB\u001b[0m \u001b[31m7.8 MB/s\u001b[0m eta \u001b[36m0:00:00\u001b[0m\r\n",
      "\u001b[?25h"
     ]
    },
    {
     "name": "stdout",
     "output_type": "stream",
     "text": [
      "  Installing build dependencies ... \u001b[?25l-"
     ]
    },
    {
     "name": "stdout",
     "output_type": "stream",
     "text": [
      "\b \b\\"
     ]
    },
    {
     "name": "stdout",
     "output_type": "stream",
     "text": [
      "\b \b|"
     ]
    },
    {
     "name": "stdout",
     "output_type": "stream",
     "text": [
      "\b \bdone\r\n"
     ]
    },
    {
     "name": "stdout",
     "output_type": "stream",
     "text": [
      "\u001b[?25h  Getting requirements to build wheel ... \u001b[?25l-"
     ]
    },
    {
     "name": "stdout",
     "output_type": "stream",
     "text": [
      "\b \bdone\r\n"
     ]
    },
    {
     "name": "stdout",
     "output_type": "stream",
     "text": [
      "\u001b[?25h  Preparing metadata (pyproject.toml) ... \u001b[?25l-"
     ]
    },
    {
     "name": "stdout",
     "output_type": "stream",
     "text": [
      "\b \bdone\r\n"
     ]
    },
    {
     "name": "stdout",
     "output_type": "stream",
     "text": [
      "\u001b[?25hCollecting html5lib>=1.1\r\n",
      "  Downloading html5lib-1.1-py2.py3-none-any.whl (112 kB)\r\n",
      "\u001b[?25l     \u001b[90m━━━━━━━━━━━━━━━━━━━━━━━━━━━━━━━━━━━━━━━━\u001b[0m \u001b[32m0.0/112.2 kB\u001b[0m \u001b[31m?\u001b[0m eta \u001b[36m-:--:--\u001b[0m\r",
      "\u001b[2K     \u001b[90m━━━━━━━━━━━━━━━━━━━━━━━━━━━━━━━━━━━━━━\u001b[0m \u001b[32m112.2/112.2 kB\u001b[0m \u001b[31m14.7 MB/s\u001b[0m eta \u001b[36m0:00:00\u001b[0m\r\n",
      "\u001b[?25hRequirement already satisfied: pytz>=2022.5 in /usr/local/lib/python3.10/site-packages (from yfinance) (2024.1)\r\n"
     ]
    },
    {
     "name": "stdout",
     "output_type": "stream",
     "text": [
      "Collecting lxml>=4.9.1\r\n",
      "  Downloading lxml-5.1.0-cp310-cp310-manylinux_2_17_x86_64.manylinux2014_x86_64.whl (8.0 MB)\r\n",
      "\u001b[?25l     \u001b[90m━━━━━━━━━━━━━━━━━━━━━━━━━━━━━━━━━━━━━━━━\u001b[0m \u001b[32m0.0/8.0 MB\u001b[0m \u001b[31m?\u001b[0m eta \u001b[36m-:--:--\u001b[0m"
     ]
    },
    {
     "name": "stdout",
     "output_type": "stream",
     "text": [
      "\r",
      "\u001b[2K     \u001b[91m━━━━━━━━━━━━━\u001b[0m\u001b[90m╺\u001b[0m\u001b[90m━━━━━━━━━━━━━━━━━━━━━━━━━━\u001b[0m \u001b[32m2.7/8.0 MB\u001b[0m \u001b[31m80.7 MB/s\u001b[0m eta \u001b[36m0:00:01\u001b[0m"
     ]
    },
    {
     "name": "stdout",
     "output_type": "stream",
     "text": [
      "\r",
      "\u001b[2K     \u001b[91m━━━━━━━━━━━━━━━━━━━━\u001b[0m\u001b[91m╸\u001b[0m\u001b[90m━━━━━━━━━━━━━━━━━━━\u001b[0m \u001b[32m4.2/8.0 MB\u001b[0m \u001b[31m94.9 MB/s\u001b[0m eta \u001b[36m0:00:01\u001b[0m\r",
      "\u001b[2K     \u001b[91m━━━━━━━━━━━━━━━━━━━━\u001b[0m\u001b[91m╸\u001b[0m\u001b[90m━━━━━━━━━━━━━━━━━━━\u001b[0m \u001b[32m4.2/8.0 MB\u001b[0m \u001b[31m94.9 MB/s\u001b[0m eta \u001b[36m0:00:01\u001b[0m"
     ]
    },
    {
     "name": "stdout",
     "output_type": "stream",
     "text": [
      "\r",
      "\u001b[2K     \u001b[91m━━━━━━━━━━━━━━━━━━━━\u001b[0m\u001b[91m╸\u001b[0m\u001b[90m━━━━━━━━━━━━━━━━━━━\u001b[0m \u001b[32m4.2/8.0 MB\u001b[0m \u001b[31m94.9 MB/s\u001b[0m eta \u001b[36m0:00:01\u001b[0m"
     ]
    },
    {
     "name": "stdout",
     "output_type": "stream",
     "text": [
      "\r",
      "\u001b[2K     \u001b[91m━━━━━━━━━━━━━━━━━━━━\u001b[0m\u001b[91m╸\u001b[0m\u001b[90m━━━━━━━━━━━━━━━━━━━\u001b[0m \u001b[32m4.2/8.0 MB\u001b[0m \u001b[31m94.9 MB/s\u001b[0m eta \u001b[36m0:00:01\u001b[0m"
     ]
    },
    {
     "name": "stdout",
     "output_type": "stream",
     "text": [
      "\r",
      "\u001b[2K     \u001b[91m━━━━━━━━━━━━━━━━━━━━━━━━━━━━━━━━━━━━━━\u001b[0m\u001b[90m╺\u001b[0m\u001b[90m━\u001b[0m \u001b[32m7.7/8.0 MB\u001b[0m \u001b[31m36.6 MB/s\u001b[0m eta \u001b[36m0:00:01\u001b[0m\r",
      "\u001b[2K     \u001b[91m━━━━━━━━━━━━━━━━━━━━━━━━━━━━━━━━━━━━━━━\u001b[0m\u001b[91m╸\u001b[0m \u001b[32m8.0/8.0 MB\u001b[0m \u001b[31m37.4 MB/s\u001b[0m eta \u001b[36m0:00:01\u001b[0m"
     ]
    },
    {
     "name": "stdout",
     "output_type": "stream",
     "text": [
      "\r",
      "\u001b[2K     \u001b[90m━━━━━━━━━━━━━━━━━━━━━━━━━━━━━━━━━━━━━━━━\u001b[0m \u001b[32m8.0/8.0 MB\u001b[0m \u001b[31m29.7 MB/s\u001b[0m eta \u001b[36m0:00:00\u001b[0m\r\n",
      "\u001b[?25h"
     ]
    },
    {
     "name": "stdout",
     "output_type": "stream",
     "text": [
      "Collecting frozendict>=2.3.4\r\n"
     ]
    },
    {
     "name": "stdout",
     "output_type": "stream",
     "text": [
      "  Downloading frozendict-2.4.0-cp310-cp310-manylinux_2_17_x86_64.manylinux2014_x86_64.whl (116 kB)\r\n",
      "\u001b[?25l     \u001b[90m━━━━━━━━━━━━━━━━━━━━━━━━━━━━━━━━━━━━━━━━\u001b[0m \u001b[32m0.0/116.7 kB\u001b[0m \u001b[31m?\u001b[0m eta \u001b[36m-:--:--\u001b[0m\r",
      "\u001b[2K     \u001b[90m━━━━━━━━━━━━━━━━━━━━━━━━━━━━━━━━━━━━━━━\u001b[0m \u001b[32m116.7/116.7 kB\u001b[0m \u001b[31m7.9 MB/s\u001b[0m eta \u001b[36m0:00:00\u001b[0m\r\n",
      "\u001b[?25hRequirement already satisfied: beautifulsoup4>=4.11.1 in /usr/local/lib/python3.10/site-packages (from yfinance) (4.12.3)\r\n",
      "Requirement already satisfied: soupsieve>1.2 in /usr/local/lib/python3.10/site-packages (from beautifulsoup4>=4.11.1->yfinance) (2.5)\r\n"
     ]
    },
    {
     "name": "stdout",
     "output_type": "stream",
     "text": [
      "Requirement already satisfied: six>=1.9 in /usr/local/lib/python3.10/site-packages (from html5lib>=1.1->yfinance) (1.16.0)\r\n",
      "Requirement already satisfied: webencodings in /usr/local/lib/python3.10/site-packages (from html5lib>=1.1->yfinance) (0.5.1)\r\n"
     ]
    },
    {
     "name": "stdout",
     "output_type": "stream",
     "text": [
      "Requirement already satisfied: python-dateutil>=2.8.2 in /usr/local/lib/python3.10/site-packages (from pandas>=1.3.0->yfinance) (2.8.2)\r\n",
      "Requirement already satisfied: tzdata>=2022.7 in /usr/local/lib/python3.10/site-packages (from pandas>=1.3.0->yfinance) (2024.1)\r\n",
      "Requirement already satisfied: idna<4,>=2.5 in /usr/local/lib/python3.10/site-packages (from requests>=2.31->yfinance) (3.6)\r\n",
      "Requirement already satisfied: certifi>=2017.4.17 in /usr/local/lib/python3.10/site-packages (from requests>=2.31->yfinance) (2024.2.2)\r\n",
      "Requirement already satisfied: urllib3<3,>=1.21.1 in /usr/local/lib/python3.10/site-packages (from requests>=2.31->yfinance) (2.2.1)\r\n",
      "Requirement already satisfied: charset-normalizer<4,>=2 in /usr/local/lib/python3.10/site-packages (from requests>=2.31->yfinance) (3.3.2)\r\n"
     ]
    },
    {
     "name": "stdout",
     "output_type": "stream",
     "text": [
      "Building wheels for collected packages: peewee\r\n"
     ]
    },
    {
     "name": "stdout",
     "output_type": "stream",
     "text": [
      "  Building wheel for peewee (pyproject.toml) ... \u001b[?25l-"
     ]
    },
    {
     "name": "stdout",
     "output_type": "stream",
     "text": [
      "\b \b\\"
     ]
    },
    {
     "name": "stdout",
     "output_type": "stream",
     "text": [
      "\b \b|"
     ]
    },
    {
     "name": "stdout",
     "output_type": "stream",
     "text": [
      "\b \b/"
     ]
    },
    {
     "name": "stdout",
     "output_type": "stream",
     "text": [
      "\b \bdone\r\n",
      "\u001b[?25h  Created wheel for peewee: filename=peewee-3.17.1-cp310-cp310-linux_x86_64.whl size=849900 sha256=59b22d74453e38034c1e898a98e38dd1be6707f7a5b722d64fbefd98fb2b155a\r\n",
      "  Stored in directory: /root/.cache/pip/wheels/d7/35/5c/1374782be033462df5f40174d8d879519d64ed8c25a1977554\r\n",
      "Successfully built peewee\r\n"
     ]
    },
    {
     "name": "stdout",
     "output_type": "stream",
     "text": [
      "Installing collected packages: peewee, multitasking, appdirs, lxml, html5lib, frozendict, yfinance\r\n"
     ]
    },
    {
     "name": "stdout",
     "output_type": "stream",
     "text": [
      "Successfully installed appdirs-1.4.4 frozendict-2.4.0 html5lib-1.1 lxml-5.1.0 multitasking-0.0.11 peewee-3.17.1 yfinance-0.2.37\r\n",
      "\u001b[33mWARNING: Running pip as the 'root' user can result in broken permissions and conflicting behaviour with the system package manager. It is recommended to use a virtual environment instead: https://pip.pypa.io/warnings/venv\u001b[0m\u001b[33m\r\n",
      "\u001b[0m\r\n",
      "\u001b[1m[\u001b[0m\u001b[34;49mnotice\u001b[0m\u001b[1;39;49m]\u001b[0m\u001b[39;49m A new release of pip is available: \u001b[0m\u001b[31;49m23.0.1\u001b[0m\u001b[39;49m -> \u001b[0m\u001b[32;49m24.0\u001b[0m\r\n",
      "\u001b[1m[\u001b[0m\u001b[34;49mnotice\u001b[0m\u001b[1;39;49m]\u001b[0m\u001b[39;49m To update, run: \u001b[0m\u001b[32;49mpip install --upgrade pip\u001b[0m\r\n"
     ]
    },
    {
     "name": "stdout",
     "output_type": "stream",
     "text": [
      "Note: you may need to restart the kernel to use updated packages.\n"
     ]
    },
    {
     "name": "stdout",
     "output_type": "stream",
     "text": [
      "Collecting pyarrow\r\n"
     ]
    },
    {
     "name": "stdout",
     "output_type": "stream",
     "text": [
      "  Downloading pyarrow-15.0.1-cp310-cp310-manylinux_2_28_x86_64.whl (38.3 MB)\r\n",
      "\u001b[?25l     \u001b[90m━━━━━━━━━━━━━━━━━━━━━━━━━━━━━━━━━━━━━━━━\u001b[0m \u001b[32m0.0/38.3 MB\u001b[0m \u001b[31m?\u001b[0m eta \u001b[36m-:--:--\u001b[0m"
     ]
    },
    {
     "name": "stdout",
     "output_type": "stream",
     "text": [
      "\r",
      "\u001b[2K     \u001b[90m━━━━━━━━━━━━━━━━━━━━━━━━━━━━━━━━━━━━━━━━\u001b[0m \u001b[32m0.2/38.3 MB\u001b[0m \u001b[31m4.6 MB/s\u001b[0m eta \u001b[36m0:00:09\u001b[0m"
     ]
    },
    {
     "name": "stdout",
     "output_type": "stream",
     "text": [
      "\r",
      "\u001b[2K     \u001b[91m━\u001b[0m\u001b[90m╺\u001b[0m\u001b[90m━━━━━━━━━━━━━━━━━━━━━━━━━━━━━━━━━━━━━━\u001b[0m \u001b[32m1.4/38.3 MB\u001b[0m \u001b[31m19.8 MB/s\u001b[0m eta \u001b[36m0:00:02\u001b[0m\r",
      "\u001b[2K     \u001b[91m━━━━━━\u001b[0m\u001b[90m╺\u001b[0m\u001b[90m━━━━━━━━━━━━━━━━━━━━━━━━━━━━━━━━━\u001b[0m \u001b[32m6.1/38.3 MB\u001b[0m \u001b[31m58.5 MB/s\u001b[0m eta \u001b[36m0:00:01\u001b[0m"
     ]
    },
    {
     "name": "stdout",
     "output_type": "stream",
     "text": [
      "\r",
      "\u001b[2K     \u001b[91m━━━━━━━━━━━\u001b[0m\u001b[91m╸\u001b[0m\u001b[90m━━━━━━━━━━━━━━━━━━━━━━━━━━━\u001b[0m \u001b[32m11.6/38.3 MB\u001b[0m \u001b[31m149.3 MB/s\u001b[0m eta \u001b[36m0:00:01\u001b[0m"
     ]
    },
    {
     "name": "stdout",
     "output_type": "stream",
     "text": [
      "\r",
      "\u001b[2K     \u001b[91m━━━━━━━━━━━━━━━━━\u001b[0m\u001b[91m╸\u001b[0m\u001b[90m━━━━━━━━━━━━━━━━━━━━━\u001b[0m \u001b[32m17.4/38.3 MB\u001b[0m \u001b[31m164.6 MB/s\u001b[0m eta \u001b[36m0:00:01\u001b[0m\r",
      "\u001b[2K     \u001b[91m━━━━━━━━━━━━━━━━━━━━━━━\u001b[0m\u001b[90m╺\u001b[0m\u001b[90m━━━━━━━━━━━━━━━\u001b[0m \u001b[32m22.8/38.3 MB\u001b[0m \u001b[31m161.1 MB/s\u001b[0m eta \u001b[36m0:00:01\u001b[0m"
     ]
    },
    {
     "name": "stdout",
     "output_type": "stream",
     "text": [
      "\r",
      "\u001b[2K     \u001b[91m━━━━━━━━━━━━━━━━━━━━━━━━━━━━━\u001b[0m\u001b[91m╸\u001b[0m\u001b[90m━━━━━━━━━\u001b[0m \u001b[32m29.0/38.3 MB\u001b[0m \u001b[31m169.4 MB/s\u001b[0m eta \u001b[36m0:00:01\u001b[0m"
     ]
    },
    {
     "name": "stdout",
     "output_type": "stream",
     "text": [
      "\r",
      "\u001b[2K     \u001b[91m━━━━━━━━━━━━━━━━━━━━━━━━━━━━━━━━━━━\u001b[0m\u001b[90m╺\u001b[0m\u001b[90m━━━\u001b[0m \u001b[32m34.6/38.3 MB\u001b[0m \u001b[31m169.3 MB/s\u001b[0m eta \u001b[36m0:00:01\u001b[0m"
     ]
    },
    {
     "name": "stdout",
     "output_type": "stream",
     "text": [
      "\r",
      "\u001b[2K     \u001b[91m━━━━━━━━━━━━━━━━━━━━━━━━━━━━━━━━━━━━━━\u001b[0m\u001b[91m╸\u001b[0m \u001b[32m38.3/38.3 MB\u001b[0m \u001b[31m156.9 MB/s\u001b[0m eta \u001b[36m0:00:01\u001b[0m"
     ]
    },
    {
     "name": "stdout",
     "output_type": "stream",
     "text": [
      "\r",
      "\u001b[2K     \u001b[91m━━━━━━━━━━━━━━━━━━━━━━━━━━━━━━━━━━━━━━\u001b[0m\u001b[91m╸\u001b[0m \u001b[32m38.3/38.3 MB\u001b[0m \u001b[31m156.9 MB/s\u001b[0m eta \u001b[36m0:00:01\u001b[0m\r",
      "\u001b[2K     \u001b[91m━━━━━━━━━━━━━━━━━━━━━━━━━━━━━━━━━━━━━━\u001b[0m\u001b[91m╸\u001b[0m \u001b[32m38.3/38.3 MB\u001b[0m \u001b[31m156.9 MB/s\u001b[0m eta \u001b[36m0:00:01\u001b[0m"
     ]
    },
    {
     "name": "stdout",
     "output_type": "stream",
     "text": [
      "\r",
      "\u001b[2K     \u001b[91m━━━━━━━━━━━━━━━━━━━━━━━━━━━━━━━━━━━━━━\u001b[0m\u001b[91m╸\u001b[0m \u001b[32m38.3/38.3 MB\u001b[0m \u001b[31m156.9 MB/s\u001b[0m eta \u001b[36m0:00:01\u001b[0m"
     ]
    },
    {
     "name": "stdout",
     "output_type": "stream",
     "text": [
      "\r",
      "\u001b[2K     \u001b[91m━━━━━━━━━━━━━━━━━━━━━━━━━━━━━━━━━━━━━━\u001b[0m\u001b[91m╸\u001b[0m \u001b[32m38.3/38.3 MB\u001b[0m \u001b[31m156.9 MB/s\u001b[0m eta \u001b[36m0:00:01\u001b[0m\r",
      "\u001b[2K     \u001b[91m━━━━━━━━━━━━━━━━━━━━━━━━━━━━━━━━━━━━━━\u001b[0m\u001b[91m╸\u001b[0m \u001b[32m38.3/38.3 MB\u001b[0m \u001b[31m156.9 MB/s\u001b[0m eta \u001b[36m0:00:01\u001b[0m"
     ]
    },
    {
     "name": "stdout",
     "output_type": "stream",
     "text": [
      "\r",
      "\u001b[2K     \u001b[91m━━━━━━━━━━━━━━━━━━━━━━━━━━━━━━━━━━━━━━\u001b[0m\u001b[91m╸\u001b[0m \u001b[32m38.3/38.3 MB\u001b[0m \u001b[31m156.9 MB/s\u001b[0m eta \u001b[36m0:00:01\u001b[0m"
     ]
    },
    {
     "name": "stdout",
     "output_type": "stream",
     "text": [
      "\r",
      "\u001b[2K     \u001b[91m━━━━━━━━━━━━━━━━━━━━━━━━━━━━━━━━━━━━━━\u001b[0m\u001b[91m╸\u001b[0m \u001b[32m38.3/38.3 MB\u001b[0m \u001b[31m156.9 MB/s\u001b[0m eta \u001b[36m0:00:01\u001b[0m\r",
      "\u001b[2K     \u001b[91m━━━━━━━━━━━━━━━━━━━━━━━━━━━━━━━━━━━━━━\u001b[0m\u001b[91m╸\u001b[0m \u001b[32m38.3/38.3 MB\u001b[0m \u001b[31m156.9 MB/s\u001b[0m eta \u001b[36m0:00:01\u001b[0m"
     ]
    },
    {
     "name": "stdout",
     "output_type": "stream",
     "text": [
      "\r",
      "\u001b[2K     \u001b[91m━━━━━━━━━━━━━━━━━━━━━━━━━━━━━━━━━━━━━━\u001b[0m\u001b[91m╸\u001b[0m \u001b[32m38.3/38.3 MB\u001b[0m \u001b[31m156.9 MB/s\u001b[0m eta \u001b[36m0:00:01\u001b[0m"
     ]
    },
    {
     "name": "stdout",
     "output_type": "stream",
     "text": [
      "\r",
      "\u001b[2K     \u001b[91m━━━━━━━━━━━━━━━━━━━━━━━━━━━━━━━━━━━━━━\u001b[0m\u001b[91m╸\u001b[0m \u001b[32m38.3/38.3 MB\u001b[0m \u001b[31m156.9 MB/s\u001b[0m eta \u001b[36m0:00:01\u001b[0m"
     ]
    },
    {
     "name": "stdout",
     "output_type": "stream",
     "text": [
      "\r",
      "\u001b[2K     \u001b[91m━━━━━━━━━━━━━━━━━━━━━━━━━━━━━━━━━━━━━━\u001b[0m\u001b[91m╸\u001b[0m \u001b[32m38.3/38.3 MB\u001b[0m \u001b[31m156.9 MB/s\u001b[0m eta \u001b[36m0:00:01\u001b[0m\r",
      "\u001b[2K     \u001b[91m━━━━━━━━━━━━━━━━━━━━━━━━━━━━━━━━━━━━━━\u001b[0m\u001b[91m╸\u001b[0m \u001b[32m38.3/38.3 MB\u001b[0m \u001b[31m156.9 MB/s\u001b[0m eta \u001b[36m0:00:01\u001b[0m"
     ]
    },
    {
     "name": "stdout",
     "output_type": "stream",
     "text": [
      "\r",
      "\u001b[2K     \u001b[91m━━━━━━━━━━━━━━━━━━━━━━━━━━━━━━━━━━━━━━\u001b[0m\u001b[91m╸\u001b[0m \u001b[32m38.3/38.3 MB\u001b[0m \u001b[31m156.9 MB/s\u001b[0m eta \u001b[36m0:00:01\u001b[0m"
     ]
    },
    {
     "name": "stdout",
     "output_type": "stream",
     "text": [
      "\r",
      "\u001b[2K     \u001b[91m━━━━━━━━━━━━━━━━━━━━━━━━━━━━━━━━━━━━━━\u001b[0m\u001b[91m╸\u001b[0m \u001b[32m38.3/38.3 MB\u001b[0m \u001b[31m156.9 MB/s\u001b[0m eta \u001b[36m0:00:01\u001b[0m\r",
      "\u001b[2K     \u001b[91m━━━━━━━━━━━━━━━━━━━━━━━━━━━━━━━━━━━━━━\u001b[0m\u001b[91m╸\u001b[0m \u001b[32m38.3/38.3 MB\u001b[0m \u001b[31m156.9 MB/s\u001b[0m eta \u001b[36m0:00:01\u001b[0m"
     ]
    },
    {
     "name": "stdout",
     "output_type": "stream",
     "text": [
      "\r",
      "\u001b[2K     \u001b[91m━━━━━━━━━━━━━━━━━━━━━━━━━━━━━━━━━━━━━━\u001b[0m\u001b[91m╸\u001b[0m \u001b[32m38.3/38.3 MB\u001b[0m \u001b[31m156.9 MB/s\u001b[0m eta \u001b[36m0:00:01\u001b[0m"
     ]
    },
    {
     "name": "stdout",
     "output_type": "stream",
     "text": [
      "\r",
      "\u001b[2K     \u001b[91m━━━━━━━━━━━━━━━━━━━━━━━━━━━━━━━━━━━━━━\u001b[0m\u001b[91m╸\u001b[0m \u001b[32m38.3/38.3 MB\u001b[0m \u001b[31m156.9 MB/s\u001b[0m eta \u001b[36m0:00:01\u001b[0m\r",
      "\u001b[2K     \u001b[91m━━━━━━━━━━━━━━━━━━━━━━━━━━━━━━━━━━━━━━\u001b[0m\u001b[91m╸\u001b[0m \u001b[32m38.3/38.3 MB\u001b[0m \u001b[31m156.9 MB/s\u001b[0m eta \u001b[36m0:00:01\u001b[0m"
     ]
    },
    {
     "name": "stdout",
     "output_type": "stream",
     "text": [
      "\r",
      "\u001b[2K     \u001b[91m━━━━━━━━━━━━━━━━━━━━━━━━━━━━━━━━━━━━━━\u001b[0m\u001b[91m╸\u001b[0m \u001b[32m38.3/38.3 MB\u001b[0m \u001b[31m156.9 MB/s\u001b[0m eta \u001b[36m0:00:01\u001b[0m"
     ]
    },
    {
     "name": "stdout",
     "output_type": "stream",
     "text": [
      "\r",
      "\u001b[2K     \u001b[91m━━━━━━━━━━━━━━━━━━━━━━━━━━━━━━━━━━━━━━\u001b[0m\u001b[91m╸\u001b[0m \u001b[32m38.3/38.3 MB\u001b[0m \u001b[31m156.9 MB/s\u001b[0m eta \u001b[36m0:00:01\u001b[0m\r",
      "\u001b[2K     \u001b[90m━━━━━━━━━━━━━━━━━━━━━━━━━━━━━━━━━━━━━━━━\u001b[0m \u001b[32m38.3/38.3 MB\u001b[0m \u001b[31m12.3 MB/s\u001b[0m eta \u001b[36m0:00:00\u001b[0m\r\n",
      "\u001b[?25h"
     ]
    },
    {
     "name": "stdout",
     "output_type": "stream",
     "text": [
      "Requirement already satisfied: numpy<2,>=1.16.6 in /usr/local/lib/python3.10/site-packages (from pyarrow) (1.26.4)\r\n"
     ]
    },
    {
     "name": "stdout",
     "output_type": "stream",
     "text": [
      "Installing collected packages: pyarrow\r\n"
     ]
    },
    {
     "name": "stdout",
     "output_type": "stream",
     "text": [
      "Successfully installed pyarrow-15.0.1\r\n",
      "\u001b[33mWARNING: Running pip as the 'root' user can result in broken permissions and conflicting behaviour with the system package manager. It is recommended to use a virtual environment instead: https://pip.pypa.io/warnings/venv\u001b[0m\u001b[33m\r\n",
      "\u001b[0m\r\n",
      "\u001b[1m[\u001b[0m\u001b[34;49mnotice\u001b[0m\u001b[1;39;49m]\u001b[0m\u001b[39;49m A new release of pip is available: \u001b[0m\u001b[31;49m23.0.1\u001b[0m\u001b[39;49m -> \u001b[0m\u001b[32;49m24.0\u001b[0m\r\n",
      "\u001b[1m[\u001b[0m\u001b[34;49mnotice\u001b[0m\u001b[1;39;49m]\u001b[0m\u001b[39;49m To update, run: \u001b[0m\u001b[32;49mpip install --upgrade pip\u001b[0m\r\n"
     ]
    },
    {
     "name": "stdout",
     "output_type": "stream",
     "text": [
      "Note: you may need to restart the kernel to use updated packages.\n"
     ]
    },
    {
     "name": "stdout",
     "output_type": "stream",
     "text": [
      "Collecting ta\r\n"
     ]
    },
    {
     "name": "stdout",
     "output_type": "stream",
     "text": [
      "  Downloading ta-0.11.0.tar.gz (25 kB)\r\n"
     ]
    },
    {
     "name": "stdout",
     "output_type": "stream",
     "text": [
      "  Preparing metadata (setup.py) ... \u001b[?25l-"
     ]
    },
    {
     "name": "stdout",
     "output_type": "stream",
     "text": [
      "\b \bdone\r\n"
     ]
    },
    {
     "name": "stdout",
     "output_type": "stream",
     "text": [
      "\u001b[?25hRequirement already satisfied: numpy in /usr/local/lib/python3.10/site-packages (from ta) (1.26.4)\r\n",
      "Requirement already satisfied: pandas in /usr/local/lib/python3.10/site-packages (from ta) (2.2.0)\r\n"
     ]
    },
    {
     "name": "stdout",
     "output_type": "stream",
     "text": [
      "Requirement already satisfied: python-dateutil>=2.8.2 in /usr/local/lib/python3.10/site-packages (from pandas->ta) (2.8.2)\r\n",
      "Requirement already satisfied: tzdata>=2022.7 in /usr/local/lib/python3.10/site-packages (from pandas->ta) (2024.1)\r\n",
      "Requirement already satisfied: pytz>=2020.1 in /usr/local/lib/python3.10/site-packages (from pandas->ta) (2024.1)\r\n",
      "Requirement already satisfied: six>=1.5 in /usr/local/lib/python3.10/site-packages (from python-dateutil>=2.8.2->pandas->ta) (1.16.0)\r\n",
      "Building wheels for collected packages: ta\r\n"
     ]
    },
    {
     "name": "stdout",
     "output_type": "stream",
     "text": [
      "  Building wheel for ta (setup.py) ... \u001b[?25l-"
     ]
    },
    {
     "name": "stdout",
     "output_type": "stream",
     "text": [
      "\b \b\\"
     ]
    },
    {
     "name": "stdout",
     "output_type": "stream",
     "text": [
      "\b \bdone\r\n",
      "\u001b[?25h  Created wheel for ta: filename=ta-0.11.0-py3-none-any.whl size=29413 sha256=cfb6edf82396e9069b956b3626431a11ba3672cf00f76b2eaa6837580387a3d0\r\n",
      "  Stored in directory: /root/.cache/pip/wheels/5f/67/4f/8a9f252836e053e532c6587a3230bc72a4deb16b03a829610b\r\n",
      "Successfully built ta\r\n"
     ]
    },
    {
     "name": "stdout",
     "output_type": "stream",
     "text": [
      "Installing collected packages: ta\r\n"
     ]
    },
    {
     "name": "stdout",
     "output_type": "stream",
     "text": [
      "Successfully installed ta-0.11.0\r\n",
      "\u001b[33mWARNING: Running pip as the 'root' user can result in broken permissions and conflicting behaviour with the system package manager. It is recommended to use a virtual environment instead: https://pip.pypa.io/warnings/venv\u001b[0m\u001b[33m\r\n",
      "\u001b[0m\r\n",
      "\u001b[1m[\u001b[0m\u001b[34;49mnotice\u001b[0m\u001b[1;39;49m]\u001b[0m\u001b[39;49m A new release of pip is available: \u001b[0m\u001b[31;49m23.0.1\u001b[0m\u001b[39;49m -> \u001b[0m\u001b[32;49m24.0\u001b[0m\r\n",
      "\u001b[1m[\u001b[0m\u001b[34;49mnotice\u001b[0m\u001b[1;39;49m]\u001b[0m\u001b[39;49m To update, run: \u001b[0m\u001b[32;49mpip install --upgrade pip\u001b[0m\r\n"
     ]
    },
    {
     "name": "stdout",
     "output_type": "stream",
     "text": [
      "Note: you may need to restart the kernel to use updated packages.\n"
     ]
    },
    {
     "name": "stdout",
     "output_type": "stream",
     "text": [
      "Collecting pandas_ta\r\n"
     ]
    },
    {
     "name": "stdout",
     "output_type": "stream",
     "text": [
      "  Downloading pandas_ta-0.3.14b.tar.gz (115 kB)\r\n",
      "\u001b[?25l     \u001b[90m━━━━━━━━━━━━━━━━━━━━━━━━━━━━━━━━━━━━━━━━\u001b[0m \u001b[32m0.0/115.1 kB\u001b[0m \u001b[31m?\u001b[0m eta \u001b[36m-:--:--\u001b[0m\r",
      "\u001b[2K     \u001b[90m━━━━━━━━━━━━━━━━━━━━━━━━━━━━━━━━━━━━━━━\u001b[0m \u001b[32m115.1/115.1 kB\u001b[0m \u001b[31m3.5 MB/s\u001b[0m eta \u001b[36m0:00:00\u001b[0m\r\n",
      "\u001b[?25h"
     ]
    },
    {
     "name": "stdout",
     "output_type": "stream",
     "text": [
      "  Preparing metadata (setup.py) ... \u001b[?25l-"
     ]
    },
    {
     "name": "stdout",
     "output_type": "stream",
     "text": [
      "\b \bdone\r\n",
      "\u001b[?25hRequirement already satisfied: pandas in /usr/local/lib/python3.10/site-packages (from pandas_ta) (2.2.0)\r\n"
     ]
    },
    {
     "name": "stdout",
     "output_type": "stream",
     "text": [
      "Requirement already satisfied: numpy<2,>=1.22.4 in /usr/local/lib/python3.10/site-packages (from pandas->pandas_ta) (1.26.4)\r\n",
      "Requirement already satisfied: python-dateutil>=2.8.2 in /usr/local/lib/python3.10/site-packages (from pandas->pandas_ta) (2.8.2)\r\n",
      "Requirement already satisfied: pytz>=2020.1 in /usr/local/lib/python3.10/site-packages (from pandas->pandas_ta) (2024.1)\r\n",
      "Requirement already satisfied: tzdata>=2022.7 in /usr/local/lib/python3.10/site-packages (from pandas->pandas_ta) (2024.1)\r\n"
     ]
    },
    {
     "name": "stdout",
     "output_type": "stream",
     "text": [
      "Requirement already satisfied: six>=1.5 in /usr/local/lib/python3.10/site-packages (from python-dateutil>=2.8.2->pandas->pandas_ta) (1.16.0)\r\n",
      "Building wheels for collected packages: pandas_ta\r\n"
     ]
    },
    {
     "name": "stdout",
     "output_type": "stream",
     "text": [
      "  Building wheel for pandas_ta (setup.py) ... \u001b[?25l-"
     ]
    },
    {
     "name": "stdout",
     "output_type": "stream",
     "text": [
      "\b \b\\"
     ]
    },
    {
     "name": "stdout",
     "output_type": "stream",
     "text": [
      "\b \b|"
     ]
    },
    {
     "name": "stdout",
     "output_type": "stream",
     "text": [
      "\b \bdone\r\n",
      "\u001b[?25h  Created wheel for pandas_ta: filename=pandas_ta-0.3.14b0-py3-none-any.whl size=218907 sha256=de9b2068dd8678b57f9a050c9ee1970ec6f36f03c2159720525a6dc796b07463\r\n",
      "  Stored in directory: /root/.cache/pip/wheels/69/00/ac/f7fa862c34b0e2ef320175100c233377b4c558944f12474cf0\r\n",
      "Successfully built pandas_ta\r\n"
     ]
    },
    {
     "name": "stdout",
     "output_type": "stream",
     "text": [
      "Installing collected packages: pandas_ta\r\n"
     ]
    },
    {
     "name": "stdout",
     "output_type": "stream",
     "text": [
      "Successfully installed pandas_ta-0.3.14b0\r\n",
      "\u001b[33mWARNING: Running pip as the 'root' user can result in broken permissions and conflicting behaviour with the system package manager. It is recommended to use a virtual environment instead: https://pip.pypa.io/warnings/venv\u001b[0m\u001b[33m\r\n",
      "\u001b[0m\r\n",
      "\u001b[1m[\u001b[0m\u001b[34;49mnotice\u001b[0m\u001b[1;39;49m]\u001b[0m\u001b[39;49m A new release of pip is available: \u001b[0m\u001b[31;49m23.0.1\u001b[0m\u001b[39;49m -> \u001b[0m\u001b[32;49m24.0\u001b[0m\r\n",
      "\u001b[1m[\u001b[0m\u001b[34;49mnotice\u001b[0m\u001b[1;39;49m]\u001b[0m\u001b[39;49m To update, run: \u001b[0m\u001b[32;49mpip install --upgrade pip\u001b[0m\r\n"
     ]
    },
    {
     "name": "stdout",
     "output_type": "stream",
     "text": [
      "Note: you may need to restart the kernel to use updated packages.\n"
     ]
    },
    {
     "name": "stdout",
     "output_type": "stream",
     "text": [
      "Requirement already satisfied: tqdm in /usr/local/lib/python3.10/site-packages (4.66.2)\r\n"
     ]
    },
    {
     "name": "stdout",
     "output_type": "stream",
     "text": [
      "\u001b[33mWARNING: Running pip as the 'root' user can result in broken permissions and conflicting behaviour with the system package manager. It is recommended to use a virtual environment instead: https://pip.pypa.io/warnings/venv\u001b[0m\u001b[33m\r\n",
      "\u001b[0m\r\n",
      "\u001b[1m[\u001b[0m\u001b[34;49mnotice\u001b[0m\u001b[1;39;49m]\u001b[0m\u001b[39;49m A new release of pip is available: \u001b[0m\u001b[31;49m23.0.1\u001b[0m\u001b[39;49m -> \u001b[0m\u001b[32;49m24.0\u001b[0m\r\n",
      "\u001b[1m[\u001b[0m\u001b[34;49mnotice\u001b[0m\u001b[1;39;49m]\u001b[0m\u001b[39;49m To update, run: \u001b[0m\u001b[32;49mpip install --upgrade pip\u001b[0m\r\n"
     ]
    },
    {
     "name": "stdout",
     "output_type": "stream",
     "text": [
      "Note: you may need to restart the kernel to use updated packages.\n"
     ]
    }
   ],
   "source": [
    "if 'KAGGLE_KERNEL_RUN_TYPE' in os.environ:\n",
    "    print('Running in Kaggle...')\n",
    "\n",
    "    %pip install scikit-learn\n",
    "    %pip install matplotlib\n",
    "    %pip install tf-agents[reverb]\n",
    "    %pip install shutil\n",
    "    %pip install yfinance\n",
    "    %pip install pyarrow\n",
    "    %pip install ta\n",
    "    %pip install pandas_ta\n",
    "    %pip install tqdm\n",
    "\n",
    "    for dirname, _, filenames in os.walk('/kaggle/input'):\n",
    "        for filename in filenames:\n",
    "            print(os.path.join(dirname, filename))\n",
    "\n",
    "    DATA_DIR = \"/kaggle/input/DATASET\"\n",
    "    IN_KAGGLE = True\n",
    "else:\n",
    "    IN_KAGGLE = False\n",
    "    DATA_DIR = \"./data/\""
   ]
  },
  {
   "cell_type": "code",
   "execution_count": 3,
   "id": "c0945adf",
   "metadata": {
    "execution": {
     "iopub.execute_input": "2024-03-16T01:39:50.516656Z",
     "iopub.status.busy": "2024-03-16T01:39:50.516322Z",
     "iopub.status.idle": "2024-03-16T01:40:09.906554Z",
     "shell.execute_reply": "2024-03-16T01:40:09.905846Z"
    },
    "executionInfo": {
     "elapsed": 6369,
     "status": "ok",
     "timestamp": 1710410576375,
     "user": {
      "displayName": "Adam Darmanin",
      "userId": "00262451996831505471"
     },
     "user_tz": -60
    },
    "id": "GJiIs_h-H0Ca",
    "outputId": "e639a0a2-0f32-4741-916b-afb9f8f8202d",
    "papermill": {
     "duration": 19.409634,
     "end_time": "2024-03-16T01:40:09.908420",
     "exception": false,
     "start_time": "2024-03-16T01:39:50.498786",
     "status": "completed"
    },
    "tags": []
   },
   "outputs": [
    {
     "name": "stdout",
     "output_type": "stream",
     "text": [
      "Running on CPU\n",
      "Number of accelerators: 1\n"
     ]
    },
    {
     "data": {
      "text/plain": [
       "'/kaggle/working'"
      ]
     },
     "execution_count": 3,
     "metadata": {},
     "output_type": "execute_result"
    }
   ],
   "source": [
    "import numpy as np\n",
    "import math\n",
    "import shutil\n",
    "import yfinance as yf\n",
    "import pandas as pd\n",
    "\n",
    "import matplotlib.pyplot as plt\n",
    "import matplotlib.dates as mdates\n",
    "\n",
    "from datetime import datetime\n",
    "\n",
    "from scipy.stats import skew, kurtosis\n",
    "from ta.utils import dropna\n",
    "from ta.trend import MACD, EMAIndicator\n",
    "from ta.volatility import AverageTrueRange\n",
    "\n",
    "import tensorflow as tf\n",
    "from tf_agents.specs import array_spec, tensor_spec\n",
    "from tf_agents.trajectories import time_step as ts\n",
    "from tf_agents.utils import common\n",
    "from tf_agents.agents.dqn import dqn_agent\n",
    "from tf_agents.drivers import py_driver\n",
    "from tf_agents.environments import py_environment, tf_py_environment, utils\n",
    "from tf_agents.networks import sequential\n",
    "from tf_agents.policies import py_tf_eager_policy, policy_saver, random_tf_policy\n",
    "\n",
    "import reverb\n",
    "from tf_agents.replay_buffers import reverb_replay_buffer, reverb_utils\n",
    "\n",
    "from tqdm import tqdm\n",
    "\n",
    "os.environ['TF_CPP_MIN_LOG_LEVEL'] = '3'\n",
    "# In case CPU > GPU\n",
    "# tf.config.set_visible_devices([], 'GPU')\n",
    "\n",
    "resolver = None\n",
    "\n",
    "if ('COLAB_TPU_ADDR' in os.environ and IN_COLAB) or (IN_KAGGLE and 'TPU_NAME' in os.environ):\n",
    "    tpu = tf.distribute.cluster_resolver.TPUClusterResolver()\n",
    "    tf.config.experimental_connect_to_cluster(tpu)\n",
    "    tf.tpu.experimental.initialize_tpu_system(tpu)\n",
    "    strategy = tf.distribute.experimental.TPUStrategy(tpu)\n",
    "    print(\"Running on TPU:\", resolver.master())\n",
    "elif len(tf.config.list_physical_devices('GPU')) > 0:\n",
    "    strategy = tf.distribute.MirroredStrategy()\n",
    "    gpus = tf.config.experimental.list_physical_devices('GPU')\n",
    "    for gpu in gpus:\n",
    "        tf.config.experimental.set_memory_growth(gpu, True)\n",
    "    print(\"Running on\", len(tf.config.list_physical_devices('GPU')), \"GPU(s)\")\n",
    "else:\n",
    "    strategy = tf.distribute.get_strategy()\n",
    "    print(\"Running on CPU\")\n",
    "\n",
    "print(\"Number of accelerators:\", strategy.num_replicas_in_sync)\n",
    "\n",
    "os.getcwd()"
   ]
  },
  {
   "cell_type": "code",
   "execution_count": 4,
   "id": "33de27ba",
   "metadata": {
    "execution": {
     "iopub.execute_input": "2024-03-16T01:40:09.942567Z",
     "iopub.status.busy": "2024-03-16T01:40:09.942017Z",
     "iopub.status.idle": "2024-03-16T01:40:09.950305Z",
     "shell.execute_reply": "2024-03-16T01:40:09.949700Z"
    },
    "executionInfo": {
     "elapsed": 8,
     "status": "ok",
     "timestamp": 1710410576375,
     "user": {
      "displayName": "Adam Darmanin",
      "userId": "00262451996831505471"
     },
     "user_tz": -60
    },
    "id": "Mh5TWk3l1CJ-",
    "papermill": {
     "duration": 0.027168,
     "end_time": "2024-03-16T01:40:09.951955",
     "exception": false,
     "start_time": "2024-03-16T01:40:09.924787",
     "status": "completed"
    },
    "tags": []
   },
   "outputs": [],
   "source": [
    "START_DATE = \"2017-01-01\"\n",
    "SPLIT_DATE = '2018-1-1' # Turning point from train to tst\n",
    "END_DATE = \"2019-12-31\" # pd.Timestamp(datetime.now() - BDay(1)).strftime('%Y-%m-%d')\n",
    "DATA_DIR = \"./data\"\n",
    "INDEX = \"Date\"\n",
    "TARGET = 'TSLA'\n",
    "RATES_INDEX = \"^TNX\"  # 10 Year Treasury Note Yield\n",
    "VOLATILITY_INDEX = \"^VIX\"  # CBOE Volatility Index\n",
    "SMALLCAP_INDEX = \"^RUT\" # Russell 2000 Index\n",
    "GOLD_INDEX = \"GC=F\" # Gold futures\n",
    "MARKET = \"^SPX\"\n",
    "TICKER_SYMBOLS = [TARGET, RATES_INDEX, VOLATILITY_INDEX, SMALLCAP_INDEX, GOLD_INDEX, MARKET]\n",
    "INTERVAL = \"1d\"\n",
    "\n",
    "MODELS_PATH = './models'\n",
    "LOGS_PATH = './logs'\n",
    "\n",
    "ACT_NEUTRAL = 3 # Added this action to go to neutral and wait\n",
    "ACT_HOLD = 2\n",
    "ACT_LONG = 1\n",
    "ACT_SHORT = 0\n",
    "ACTIONS = [ACT_SHORT, ACT_LONG]\n",
    "\n",
    "CAPITAL = 100000\n",
    "TRADE_COSTS_PERCENT = 10 / 100 / 100 # 10BPS costs\n",
    "\n",
    "MACRO_FEATURES = [RATES_INDEX, VOLATILITY_INDEX, MARKET]\n",
    "TA_FEATURES = ['MACD', 'MACD_HIST', 'MACD_SIG', 'ATR']\n",
    "FEATURES = [\"Close\", \"High\", \"Low\", \"Open\", \"Volume\"]\n",
    "TARGET_FEATURE = \"Price Raw\"\n",
    "STATE_LEN = 30\n",
    "OBS_SPACE = (STATE_LEN)*len(FEATURES)\n",
    "ACT_SPACE = len(ACTIONS)\n",
    "\n",
    "BATCH_SIZE = 32 * strategy.num_replicas_in_sync\n",
    "LEARN_RATE = 1e-3\n",
    "TOTAL_ITERS = 600 #10000\n",
    "TRAIN_EPISODES = 10\n",
    "INIT_COLLECT = 100\n",
    "TOTAL_COLLECT = 1\n",
    "LOG_INTERVALS = 50\n",
    "TEST_INTERVALS = 5\n",
    "MEMORY_LENGTH = 100000\n",
    "DISCOUNT = .6\n",
    "EPSILON_START = 1.\n",
    "TARGET_UPDATE = 1000\n",
    "EPSILON_END = 0.0015\n",
    "EPSILON_DECAY = 1000\n",
    "GRAD_CLIP = 1\n",
    "REWARD_CLIP = 1\n",
    "PUNISHMENT = 1.25 # Increase the negative 'reward'\n",
    "\n",
    "DROPOUT = 0.4\n",
    "L2FACTOR = 0.000001\n",
    "NEURONS = 512\n",
    "LAYERS = (NEURONS, NEURONS, NEURONS, NEURONS, NEURONS)"
   ]
  },
  {
   "cell_type": "markdown",
   "id": "63f02af5",
   "metadata": {
    "id": "H4DpIfIPH0Ch",
    "papermill": {
     "duration": 0.017671,
     "end_time": "2024-03-16T01:40:09.985526",
     "exception": false,
     "start_time": "2024-03-16T01:40:09.967855",
     "status": "completed"
    },
    "tags": []
   },
   "source": [
    "# Financial Data\n",
    "\n",
    "We download some financial data, this is now the standard in our articles."
   ]
  },
  {
   "cell_type": "code",
   "execution_count": 5,
   "id": "b23a1e0a",
   "metadata": {
    "execution": {
     "iopub.execute_input": "2024-03-16T01:40:10.018725Z",
     "iopub.status.busy": "2024-03-16T01:40:10.018432Z",
     "iopub.status.idle": "2024-03-16T01:40:11.333881Z",
     "shell.execute_reply": "2024-03-16T01:40:11.333238Z"
    },
    "executionInfo": {
     "elapsed": 1225,
     "status": "ok",
     "timestamp": 1710410577593,
     "user": {
      "displayName": "Adam Darmanin",
      "userId": "00262451996831505471"
     },
     "user_tz": -60
    },
    "id": "s64pmt9mH0Cj",
    "outputId": "ffdcc9c6-322f-4598-c4d0-92ffb7f60885",
    "papermill": {
     "duration": 1.334087,
     "end_time": "2024-03-16T01:40:11.335506",
     "exception": false,
     "start_time": "2024-03-16T01:40:10.001419",
     "status": "completed"
    },
    "tags": []
   },
   "outputs": [
    {
     "name": "stdout",
     "output_type": "stream",
     "text": [
      "TSLA => min_date: 2017-01-03 00:00:00, max_date: 2019-12-30 00:00:00, kurt:-0.56, skewness:-0.28, outliers_count:0,  nan_count: 0\n",
      "^TNX => min_date: 2017-01-03 00:00:00, max_date: 2019-12-30 00:00:00, kurt:-0.64, skewness:-0.29, outliers_count:0,  nan_count: 0\n"
     ]
    },
    {
     "name": "stdout",
     "output_type": "stream",
     "text": [
      "^VIX => min_date: 2017-01-03 00:00:00, max_date: 2019-12-30 00:00:00, kurt:3.5, skewness:1.55, outliers_count:11,  nan_count: 0\n",
      "^RUT => min_date: 2017-01-03 00:00:00, max_date: 2019-12-30 00:00:00, kurt:-0.71, skewness:0.05, outliers_count:0,  nan_count: 0\n"
     ]
    },
    {
     "name": "stdout",
     "output_type": "stream",
     "text": [
      "GC=F => min_date: 2017-01-03 00:00:00, max_date: 2019-12-30 00:00:00, kurt:0.24, skewness:1.05, outliers_count:0,  nan_count: 0\n",
      "^SPX => min_date: 2017-01-03 00:00:00, max_date: 2019-12-30 00:00:00, kurt:-0.78, skewness:-0.05, outliers_count:0,  nan_count: 0\n"
     ]
    },
    {
     "data": {
      "text/html": [
       "<div>\n",
       "<style scoped>\n",
       "    .dataframe tbody tr th:only-of-type {\n",
       "        vertical-align: middle;\n",
       "    }\n",
       "\n",
       "    .dataframe tbody tr th {\n",
       "        vertical-align: top;\n",
       "    }\n",
       "\n",
       "    .dataframe thead th {\n",
       "        text-align: right;\n",
       "    }\n",
       "</style>\n",
       "<table border=\"1\" class=\"dataframe\">\n",
       "  <thead>\n",
       "    <tr style=\"text-align: right;\">\n",
       "      <th></th>\n",
       "      <th>Open</th>\n",
       "      <th>High</th>\n",
       "      <th>Low</th>\n",
       "      <th>Close</th>\n",
       "      <th>Adj Close</th>\n",
       "      <th>Volume</th>\n",
       "      <th>MACD</th>\n",
       "      <th>MACD_HIST</th>\n",
       "      <th>MACD_SIG</th>\n",
       "      <th>ATR</th>\n",
       "      <th>EMA</th>\n",
       "    </tr>\n",
       "    <tr>\n",
       "      <th>Date</th>\n",
       "      <th></th>\n",
       "      <th></th>\n",
       "      <th></th>\n",
       "      <th></th>\n",
       "      <th></th>\n",
       "      <th></th>\n",
       "      <th></th>\n",
       "      <th></th>\n",
       "      <th></th>\n",
       "      <th></th>\n",
       "      <th></th>\n",
       "    </tr>\n",
       "  </thead>\n",
       "  <tbody>\n",
       "    <tr>\n",
       "      <th>2017-01-03</th>\n",
       "      <td>14.324000</td>\n",
       "      <td>14.688667</td>\n",
       "      <td>14.064000</td>\n",
       "      <td>14.466000</td>\n",
       "      <td>14.466000</td>\n",
       "      <td>88849500</td>\n",
       "      <td>0.000000</td>\n",
       "      <td>0.000000</td>\n",
       "      <td>0.000000</td>\n",
       "      <td>0.000000</td>\n",
       "      <td>14.466000</td>\n",
       "    </tr>\n",
       "    <tr>\n",
       "      <th>2017-01-04</th>\n",
       "      <td>14.316667</td>\n",
       "      <td>15.200000</td>\n",
       "      <td>14.287333</td>\n",
       "      <td>15.132667</td>\n",
       "      <td>15.132667</td>\n",
       "      <td>168202500</td>\n",
       "      <td>0.053181</td>\n",
       "      <td>0.042545</td>\n",
       "      <td>0.010636</td>\n",
       "      <td>0.000000</td>\n",
       "      <td>14.554889</td>\n",
       "    </tr>\n",
       "    <tr>\n",
       "      <th>2017-01-05</th>\n",
       "      <td>15.094667</td>\n",
       "      <td>15.165333</td>\n",
       "      <td>14.796667</td>\n",
       "      <td>15.116667</td>\n",
       "      <td>15.116667</td>\n",
       "      <td>88675500</td>\n",
       "      <td>0.092965</td>\n",
       "      <td>0.065863</td>\n",
       "      <td>0.027102</td>\n",
       "      <td>0.000000</td>\n",
       "      <td>14.629792</td>\n",
       "    </tr>\n",
       "    <tr>\n",
       "      <th>2017-01-06</th>\n",
       "      <td>15.128667</td>\n",
       "      <td>15.354000</td>\n",
       "      <td>15.030000</td>\n",
       "      <td>15.267333</td>\n",
       "      <td>15.267333</td>\n",
       "      <td>82918500</td>\n",
       "      <td>0.135095</td>\n",
       "      <td>0.086394</td>\n",
       "      <td>0.048701</td>\n",
       "      <td>0.000000</td>\n",
       "      <td>14.714798</td>\n",
       "    </tr>\n",
       "    <tr>\n",
       "      <th>2017-01-09</th>\n",
       "      <td>15.264667</td>\n",
       "      <td>15.461333</td>\n",
       "      <td>15.200000</td>\n",
       "      <td>15.418667</td>\n",
       "      <td>15.418667</td>\n",
       "      <td>59692500</td>\n",
       "      <td>0.178635</td>\n",
       "      <td>0.103947</td>\n",
       "      <td>0.074687</td>\n",
       "      <td>0.000000</td>\n",
       "      <td>14.808647</td>\n",
       "    </tr>\n",
       "    <tr>\n",
       "      <th>...</th>\n",
       "      <td>...</td>\n",
       "      <td>...</td>\n",
       "      <td>...</td>\n",
       "      <td>...</td>\n",
       "      <td>...</td>\n",
       "      <td>...</td>\n",
       "      <td>...</td>\n",
       "      <td>...</td>\n",
       "      <td>...</td>\n",
       "      <td>...</td>\n",
       "      <td>...</td>\n",
       "    </tr>\n",
       "    <tr>\n",
       "      <th>2019-12-23</th>\n",
       "      <td>27.452000</td>\n",
       "      <td>28.134001</td>\n",
       "      <td>27.333332</td>\n",
       "      <td>27.948000</td>\n",
       "      <td>27.948000</td>\n",
       "      <td>199794000</td>\n",
       "      <td>1.430910</td>\n",
       "      <td>0.395042</td>\n",
       "      <td>1.035868</td>\n",
       "      <td>0.775349</td>\n",
       "      <td>25.108233</td>\n",
       "    </tr>\n",
       "    <tr>\n",
       "      <th>2019-12-24</th>\n",
       "      <td>27.890667</td>\n",
       "      <td>28.364668</td>\n",
       "      <td>27.512667</td>\n",
       "      <td>28.350000</td>\n",
       "      <td>28.350000</td>\n",
       "      <td>120820500</td>\n",
       "      <td>1.562356</td>\n",
       "      <td>0.421191</td>\n",
       "      <td>1.141165</td>\n",
       "      <td>0.780824</td>\n",
       "      <td>25.540469</td>\n",
       "    </tr>\n",
       "    <tr>\n",
       "      <th>2019-12-26</th>\n",
       "      <td>28.527332</td>\n",
       "      <td>28.898666</td>\n",
       "      <td>28.423332</td>\n",
       "      <td>28.729334</td>\n",
       "      <td>28.729334</td>\n",
       "      <td>159508500</td>\n",
       "      <td>1.677797</td>\n",
       "      <td>0.429305</td>\n",
       "      <td>1.248492</td>\n",
       "      <td>0.764242</td>\n",
       "      <td>25.965651</td>\n",
       "    </tr>\n",
       "    <tr>\n",
       "      <th>2019-12-27</th>\n",
       "      <td>29.000000</td>\n",
       "      <td>29.020666</td>\n",
       "      <td>28.407333</td>\n",
       "      <td>28.691999</td>\n",
       "      <td>28.691999</td>\n",
       "      <td>149185500</td>\n",
       "      <td>1.746143</td>\n",
       "      <td>0.398121</td>\n",
       "      <td>1.348022</td>\n",
       "      <td>0.753462</td>\n",
       "      <td>26.329164</td>\n",
       "    </tr>\n",
       "    <tr>\n",
       "      <th>2019-12-30</th>\n",
       "      <td>28.586000</td>\n",
       "      <td>28.600000</td>\n",
       "      <td>27.284000</td>\n",
       "      <td>27.646667</td>\n",
       "      <td>27.646667</td>\n",
       "      <td>188796000</td>\n",
       "      <td>1.696403</td>\n",
       "      <td>0.278705</td>\n",
       "      <td>1.417698</td>\n",
       "      <td>0.800215</td>\n",
       "      <td>26.504831</td>\n",
       "    </tr>\n",
       "  </tbody>\n",
       "</table>\n",
       "<p>753 rows × 11 columns</p>\n",
       "</div>"
      ],
      "text/plain": [
       "                 Open       High        Low      Close  Adj Close     Volume  \\\n",
       "Date                                                                           \n",
       "2017-01-03  14.324000  14.688667  14.064000  14.466000  14.466000   88849500   \n",
       "2017-01-04  14.316667  15.200000  14.287333  15.132667  15.132667  168202500   \n",
       "2017-01-05  15.094667  15.165333  14.796667  15.116667  15.116667   88675500   \n",
       "2017-01-06  15.128667  15.354000  15.030000  15.267333  15.267333   82918500   \n",
       "2017-01-09  15.264667  15.461333  15.200000  15.418667  15.418667   59692500   \n",
       "...               ...        ...        ...        ...        ...        ...   \n",
       "2019-12-23  27.452000  28.134001  27.333332  27.948000  27.948000  199794000   \n",
       "2019-12-24  27.890667  28.364668  27.512667  28.350000  28.350000  120820500   \n",
       "2019-12-26  28.527332  28.898666  28.423332  28.729334  28.729334  159508500   \n",
       "2019-12-27  29.000000  29.020666  28.407333  28.691999  28.691999  149185500   \n",
       "2019-12-30  28.586000  28.600000  27.284000  27.646667  27.646667  188796000   \n",
       "\n",
       "                MACD  MACD_HIST  MACD_SIG       ATR        EMA  \n",
       "Date                                                            \n",
       "2017-01-03  0.000000   0.000000  0.000000  0.000000  14.466000  \n",
       "2017-01-04  0.053181   0.042545  0.010636  0.000000  14.554889  \n",
       "2017-01-05  0.092965   0.065863  0.027102  0.000000  14.629792  \n",
       "2017-01-06  0.135095   0.086394  0.048701  0.000000  14.714798  \n",
       "2017-01-09  0.178635   0.103947  0.074687  0.000000  14.808647  \n",
       "...              ...        ...       ...       ...        ...  \n",
       "2019-12-23  1.430910   0.395042  1.035868  0.775349  25.108233  \n",
       "2019-12-24  1.562356   0.421191  1.141165  0.780824  25.540469  \n",
       "2019-12-26  1.677797   0.429305  1.248492  0.764242  25.965651  \n",
       "2019-12-27  1.746143   0.398121  1.348022  0.753462  26.329164  \n",
       "2019-12-30  1.696403   0.278705  1.417698  0.800215  26.504831  \n",
       "\n",
       "[753 rows x 11 columns]"
      ]
     },
     "execution_count": 5,
     "metadata": {},
     "output_type": "execute_result"
    }
   ],
   "source": [
    "def get_tickerdata(tickers_symbols, start=START_DATE, end=END_DATE, interval=INTERVAL, datadir=DATA_DIR):\n",
    "    tickers = {}\n",
    "    earliest_end= datetime.strptime(end,'%Y-%m-%d')\n",
    "    latest_start = datetime.strptime(start,'%Y-%m-%d')\n",
    "    os.makedirs(DATA_DIR, exist_ok=True)\n",
    "    for symbol in tickers_symbols:\n",
    "        cached_file_path = f\"{datadir}/{symbol}-{start}-{end}-{interval}.csv\"\n",
    "\n",
    "        try:\n",
    "            if os.path.exists(cached_file_path):\n",
    "                df = pd.read_parquet(cached_file_path)\n",
    "                df.index = pd.to_datetime(df.index)\n",
    "                assert len(df) > 0\n",
    "            else:\n",
    "                df = yf.download(\n",
    "                    symbol,\n",
    "                    start=START_DATE,\n",
    "                    end=END_DATE,\n",
    "                    progress=False,\n",
    "                    interval=INTERVAL,\n",
    "                )\n",
    "                assert len(df) > 0\n",
    "                df.to_parquet(cached_file_path, index=True, compression=\"snappy\")\n",
    "            min_date = df.index.min()\n",
    "            max_date = df.index.max()\n",
    "            nan_count = df[\"Close\"].isnull().sum()\n",
    "            skewness = round(skew(df[\"Close\"].dropna()), 2)\n",
    "            kurt = round(kurtosis(df[\"Close\"].dropna()), 2)\n",
    "            outliers_count = (df[\"Close\"] > df[\"Close\"].mean() + (3 * df[\"Close\"].std())).sum()\n",
    "            print(\n",
    "                f\"{symbol} => min_date: {min_date}, max_date: {max_date}, kurt:{kurt}, skewness:{skewness}, outliers_count:{outliers_count},  nan_count: {nan_count}\"\n",
    "            )\n",
    "            tickers[symbol] = df\n",
    "\n",
    "            if min_date > latest_start:\n",
    "                latest_start = min_date\n",
    "            if max_date < earliest_end:\n",
    "                earliest_end = max_date\n",
    "        except Exception as e:\n",
    "            print(f\"Error with {symbol}: {e}\")\n",
    "\n",
    "    return tickers, latest_start, earliest_end\n",
    "\n",
    "tickers, latest_start, earliest_end = get_tickerdata(TICKER_SYMBOLS)\n",
    "\n",
    "from ta.utils import dropna\n",
    "from ta.trend import MACD, EMAIndicator\n",
    "from ta.volatility import AverageTrueRange\n",
    "\n",
    "stock_df = tickers[TARGET].copy()\n",
    "\n",
    "macd = MACD(close=stock_df[\"Close\"], window_slow=26, window_fast=12, window_sign=9, fillna=True)\n",
    "stock_df['MACD'] = macd.macd()\n",
    "stock_df['MACD_HIST'] = macd.macd_diff()\n",
    "stock_df['MACD_SIG'] = macd.macd_signal()\n",
    "\n",
    "atr = AverageTrueRange(stock_df[\"High\"], stock_df[\"Low\"], stock_df[\"Close\"], window = 14, fillna = True)\n",
    "stock_df['ATR'] = atr.average_true_range()\n",
    "\n",
    "ema = EMAIndicator(stock_df[\"Close\"], window = 14, fillna = True)\n",
    "stock_df['EMA'] = ema.ema_indicator()\n",
    "\n",
    "stock_df"
   ]
  },
  {
   "cell_type": "code",
   "execution_count": 6,
   "id": "49163f09",
   "metadata": {
    "execution": {
     "iopub.execute_input": "2024-03-16T01:40:11.369747Z",
     "iopub.status.busy": "2024-03-16T01:40:11.369473Z",
     "iopub.status.idle": "2024-03-16T01:40:11.389508Z",
     "shell.execute_reply": "2024-03-16T01:40:11.388863Z"
    },
    "papermill": {
     "duration": 0.038873,
     "end_time": "2024-03-16T01:40:11.391161",
     "exception": false,
     "start_time": "2024-03-16T01:40:11.352288",
     "status": "completed"
    },
    "tags": []
   },
   "outputs": [
    {
     "data": {
      "text/html": [
       "<div>\n",
       "<style scoped>\n",
       "    .dataframe tbody tr th:only-of-type {\n",
       "        vertical-align: middle;\n",
       "    }\n",
       "\n",
       "    .dataframe tbody tr th {\n",
       "        vertical-align: top;\n",
       "    }\n",
       "\n",
       "    .dataframe thead th {\n",
       "        text-align: right;\n",
       "    }\n",
       "</style>\n",
       "<table border=\"1\" class=\"dataframe\">\n",
       "  <thead>\n",
       "    <tr style=\"text-align: right;\">\n",
       "      <th></th>\n",
       "      <th>Open</th>\n",
       "      <th>High</th>\n",
       "      <th>Low</th>\n",
       "      <th>Close</th>\n",
       "      <th>Adj Close</th>\n",
       "      <th>Volume</th>\n",
       "      <th>MACD</th>\n",
       "      <th>MACD_HIST</th>\n",
       "      <th>MACD_SIG</th>\n",
       "      <th>ATR</th>\n",
       "      <th>EMA</th>\n",
       "      <th>^VIX</th>\n",
       "      <th>^TNX</th>\n",
       "      <th>^RUT</th>\n",
       "      <th>GC=F</th>\n",
       "      <th>^SPX</th>\n",
       "    </tr>\n",
       "    <tr>\n",
       "      <th>Date</th>\n",
       "      <th></th>\n",
       "      <th></th>\n",
       "      <th></th>\n",
       "      <th></th>\n",
       "      <th></th>\n",
       "      <th></th>\n",
       "      <th></th>\n",
       "      <th></th>\n",
       "      <th></th>\n",
       "      <th></th>\n",
       "      <th></th>\n",
       "      <th></th>\n",
       "      <th></th>\n",
       "      <th></th>\n",
       "      <th></th>\n",
       "      <th></th>\n",
       "    </tr>\n",
       "  </thead>\n",
       "  <tbody>\n",
       "    <tr>\n",
       "      <th>2017-01-03</th>\n",
       "      <td>14.324000</td>\n",
       "      <td>14.688667</td>\n",
       "      <td>14.064000</td>\n",
       "      <td>14.466000</td>\n",
       "      <td>14.466000</td>\n",
       "      <td>88849500</td>\n",
       "      <td>0.000000</td>\n",
       "      <td>0.000000</td>\n",
       "      <td>0.000000</td>\n",
       "      <td>0.000000</td>\n",
       "      <td>14.466000</td>\n",
       "      <td>12.85</td>\n",
       "      <td>2.450</td>\n",
       "      <td>1365.489990</td>\n",
       "      <td>1160.400024</td>\n",
       "      <td>2257.830078</td>\n",
       "    </tr>\n",
       "    <tr>\n",
       "      <th>2017-01-04</th>\n",
       "      <td>14.316667</td>\n",
       "      <td>15.200000</td>\n",
       "      <td>14.287333</td>\n",
       "      <td>15.132667</td>\n",
       "      <td>15.132667</td>\n",
       "      <td>168202500</td>\n",
       "      <td>0.053181</td>\n",
       "      <td>0.042545</td>\n",
       "      <td>0.010636</td>\n",
       "      <td>0.000000</td>\n",
       "      <td>14.554889</td>\n",
       "      <td>11.85</td>\n",
       "      <td>2.452</td>\n",
       "      <td>1387.949951</td>\n",
       "      <td>1163.800049</td>\n",
       "      <td>2270.750000</td>\n",
       "    </tr>\n",
       "    <tr>\n",
       "      <th>2017-01-05</th>\n",
       "      <td>15.094667</td>\n",
       "      <td>15.165333</td>\n",
       "      <td>14.796667</td>\n",
       "      <td>15.116667</td>\n",
       "      <td>15.116667</td>\n",
       "      <td>88675500</td>\n",
       "      <td>0.092965</td>\n",
       "      <td>0.065863</td>\n",
       "      <td>0.027102</td>\n",
       "      <td>0.000000</td>\n",
       "      <td>14.629792</td>\n",
       "      <td>11.67</td>\n",
       "      <td>2.368</td>\n",
       "      <td>1371.939941</td>\n",
       "      <td>1179.699951</td>\n",
       "      <td>2269.000000</td>\n",
       "    </tr>\n",
       "    <tr>\n",
       "      <th>2017-01-06</th>\n",
       "      <td>15.128667</td>\n",
       "      <td>15.354000</td>\n",
       "      <td>15.030000</td>\n",
       "      <td>15.267333</td>\n",
       "      <td>15.267333</td>\n",
       "      <td>82918500</td>\n",
       "      <td>0.135095</td>\n",
       "      <td>0.086394</td>\n",
       "      <td>0.048701</td>\n",
       "      <td>0.000000</td>\n",
       "      <td>14.714798</td>\n",
       "      <td>11.32</td>\n",
       "      <td>2.418</td>\n",
       "      <td>1367.280029</td>\n",
       "      <td>1171.900024</td>\n",
       "      <td>2276.979980</td>\n",
       "    </tr>\n",
       "    <tr>\n",
       "      <th>2017-01-09</th>\n",
       "      <td>15.264667</td>\n",
       "      <td>15.461333</td>\n",
       "      <td>15.200000</td>\n",
       "      <td>15.418667</td>\n",
       "      <td>15.418667</td>\n",
       "      <td>59692500</td>\n",
       "      <td>0.178635</td>\n",
       "      <td>0.103947</td>\n",
       "      <td>0.074687</td>\n",
       "      <td>0.000000</td>\n",
       "      <td>14.808647</td>\n",
       "      <td>11.56</td>\n",
       "      <td>2.376</td>\n",
       "      <td>1357.489990</td>\n",
       "      <td>1183.500000</td>\n",
       "      <td>2268.899902</td>\n",
       "    </tr>\n",
       "    <tr>\n",
       "      <th>...</th>\n",
       "      <td>...</td>\n",
       "      <td>...</td>\n",
       "      <td>...</td>\n",
       "      <td>...</td>\n",
       "      <td>...</td>\n",
       "      <td>...</td>\n",
       "      <td>...</td>\n",
       "      <td>...</td>\n",
       "      <td>...</td>\n",
       "      <td>...</td>\n",
       "      <td>...</td>\n",
       "      <td>...</td>\n",
       "      <td>...</td>\n",
       "      <td>...</td>\n",
       "      <td>...</td>\n",
       "      <td>...</td>\n",
       "    </tr>\n",
       "    <tr>\n",
       "      <th>2019-12-23</th>\n",
       "      <td>27.452000</td>\n",
       "      <td>28.134001</td>\n",
       "      <td>27.333332</td>\n",
       "      <td>27.948000</td>\n",
       "      <td>27.948000</td>\n",
       "      <td>199794000</td>\n",
       "      <td>1.430910</td>\n",
       "      <td>0.395042</td>\n",
       "      <td>1.035868</td>\n",
       "      <td>0.775349</td>\n",
       "      <td>25.108233</td>\n",
       "      <td>12.61</td>\n",
       "      <td>1.935</td>\n",
       "      <td>1674.140015</td>\n",
       "      <td>1482.500000</td>\n",
       "      <td>3224.010010</td>\n",
       "    </tr>\n",
       "    <tr>\n",
       "      <th>2019-12-24</th>\n",
       "      <td>27.890667</td>\n",
       "      <td>28.364668</td>\n",
       "      <td>27.512667</td>\n",
       "      <td>28.350000</td>\n",
       "      <td>28.350000</td>\n",
       "      <td>120820500</td>\n",
       "      <td>1.562356</td>\n",
       "      <td>0.421191</td>\n",
       "      <td>1.141165</td>\n",
       "      <td>0.780824</td>\n",
       "      <td>25.540469</td>\n",
       "      <td>12.67</td>\n",
       "      <td>1.910</td>\n",
       "      <td>1678.010010</td>\n",
       "      <td>1499.099976</td>\n",
       "      <td>3223.379883</td>\n",
       "    </tr>\n",
       "    <tr>\n",
       "      <th>2019-12-26</th>\n",
       "      <td>28.527332</td>\n",
       "      <td>28.898666</td>\n",
       "      <td>28.423332</td>\n",
       "      <td>28.729334</td>\n",
       "      <td>28.729334</td>\n",
       "      <td>159508500</td>\n",
       "      <td>1.677797</td>\n",
       "      <td>0.429305</td>\n",
       "      <td>1.248492</td>\n",
       "      <td>0.764242</td>\n",
       "      <td>25.965651</td>\n",
       "      <td>12.65</td>\n",
       "      <td>1.905</td>\n",
       "      <td>1677.670044</td>\n",
       "      <td>1509.300049</td>\n",
       "      <td>3239.909912</td>\n",
       "    </tr>\n",
       "    <tr>\n",
       "      <th>2019-12-27</th>\n",
       "      <td>29.000000</td>\n",
       "      <td>29.020666</td>\n",
       "      <td>28.407333</td>\n",
       "      <td>28.691999</td>\n",
       "      <td>28.691999</td>\n",
       "      <td>149185500</td>\n",
       "      <td>1.746143</td>\n",
       "      <td>0.398121</td>\n",
       "      <td>1.348022</td>\n",
       "      <td>0.753462</td>\n",
       "      <td>26.329164</td>\n",
       "      <td>13.43</td>\n",
       "      <td>1.874</td>\n",
       "      <td>1669.030029</td>\n",
       "      <td>1513.800049</td>\n",
       "      <td>3240.020020</td>\n",
       "    </tr>\n",
       "    <tr>\n",
       "      <th>2019-12-30</th>\n",
       "      <td>28.586000</td>\n",
       "      <td>28.600000</td>\n",
       "      <td>27.284000</td>\n",
       "      <td>27.646667</td>\n",
       "      <td>27.646667</td>\n",
       "      <td>188796000</td>\n",
       "      <td>1.696403</td>\n",
       "      <td>0.278705</td>\n",
       "      <td>1.417698</td>\n",
       "      <td>0.800215</td>\n",
       "      <td>26.504831</td>\n",
       "      <td>14.82</td>\n",
       "      <td>1.895</td>\n",
       "      <td>1664.150024</td>\n",
       "      <td>1514.500000</td>\n",
       "      <td>3221.290039</td>\n",
       "    </tr>\n",
       "  </tbody>\n",
       "</table>\n",
       "<p>753 rows × 16 columns</p>\n",
       "</div>"
      ],
      "text/plain": [
       "                 Open       High        Low      Close  Adj Close     Volume  \\\n",
       "Date                                                                           \n",
       "2017-01-03  14.324000  14.688667  14.064000  14.466000  14.466000   88849500   \n",
       "2017-01-04  14.316667  15.200000  14.287333  15.132667  15.132667  168202500   \n",
       "2017-01-05  15.094667  15.165333  14.796667  15.116667  15.116667   88675500   \n",
       "2017-01-06  15.128667  15.354000  15.030000  15.267333  15.267333   82918500   \n",
       "2017-01-09  15.264667  15.461333  15.200000  15.418667  15.418667   59692500   \n",
       "...               ...        ...        ...        ...        ...        ...   \n",
       "2019-12-23  27.452000  28.134001  27.333332  27.948000  27.948000  199794000   \n",
       "2019-12-24  27.890667  28.364668  27.512667  28.350000  28.350000  120820500   \n",
       "2019-12-26  28.527332  28.898666  28.423332  28.729334  28.729334  159508500   \n",
       "2019-12-27  29.000000  29.020666  28.407333  28.691999  28.691999  149185500   \n",
       "2019-12-30  28.586000  28.600000  27.284000  27.646667  27.646667  188796000   \n",
       "\n",
       "                MACD  MACD_HIST  MACD_SIG       ATR        EMA   ^VIX   ^TNX  \\\n",
       "Date                                                                           \n",
       "2017-01-03  0.000000   0.000000  0.000000  0.000000  14.466000  12.85  2.450   \n",
       "2017-01-04  0.053181   0.042545  0.010636  0.000000  14.554889  11.85  2.452   \n",
       "2017-01-05  0.092965   0.065863  0.027102  0.000000  14.629792  11.67  2.368   \n",
       "2017-01-06  0.135095   0.086394  0.048701  0.000000  14.714798  11.32  2.418   \n",
       "2017-01-09  0.178635   0.103947  0.074687  0.000000  14.808647  11.56  2.376   \n",
       "...              ...        ...       ...       ...        ...    ...    ...   \n",
       "2019-12-23  1.430910   0.395042  1.035868  0.775349  25.108233  12.61  1.935   \n",
       "2019-12-24  1.562356   0.421191  1.141165  0.780824  25.540469  12.67  1.910   \n",
       "2019-12-26  1.677797   0.429305  1.248492  0.764242  25.965651  12.65  1.905   \n",
       "2019-12-27  1.746143   0.398121  1.348022  0.753462  26.329164  13.43  1.874   \n",
       "2019-12-30  1.696403   0.278705  1.417698  0.800215  26.504831  14.82  1.895   \n",
       "\n",
       "                   ^RUT         GC=F         ^SPX  \n",
       "Date                                               \n",
       "2017-01-03  1365.489990  1160.400024  2257.830078  \n",
       "2017-01-04  1387.949951  1163.800049  2270.750000  \n",
       "2017-01-05  1371.939941  1179.699951  2269.000000  \n",
       "2017-01-06  1367.280029  1171.900024  2276.979980  \n",
       "2017-01-09  1357.489990  1183.500000  2268.899902  \n",
       "...                 ...          ...          ...  \n",
       "2019-12-23  1674.140015  1482.500000  3224.010010  \n",
       "2019-12-24  1678.010010  1499.099976  3223.379883  \n",
       "2019-12-26  1677.670044  1509.300049  3239.909912  \n",
       "2019-12-27  1669.030029  1513.800049  3240.020020  \n",
       "2019-12-30  1664.150024  1514.500000  3221.290039  \n",
       "\n",
       "[753 rows x 16 columns]"
      ]
     },
     "execution_count": 6,
     "metadata": {},
     "output_type": "execute_result"
    }
   ],
   "source": [
    "stock_df[VOLATILITY_INDEX] = tickers[VOLATILITY_INDEX][\"Close\"]\n",
    "stock_df[RATES_INDEX] = tickers[RATES_INDEX][\"Close\"]\n",
    "stock_df[SMALLCAP_INDEX] = tickers[SMALLCAP_INDEX][\"Close\"]\n",
    "stock_df[GOLD_INDEX] = tickers[GOLD_INDEX][\"Close\"]\n",
    "stock_df[MARKET] = tickers[MARKET][\"Close\"]\n",
    "\n",
    "stock_df"
   ]
  },
  {
   "cell_type": "markdown",
   "id": "69fb6896",
   "metadata": {
    "id": "ZDY9OBeVsxsA",
    "papermill": {
     "duration": 0.016641,
     "end_time": "2024-03-16T01:40:11.426598",
     "exception": false,
     "start_time": "2024-03-16T01:40:11.409957",
     "status": "completed"
    },
    "tags": []
   },
   "source": [
    "# The Problem Definition\n",
    "\n",
    "With Q-Training, we shall teach a pavlovian-agent to trade. Our objective is to make sequential interaction that lead to the highest sharpe ratio, formalized by this policy (remember Q-Learning is off-policy, and we won't learn this directly):\n",
    "\n",
    "$$\n",
    "\\pi^*(a_t | s_t) = \\arg\\max_{a \\in \\mathcal{A}} \\mathbb{E} \\left[ \\sum_{t=0}^{\\infty} \\gamma^t r_t \\middle| s_t = f(o_1, a_1, r_1, \\ldots, o_t), a_t \\right]\n",
    "$$\n",
    "\n",
    "At each timestep *t*:\n",
    "\n",
    "1. Observe the environments state *st* and map history with *f(.)*\n",
    "2. Observations *ot* from history *ht*, have previous actions *a_t-1*, previous observations *o_t-1* and their returns *r_t-1*. For our experiment, we'll encode these into features for a network.\n",
    "3. Execute action *a_t*, which can be: hold, long, short\n",
    "4. Get returns *r_t* discounted at *γt*. *γ* is the discounting factor to prevent the agent from doing only tactical choices for returns in the present (missing better future returns).\n",
    "\n",
    "\n",
    "The *π(at|ht)* creates an action on a Quantity Q *at = Qt*. Where a positive *Q* is the long, the negative *Q* signals a short and when its 0 no action is taken. For this article we will use the definition of policy *π(at|ht)* and Q-Value *Q(at,st)* interchangeably, as Q will define quantities bought."
   ]
  },
  {
   "cell_type": "markdown",
   "id": "8e30e229",
   "metadata": {
    "id": "I7yPL6IJtuuz",
    "papermill": {
     "duration": 0.016499,
     "end_time": "2024-03-16T01:40:11.460003",
     "exception": false,
     "start_time": "2024-03-16T01:40:11.443504",
     "status": "completed"
    },
    "tags": []
   },
   "source": [
    "## Observations and State Space\n",
    "\n",
    "The paper uses only High, Low, Open, Close and Volume as observations from the agent's environment state.\n",
    "\n",
    "We will augment this space with 2 technical indicators and 2 macroeconomic indicators:\n",
    "- 20day slow and 7 day fast exponential moving average, from our article: \"Momentum and Reversion Trading Signals Analysis\"\n",
    "- The daily VIX as proxy for market volatility & fear, and the 2 year T-note as proxy for inflation & rates, from our article: \"Temporal Convolutional Neural Network with Conditioning for Broad Market Signals\"\n",
    "\n",
    "$$\n",
    "o_t = s_t \\in \\{{\\text{High}_t}, {\\text{Low}_t}, {\\text{Open}_t}, {\\text{Close}_t}, {\\text{Volume}_t}, {\\text{FastEMA}_t}, {\\text{SlowEMA}_t}, {\\text{VIX}_t}, {\\text{T2YR}_t}\\}\n",
    "$$"
   ]
  },
  {
   "cell_type": "markdown",
   "id": "b2096068",
   "metadata": {
    "id": "IUoFMk_AsxsA",
    "papermill": {
     "duration": 0.016511,
     "end_time": "2024-03-16T01:40:11.492747",
     "exception": false,
     "start_time": "2024-03-16T01:40:11.476236",
     "status": "completed"
    },
    "tags": []
   },
   "source": [
    "## Actions and Rewards\n",
    "\n",
    "A core concept in RL is rewards engineering. Let's look at our action space *A* at time *t*:\n",
    "\n",
    "$$\n",
    "a_t = Q_t \\in \\{Q_{\\text{Long}, t}, Q_{\\text{Short}, t}\\}\n",
    "$$\n",
    "\n",
    "The action *Q_Long,t* is set to maximize returns on a buy, given our liquidity *vc_t* (the value *v* of our portfolio with cash remainng *c*) and purchasing *Q_long* at price *p* shares (transaction costs *C*) if we are not already long:\n",
    "\n",
    "$$\n",
    "Q_{\\text{Long}, t} =\n",
    "\\begin{cases}\n",
    "\\left\\lfloor \\frac{v_{c,t}}{p_t (1 + C)}\\right\\rfloor & \\text{if } a_{t-1} \\neq Q_{\\text{Long}, t-1}, \\\\\n",
    "0 & \\text{otherwise}.\n",
    "\\end{cases}\n",
    "$$\n",
    "\n",
    "The action *Q_Short,t* aims to convert a **negative** number of shares to returns (shorting is the borrowing of shares, therefore our *v_c* will be initially negative).\n",
    "\n",
    "$$\n",
    "\\hat{Q}_{\\text{Short}, t} =\n",
    "\\begin{cases}\n",
    "-2n_t - \\left\\lfloor \\frac{v_{c,t}}{p_t (1 + C)}\\right\\rfloor & \\text{if } a_{t-1} \\neq Q_{\\text{Short}, t-1}, \\\\\n",
    "0 & \\text{otherwise}.\n",
    "\\end{cases}\n",
    "$$\n",
    "\n",
    "Note the *-2n* is an indication to sell twice, meaning not only close the long position but open a short position for the *Qn* shares, since shorting is a negative trajectory, we need to negate the amount we can buy to get the correct representation in our holdings. If we had no shares to start, then *-2(0)* will not have an effect save for the short amount:\n",
    "\n",
    "$$\n",
    "\\hat{Q}_{\\text{Short}, t} = -\\left\\lfloor \\frac{v_{c,t}}{p_t (1 + C)} \\right\\rfloor\n",
    "$$\n",
    "\n",
    "Shorts are risky, and we need to give boundaries to the agent, as a short can incur infinite loss:\n",
    "\n",
    "$$\n",
    "Q_{\\text{Short}, t} = \\max\\{\\hat{Q}_{\\text{Short}, t}, Q_t\\}\n",
    "$$\n",
    "\n",
    "Given that our portfolio cannot fall into negative amounts, we need to model constraints.\n",
    "1. Cash value *vc_t* needs to be large enough to return to neutral *n_t=0*.\n",
    "2. To return to 0, we need to adjust for costs *C* which are caused by market volatility epsiloc *ϵ* (think slippages, spreads, etc..).\n",
    "3. We redefine the action space permissable to ensure we can always return to neutral.\n",
    "\n",
    "$$\n",
    "v_{c,t+1} \\geq -n_{t+1} p_t (1 + \\varepsilon)(1 + C)\n",
    "$$\n",
    "\n",
    "The action space *A* is redefined as a set of acceptable values for *Q_t* between boundaries *Q-* and *Q+*:\n",
    "\n",
    "$$\n",
    "A = \\left\\{ Q_t \\in \\mathbb{Z} \\cap \\left[Q_t^-, Q_t^+\\right] \\right\\}\n",
    "$$\n",
    "\n",
    "Where the top boundary *Q+* is:\n",
    "$$\n",
    "Q_t^+ = \\frac{v_{c,t}}{p_t (1+C)}\n",
    "$$\n",
    "\n",
    "And the lower boundary *Q-* is (for both coming out of a long where delta *t* is positive, or reversing a short and incurring twice the costs with delta *t* in the negative):\n",
    "\n",
    "$$\n",
    "Q_t^- = \\begin{cases}\n",
    "    \\frac{\\Delta t}{p_t \\varepsilon (1 + C)} & \\text{if } \\Delta t \\geq 0, \\\\\n",
    "    \\frac{\\Delta t}{p_t (2C + \\varepsilon(1 + C))} & \\text{if } \\Delta t < 0,\n",
    "    \\end{cases}\n",
    "$$\n",
    "\n",
    "with *delta t* being the in change of portfolio value in time:\n",
    "\n",
    "$$\n",
    " t_Δ = -v_{c,t} - n_t p_t (1 + \\varepsilon)(1 + C)\n",
    "$$\n",
    "\n",
    "In the above boundaries, the cost of trading is defined as:\n",
    "\n",
    "$$\n",
    "v_{c,t+1} = v_{c,t} - Q_t p_t - C |Q_t| p_t\n",
    "$$\n",
    "\n",
    "Where *C* is the percentage cost of the transaction given the absolute quantity *|Q_t|* of shares and their price *p_t*."
   ]
  },
  {
   "cell_type": "markdown",
   "id": "35c5b9fa",
   "metadata": {
    "id": "_A2EBYR9sxsA",
    "papermill": {
     "duration": 0.016483,
     "end_time": "2024-03-16T01:40:11.526025",
     "exception": false,
     "start_time": "2024-03-16T01:40:11.509542",
     "status": "completed"
    },
    "tags": []
   },
   "source": [
    "## Agent's Objective\n",
    "\n",
    "In the paper, they utilize the percentage returns as a rewards signal, clipped between -1 and 1, and adjusted by a discount factor γ:\n",
    "$$\n",
    "\\text{Signal} = \\left( \\frac{vc_{t} - vc_{t-1}}{vc_{t-1}} \\right) \\gamma^t\n",
    "$$\n",
    "\n",
    "In the article, we will use an annualized Sharpe (from *N* time window, up to 252 trading days), and teach the agent's to generate an optimal ratio, clipped no discount factor:\n",
    "\n",
    "$$\n",
    "\\text{Signal} = \\frac{E\\left[\\sum_{t=0}^{T} r_t - R_f\\times \\right]\\sqrt{N} }{\\sqrt{\\mathrm{Var}\\left[\\sum_{t=0}^{T} r_t\\right]}}\n",
    "$$\n",
    "\n",
    "which is just the maximization of:\n",
    "\n",
    "$$\n",
    "\\text{sharpe}= \\left( \\frac{\\bar{R} - R_f}{\\sigma} \\right)\n",
    "$$\n",
    "\n",
    "or the returns of the portfolio (*R* average), minus the risk free rate (*Rf*, at the time of writing, 5%) divided by the volatility (*σ*) of the portfolio"
   ]
  },
  {
   "cell_type": "markdown",
   "id": "0b8cd0fd",
   "metadata": {
    "id": "lke4koO5H0Cl",
    "papermill": {
     "duration": 0.016554,
     "end_time": "2024-03-16T01:40:11.559236",
     "exception": false,
     "start_time": "2024-03-16T01:40:11.542682",
     "status": "completed"
    },
    "tags": []
   },
   "source": [
    "# Trading Environment\n",
    "\n",
    "Using TensorFlow's PyEnvironment, we will give the agent the environment that implements the above rules:"
   ]
  },
  {
   "cell_type": "code",
   "execution_count": 7,
   "id": "f092e244",
   "metadata": {
    "execution": {
     "iopub.execute_input": "2024-03-16T01:40:11.594785Z",
     "iopub.status.busy": "2024-03-16T01:40:11.594086Z",
     "iopub.status.idle": "2024-03-16T01:40:11.852268Z",
     "shell.execute_reply": "2024-03-16T01:40:11.851547Z"
    },
    "executionInfo": {
     "elapsed": 7,
     "status": "ok",
     "timestamp": 1710410577594,
     "user": {
      "displayName": "Adam Darmanin",
      "userId": "00262451996831505471"
     },
     "user_tz": -60
    },
    "id": "dXLhk-CKH0Co",
    "papermill": {
     "duration": 0.278519,
     "end_time": "2024-03-16T01:40:11.854057",
     "exception": false,
     "start_time": "2024-03-16T01:40:11.575538",
     "status": "completed"
    },
    "tags": []
   },
   "outputs": [],
   "source": [
    "class TradingEnv(py_environment.PyEnvironment):\n",
    "    \"\"\"\n",
    "    A custom trading environment for reinforcement learning, compatible with tf_agents.\n",
    "\n",
    "    This environment simulates a simple trading scenario where an agent can take one of three actions:\n",
    "    - Long (buy), Short (sell), or Hold a financial instrument, aiming to maximize profit through trading decisions.\n",
    "\n",
    "    Parameters:\n",
    "    - data: DataFrame containing the stock market data.\n",
    "    - data_dim: Dimension of the data to be used for each observation.\n",
    "    - money: Initial capital to start trading.\n",
    "    - state_length: Number of past observations to consider for the state.\n",
    "    - transaction_cost: Costs associated with trading actions.\n",
    "    \"\"\"\n",
    "\n",
    "    def __init__(self, data, features = FEATURES + MACRO_FEATURES, money=CAPITAL, state_length=STATE_LEN, transaction_cost=0, market_costs=TRADE_COSTS_PERCENT, reward_discount=DISCOUNT):\n",
    "        super(TradingEnv, self).__init__()\n",
    "\n",
    "        assert data is not None\n",
    "\n",
    "        self.features = features\n",
    "        self.data_dim = len(self.features)\n",
    "        self.state_length = state_length\n",
    "        self.current_step = self.state_length\n",
    "        self.reward_discount = reward_discount\n",
    "\n",
    "        self.balance = money\n",
    "        self.initial_balance = money\n",
    "        self.transaction_cost = transaction_cost\n",
    "        self.epsilon = max(market_costs, np.finfo(float).eps) # there is always volatility costs\n",
    "        self.total_shares = 0\n",
    "\n",
    "        self._episode_ended = False\n",
    "        self._batch_size = 1\n",
    "        self._action_spec = array_spec.BoundedArraySpec(shape=(), dtype=np.int32, minimum=ACT_SHORT, maximum=ACT_LONG, name='action')\n",
    "        self._observation_spec = array_spec.BoundedArraySpec(shape=(self.state_length * self.data_dim, ), dtype=np.float32, name='observation')\n",
    "\n",
    "        self.data = self.preprocess_data(data.copy())\n",
    "\n",
    "        self.reset()\n",
    "\n",
    "    @property\n",
    "    def batched(self):\n",
    "        return False #True\n",
    "\n",
    "    @property\n",
    "    def batch_size(self):\n",
    "        return None #self._batch_size\n",
    "\n",
    "    @batch_size.setter\n",
    "    def batch_size(self, size):\n",
    "        self._batch_size = size\n",
    "\n",
    "    def preprocess_data(self, df):\n",
    "        def _log_rets(df):\n",
    "            log_returns = np.log(df / df.shift(1))\n",
    "            df = (log_returns - log_returns.mean()) / log_returns.std()\n",
    "            df = df.dropna()\n",
    "            return df\n",
    "\n",
    "        def min_max_scale_tensor(tensor):\n",
    "            min_val = tf.reduce_min(tensor)\n",
    "            max_val = tf.reduce_max(tensor)\n",
    "            return (tensor - min_val) / (max_val - min_val)\n",
    "\n",
    "        price_raw = df['Close'].copy()\n",
    "        for col in self.features:\n",
    "            if col in TA_FEATURES:\n",
    "                continue\n",
    "            tensor = tf.convert_to_tensor(df[col], dtype=tf.float32)\n",
    "            normalized_tensor = min_max_scale_tensor(tensor)\n",
    "            df[col] = normalized_tensor.numpy()\n",
    "\n",
    "        df = df.replace(0.0, np.nan)\n",
    "        df = df.interpolate(method='linear', limit=5, limit_area='inside')\n",
    "        df = df.ffill().bfill().fillna(0)\n",
    "\n",
    "        df[TARGET_FEATURE] = price_raw\n",
    "        df['Sharpe'] = 0\n",
    "        df['Position'] = 0\n",
    "        df['Action'] = ACT_HOLD\n",
    "        df['Holdings'] = 0.\n",
    "        df['Cash'] = float(self.balance)\n",
    "        df['Money'] = df['Holdings'] + df['Cash']\n",
    "        df['Returns'] = 0.\n",
    "        df['Reward'] = 0.\n",
    "\n",
    "        assert not df.isna().any().any()\n",
    "\n",
    "        return df\n",
    "\n",
    "    def action_spec(self):\n",
    "        \"\"\"Provides the specification of the action space.\"\"\"\n",
    "        return self._action_spec\n",
    "\n",
    "    def observation_spec(self):\n",
    "        \"\"\"Provides the specification of the observation space.\"\"\"\n",
    "        return self._observation_spec\n",
    "\n",
    "    def _reset(self):\n",
    "        \"\"\"Resets the environment state and prepares for a new episode.\"\"\"\n",
    "        self.balance = self.initial_balance\n",
    "        self.current_step = self.state_length\n",
    "        self._episode_ended = False\n",
    "        self.total_shares = 0\n",
    "\n",
    "        self.data['Reward'] = 0.\n",
    "        self.data['Sharpe'] = 0.\n",
    "        self.data['Position'] = 0\n",
    "        self.data['Action'] = ACT_HOLD\n",
    "        self.data['Holdings'] = 0.\n",
    "        self.data['Cash']  = float(self.balance)\n",
    "        self.data['Money'] = self.data.iloc[0]['Holdings'] + self.data.iloc[0]['Cash']\n",
    "        self.data['Returns'] = 0.\n",
    "\n",
    "        initial_observation = self._next_observation()\n",
    "        return ts.restart(initial_observation)\n",
    "\n",
    "    def _next_observation(self):\n",
    "        \"\"\"Generates the next observation based on the current step and history length.\"\"\"\n",
    "        start_idx = max(0, self.current_step - self.state_length + 1)\n",
    "        end_idx = self.current_step + 1\n",
    "        obs = self.data[self.features].iloc[start_idx:end_idx]\n",
    "\n",
    "        # flatten because: https://stackoverflow.com/questions/67921084/dqn-agent-issue-with-custom-environment\n",
    "        obs_values = obs.values.flatten().astype(np.float32)\n",
    "        return obs_values\n",
    "\n",
    "    def _step(self, action):\n",
    "        \"\"\"Executes a trading action and updates the environment's state.\"\"\"\n",
    "        if self._episode_ended:\n",
    "            return self.reset()\n",
    "\n",
    "        self.current_step += 1\n",
    "        current_price = self.data.iloc[self.current_step][TARGET_FEATURE]\n",
    "\n",
    "        assert not self.data.iloc[self.current_step].isna().any().any()\n",
    "\n",
    "        if action == ACT_LONG:\n",
    "            self._process_long_position(current_price)\n",
    "        elif action == ACT_SHORT:\n",
    "            prev_current_price = self.data.iloc[self.current_step - 1][TARGET_FEATURE]\n",
    "            self._process_short_position(current_price, prev_current_price)\n",
    "        elif action == ACT_HOLD:\n",
    "            self._process_hold_position()\n",
    "        elif action == ACT_NEUTRAL:\n",
    "            self._process_neutral_position(current_price)\n",
    "        else:\n",
    "          raise Exception(f\"Invalid Actions: {action}\")\n",
    "\n",
    "        self._update_financials()\n",
    "        done = self.current_step >= len(self.data) - 1\n",
    "        reward = self._calculate_reward_signal()\n",
    "        self.data.at[self.data.index[self.current_step], \"Reward\"] = reward\n",
    "        if done:\n",
    "            self._episode_ended = True\n",
    "            return ts.termination(self._next_observation(), reward)\n",
    "        else:\n",
    "            return ts.transition(self._next_observation(), reward, discount=self.reward_discount)\n",
    "\n",
    "    def _get_lower_bound(self, cash, total_shares, price):\n",
    "        \"\"\"\n",
    "        Compute the lower bound of the action space, particularly for short selling,\n",
    "        based on current cash, the number of shares, and the current price.\n",
    "        \"\"\"\n",
    "        delta = -cash - total_shares * price * (1 + self.epsilon) * (1 + self.transaction_cost)\n",
    "\n",
    "        if delta < 0:\n",
    "            lowerBound = delta / (price * (2 * self.transaction_cost + self.epsilon * (1 + self.transaction_cost)))\n",
    "        else:\n",
    "            lowerBound = delta / (price * self.epsilon * (1 + self.transaction_cost))\n",
    "\n",
    "        if np.isinf(lowerBound):\n",
    "            assert False\n",
    "        return lowerBound\n",
    "\n",
    "    def _process_hold_position(self):\n",
    "        step_idx = self.data.index[self.current_step]\n",
    "        self.data.at[step_idx, \"Cash\"] = self.data.iloc[self.current_step - 1][\"Cash\"]\n",
    "        self.data.at[step_idx, \"Holdings\"] = self.data.iloc[self.current_step - 1][\"Holdings\"]\n",
    "        self.data.at[step_idx, \"Position\"] = self.data.iloc[self.current_step - 1][\"Position\"]\n",
    "        self.data.at[step_idx, \"Action\"] = ACT_HOLD\n",
    "\n",
    "    def _process_neutral_position(self, current_price):\n",
    "        step_idx = self.data.index[self.current_step]\n",
    "        self.data.at[step_idx, \"Cash\"] = self.data.iloc[self.current_step - 1]['Cash'] - self.total_shares * current_price * (1 + self.transaction_cost)\n",
    "        self.data.at[step_idx, \"Holdings\"] = 0.0\n",
    "        self.data.at[step_idx, \"Position\"] = 0.0\n",
    "        self.data.at[step_idx, \"Action\"] = ACT_NEUTRAL\n",
    "\n",
    "    def _process_long_position(self, current_price):\n",
    "        step_idx = self.data.index[self.current_step]\n",
    "        self.data.at[step_idx, 'Position'] = 1\n",
    "        self.data.at[step_idx, 'Action'] = ACT_LONG\n",
    "\n",
    "        if self.data.iloc[self.current_step - 1]['Position'] == 1:\n",
    "            # more long\n",
    "            self.data.at[step_idx, 'Cash'] = self.data.iloc[self.current_step - 1]['Cash']\n",
    "            self.data.at[step_idx, 'Holdings'] = self.total_shares * current_price\n",
    "            self.data.at[step_idx, \"Action\"] = ACT_HOLD\n",
    "        elif self.data.iloc[self.current_step - 1]['Position'] == 0:\n",
    "            # new long\n",
    "            self.total_shares = math.floor(self.data.iloc[self.current_step - 1]['Cash'] / (current_price * (1 + self.transaction_cost)))\n",
    "            self.data.at[step_idx, 'Cash'] = self.data.iloc[self.current_step - 1]['Cash'] - self.total_shares * current_price * (1 + self.transaction_cost)\n",
    "            self.data.at[step_idx, 'Holdings'] = self.total_shares * current_price\n",
    "        else:\n",
    "            # short to long\n",
    "            self.data.at[step_idx, 'Cash'] = self.data.iloc[self.current_step - 1]['Cash'] - self.total_shares * current_price * (1 + self.transaction_cost)\n",
    "            self.total_shares = math.floor(self.data.iloc[self.current_step]['Cash'] / (current_price * (1 + self.transaction_cost)))\n",
    "            self.data.at[step_idx, 'Cash'] = self.data.iloc[self.current_step]['Cash'] - self.total_shares * current_price * (1 + self.transaction_cost)\n",
    "            self.data.at[step_idx, 'Holdings'] = self.total_shares * current_price\n",
    "\n",
    "    def _process_short_position(self, current_price, prev_price):\n",
    "        \"\"\"\n",
    "        Adjusts the logic for processing short positions to include lower bound calculations.\n",
    "        \"\"\"\n",
    "        step_idx = self.data.index[self.current_step]\n",
    "        self.data.at[step_idx, 'Position'] = -1\n",
    "        self.data.at[step_idx, \"Action\"] = ACT_SHORT\n",
    "        if self.data.iloc[self.current_step - 1]['Position'] == -1:\n",
    "            # Short more\n",
    "            low = self._get_lower_bound(self.data.iloc[self.current_step - 1]['Cash'], -self.total_shares, prev_price)\n",
    "            if low <= 0:\n",
    "                self.data.at[step_idx, 'Cash'] = self.data.iloc[self.current_step - 1][\"Cash\"]\n",
    "                self.data.at[step_idx, 'Holdings'] = -self.total_shares * current_price\n",
    "                self.data.at[step_idx, \"Action\"] = ACT_HOLD\n",
    "            else:\n",
    "                total_sharesToBuy = min(math.floor(low), self.total_shares)\n",
    "                self.total_shares -= total_sharesToBuy\n",
    "                self.data.at[step_idx, 'Cash'] = self.data.iloc[self.current_step - 1][\"Cash\"] - total_sharesToBuy * current_price * (1 + self.transaction_cost)\n",
    "                self.data.at[step_idx, 'Holdings'] = -self.total_shares * current_price\n",
    "        elif self.data.iloc[self.current_step - 1]['Position'] == 0:\n",
    "            # new short\n",
    "            self.total_shares = math.floor(self.data.iloc[self.current_step - 1][\"Cash\"] / (current_price * (1 + self.transaction_cost)))\n",
    "            self.data.at[step_idx, 'Cash'] = self.data.iloc[self.current_step - 1][\"Cash\"] + self.total_shares * current_price * (1 - self.transaction_cost)\n",
    "            self.data.at[step_idx, 'Holdings'] = -self.total_shares * current_price\n",
    "        else:\n",
    "            # long to short\n",
    "            self.data.at[step_idx, 'Cash'] = self.data.iloc[self.current_step - 1][\"Cash\"] + self.total_shares * current_price * (1 - self.transaction_cost)\n",
    "            self.total_shares = math.floor(self.data.iloc[self.current_step][\"Cash\"] / (current_price * (1 + self.transaction_cost)))\n",
    "            self.data.at[step_idx, 'Cash'] = self.data.iloc[self.current_step][\"Cash\"] + self.total_shares * current_price * (1 - self.transaction_cost)\n",
    "            self.data.at[step_idx, 'Holdings'] = -self.total_shares * current_price\n",
    "\n",
    "    def _update_financials(self):\n",
    "        \"\"\"Updates the financial metrics including cash, money, and returns.\"\"\"\n",
    "        step_idx = self.data.index[self.current_step]\n",
    "        self.balance = self.data.iloc[self.current_step]['Cash']\n",
    "\n",
    "        self.data.at[step_idx,'Money'] = self.data.iloc[self.current_step]['Holdings'] + self.data.iloc[self.current_step]['Cash']\n",
    "        self.data.at[step_idx,'Returns'] = ((self.data.iloc[self.current_step]['Money'] - self.data.iloc[self.current_step - 1]['Money'])) / self.data.iloc[self.current_step - 1]['Money']\n",
    "\n",
    "    def _calculate_reward_signal(self, reward_clip=REWARD_CLIP, punishment=PUNISHMENT):\n",
    "        \"\"\"\n",
    "        Calculates the reward for the current step. In the paper they use the %returns.\n",
    "        \"\"\"\n",
    "        reward = rets = self.data.iloc[self.current_step]['Returns']\n",
    "        if rets < 0:\n",
    "            reward *= punishment\n",
    "            if rets < 0.5:\n",
    "                # We lost 1/2 our portfolio, give max punishment\n",
    "                reward *= 100\n",
    "        return np.clip(reward, -reward_clip, reward_clip)\n",
    "\n",
    "    def _calculate_sharpe_reward_signal(self, risk_free_rate=0.05, periods_per_year=252, reward_clip=REWARD_CLIP):\n",
    "        \"\"\"\n",
    "        Calculates the annualized Sharpe ratio up to the CURRENT STEP.\n",
    "\n",
    "        Parameters:\n",
    "        - risk_free_rate (float): The annual risk-free rate. It will be adjusted to match the period of the returns.\n",
    "        - periods_per_year (int): Number of periods in a year (e.g., 252 for daily, 12 for monthly).\n",
    "\n",
    "        Returns:\n",
    "        - float: The annualized Sharpe ratio as reward.\n",
    "        \"\"\"\n",
    "        period_risk_free_rate = (1 + risk_free_rate) ** (1 / periods_per_year) - 1\n",
    "        observed_returns = self.data['Returns'].iloc[:self.current_step + 1]\n",
    "\n",
    "        excess_returns = observed_returns - period_risk_free_rate\n",
    "\n",
    "        mean_excess_return = np.mean(excess_returns)\n",
    "        std_dev_returns = np.std(observed_returns)\n",
    "\n",
    "        sharpe_ratio = mean_excess_return / std_dev_returns if std_dev_returns > 0 else 0\n",
    "        annual_sr = sharpe_ratio * np.sqrt(periods_per_year)\n",
    "\n",
    "        self.data.at[self.data.index[self.current_step], 'Sharpe'] = annual_sr\n",
    "\n",
    "        return np.clip(annual_sr, -reward_clip, reward_clip)\n",
    "\n",
    "    def calculate_churn(self):\n",
    "        churn = 0\n",
    "        prev_position = 0\n",
    "        for i in range(1, self.current_step + 1):\n",
    "            current_position = self.data.at[self.data.index[i], 'Position']\n",
    "            action = self.data.at[self.data.index[i], 'Action']\n",
    "            if action in [ACT_LONG, ACT_SHORT] and current_position != prev_position:\n",
    "                churn += self.transaction_cost\n",
    "\n",
    "            prev_position = current_position\n",
    "\n",
    "        if self.current_step > 0:\n",
    "            churn /= self.current_step\n",
    "\n",
    "        return churn\n",
    "\n",
    "    def calculate_drawdown_metrics(self):\n",
    "        rets = test_env.data['Returns'].iloc[:test_env.current_step + 1]\n",
    "        cumulative_returns = (1. + rets).cumprod()\n",
    "        peak = cumulative_returns.expanding(min_periods=1).max()\n",
    "        drawdown = (cumulative_returns - peak) / peak.replace(0, np.nan)\n",
    "        max_dd = drawdown.replace([np.inf, -np.inf], np.nan).fillna(0).min() # max is min here.\n",
    "\n",
    "        peak_dates = cumulative_returns[peak == cumulative_returns]\n",
    "        drawdown_durations = pd.Series(index=drawdown.index, dtype='timedelta64[ns]')\n",
    "        for date in drawdown.index:\n",
    "            recent_peak_date = peak_dates[peak_dates.index <= date].index[-1]\n",
    "            duration = date - recent_peak_date\n",
    "            drawdown_durations.at[date] = duration\n",
    "\n",
    "        drawdown_durations_days = drawdown_durations.dt.days\n",
    "        max_dd_duration_days = drawdown_durations_days.max()\n",
    "\n",
    "        return max_dd, max_dd_duration_days\n",
    "\n",
    "    def get_trade_stats(self, riskfree_rate=0.05):\n",
    "        rets = self.data['Returns'].iloc[:self.current_step + 1]\n",
    "\n",
    "        annualized_return = rets.mean() * 252\n",
    "        annualized_vol = rets.std() * np.sqrt(252)\n",
    "\n",
    "        daily_riskfree_rate = (1 + riskfree_rate)**(1/252) - 1\n",
    "        sharpe_ratio = ((rets.mean() - daily_riskfree_rate) / rets.std()) * np.sqrt(252)\n",
    "\n",
    "        downside_deviation = rets[rets < 0].std() * np.sqrt(252)\n",
    "        drawdowns, max_dd_duration_days = self.calculate_drawdown_metrics()\n",
    "\n",
    "        sortino_ratio = ((rets.mean() - daily_riskfree_rate) / downside_deviation)\n",
    "\n",
    "        churn = self.calculate_churn()\n",
    "\n",
    "        return {\n",
    "            \"Annualized Return\": annualized_return,\n",
    "            \"Annualized Vol\": annualized_vol,\n",
    "            \"Sharpe Ratio\": sharpe_ratio,\n",
    "            \"Downside Deviation\": downside_deviation,\n",
    "            \"Sortino Ratio\": sortino_ratio,\n",
    "            \"Max Drawdown\": drawdowns.max(),\n",
    "            \"Max Drawdown Days\": max_dd_duration_days,\n",
    "            \"Trade Churn\": churn,\n",
    "            \"Skewness\": skew(rets.values),\n",
    "            \"Kurtosis\": kurtosis(rets.values)\n",
    "        }\n",
    "\n",
    "    def render(self, mode='human'):\n",
    "        print(f'Step: {self.current_step}, Balance: {self.balance}, Holdings: {self.total_shares}')\n",
    "        print(f\"trade stats: {self.get_trade_stats()}\")"
   ]
  },
  {
   "cell_type": "code",
   "execution_count": 8,
   "id": "0cd45a56",
   "metadata": {
    "execution": {
     "iopub.execute_input": "2024-03-16T01:40:11.888285Z",
     "iopub.status.busy": "2024-03-16T01:40:11.887933Z",
     "iopub.status.idle": "2024-03-16T01:40:23.527703Z",
     "shell.execute_reply": "2024-03-16T01:40:23.526799Z"
    },
    "executionInfo": {
     "elapsed": 18080,
     "status": "ok",
     "timestamp": 1710410595668,
     "user": {
      "displayName": "Adam Darmanin",
      "userId": "00262451996831505471"
     },
     "user_tz": -60
    },
    "id": "_2lK8WKhtuu4",
    "outputId": "76ff0f33-2642-4bdd-bf85-e113b7556db0",
    "papermill": {
     "duration": 11.658979,
     "end_time": "2024-03-16T01:40:23.529592",
     "exception": false,
     "start_time": "2024-03-16T01:40:11.870613",
     "status": "completed"
    },
    "tags": []
   },
   "outputs": [
    {
     "name": "stderr",
     "output_type": "stream",
     "text": [
      "2024-03-16 01:40:15.733633: E external/local_xla/xla/stream_executor/stream_executor_internal.h:177] SetPriority unimplemented for this stream.\n",
      "2024-03-16 01:40:15.733744: E external/local_xla/xla/stream_executor/stream_executor_internal.h:177] SetPriority unimplemented for this stream.\n",
      "2024-03-16 01:40:15.733823: E external/local_xla/xla/stream_executor/stream_executor_internal.h:177] SetPriority unimplemented for this stream.\n",
      "2024-03-16 01:40:15.733893: E external/local_xla/xla/stream_executor/stream_executor_internal.h:177] SetPriority unimplemented for this stream.\n",
      "2024-03-16 01:40:15.733971: E external/local_xla/xla/stream_executor/stream_executor_internal.h:177] SetPriority unimplemented for this stream.\n",
      "2024-03-16 01:40:15.734176: E external/local_xla/xla/stream_executor/stream_executor_internal.h:177] SetPriority unimplemented for this stream.\n",
      "2024-03-16 01:40:15.734340: E external/local_xla/xla/stream_executor/stream_executor_internal.h:177] SetPriority unimplemented for this stream.\n",
      "2024-03-16 01:40:15.734455: E external/local_xla/xla/stream_executor/stream_executor_internal.h:177] SetPriority unimplemented for this stream.\n",
      "2024-03-16 01:40:15.734563: E external/local_xla/xla/stream_executor/stream_executor_internal.h:177] SetPriority unimplemented for this stream.\n",
      "2024-03-16 01:40:15.734681: E external/local_xla/xla/stream_executor/stream_executor_internal.h:177] SetPriority unimplemented for this stream.\n",
      "2024-03-16 01:40:15.735112: E external/local_xla/xla/stream_executor/stream_executor_internal.h:177] SetPriority unimplemented for this stream.\n",
      "2024-03-16 01:40:15.735238: E external/local_xla/xla/stream_executor/stream_executor_internal.h:177] SetPriority unimplemented for this stream.\n",
      "2024-03-16 01:40:15.735315: E external/local_xla/xla/stream_executor/stream_executor_internal.h:177] SetPriority unimplemented for this stream.\n",
      "2024-03-16 01:40:15.735438: E external/local_xla/xla/stream_executor/stream_executor_internal.h:177] SetPriority unimplemented for this stream.\n",
      "2024-03-16 01:40:15.735542: E external/local_xla/xla/stream_executor/stream_executor_internal.h:177] SetPriority unimplemented for this stream.\n",
      "2024-03-16 01:40:15.735757: E external/local_xla/xla/stream_executor/stream_executor_internal.h:177] SetPriority unimplemented for this stream.\n",
      "2024-03-16 01:40:15.735853: E external/local_xla/xla/stream_executor/stream_executor_internal.h:177] SetPriority unimplemented for this stream.\n",
      "2024-03-16 01:40:15.735936: E external/local_xla/xla/stream_executor/stream_executor_internal.h:177] SetPriority unimplemented for this stream.\n",
      "2024-03-16 01:40:15.736034: E external/local_xla/xla/stream_executor/stream_executor_internal.h:177] SetPriority unimplemented for this stream.\n",
      "2024-03-16 01:40:15.736110: E external/local_xla/xla/stream_executor/stream_executor_internal.h:177] SetPriority unimplemented for this stream.\n",
      "2024-03-16 01:40:15.736360: E external/local_xla/xla/stream_executor/stream_executor_internal.h:177] SetPriority unimplemented for this stream.\n",
      "2024-03-16 01:40:15.736449: E external/local_xla/xla/stream_executor/stream_executor_internal.h:177] SetPriority unimplemented for this stream.\n",
      "2024-03-16 01:40:15.736558: E external/local_xla/xla/stream_executor/stream_executor_internal.h:177] SetPriority unimplemented for this stream.\n",
      "2024-03-16 01:40:15.736678: E external/local_xla/xla/stream_executor/stream_executor_internal.h:177] SetPriority unimplemented for this stream.\n",
      "2024-03-16 01:40:15.736775: E external/local_xla/xla/stream_executor/stream_executor_internal.h:177] SetPriority unimplemented for this stream.\n",
      "2024-03-16 01:40:15.737045: E external/local_xla/xla/stream_executor/stream_executor_internal.h:177] SetPriority unimplemented for this stream.\n",
      "2024-03-16 01:40:15.737146: E external/local_xla/xla/stream_executor/stream_executor_internal.h:177] SetPriority unimplemented for this stream.\n",
      "2024-03-16 01:40:15.737249: E external/local_xla/xla/stream_executor/stream_executor_internal.h:177] SetPriority unimplemented for this stream.\n",
      "2024-03-16 01:40:15.737358: E external/local_xla/xla/stream_executor/stream_executor_internal.h:177] SetPriority unimplemented for this stream.\n",
      "2024-03-16 01:40:15.737450: E external/local_xla/xla/stream_executor/stream_executor_internal.h:177] SetPriority unimplemented for this stream.\n",
      "2024-03-16 01:40:15.737761: E external/local_xla/xla/stream_executor/stream_executor_internal.h:177] SetPriority unimplemented for this stream.\n",
      "2024-03-16 01:40:15.737864: E external/local_xla/xla/stream_executor/stream_executor_internal.h:177] SetPriority unimplemented for this stream.\n",
      "2024-03-16 01:40:15.737974: E external/local_xla/xla/stream_executor/stream_executor_internal.h:177] SetPriority unimplemented for this stream.\n",
      "2024-03-16 01:40:15.738049: E external/local_xla/xla/stream_executor/stream_executor_internal.h:177] SetPriority unimplemented for this stream.\n",
      "2024-03-16 01:40:15.738163: E external/local_xla/xla/stream_executor/stream_executor_internal.h:177] SetPriority unimplemented for this stream.\n",
      "2024-03-16 01:40:15.738425: E external/local_xla/xla/stream_executor/stream_executor_internal.h:177] SetPriority unimplemented for this stream.\n",
      "2024-03-16 01:40:15.738643: E external/local_xla/xla/stream_executor/stream_executor_internal.h:177] SetPriority unimplemented for this stream.\n",
      "2024-03-16 01:40:15.738741: E external/local_xla/xla/stream_executor/stream_executor_internal.h:177] SetPriority unimplemented for this stream.\n",
      "2024-03-16 01:40:15.738832: E external/local_xla/xla/stream_executor/stream_executor_internal.h:177] SetPriority unimplemented for this stream.\n",
      "2024-03-16 01:40:15.738946: E external/local_xla/xla/stream_executor/stream_executor_internal.h:177] SetPriority unimplemented for this stream.\n"
     ]
    },
    {
     "name": "stdout",
     "output_type": "stream",
     "text": [
      "TimeStep Specs: TimeStep(\n",
      "{'step_type': ArraySpec(shape=(), dtype=dtype('int32'), name='step_type'),\n",
      " 'reward': ArraySpec(shape=(), dtype=dtype('float32'), name='reward'),\n",
      " 'discount': BoundedArraySpec(shape=(), dtype=dtype('float32'), name='discount', minimum=0.0, maximum=1.0),\n",
      " 'observation': BoundedArraySpec(shape=(240,), dtype=dtype('float32'), name='observation', minimum=-3.4028234663852886e+38, maximum=3.4028234663852886e+38)})\n",
      "Action Specs: BoundedArraySpec(shape=(), dtype=dtype('int32'), name='action', minimum=0, maximum=1)\n",
      "Reward Specs: ArraySpec(shape=(), dtype=dtype('float32'), name='reward')\n"
     ]
    }
   ],
   "source": [
    "train_data = stock_df[stock_df.index < pd.to_datetime(SPLIT_DATE)].copy()\n",
    "test_data = stock_df[stock_df.index >= pd.to_datetime(SPLIT_DATE)].copy()\n",
    "\n",
    "train_env = TradingEnv(train_data)\n",
    "utils.validate_py_environment(train_env, episodes=TRAIN_EPISODES)\n",
    "test_env = TradingEnv(test_data)\n",
    "utils.validate_py_environment(train_env, episodes=TRAIN_EPISODES//4)\n",
    "\n",
    "print(f\"TimeStep Specs: {train_env.time_step_spec()}\")\n",
    "print(f\"Action Specs: {train_env.action_spec()}\")\n",
    "print(f\"Reward Specs: {train_env.time_step_spec().reward}\")"
   ]
  },
  {
   "cell_type": "code",
   "execution_count": 9,
   "id": "e5dc0301",
   "metadata": {
    "execution": {
     "iopub.execute_input": "2024-03-16T01:40:23.565842Z",
     "iopub.status.busy": "2024-03-16T01:40:23.565081Z",
     "iopub.status.idle": "2024-03-16T01:40:23.585000Z",
     "shell.execute_reply": "2024-03-16T01:40:23.584214Z"
    },
    "executionInfo": {
     "elapsed": 32,
     "status": "ok",
     "timestamp": 1710410595668,
     "user": {
      "displayName": "Adam Darmanin",
      "userId": "00262451996831505471"
     },
     "user_tz": -60
    },
    "id": "6yXdVTRctuu5",
    "outputId": "9dac562a-7dba-446a-e971-b505c5ca4c11",
    "papermill": {
     "duration": 0.039905,
     "end_time": "2024-03-16T01:40:23.586619",
     "exception": false,
     "start_time": "2024-03-16T01:40:23.546714",
     "status": "completed"
    },
    "tags": []
   },
   "outputs": [
    {
     "name": "stdout",
     "output_type": "stream",
     "text": [
      "Action taken: 2 at step: 31\n",
      "New balance: 100000.0\n",
      "Total shares: 0\n",
      "Reward: 0.0\n",
      "\n",
      "Action taken: 1 at step: 32\n",
      "New balance: 0.848236083984375\n",
      "Total shares: 5510\n",
      "Reward: 0.0\n",
      "\n",
      "Action taken: 0 at step: 33\n",
      "New balance: 203790.03025054932\n",
      "Total shares: 5510\n",
      "Reward: 0.01895439252257347\n",
      "\n",
      "Action taken: 2 at step: 34\n",
      "New balance: 203790.03025054932\n",
      "Total shares: 5510\n",
      "Reward: 0.0\n",
      "\n",
      "Action taken: 1 at step: 35\n",
      "New balance: 4.924432754516602\n",
      "Total shares: 6431\n",
      "Reward: 0.07714703679084778\n",
      "\n"
     ]
    }
   ],
   "source": [
    "def execute_action_and_print_state(env, action):\n",
    "    next_time_step = env.step(np.array(action, dtype=np.int32))\n",
    "    print(f'Action taken: {action} at step: {env.current_step}')\n",
    "    # print(f'New state: {next_time_step.observation}')\n",
    "    print(f'New balance: {env.balance}')\n",
    "    print(f'Total shares: {env.total_shares}')\n",
    "    print(f'Reward: {next_time_step.reward}\\n')\n",
    "\n",
    "time_step = train_env.reset()\n",
    "# print(f'Initial state: {time_step.observation}')\n",
    "\n",
    "# Some dryruns to validate our env logic: Buy, Sell, we should have a positive balance with TSLA\n",
    "execute_action_and_print_state(train_env, ACT_HOLD)\n",
    "execute_action_and_print_state(train_env, ACT_LONG)\n",
    "execute_action_and_print_state(train_env, ACT_SHORT)\n",
    "execute_action_and_print_state(train_env, ACT_HOLD)\n",
    "execute_action_and_print_state(train_env, ACT_LONG)"
   ]
  },
  {
   "cell_type": "markdown",
   "id": "719bbe64",
   "metadata": {
    "id": "xcb7hq6yH0Cq",
    "papermill": {
     "duration": 0.016895,
     "end_time": "2024-03-16T01:40:23.620547",
     "exception": false,
     "start_time": "2024-03-16T01:40:23.603652",
     "status": "completed"
    },
    "tags": []
   },
   "source": [
    "# Deep Q-Network Architecure"
   ]
  },
  {
   "cell_type": "markdown",
   "id": "3b170def",
   "metadata": {
    "id": "_AIE_vPrH0Cr",
    "papermill": {
     "duration": 0.016916,
     "end_time": "2024-03-16T01:40:23.654225",
     "exception": false,
     "start_time": "2024-03-16T01:40:23.637309",
     "status": "completed"
    },
    "tags": []
   },
   "source": [
    "## Architecture\n",
    "\n",
    "Deep Q-neural-network architecture (DQN) approximates the the Q-tables algorithm as its approximating the action-value function π∗(at|st). Its an approximation because the number of combinations you can have with your Q-Tables is gargantuan and impossible to process.\n",
    "\n",
    "The Q-network is also referred to as the policy model. We will also leverage a target Q-network in our architecture. Tha Target model is updated more seldomly than the Q-Network, and helps stabilize the training process as the Q-Network is trained to reduced its output and the target network (a more stable value).\n",
    "\n",
    "Finally, we will add a Replay Memory to sample data for our models. The memory is a circular memory of fixed size (therefore it 'forgets' old memories), and at every fixed frequency the models use the memory to calculate the loss between their predicted Q values and the ones performed in the memory."
   ]
  },
  {
   "cell_type": "markdown",
   "id": "8e1b7d14",
   "metadata": {
    "id": "Q49V1zseH0Cs",
    "papermill": {
     "duration": 0.01776,
     "end_time": "2024-03-16T01:40:23.688768",
     "exception": false,
     "start_time": "2024-03-16T01:40:23.671008",
     "status": "completed"
    },
    "tags": []
   },
   "source": [
    "## The Reinforce Learning Flow\n",
    "\n",
    "A picture says a thousand words; the flow chart below will guide us on the whole training and updating the target model:\n",
    "\n",
    "![\"Flowchart of training\"](https://raw.githubusercontent.com/adamd1985/Deep-Q-Learning-Applied-to-Algorithmic-Trading/main/images/Q-net.png)\n",
    "\n",
    "First we initinialize the environment *St* and the action state *Qt*.\n",
    "\n",
    "We then run multiple episodes of n iterations to train the model and remember the state, actions and the Q value predicted. On each iteration, these events will occur:\n",
    "1. Fetch the state.\n",
    "1. Take either a random action (ε greedy) or predict a Q value given an action in the current state, the former is called exploration, and the latter exploitation. The ε decays with time, as the model learns, it should explore less.\n",
    "1. When predicting the Q value, it will use the policy model. Regardles of exploring or explointing, it saves the memory of the states, actions and the given Q value.\n",
    "1. Calculate the target Q-Value by taking the max predictions from the target-network. From the previous formula *rt + γt * Qtarget(s_t+1, a_t+1)* where gamma *γ* is the discounting factor.\n",
    "1. Re-traing the policy model to minimize the Q-values from the different models. Training uses sampled states from our replay memory.\n",
    "1. At the end of the episode, or any interval of our chosing, we copy the wieghts of the policy model to the target model."
   ]
  },
  {
   "cell_type": "code",
   "execution_count": 10,
   "id": "7b1ecee6",
   "metadata": {
    "execution": {
     "iopub.execute_input": "2024-03-16T01:40:23.725972Z",
     "iopub.status.busy": "2024-03-16T01:40:23.725635Z",
     "iopub.status.idle": "2024-03-16T01:40:24.019448Z",
     "shell.execute_reply": "2024-03-16T01:40:24.018572Z"
    },
    "executionInfo": {
     "elapsed": 4191,
     "status": "ok",
     "timestamp": 1710410599829,
     "user": {
      "displayName": "Adam Darmanin",
      "userId": "00262451996831505471"
     },
     "user_tz": -60
    },
    "id": "2y5vgYpxH0Cs",
    "outputId": "4855dd85-dee9-4dcf-9104-d4dfde71470b",
    "papermill": {
     "duration": 0.31453,
     "end_time": "2024-03-16T01:40:24.021041",
     "exception": false,
     "start_time": "2024-03-16T01:40:23.706511",
     "status": "completed"
    },
    "tags": []
   },
   "outputs": [
    {
     "name": "stdout",
     "output_type": "stream",
     "text": [
      "<tf_agents.policies.greedy_policy.GreedyPolicy object at 0x7e14b03b8fd0>\n",
      "<tf_agents.policies.epsilon_greedy_policy.EpsilonGreedyPolicy object at 0x7e14b03babf0>\n"
     ]
    }
   ],
   "source": [
    "def create_q_network(env, fc_layer_params=LAYERS, dropout_rate=DROPOUT, l2_reg=L2FACTOR):\n",
    "    \"\"\"\n",
    "    Creates a Q-Network with dropout and batch normalization.\n",
    "    Parameters:\n",
    "    - env: The environment instance.\n",
    "    - fc_layer_params: Tuple of integers representing the number of units in each dense layer.\n",
    "    - dropout_rate: Dropout rate for dropout layers.\n",
    "    - l2_reg: L2 regularization factor.\n",
    "\n",
    "    Returns:\n",
    "    - q_net: The Q-Network model.\n",
    "    \"\"\"\n",
    "    env = tf_py_environment.TFPyEnvironment(env)\n",
    "    action_tensor_spec = tensor_spec.from_spec(env.action_spec())\n",
    "    num_actions = action_tensor_spec.maximum - action_tensor_spec.minimum + 1\n",
    "\n",
    "    layers = []\n",
    "    for num_units in fc_layer_params:\n",
    "        layers.append(tf.keras.layers.Dense(\n",
    "                                num_units,\n",
    "                                activation=None,\n",
    "                                kernel_initializer=tf.keras.initializers.VarianceScaling(scale=2.0, mode='fan_in', distribution='truncated_normal'),\n",
    "                                kernel_regularizer=tf.keras.regularizers.l2(l2_reg)))\n",
    "        # Internal Covariate Shift Reductio by normalizing layer inputs, this improves gradient flow.\n",
    "        layers.append(tf.keras.layers.BatchNormalization())\n",
    "        layers.append(tf.keras.layers.LeakyReLU())\n",
    "        layers.append(tf.keras.layers.Dropout(dropout_rate))\n",
    "\n",
    "    q_values_layer = tf.keras.layers.Dense(\n",
    "        num_actions,\n",
    "        activation=None,\n",
    "        kernel_initializer=tf.keras.initializers.GlorotNormal(),\n",
    "        bias_initializer=tf.keras.initializers.GlorotNormal(),\n",
    "        kernel_regularizer=tf.keras.regularizers.l2(l2_reg))\n",
    "\n",
    "    q_net = sequential.Sequential(layers + [q_values_layer])\n",
    "\n",
    "    return q_net\n",
    "\n",
    "def create_agent(q_net, env, t_q_net = None, optimizer = None, eps=EPSILON_START, learning_rate=LEARN_RATE, gradient_clipping = GRAD_CLIP, discount=DISCOUNT):\n",
    "    \"\"\"\n",
    "    Creates a DQN agent for a given environment with specified configurations.\n",
    "\n",
    "    Parameters:\n",
    "    - q_net (tf_agents.networks.Network): The primary Q-network for the agent.\n",
    "    - env (tf_agents.environments.PyEnvironment or tf_agents.environments.TFPyEnvironment):\n",
    "      The environment the agent will interact with. A TFPyEnvironment wrapper is applied\n",
    "      if not already wrapped.\n",
    "    - t_q_net (tf_agents.networks.Network, optional): The target Q-network for the agent.\n",
    "      If None, no target network is used.\n",
    "    - optimizer (tf.keras.optimizers.Optimizer, optional): The optimizer to use for training the agent.\n",
    "      If None, an Adam optimizer with exponential decay learning rate is used.\n",
    "    - eps (float): The epsilon value for epsilon-greedy exploration.\n",
    "    - learning_rate (float): The initial learning rate for the exponential decay learning rate schedule.\n",
    "      Ignored if an optimizer is provided.\n",
    "    - gradient_clipping (float): The value for gradient clipping. If 1., no clipping is applied.\n",
    "\n",
    "    Returns:\n",
    "    - agent (tf_agents.agents.DqnAgent): The initialized and configured DQN agent.\n",
    "    \"\"\"\n",
    "    if optimizer is None:\n",
    "        lr_schedule = tf.keras.optimizers.schedules.ExponentialDecay(learning_rate, decay_steps=1000, decay_rate=0.96, staircase=True)\n",
    "        optimizer = tf.keras.optimizers.Adam(learning_rate=lr_schedule)\n",
    "\n",
    "    env = tf_py_environment.TFPyEnvironment(env)\n",
    "    # see: https://www.tensorflow.org/agents/api_docs/python/tf_agents/agents/DqnAgent\n",
    "    agent = dqn_agent.DqnAgent(\n",
    "        env.time_step_spec(),\n",
    "        env.action_spec(),\n",
    "        gamma=discount,\n",
    "        q_network=q_net,\n",
    "        target_q_network = t_q_net,\n",
    "        target_update_period = TARGET_UPDATE,\n",
    "        optimizer=optimizer,\n",
    "        epsilon_greedy = eps,\n",
    "        reward_scale_factor = 1,\n",
    "        gradient_clipping = gradient_clipping,\n",
    "        td_errors_loss_fn=common.element_wise_huber_loss,\n",
    "        train_step_counter=tf.compat.v1.train.get_or_create_global_step(),\n",
    "        name=\"TradeAgent\")\n",
    "\n",
    "    agent.initialize()\n",
    "    print(agent.policy)\n",
    "    print(agent.collect_policy)\n",
    "    return agent\n",
    "\n",
    "with strategy.scope():\n",
    "  q_net = create_q_network(train_env)\n",
    "  t_q_net = create_q_network(train_env)\n",
    "  agent = create_agent(q_net, train_env, t_q_net=t_q_net)"
   ]
  },
  {
   "cell_type": "markdown",
   "id": "ab99c160",
   "metadata": {
    "id": "WXZ_bo04H0Ct",
    "papermill": {
     "duration": 0.016999,
     "end_time": "2024-03-16T01:40:24.054881",
     "exception": false,
     "start_time": "2024-03-16T01:40:24.037882",
     "status": "completed"
    },
    "tags": []
   },
   "source": [
    "# Trading Operations\n",
    "\n",
    "Using TensorFlow agents' framework, training our pavlovian trader should be easier than building the architecture ourselves.\n",
    "\n",
    "The trading simulator class will prepare all the variables required. In this case it will initialize the reply memory using DeepMind's Reverb, and create a collector policy for the agent. Unlike the evaluation policy (*π(at|ht)*) which is use to predict the target Q value, the collector will explore and collect data with actions and their resulting value for the memory, memories are saved as trajectories (*τ*) in tensorflow which is a collection of the current observed state (*ot*), the action taken (*at*), the reward received (*r_t+1*) and the following observed state (*o_t+1*) formalized as *r=(o_t-1, a_t-1, rt, ot, dt)*, where dt is a flag for the end state if this was the last observation.\n",
    "\n",
    "To give learning opportunity to our agent, we will use a high epsilon to have it explore a lot, and slowly decay it using the formula below:\n",
    "\n",
    "$$\n",
    "\\epsilon_{\\text{decayed}} = \\epsilon_{\\text{final}} + (\\epsilon_{\\text{initial}} - \\epsilon_{\\text{final}}) \\times e^{-\\frac{\\text{step}}{\\text{decay\\_steps}}}\n",
    "$$\n",
    "\n",
    "Where:\n",
    "- *ϵ_decayed* is the decayed epsilon value at the current step,\n",
    "- *ϵ_initial* is the initial epsilon value at the start of training, we set it to 1, meaning it only explores at start.\n",
    "- *ϵ_final* is the end value we want that the agent exploits is environment, preferably when deployed.\n",
    "- *step* is the current step or iteration in the training process, and decay_steps is a parameter that controls the rate, in our case 1000. As the steps approach the end, the decay will get smaller and smaller.\n"
   ]
  },
  {
   "cell_type": "code",
   "execution_count": 11,
   "id": "569afc4a",
   "metadata": {
    "execution": {
     "iopub.execute_input": "2024-03-16T01:40:24.090770Z",
     "iopub.status.busy": "2024-03-16T01:40:24.090489Z",
     "iopub.status.idle": "2024-03-16T01:40:24.142585Z",
     "shell.execute_reply": "2024-03-16T01:40:24.141757Z"
    },
    "executionInfo": {
     "elapsed": 6,
     "status": "ok",
     "timestamp": 1710410599830,
     "user": {
      "displayName": "Adam Darmanin",
      "userId": "00262451996831505471"
     },
     "user_tz": -60
    },
    "id": "7DmbtWugH0Ct",
    "papermill": {
     "duration": 0.072412,
     "end_time": "2024-03-16T01:40:24.144358",
     "exception": false,
     "start_time": "2024-03-16T01:40:24.071946",
     "status": "completed"
    },
    "tags": []
   },
   "outputs": [],
   "source": [
    "import tensorflow as tf\n",
    "\n",
    "class CustomMetrics(tf.Module):\n",
    "    def __init__(self, name=None):\n",
    "        super(CustomMetrics, self).__init__(name=name)\n",
    "        self.total_returns = tf.Variable([], dtype=tf.float32, trainable=False, shape=tf.TensorShape(None))\n",
    "        self.average_returns = tf.Variable([], dtype=tf.float32, trainable=False, shape=tf.TensorShape(None))\n",
    "        self.sharpe_ratios = tf.Variable([], dtype=tf.float32, trainable=False, shape=tf.TensorShape(None))\n",
    "        self.losses = tf.Variable([], dtype=tf.float32, trainable=False, shape=tf.TensorShape(None))\n",
    "\n",
    "    def update_metrics(self, losses=None, total_return=None, average_return=None, sharpe_ratio=None):\n",
    "        if total_return is not None:\n",
    "            self.total_returns.assign(tf.concat([self.total_returns.value(), [total_return]], axis=0))\n",
    "        if total_return is not None:\n",
    "            self.average_returns.assign(tf.concat([self.average_returns.value(), [average_return]], axis=0))\n",
    "        if total_return is not None:\n",
    "            self.sharpe_ratios.assign(tf.concat([self.sharpe_ratios.value(), [sharpe_ratio]], axis=0))\n",
    "        if losses is not None:\n",
    "            self.losses.assign(tf.concat([self.losses.value(), [losses]], axis=0))\n",
    "\n",
    "class TradingSimulator:\n",
    "    def __init__(self, env, eval_env, agent, episodes=TRAIN_EPISODES,\n",
    "                 batch_size=BATCH_SIZE, num_eval_episodes=TEST_INTERVALS,\n",
    "                 collect_steps_per_iteration=INIT_COLLECT,\n",
    "                 replay_buffer_max_length=MEMORY_LENGTH ,\n",
    "                 num_iterations = TOTAL_ITERS, log_interval=LOG_INTERVALS,\n",
    "                 eval_interval=None, global_step=None):\n",
    "        self.py_env = env\n",
    "        self.env =  tf_py_environment.TFPyEnvironment(self.py_env)\n",
    "        self.py_eval_env = eval_env\n",
    "        self.eval_env =  tf_py_environment.TFPyEnvironment(self.py_eval_env)\n",
    "        self.agent = agent\n",
    "        self.episodes = episodes\n",
    "        self.log_interval = log_interval\n",
    "        self.eval_interval = eval_interval\n",
    "        self.global_step = global_step\n",
    "\n",
    "        self.batch_size = batch_size\n",
    "        self.num_eval_episodes = num_eval_episodes\n",
    "        self.collect_steps_per_iteration = collect_steps_per_iteration\n",
    "        self.replay_buffer_max_length = replay_buffer_max_length\n",
    "        self.num_iterations = num_iterations\n",
    "\n",
    "        self.policy = self.agent.policy\n",
    "        self.collect_policy = self.agent.collect_policy\n",
    "        self.random_policy = random_tf_policy.RandomTFPolicy(\n",
    "            self.env.time_step_spec(),\n",
    "            self.env.action_spec())\n",
    "\n",
    "        self.replay_buffer_signature = tensor_spec.from_spec(\n",
    "            self.agent.collect_data_spec)\n",
    "        self.replay_buffer_signature = tensor_spec.add_outer_dim(\n",
    "            self.replay_buffer_signature)\n",
    "\n",
    "    def init_memory(self, table_name = 'uniform_table'):\n",
    "        self.table = reverb.Table(\n",
    "            table_name,\n",
    "            max_size=self.replay_buffer_max_length,\n",
    "            sampler=reverb.selectors.Uniform(),\n",
    "            remover=reverb.selectors.Fifo(),\n",
    "            rate_limiter=reverb.rate_limiters.MinSize(1),\n",
    "            signature=self.replay_buffer_signature)\n",
    "\n",
    "        self.reverb_server = reverb.Server([self.table])\n",
    "        self.replay_buffer = reverb_replay_buffer.ReverbReplayBuffer(\n",
    "                                    self.agent.collect_data_spec,\n",
    "                                    table_name=table_name,\n",
    "                                    sequence_length=2,\n",
    "                                    local_server=self.reverb_server)\n",
    "\n",
    "        self.rb_observer = reverb_utils.ReverbAddTrajectoryObserver(self.replay_buffer.py_client, table_name, sequence_length=2)\n",
    "        self.dataset = self.replay_buffer.as_dataset(num_parallel_calls=3, sample_batch_size=self.batch_size, num_steps=2).prefetch(3)\n",
    "\n",
    "        return self.dataset, iter(self.dataset)\n",
    "\n",
    "    def eval_metrics(self, num_eval_episodes):\n",
    "        @tf.function\n",
    "        def _eval_step():\n",
    "            time_step = self.eval_env.reset()\n",
    "            episode_returns = tf.TensorArray(dtype=tf.float32, size=0, dynamic_size=True, clear_after_read=False)\n",
    "\n",
    "            while not time_step.is_last():\n",
    "                action_step = self.policy.action(time_step)\n",
    "                time_step = self.eval_env.step(action_step.action)\n",
    "                rewards = time_step.reward\n",
    "                episode_returns = episode_returns.write(episode_returns.size(), rewards)\n",
    "\n",
    "            episode_returns_stacked = episode_returns.stack()\n",
    "            cumulative_returns = tf.math.cumprod(episode_returns_stacked + 1) - 1\n",
    "            total_episode_return = cumulative_returns[-1]\n",
    "            episode_avg_return = tf.reduce_mean(episode_returns_stacked)\n",
    "            episode_std_dev = tf.math.reduce_std(episode_returns_stacked)\n",
    "            episode_sharpe_ratio = tf.cond(\n",
    "                episode_std_dev > 0,\n",
    "                lambda: episode_avg_return / episode_std_dev,\n",
    "                lambda: tf.constant(0.0)\n",
    "            )\n",
    "\n",
    "            return total_episode_return, episode_avg_return, episode_std_dev, episode_sharpe_ratio\n",
    "\n",
    "        # Initialize lists to hold the metrics for all episodes\n",
    "        total_returns_list = []\n",
    "        episode_avg_returns_list = []\n",
    "        episode_std_devs_list = []\n",
    "        episode_sharpe_ratios_list = []\n",
    "\n",
    "        for i in tqdm(range(0, num_eval_episodes), desc=f\"Eval for {num_eval_episodes}\"):\n",
    "            total_episode_return, episode_avg_return, episode_std_dev, episode_sharpe_ratio = _eval_step()\n",
    "            total_returns_list.append(total_episode_return)\n",
    "            episode_avg_returns_list.append(episode_avg_return)\n",
    "            episode_std_devs_list.append(episode_std_dev)\n",
    "            episode_sharpe_ratios_list.append(episode_sharpe_ratio)\n",
    "\n",
    "        # Convert lists to tensors for returning\n",
    "        total_returns = tf.convert_to_tensor(total_returns_list)\n",
    "        episode_avg_returns = tf.convert_to_tensor(episode_avg_returns_list)\n",
    "        episode_std_devs = tf.convert_to_tensor(episode_std_devs_list)\n",
    "        episode_sharpe_ratios = tf.convert_to_tensor(episode_sharpe_ratios_list)\n",
    "\n",
    "        return total_returns, episode_avg_returns, episode_std_devs, episode_sharpe_ratios\n",
    "\n",
    "    def train(self, checkpoint_path=MODELS_PATH, initial_epsilon= EPSILON_START, final_epsilon = EPSILON_END, decay_steps=EPSILON_DECAY):\n",
    "        @tf.function\n",
    "        def _train_step(experience, agent, metrics, global_step, initial_epsilon, final_epsilon, decay_steps):\n",
    "\n",
    "            train_loss = agent.train(experience).loss\n",
    "            metrics.update_metrics(losses=train_loss)\n",
    "\n",
    "            decayed_epsilon = final_epsilon + (initial_epsilon - final_epsilon) * tf.math.exp(-1. * tf.cast(global_step, tf.float32) / decay_steps)\n",
    "            agent.collect_policy._epsilon = decayed_epsilon\n",
    "\n",
    "            return train_loss\n",
    "\n",
    "        print(\"Preparing replay memory and dataset\")\n",
    "        _, iterator = self.init_memory()\n",
    "\n",
    "        self.metrics = CustomMetrics()\n",
    "        self.global_step = tf.compat.v1.train.get_or_create_global_step()\n",
    "        checkpoint_dir = os.path.join(checkpoint_path, 'checkpoint')\n",
    "        train_checkpointer = common.Checkpointer(\n",
    "            ckpt_dir=checkpoint_dir,\n",
    "            max_to_keep=1,\n",
    "            agent=agent,\n",
    "            metrics=self.metrics,\n",
    "            policy=agent.policy,\n",
    "            replay_buffer=self.replay_buffer,\n",
    "            global_step=self.global_step\n",
    "        )\n",
    "        status = train_checkpointer.initialize_or_restore()\n",
    "        self.global_step = tf.compat.v1.train.get_global_step()\n",
    "        print(f'Next step restored: {self.global_step.numpy()} status: {status}')\n",
    "        self.policy = agent.policy\n",
    "        self.agent.train = common.function(self.agent.train)\n",
    "        self.agent.train_step_counter.assign(self.global_step )\n",
    "\n",
    "        time_step = self.py_env.reset()\n",
    "        collect_driver = py_driver.PyDriver(\n",
    "            self.py_env,\n",
    "            py_tf_eager_policy.PyTFEagerPolicy(self.agent.collect_policy, use_tf_function=True),\n",
    "            [self.rb_observer],\n",
    "            max_steps=self.collect_steps_per_iteration)\n",
    "\n",
    "        print(f\"Running training starting {self.global_step.numpy()} to {self.num_iterations}\")\n",
    "\n",
    "        for _ in tqdm(range(self.global_step.numpy(), self.num_iterations), desc=f\"Training for {self.global_step.numpy() - self.num_iterations}\"):\n",
    "            if time_step.is_last():\n",
    "                time_step = self.py_env.reset()\n",
    "            time_step, _ = collect_driver.run(time_step)\n",
    "            experience, _ = next(iterator)\n",
    "            train_loss = _train_step(experience, agent, self.metrics, self.global_step, initial_epsilon= initial_epsilon, final_epsilon = final_epsilon, decay_steps=decay_steps)\n",
    "\n",
    "            if self.global_step.numpy() % self.log_interval == 0:\n",
    "                print(f'step = {self.global_step.numpy()}: loss = {train_loss}')\n",
    "                # Later call: saved_policy = tf.saved_model.load(policy_dir)\n",
    "                train_checkpointer.save(self.global_step)\n",
    "\n",
    "            if (self.eval_interval is not None) and (self.global_step.numpy() % self.eval_interval == 0):\n",
    "                total_returns, episode_avg_returns, episode_std_devs, episode_sharpe_ratios= self.eval_metrics(self.eval_interval // 2)\n",
    "                tr = np.mean(total_returns)\n",
    "                av = np.mean(episode_avg_returns)\n",
    "                sr = np.mean(episode_sharpe_ratios)\n",
    "                sd = np.mean(episode_std_devs)\n",
    "\n",
    "                print(f'step = {self.global_step.numpy()}: Average Return = {av}, Total Return = {tr}, Avg Sharpe = {sr} -- Saving {self.global_step} Checkpoint')\n",
    "                self.metrics.update_metrics(total_return=tr, average_return=av, sharpe_ratio=sr)\n",
    "                train_checkpointer.save(self.global_step)\n",
    "\n",
    "        print(f'\\nTraining completed. Loss: {np.mean(self.metrics.losses.numpy()):.4f}')\n",
    "\n",
    "        policy_dir = os.path.join(checkpoint_path, 'policy')\n",
    "        tf_policy_saver = policy_saver.PolicySaver(agent.policy)\n",
    "        tf_policy_saver.save(policy_dir)\n",
    "        self.zip_directories(checkpoint_path)\n",
    "        print(\"Policy saved\")\n",
    "\n",
    "        self.rb_observer.close()\n",
    "        self.reverb_server.stop()\n",
    "\n",
    "        return self.metrics\n",
    "\n",
    "    def load_and_eval_policy(self, policy_path=MODELS_PATH, eval_interval=TEST_INTERVALS//4):\n",
    "        policy_dir = os.path.join(policy_path, 'policy')\n",
    "\n",
    "        self.policy = tf.saved_model.load(policy_dir)\n",
    "        total_returns, avg_return, _, sharpe_ratio = self.eval_metrics(eval_interval)\n",
    "\n",
    "        print(f'Average Return = {np.mean(avg_return)}, Total Return = {np.mean(total_returns)}, Sharpe = {np.mean(sharpe_ratio)}')\n",
    "\n",
    "        return self.policy, total_returns, avg_return, sharpe_ratio\n",
    "\n",
    "    def clear_directories(self, directories = MODELS_PATH):\n",
    "        try:\n",
    "            if IN_COLAB:\n",
    "                shutil.rmtree(f\"{GDRIVE}/MyDrive/{directories}\")\n",
    "                print(f\"Successfully cleared {GDRIVE}/MyDrive/{directories}\")\n",
    "            shutil.rmtree(directories)\n",
    "            print(f\"Successfully cleared {directories}\")\n",
    "        except Exception as e:\n",
    "            print(f\"Error clearing {directories}: {e}\")\n",
    "\n",
    "\n",
    "    def zip_directories(self, directories = MODELS_PATH, output_filename=f'{MODELS_PATH}/model_files'):\n",
    "        \"\"\"\n",
    "        Creates a zip archive containing the specified directories.\n",
    "\n",
    "        Parameters:\n",
    "        - directories: List of paths to directories to include in the archive.\n",
    "        - output_filename: The base name of the file to create, including the path,\n",
    "                        minus any format-specific extension. Default is 'training_backup'.\n",
    "        \"\"\"\n",
    "        if IN_COLAB:\n",
    "            archive_path = shutil.make_archive(f'{GDRIVE}/MyDrive/{directories}', 'zip', root_dir='.', base_dir=directories)\n",
    "            print(f\"Archived {GDRIVE}/MyDrive/{directories}\")\n",
    "        else:\n",
    "            archive_path = shutil.make_archive(output_filename, 'zip', root_dir='.', base_dir=directories)\n",
    "            print(f\"Archived {directories} into {archive_path}\")\n",
    "\n",
    "\n",
    "    def plot_performance(self, metrics):\n",
    "        \"\"\"\n",
    "        Plot the training performance including average returns and Sharpe Ratios on the same plot,\n",
    "        with returns on the left y-axis and Sharpe Ratios on the right y-axis.\n",
    "        \"\"\"\n",
    "        if self.eval_interval is not None:\n",
    "            fig, axs = plt.subplots(1, 2, figsize=(18, 4))\n",
    "\n",
    "            axs[0].set_xlabel('Iterations')\n",
    "            axs[0].set_ylabel('Average Return')\n",
    "            axs[0].plot(range(0, len(metrics.average_returns.numpy())), metrics.average_returns.numpy(), label='Average Return', color=\"blue\")\n",
    "            axs[0].tick_params(axis='y')\n",
    "            axs[0].legend(loc=\"upper right\")\n",
    "\n",
    "            ax12 = axs[0].twinx()\n",
    "            ax12.set_ylabel('Sharpe Ratio')\n",
    "            ax12.plot(range(0, len(metrics.sharpe_ratios.numpy())), metrics.sharpe_ratios.numpy(), label='Sharpe Ratio', color=\"yellow\")\n",
    "            ax12.tick_params(axis='y')\n",
    "            ax12.legend(loc=\"upper left\")\n",
    "\n",
    "            axs[1].set_xlabel('Iterations')\n",
    "            axs[1].set_ylabel('Loss')\n",
    "            axs[1].plot(range(0, len(metrics.losses.numpy())), metrics.losses.numpy(), label='Loss', color=\"red\")\n",
    "            axs[1].tick_params(axis='y')\n",
    "            axs[1].legend()\n",
    "\n",
    "            fig.tight_layout()\n",
    "        else:\n",
    "            fig = plt.figure(figsize=(18, 4))\n",
    "            plt.xlabel('Iterations')\n",
    "            plt.ylabel('Loss')\n",
    "            plt.plot(range(0, len(metrics.losses.numpy())), metrics.losses.numpy(), label='Loss', color=\"red\")\n",
    "            plt.tick_params(axis='y')\n",
    "        plt.title('Training Performance')\n",
    "        plt.show()\n",
    "\n",
    "    def plot_returns_and_actions(self):\n",
    "        \"\"\"\n",
    "        Steps through the environment's data using the given policy and plots the actions,\n",
    "        along with a subplot for cumulative returns and rewards with colored areas.\n",
    "        \"\"\"\n",
    "        print(\"Live episode started...\")\n",
    "        pbar = tqdm(total=None, desc=\"Steps executed\", leave=True)\n",
    "        time_step = self.eval_env.reset()\n",
    "        while not time_step.is_last():\n",
    "            action_step = self.policy.action(time_step)\n",
    "            time_step = self.eval_env.step(action_step.action)\n",
    "            pbar.update(1)\n",
    "        pbar.close()\n",
    "        print(\"...Live episode finished\")\n",
    "\n",
    "        data = self.py_eval_env.data.copy()\n",
    "        data['Cumulative_Returns'] = np.cumprod(data[\"Returns\"] + 1) - 1\n",
    "        data['Rewards'] = data['Returns']\n",
    "\n",
    "        fig, axs = plt.subplots(3, 1, figsize=(18, 12), gridspec_kw={'height_ratios': [3, 1, 1]})\n",
    "\n",
    "        axs[0].plot(data.index, data[TARGET_FEATURE], label='Close', color='k', alpha=0.6)\n",
    "        buys = data[data['Action'] == ACT_LONG]\n",
    "        sells = data[data['Action'] == ACT_SHORT]\n",
    "        axs[0].scatter(buys.index, buys[TARGET_FEATURE], label='Buy', color='green', marker='^', alpha=1)\n",
    "        axs[0].scatter(sells.index, sells[TARGET_FEATURE], label='Sell', color='red', marker='v', alpha=1)\n",
    "        axs[0].set_ylabel('Close ($)')\n",
    "        axs[0].set_title('Trading Actions and Close Prices')\n",
    "        axs[0].legend()\n",
    "\n",
    "        axs[1].bar(data.index, data[\"Holdings\"], label='Holdings', color='blue', alpha=0.6)\n",
    "        axs[1].set_ylabel('Holdings')\n",
    "        axs[1].set_title('Holdings')\n",
    "        axs[1].legend()\n",
    "\n",
    "        axs[2].plot(data.index, data['Cumulative_Returns'], label='Cumulative Returns', color='black')\n",
    "        axs[2].fill_between(data.index, 0, data['Cumulative_Returns'], where=(data['Cumulative_Returns'] >= 0), facecolor='green', alpha=0.3)\n",
    "        axs[2].fill_between(data.index, 0, data['Cumulative_Returns'], where=(data['Cumulative_Returns'] < 0), facecolor='red', alpha=0.3)\n",
    "        axs[2].set_ylabel('Cumulative Returns')\n",
    "        axs[2].set_title('Cumulative Returns')\n",
    "        axs[2].legend()\n",
    "\n",
    "        ax12 = axs[0].twinx()\n",
    "        reward_colors = ['green' if x >= 0 else 'red' for x in data['Rewards']]\n",
    "        ax12.bar(data.index, data['Rewards'], color=reward_colors, label='Rewards', alpha=0.4)\n",
    "        ax12.set_ylabel('Rewards')\n",
    "        ax12.set_title('Rewards')\n",
    "        ax12.legend()\n",
    "\n",
    "        for ax in axs:\n",
    "            ax.xaxis.set_major_locator(mdates.AutoDateLocator())\n",
    "            ax.xaxis.set_major_formatter(mdates.DateFormatter('%Y-%m-%d'))\n",
    "        fig.autofmt_xdate()\n",
    "\n",
    "        plt.xlabel('Date')\n",
    "        plt.tight_layout()\n",
    "        plt.show()\n",
    "\n",
    "        return data\n",
    "\n",
    "with strategy.scope():\n",
    "    sim = TradingSimulator(train_env, test_env, agent=agent)"
   ]
  },
  {
   "cell_type": "code",
   "execution_count": 12,
   "id": "2366449a",
   "metadata": {
    "execution": {
     "iopub.execute_input": "2024-03-16T01:40:24.184575Z",
     "iopub.status.busy": "2024-03-16T01:40:24.183654Z",
     "iopub.status.idle": "2024-03-16T01:46:06.240829Z",
     "shell.execute_reply": "2024-03-16T01:46:06.240000Z"
    },
    "executionInfo": {
     "elapsed": 943379,
     "status": "error",
     "timestamp": 1710411543204,
     "user": {
      "displayName": "Adam Darmanin",
      "userId": "00262451996831505471"
     },
     "user_tz": -60
    },
    "id": "C8944WF9ykML",
    "outputId": "44f4a8be-ed18-4d38-f09d-cc17dd205d17",
    "papermill": {
     "duration": 342.079463,
     "end_time": "2024-03-16T01:46:06.242640",
     "exception": false,
     "start_time": "2024-03-16T01:40:24.163177",
     "status": "completed"
    },
    "tags": []
   },
   "outputs": [
    {
     "name": "stdout",
     "output_type": "stream",
     "text": [
      "Error clearing ./models: [Errno 2] No such file or directory: './models'\n",
      "Preparing replay memory and dataset\n"
     ]
    },
    {
     "name": "stderr",
     "output_type": "stream",
     "text": [
      "[reverb/cc/platform/tfrecord_checkpointer.cc:162]  Initializing TFRecordCheckpointer in /tmp/tmpd5_ee0vk.\n",
      "[reverb/cc/platform/tfrecord_checkpointer.cc:565] Loading latest checkpoint from /tmp/tmpd5_ee0vk\n",
      "[reverb/cc/platform/default/server.cc:71] Started replay server on port 34125\n"
     ]
    },
    {
     "name": "stdout",
     "output_type": "stream",
     "text": [
      "Next step restored: 0 status: <tensorflow.python.checkpoint.checkpoint.InitializationOnlyStatus object at 0x7e1c00ba2cb0>\n",
      "Running training starting 0 to 600\n"
     ]
    },
    {
     "name": "stderr",
     "output_type": "stream",
     "text": [
      "\r",
      "Training for -600:   0%|          | 0/600 [00:00<?, ?it/s]"
     ]
    },
    {
     "name": "stdout",
     "output_type": "stream",
     "text": [
      "WARNING:tensorflow:From /usr/local/lib/python3.10/site-packages/tensorflow/python/util/dispatch.py:1260: calling foldr_v2 (from tensorflow.python.ops.functional_ops) with back_prop=False is deprecated and will be removed in a future version.\n",
      "Instructions for updating:\n",
      "back_prop=False is deprecated. Consider using tf.stop_gradient instead.\n",
      "Instead of:\n",
      "results = tf.foldr(fn, elems, back_prop=False)\n",
      "Use:\n",
      "results = tf.nest.map_structure(tf.stop_gradient, tf.foldr(fn, elems))\n"
     ]
    },
    {
     "name": "stderr",
     "output_type": "stream",
     "text": [
      "[reverb/cc/client.cc:165] Sampler and server are owned by the same process (14) so Table uniform_table is accessed directly without gRPC.\n",
      "[reverb/cc/client.cc:165] Sampler and server are owned by the same process (14) so Table uniform_table is accessed directly without gRPC.\n",
      "[reverb/cc/client.cc:165] Sampler and server are owned by the same process (14) so Table uniform_table is accessed directly without gRPC.\n",
      "[reverb/cc/client.cc:165] Sampler and server are owned by the same process (14) so Table uniform_table is accessed directly without gRPC.\n",
      "[reverb/cc/client.cc:165] Sampler and server are owned by the same process (14) so Table uniform_table is accessed directly without gRPC.\n",
      "[reverb/cc/client.cc:165] Sampler and server are owned by the same process (14) so Table uniform_table is accessed directly without gRPC.\n",
      "WARNING:tensorflow:From /usr/local/lib/python3.10/site-packages/tensorflow/python/util/dispatch.py:1260: calling foldr_v2 (from tensorflow.python.ops.functional_ops) with back_prop=False is deprecated and will be removed in a future version.\n",
      "Instructions for updating:\n",
      "back_prop=False is deprecated. Consider using tf.stop_gradient instead.\n",
      "Instead of:\n",
      "results = tf.foldr(fn, elems, back_prop=False)\n",
      "Use:\n",
      "results = tf.nest.map_structure(tf.stop_gradient, tf.foldr(fn, elems))\n"
     ]
    },
    {
     "name": "stderr",
     "output_type": "stream",
     "text": [
      "\r",
      "Training for -600:   0%|          | 1/600 [00:04<47:11,  4.73s/it]"
     ]
    },
    {
     "name": "stderr",
     "output_type": "stream",
     "text": [
      "\r",
      "Training for -600:   0%|          | 2/600 [00:05<22:15,  2.23s/it]"
     ]
    },
    {
     "name": "stderr",
     "output_type": "stream",
     "text": [
      "\r",
      "Training for -600:   0%|          | 3/600 [00:05<14:20,  1.44s/it]"
     ]
    },
    {
     "name": "stderr",
     "output_type": "stream",
     "text": [
      "\r",
      "Training for -600:   1%|          | 4/600 [00:06<10:45,  1.08s/it]"
     ]
    },
    {
     "name": "stderr",
     "output_type": "stream",
     "text": [
      "\r",
      "Training for -600:   1%|          | 5/600 [00:06<08:38,  1.15it/s]"
     ]
    },
    {
     "name": "stderr",
     "output_type": "stream",
     "text": [
      "\r",
      "Training for -600:   1%|          | 6/600 [00:07<07:18,  1.36it/s]"
     ]
    },
    {
     "name": "stderr",
     "output_type": "stream",
     "text": [
      "\r",
      "Training for -600:   1%|          | 7/600 [00:07<06:26,  1.53it/s]"
     ]
    },
    {
     "name": "stderr",
     "output_type": "stream",
     "text": [
      "\r",
      "Training for -600:   1%|▏         | 8/600 [00:08<05:51,  1.68it/s]"
     ]
    },
    {
     "name": "stderr",
     "output_type": "stream",
     "text": [
      "\r",
      "Training for -600:   2%|▏         | 9/600 [00:08<05:28,  1.80it/s]"
     ]
    },
    {
     "name": "stderr",
     "output_type": "stream",
     "text": [
      "\r",
      "Training for -600:   2%|▏         | 10/600 [00:09<05:11,  1.89it/s]"
     ]
    },
    {
     "name": "stderr",
     "output_type": "stream",
     "text": [
      "\r",
      "Training for -600:   2%|▏         | 11/600 [00:09<05:06,  1.92it/s]"
     ]
    },
    {
     "name": "stderr",
     "output_type": "stream",
     "text": [
      "\r",
      "Training for -600:   2%|▏         | 12/600 [00:10<04:59,  1.96it/s]"
     ]
    },
    {
     "name": "stderr",
     "output_type": "stream",
     "text": [
      "\r",
      "Training for -600:   2%|▏         | 13/600 [00:10<04:51,  2.01it/s]"
     ]
    },
    {
     "name": "stderr",
     "output_type": "stream",
     "text": [
      "\r",
      "Training for -600:   2%|▏         | 14/600 [00:11<04:46,  2.05it/s]"
     ]
    },
    {
     "name": "stderr",
     "output_type": "stream",
     "text": [
      "\r",
      "Training for -600:   2%|▎         | 15/600 [00:11<04:43,  2.07it/s]"
     ]
    },
    {
     "name": "stderr",
     "output_type": "stream",
     "text": [
      "\r",
      "Training for -600:   3%|▎         | 16/600 [00:12<04:48,  2.03it/s]"
     ]
    },
    {
     "name": "stderr",
     "output_type": "stream",
     "text": [
      "\r",
      "Training for -600:   3%|▎         | 17/600 [00:12<04:47,  2.02it/s]"
     ]
    },
    {
     "name": "stderr",
     "output_type": "stream",
     "text": [
      "\r",
      "Training for -600:   3%|▎         | 18/600 [00:12<04:43,  2.05it/s]"
     ]
    },
    {
     "name": "stderr",
     "output_type": "stream",
     "text": [
      "\r",
      "Training for -600:   3%|▎         | 19/600 [00:13<04:39,  2.08it/s]"
     ]
    },
    {
     "name": "stderr",
     "output_type": "stream",
     "text": [
      "\r",
      "Training for -600:   3%|▎         | 20/600 [00:13<04:38,  2.08it/s]"
     ]
    },
    {
     "name": "stderr",
     "output_type": "stream",
     "text": [
      "\r",
      "Training for -600:   4%|▎         | 21/600 [00:14<04:37,  2.08it/s]"
     ]
    },
    {
     "name": "stderr",
     "output_type": "stream",
     "text": [
      "\r",
      "Training for -600:   4%|▎         | 22/600 [00:14<04:33,  2.11it/s]"
     ]
    },
    {
     "name": "stderr",
     "output_type": "stream",
     "text": [
      "\r",
      "Training for -600:   4%|▍         | 23/600 [00:15<04:32,  2.12it/s]"
     ]
    },
    {
     "name": "stderr",
     "output_type": "stream",
     "text": [
      "\r",
      "Training for -600:   4%|▍         | 24/600 [00:15<04:33,  2.11it/s]"
     ]
    },
    {
     "name": "stderr",
     "output_type": "stream",
     "text": [
      "\r",
      "Training for -600:   4%|▍         | 25/600 [00:16<04:38,  2.06it/s]"
     ]
    },
    {
     "name": "stderr",
     "output_type": "stream",
     "text": [
      "\r",
      "Training for -600:   4%|▍         | 26/600 [00:16<04:35,  2.09it/s]"
     ]
    },
    {
     "name": "stderr",
     "output_type": "stream",
     "text": [
      "\r",
      "Training for -600:   4%|▍         | 27/600 [00:17<04:33,  2.09it/s]"
     ]
    },
    {
     "name": "stderr",
     "output_type": "stream",
     "text": [
      "\r",
      "Training for -600:   5%|▍         | 28/600 [00:17<04:36,  2.07it/s]"
     ]
    },
    {
     "name": "stderr",
     "output_type": "stream",
     "text": [
      "\r",
      "Training for -600:   5%|▍         | 29/600 [00:18<04:42,  2.02it/s]"
     ]
    },
    {
     "name": "stderr",
     "output_type": "stream",
     "text": [
      "\r",
      "Training for -600:   5%|▌         | 30/600 [00:18<04:39,  2.04it/s]"
     ]
    },
    {
     "name": "stderr",
     "output_type": "stream",
     "text": [
      "\r",
      "Training for -600:   5%|▌         | 31/600 [00:19<04:34,  2.07it/s]"
     ]
    },
    {
     "name": "stderr",
     "output_type": "stream",
     "text": [
      "\r",
      "Training for -600:   5%|▌         | 32/600 [00:19<04:31,  2.09it/s]"
     ]
    },
    {
     "name": "stderr",
     "output_type": "stream",
     "text": [
      "\r",
      "Training for -600:   6%|▌         | 33/600 [00:20<04:27,  2.12it/s]"
     ]
    },
    {
     "name": "stderr",
     "output_type": "stream",
     "text": [
      "\r",
      "Training for -600:   6%|▌         | 34/600 [00:20<04:25,  2.13it/s]"
     ]
    },
    {
     "name": "stderr",
     "output_type": "stream",
     "text": [
      "\r",
      "Training for -600:   6%|▌         | 35/600 [00:21<04:27,  2.11it/s]"
     ]
    },
    {
     "name": "stderr",
     "output_type": "stream",
     "text": [
      "\r",
      "Training for -600:   6%|▌         | 36/600 [00:21<04:26,  2.12it/s]"
     ]
    },
    {
     "name": "stderr",
     "output_type": "stream",
     "text": [
      "\r",
      "Training for -600:   6%|▌         | 37/600 [00:22<04:26,  2.12it/s]"
     ]
    },
    {
     "name": "stderr",
     "output_type": "stream",
     "text": [
      "\r",
      "Training for -600:   6%|▋         | 38/600 [00:22<04:27,  2.10it/s]"
     ]
    },
    {
     "name": "stderr",
     "output_type": "stream",
     "text": [
      "\r",
      "Training for -600:   6%|▋         | 39/600 [00:23<04:27,  2.10it/s]"
     ]
    },
    {
     "name": "stderr",
     "output_type": "stream",
     "text": [
      "\r",
      "Training for -600:   7%|▋         | 40/600 [00:23<04:27,  2.10it/s]"
     ]
    },
    {
     "name": "stderr",
     "output_type": "stream",
     "text": [
      "\r",
      "Training for -600:   7%|▋         | 41/600 [00:23<04:32,  2.05it/s]"
     ]
    },
    {
     "name": "stderr",
     "output_type": "stream",
     "text": [
      "\r",
      "Training for -600:   7%|▋         | 42/600 [00:24<04:34,  2.03it/s]"
     ]
    },
    {
     "name": "stderr",
     "output_type": "stream",
     "text": [
      "\r",
      "Training for -600:   7%|▋         | 43/600 [00:24<04:28,  2.08it/s]"
     ]
    },
    {
     "name": "stderr",
     "output_type": "stream",
     "text": [
      "\r",
      "Training for -600:   7%|▋         | 44/600 [00:25<04:24,  2.11it/s]"
     ]
    },
    {
     "name": "stderr",
     "output_type": "stream",
     "text": [
      "\r",
      "Training for -600:   8%|▊         | 45/600 [00:25<04:20,  2.13it/s]"
     ]
    },
    {
     "name": "stderr",
     "output_type": "stream",
     "text": [
      "\r",
      "Training for -600:   8%|▊         | 46/600 [00:26<04:19,  2.13it/s]"
     ]
    },
    {
     "name": "stderr",
     "output_type": "stream",
     "text": [
      "\r",
      "Training for -600:   8%|▊         | 47/600 [00:26<04:18,  2.14it/s]"
     ]
    },
    {
     "name": "stderr",
     "output_type": "stream",
     "text": [
      "\r",
      "Training for -600:   8%|▊         | 48/600 [00:27<04:18,  2.14it/s]"
     ]
    },
    {
     "name": "stderr",
     "output_type": "stream",
     "text": [
      "\r",
      "Training for -600:   8%|▊         | 49/600 [00:27<04:17,  2.14it/s]"
     ]
    },
    {
     "name": "stderr",
     "output_type": "stream",
     "text": [
      "\r",
      "Training for -600:   8%|▊         | 50/600 [00:28<04:35,  2.00it/s]"
     ]
    },
    {
     "name": "stdout",
     "output_type": "stream",
     "text": [
      "step = 50: loss = 0.3777373433113098\n"
     ]
    },
    {
     "name": "stderr",
     "output_type": "stream",
     "text": [
      "\r",
      "Training for -600:   8%|▊         | 51/600 [00:28<04:30,  2.03it/s]"
     ]
    },
    {
     "name": "stderr",
     "output_type": "stream",
     "text": [
      "\r",
      "Training for -600:   9%|▊         | 52/600 [00:29<04:26,  2.05it/s]"
     ]
    },
    {
     "name": "stderr",
     "output_type": "stream",
     "text": [
      "\r",
      "Training for -600:   9%|▉         | 53/600 [00:29<04:32,  2.01it/s]"
     ]
    },
    {
     "name": "stderr",
     "output_type": "stream",
     "text": [
      "\r",
      "Training for -600:   9%|▉         | 54/600 [00:30<04:34,  1.99it/s]"
     ]
    },
    {
     "name": "stderr",
     "output_type": "stream",
     "text": [
      "\r",
      "Training for -600:   9%|▉         | 55/600 [00:30<04:26,  2.05it/s]"
     ]
    },
    {
     "name": "stderr",
     "output_type": "stream",
     "text": [
      "\r",
      "Training for -600:   9%|▉         | 56/600 [00:31<04:25,  2.05it/s]"
     ]
    },
    {
     "name": "stderr",
     "output_type": "stream",
     "text": [
      "\r",
      "Training for -600:  10%|▉         | 57/600 [00:31<04:20,  2.09it/s]"
     ]
    },
    {
     "name": "stderr",
     "output_type": "stream",
     "text": [
      "\r",
      "Training for -600:  10%|▉         | 58/600 [00:32<04:17,  2.11it/s]"
     ]
    },
    {
     "name": "stderr",
     "output_type": "stream",
     "text": [
      "\r",
      "Training for -600:  10%|▉         | 59/600 [00:32<04:13,  2.14it/s]"
     ]
    },
    {
     "name": "stderr",
     "output_type": "stream",
     "text": [
      "\r",
      "Training for -600:  10%|█         | 60/600 [00:33<04:11,  2.14it/s]"
     ]
    },
    {
     "name": "stderr",
     "output_type": "stream",
     "text": [
      "\r",
      "Training for -600:  10%|█         | 61/600 [00:33<04:10,  2.15it/s]"
     ]
    },
    {
     "name": "stderr",
     "output_type": "stream",
     "text": [
      "\r",
      "Training for -600:  10%|█         | 62/600 [00:34<04:09,  2.16it/s]"
     ]
    },
    {
     "name": "stderr",
     "output_type": "stream",
     "text": [
      "\r",
      "Training for -600:  10%|█         | 63/600 [00:34<04:07,  2.17it/s]"
     ]
    },
    {
     "name": "stderr",
     "output_type": "stream",
     "text": [
      "\r",
      "Training for -600:  11%|█         | 64/600 [00:34<04:07,  2.16it/s]"
     ]
    },
    {
     "name": "stderr",
     "output_type": "stream",
     "text": [
      "\r",
      "Training for -600:  11%|█         | 65/600 [00:35<04:10,  2.13it/s]"
     ]
    },
    {
     "name": "stderr",
     "output_type": "stream",
     "text": [
      "\r",
      "Training for -600:  11%|█         | 66/600 [00:35<04:21,  2.04it/s]"
     ]
    },
    {
     "name": "stderr",
     "output_type": "stream",
     "text": [
      "\r",
      "Training for -600:  11%|█         | 67/600 [00:36<04:22,  2.03it/s]"
     ]
    },
    {
     "name": "stderr",
     "output_type": "stream",
     "text": [
      "\r",
      "Training for -600:  11%|█▏        | 68/600 [00:36<04:15,  2.08it/s]"
     ]
    },
    {
     "name": "stderr",
     "output_type": "stream",
     "text": [
      "\r",
      "Training for -600:  12%|█▏        | 69/600 [00:37<04:12,  2.10it/s]"
     ]
    },
    {
     "name": "stderr",
     "output_type": "stream",
     "text": [
      "\r",
      "Training for -600:  12%|█▏        | 70/600 [00:37<04:08,  2.13it/s]"
     ]
    },
    {
     "name": "stderr",
     "output_type": "stream",
     "text": [
      "\r",
      "Training for -600:  12%|█▏        | 71/600 [00:38<04:05,  2.15it/s]"
     ]
    },
    {
     "name": "stderr",
     "output_type": "stream",
     "text": [
      "\r",
      "Training for -600:  12%|█▏        | 72/600 [00:38<04:03,  2.17it/s]"
     ]
    },
    {
     "name": "stderr",
     "output_type": "stream",
     "text": [
      "\r",
      "Training for -600:  12%|█▏        | 73/600 [00:39<04:03,  2.17it/s]"
     ]
    },
    {
     "name": "stderr",
     "output_type": "stream",
     "text": [
      "\r",
      "Training for -600:  12%|█▏        | 74/600 [00:39<04:01,  2.17it/s]"
     ]
    },
    {
     "name": "stderr",
     "output_type": "stream",
     "text": [
      "\r",
      "Training for -600:  12%|█▎        | 75/600 [00:40<04:01,  2.17it/s]"
     ]
    },
    {
     "name": "stderr",
     "output_type": "stream",
     "text": [
      "\r",
      "Training for -600:  13%|█▎        | 76/600 [00:40<04:01,  2.17it/s]"
     ]
    },
    {
     "name": "stderr",
     "output_type": "stream",
     "text": [
      "\r",
      "Training for -600:  13%|█▎        | 77/600 [00:41<04:06,  2.12it/s]"
     ]
    },
    {
     "name": "stderr",
     "output_type": "stream",
     "text": [
      "\r",
      "Training for -600:  13%|█▎        | 78/600 [00:41<04:06,  2.11it/s]"
     ]
    },
    {
     "name": "stderr",
     "output_type": "stream",
     "text": [
      "\r",
      "Training for -600:  13%|█▎        | 79/600 [00:42<04:14,  2.05it/s]"
     ]
    },
    {
     "name": "stderr",
     "output_type": "stream",
     "text": [
      "\r",
      "Training for -600:  13%|█▎        | 80/600 [00:42<04:15,  2.04it/s]"
     ]
    },
    {
     "name": "stderr",
     "output_type": "stream",
     "text": [
      "\r",
      "Training for -600:  14%|█▎        | 81/600 [00:43<04:12,  2.06it/s]"
     ]
    },
    {
     "name": "stderr",
     "output_type": "stream",
     "text": [
      "\r",
      "Training for -600:  14%|█▎        | 82/600 [00:43<04:09,  2.08it/s]"
     ]
    },
    {
     "name": "stderr",
     "output_type": "stream",
     "text": [
      "\r",
      "Training for -600:  14%|█▍        | 83/600 [00:43<04:05,  2.11it/s]"
     ]
    },
    {
     "name": "stderr",
     "output_type": "stream",
     "text": [
      "\r",
      "Training for -600:  14%|█▍        | 84/600 [00:44<04:06,  2.09it/s]"
     ]
    },
    {
     "name": "stderr",
     "output_type": "stream",
     "text": [
      "\r",
      "Training for -600:  14%|█▍        | 85/600 [00:44<04:03,  2.12it/s]"
     ]
    },
    {
     "name": "stderr",
     "output_type": "stream",
     "text": [
      "\r",
      "Training for -600:  14%|█▍        | 86/600 [00:45<04:01,  2.13it/s]"
     ]
    },
    {
     "name": "stderr",
     "output_type": "stream",
     "text": [
      "\r",
      "Training for -600:  14%|█▍        | 87/600 [00:45<03:59,  2.14it/s]"
     ]
    },
    {
     "name": "stderr",
     "output_type": "stream",
     "text": [
      "\r",
      "Training for -600:  15%|█▍        | 88/600 [00:46<04:00,  2.13it/s]"
     ]
    },
    {
     "name": "stderr",
     "output_type": "stream",
     "text": [
      "\r",
      "Training for -600:  15%|█▍        | 89/600 [00:46<03:59,  2.14it/s]"
     ]
    },
    {
     "name": "stderr",
     "output_type": "stream",
     "text": [
      "\r",
      "Training for -600:  15%|█▌        | 90/600 [00:47<03:58,  2.14it/s]"
     ]
    },
    {
     "name": "stderr",
     "output_type": "stream",
     "text": [
      "\r",
      "Training for -600:  15%|█▌        | 91/600 [00:47<04:07,  2.05it/s]"
     ]
    },
    {
     "name": "stderr",
     "output_type": "stream",
     "text": [
      "\r",
      "Training for -600:  15%|█▌        | 92/600 [00:48<04:13,  2.01it/s]"
     ]
    },
    {
     "name": "stderr",
     "output_type": "stream",
     "text": [
      "\r",
      "Training for -600:  16%|█▌        | 93/600 [00:48<04:10,  2.02it/s]"
     ]
    },
    {
     "name": "stderr",
     "output_type": "stream",
     "text": [
      "\r",
      "Training for -600:  16%|█▌        | 94/600 [00:49<04:08,  2.03it/s]"
     ]
    },
    {
     "name": "stderr",
     "output_type": "stream",
     "text": [
      "\r",
      "Training for -600:  16%|█▌        | 95/600 [00:49<04:05,  2.05it/s]"
     ]
    },
    {
     "name": "stderr",
     "output_type": "stream",
     "text": [
      "\r",
      "Training for -600:  16%|█▌        | 96/600 [00:50<04:01,  2.09it/s]"
     ]
    },
    {
     "name": "stderr",
     "output_type": "stream",
     "text": [
      "\r",
      "Training for -600:  16%|█▌        | 97/600 [00:50<03:59,  2.10it/s]"
     ]
    },
    {
     "name": "stderr",
     "output_type": "stream",
     "text": [
      "\r",
      "Training for -600:  16%|█▋        | 98/600 [00:51<03:56,  2.13it/s]"
     ]
    },
    {
     "name": "stderr",
     "output_type": "stream",
     "text": [
      "\r",
      "Training for -600:  16%|█▋        | 99/600 [00:51<03:54,  2.14it/s]"
     ]
    },
    {
     "name": "stderr",
     "output_type": "stream",
     "text": [
      "\r",
      "Training for -600:  17%|█▋        | 100/600 [00:52<04:04,  2.05it/s]"
     ]
    },
    {
     "name": "stdout",
     "output_type": "stream",
     "text": [
      "step = 100: loss = 0.3685232102870941\n"
     ]
    },
    {
     "name": "stderr",
     "output_type": "stream",
     "text": [
      "\r",
      "Training for -600:  17%|█▋        | 101/600 [00:52<03:59,  2.08it/s]"
     ]
    },
    {
     "name": "stderr",
     "output_type": "stream",
     "text": [
      "\r",
      "Training for -600:  17%|█▋        | 102/600 [00:53<03:57,  2.10it/s]"
     ]
    },
    {
     "name": "stderr",
     "output_type": "stream",
     "text": [
      "\r",
      "Training for -600:  17%|█▋        | 103/600 [00:53<03:59,  2.08it/s]"
     ]
    },
    {
     "name": "stderr",
     "output_type": "stream",
     "text": [
      "\r",
      "Training for -600:  17%|█▋        | 104/600 [00:54<04:02,  2.05it/s]"
     ]
    },
    {
     "name": "stderr",
     "output_type": "stream",
     "text": [
      "\r",
      "Training for -600:  18%|█▊        | 105/600 [00:54<03:59,  2.06it/s]"
     ]
    },
    {
     "name": "stderr",
     "output_type": "stream",
     "text": [
      "\r",
      "Training for -600:  18%|█▊        | 106/600 [00:55<03:59,  2.06it/s]"
     ]
    },
    {
     "name": "stderr",
     "output_type": "stream",
     "text": [
      "\r",
      "Training for -600:  18%|█▊        | 107/600 [00:55<03:55,  2.09it/s]"
     ]
    },
    {
     "name": "stderr",
     "output_type": "stream",
     "text": [
      "\r",
      "Training for -600:  18%|█▊        | 108/600 [00:55<03:55,  2.09it/s]"
     ]
    },
    {
     "name": "stderr",
     "output_type": "stream",
     "text": [
      "\r",
      "Training for -600:  18%|█▊        | 109/600 [00:56<03:54,  2.09it/s]"
     ]
    },
    {
     "name": "stderr",
     "output_type": "stream",
     "text": [
      "\r",
      "Training for -600:  18%|█▊        | 110/600 [00:56<03:51,  2.12it/s]"
     ]
    },
    {
     "name": "stderr",
     "output_type": "stream",
     "text": [
      "\r",
      "Training for -600:  18%|█▊        | 111/600 [00:57<03:49,  2.13it/s]"
     ]
    },
    {
     "name": "stderr",
     "output_type": "stream",
     "text": [
      "\r",
      "Training for -600:  19%|█▊        | 112/600 [00:57<03:47,  2.15it/s]"
     ]
    },
    {
     "name": "stderr",
     "output_type": "stream",
     "text": [
      "\r",
      "Training for -600:  19%|█▉        | 113/600 [00:58<03:47,  2.14it/s]"
     ]
    },
    {
     "name": "stderr",
     "output_type": "stream",
     "text": [
      "\r",
      "Training for -600:  19%|█▉        | 114/600 [00:58<03:46,  2.15it/s]"
     ]
    },
    {
     "name": "stderr",
     "output_type": "stream",
     "text": [
      "\r",
      "Training for -600:  19%|█▉        | 115/600 [00:59<03:45,  2.15it/s]"
     ]
    },
    {
     "name": "stderr",
     "output_type": "stream",
     "text": [
      "\r",
      "Training for -600:  19%|█▉        | 116/600 [00:59<03:50,  2.10it/s]"
     ]
    },
    {
     "name": "stderr",
     "output_type": "stream",
     "text": [
      "\r",
      "Training for -600:  20%|█▉        | 117/600 [01:00<03:53,  2.07it/s]"
     ]
    },
    {
     "name": "stderr",
     "output_type": "stream",
     "text": [
      "\r",
      "Training for -600:  20%|█▉        | 118/600 [01:00<03:49,  2.10it/s]"
     ]
    },
    {
     "name": "stderr",
     "output_type": "stream",
     "text": [
      "\r",
      "Training for -600:  20%|█▉        | 119/600 [01:01<03:47,  2.12it/s]"
     ]
    },
    {
     "name": "stderr",
     "output_type": "stream",
     "text": [
      "\r",
      "Training for -600:  20%|██        | 120/600 [01:01<03:46,  2.12it/s]"
     ]
    },
    {
     "name": "stderr",
     "output_type": "stream",
     "text": [
      "\r",
      "Training for -600:  20%|██        | 121/600 [01:02<03:47,  2.11it/s]"
     ]
    },
    {
     "name": "stderr",
     "output_type": "stream",
     "text": [
      "\r",
      "Training for -600:  20%|██        | 122/600 [01:02<03:46,  2.11it/s]"
     ]
    },
    {
     "name": "stderr",
     "output_type": "stream",
     "text": [
      "\r",
      "Training for -600:  20%|██        | 123/600 [01:03<03:44,  2.13it/s]"
     ]
    },
    {
     "name": "stderr",
     "output_type": "stream",
     "text": [
      "\r",
      "Training for -600:  21%|██        | 124/600 [01:03<03:43,  2.13it/s]"
     ]
    },
    {
     "name": "stderr",
     "output_type": "stream",
     "text": [
      "\r",
      "Training for -600:  21%|██        | 125/600 [01:03<03:42,  2.14it/s]"
     ]
    },
    {
     "name": "stderr",
     "output_type": "stream",
     "text": [
      "\r",
      "Training for -600:  21%|██        | 126/600 [01:04<03:40,  2.15it/s]"
     ]
    },
    {
     "name": "stderr",
     "output_type": "stream",
     "text": [
      "\r",
      "Training for -600:  21%|██        | 127/600 [01:04<03:38,  2.16it/s]"
     ]
    },
    {
     "name": "stderr",
     "output_type": "stream",
     "text": [
      "\r",
      "Training for -600:  21%|██▏       | 128/600 [01:05<03:40,  2.14it/s]"
     ]
    },
    {
     "name": "stderr",
     "output_type": "stream",
     "text": [
      "\r",
      "Training for -600:  22%|██▏       | 129/600 [01:05<03:45,  2.09it/s]"
     ]
    },
    {
     "name": "stderr",
     "output_type": "stream",
     "text": [
      "\r",
      "Training for -600:  22%|██▏       | 130/600 [01:06<03:52,  2.03it/s]"
     ]
    },
    {
     "name": "stderr",
     "output_type": "stream",
     "text": [
      "\r",
      "Training for -600:  22%|██▏       | 131/600 [01:06<03:48,  2.05it/s]"
     ]
    },
    {
     "name": "stderr",
     "output_type": "stream",
     "text": [
      "\r",
      "Training for -600:  22%|██▏       | 132/600 [01:07<03:44,  2.08it/s]"
     ]
    },
    {
     "name": "stderr",
     "output_type": "stream",
     "text": [
      "\r",
      "Training for -600:  22%|██▏       | 133/600 [01:07<03:42,  2.10it/s]"
     ]
    },
    {
     "name": "stderr",
     "output_type": "stream",
     "text": [
      "\r",
      "Training for -600:  22%|██▏       | 134/600 [01:08<03:41,  2.10it/s]"
     ]
    },
    {
     "name": "stderr",
     "output_type": "stream",
     "text": [
      "\r",
      "Training for -600:  22%|██▎       | 135/600 [01:08<03:44,  2.07it/s]"
     ]
    },
    {
     "name": "stderr",
     "output_type": "stream",
     "text": [
      "\r",
      "Training for -600:  23%|██▎       | 136/600 [01:09<03:43,  2.08it/s]"
     ]
    },
    {
     "name": "stderr",
     "output_type": "stream",
     "text": [
      "\r",
      "Training for -600:  23%|██▎       | 137/600 [01:09<03:40,  2.10it/s]"
     ]
    },
    {
     "name": "stderr",
     "output_type": "stream",
     "text": [
      "\r",
      "Training for -600:  23%|██▎       | 138/600 [01:10<03:39,  2.11it/s]"
     ]
    },
    {
     "name": "stderr",
     "output_type": "stream",
     "text": [
      "\r",
      "Training for -600:  23%|██▎       | 139/600 [01:10<03:36,  2.13it/s]"
     ]
    },
    {
     "name": "stderr",
     "output_type": "stream",
     "text": [
      "\r",
      "Training for -600:  23%|██▎       | 140/600 [01:11<03:35,  2.14it/s]"
     ]
    },
    {
     "name": "stderr",
     "output_type": "stream",
     "text": [
      "\r",
      "Training for -600:  24%|██▎       | 141/600 [01:11<03:39,  2.09it/s]"
     ]
    },
    {
     "name": "stderr",
     "output_type": "stream",
     "text": [
      "\r",
      "Training for -600:  24%|██▎       | 142/600 [01:12<03:44,  2.04it/s]"
     ]
    },
    {
     "name": "stderr",
     "output_type": "stream",
     "text": [
      "\r",
      "Training for -600:  24%|██▍       | 143/600 [01:12<03:42,  2.05it/s]"
     ]
    },
    {
     "name": "stderr",
     "output_type": "stream",
     "text": [
      "\r",
      "Training for -600:  24%|██▍       | 144/600 [01:13<03:38,  2.09it/s]"
     ]
    },
    {
     "name": "stderr",
     "output_type": "stream",
     "text": [
      "\r",
      "Training for -600:  24%|██▍       | 145/600 [01:13<03:36,  2.10it/s]"
     ]
    },
    {
     "name": "stderr",
     "output_type": "stream",
     "text": [
      "\r",
      "Training for -600:  24%|██▍       | 146/600 [01:13<03:34,  2.12it/s]"
     ]
    },
    {
     "name": "stderr",
     "output_type": "stream",
     "text": [
      "\r",
      "Training for -600:  24%|██▍       | 147/600 [01:14<03:35,  2.11it/s]"
     ]
    },
    {
     "name": "stderr",
     "output_type": "stream",
     "text": [
      "\r",
      "Training for -600:  25%|██▍       | 148/600 [01:14<03:35,  2.10it/s]"
     ]
    },
    {
     "name": "stderr",
     "output_type": "stream",
     "text": [
      "\r",
      "Training for -600:  25%|██▍       | 149/600 [01:15<03:35,  2.09it/s]"
     ]
    },
    {
     "name": "stderr",
     "output_type": "stream",
     "text": [
      "\r",
      "Training for -600:  25%|██▌       | 150/600 [01:15<03:44,  2.00it/s]"
     ]
    },
    {
     "name": "stdout",
     "output_type": "stream",
     "text": [
      "step = 150: loss = 0.6493778228759766\n"
     ]
    },
    {
     "name": "stderr",
     "output_type": "stream",
     "text": [
      "\r",
      "Training for -600:  25%|██▌       | 151/600 [01:16<03:41,  2.03it/s]"
     ]
    },
    {
     "name": "stderr",
     "output_type": "stream",
     "text": [
      "\r",
      "Training for -600:  25%|██▌       | 152/600 [01:16<03:38,  2.05it/s]"
     ]
    },
    {
     "name": "stderr",
     "output_type": "stream",
     "text": [
      "\r",
      "Training for -600:  26%|██▌       | 153/600 [01:17<03:35,  2.08it/s]"
     ]
    },
    {
     "name": "stderr",
     "output_type": "stream",
     "text": [
      "\r",
      "Training for -600:  26%|██▌       | 154/600 [01:17<03:39,  2.03it/s]"
     ]
    },
    {
     "name": "stderr",
     "output_type": "stream",
     "text": [
      "\r",
      "Training for -600:  26%|██▌       | 155/600 [01:18<03:40,  2.02it/s]"
     ]
    },
    {
     "name": "stderr",
     "output_type": "stream",
     "text": [
      "\r",
      "Training for -600:  26%|██▌       | 156/600 [01:18<03:36,  2.05it/s]"
     ]
    },
    {
     "name": "stderr",
     "output_type": "stream",
     "text": [
      "\r",
      "Training for -600:  26%|██▌       | 157/600 [01:19<03:33,  2.08it/s]"
     ]
    },
    {
     "name": "stderr",
     "output_type": "stream",
     "text": [
      "\r",
      "Training for -600:  26%|██▋       | 158/600 [01:19<03:29,  2.11it/s]"
     ]
    },
    {
     "name": "stderr",
     "output_type": "stream",
     "text": [
      "\r",
      "Training for -600:  26%|██▋       | 159/600 [01:20<03:28,  2.12it/s]"
     ]
    },
    {
     "name": "stderr",
     "output_type": "stream",
     "text": [
      "\r",
      "Training for -600:  27%|██▋       | 160/600 [01:20<03:26,  2.13it/s]"
     ]
    },
    {
     "name": "stderr",
     "output_type": "stream",
     "text": [
      "\r",
      "Training for -600:  27%|██▋       | 161/600 [01:21<03:27,  2.11it/s]"
     ]
    },
    {
     "name": "stderr",
     "output_type": "stream",
     "text": [
      "\r",
      "Training for -600:  27%|██▋       | 162/600 [01:21<03:30,  2.08it/s]"
     ]
    },
    {
     "name": "stderr",
     "output_type": "stream",
     "text": [
      "\r",
      "Training for -600:  27%|██▋       | 163/600 [01:22<03:30,  2.08it/s]"
     ]
    },
    {
     "name": "stderr",
     "output_type": "stream",
     "text": [
      "\r",
      "Training for -600:  27%|██▋       | 164/600 [01:22<03:27,  2.10it/s]"
     ]
    },
    {
     "name": "stderr",
     "output_type": "stream",
     "text": [
      "\r",
      "Training for -600:  28%|██▊       | 165/600 [01:23<03:25,  2.12it/s]"
     ]
    },
    {
     "name": "stderr",
     "output_type": "stream",
     "text": [
      "\r",
      "Training for -600:  28%|██▊       | 166/600 [01:23<03:29,  2.07it/s]"
     ]
    },
    {
     "name": "stderr",
     "output_type": "stream",
     "text": [
      "\r",
      "Training for -600:  28%|██▊       | 167/600 [01:24<03:36,  2.00it/s]"
     ]
    },
    {
     "name": "stderr",
     "output_type": "stream",
     "text": [
      "\r",
      "Training for -600:  28%|██▊       | 168/600 [01:24<03:36,  2.00it/s]"
     ]
    },
    {
     "name": "stderr",
     "output_type": "stream",
     "text": [
      "\r",
      "Training for -600:  28%|██▊       | 169/600 [01:25<03:30,  2.04it/s]"
     ]
    },
    {
     "name": "stderr",
     "output_type": "stream",
     "text": [
      "\r",
      "Training for -600:  28%|██▊       | 170/600 [01:25<03:27,  2.07it/s]"
     ]
    },
    {
     "name": "stderr",
     "output_type": "stream",
     "text": [
      "\r",
      "Training for -600:  28%|██▊       | 171/600 [01:26<03:23,  2.11it/s]"
     ]
    },
    {
     "name": "stderr",
     "output_type": "stream",
     "text": [
      "\r",
      "Training for -600:  29%|██▊       | 172/600 [01:26<03:22,  2.11it/s]"
     ]
    },
    {
     "name": "stderr",
     "output_type": "stream",
     "text": [
      "\r",
      "Training for -600:  29%|██▉       | 173/600 [01:26<03:20,  2.13it/s]"
     ]
    },
    {
     "name": "stderr",
     "output_type": "stream",
     "text": [
      "\r",
      "Training for -600:  29%|██▉       | 174/600 [01:27<03:22,  2.10it/s]"
     ]
    },
    {
     "name": "stderr",
     "output_type": "stream",
     "text": [
      "\r",
      "Training for -600:  29%|██▉       | 175/600 [01:27<03:22,  2.10it/s]"
     ]
    },
    {
     "name": "stderr",
     "output_type": "stream",
     "text": [
      "\r",
      "Training for -600:  29%|██▉       | 176/600 [01:28<03:22,  2.09it/s]"
     ]
    },
    {
     "name": "stderr",
     "output_type": "stream",
     "text": [
      "\r",
      "Training for -600:  30%|██▉       | 177/600 [01:28<03:22,  2.09it/s]"
     ]
    },
    {
     "name": "stderr",
     "output_type": "stream",
     "text": [
      "\r",
      "Training for -600:  30%|██▉       | 178/600 [01:29<03:21,  2.09it/s]"
     ]
    },
    {
     "name": "stderr",
     "output_type": "stream",
     "text": [
      "\r",
      "Training for -600:  30%|██▉       | 179/600 [01:29<03:26,  2.04it/s]"
     ]
    },
    {
     "name": "stderr",
     "output_type": "stream",
     "text": [
      "\r",
      "Training for -600:  30%|███       | 180/600 [01:30<03:25,  2.04it/s]"
     ]
    },
    {
     "name": "stderr",
     "output_type": "stream",
     "text": [
      "\r",
      "Training for -600:  30%|███       | 181/600 [01:30<03:22,  2.07it/s]"
     ]
    },
    {
     "name": "stderr",
     "output_type": "stream",
     "text": [
      "\r",
      "Training for -600:  30%|███       | 182/600 [01:31<03:20,  2.09it/s]"
     ]
    },
    {
     "name": "stderr",
     "output_type": "stream",
     "text": [
      "\r",
      "Training for -600:  30%|███       | 183/600 [01:31<03:17,  2.12it/s]"
     ]
    },
    {
     "name": "stderr",
     "output_type": "stream",
     "text": [
      "\r",
      "Training for -600:  31%|███       | 184/600 [01:32<03:14,  2.14it/s]"
     ]
    },
    {
     "name": "stderr",
     "output_type": "stream",
     "text": [
      "\r",
      "Training for -600:  31%|███       | 185/600 [01:32<03:13,  2.15it/s]"
     ]
    },
    {
     "name": "stderr",
     "output_type": "stream",
     "text": [
      "\r",
      "Training for -600:  31%|███       | 186/600 [01:33<03:13,  2.14it/s]"
     ]
    },
    {
     "name": "stderr",
     "output_type": "stream",
     "text": [
      "\r",
      "Training for -600:  31%|███       | 187/600 [01:33<03:12,  2.15it/s]"
     ]
    },
    {
     "name": "stderr",
     "output_type": "stream",
     "text": [
      "\r",
      "Training for -600:  31%|███▏      | 188/600 [01:34<03:10,  2.16it/s]"
     ]
    },
    {
     "name": "stderr",
     "output_type": "stream",
     "text": [
      "\r",
      "Training for -600:  32%|███▏      | 189/600 [01:34<03:11,  2.14it/s]"
     ]
    },
    {
     "name": "stderr",
     "output_type": "stream",
     "text": [
      "\r",
      "Training for -600:  32%|███▏      | 190/600 [01:35<03:14,  2.11it/s]"
     ]
    },
    {
     "name": "stderr",
     "output_type": "stream",
     "text": [
      "\r",
      "Training for -600:  32%|███▏      | 191/600 [01:35<03:19,  2.05it/s]"
     ]
    },
    {
     "name": "stderr",
     "output_type": "stream",
     "text": [
      "\r",
      "Training for -600:  32%|███▏      | 192/600 [01:36<03:21,  2.03it/s]"
     ]
    },
    {
     "name": "stderr",
     "output_type": "stream",
     "text": [
      "\r",
      "Training for -600:  32%|███▏      | 193/600 [01:36<03:18,  2.05it/s]"
     ]
    },
    {
     "name": "stderr",
     "output_type": "stream",
     "text": [
      "\r",
      "Training for -600:  32%|███▏      | 194/600 [01:37<03:15,  2.08it/s]"
     ]
    },
    {
     "name": "stderr",
     "output_type": "stream",
     "text": [
      "\r",
      "Training for -600:  32%|███▎      | 195/600 [01:37<03:12,  2.10it/s]"
     ]
    },
    {
     "name": "stderr",
     "output_type": "stream",
     "text": [
      "\r",
      "Training for -600:  33%|███▎      | 196/600 [01:37<03:10,  2.12it/s]"
     ]
    },
    {
     "name": "stderr",
     "output_type": "stream",
     "text": [
      "\r",
      "Training for -600:  33%|███▎      | 197/600 [01:38<03:09,  2.13it/s]"
     ]
    },
    {
     "name": "stderr",
     "output_type": "stream",
     "text": [
      "\r",
      "Training for -600:  33%|███▎      | 198/600 [01:38<03:07,  2.15it/s]"
     ]
    },
    {
     "name": "stderr",
     "output_type": "stream",
     "text": [
      "\r",
      "Training for -600:  33%|███▎      | 199/600 [01:39<03:06,  2.15it/s]"
     ]
    },
    {
     "name": "stderr",
     "output_type": "stream",
     "text": [
      "\r",
      "Training for -600:  33%|███▎      | 200/600 [01:39<03:16,  2.04it/s]"
     ]
    },
    {
     "name": "stdout",
     "output_type": "stream",
     "text": [
      "step = 200: loss = 0.3144897222518921\n"
     ]
    },
    {
     "name": "stderr",
     "output_type": "stream",
     "text": [
      "\r",
      "Training for -600:  34%|███▎      | 201/600 [01:40<03:13,  2.07it/s]"
     ]
    },
    {
     "name": "stderr",
     "output_type": "stream",
     "text": [
      "\r",
      "Training for -600:  34%|███▎      | 202/600 [01:40<03:12,  2.07it/s]"
     ]
    },
    {
     "name": "stderr",
     "output_type": "stream",
     "text": [
      "\r",
      "Training for -600:  34%|███▍      | 203/600 [01:41<03:18,  2.00it/s]"
     ]
    },
    {
     "name": "stderr",
     "output_type": "stream",
     "text": [
      "\r",
      "Training for -600:  34%|███▍      | 204/600 [01:41<03:22,  1.95it/s]"
     ]
    },
    {
     "name": "stderr",
     "output_type": "stream",
     "text": [
      "\r",
      "Training for -600:  34%|███▍      | 205/600 [01:42<03:17,  2.00it/s]"
     ]
    },
    {
     "name": "stderr",
     "output_type": "stream",
     "text": [
      "\r",
      "Training for -600:  34%|███▍      | 206/600 [01:42<03:12,  2.05it/s]"
     ]
    },
    {
     "name": "stderr",
     "output_type": "stream",
     "text": [
      "\r",
      "Training for -600:  34%|███▍      | 207/600 [01:43<03:09,  2.08it/s]"
     ]
    },
    {
     "name": "stderr",
     "output_type": "stream",
     "text": [
      "\r",
      "Training for -600:  35%|███▍      | 208/600 [01:43<03:07,  2.09it/s]"
     ]
    },
    {
     "name": "stderr",
     "output_type": "stream",
     "text": [
      "\r",
      "Training for -600:  35%|███▍      | 209/600 [01:44<03:04,  2.12it/s]"
     ]
    },
    {
     "name": "stderr",
     "output_type": "stream",
     "text": [
      "\r",
      "Training for -600:  35%|███▌      | 210/600 [01:44<03:03,  2.12it/s]"
     ]
    },
    {
     "name": "stderr",
     "output_type": "stream",
     "text": [
      "\r",
      "Training for -600:  35%|███▌      | 211/600 [01:45<03:04,  2.11it/s]"
     ]
    },
    {
     "name": "stderr",
     "output_type": "stream",
     "text": [
      "\r",
      "Training for -600:  35%|███▌      | 212/600 [01:45<03:04,  2.11it/s]"
     ]
    },
    {
     "name": "stderr",
     "output_type": "stream",
     "text": [
      "\r",
      "Training for -600:  36%|███▌      | 213/600 [01:46<03:03,  2.11it/s]"
     ]
    },
    {
     "name": "stderr",
     "output_type": "stream",
     "text": [
      "\r",
      "Training for -600:  36%|███▌      | 214/600 [01:46<03:02,  2.12it/s]"
     ]
    },
    {
     "name": "stderr",
     "output_type": "stream",
     "text": [
      "\r",
      "Training for -600:  36%|███▌      | 215/600 [01:47<03:01,  2.12it/s]"
     ]
    },
    {
     "name": "stderr",
     "output_type": "stream",
     "text": [
      "\r",
      "Training for -600:  36%|███▌      | 216/600 [01:47<03:06,  2.06it/s]"
     ]
    },
    {
     "name": "stderr",
     "output_type": "stream",
     "text": [
      "\r",
      "Training for -600:  36%|███▌      | 217/600 [01:48<03:11,  2.00it/s]"
     ]
    },
    {
     "name": "stderr",
     "output_type": "stream",
     "text": [
      "\r",
      "Training for -600:  36%|███▋      | 218/600 [01:48<03:10,  2.01it/s]"
     ]
    },
    {
     "name": "stderr",
     "output_type": "stream",
     "text": [
      "\r",
      "Training for -600:  36%|███▋      | 219/600 [01:49<03:05,  2.05it/s]"
     ]
    },
    {
     "name": "stderr",
     "output_type": "stream",
     "text": [
      "\r",
      "Training for -600:  37%|███▋      | 220/600 [01:49<03:02,  2.09it/s]"
     ]
    },
    {
     "name": "stderr",
     "output_type": "stream",
     "text": [
      "\r",
      "Training for -600:  37%|███▋      | 221/600 [01:50<02:59,  2.11it/s]"
     ]
    },
    {
     "name": "stderr",
     "output_type": "stream",
     "text": [
      "\r",
      "Training for -600:  37%|███▋      | 222/600 [01:50<02:57,  2.13it/s]"
     ]
    },
    {
     "name": "stderr",
     "output_type": "stream",
     "text": [
      "\r",
      "Training for -600:  37%|███▋      | 223/600 [01:50<02:57,  2.13it/s]"
     ]
    },
    {
     "name": "stderr",
     "output_type": "stream",
     "text": [
      "\r",
      "Training for -600:  37%|███▋      | 224/600 [01:51<02:57,  2.12it/s]"
     ]
    },
    {
     "name": "stderr",
     "output_type": "stream",
     "text": [
      "\r",
      "Training for -600:  38%|███▊      | 225/600 [01:51<02:58,  2.10it/s]"
     ]
    },
    {
     "name": "stderr",
     "output_type": "stream",
     "text": [
      "\r",
      "Training for -600:  38%|███▊      | 226/600 [01:52<02:55,  2.13it/s]"
     ]
    },
    {
     "name": "stderr",
     "output_type": "stream",
     "text": [
      "\r",
      "Training for -600:  38%|███▊      | 227/600 [01:52<02:56,  2.12it/s]"
     ]
    },
    {
     "name": "stderr",
     "output_type": "stream",
     "text": [
      "\r",
      "Training for -600:  38%|███▊      | 228/600 [01:53<02:57,  2.10it/s]"
     ]
    },
    {
     "name": "stderr",
     "output_type": "stream",
     "text": [
      "\r",
      "Training for -600:  38%|███▊      | 229/600 [01:53<03:02,  2.03it/s]"
     ]
    },
    {
     "name": "stderr",
     "output_type": "stream",
     "text": [
      "\r",
      "Training for -600:  38%|███▊      | 230/600 [01:54<03:02,  2.03it/s]"
     ]
    },
    {
     "name": "stderr",
     "output_type": "stream",
     "text": [
      "\r",
      "Training for -600:  38%|███▊      | 231/600 [01:54<03:02,  2.02it/s]"
     ]
    },
    {
     "name": "stderr",
     "output_type": "stream",
     "text": [
      "\r",
      "Training for -600:  39%|███▊      | 232/600 [01:55<03:00,  2.04it/s]"
     ]
    },
    {
     "name": "stderr",
     "output_type": "stream",
     "text": [
      "\r",
      "Training for -600:  39%|███▉      | 233/600 [01:55<02:57,  2.06it/s]"
     ]
    },
    {
     "name": "stderr",
     "output_type": "stream",
     "text": [
      "\r",
      "Training for -600:  39%|███▉      | 234/600 [01:56<02:59,  2.04it/s]"
     ]
    },
    {
     "name": "stderr",
     "output_type": "stream",
     "text": [
      "\r",
      "Training for -600:  39%|███▉      | 235/600 [01:56<02:56,  2.07it/s]"
     ]
    },
    {
     "name": "stderr",
     "output_type": "stream",
     "text": [
      "\r",
      "Training for -600:  39%|███▉      | 236/600 [01:57<02:53,  2.10it/s]"
     ]
    },
    {
     "name": "stderr",
     "output_type": "stream",
     "text": [
      "\r",
      "Training for -600:  40%|███▉      | 237/600 [01:57<02:52,  2.11it/s]"
     ]
    },
    {
     "name": "stderr",
     "output_type": "stream",
     "text": [
      "\r",
      "Training for -600:  40%|███▉      | 238/600 [01:58<02:51,  2.11it/s]"
     ]
    },
    {
     "name": "stderr",
     "output_type": "stream",
     "text": [
      "\r",
      "Training for -600:  40%|███▉      | 239/600 [01:58<02:49,  2.13it/s]"
     ]
    },
    {
     "name": "stderr",
     "output_type": "stream",
     "text": [
      "\r",
      "Training for -600:  40%|████      | 240/600 [01:59<02:49,  2.12it/s]"
     ]
    },
    {
     "name": "stderr",
     "output_type": "stream",
     "text": [
      "\r",
      "Training for -600:  40%|████      | 241/600 [01:59<02:54,  2.06it/s]"
     ]
    },
    {
     "name": "stderr",
     "output_type": "stream",
     "text": [
      "\r",
      "Training for -600:  40%|████      | 242/600 [02:00<02:56,  2.02it/s]"
     ]
    },
    {
     "name": "stderr",
     "output_type": "stream",
     "text": [
      "\r",
      "Training for -600:  40%|████      | 243/600 [02:00<02:54,  2.05it/s]"
     ]
    },
    {
     "name": "stderr",
     "output_type": "stream",
     "text": [
      "\r",
      "Training for -600:  41%|████      | 244/600 [02:01<02:52,  2.07it/s]"
     ]
    },
    {
     "name": "stderr",
     "output_type": "stream",
     "text": [
      "\r",
      "Training for -600:  41%|████      | 245/600 [02:01<02:53,  2.05it/s]"
     ]
    },
    {
     "name": "stderr",
     "output_type": "stream",
     "text": [
      "\r",
      "Training for -600:  41%|████      | 246/600 [02:02<02:50,  2.08it/s]"
     ]
    },
    {
     "name": "stderr",
     "output_type": "stream",
     "text": [
      "\r",
      "Training for -600:  41%|████      | 247/600 [02:02<02:49,  2.09it/s]"
     ]
    },
    {
     "name": "stderr",
     "output_type": "stream",
     "text": [
      "\r",
      "Training for -600:  41%|████▏     | 248/600 [02:03<02:46,  2.11it/s]"
     ]
    },
    {
     "name": "stderr",
     "output_type": "stream",
     "text": [
      "\r",
      "Training for -600:  42%|████▏     | 249/600 [02:03<02:46,  2.11it/s]"
     ]
    },
    {
     "name": "stderr",
     "output_type": "stream",
     "text": [
      "\r",
      "Training for -600:  42%|████▏     | 250/600 [02:04<02:53,  2.02it/s]"
     ]
    },
    {
     "name": "stdout",
     "output_type": "stream",
     "text": [
      "step = 250: loss = 0.26278364658355713\n"
     ]
    },
    {
     "name": "stderr",
     "output_type": "stream",
     "text": [
      "\r",
      "Training for -600:  42%|████▏     | 251/600 [02:04<02:51,  2.04it/s]"
     ]
    },
    {
     "name": "stderr",
     "output_type": "stream",
     "text": [
      "\r",
      "Training for -600:  42%|████▏     | 252/600 [02:04<02:48,  2.06it/s]"
     ]
    },
    {
     "name": "stderr",
     "output_type": "stream",
     "text": [
      "\r",
      "Training for -600:  42%|████▏     | 253/600 [02:05<02:51,  2.02it/s]"
     ]
    },
    {
     "name": "stderr",
     "output_type": "stream",
     "text": [
      "\r",
      "Training for -600:  42%|████▏     | 254/600 [02:06<02:54,  1.98it/s]"
     ]
    },
    {
     "name": "stderr",
     "output_type": "stream",
     "text": [
      "\r",
      "Training for -600:  42%|████▎     | 255/600 [02:06<02:51,  2.01it/s]"
     ]
    },
    {
     "name": "stderr",
     "output_type": "stream",
     "text": [
      "\r",
      "Training for -600:  43%|████▎     | 256/600 [02:06<02:48,  2.05it/s]"
     ]
    },
    {
     "name": "stderr",
     "output_type": "stream",
     "text": [
      "\r",
      "Training for -600:  43%|████▎     | 257/600 [02:07<02:45,  2.08it/s]"
     ]
    },
    {
     "name": "stderr",
     "output_type": "stream",
     "text": [
      "\r",
      "Training for -600:  43%|████▎     | 258/600 [02:07<02:44,  2.07it/s]"
     ]
    },
    {
     "name": "stderr",
     "output_type": "stream",
     "text": [
      "\r",
      "Training for -600:  43%|████▎     | 259/600 [02:08<02:44,  2.08it/s]"
     ]
    },
    {
     "name": "stderr",
     "output_type": "stream",
     "text": [
      "\r",
      "Training for -600:  43%|████▎     | 260/600 [02:08<02:43,  2.08it/s]"
     ]
    },
    {
     "name": "stderr",
     "output_type": "stream",
     "text": [
      "\r",
      "Training for -600:  44%|████▎     | 261/600 [02:09<02:42,  2.08it/s]"
     ]
    },
    {
     "name": "stderr",
     "output_type": "stream",
     "text": [
      "\r",
      "Training for -600:  44%|████▎     | 262/600 [02:09<02:41,  2.09it/s]"
     ]
    },
    {
     "name": "stderr",
     "output_type": "stream",
     "text": [
      "\r",
      "Training for -600:  44%|████▍     | 263/600 [02:10<02:40,  2.10it/s]"
     ]
    },
    {
     "name": "stderr",
     "output_type": "stream",
     "text": [
      "\r",
      "Training for -600:  44%|████▍     | 264/600 [02:10<02:38,  2.11it/s]"
     ]
    },
    {
     "name": "stderr",
     "output_type": "stream",
     "text": [
      "\r",
      "Training for -600:  44%|████▍     | 265/600 [02:11<02:39,  2.10it/s]"
     ]
    },
    {
     "name": "stderr",
     "output_type": "stream",
     "text": [
      "\r",
      "Training for -600:  44%|████▍     | 266/600 [02:11<02:42,  2.05it/s]"
     ]
    },
    {
     "name": "stderr",
     "output_type": "stream",
     "text": [
      "\r",
      "Training for -600:  44%|████▍     | 267/600 [02:12<02:42,  2.05it/s]"
     ]
    },
    {
     "name": "stderr",
     "output_type": "stream",
     "text": [
      "\r",
      "Training for -600:  45%|████▍     | 268/600 [02:12<02:39,  2.08it/s]"
     ]
    },
    {
     "name": "stderr",
     "output_type": "stream",
     "text": [
      "\r",
      "Training for -600:  45%|████▍     | 269/600 [02:13<02:37,  2.10it/s]"
     ]
    },
    {
     "name": "stderr",
     "output_type": "stream",
     "text": [
      "\r",
      "Training for -600:  45%|████▌     | 270/600 [02:13<02:35,  2.12it/s]"
     ]
    },
    {
     "name": "stderr",
     "output_type": "stream",
     "text": [
      "\r",
      "Training for -600:  45%|████▌     | 271/600 [02:14<02:35,  2.12it/s]"
     ]
    },
    {
     "name": "stderr",
     "output_type": "stream",
     "text": [
      "\r",
      "Training for -600:  45%|████▌     | 272/600 [02:14<02:36,  2.09it/s]"
     ]
    },
    {
     "name": "stderr",
     "output_type": "stream",
     "text": [
      "\r",
      "Training for -600:  46%|████▌     | 273/600 [02:15<02:36,  2.09it/s]"
     ]
    },
    {
     "name": "stderr",
     "output_type": "stream",
     "text": [
      "\r",
      "Training for -600:  46%|████▌     | 274/600 [02:15<02:34,  2.10it/s]"
     ]
    },
    {
     "name": "stderr",
     "output_type": "stream",
     "text": [
      "\r",
      "Training for -600:  46%|████▌     | 275/600 [02:16<02:34,  2.11it/s]"
     ]
    },
    {
     "name": "stderr",
     "output_type": "stream",
     "text": [
      "\r",
      "Training for -600:  46%|████▌     | 276/600 [02:16<02:33,  2.11it/s]"
     ]
    },
    {
     "name": "stderr",
     "output_type": "stream",
     "text": [
      "\r",
      "Training for -600:  46%|████▌     | 277/600 [02:16<02:32,  2.12it/s]"
     ]
    },
    {
     "name": "stderr",
     "output_type": "stream",
     "text": [
      "\r",
      "Training for -600:  46%|████▋     | 278/600 [02:17<02:36,  2.05it/s]"
     ]
    },
    {
     "name": "stderr",
     "output_type": "stream",
     "text": [
      "\r",
      "Training for -600:  46%|████▋     | 279/600 [02:17<02:38,  2.02it/s]"
     ]
    },
    {
     "name": "stderr",
     "output_type": "stream",
     "text": [
      "\r",
      "Training for -600:  47%|████▋     | 280/600 [02:18<02:35,  2.06it/s]"
     ]
    },
    {
     "name": "stderr",
     "output_type": "stream",
     "text": [
      "\r",
      "Training for -600:  47%|████▋     | 281/600 [02:18<02:32,  2.10it/s]"
     ]
    },
    {
     "name": "stderr",
     "output_type": "stream",
     "text": [
      "\r",
      "Training for -600:  47%|████▋     | 282/600 [02:19<02:30,  2.12it/s]"
     ]
    },
    {
     "name": "stderr",
     "output_type": "stream",
     "text": [
      "\r",
      "Training for -600:  47%|████▋     | 283/600 [02:19<02:28,  2.14it/s]"
     ]
    },
    {
     "name": "stderr",
     "output_type": "stream",
     "text": [
      "\r",
      "Training for -600:  47%|████▋     | 284/600 [02:20<02:28,  2.13it/s]"
     ]
    },
    {
     "name": "stderr",
     "output_type": "stream",
     "text": [
      "\r",
      "Training for -600:  48%|████▊     | 285/600 [02:20<02:28,  2.12it/s]"
     ]
    },
    {
     "name": "stderr",
     "output_type": "stream",
     "text": [
      "\r",
      "Training for -600:  48%|████▊     | 286/600 [02:21<02:28,  2.11it/s]"
     ]
    },
    {
     "name": "stderr",
     "output_type": "stream",
     "text": [
      "\r",
      "Training for -600:  48%|████▊     | 287/600 [02:21<02:27,  2.13it/s]"
     ]
    },
    {
     "name": "stderr",
     "output_type": "stream",
     "text": [
      "\r",
      "Training for -600:  48%|████▊     | 288/600 [02:22<02:25,  2.14it/s]"
     ]
    },
    {
     "name": "stderr",
     "output_type": "stream",
     "text": [
      "\r",
      "Training for -600:  48%|████▊     | 289/600 [02:22<02:25,  2.14it/s]"
     ]
    },
    {
     "name": "stderr",
     "output_type": "stream",
     "text": [
      "\r",
      "Training for -600:  48%|████▊     | 290/600 [02:23<02:27,  2.10it/s]"
     ]
    },
    {
     "name": "stderr",
     "output_type": "stream",
     "text": [
      "\r",
      "Training for -600:  48%|████▊     | 291/600 [02:23<02:30,  2.05it/s]"
     ]
    },
    {
     "name": "stderr",
     "output_type": "stream",
     "text": [
      "\r",
      "Training for -600:  49%|████▊     | 292/600 [02:24<02:30,  2.04it/s]"
     ]
    },
    {
     "name": "stderr",
     "output_type": "stream",
     "text": [
      "\r",
      "Training for -600:  49%|████▉     | 293/600 [02:24<02:28,  2.06it/s]"
     ]
    },
    {
     "name": "stderr",
     "output_type": "stream",
     "text": [
      "\r",
      "Training for -600:  49%|████▉     | 294/600 [02:25<02:26,  2.09it/s]"
     ]
    },
    {
     "name": "stderr",
     "output_type": "stream",
     "text": [
      "\r",
      "Training for -600:  49%|████▉     | 295/600 [02:25<02:25,  2.10it/s]"
     ]
    },
    {
     "name": "stderr",
     "output_type": "stream",
     "text": [
      "\r",
      "Training for -600:  49%|████▉     | 296/600 [02:26<02:23,  2.12it/s]"
     ]
    },
    {
     "name": "stderr",
     "output_type": "stream",
     "text": [
      "\r",
      "Training for -600:  50%|████▉     | 297/600 [02:26<02:22,  2.12it/s]"
     ]
    },
    {
     "name": "stderr",
     "output_type": "stream",
     "text": [
      "\r",
      "Training for -600:  50%|████▉     | 298/600 [02:26<02:23,  2.10it/s]"
     ]
    },
    {
     "name": "stderr",
     "output_type": "stream",
     "text": [
      "\r",
      "Training for -600:  50%|████▉     | 299/600 [02:27<02:24,  2.09it/s]"
     ]
    },
    {
     "name": "stderr",
     "output_type": "stream",
     "text": [
      "\r",
      "Training for -600:  50%|█████     | 300/600 [02:28<02:31,  1.98it/s]"
     ]
    },
    {
     "name": "stdout",
     "output_type": "stream",
     "text": [
      "step = 300: loss = 0.22481118142604828\n"
     ]
    },
    {
     "name": "stderr",
     "output_type": "stream",
     "text": [
      "\r",
      "Training for -600:  50%|█████     | 301/600 [02:28<02:27,  2.02it/s]"
     ]
    },
    {
     "name": "stderr",
     "output_type": "stream",
     "text": [
      "\r",
      "Training for -600:  50%|█████     | 302/600 [02:28<02:25,  2.05it/s]"
     ]
    },
    {
     "name": "stderr",
     "output_type": "stream",
     "text": [
      "\r",
      "Training for -600:  50%|█████     | 303/600 [02:29<02:30,  1.97it/s]"
     ]
    },
    {
     "name": "stderr",
     "output_type": "stream",
     "text": [
      "\r",
      "Training for -600:  51%|█████     | 304/600 [02:30<02:30,  1.97it/s]"
     ]
    },
    {
     "name": "stderr",
     "output_type": "stream",
     "text": [
      "\r",
      "Training for -600:  51%|█████     | 305/600 [02:30<02:25,  2.02it/s]"
     ]
    },
    {
     "name": "stderr",
     "output_type": "stream",
     "text": [
      "\r",
      "Training for -600:  51%|█████     | 306/600 [02:30<02:23,  2.05it/s]"
     ]
    },
    {
     "name": "stderr",
     "output_type": "stream",
     "text": [
      "\r",
      "Training for -600:  51%|█████     | 307/600 [02:31<02:22,  2.06it/s]"
     ]
    },
    {
     "name": "stderr",
     "output_type": "stream",
     "text": [
      "\r",
      "Training for -600:  51%|█████▏    | 308/600 [02:31<02:20,  2.09it/s]"
     ]
    },
    {
     "name": "stderr",
     "output_type": "stream",
     "text": [
      "\r",
      "Training for -600:  52%|█████▏    | 309/600 [02:32<02:17,  2.11it/s]"
     ]
    },
    {
     "name": "stderr",
     "output_type": "stream",
     "text": [
      "\r",
      "Training for -600:  52%|█████▏    | 310/600 [02:32<02:16,  2.12it/s]"
     ]
    },
    {
     "name": "stderr",
     "output_type": "stream",
     "text": [
      "\r",
      "Training for -600:  52%|█████▏    | 311/600 [02:33<02:16,  2.11it/s]"
     ]
    },
    {
     "name": "stderr",
     "output_type": "stream",
     "text": [
      "\r",
      "Training for -600:  52%|█████▏    | 312/600 [02:33<02:17,  2.10it/s]"
     ]
    },
    {
     "name": "stderr",
     "output_type": "stream",
     "text": [
      "\r",
      "Training for -600:  52%|█████▏    | 313/600 [02:34<02:17,  2.09it/s]"
     ]
    },
    {
     "name": "stderr",
     "output_type": "stream",
     "text": [
      "\r",
      "Training for -600:  52%|█████▏    | 314/600 [02:34<02:16,  2.10it/s]"
     ]
    },
    {
     "name": "stderr",
     "output_type": "stream",
     "text": [
      "\r",
      "Training for -600:  52%|█████▎    | 315/600 [02:35<02:17,  2.08it/s]"
     ]
    },
    {
     "name": "stderr",
     "output_type": "stream",
     "text": [
      "\r",
      "Training for -600:  53%|█████▎    | 316/600 [02:35<02:19,  2.03it/s]"
     ]
    },
    {
     "name": "stderr",
     "output_type": "stream",
     "text": [
      "\r",
      "Training for -600:  53%|█████▎    | 317/600 [02:36<02:18,  2.04it/s]"
     ]
    },
    {
     "name": "stderr",
     "output_type": "stream",
     "text": [
      "\r",
      "Training for -600:  53%|█████▎    | 318/600 [02:36<02:16,  2.06it/s]"
     ]
    },
    {
     "name": "stderr",
     "output_type": "stream",
     "text": [
      "\r",
      "Training for -600:  53%|█████▎    | 319/600 [02:37<02:14,  2.08it/s]"
     ]
    },
    {
     "name": "stderr",
     "output_type": "stream",
     "text": [
      "\r",
      "Training for -600:  53%|█████▎    | 320/600 [02:37<02:13,  2.10it/s]"
     ]
    },
    {
     "name": "stderr",
     "output_type": "stream",
     "text": [
      "\r",
      "Training for -600:  54%|█████▎    | 321/600 [02:38<02:11,  2.13it/s]"
     ]
    },
    {
     "name": "stderr",
     "output_type": "stream",
     "text": [
      "\r",
      "Training for -600:  54%|█████▎    | 322/600 [02:38<02:10,  2.13it/s]"
     ]
    },
    {
     "name": "stderr",
     "output_type": "stream",
     "text": [
      "\r",
      "Training for -600:  54%|█████▍    | 323/600 [02:39<02:08,  2.15it/s]"
     ]
    },
    {
     "name": "stderr",
     "output_type": "stream",
     "text": [
      "\r",
      "Training for -600:  54%|█████▍    | 324/600 [02:39<02:08,  2.15it/s]"
     ]
    },
    {
     "name": "stderr",
     "output_type": "stream",
     "text": [
      "\r",
      "Training for -600:  54%|█████▍    | 325/600 [02:39<02:07,  2.16it/s]"
     ]
    },
    {
     "name": "stderr",
     "output_type": "stream",
     "text": [
      "\r",
      "Training for -600:  54%|█████▍    | 326/600 [02:40<02:09,  2.12it/s]"
     ]
    },
    {
     "name": "stderr",
     "output_type": "stream",
     "text": [
      "\r",
      "Training for -600:  55%|█████▍    | 327/600 [02:40<02:09,  2.11it/s]"
     ]
    },
    {
     "name": "stderr",
     "output_type": "stream",
     "text": [
      "\r",
      "Training for -600:  55%|█████▍    | 328/600 [02:41<02:14,  2.02it/s]"
     ]
    },
    {
     "name": "stderr",
     "output_type": "stream",
     "text": [
      "\r",
      "Training for -600:  55%|█████▍    | 329/600 [02:41<02:15,  2.00it/s]"
     ]
    },
    {
     "name": "stderr",
     "output_type": "stream",
     "text": [
      "\r",
      "Training for -600:  55%|█████▌    | 330/600 [02:42<02:12,  2.04it/s]"
     ]
    },
    {
     "name": "stderr",
     "output_type": "stream",
     "text": [
      "\r",
      "Training for -600:  55%|█████▌    | 331/600 [02:42<02:10,  2.06it/s]"
     ]
    },
    {
     "name": "stderr",
     "output_type": "stream",
     "text": [
      "\r",
      "Training for -600:  55%|█████▌    | 332/600 [02:43<02:07,  2.09it/s]"
     ]
    },
    {
     "name": "stderr",
     "output_type": "stream",
     "text": [
      "\r",
      "Training for -600:  56%|█████▌    | 333/600 [02:43<02:06,  2.11it/s]"
     ]
    },
    {
     "name": "stderr",
     "output_type": "stream",
     "text": [
      "\r",
      "Training for -600:  56%|█████▌    | 334/600 [02:44<02:05,  2.12it/s]"
     ]
    },
    {
     "name": "stderr",
     "output_type": "stream",
     "text": [
      "\r",
      "Training for -600:  56%|█████▌    | 335/600 [02:44<02:04,  2.12it/s]"
     ]
    },
    {
     "name": "stderr",
     "output_type": "stream",
     "text": [
      "\r",
      "Training for -600:  56%|█████▌    | 336/600 [02:45<02:04,  2.12it/s]"
     ]
    },
    {
     "name": "stderr",
     "output_type": "stream",
     "text": [
      "\r",
      "Training for -600:  56%|█████▌    | 337/600 [02:45<02:05,  2.09it/s]"
     ]
    },
    {
     "name": "stderr",
     "output_type": "stream",
     "text": [
      "\r",
      "Training for -600:  56%|█████▋    | 338/600 [02:46<02:05,  2.08it/s]"
     ]
    },
    {
     "name": "stderr",
     "output_type": "stream",
     "text": [
      "\r",
      "Training for -600:  56%|█████▋    | 339/600 [02:46<02:06,  2.06it/s]"
     ]
    },
    {
     "name": "stderr",
     "output_type": "stream",
     "text": [
      "\r",
      "Training for -600:  57%|█████▋    | 340/600 [02:47<02:09,  2.00it/s]"
     ]
    },
    {
     "name": "stderr",
     "output_type": "stream",
     "text": [
      "\r",
      "Training for -600:  57%|█████▋    | 341/600 [02:47<02:09,  2.00it/s]"
     ]
    },
    {
     "name": "stderr",
     "output_type": "stream",
     "text": [
      "\r",
      "Training for -600:  57%|█████▋    | 342/600 [02:48<02:05,  2.05it/s]"
     ]
    },
    {
     "name": "stderr",
     "output_type": "stream",
     "text": [
      "\r",
      "Training for -600:  57%|█████▋    | 343/600 [02:48<02:03,  2.08it/s]"
     ]
    },
    {
     "name": "stderr",
     "output_type": "stream",
     "text": [
      "\r",
      "Training for -600:  57%|█████▋    | 344/600 [02:49<02:01,  2.10it/s]"
     ]
    },
    {
     "name": "stderr",
     "output_type": "stream",
     "text": [
      "\r",
      "Training for -600:  57%|█████▊    | 345/600 [02:49<01:59,  2.13it/s]"
     ]
    },
    {
     "name": "stderr",
     "output_type": "stream",
     "text": [
      "\r",
      "Training for -600:  58%|█████▊    | 346/600 [02:50<01:58,  2.14it/s]"
     ]
    },
    {
     "name": "stderr",
     "output_type": "stream",
     "text": [
      "\r",
      "Training for -600:  58%|█████▊    | 347/600 [02:50<01:57,  2.15it/s]"
     ]
    },
    {
     "name": "stderr",
     "output_type": "stream",
     "text": [
      "\r",
      "Training for -600:  58%|█████▊    | 348/600 [02:51<01:58,  2.13it/s]"
     ]
    },
    {
     "name": "stderr",
     "output_type": "stream",
     "text": [
      "\r",
      "Training for -600:  58%|█████▊    | 349/600 [02:51<01:56,  2.16it/s]"
     ]
    },
    {
     "name": "stderr",
     "output_type": "stream",
     "text": [
      "\r",
      "Training for -600:  58%|█████▊    | 350/600 [02:52<02:02,  2.04it/s]"
     ]
    },
    {
     "name": "stdout",
     "output_type": "stream",
     "text": [
      "step = 350: loss = 0.18410858511924744\n"
     ]
    },
    {
     "name": "stderr",
     "output_type": "stream",
     "text": [
      "\r",
      "Training for -600:  58%|█████▊    | 351/600 [02:52<01:59,  2.08it/s]"
     ]
    },
    {
     "name": "stderr",
     "output_type": "stream",
     "text": [
      "\r",
      "Training for -600:  59%|█████▊    | 352/600 [02:52<01:59,  2.07it/s]"
     ]
    },
    {
     "name": "stderr",
     "output_type": "stream",
     "text": [
      "\r",
      "Training for -600:  59%|█████▉    | 353/600 [02:53<02:02,  2.01it/s]"
     ]
    },
    {
     "name": "stderr",
     "output_type": "stream",
     "text": [
      "\r",
      "Training for -600:  59%|█████▉    | 354/600 [02:54<02:03,  1.99it/s]"
     ]
    },
    {
     "name": "stderr",
     "output_type": "stream",
     "text": [
      "\r",
      "Training for -600:  59%|█████▉    | 355/600 [02:54<02:00,  2.03it/s]"
     ]
    },
    {
     "name": "stderr",
     "output_type": "stream",
     "text": [
      "\r",
      "Training for -600:  59%|█████▉    | 356/600 [02:54<01:57,  2.07it/s]"
     ]
    },
    {
     "name": "stderr",
     "output_type": "stream",
     "text": [
      "\r",
      "Training for -600:  60%|█████▉    | 357/600 [02:55<01:55,  2.10it/s]"
     ]
    },
    {
     "name": "stderr",
     "output_type": "stream",
     "text": [
      "\r",
      "Training for -600:  60%|█████▉    | 358/600 [02:55<01:54,  2.12it/s]"
     ]
    },
    {
     "name": "stderr",
     "output_type": "stream",
     "text": [
      "\r",
      "Training for -600:  60%|█████▉    | 359/600 [02:56<01:54,  2.11it/s]"
     ]
    },
    {
     "name": "stderr",
     "output_type": "stream",
     "text": [
      "\r",
      "Training for -600:  60%|██████    | 360/600 [02:56<01:52,  2.14it/s]"
     ]
    },
    {
     "name": "stderr",
     "output_type": "stream",
     "text": [
      "\r",
      "Training for -600:  60%|██████    | 361/600 [02:57<01:51,  2.14it/s]"
     ]
    },
    {
     "name": "stderr",
     "output_type": "stream",
     "text": [
      "\r",
      "Training for -600:  60%|██████    | 362/600 [02:57<01:50,  2.15it/s]"
     ]
    },
    {
     "name": "stderr",
     "output_type": "stream",
     "text": [
      "\r",
      "Training for -600:  60%|██████    | 363/600 [02:58<01:50,  2.14it/s]"
     ]
    },
    {
     "name": "stderr",
     "output_type": "stream",
     "text": [
      "\r",
      "Training for -600:  61%|██████    | 364/600 [02:58<01:50,  2.15it/s]"
     ]
    },
    {
     "name": "stderr",
     "output_type": "stream",
     "text": [
      "\r",
      "Training for -600:  61%|██████    | 365/600 [02:59<01:53,  2.08it/s]"
     ]
    },
    {
     "name": "stderr",
     "output_type": "stream",
     "text": [
      "\r",
      "Training for -600:  61%|██████    | 366/600 [02:59<01:55,  2.02it/s]"
     ]
    },
    {
     "name": "stderr",
     "output_type": "stream",
     "text": [
      "\r",
      "Training for -600:  61%|██████    | 367/600 [03:00<01:55,  2.02it/s]"
     ]
    },
    {
     "name": "stderr",
     "output_type": "stream",
     "text": [
      "\r",
      "Training for -600:  61%|██████▏   | 368/600 [03:00<01:53,  2.04it/s]"
     ]
    },
    {
     "name": "stderr",
     "output_type": "stream",
     "text": [
      "\r",
      "Training for -600:  62%|██████▏   | 369/600 [03:01<01:51,  2.07it/s]"
     ]
    },
    {
     "name": "stderr",
     "output_type": "stream",
     "text": [
      "\r",
      "Training for -600:  62%|██████▏   | 370/600 [03:01<01:49,  2.09it/s]"
     ]
    },
    {
     "name": "stderr",
     "output_type": "stream",
     "text": [
      "\r",
      "Training for -600:  62%|██████▏   | 371/600 [03:02<01:49,  2.10it/s]"
     ]
    },
    {
     "name": "stderr",
     "output_type": "stream",
     "text": [
      "\r",
      "Training for -600:  62%|██████▏   | 372/600 [03:02<01:48,  2.11it/s]"
     ]
    },
    {
     "name": "stderr",
     "output_type": "stream",
     "text": [
      "\r",
      "Training for -600:  62%|██████▏   | 373/600 [03:03<01:46,  2.13it/s]"
     ]
    },
    {
     "name": "stderr",
     "output_type": "stream",
     "text": [
      "\r",
      "Training for -600:  62%|██████▏   | 374/600 [03:03<01:45,  2.14it/s]"
     ]
    },
    {
     "name": "stderr",
     "output_type": "stream",
     "text": [
      "\r",
      "Training for -600:  62%|██████▎   | 375/600 [03:03<01:44,  2.15it/s]"
     ]
    },
    {
     "name": "stderr",
     "output_type": "stream",
     "text": [
      "\r",
      "Training for -600:  63%|██████▎   | 376/600 [03:04<01:44,  2.15it/s]"
     ]
    },
    {
     "name": "stderr",
     "output_type": "stream",
     "text": [
      "\r",
      "Training for -600:  63%|██████▎   | 377/600 [03:04<01:44,  2.13it/s]"
     ]
    },
    {
     "name": "stderr",
     "output_type": "stream",
     "text": [
      "\r",
      "Training for -600:  63%|██████▎   | 378/600 [03:05<01:47,  2.07it/s]"
     ]
    },
    {
     "name": "stderr",
     "output_type": "stream",
     "text": [
      "\r",
      "Training for -600:  63%|██████▎   | 379/600 [03:05<01:48,  2.04it/s]"
     ]
    },
    {
     "name": "stderr",
     "output_type": "stream",
     "text": [
      "\r",
      "Training for -600:  63%|██████▎   | 380/600 [03:06<01:47,  2.04it/s]"
     ]
    },
    {
     "name": "stderr",
     "output_type": "stream",
     "text": [
      "\r",
      "Training for -600:  64%|██████▎   | 381/600 [03:06<01:47,  2.03it/s]"
     ]
    },
    {
     "name": "stderr",
     "output_type": "stream",
     "text": [
      "\r",
      "Training for -600:  64%|██████▎   | 382/600 [03:07<01:45,  2.06it/s]"
     ]
    },
    {
     "name": "stderr",
     "output_type": "stream",
     "text": [
      "\r",
      "Training for -600:  64%|██████▍   | 383/600 [03:07<01:44,  2.08it/s]"
     ]
    },
    {
     "name": "stderr",
     "output_type": "stream",
     "text": [
      "\r",
      "Training for -600:  64%|██████▍   | 384/600 [03:08<01:42,  2.10it/s]"
     ]
    },
    {
     "name": "stderr",
     "output_type": "stream",
     "text": [
      "\r",
      "Training for -600:  64%|██████▍   | 385/600 [03:08<01:40,  2.13it/s]"
     ]
    },
    {
     "name": "stderr",
     "output_type": "stream",
     "text": [
      "\r",
      "Training for -600:  64%|██████▍   | 386/600 [03:09<01:40,  2.14it/s]"
     ]
    },
    {
     "name": "stderr",
     "output_type": "stream",
     "text": [
      "\r",
      "Training for -600:  64%|██████▍   | 387/600 [03:09<01:39,  2.14it/s]"
     ]
    },
    {
     "name": "stderr",
     "output_type": "stream",
     "text": [
      "\r",
      "Training for -600:  65%|██████▍   | 388/600 [03:10<01:38,  2.14it/s]"
     ]
    },
    {
     "name": "stderr",
     "output_type": "stream",
     "text": [
      "\r",
      "Training for -600:  65%|██████▍   | 389/600 [03:10<01:37,  2.16it/s]"
     ]
    },
    {
     "name": "stderr",
     "output_type": "stream",
     "text": [
      "\r",
      "Training for -600:  65%|██████▌   | 390/600 [03:11<01:39,  2.11it/s]"
     ]
    },
    {
     "name": "stderr",
     "output_type": "stream",
     "text": [
      "\r",
      "Training for -600:  65%|██████▌   | 391/600 [03:11<01:42,  2.04it/s]"
     ]
    },
    {
     "name": "stderr",
     "output_type": "stream",
     "text": [
      "\r",
      "Training for -600:  65%|██████▌   | 392/600 [03:12<01:41,  2.05it/s]"
     ]
    },
    {
     "name": "stderr",
     "output_type": "stream",
     "text": [
      "\r",
      "Training for -600:  66%|██████▌   | 393/600 [03:12<01:40,  2.06it/s]"
     ]
    },
    {
     "name": "stderr",
     "output_type": "stream",
     "text": [
      "\r",
      "Training for -600:  66%|██████▌   | 394/600 [03:13<01:39,  2.07it/s]"
     ]
    },
    {
     "name": "stderr",
     "output_type": "stream",
     "text": [
      "\r",
      "Training for -600:  66%|██████▌   | 395/600 [03:13<01:38,  2.07it/s]"
     ]
    },
    {
     "name": "stderr",
     "output_type": "stream",
     "text": [
      "\r",
      "Training for -600:  66%|██████▌   | 396/600 [03:14<01:37,  2.10it/s]"
     ]
    },
    {
     "name": "stderr",
     "output_type": "stream",
     "text": [
      "\r",
      "Training for -600:  66%|██████▌   | 397/600 [03:14<01:35,  2.13it/s]"
     ]
    },
    {
     "name": "stderr",
     "output_type": "stream",
     "text": [
      "\r",
      "Training for -600:  66%|██████▋   | 398/600 [03:14<01:33,  2.15it/s]"
     ]
    },
    {
     "name": "stderr",
     "output_type": "stream",
     "text": [
      "\r",
      "Training for -600:  66%|██████▋   | 399/600 [03:15<01:32,  2.17it/s]"
     ]
    },
    {
     "name": "stderr",
     "output_type": "stream",
     "text": [
      "\r",
      "Training for -600:  67%|██████▋   | 400/600 [03:15<01:37,  2.04it/s]"
     ]
    },
    {
     "name": "stdout",
     "output_type": "stream",
     "text": [
      "step = 400: loss = 0.2550084888935089\n"
     ]
    },
    {
     "name": "stderr",
     "output_type": "stream",
     "text": [
      "\r",
      "Training for -600:  67%|██████▋   | 401/600 [03:16<01:37,  2.05it/s]"
     ]
    },
    {
     "name": "stderr",
     "output_type": "stream",
     "text": [
      "\r",
      "Training for -600:  67%|██████▋   | 402/600 [03:16<01:36,  2.05it/s]"
     ]
    },
    {
     "name": "stderr",
     "output_type": "stream",
     "text": [
      "\r",
      "Training for -600:  67%|██████▋   | 403/600 [03:17<01:37,  2.01it/s]"
     ]
    },
    {
     "name": "stderr",
     "output_type": "stream",
     "text": [
      "\r",
      "Training for -600:  67%|██████▋   | 404/600 [03:17<01:37,  2.01it/s]"
     ]
    },
    {
     "name": "stderr",
     "output_type": "stream",
     "text": [
      "\r",
      "Training for -600:  68%|██████▊   | 405/600 [03:18<01:35,  2.04it/s]"
     ]
    },
    {
     "name": "stderr",
     "output_type": "stream",
     "text": [
      "\r",
      "Training for -600:  68%|██████▊   | 406/600 [03:18<01:33,  2.07it/s]"
     ]
    },
    {
     "name": "stderr",
     "output_type": "stream",
     "text": [
      "\r",
      "Training for -600:  68%|██████▊   | 407/600 [03:19<01:32,  2.09it/s]"
     ]
    },
    {
     "name": "stderr",
     "output_type": "stream",
     "text": [
      "\r",
      "Training for -600:  68%|██████▊   | 408/600 [03:19<01:32,  2.07it/s]"
     ]
    },
    {
     "name": "stderr",
     "output_type": "stream",
     "text": [
      "\r",
      "Training for -600:  68%|██████▊   | 409/600 [03:20<01:32,  2.07it/s]"
     ]
    },
    {
     "name": "stderr",
     "output_type": "stream",
     "text": [
      "\r",
      "Training for -600:  68%|██████▊   | 410/600 [03:20<01:30,  2.09it/s]"
     ]
    },
    {
     "name": "stderr",
     "output_type": "stream",
     "text": [
      "\r",
      "Training for -600:  68%|██████▊   | 411/600 [03:21<01:29,  2.11it/s]"
     ]
    },
    {
     "name": "stderr",
     "output_type": "stream",
     "text": [
      "\r",
      "Training for -600:  69%|██████▊   | 412/600 [03:21<01:29,  2.11it/s]"
     ]
    },
    {
     "name": "stderr",
     "output_type": "stream",
     "text": [
      "\r",
      "Training for -600:  69%|██████▉   | 413/600 [03:22<01:28,  2.12it/s]"
     ]
    },
    {
     "name": "stderr",
     "output_type": "stream",
     "text": [
      "\r",
      "Training for -600:  69%|██████▉   | 414/600 [03:22<01:27,  2.13it/s]"
     ]
    },
    {
     "name": "stderr",
     "output_type": "stream",
     "text": [
      "\r",
      "Training for -600:  69%|██████▉   | 415/600 [03:23<01:28,  2.10it/s]"
     ]
    },
    {
     "name": "stderr",
     "output_type": "stream",
     "text": [
      "\r",
      "Training for -600:  69%|██████▉   | 416/600 [03:23<01:29,  2.04it/s]"
     ]
    },
    {
     "name": "stderr",
     "output_type": "stream",
     "text": [
      "\r",
      "Training for -600:  70%|██████▉   | 417/600 [03:24<01:28,  2.07it/s]"
     ]
    },
    {
     "name": "stderr",
     "output_type": "stream",
     "text": [
      "\r",
      "Training for -600:  70%|██████▉   | 418/600 [03:24<01:26,  2.10it/s]"
     ]
    },
    {
     "name": "stderr",
     "output_type": "stream",
     "text": [
      "\r",
      "Training for -600:  70%|██████▉   | 419/600 [03:25<01:25,  2.12it/s]"
     ]
    },
    {
     "name": "stderr",
     "output_type": "stream",
     "text": [
      "\r",
      "Training for -600:  70%|███████   | 420/600 [03:25<01:24,  2.14it/s]"
     ]
    },
    {
     "name": "stderr",
     "output_type": "stream",
     "text": [
      "\r",
      "Training for -600:  70%|███████   | 421/600 [03:25<01:24,  2.11it/s]"
     ]
    },
    {
     "name": "stderr",
     "output_type": "stream",
     "text": [
      "\r",
      "Training for -600:  70%|███████   | 422/600 [03:26<01:24,  2.11it/s]"
     ]
    },
    {
     "name": "stderr",
     "output_type": "stream",
     "text": [
      "\r",
      "Training for -600:  70%|███████   | 423/600 [03:26<01:24,  2.11it/s]"
     ]
    },
    {
     "name": "stderr",
     "output_type": "stream",
     "text": [
      "\r",
      "Training for -600:  71%|███████   | 424/600 [03:27<01:23,  2.12it/s]"
     ]
    },
    {
     "name": "stderr",
     "output_type": "stream",
     "text": [
      "\r",
      "Training for -600:  71%|███████   | 425/600 [03:27<01:22,  2.11it/s]"
     ]
    },
    {
     "name": "stderr",
     "output_type": "stream",
     "text": [
      "\r",
      "Training for -600:  71%|███████   | 426/600 [03:28<01:21,  2.13it/s]"
     ]
    },
    {
     "name": "stderr",
     "output_type": "stream",
     "text": [
      "\r",
      "Training for -600:  71%|███████   | 427/600 [03:28<01:21,  2.12it/s]"
     ]
    },
    {
     "name": "stderr",
     "output_type": "stream",
     "text": [
      "\r",
      "Training for -600:  71%|███████▏  | 428/600 [03:29<01:23,  2.06it/s]"
     ]
    },
    {
     "name": "stderr",
     "output_type": "stream",
     "text": [
      "\r",
      "Training for -600:  72%|███████▏  | 429/600 [03:29<01:24,  2.03it/s]"
     ]
    },
    {
     "name": "stderr",
     "output_type": "stream",
     "text": [
      "\r",
      "Training for -600:  72%|███████▏  | 430/600 [03:30<01:22,  2.06it/s]"
     ]
    },
    {
     "name": "stderr",
     "output_type": "stream",
     "text": [
      "\r",
      "Training for -600:  72%|███████▏  | 431/600 [03:30<01:20,  2.10it/s]"
     ]
    },
    {
     "name": "stderr",
     "output_type": "stream",
     "text": [
      "\r",
      "Training for -600:  72%|███████▏  | 432/600 [03:31<01:20,  2.10it/s]"
     ]
    },
    {
     "name": "stderr",
     "output_type": "stream",
     "text": [
      "\r",
      "Training for -600:  72%|███████▏  | 433/600 [03:31<01:19,  2.11it/s]"
     ]
    },
    {
     "name": "stderr",
     "output_type": "stream",
     "text": [
      "\r",
      "Training for -600:  72%|███████▏  | 434/600 [03:32<01:18,  2.12it/s]"
     ]
    },
    {
     "name": "stderr",
     "output_type": "stream",
     "text": [
      "\r",
      "Training for -600:  72%|███████▎  | 435/600 [03:32<01:19,  2.09it/s]"
     ]
    },
    {
     "name": "stderr",
     "output_type": "stream",
     "text": [
      "\r",
      "Training for -600:  73%|███████▎  | 436/600 [03:33<01:19,  2.05it/s]"
     ]
    },
    {
     "name": "stderr",
     "output_type": "stream",
     "text": [
      "\r",
      "Training for -600:  73%|███████▎  | 437/600 [03:33<01:18,  2.08it/s]"
     ]
    },
    {
     "name": "stderr",
     "output_type": "stream",
     "text": [
      "\r",
      "Training for -600:  73%|███████▎  | 438/600 [03:34<01:17,  2.10it/s]"
     ]
    },
    {
     "name": "stderr",
     "output_type": "stream",
     "text": [
      "\r",
      "Training for -600:  73%|███████▎  | 439/600 [03:34<01:15,  2.12it/s]"
     ]
    },
    {
     "name": "stderr",
     "output_type": "stream",
     "text": [
      "\r",
      "Training for -600:  73%|███████▎  | 440/600 [03:35<01:17,  2.06it/s]"
     ]
    },
    {
     "name": "stderr",
     "output_type": "stream",
     "text": [
      "\r",
      "Training for -600:  74%|███████▎  | 441/600 [03:35<01:20,  1.98it/s]"
     ]
    },
    {
     "name": "stderr",
     "output_type": "stream",
     "text": [
      "\r",
      "Training for -600:  74%|███████▎  | 442/600 [03:36<01:19,  2.00it/s]"
     ]
    },
    {
     "name": "stderr",
     "output_type": "stream",
     "text": [
      "\r",
      "Training for -600:  74%|███████▍  | 443/600 [03:36<01:17,  2.03it/s]"
     ]
    },
    {
     "name": "stderr",
     "output_type": "stream",
     "text": [
      "\r",
      "Training for -600:  74%|███████▍  | 444/600 [03:37<01:15,  2.06it/s]"
     ]
    },
    {
     "name": "stderr",
     "output_type": "stream",
     "text": [
      "\r",
      "Training for -600:  74%|███████▍  | 445/600 [03:37<01:14,  2.08it/s]"
     ]
    },
    {
     "name": "stderr",
     "output_type": "stream",
     "text": [
      "\r",
      "Training for -600:  74%|███████▍  | 446/600 [03:37<01:13,  2.11it/s]"
     ]
    },
    {
     "name": "stderr",
     "output_type": "stream",
     "text": [
      "\r",
      "Training for -600:  74%|███████▍  | 447/600 [03:38<01:12,  2.12it/s]"
     ]
    },
    {
     "name": "stderr",
     "output_type": "stream",
     "text": [
      "\r",
      "Training for -600:  75%|███████▍  | 448/600 [03:38<01:11,  2.13it/s]"
     ]
    },
    {
     "name": "stderr",
     "output_type": "stream",
     "text": [
      "\r",
      "Training for -600:  75%|███████▍  | 449/600 [03:39<01:12,  2.09it/s]"
     ]
    },
    {
     "name": "stderr",
     "output_type": "stream",
     "text": [
      "\r",
      "Training for -600:  75%|███████▌  | 450/600 [03:39<01:15,  1.98it/s]"
     ]
    },
    {
     "name": "stdout",
     "output_type": "stream",
     "text": [
      "step = 450: loss = 0.1633574217557907\n"
     ]
    },
    {
     "name": "stderr",
     "output_type": "stream",
     "text": [
      "\r",
      "Training for -600:  75%|███████▌  | 451/600 [03:40<01:13,  2.02it/s]"
     ]
    },
    {
     "name": "stderr",
     "output_type": "stream",
     "text": [
      "\r",
      "Training for -600:  75%|███████▌  | 452/600 [03:40<01:13,  2.01it/s]"
     ]
    },
    {
     "name": "stderr",
     "output_type": "stream",
     "text": [
      "\r",
      "Training for -600:  76%|███████▌  | 453/600 [03:41<01:13,  2.01it/s]"
     ]
    },
    {
     "name": "stderr",
     "output_type": "stream",
     "text": [
      "\r",
      "Training for -600:  76%|███████▌  | 454/600 [03:41<01:12,  2.02it/s]"
     ]
    },
    {
     "name": "stderr",
     "output_type": "stream",
     "text": [
      "\r",
      "Training for -600:  76%|███████▌  | 455/600 [03:42<01:10,  2.07it/s]"
     ]
    },
    {
     "name": "stderr",
     "output_type": "stream",
     "text": [
      "\r",
      "Training for -600:  76%|███████▌  | 456/600 [03:42<01:08,  2.10it/s]"
     ]
    },
    {
     "name": "stderr",
     "output_type": "stream",
     "text": [
      "\r",
      "Training for -600:  76%|███████▌  | 457/600 [03:43<01:07,  2.11it/s]"
     ]
    },
    {
     "name": "stderr",
     "output_type": "stream",
     "text": [
      "\r",
      "Training for -600:  76%|███████▋  | 458/600 [03:43<01:06,  2.13it/s]"
     ]
    },
    {
     "name": "stderr",
     "output_type": "stream",
     "text": [
      "\r",
      "Training for -600:  76%|███████▋  | 459/600 [03:44<01:05,  2.15it/s]"
     ]
    },
    {
     "name": "stderr",
     "output_type": "stream",
     "text": [
      "\r",
      "Training for -600:  77%|███████▋  | 460/600 [03:44<01:05,  2.15it/s]"
     ]
    },
    {
     "name": "stderr",
     "output_type": "stream",
     "text": [
      "\r",
      "Training for -600:  77%|███████▋  | 461/600 [03:45<01:04,  2.15it/s]"
     ]
    },
    {
     "name": "stderr",
     "output_type": "stream",
     "text": [
      "\r",
      "Training for -600:  77%|███████▋  | 462/600 [03:45<01:04,  2.13it/s]"
     ]
    },
    {
     "name": "stderr",
     "output_type": "stream",
     "text": [
      "\r",
      "Training for -600:  77%|███████▋  | 463/600 [03:46<01:05,  2.09it/s]"
     ]
    },
    {
     "name": "stderr",
     "output_type": "stream",
     "text": [
      "\r",
      "Training for -600:  77%|███████▋  | 464/600 [03:46<01:05,  2.08it/s]"
     ]
    },
    {
     "name": "stderr",
     "output_type": "stream",
     "text": [
      "\r",
      "Training for -600:  78%|███████▊  | 465/600 [03:47<01:06,  2.04it/s]"
     ]
    },
    {
     "name": "stderr",
     "output_type": "stream",
     "text": [
      "\r",
      "Training for -600:  78%|███████▊  | 466/600 [03:47<01:06,  2.01it/s]"
     ]
    },
    {
     "name": "stderr",
     "output_type": "stream",
     "text": [
      "\r",
      "Training for -600:  78%|███████▊  | 467/600 [03:48<01:04,  2.06it/s]"
     ]
    },
    {
     "name": "stderr",
     "output_type": "stream",
     "text": [
      "\r",
      "Training for -600:  78%|███████▊  | 468/600 [03:48<01:03,  2.09it/s]"
     ]
    },
    {
     "name": "stderr",
     "output_type": "stream",
     "text": [
      "\r",
      "Training for -600:  78%|███████▊  | 469/600 [03:49<01:02,  2.10it/s]"
     ]
    },
    {
     "name": "stderr",
     "output_type": "stream",
     "text": [
      "\r",
      "Training for -600:  78%|███████▊  | 470/600 [03:49<01:00,  2.13it/s]"
     ]
    },
    {
     "name": "stderr",
     "output_type": "stream",
     "text": [
      "\r",
      "Training for -600:  78%|███████▊  | 471/600 [03:49<01:00,  2.13it/s]"
     ]
    },
    {
     "name": "stderr",
     "output_type": "stream",
     "text": [
      "\r",
      "Training for -600:  79%|███████▊  | 472/600 [03:50<01:00,  2.13it/s]"
     ]
    },
    {
     "name": "stderr",
     "output_type": "stream",
     "text": [
      "\r",
      "Training for -600:  79%|███████▉  | 473/600 [03:50<00:59,  2.15it/s]"
     ]
    },
    {
     "name": "stderr",
     "output_type": "stream",
     "text": [
      "\r",
      "Training for -600:  79%|███████▉  | 474/600 [03:51<00:58,  2.15it/s]"
     ]
    },
    {
     "name": "stderr",
     "output_type": "stream",
     "text": [
      "\r",
      "Training for -600:  79%|███████▉  | 475/600 [03:51<00:58,  2.15it/s]"
     ]
    },
    {
     "name": "stderr",
     "output_type": "stream",
     "text": [
      "\r",
      "Training for -600:  79%|███████▉  | 476/600 [03:52<00:58,  2.12it/s]"
     ]
    },
    {
     "name": "stderr",
     "output_type": "stream",
     "text": [
      "\r",
      "Training for -600:  80%|███████▉  | 477/600 [03:52<00:58,  2.09it/s]"
     ]
    },
    {
     "name": "stderr",
     "output_type": "stream",
     "text": [
      "\r",
      "Training for -600:  80%|███████▉  | 478/600 [03:53<01:00,  2.03it/s]"
     ]
    },
    {
     "name": "stderr",
     "output_type": "stream",
     "text": [
      "\r",
      "Training for -600:  80%|███████▉  | 479/600 [03:53<00:59,  2.03it/s]"
     ]
    },
    {
     "name": "stderr",
     "output_type": "stream",
     "text": [
      "\r",
      "Training for -600:  80%|████████  | 480/600 [03:54<00:58,  2.05it/s]"
     ]
    },
    {
     "name": "stderr",
     "output_type": "stream",
     "text": [
      "\r",
      "Training for -600:  80%|████████  | 481/600 [03:54<00:57,  2.08it/s]"
     ]
    },
    {
     "name": "stderr",
     "output_type": "stream",
     "text": [
      "\r",
      "Training for -600:  80%|████████  | 482/600 [03:55<00:56,  2.08it/s]"
     ]
    },
    {
     "name": "stderr",
     "output_type": "stream",
     "text": [
      "\r",
      "Training for -600:  80%|████████  | 483/600 [03:55<00:55,  2.10it/s]"
     ]
    },
    {
     "name": "stderr",
     "output_type": "stream",
     "text": [
      "\r",
      "Training for -600:  81%|████████  | 484/600 [03:56<00:55,  2.10it/s]"
     ]
    },
    {
     "name": "stderr",
     "output_type": "stream",
     "text": [
      "\r",
      "Training for -600:  81%|████████  | 485/600 [03:56<00:54,  2.11it/s]"
     ]
    },
    {
     "name": "stderr",
     "output_type": "stream",
     "text": [
      "\r",
      "Training for -600:  81%|████████  | 486/600 [03:57<00:54,  2.11it/s]"
     ]
    },
    {
     "name": "stderr",
     "output_type": "stream",
     "text": [
      "\r",
      "Training for -600:  81%|████████  | 487/600 [03:57<00:53,  2.11it/s]"
     ]
    },
    {
     "name": "stderr",
     "output_type": "stream",
     "text": [
      "\r",
      "Training for -600:  81%|████████▏ | 488/600 [03:58<00:53,  2.10it/s]"
     ]
    },
    {
     "name": "stderr",
     "output_type": "stream",
     "text": [
      "\r",
      "Training for -600:  82%|████████▏ | 489/600 [03:58<00:53,  2.09it/s]"
     ]
    },
    {
     "name": "stderr",
     "output_type": "stream",
     "text": [
      "\r",
      "Training for -600:  82%|████████▏ | 490/600 [03:59<00:54,  2.02it/s]"
     ]
    },
    {
     "name": "stderr",
     "output_type": "stream",
     "text": [
      "\r",
      "Training for -600:  82%|████████▏ | 491/600 [03:59<00:54,  2.02it/s]"
     ]
    },
    {
     "name": "stderr",
     "output_type": "stream",
     "text": [
      "\r",
      "Training for -600:  82%|████████▏ | 492/600 [04:00<00:52,  2.06it/s]"
     ]
    },
    {
     "name": "stderr",
     "output_type": "stream",
     "text": [
      "\r",
      "Training for -600:  82%|████████▏ | 493/600 [04:00<00:51,  2.09it/s]"
     ]
    },
    {
     "name": "stderr",
     "output_type": "stream",
     "text": [
      "\r",
      "Training for -600:  82%|████████▏ | 494/600 [04:01<00:50,  2.12it/s]"
     ]
    },
    {
     "name": "stderr",
     "output_type": "stream",
     "text": [
      "\r",
      "Training for -600:  82%|████████▎ | 495/600 [04:01<00:49,  2.13it/s]"
     ]
    },
    {
     "name": "stderr",
     "output_type": "stream",
     "text": [
      "\r",
      "Training for -600:  83%|████████▎ | 496/600 [04:01<00:48,  2.15it/s]"
     ]
    },
    {
     "name": "stderr",
     "output_type": "stream",
     "text": [
      "\r",
      "Training for -600:  83%|████████▎ | 497/600 [04:02<00:47,  2.16it/s]"
     ]
    },
    {
     "name": "stderr",
     "output_type": "stream",
     "text": [
      "\r",
      "Training for -600:  83%|████████▎ | 498/600 [04:02<00:47,  2.16it/s]"
     ]
    },
    {
     "name": "stderr",
     "output_type": "stream",
     "text": [
      "\r",
      "Training for -600:  83%|████████▎ | 499/600 [04:03<00:46,  2.18it/s]"
     ]
    },
    {
     "name": "stderr",
     "output_type": "stream",
     "text": [
      "\r",
      "Training for -600:  83%|████████▎ | 500/600 [04:03<00:48,  2.06it/s]"
     ]
    },
    {
     "name": "stdout",
     "output_type": "stream",
     "text": [
      "step = 500: loss = 0.10009024292230606\n"
     ]
    },
    {
     "name": "stderr",
     "output_type": "stream",
     "text": [
      "\r",
      "Training for -600:  84%|████████▎ | 501/600 [04:04<00:47,  2.09it/s]"
     ]
    },
    {
     "name": "stderr",
     "output_type": "stream",
     "text": [
      "\r",
      "Training for -600:  84%|████████▎ | 502/600 [04:04<00:47,  2.06it/s]"
     ]
    },
    {
     "name": "stderr",
     "output_type": "stream",
     "text": [
      "\r",
      "Training for -600:  84%|████████▍ | 503/600 [04:05<00:48,  2.00it/s]"
     ]
    },
    {
     "name": "stderr",
     "output_type": "stream",
     "text": [
      "\r",
      "Training for -600:  84%|████████▍ | 504/600 [04:05<00:48,  1.99it/s]"
     ]
    },
    {
     "name": "stderr",
     "output_type": "stream",
     "text": [
      "\r",
      "Training for -600:  84%|████████▍ | 505/600 [04:06<00:47,  2.01it/s]"
     ]
    },
    {
     "name": "stderr",
     "output_type": "stream",
     "text": [
      "\r",
      "Training for -600:  84%|████████▍ | 506/600 [04:06<00:45,  2.06it/s]"
     ]
    },
    {
     "name": "stderr",
     "output_type": "stream",
     "text": [
      "\r",
      "Training for -600:  84%|████████▍ | 507/600 [04:07<00:44,  2.08it/s]"
     ]
    },
    {
     "name": "stderr",
     "output_type": "stream",
     "text": [
      "\r",
      "Training for -600:  85%|████████▍ | 508/600 [04:07<00:43,  2.11it/s]"
     ]
    },
    {
     "name": "stderr",
     "output_type": "stream",
     "text": [
      "\r",
      "Training for -600:  85%|████████▍ | 509/600 [04:08<00:42,  2.12it/s]"
     ]
    },
    {
     "name": "stderr",
     "output_type": "stream",
     "text": [
      "\r",
      "Training for -600:  85%|████████▌ | 510/600 [04:08<00:42,  2.14it/s]"
     ]
    },
    {
     "name": "stderr",
     "output_type": "stream",
     "text": [
      "\r",
      "Training for -600:  85%|████████▌ | 511/600 [04:09<00:41,  2.15it/s]"
     ]
    },
    {
     "name": "stderr",
     "output_type": "stream",
     "text": [
      "\r",
      "Training for -600:  85%|████████▌ | 512/600 [04:09<00:40,  2.16it/s]"
     ]
    },
    {
     "name": "stderr",
     "output_type": "stream",
     "text": [
      "\r",
      "Training for -600:  86%|████████▌ | 513/600 [04:10<00:40,  2.16it/s]"
     ]
    },
    {
     "name": "stderr",
     "output_type": "stream",
     "text": [
      "\r",
      "Training for -600:  86%|████████▌ | 514/600 [04:10<00:39,  2.17it/s]"
     ]
    },
    {
     "name": "stderr",
     "output_type": "stream",
     "text": [
      "\r",
      "Training for -600:  86%|████████▌ | 515/600 [04:10<00:40,  2.09it/s]"
     ]
    },
    {
     "name": "stderr",
     "output_type": "stream",
     "text": [
      "\r",
      "Training for -600:  86%|████████▌ | 516/600 [04:11<00:40,  2.06it/s]"
     ]
    },
    {
     "name": "stderr",
     "output_type": "stream",
     "text": [
      "\r",
      "Training for -600:  86%|████████▌ | 517/600 [04:11<00:40,  2.05it/s]"
     ]
    },
    {
     "name": "stderr",
     "output_type": "stream",
     "text": [
      "\r",
      "Training for -600:  86%|████████▋ | 518/600 [04:12<00:40,  2.04it/s]"
     ]
    },
    {
     "name": "stderr",
     "output_type": "stream",
     "text": [
      "\r",
      "Training for -600:  86%|████████▋ | 519/600 [04:12<00:39,  2.06it/s]"
     ]
    },
    {
     "name": "stderr",
     "output_type": "stream",
     "text": [
      "\r",
      "Training for -600:  87%|████████▋ | 520/600 [04:13<00:38,  2.09it/s]"
     ]
    },
    {
     "name": "stderr",
     "output_type": "stream",
     "text": [
      "\r",
      "Training for -600:  87%|████████▋ | 521/600 [04:13<00:37,  2.10it/s]"
     ]
    },
    {
     "name": "stderr",
     "output_type": "stream",
     "text": [
      "\r",
      "Training for -600:  87%|████████▋ | 522/600 [04:14<00:36,  2.11it/s]"
     ]
    },
    {
     "name": "stderr",
     "output_type": "stream",
     "text": [
      "\r",
      "Training for -600:  87%|████████▋ | 523/600 [04:14<00:36,  2.13it/s]"
     ]
    },
    {
     "name": "stderr",
     "output_type": "stream",
     "text": [
      "\r",
      "Training for -600:  87%|████████▋ | 524/600 [04:15<00:35,  2.13it/s]"
     ]
    },
    {
     "name": "stderr",
     "output_type": "stream",
     "text": [
      "\r",
      "Training for -600:  88%|████████▊ | 525/600 [04:15<00:35,  2.14it/s]"
     ]
    },
    {
     "name": "stderr",
     "output_type": "stream",
     "text": [
      "\r",
      "Training for -600:  88%|████████▊ | 526/600 [04:16<00:35,  2.11it/s]"
     ]
    },
    {
     "name": "stderr",
     "output_type": "stream",
     "text": [
      "\r",
      "Training for -600:  88%|████████▊ | 527/600 [04:16<00:34,  2.09it/s]"
     ]
    },
    {
     "name": "stderr",
     "output_type": "stream",
     "text": [
      "\r",
      "Training for -600:  88%|████████▊ | 528/600 [04:17<00:35,  2.02it/s]"
     ]
    },
    {
     "name": "stderr",
     "output_type": "stream",
     "text": [
      "\r",
      "Training for -600:  88%|████████▊ | 529/600 [04:17<00:35,  2.02it/s]"
     ]
    },
    {
     "name": "stderr",
     "output_type": "stream",
     "text": [
      "\r",
      "Training for -600:  88%|████████▊ | 530/600 [04:18<00:34,  2.05it/s]"
     ]
    },
    {
     "name": "stderr",
     "output_type": "stream",
     "text": [
      "\r",
      "Training for -600:  88%|████████▊ | 531/600 [04:18<00:33,  2.05it/s]"
     ]
    },
    {
     "name": "stderr",
     "output_type": "stream",
     "text": [
      "\r",
      "Training for -600:  89%|████████▊ | 532/600 [04:19<00:32,  2.06it/s]"
     ]
    },
    {
     "name": "stderr",
     "output_type": "stream",
     "text": [
      "\r",
      "Training for -600:  89%|████████▉ | 533/600 [04:19<00:32,  2.07it/s]"
     ]
    },
    {
     "name": "stderr",
     "output_type": "stream",
     "text": [
      "\r",
      "Training for -600:  89%|████████▉ | 534/600 [04:20<00:31,  2.09it/s]"
     ]
    },
    {
     "name": "stderr",
     "output_type": "stream",
     "text": [
      "\r",
      "Training for -600:  89%|████████▉ | 535/600 [04:20<00:30,  2.10it/s]"
     ]
    },
    {
     "name": "stderr",
     "output_type": "stream",
     "text": [
      "\r",
      "Training for -600:  89%|████████▉ | 536/600 [04:21<00:30,  2.12it/s]"
     ]
    },
    {
     "name": "stderr",
     "output_type": "stream",
     "text": [
      "\r",
      "Training for -600:  90%|████████▉ | 537/600 [04:21<00:29,  2.13it/s]"
     ]
    },
    {
     "name": "stderr",
     "output_type": "stream",
     "text": [
      "\r",
      "Training for -600:  90%|████████▉ | 538/600 [04:21<00:28,  2.14it/s]"
     ]
    },
    {
     "name": "stderr",
     "output_type": "stream",
     "text": [
      "\r",
      "Training for -600:  90%|████████▉ | 539/600 [04:22<00:28,  2.15it/s]"
     ]
    },
    {
     "name": "stderr",
     "output_type": "stream",
     "text": [
      "\r",
      "Training for -600:  90%|█████████ | 540/600 [04:22<00:28,  2.09it/s]"
     ]
    },
    {
     "name": "stderr",
     "output_type": "stream",
     "text": [
      "\r",
      "Training for -600:  90%|█████████ | 541/600 [04:23<00:28,  2.05it/s]"
     ]
    },
    {
     "name": "stderr",
     "output_type": "stream",
     "text": [
      "\r",
      "Training for -600:  90%|█████████ | 542/600 [04:23<00:28,  2.06it/s]"
     ]
    },
    {
     "name": "stderr",
     "output_type": "stream",
     "text": [
      "\r",
      "Training for -600:  90%|█████████ | 543/600 [04:24<00:27,  2.06it/s]"
     ]
    },
    {
     "name": "stderr",
     "output_type": "stream",
     "text": [
      "\r",
      "Training for -600:  91%|█████████ | 544/600 [04:24<00:27,  2.07it/s]"
     ]
    },
    {
     "name": "stderr",
     "output_type": "stream",
     "text": [
      "\r",
      "Training for -600:  91%|█████████ | 545/600 [04:25<00:26,  2.07it/s]"
     ]
    },
    {
     "name": "stderr",
     "output_type": "stream",
     "text": [
      "\r",
      "Training for -600:  91%|█████████ | 546/600 [04:25<00:26,  2.06it/s]"
     ]
    },
    {
     "name": "stderr",
     "output_type": "stream",
     "text": [
      "\r",
      "Training for -600:  91%|█████████ | 547/600 [04:26<00:25,  2.07it/s]"
     ]
    },
    {
     "name": "stderr",
     "output_type": "stream",
     "text": [
      "\r",
      "Training for -600:  91%|█████████▏| 548/600 [04:26<00:24,  2.08it/s]"
     ]
    },
    {
     "name": "stderr",
     "output_type": "stream",
     "text": [
      "\r",
      "Training for -600:  92%|█████████▏| 549/600 [04:27<00:24,  2.10it/s]"
     ]
    },
    {
     "name": "stderr",
     "output_type": "stream",
     "text": [
      "\r",
      "Training for -600:  92%|█████████▏| 550/600 [04:27<00:24,  2.01it/s]"
     ]
    },
    {
     "name": "stdout",
     "output_type": "stream",
     "text": [
      "step = 550: loss = 0.11934714764356613\n"
     ]
    },
    {
     "name": "stderr",
     "output_type": "stream",
     "text": [
      "\r",
      "Training for -600:  92%|█████████▏| 551/600 [04:28<00:24,  2.04it/s]"
     ]
    },
    {
     "name": "stderr",
     "output_type": "stream",
     "text": [
      "\r",
      "Training for -600:  92%|█████████▏| 552/600 [04:28<00:23,  2.03it/s]"
     ]
    },
    {
     "name": "stderr",
     "output_type": "stream",
     "text": [
      "\r",
      "Training for -600:  92%|█████████▏| 553/600 [04:29<00:23,  1.99it/s]"
     ]
    },
    {
     "name": "stderr",
     "output_type": "stream",
     "text": [
      "\r",
      "Training for -600:  92%|█████████▏| 554/600 [04:29<00:22,  2.01it/s]"
     ]
    },
    {
     "name": "stderr",
     "output_type": "stream",
     "text": [
      "\r",
      "Training for -600:  92%|█████████▎| 555/600 [04:30<00:22,  2.04it/s]"
     ]
    },
    {
     "name": "stderr",
     "output_type": "stream",
     "text": [
      "\r",
      "Training for -600:  93%|█████████▎| 556/600 [04:30<00:21,  2.07it/s]"
     ]
    },
    {
     "name": "stderr",
     "output_type": "stream",
     "text": [
      "\r",
      "Training for -600:  93%|█████████▎| 557/600 [04:31<00:20,  2.07it/s]"
     ]
    },
    {
     "name": "stderr",
     "output_type": "stream",
     "text": [
      "\r",
      "Training for -600:  93%|█████████▎| 558/600 [04:31<00:20,  2.04it/s]"
     ]
    },
    {
     "name": "stderr",
     "output_type": "stream",
     "text": [
      "\r",
      "Training for -600:  93%|█████████▎| 559/600 [04:32<00:20,  2.02it/s]"
     ]
    },
    {
     "name": "stderr",
     "output_type": "stream",
     "text": [
      "\r",
      "Training for -600:  93%|█████████▎| 560/600 [04:32<00:19,  2.05it/s]"
     ]
    },
    {
     "name": "stderr",
     "output_type": "stream",
     "text": [
      "\r",
      "Training for -600:  94%|█████████▎| 561/600 [04:33<00:18,  2.07it/s]"
     ]
    },
    {
     "name": "stderr",
     "output_type": "stream",
     "text": [
      "\r",
      "Training for -600:  94%|█████████▎| 562/600 [04:33<00:18,  2.08it/s]"
     ]
    },
    {
     "name": "stderr",
     "output_type": "stream",
     "text": [
      "\r",
      "Training for -600:  94%|█████████▍| 563/600 [04:34<00:17,  2.10it/s]"
     ]
    },
    {
     "name": "stderr",
     "output_type": "stream",
     "text": [
      "\r",
      "Training for -600:  94%|█████████▍| 564/600 [04:34<00:17,  2.04it/s]"
     ]
    },
    {
     "name": "stderr",
     "output_type": "stream",
     "text": [
      "\r",
      "Training for -600:  94%|█████████▍| 565/600 [04:35<00:17,  2.00it/s]"
     ]
    },
    {
     "name": "stderr",
     "output_type": "stream",
     "text": [
      "\r",
      "Training for -600:  94%|█████████▍| 566/600 [04:35<00:17,  1.99it/s]"
     ]
    },
    {
     "name": "stderr",
     "output_type": "stream",
     "text": [
      "\r",
      "Training for -600:  94%|█████████▍| 567/600 [04:36<00:16,  2.02it/s]"
     ]
    },
    {
     "name": "stderr",
     "output_type": "stream",
     "text": [
      "\r",
      "Training for -600:  95%|█████████▍| 568/600 [04:36<00:15,  2.05it/s]"
     ]
    },
    {
     "name": "stderr",
     "output_type": "stream",
     "text": [
      "\r",
      "Training for -600:  95%|█████████▍| 569/600 [04:37<00:15,  2.07it/s]"
     ]
    },
    {
     "name": "stderr",
     "output_type": "stream",
     "text": [
      "\r",
      "Training for -600:  95%|█████████▌| 570/600 [04:37<00:14,  2.07it/s]"
     ]
    },
    {
     "name": "stderr",
     "output_type": "stream",
     "text": [
      "\r",
      "Training for -600:  95%|█████████▌| 571/600 [04:38<00:14,  2.07it/s]"
     ]
    },
    {
     "name": "stderr",
     "output_type": "stream",
     "text": [
      "\r",
      "Training for -600:  95%|█████████▌| 572/600 [04:38<00:13,  2.05it/s]"
     ]
    },
    {
     "name": "stderr",
     "output_type": "stream",
     "text": [
      "\r",
      "Training for -600:  96%|█████████▌| 573/600 [04:39<00:13,  2.07it/s]"
     ]
    },
    {
     "name": "stderr",
     "output_type": "stream",
     "text": [
      "\r",
      "Training for -600:  96%|█████████▌| 574/600 [04:39<00:12,  2.07it/s]"
     ]
    },
    {
     "name": "stderr",
     "output_type": "stream",
     "text": [
      "\r",
      "Training for -600:  96%|█████████▌| 575/600 [04:40<00:11,  2.09it/s]"
     ]
    },
    {
     "name": "stderr",
     "output_type": "stream",
     "text": [
      "\r",
      "Training for -600:  96%|█████████▌| 576/600 [04:40<00:11,  2.11it/s]"
     ]
    },
    {
     "name": "stderr",
     "output_type": "stream",
     "text": [
      "\r",
      "Training for -600:  96%|█████████▌| 577/600 [04:41<00:11,  2.05it/s]"
     ]
    },
    {
     "name": "stderr",
     "output_type": "stream",
     "text": [
      "\r",
      "Training for -600:  96%|█████████▋| 578/600 [04:41<00:10,  2.02it/s]"
     ]
    },
    {
     "name": "stderr",
     "output_type": "stream",
     "text": [
      "\r",
      "Training for -600:  96%|█████████▋| 579/600 [04:42<00:10,  2.03it/s]"
     ]
    },
    {
     "name": "stderr",
     "output_type": "stream",
     "text": [
      "\r",
      "Training for -600:  97%|█████████▋| 580/600 [04:42<00:09,  2.05it/s]"
     ]
    },
    {
     "name": "stderr",
     "output_type": "stream",
     "text": [
      "\r",
      "Training for -600:  97%|█████████▋| 581/600 [04:42<00:09,  2.07it/s]"
     ]
    },
    {
     "name": "stderr",
     "output_type": "stream",
     "text": [
      "\r",
      "Training for -600:  97%|█████████▋| 582/600 [04:43<00:08,  2.09it/s]"
     ]
    },
    {
     "name": "stderr",
     "output_type": "stream",
     "text": [
      "\r",
      "Training for -600:  97%|█████████▋| 583/600 [04:43<00:08,  2.10it/s]"
     ]
    },
    {
     "name": "stderr",
     "output_type": "stream",
     "text": [
      "\r",
      "Training for -600:  97%|█████████▋| 584/600 [04:44<00:07,  2.08it/s]"
     ]
    },
    {
     "name": "stderr",
     "output_type": "stream",
     "text": [
      "\r",
      "Training for -600:  98%|█████████▊| 585/600 [04:44<00:07,  2.06it/s]"
     ]
    },
    {
     "name": "stderr",
     "output_type": "stream",
     "text": [
      "\r",
      "Training for -600:  98%|█████████▊| 586/600 [04:45<00:06,  2.07it/s]"
     ]
    },
    {
     "name": "stderr",
     "output_type": "stream",
     "text": [
      "\r",
      "Training for -600:  98%|█████████▊| 587/600 [04:45<00:06,  2.10it/s]"
     ]
    },
    {
     "name": "stderr",
     "output_type": "stream",
     "text": [
      "\r",
      "Training for -600:  98%|█████████▊| 588/600 [04:46<00:05,  2.09it/s]"
     ]
    },
    {
     "name": "stderr",
     "output_type": "stream",
     "text": [
      "\r",
      "Training for -600:  98%|█████████▊| 589/600 [04:46<00:05,  2.07it/s]"
     ]
    },
    {
     "name": "stderr",
     "output_type": "stream",
     "text": [
      "\r",
      "Training for -600:  98%|█████████▊| 590/600 [04:47<00:04,  2.02it/s]"
     ]
    },
    {
     "name": "stderr",
     "output_type": "stream",
     "text": [
      "\r",
      "Training for -600:  98%|█████████▊| 591/600 [04:47<00:04,  2.03it/s]"
     ]
    },
    {
     "name": "stderr",
     "output_type": "stream",
     "text": [
      "\r",
      "Training for -600:  99%|█████████▊| 592/600 [04:48<00:03,  2.07it/s]"
     ]
    },
    {
     "name": "stderr",
     "output_type": "stream",
     "text": [
      "\r",
      "Training for -600:  99%|█████████▉| 593/600 [04:48<00:03,  2.08it/s]"
     ]
    },
    {
     "name": "stderr",
     "output_type": "stream",
     "text": [
      "\r",
      "Training for -600:  99%|█████████▉| 594/600 [04:49<00:02,  2.10it/s]"
     ]
    },
    {
     "name": "stderr",
     "output_type": "stream",
     "text": [
      "\r",
      "Training for -600:  99%|█████████▉| 595/600 [04:49<00:02,  2.10it/s]"
     ]
    },
    {
     "name": "stderr",
     "output_type": "stream",
     "text": [
      "\r",
      "Training for -600:  99%|█████████▉| 596/600 [04:50<00:01,  2.11it/s]"
     ]
    },
    {
     "name": "stderr",
     "output_type": "stream",
     "text": [
      "\r",
      "Training for -600: 100%|█████████▉| 597/600 [04:50<00:01,  2.09it/s]"
     ]
    },
    {
     "name": "stderr",
     "output_type": "stream",
     "text": [
      "\r",
      "Training for -600: 100%|█████████▉| 598/600 [04:51<00:00,  2.08it/s]"
     ]
    },
    {
     "name": "stderr",
     "output_type": "stream",
     "text": [
      "\r",
      "Training for -600: 100%|█████████▉| 599/600 [04:51<00:00,  2.06it/s]"
     ]
    },
    {
     "name": "stderr",
     "output_type": "stream",
     "text": [
      "\r",
      "Training for -600: 100%|██████████| 600/600 [04:52<00:00,  1.97it/s]"
     ]
    },
    {
     "name": "stderr",
     "output_type": "stream",
     "text": [
      "\r",
      "Training for -600: 100%|██████████| 600/600 [04:52<00:00,  2.05it/s]"
     ]
    },
    {
     "name": "stdout",
     "output_type": "stream",
     "text": [
      "step = 600: loss = 0.13930827379226685\n",
      "\n",
      "Training completed. Loss: 0.3070\n"
     ]
    },
    {
     "name": "stderr",
     "output_type": "stream",
     "text": [
      "\n"
     ]
    },
    {
     "name": "stderr",
     "output_type": "stream",
     "text": [
      "WARNING:absl:`0/step_type` is not a valid tf.function parameter name. Sanitizing to `arg_0_step_type`.\n"
     ]
    },
    {
     "name": "stderr",
     "output_type": "stream",
     "text": [
      "WARNING:absl:`0/reward` is not a valid tf.function parameter name. Sanitizing to `arg_0_reward`.\n"
     ]
    },
    {
     "name": "stderr",
     "output_type": "stream",
     "text": [
      "WARNING:absl:`0/discount` is not a valid tf.function parameter name. Sanitizing to `arg_0_discount`.\n"
     ]
    },
    {
     "name": "stderr",
     "output_type": "stream",
     "text": [
      "WARNING:absl:`0/observation` is not a valid tf.function parameter name. Sanitizing to `arg_0_observation`.\n"
     ]
    },
    {
     "name": "stderr",
     "output_type": "stream",
     "text": [
      "WARNING:absl:`0/step_type` is not a valid tf.function parameter name. Sanitizing to `arg_0_step_type`.\n"
     ]
    },
    {
     "name": "stdout",
     "output_type": "stream",
     "text": [
      "INFO:tensorflow:Assets written to: ./models/policy/assets\n"
     ]
    },
    {
     "name": "stderr",
     "output_type": "stream",
     "text": [
      "INFO:tensorflow:Assets written to: ./models/policy/assets\n"
     ]
    },
    {
     "name": "stdout",
     "output_type": "stream",
     "text": [
      "Archived ./models into /kaggle/working/models/model_files.zip\n",
      "Policy saved\n"
     ]
    },
    {
     "name": "stderr",
     "output_type": "stream",
     "text": [
      "[reverb/cc/platform/default/server.cc:84] Shutting down replay server\n"
     ]
    },
    {
     "data": {
      "image/png": "[encoded data removed]",
      "text/plain": [
       "<Figure size 1800x400 with 1 Axes>"
      ]
     },
     "metadata": {},
     "output_type": "display_data"
    },
    {
     "name": "stderr",
     "output_type": "stream",
     "text": [
      "\r",
      "Eval for 25:   0%|          | 0/25 [00:00<?, ?it/s]"
     ]
    },
    {
     "name": "stderr",
     "output_type": "stream",
     "text": [
      "\r",
      "Eval for 25:   4%|▍         | 1/25 [00:11<04:41, 11.73s/it]"
     ]
    },
    {
     "name": "stderr",
     "output_type": "stream",
     "text": [
      "\r",
      "Eval for 25:   8%|▊         | 2/25 [00:13<02:09,  5.64s/it]"
     ]
    },
    {
     "name": "stderr",
     "output_type": "stream",
     "text": [
      "\r",
      "Eval for 25:  12%|█▏        | 3/25 [00:14<01:21,  3.72s/it]"
     ]
    },
    {
     "name": "stderr",
     "output_type": "stream",
     "text": [
      "\r",
      "Eval for 25:  16%|█▌        | 4/25 [00:16<00:59,  2.85s/it]"
     ]
    },
    {
     "name": "stderr",
     "output_type": "stream",
     "text": [
      "\r",
      "Eval for 25:  20%|██        | 5/25 [00:17<00:46,  2.31s/it]"
     ]
    },
    {
     "name": "stderr",
     "output_type": "stream",
     "text": [
      "\r",
      "Eval for 25:  24%|██▍       | 6/25 [00:18<00:37,  1.98s/it]"
     ]
    },
    {
     "name": "stderr",
     "output_type": "stream",
     "text": [
      "\r",
      "Eval for 25:  28%|██▊       | 7/25 [00:20<00:32,  1.80s/it]"
     ]
    },
    {
     "name": "stderr",
     "output_type": "stream",
     "text": [
      "\r",
      "Eval for 25:  32%|███▏      | 8/25 [00:21<00:29,  1.71s/it]"
     ]
    },
    {
     "name": "stderr",
     "output_type": "stream",
     "text": [
      "\r",
      "Eval for 25:  36%|███▌      | 9/25 [00:23<00:25,  1.62s/it]"
     ]
    },
    {
     "name": "stderr",
     "output_type": "stream",
     "text": [
      "\r",
      "Eval for 25:  40%|████      | 10/25 [00:24<00:23,  1.54s/it]"
     ]
    },
    {
     "name": "stderr",
     "output_type": "stream",
     "text": [
      "\r",
      "Eval for 25:  44%|████▍     | 11/25 [00:25<00:20,  1.48s/it]"
     ]
    },
    {
     "name": "stderr",
     "output_type": "stream",
     "text": [
      "\r",
      "Eval for 25:  48%|████▊     | 12/25 [00:27<00:19,  1.48s/it]"
     ]
    },
    {
     "name": "stderr",
     "output_type": "stream",
     "text": [
      "\r",
      "Eval for 25:  52%|█████▏    | 13/25 [00:28<00:17,  1.46s/it]"
     ]
    },
    {
     "name": "stderr",
     "output_type": "stream",
     "text": [
      "\r",
      "Eval for 25:  56%|█████▌    | 14/25 [00:30<00:15,  1.43s/it]"
     ]
    },
    {
     "name": "stderr",
     "output_type": "stream",
     "text": [
      "\r",
      "Eval for 25:  60%|██████    | 15/25 [00:31<00:14,  1.41s/it]"
     ]
    },
    {
     "name": "stderr",
     "output_type": "stream",
     "text": [
      "\r",
      "Eval for 25:  64%|██████▍   | 16/25 [00:32<00:12,  1.41s/it]"
     ]
    },
    {
     "name": "stderr",
     "output_type": "stream",
     "text": [
      "\r",
      "Eval for 25:  68%|██████▊   | 17/25 [00:34<00:11,  1.42s/it]"
     ]
    },
    {
     "name": "stderr",
     "output_type": "stream",
     "text": [
      "\r",
      "Eval for 25:  72%|███████▏  | 18/25 [00:35<00:09,  1.42s/it]"
     ]
    },
    {
     "name": "stderr",
     "output_type": "stream",
     "text": [
      "\r",
      "Eval for 25:  76%|███████▌  | 19/25 [00:37<00:08,  1.40s/it]"
     ]
    },
    {
     "name": "stderr",
     "output_type": "stream",
     "text": [
      "\r",
      "Eval for 25:  80%|████████  | 20/25 [00:38<00:07,  1.40s/it]"
     ]
    },
    {
     "name": "stderr",
     "output_type": "stream",
     "text": [
      "\r",
      "Eval for 25:  84%|████████▍ | 21/25 [00:39<00:05,  1.41s/it]"
     ]
    },
    {
     "name": "stderr",
     "output_type": "stream",
     "text": [
      "\r",
      "Eval for 25:  88%|████████▊ | 22/25 [00:41<00:04,  1.41s/it]"
     ]
    },
    {
     "name": "stderr",
     "output_type": "stream",
     "text": [
      "\r",
      "Eval for 25:  92%|█████████▏| 23/25 [00:42<00:02,  1.40s/it]"
     ]
    },
    {
     "name": "stderr",
     "output_type": "stream",
     "text": [
      "\r",
      "Eval for 25:  96%|█████████▌| 24/25 [00:44<00:01,  1.39s/it]"
     ]
    },
    {
     "name": "stderr",
     "output_type": "stream",
     "text": [
      "\r",
      "Eval for 25: 100%|██████████| 25/25 [00:45<00:00,  1.41s/it]"
     ]
    },
    {
     "name": "stderr",
     "output_type": "stream",
     "text": [
      "\r",
      "Eval for 25: 100%|██████████| 25/25 [00:45<00:00,  1.82s/it]"
     ]
    },
    {
     "name": "stderr",
     "output_type": "stream",
     "text": [
      "\n"
     ]
    }
   ],
   "source": [
    "def train():\n",
    "  with strategy.scope():\n",
    "    loss = sim.train()\n",
    "    sim.plot_performance(loss)\n",
    "    sim.eval_metrics(25)\n",
    "# Uncomment this for a new run to remove previously saved policies and checkpoints\n",
    "sim.clear_directories()\n",
    "train()"
   ]
  },
  {
   "cell_type": "code",
   "execution_count": 13,
   "id": "d819ecb4",
   "metadata": {
    "execution": {
     "iopub.execute_input": "2024-03-16T01:46:06.345710Z",
     "iopub.status.busy": "2024-03-16T01:46:06.345068Z",
     "iopub.status.idle": "2024-03-16T01:46:08.625804Z",
     "shell.execute_reply": "2024-03-16T01:46:08.624945Z"
    },
    "executionInfo": {
     "elapsed": 5,
     "status": "aborted",
     "timestamp": 1710411543205,
     "user": {
      "displayName": "Adam Darmanin",
      "userId": "00262451996831505471"
     },
     "user_tz": -60
    },
    "id": "SM6Lz_mSylZw",
    "papermill": {
     "duration": 2.333748,
     "end_time": "2024-03-16T01:46:08.627630",
     "exception": false,
     "start_time": "2024-03-16T01:46:06.293882",
     "status": "completed"
    },
    "tags": []
   },
   "outputs": [
    {
     "name": "stderr",
     "output_type": "stream",
     "text": [
      "\r",
      "Eval for 1:   0%|          | 0/1 [00:00<?, ?it/s]"
     ]
    },
    {
     "name": "stderr",
     "output_type": "stream",
     "text": [
      "\r",
      "Eval for 1: 100%|██████████| 1/1 [00:01<00:00,  1.77s/it]"
     ]
    },
    {
     "name": "stderr",
     "output_type": "stream",
     "text": [
      "\r",
      "Eval for 1: 100%|██████████| 1/1 [00:01<00:00,  1.77s/it]"
     ]
    },
    {
     "name": "stdout",
     "output_type": "stream",
     "text": [
      "Average Return = -0.40871018171310425, Total Return = -1.0, Sharpe = -0.8592633605003357\n"
     ]
    },
    {
     "name": "stderr",
     "output_type": "stream",
     "text": [
      "\n"
     ]
    }
   ],
   "source": [
    "with strategy.scope():\n",
    "    sim.load_and_eval_policy(policy_path=MODELS_PATH)"
   ]
  },
  {
   "cell_type": "code",
   "execution_count": 14,
   "id": "14b38526",
   "metadata": {
    "execution": {
     "iopub.execute_input": "2024-03-16T01:46:08.730175Z",
     "iopub.status.busy": "2024-03-16T01:46:08.729636Z",
     "iopub.status.idle": "2024-03-16T01:46:08.836910Z",
     "shell.execute_reply": "2024-03-16T01:46:08.836229Z"
    },
    "papermill": {
     "duration": 0.159955,
     "end_time": "2024-03-16T01:46:08.838525",
     "exception": false,
     "start_time": "2024-03-16T01:46:08.678570",
     "status": "completed"
    },
    "tags": []
   },
   "outputs": [
    {
     "data": {
      "text/plain": [
       "{'Annualized Return': -0.027315285822768605,\n",
       " 'Annualized Vol': 0.4300759259488308,\n",
       " 'Sharpe Ratio': -0.1769691556297558,\n",
       " 'Downside Deviation': 0.3262126550682066,\n",
       " 'Sortino Ratio': -0.0009258515671043396,\n",
       " 'Max Drawdown': -0.4965086211607602,\n",
       " 'Max Drawdown Days': 210,\n",
       " 'Trade Churn': 0.0,\n",
       " 'Skewness': -0.054940856526359404,\n",
       " 'Kurtosis': 5.079615173672956}"
      ]
     },
     "execution_count": 14,
     "metadata": {},
     "output_type": "execute_result"
    }
   ],
   "source": [
    "test_env.get_trade_stats()"
   ]
  },
  {
   "cell_type": "markdown",
   "id": "bed47739",
   "metadata": {
    "papermill": {
     "duration": 0.049371,
     "end_time": "2024-03-16T01:46:08.937715",
     "exception": false,
     "start_time": "2024-03-16T01:46:08.888344",
     "status": "completed"
    },
    "tags": []
   },
   "source": [
    "# Metrics\n",
    "\n",
    "Our baseine metrics are below:\n",
    "```json\n",
    "{'Annualized Return': 0.14078575066760193,\n",
    " 'Annualized Vol': 0.49574842484791937,\n",
    " 'Sharpe Ratio': 0.18555956692497932,\n",
    " 'Downside Deviation': 0.37052224203081857,\n",
    " 'Sortino Ratio': 0.000985212399707947,\n",
    " 'Max Drawdown': -0.46389763370003145,\n",
    " 'Max Drawdown Days': 394,\n",
    " 'Trade Churn': 0.0,\n",
    " 'Skewness': 0.035579521102068995,\n",
    " 'Kurtosis': 5.3966430486047585}\n",
    "```\n",
    "\n",
    "Compared the the paper's benchmarks and their TQDM architecture, we did better with our Tensorflow setup and architecture (we took a guess at some hyper params), with the exception of the drawdown duration, Sharpe, and Sortino ratios:\n",
    "\n",
    "| Metric                 | Article Baseline       | B&H               | S&H              | TF                | MR               | TDQN Benchmark   | \n",
    "|------------------------|------------------------|-------------------|------------------|-------------------|------------------|------------------|\n",
    "| Annualized Return      | 14.08%                 | 24.11%            | -7.38%           | -100.00%          | 19.02%           | 12.80%           | \n",
    "| Annualized Vol         | 49.57%                 | 53.14%            | 46.11%           | 52.70%            | 58.05%           | 52.09%           | \n",
    "| Sharpe Ratio           | 0.186                  | 0.508             | -0.154           | -0.987            | 0.358            | 0.261            | \n",
    "| Sortino Ratio          | 0.0010                 | 0.741             | -0.205           | -1.229            | 0.539            | 0.359            | \n",
    "| Max Drawdown           | -46.39%                | 52.83%            | 54.09%           | 79.91%            | 65.31%           | 58.95%           | \n",
    "| Max Drawdown Days      | 394                    | 205               | 144              | 229               | 159              | 331              | \n",
    "| Trade Churn            | 0.00%                  | -                 | -                | -                 | -                | -                | \n",
    "| Skewness               | 0.036                  | -                 | -                | -                 | -                | -                | \n",
    "| Kurtosis               | 5.397                  | -                 | -                | -                 | -                | -                | \n"
   ]
  },
  {
   "cell_type": "code",
   "execution_count": 15,
   "id": "04591847",
   "metadata": {
    "execution": {
     "iopub.execute_input": "2024-03-16T01:46:09.038531Z",
     "iopub.status.busy": "2024-03-16T01:46:09.037909Z",
     "iopub.status.idle": "2024-03-16T01:46:14.022848Z",
     "shell.execute_reply": "2024-03-16T01:46:14.021950Z"
    },
    "executionInfo": {
     "elapsed": 6,
     "status": "aborted",
     "timestamp": 1710411543206,
     "user": {
      "displayName": "Adam Darmanin",
      "userId": "00262451996831505471"
     },
     "user_tz": -60
    },
    "id": "fYL1ny9Etuu8",
    "papermill": {
     "duration": 5.03877,
     "end_time": "2024-03-16T01:46:14.025969",
     "exception": false,
     "start_time": "2024-03-16T01:46:08.987199",
     "status": "completed"
    },
    "tags": []
   },
   "outputs": [
    {
     "name": "stdout",
     "output_type": "stream",
     "text": [
      "Live episode started...\n"
     ]
    },
    {
     "name": "stderr",
     "output_type": "stream",
     "text": [
      "\r",
      "Steps executed: 0it [00:00, ?it/s]"
     ]
    },
    {
     "name": "stderr",
     "output_type": "stream",
     "text": [
      "\r",
      "Steps executed: 10it [00:00, 96.48it/s]"
     ]
    },
    {
     "name": "stderr",
     "output_type": "stream",
     "text": [
      "\r",
      "Steps executed: 31it [00:00, 160.04it/s]"
     ]
    },
    {
     "name": "stderr",
     "output_type": "stream",
     "text": [
      "\r",
      "Steps executed: 53it [00:00, 184.14it/s]"
     ]
    },
    {
     "name": "stderr",
     "output_type": "stream",
     "text": [
      "\r",
      "Steps executed: 76it [00:00, 198.62it/s]"
     ]
    },
    {
     "name": "stderr",
     "output_type": "stream",
     "text": [
      "\r",
      "Steps executed: 99it [00:00, 207.25it/s]"
     ]
    },
    {
     "name": "stderr",
     "output_type": "stream",
     "text": [
      "\r",
      "Steps executed: 122it [00:00, 214.66it/s]"
     ]
    },
    {
     "name": "stderr",
     "output_type": "stream",
     "text": [
      "\r",
      "Steps executed: 146it [00:00, 220.74it/s]"
     ]
    },
    {
     "name": "stderr",
     "output_type": "stream",
     "text": [
      "\r",
      "Steps executed: 170it [00:00, 224.28it/s]"
     ]
    },
    {
     "name": "stderr",
     "output_type": "stream",
     "text": [
      "\r",
      "Steps executed: 194it [00:00, 227.70it/s]"
     ]
    },
    {
     "name": "stderr",
     "output_type": "stream",
     "text": [
      "\r",
      "Steps executed: 218it [00:01, 230.05it/s]"
     ]
    },
    {
     "name": "stderr",
     "output_type": "stream",
     "text": [
      "\r",
      "Steps executed: 242it [00:01, 230.39it/s]"
     ]
    },
    {
     "name": "stderr",
     "output_type": "stream",
     "text": [
      "\r",
      "Steps executed: 266it [00:01, 229.85it/s]"
     ]
    },
    {
     "name": "stderr",
     "output_type": "stream",
     "text": [
      "\r",
      "Steps executed: 289it [00:01, 228.55it/s]"
     ]
    },
    {
     "name": "stderr",
     "output_type": "stream",
     "text": [
      "\r",
      "Steps executed: 313it [00:01, 230.82it/s]"
     ]
    },
    {
     "name": "stderr",
     "output_type": "stream",
     "text": [
      "\r",
      "Steps executed: 337it [00:01, 231.44it/s]"
     ]
    },
    {
     "name": "stderr",
     "output_type": "stream",
     "text": [
      "\r",
      "Steps executed: 361it [00:01, 232.02it/s]"
     ]
    },
    {
     "name": "stderr",
     "output_type": "stream",
     "text": [
      "\r",
      "Steps executed: 385it [00:01, 231.82it/s]"
     ]
    },
    {
     "name": "stderr",
     "output_type": "stream",
     "text": [
      "\r",
      "Steps executed: 409it [00:01, 225.36it/s]"
     ]
    },
    {
     "name": "stderr",
     "output_type": "stream",
     "text": [
      "\r",
      "Steps executed: 432it [00:01, 219.16it/s]"
     ]
    },
    {
     "name": "stderr",
     "output_type": "stream",
     "text": [
      "\r",
      "Steps executed: 454it [00:02, 217.46it/s]"
     ]
    },
    {
     "name": "stderr",
     "output_type": "stream",
     "text": [
      "\r",
      "Steps executed: 471it [00:02, 217.77it/s]"
     ]
    },
    {
     "name": "stderr",
     "output_type": "stream",
     "text": [
      "\n"
     ]
    },
    {
     "name": "stdout",
     "output_type": "stream",
     "text": [
      "...Live episode finished\n"
     ]
    },
    {
     "data": {
      "image/png": "[encoded data removed]",
      "text/plain": [
       "<Figure size 1800x1200 with 4 Axes>"
      ]
     },
     "metadata": {},
     "output_type": "display_data"
    }
   ],
   "source": [
    "data = sim.plot_returns_and_actions()"
   ]
  },
  {
   "cell_type": "code",
   "execution_count": 16,
   "id": "da96fbfe",
   "metadata": {
    "execution": {
     "iopub.execute_input": "2024-03-16T01:46:14.137341Z",
     "iopub.status.busy": "2024-03-16T01:46:14.136583Z",
     "iopub.status.idle": "2024-03-16T01:46:14.159691Z",
     "shell.execute_reply": "2024-03-16T01:46:14.158975Z"
    },
    "papermill": {
     "duration": 0.080753,
     "end_time": "2024-03-16T01:46:14.161298",
     "exception": false,
     "start_time": "2024-03-16T01:46:14.080545",
     "status": "completed"
    },
    "tags": []
   },
   "outputs": [
    {
     "data": {
      "text/html": [
       "<div>\n",
       "<style scoped>\n",
       "    .dataframe tbody tr th:only-of-type {\n",
       "        vertical-align: middle;\n",
       "    }\n",
       "\n",
       "    .dataframe tbody tr th {\n",
       "        vertical-align: top;\n",
       "    }\n",
       "\n",
       "    .dataframe thead th {\n",
       "        text-align: right;\n",
       "    }\n",
       "</style>\n",
       "<table border=\"1\" class=\"dataframe\">\n",
       "  <thead>\n",
       "    <tr style=\"text-align: right;\">\n",
       "      <th></th>\n",
       "      <th>Open</th>\n",
       "      <th>High</th>\n",
       "      <th>Low</th>\n",
       "      <th>Close</th>\n",
       "      <th>Adj Close</th>\n",
       "      <th>Volume</th>\n",
       "      <th>MACD</th>\n",
       "      <th>MACD_HIST</th>\n",
       "      <th>MACD_SIG</th>\n",
       "      <th>ATR</th>\n",
       "      <th>...</th>\n",
       "      <th>Sharpe</th>\n",
       "      <th>Position</th>\n",
       "      <th>Action</th>\n",
       "      <th>Holdings</th>\n",
       "      <th>Cash</th>\n",
       "      <th>Money</th>\n",
       "      <th>Returns</th>\n",
       "      <th>Reward</th>\n",
       "      <th>Cumulative_Returns</th>\n",
       "      <th>Rewards</th>\n",
       "    </tr>\n",
       "    <tr>\n",
       "      <th>Date</th>\n",
       "      <th></th>\n",
       "      <th></th>\n",
       "      <th></th>\n",
       "      <th></th>\n",
       "      <th></th>\n",
       "      <th></th>\n",
       "      <th></th>\n",
       "      <th></th>\n",
       "      <th></th>\n",
       "      <th></th>\n",
       "      <th></th>\n",
       "      <th></th>\n",
       "      <th></th>\n",
       "      <th></th>\n",
       "      <th></th>\n",
       "      <th></th>\n",
       "      <th></th>\n",
       "      <th></th>\n",
       "      <th></th>\n",
       "      <th></th>\n",
       "      <th></th>\n",
       "    </tr>\n",
       "  </thead>\n",
       "  <tbody>\n",
       "    <tr>\n",
       "      <th>2018-01-02</th>\n",
       "      <td>0.515557</td>\n",
       "      <td>0.544705</td>\n",
       "      <td>0.537416</td>\n",
       "      <td>0.561813</td>\n",
       "      <td>21.368668</td>\n",
       "      <td>0.060499</td>\n",
       "      <td>-0.040477</td>\n",
       "      <td>-0.119077</td>\n",
       "      <td>0.078601</td>\n",
       "      <td>0.582232</td>\n",
       "      <td>...</td>\n",
       "      <td>0.0</td>\n",
       "      <td>0</td>\n",
       "      <td>2</td>\n",
       "      <td>0.000000</td>\n",
       "      <td>100000.000000</td>\n",
       "      <td>100000.000000</td>\n",
       "      <td>0.000000</td>\n",
       "      <td>0.000000</td>\n",
       "      <td>0.000000</td>\n",
       "      <td>0.000000</td>\n",
       "    </tr>\n",
       "    <tr>\n",
       "      <th>2018-01-03</th>\n",
       "      <td>0.551004</td>\n",
       "      <td>0.557334</td>\n",
       "      <td>0.555663</td>\n",
       "      <td>0.548796</td>\n",
       "      <td>21.150000</td>\n",
       "      <td>0.065928</td>\n",
       "      <td>-0.058835</td>\n",
       "      <td>-0.109949</td>\n",
       "      <td>0.051113</td>\n",
       "      <td>0.586834</td>\n",
       "      <td>...</td>\n",
       "      <td>0.0</td>\n",
       "      <td>0</td>\n",
       "      <td>2</td>\n",
       "      <td>0.000000</td>\n",
       "      <td>100000.000000</td>\n",
       "      <td>100000.000000</td>\n",
       "      <td>0.000000</td>\n",
       "      <td>0.000000</td>\n",
       "      <td>0.000000</td>\n",
       "      <td>0.000000</td>\n",
       "    </tr>\n",
       "    <tr>\n",
       "      <th>2018-01-04</th>\n",
       "      <td>0.518984</td>\n",
       "      <td>0.530387</td>\n",
       "      <td>0.516081</td>\n",
       "      <td>0.538358</td>\n",
       "      <td>20.974667</td>\n",
       "      <td>0.239888</td>\n",
       "      <td>-0.086535</td>\n",
       "      <td>-0.110118</td>\n",
       "      <td>0.023584</td>\n",
       "      <td>0.606203</td>\n",
       "      <td>...</td>\n",
       "      <td>0.0</td>\n",
       "      <td>0</td>\n",
       "      <td>2</td>\n",
       "      <td>0.000000</td>\n",
       "      <td>100000.000000</td>\n",
       "      <td>100000.000000</td>\n",
       "      <td>0.000000</td>\n",
       "      <td>0.000000</td>\n",
       "      <td>0.000000</td>\n",
       "      <td>0.000000</td>\n",
       "    </tr>\n",
       "    <tr>\n",
       "      <th>2018-01-05</th>\n",
       "      <td>0.533753</td>\n",
       "      <td>0.525118</td>\n",
       "      <td>0.541426</td>\n",
       "      <td>0.546136</td>\n",
       "      <td>21.105333</td>\n",
       "      <td>0.068163</td>\n",
       "      <td>-0.096827</td>\n",
       "      <td>-0.096328</td>\n",
       "      <td>-0.000498</td>\n",
       "      <td>0.587855</td>\n",
       "      <td>...</td>\n",
       "      <td>0.0</td>\n",
       "      <td>0</td>\n",
       "      <td>2</td>\n",
       "      <td>0.000000</td>\n",
       "      <td>100000.000000</td>\n",
       "      <td>100000.000000</td>\n",
       "      <td>0.000000</td>\n",
       "      <td>0.000000</td>\n",
       "      <td>0.000000</td>\n",
       "      <td>0.000000</td>\n",
       "    </tr>\n",
       "    <tr>\n",
       "      <th>2018-01-08</th>\n",
       "      <td>0.531312</td>\n",
       "      <td>0.604674</td>\n",
       "      <td>0.555462</td>\n",
       "      <td>0.624836</td>\n",
       "      <td>22.427334</td>\n",
       "      <td>0.237102</td>\n",
       "      <td>0.001672</td>\n",
       "      <td>0.001736</td>\n",
       "      <td>-0.000064</td>\n",
       "      <td>0.648342</td>\n",
       "      <td>...</td>\n",
       "      <td>0.0</td>\n",
       "      <td>0</td>\n",
       "      <td>2</td>\n",
       "      <td>0.000000</td>\n",
       "      <td>100000.000000</td>\n",
       "      <td>100000.000000</td>\n",
       "      <td>0.000000</td>\n",
       "      <td>0.000000</td>\n",
       "      <td>0.000000</td>\n",
       "      <td>0.000000</td>\n",
       "    </tr>\n",
       "    <tr>\n",
       "      <th>...</th>\n",
       "      <td>...</td>\n",
       "      <td>...</td>\n",
       "      <td>...</td>\n",
       "      <td>...</td>\n",
       "      <td>...</td>\n",
       "      <td>...</td>\n",
       "      <td>...</td>\n",
       "      <td>...</td>\n",
       "      <td>...</td>\n",
       "      <td>...</td>\n",
       "      <td>...</td>\n",
       "      <td>...</td>\n",
       "      <td>...</td>\n",
       "      <td>...</td>\n",
       "      <td>...</td>\n",
       "      <td>...</td>\n",
       "      <td>...</td>\n",
       "      <td>...</td>\n",
       "      <td>...</td>\n",
       "      <td>...</td>\n",
       "      <td>...</td>\n",
       "    </tr>\n",
       "    <tr>\n",
       "      <th>2019-12-23</th>\n",
       "      <td>0.908547</td>\n",
       "      <td>0.946507</td>\n",
       "      <td>0.934432</td>\n",
       "      <td>0.953487</td>\n",
       "      <td>27.948000</td>\n",
       "      <td>0.348062</td>\n",
       "      <td>1.430910</td>\n",
       "      <td>0.395042</td>\n",
       "      <td>1.035868</td>\n",
       "      <td>0.775349</td>\n",
       "      <td>...</td>\n",
       "      <td>0.0</td>\n",
       "      <td>-1</td>\n",
       "      <td>2</td>\n",
       "      <td>-129399.239788</td>\n",
       "      <td>206741.349087</td>\n",
       "      <td>77342.109299</td>\n",
       "      <td>-0.051590</td>\n",
       "      <td>-1.000000</td>\n",
       "      <td>-0.226579</td>\n",
       "      <td>-0.051590</td>\n",
       "    </tr>\n",
       "    <tr>\n",
       "      <th>2019-12-24</th>\n",
       "      <td>0.934462</td>\n",
       "      <td>0.960423</td>\n",
       "      <td>0.945220</td>\n",
       "      <td>0.977418</td>\n",
       "      <td>28.350000</td>\n",
       "      <td>0.179229</td>\n",
       "      <td>1.562356</td>\n",
       "      <td>0.421191</td>\n",
       "      <td>1.141165</td>\n",
       "      <td>0.780824</td>\n",
       "      <td>...</td>\n",
       "      <td>0.0</td>\n",
       "      <td>-1</td>\n",
       "      <td>2</td>\n",
       "      <td>-131260.501766</td>\n",
       "      <td>206741.349087</td>\n",
       "      <td>75480.847321</td>\n",
       "      <td>-0.024065</td>\n",
       "      <td>-1.000000</td>\n",
       "      <td>-0.245192</td>\n",
       "      <td>-0.024065</td>\n",
       "    </tr>\n",
       "    <tr>\n",
       "      <th>2019-12-26</th>\n",
       "      <td>0.972076</td>\n",
       "      <td>0.992640</td>\n",
       "      <td>1.000000</td>\n",
       "      <td>1.000000</td>\n",
       "      <td>28.729334</td>\n",
       "      <td>0.261938</td>\n",
       "      <td>1.677797</td>\n",
       "      <td>0.429305</td>\n",
       "      <td>1.248492</td>\n",
       "      <td>0.764242</td>\n",
       "      <td>...</td>\n",
       "      <td>0.0</td>\n",
       "      <td>-1</td>\n",
       "      <td>2</td>\n",
       "      <td>-133016.815853</td>\n",
       "      <td>206741.349087</td>\n",
       "      <td>73724.533234</td>\n",
       "      <td>-0.023268</td>\n",
       "      <td>-1.000000</td>\n",
       "      <td>-0.262755</td>\n",
       "      <td>-0.023268</td>\n",
       "    </tr>\n",
       "    <tr>\n",
       "      <th>2019-12-27</th>\n",
       "      <td>1.000000</td>\n",
       "      <td>1.000000</td>\n",
       "      <td>0.999038</td>\n",
       "      <td>0.997777</td>\n",
       "      <td>28.691999</td>\n",
       "      <td>0.239869</td>\n",
       "      <td>1.746143</td>\n",
       "      <td>0.398121</td>\n",
       "      <td>1.348022</td>\n",
       "      <td>0.753462</td>\n",
       "      <td>...</td>\n",
       "      <td>0.0</td>\n",
       "      <td>-1</td>\n",
       "      <td>2</td>\n",
       "      <td>-132843.957386</td>\n",
       "      <td>206741.349087</td>\n",
       "      <td>73897.391701</td>\n",
       "      <td>0.002345</td>\n",
       "      <td>0.002345</td>\n",
       "      <td>-0.261026</td>\n",
       "      <td>0.002345</td>\n",
       "    </tr>\n",
       "    <tr>\n",
       "      <th>2019-12-30</th>\n",
       "      <td>0.975542</td>\n",
       "      <td>0.974621</td>\n",
       "      <td>0.931465</td>\n",
       "      <td>0.935548</td>\n",
       "      <td>27.646667</td>\n",
       "      <td>0.324550</td>\n",
       "      <td>1.696403</td>\n",
       "      <td>0.278705</td>\n",
       "      <td>1.417698</td>\n",
       "      <td>0.800215</td>\n",
       "      <td>...</td>\n",
       "      <td>0.0</td>\n",
       "      <td>1</td>\n",
       "      <td>1</td>\n",
       "      <td>78710.062317</td>\n",
       "      <td>27.216335</td>\n",
       "      <td>78737.278652</td>\n",
       "      <td>0.065495</td>\n",
       "      <td>0.065495</td>\n",
       "      <td>-0.212627</td>\n",
       "      <td>0.065495</td>\n",
       "    </tr>\n",
       "  </tbody>\n",
       "</table>\n",
       "<p>502 rows × 27 columns</p>\n",
       "</div>"
      ],
      "text/plain": [
       "                Open      High       Low     Close  Adj Close    Volume  \\\n",
       "Date                                                                      \n",
       "2018-01-02  0.515557  0.544705  0.537416  0.561813  21.368668  0.060499   \n",
       "2018-01-03  0.551004  0.557334  0.555663  0.548796  21.150000  0.065928   \n",
       "2018-01-04  0.518984  0.530387  0.516081  0.538358  20.974667  0.239888   \n",
       "2018-01-05  0.533753  0.525118  0.541426  0.546136  21.105333  0.068163   \n",
       "2018-01-08  0.531312  0.604674  0.555462  0.624836  22.427334  0.237102   \n",
       "...              ...       ...       ...       ...        ...       ...   \n",
       "2019-12-23  0.908547  0.946507  0.934432  0.953487  27.948000  0.348062   \n",
       "2019-12-24  0.934462  0.960423  0.945220  0.977418  28.350000  0.179229   \n",
       "2019-12-26  0.972076  0.992640  1.000000  1.000000  28.729334  0.261938   \n",
       "2019-12-27  1.000000  1.000000  0.999038  0.997777  28.691999  0.239869   \n",
       "2019-12-30  0.975542  0.974621  0.931465  0.935548  27.646667  0.324550   \n",
       "\n",
       "                MACD  MACD_HIST  MACD_SIG       ATR  ...  Sharpe  Position  \\\n",
       "Date                                                 ...                     \n",
       "2018-01-02 -0.040477  -0.119077  0.078601  0.582232  ...     0.0         0   \n",
       "2018-01-03 -0.058835  -0.109949  0.051113  0.586834  ...     0.0         0   \n",
       "2018-01-04 -0.086535  -0.110118  0.023584  0.606203  ...     0.0         0   \n",
       "2018-01-05 -0.096827  -0.096328 -0.000498  0.587855  ...     0.0         0   \n",
       "2018-01-08  0.001672   0.001736 -0.000064  0.648342  ...     0.0         0   \n",
       "...              ...        ...       ...       ...  ...     ...       ...   \n",
       "2019-12-23  1.430910   0.395042  1.035868  0.775349  ...     0.0        -1   \n",
       "2019-12-24  1.562356   0.421191  1.141165  0.780824  ...     0.0        -1   \n",
       "2019-12-26  1.677797   0.429305  1.248492  0.764242  ...     0.0        -1   \n",
       "2019-12-27  1.746143   0.398121  1.348022  0.753462  ...     0.0        -1   \n",
       "2019-12-30  1.696403   0.278705  1.417698  0.800215  ...     0.0         1   \n",
       "\n",
       "            Action       Holdings           Cash          Money   Returns  \\\n",
       "Date                                                                        \n",
       "2018-01-02       2       0.000000  100000.000000  100000.000000  0.000000   \n",
       "2018-01-03       2       0.000000  100000.000000  100000.000000  0.000000   \n",
       "2018-01-04       2       0.000000  100000.000000  100000.000000  0.000000   \n",
       "2018-01-05       2       0.000000  100000.000000  100000.000000  0.000000   \n",
       "2018-01-08       2       0.000000  100000.000000  100000.000000  0.000000   \n",
       "...            ...            ...            ...            ...       ...   \n",
       "2019-12-23       2 -129399.239788  206741.349087   77342.109299 -0.051590   \n",
       "2019-12-24       2 -131260.501766  206741.349087   75480.847321 -0.024065   \n",
       "2019-12-26       2 -133016.815853  206741.349087   73724.533234 -0.023268   \n",
       "2019-12-27       2 -132843.957386  206741.349087   73897.391701  0.002345   \n",
       "2019-12-30       1   78710.062317      27.216335   78737.278652  0.065495   \n",
       "\n",
       "              Reward  Cumulative_Returns   Rewards  \n",
       "Date                                                \n",
       "2018-01-02  0.000000            0.000000  0.000000  \n",
       "2018-01-03  0.000000            0.000000  0.000000  \n",
       "2018-01-04  0.000000            0.000000  0.000000  \n",
       "2018-01-05  0.000000            0.000000  0.000000  \n",
       "2018-01-08  0.000000            0.000000  0.000000  \n",
       "...              ...                 ...       ...  \n",
       "2019-12-23 -1.000000           -0.226579 -0.051590  \n",
       "2019-12-24 -1.000000           -0.245192 -0.024065  \n",
       "2019-12-26 -1.000000           -0.262755 -0.023268  \n",
       "2019-12-27  0.002345           -0.261026  0.002345  \n",
       "2019-12-30  0.065495           -0.212627  0.065495  \n",
       "\n",
       "[502 rows x 27 columns]"
      ]
     },
     "execution_count": 16,
     "metadata": {},
     "output_type": "execute_result"
    }
   ],
   "source": [
    "data"
   ]
  },
  {
   "cell_type": "markdown",
   "id": "6a009d23",
   "metadata": {
    "papermill": {
     "duration": 0.054491,
     "end_time": "2024-03-16T01:46:14.273566",
     "exception": false,
     "start_time": "2024-03-16T01:46:14.219075",
     "status": "completed"
    },
    "tags": []
   },
   "source": [
    "# Experiments"
   ]
  },
  {
   "cell_type": "markdown",
   "id": "47c9d9e4",
   "metadata": {
    "papermill": {
     "duration": 0.056354,
     "end_time": "2024-03-16T01:46:14.385016",
     "exception": false,
     "start_time": "2024-03-16T01:46:14.328662",
     "status": "completed"
    },
    "tags": []
   },
   "source": [
    "## Experiment 1 - Sharpe Ratio as the Reward\n",
    "\n",
    "Since we want to reduce the portolio's volatility while attaining higher returns, we should test having a rolling window Sharpe ration as the reward function with the assumption that our agent can minimize its portfolio's volatility. In our case, we need to square root the number of past trading sessions (max 252, the trading days in a year) to give an annualized Sharpe as a reward, The results are promising, better than the baseline:\n",
    "\n",
    "```json\n",
    "{'Annualized Return': 0.2483099753903375,\n",
    " 'Annualized Vol': 0.5315927401982844,\n",
    " 'Sharpe Ratio': 0.3753156743014152,\n",
    " 'Downside Deviation': 0.3649215721069904,\n",
    " 'Sortino Ratio': 0.0021695799842264578,\n",
    " 'Max Drawdown': -0.5284848329394528,\n",
    " 'Max Drawdown Days': 493,\n",
    " 'Trade Churn': 0.0,\n",
    " 'Skewness': 0.547255666186771,\n",
    " 'Kurtosis': 5.424081523143858}\n",
    "```\n"
   ]
  },
  {
   "cell_type": "markdown",
   "id": "c9fda439",
   "metadata": {
    "papermill": {
     "duration": 0.053035,
     "end_time": "2024-03-16T01:46:14.493352",
     "exception": false,
     "start_time": "2024-03-16T01:46:14.440317",
     "status": "completed"
    },
    "tags": []
   },
   "source": [
    "## Experiment 2: Technical Analysis (TA) Signals\n",
    "\n",
    "Using the Pandas-TA library, we augment our timeseries with the following signals:\n",
    "\n",
    "- Moving Average Convergence Divergence (MACD) is useful to confirm the presence of a trend. In addition, it can spot divergences from price, which can signal potential reversals. The MACD is created with a 12 day fast moving average (MA), a 26 day slow moving average (MA), and the signal which is a 9 day exponential moving average (EMA) of their differences.\n",
    "\n",
    "- Average true range (ATR) will signal the agent price swings and their magnitude, this would hint at the environment's volatility. It's built by decomposing a 14 day moving average of price extremes.\n",
    "\n",
    "Results:\n",
    "\n",
    "```json\n",
    "{'Annualized Return': 0.08037565358057806,\n",
    " 'Annualized Vol': 0.5327752235074609,\n",
    " 'Sharpe Ratio': 0.05927596580709699,\n",
    " 'Downside Deviation': 0.36637039877343286,\n",
    " 'Sortino Ratio': 0.00034205956635066734,\n",
    " 'Max Drawdown': 0.0,\n",
    " 'Max Drawdown Days': 672,\n",
    " 'Trade Churn': 0.0,\n",
    " 'Skewness': 0.5699760228074306,\n",
    " 'Kurtosis': 5.441197183719924}\n",
    "```"
   ]
  },
  {
   "cell_type": "markdown",
   "id": "e617e74d",
   "metadata": {
    "papermill": {
     "duration": 0.055838,
     "end_time": "2024-03-16T01:46:14.605268",
     "exception": false,
     "start_time": "2024-03-16T01:46:14.549430",
     "status": "completed"
    },
    "tags": []
   },
   "source": [
    "## Experiment 3: Macro Signals\n",
    "\n",
    "\n",
    "In this experiment, we will give the agent insight on its macro environment through the following timeseries:\n",
    "\n",
    "- VIX - the volatility and fear index for the current period.\n",
    "- 10 Year Treasury Note Yield - as a proxy to inflation.\n",
    "- S&P 500 - For the market risk factor.\n",
    "\n",
    "Gives these results:\n",
    "```json\n",
    "{'Annualized Return': 0.7375854975646395,\n",
    " 'Annualized Vol': 0.48576500545216406,\n",
    " 'Sharpe Ratio': 1.417950247927827,\n",
    " 'Downside Deviation': 0.30906051769218884,\n",
    " 'Sortino Ratio': 0.008843886276718567,\n",
    " 'Max Drawdown': -0.38977234510237335,\n",
    " 'Max Drawdown Days': 142,\n",
    " 'Trade Churn': 0.0,\n",
    " 'Skewness': 0.7135103541646352,\n",
    " 'Kurtosis': 4.722124713372126}\n",
    "```\n",
    "\n"
   ]
  },
  {
   "cell_type": "markdown",
   "id": "88740d01",
   "metadata": {
    "papermill": {
     "duration": 0.056443,
     "end_time": "2024-03-16T01:46:14.717998",
     "exception": false,
     "start_time": "2024-03-16T01:46:14.661555",
     "status": "completed"
    },
    "tags": []
   },
   "source": [
    "# Side-by-Side Experiment Results\n",
    "\n",
    "| Metric                 | Article Baseline       | Exp 1: Sharpe        | Exp 2: TA            | Exp 3: Macro         | B&H               | S&H              | TF                | MR               | TQDN Benchmark   | \n",
    "|------------------------|------------------------|----------------------|----------------------|----------------------|-------------------|------------------|-------------------|------------------|------------------|\n",
    "| Annualized Return      | 14.08%                 | 24.83%               | 8.04%                | 73.76%               | 24.11%            | -7.38%           | -100.00%          | 19.02%           | 12.80%           | \n",
    "| Annualized Vol         | 49.57%                 | 53.16%               | 53.28%               | 48.58%               | 53.14%            | 46.11%           | 52.70%            | 58.05%           | 52.09%           | \n",
    "| Sharpe Ratio           | 0.186                  | 0.375                | 0.059                | 1.418                | 0.508             | -0.154           | -0.987            | 0.358            | 0.261            | \n",
    "| Sortino Ratio          | 0.001                  | 0.0022               | 0.0003               | 0.0088               | 0.741             | -0.205           | -1.229            | 0.539            | 0.359            | \n",
    "| Max Drawdown           | -46.39%                | -52.85%              | 0.00%                | -38.98%              | 52.83%            | 54.09%           | 79.91%            | 65.31%           | 58.95%           | \n",
    "| Max Drawdown Days      | 394                    | 493                  | 672                  | 142                  | 205               | 144              | 229               | 159              | 331              | \n",
    "| Trade Churn            | 0.00%                  | 0.00%                | 0.00%                | 0.00%                | -                 | -                | -                 | -                | -                | \n",
    "| Skewness               | 0.036                  | 0.547                | 0.570                | 0.714                | -                 | -                | -                 | -                | -                | \n",
    "| Kurtosis               | 5.397                  | 5.424                | 5.441                | 4.722                | -                 | -                | -                 | -                | -                | \n"
   ]
  },
  {
   "cell_type": "markdown",
   "id": "7ec79c41",
   "metadata": {
    "id": "pTeb9dL6H0Cu",
    "papermill": {
     "duration": 0.055992,
     "end_time": "2024-03-16T01:46:14.830692",
     "exception": false,
     "start_time": "2024-03-16T01:46:14.774700",
     "status": "completed"
    },
    "tags": []
   },
   "source": [
    "# Conclusion\n",
    "\n",
    "In this article we have adapted Deep Q-Network (TDQN) algorithm from *Théate, Thibaut and Ernst, Damien (2021)*, using our signals and Tensorflow's Agent framework. Our agent can now determine optimal trading positions (buy, sell, or hold) to maximize our portfolio returns in a simulated environment."
   ]
  },
  {
   "cell_type": "markdown",
   "id": "84b874da",
   "metadata": {
    "id": "bBrMDUgZH0Cv",
    "papermill": {
     "duration": 0.057369,
     "end_time": "2024-03-16T01:46:14.944423",
     "exception": false,
     "start_time": "2024-03-16T01:46:14.887054",
     "status": "completed"
    },
    "tags": []
   },
   "source": [
    "## References\n",
    "\n",
    "- [A Random Walk Down Wall Street](https://www.amazon.co.uk/Random-Walk-Down-Wall-Street/dp/0393330338)\n",
    "- [TensorFlow Agents](https://www.tensorflow.org/agents/overview)\n",
    "- [Open Gym AI Github](https://github.com/openai/gym)\n",
    "- [Greg et al, OpenAI Gym, (2016)](https://arxiv.org/abs/1606.01540)\n",
    "- [Théate, Thibaut, and Damien Ernst. \"An application of deep reinforcement learning to algorithmic trading.\" Expert Systems with Applications 173 (2021): 114632.](https://www.sciencedirect.com/science/article/pii/S0957417421000737)\n",
    "- [Remote development in WSL](https://code.visualstudio.com/docs/remote/wsl-tutorial)\n",
    "- [NVIDIA Driver Downloads](https://www.nvidia.com/Download/index.aspx)\n",
    "- [CUDA Toolkit](https://developer.nvidia.com/cuda-toolkit-archive)\n",
    "- [TensorRT for CUDA](https://docs.nvidia.com/deeplearning/tensorrt/archives/index.html#trt_7)\n",
    "- [Momentum and Reversion Trading Signals Analysis](https://medium.com/call-for-atlas/momentum-and-reversion-the-poor-mans-trading-strategies-9b8e1e6d3496)\n",
    "- [Temporal Convolutional Neural Network with Conditioning for Broad Market Signals](https://medium.com/call-for-atlas/temporal-convolutional-neural-network-with-conditioning-for-broad-market-signals-9f0b0426b2b9)\n",
    "- [Pandas TA - A Technical Analysis Library in Python 3](https://github.com/twopirllc/pandas-ta)"
   ]
  },
  {
   "cell_type": "markdown",
   "id": "d507ee24",
   "metadata": {
    "id": "kIgjl92lH0Cv",
    "papermill": {
     "duration": 0.057055,
     "end_time": "2024-03-16T01:46:15.059011",
     "exception": false,
     "start_time": "2024-03-16T01:46:15.001956",
     "status": "completed"
    },
    "tags": []
   },
   "source": [
    "## Github\n",
    "\n",
    "Article and code available on [Github](https://github.com/adamd1985/Deep-Q-Learning-Applied-to-Algorithmic-Trading)\n",
    "\n",
    "Kaggle notebook available [here](https://www.kaggle.com/code/addarm/deep-q-rl-with-algorithmic-trading-policy)\n",
    "\n",
    "Google Collab available [here](https://colab.research.google.com/drive/1FTj65b2DA8oFgvmmjLc0XIwtII32PwcM?usp=sharing)\n",
    "\n",
    "## Media\n",
    "\n",
    "All media used (in the form of code or images) are either solely owned by me, acquired through licensing, or part of the Public Domain and granted use through Creative Commons License.\n",
    "\n",
    "## CC Licensing and Use\n",
    "\n",
    "<a rel=\"license\" href=\"http://creativecommons.org/licenses/by-nc/4.0/\"><img alt=\"Creative Commons License\" style=\"border-width:0\" src=\"https://i.creativecommons.org/l/by-nc/4.0/88x31.png\" /></a><br />This work is licensed under a <a rel=\"license\" href=\"http://creativecommons.org/licenses/by-nc/4.0/\">Creative Commons Attribution-NonCommercial 4.0 International License</a>."
   ]
  }
 ],
 "metadata": {
  "accelerator": "GPU",
  "colab": {
   "gpuType": "T4",
   "provenance": []
  },
  "kaggle": {
   "accelerator": "tpu1vmV38",
   "dataSources": [],
   "dockerImageVersionId": 30664,
   "isGpuEnabled": false,
   "isInternetEnabled": true,
   "language": "python",
   "sourceType": "notebook"
  },
  "kernelspec": {
   "display_name": "Python 3",
   "language": "python",
   "name": "python3"
  },
  "language_info": {
   "codemirror_mode": {
    "name": "ipython",
    "version": 3
   },
   "file_extension": ".py",
   "mimetype": "text/x-python",
   "name": "python",
   "nbconvert_exporter": "python",
   "pygments_lexer": "ipython3",
   "version": "3.10.13"
  },
  "papermill": {
   "default_parameters": {},
   "duration": 459.235596,
   "end_time": "2024-03-16T01:46:20.768164",
   "environment_variables": {},
   "exception": null,
   "input_path": "__notebook__.ipynb",
   "output_path": "__notebook__.ipynb",
   "parameters": {},
   "start_time": "2024-03-16T01:38:41.532568",
   "version": "2.5.0"
  }
 },
 "nbformat": 4,
 "nbformat_minor": 5
}
