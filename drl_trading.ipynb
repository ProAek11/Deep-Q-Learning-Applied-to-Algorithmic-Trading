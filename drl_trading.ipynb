{
 "cells": [
  {
   "cell_type": "markdown",
   "id": "be842344",
   "metadata": {
    "id": "oaDoHbxVH0CW",
    "papermill": {
     "duration": 0.006949,
     "end_time": "2024-03-15T00:27:14.788093",
     "exception": false,
     "start_time": "2024-03-15T00:27:14.781144",
     "status": "completed"
    },
    "tags": []
   },
   "source": [
    "# Deep Q-Learning Applied to Algorithmic Trading\n",
    "\n",
    "<a href=\"https://www.kaggle.com/code/addarm/deep-q-rl-with-algorithmic-trading-policy\" target=\"_blank\"><img align=\"left\" alt=\"Kaggle\" title=\"Open in Kaggle\" src=\"https://kaggle.com/static/images/open-in-kaggle.svg\"></a>\n",
    "\n",
    "\n",
    "<a href=\"https://colab.research.google.com/drive/1FTj65b2DA8oFgvmmjLc0XIwtII32PwcM?usp=sharing\" target=\"_parent\"><img src=\"https://colab.research.google.com/assets/colab-badge.svg\" alt=\"Open In Colab\"/></a>\n"
   ]
  },
  {
   "cell_type": "markdown",
   "id": "e8910748",
   "metadata": {
    "id": "fopVWzH_sxr-",
    "papermill": {
     "duration": 0.006656,
     "end_time": "2024-03-15T00:27:14.800832",
     "exception": false,
     "start_time": "2024-03-15T00:27:14.794176",
     "status": "completed"
    },
    "tags": []
   },
   "source": [
    "![\"Pavlov's trader dog, DALEE 2024\"](https://github.com/adamd1985/Deep-Q-Learning-Applied-to-Algorithmic-Trading/blob/main/images/rl_banner.PNG?raw=true)"
   ]
  },
  {
   "cell_type": "markdown",
   "id": "186de4e4",
   "metadata": {
    "id": "xqvaSLkfsxr-",
    "papermill": {
     "duration": 0.005556,
     "end_time": "2024-03-15T00:27:14.812296",
     "exception": false,
     "start_time": "2024-03-15T00:27:14.806740",
     "status": "completed"
    },
    "tags": []
   },
   "source": [
    "In the book *\"A Random Walk Down Wall Street\"*, the author Burton G. Malkiel claimed that: “a blindfolded monkey throwing darts at a newspaper's financial pages could select a portfolio that would do just as well as one carefully selected by experts.”.\n",
    "\n",
    "What if instead of monkey, it was Pavlov's dog trained with reinforcement learning to select the optimal portfolio strategy? In this article, Reinforcement Learning (RL) is the one used in machine learning, where an agent learns actions in an environment that maximizes their value. The agent learns from the outcomes of its actions, without being explicitly programmed with task-specific rules,\n",
    "\n",
    "The goal of any RL algo, is to find value-maximizing policy (*π*):\n",
    "$$\n",
    "\\pi* = \\sum_{k=0}^{\\infty} \\gamma^k R_{t+k+1}\n",
    "$$\n",
    "Where *γ (0 ≤ γ ≤ 1)* is the discounting factor to control the agent's rewards, *t* is a timestep and *R* is the returns in that step. The policy in RL is the probability of taking **action *a*** in **state *s***.\n",
    "\n",
    "The algo we will adopt is **Q-Learning**, a model-free RL algorithm, that aims to indirectly learn the policy through the **VALUE** of an action for a discrete state its in, rather the policy itself. It's useful in our case, as it doesn't need to model the environment - in our case, the random capital markets.\n",
    "\n",
    "Estimating the **Q-Value** is done through the Bellman's equation:\n",
    "\n",
    "$$\n",
    "Q^*(s, a) = \\mathbb{E}[R_{t+1} + \\gamma \\max_{a'} Q^*(s', a') \\mid s, a]\n",
    "$$\n",
    "\n",
    "These Q-values are placed in the Q-Tables and used by the agent as look-up, to find all possible actions' Q-values from the current state, and choose the action with the highest Q-value (exploitation). This is good within a finite space, but not in a stochastic environment with limitless combinations, a problem which we will solve with our neural-network.\n",
    "\n",
    "This agent designed in this article has been inspired by the paper of *Théate, Thibaut and Ernst, Damien (2021)*."
   ]
  },
  {
   "cell_type": "markdown",
   "id": "74157f0d",
   "metadata": {
    "id": "aM59cTClH0CZ",
    "papermill": {
     "duration": 0.005902,
     "end_time": "2024-03-15T00:27:14.824004",
     "exception": false,
     "start_time": "2024-03-15T00:27:14.818102",
     "status": "completed"
    },
    "tags": []
   },
   "source": [
    "```BibTeX\n",
    "@article{theate2021application,\n",
    "  title={An application of deep reinforcement learning to algorithmic trading},\n",
    "  author={Th{\\'e}ate, Thibaut and Ernst, Damien},\n",
    "  journal={Expert Systems with Applications},\n",
    "  volume={173},\n",
    "  pages={114632},\n",
    "  year={2021},\n",
    "  publisher={Elsevier}\n",
    "}\n",
    "```"
   ]
  },
  {
   "cell_type": "code",
   "execution_count": 1,
   "id": "7f31e8cc",
   "metadata": {
    "execution": {
     "iopub.execute_input": "2024-03-15T00:27:14.836916Z",
     "iopub.status.busy": "2024-03-15T00:27:14.836580Z",
     "iopub.status.idle": "2024-03-15T00:27:14.856667Z",
     "shell.execute_reply": "2024-03-15T00:27:14.856084Z"
    },
    "executionInfo": {
     "elapsed": 703809,
     "status": "ok",
     "timestamp": 1710410570017,
     "user": {
      "displayName": "Adam Darmanin",
      "userId": "00262451996831505471"
     },
     "user_tz": -60
    },
    "id": "Q4-GoceIIfT_",
    "outputId": "008e6278-a966-4e09-e848-d830d601d29f",
    "papermill": {
     "duration": 0.028971,
     "end_time": "2024-03-15T00:27:14.858405",
     "exception": false,
     "start_time": "2024-03-15T00:27:14.829434",
     "status": "completed"
    },
    "tags": []
   },
   "outputs": [],
   "source": [
    "import os\n",
    "os.environ['TF_USE_LEGACY_KERAS'] = '1' # KERAS 2 only for tfagents\n",
    "\n",
    "import warnings\n",
    "warnings.filterwarnings(\"ignore\")\n",
    "\n",
    "try:\n",
    "  import google.colab\n",
    "  from google.colab import files\n",
    "  from google.colab import drive\n",
    "\n",
    "  %pip install scikit-learn\n",
    "  %pip install matplotlib\n",
    "  %pip install tf-agents[reverb]\n",
    "  %pip install shutil\n",
    "  %pip install yfinance\n",
    "  %pip install pyarrow\n",
    "  %pip install pandas_ta\n",
    "  %pip install tqdm\n",
    "\n",
    "  IN_COLAB = True\n",
    "  GDRIVE = '/content/drive'\n",
    "  drive.mount(GDRIVE)\n",
    "  print(\"Mounted on COLLAB\")\n",
    "except:\n",
    "  GDRIVE = None\n",
    "  IN_COLAB = False\n",
    "  files = None"
   ]
  },
  {
   "cell_type": "code",
   "execution_count": 2,
   "id": "4cbe3118",
   "metadata": {
    "execution": {
     "iopub.execute_input": "2024-03-15T00:27:14.871090Z",
     "iopub.status.busy": "2024-03-15T00:27:14.870832Z",
     "iopub.status.idle": "2024-03-15T00:28:17.208247Z",
     "shell.execute_reply": "2024-03-15T00:28:17.207356Z"
    },
    "executionInfo": {
     "elapsed": 13,
     "status": "ok",
     "timestamp": 1710410570017,
     "user": {
      "displayName": "Adam Darmanin",
      "userId": "00262451996831505471"
     },
     "user_tz": -60
    },
    "id": "C39UfWDmzYvL",
    "papermill": {
     "duration": 62.345837,
     "end_time": "2024-03-15T00:28:17.210119",
     "exception": false,
     "start_time": "2024-03-15T00:27:14.864282",
     "status": "completed"
    },
    "tags": []
   },
   "outputs": [],
   "source": [
    "if 'KAGGLE_KERNEL_RUN_TYPE' in os.environ:\n",
    "    print('Running in Kaggle...')\n",
    "\n",
    "    %pip install scikit-learn\n",
    "    %pip install matplotlib\n",
    "    %pip install tf-agents[reverb]\n",
    "    %pip install shutil\n",
    "    %pip install yfinance\n",
    "    %pip install pyarrow\n",
    "    %pip install pandas_ta\n",
    "    %pip install tqdm\n",
    "\n",
    "    for dirname, _, filenames in os.walk('/kaggle/input'):\n",
    "        for filename in filenames:\n",
    "            print(os.path.join(dirname, filename))\n",
    "\n",
    "    DATA_DIR = \"/kaggle/input/DATASET\"\n",
    "    IN_KAGGLE = True\n",
    "else:\n",
    "    IN_KAGGLE = False\n",
    "    DATA_DIR = \"./data/\""
   ]
  },
  {
   "cell_type": "code",
   "execution_count": 3,
   "id": "28cffd58",
   "metadata": {
    "execution": {
     "iopub.execute_input": "2024-03-15T00:28:17.238047Z",
     "iopub.status.busy": "2024-03-15T00:28:17.237694Z",
     "iopub.status.idle": "2024-03-15T00:28:36.665328Z",
     "shell.execute_reply": "2024-03-15T00:28:36.664616Z"
    },
    "executionInfo": {
     "elapsed": 6369,
     "status": "ok",
     "timestamp": 1710410576375,
     "user": {
      "displayName": "Adam Darmanin",
      "userId": "00262451996831505471"
     },
     "user_tz": -60
    },
    "id": "GJiIs_h-H0Ca",
    "outputId": "e639a0a2-0f32-4741-916b-afb9f8f8202d",
    "papermill": {
     "duration": 19.444124,
     "end_time": "2024-03-15T00:28:36.667525",
     "exception": false,
     "start_time": "2024-03-15T00:28:17.223401",
     "status": "completed"
    },
    "tags": []
   },
   "outputs": [
    {
     "name": "stderr",
     "output_type": "stream",
     "text": [
      "2024-03-15 14:11:40.605453: I external/local_tsl/tsl/cuda/cudart_stub.cc:31] Could not find cuda drivers on your machine, GPU will not be used.\n",
      "2024-03-15 14:11:40.639588: E external/local_xla/xla/stream_executor/cuda/cuda_dnn.cc:9261] Unable to register cuDNN factory: Attempting to register factory for plugin cuDNN when one has already been registered\n",
      "2024-03-15 14:11:40.639619: E external/local_xla/xla/stream_executor/cuda/cuda_fft.cc:607] Unable to register cuFFT factory: Attempting to register factory for plugin cuFFT when one has already been registered\n",
      "2024-03-15 14:11:40.640560: E external/local_xla/xla/stream_executor/cuda/cuda_blas.cc:1515] Unable to register cuBLAS factory: Attempting to register factory for plugin cuBLAS when one has already been registered\n",
      "2024-03-15 14:11:40.646343: I external/local_tsl/tsl/cuda/cudart_stub.cc:31] Could not find cuda drivers on your machine, GPU will not be used.\n",
      "2024-03-15 14:11:40.646893: I tensorflow/core/platform/cpu_feature_guard.cc:182] This TensorFlow binary is optimized to use available CPU instructions in performance-critical operations.\n",
      "To enable the following instructions: AVX2 FMA, in other operations, rebuild TensorFlow with the appropriate compiler flags.\n",
      "2024-03-15 14:11:41.486435: W tensorflow/compiler/tf2tensorrt/utils/py_utils.cc:38] TF-TRT Warning: Could not find TensorRT\n"
     ]
    },
    {
     "name": "stdout",
     "output_type": "stream",
     "text": [
      "Running on CPU\n",
      "Number of accelerators: 1\n"
     ]
    },
    {
     "name": "stderr",
     "output_type": "stream",
     "text": [
      "2024-03-15 14:11:42.684566: I external/local_xla/xla/stream_executor/cuda/cuda_executor.cc:887] could not open file to read NUMA node: /sys/bus/pci/devices/0000:01:00.0/numa_node\n",
      "Your kernel may have been built without NUMA support.\n",
      "2024-03-15 14:11:42.685143: W tensorflow/core/common_runtime/gpu/gpu_device.cc:2256] Cannot dlopen some GPU libraries. Please make sure the missing libraries mentioned above are installed properly if you would like to use GPU. Follow the guide at https://www.tensorflow.org/install/gpu for how to download and setup the required libraries for your platform.\n",
      "Skipping registering GPU devices...\n"
     ]
    },
    {
     "data": {
      "text/plain": [
       "'/mnt/c/Users/adamd/workspace/deep-reinforced-learning'"
      ]
     },
     "execution_count": 3,
     "metadata": {},
     "output_type": "execute_result"
    }
   ],
   "source": [
    "import numpy as np\n",
    "import math\n",
    "import shutil\n",
    "import yfinance as yf\n",
    "import pandas as pd\n",
    "\n",
    "import matplotlib.pyplot as plt\n",
    "import matplotlib.dates as mdates\n",
    "\n",
    "from datetime import datetime\n",
    "\n",
    "from scipy.stats import skew, kurtosis\n",
    "\n",
    "import tensorflow as tf\n",
    "from tf_agents.specs import array_spec, tensor_spec\n",
    "from tf_agents.trajectories import time_step as ts\n",
    "from tf_agents.utils import common\n",
    "from tf_agents.agents.dqn import dqn_agent\n",
    "from tf_agents.drivers import py_driver\n",
    "from tf_agents.environments import py_environment, tf_py_environment, utils\n",
    "from tf_agents.networks import sequential\n",
    "from tf_agents.policies import py_tf_eager_policy, policy_saver, random_tf_policy\n",
    "\n",
    "import reverb\n",
    "from tf_agents.replay_buffers import reverb_replay_buffer, reverb_utils\n",
    "\n",
    "from tqdm import tqdm\n",
    "\n",
    "os.environ['TF_CPP_MIN_LOG_LEVEL'] = '3'\n",
    "# In case CPU > GPU\n",
    "# tf.config.set_visible_devices([], 'GPU')\n",
    "\n",
    "resolver = None\n",
    "\n",
    "if ('COLAB_TPU_ADDR' in os.environ and IN_COLAB) or (IN_KAGGLE and 'TPU_NAME' in os.environ):\n",
    "    resolver = tf.distribute.cluster_resolver.TPUClusterResolver(tpu='grpc://' + os.environ['COLAB_TPU_ADDR'] if 'IN_COLAB' in globals() else os.environ['TPU_NAME'])\n",
    "    tf.config.experimental_connect_to_cluster(resolver)\n",
    "    tf.tpu.experimental.initialize_tpu_system(resolver)\n",
    "    strategy = tf.distribute.experimental.TPUStrategy(resolver)\n",
    "    print(\"Running on TPU:\", resolver.master())\n",
    "elif len(tf.config.list_physical_devices('GPU')) > 0:\n",
    "    strategy = tf.distribute.MirroredStrategy()\n",
    "    gpus = tf.config.experimental.list_physical_devices('GPU')\n",
    "    for gpu in gpus:\n",
    "        tf.config.experimental.set_memory_growth(gpu, True)\n",
    "    print(\"Running on\", len(tf.config.list_physical_devices('GPU')), \"GPU(s)\")\n",
    "else:\n",
    "    strategy = tf.distribute.get_strategy()\n",
    "    print(\"Running on CPU\")\n",
    "\n",
    "print(\"Number of accelerators:\", strategy.num_replicas_in_sync)\n",
    "\n",
    "os.getcwd()"
   ]
  },
  {
   "cell_type": "code",
   "execution_count": 4,
   "id": "536a92ad",
   "metadata": {
    "execution": {
     "iopub.execute_input": "2024-03-15T00:28:36.696058Z",
     "iopub.status.busy": "2024-03-15T00:28:36.695548Z",
     "iopub.status.idle": "2024-03-15T00:28:36.702406Z",
     "shell.execute_reply": "2024-03-15T00:28:36.701816Z"
    },
    "executionInfo": {
     "elapsed": 8,
     "status": "ok",
     "timestamp": 1710410576375,
     "user": {
      "displayName": "Adam Darmanin",
      "userId": "00262451996831505471"
     },
     "user_tz": -60
    },
    "id": "Mh5TWk3l1CJ-",
    "papermill": {
     "duration": 0.022683,
     "end_time": "2024-03-15T00:28:36.704144",
     "exception": false,
     "start_time": "2024-03-15T00:28:36.681461",
     "status": "completed"
    },
    "tags": []
   },
   "outputs": [],
   "source": [
    "START_DATE = \"2017-01-01\"\n",
    "SPLIT_DATE = '2018-1-1' # Turning point from train to tst\n",
    "END_DATE = \"2019-12-31\" # pd.Timestamp(datetime.now() - BDay(1)).strftime('%Y-%m-%d')\n",
    "DATA_DIR = \"./data\"\n",
    "INDEX = \"Date\"\n",
    "TARGET = 'TSLA'\n",
    "TICKER_SYMBOLS = [TARGET]\n",
    "INTERVAL = \"1d\"\n",
    "\n",
    "MODELS_PATH = './models'\n",
    "LOGS_PATH = './logs'\n",
    "\n",
    "ACT_NEUTRAL = 3 # Added this action to go to neutral and wait\n",
    "ACT_HOLD = 2\n",
    "ACT_LONG = 1\n",
    "ACT_SHORT = 0\n",
    "ACTIONS = [ACT_SHORT, ACT_LONG]\n",
    "\n",
    "CAPITAL = 100000\n",
    "TRADE_COSTS_PERCENT = 10 / 100 / 100 # 10BPS costs\n",
    "\n",
    "FEATURES = [\"Close\", \"High\", \"Low\", \"Open\", \"Volume\"]\n",
    "TARGET_FEATURE = \"Price Raw\"\n",
    "STATE_LEN = 30\n",
    "OBS_SPACE = (STATE_LEN)*len(FEATURES)\n",
    "ACT_SPACE = len(ACTIONS)\n",
    "\n",
    "BATCH_SIZE = 32\n",
    "LEARN_RATE = 1e-3\n",
    "TOTAL_ITERS = 600 #12000\n",
    "TRAIN_EPISODES = 10\n",
    "INIT_COLLECT = 100\n",
    "TOTAL_COLLECT = 1\n",
    "LOG_INTERVALS = 20\n",
    "TEST_INTERVALS = 5 #400\n",
    "MEMORY_LENGTH = 100000\n",
    "DISCOUNT = .3\n",
    "EPSILON_START = 1.\n",
    "TARGET_UPDATE = 1000\n",
    "EPSILON_END = 0.0015\n",
    "EPSILON_DECAY = 1000\n",
    "GRAD_CLIP = 1\n",
    "REWARD_CLIP = 1\n",
    "PUNISHMENT = 1.25\n",
    "\n",
    "DROPOUT = 0.4\n",
    "L2FACTOR = 0.000001\n",
    "NEURONS = 512\n",
    "LAYERS = (NEURONS, NEURONS, NEURONS, NEURONS, NEURONS)"
   ]
  },
  {
   "cell_type": "markdown",
   "id": "7be9c1d6",
   "metadata": {
    "id": "H4DpIfIPH0Ch",
    "papermill": {
     "duration": 0.013197,
     "end_time": "2024-03-15T00:28:36.730149",
     "exception": false,
     "start_time": "2024-03-15T00:28:36.716952",
     "status": "completed"
    },
    "tags": []
   },
   "source": [
    "# Financial Data\n",
    "\n",
    "We download some financial data, this is now the standard in our articles."
   ]
  },
  {
   "cell_type": "code",
   "execution_count": 5,
   "id": "2f0a62b7",
   "metadata": {
    "execution": {
     "iopub.execute_input": "2024-03-15T00:28:36.789137Z",
     "iopub.status.busy": "2024-03-15T00:28:36.788858Z",
     "iopub.status.idle": "2024-03-15T00:28:37.362973Z",
     "shell.execute_reply": "2024-03-15T00:28:37.362264Z"
    },
    "executionInfo": {
     "elapsed": 1225,
     "status": "ok",
     "timestamp": 1710410577593,
     "user": {
      "displayName": "Adam Darmanin",
      "userId": "00262451996831505471"
     },
     "user_tz": -60
    },
    "id": "s64pmt9mH0Cj",
    "outputId": "ffdcc9c6-322f-4598-c4d0-92ffb7f60885",
    "papermill": {
     "duration": 0.589998,
     "end_time": "2024-03-15T00:28:37.364737",
     "exception": false,
     "start_time": "2024-03-15T00:28:36.774739",
     "status": "completed"
    },
    "tags": []
   },
   "outputs": [
    {
     "name": "stdout",
     "output_type": "stream",
     "text": [
      "TSLA => min_date: 2017-01-03 00:00:00, max_date: 2019-12-30 00:00:00, kurt:-0.56, skewness:-0.28, outliers_count:0,  nan_count: 0\n"
     ]
    },
    {
     "data": {
      "text/html": [
       "<div>\n",
       "<style scoped>\n",
       "    .dataframe tbody tr th:only-of-type {\n",
       "        vertical-align: middle;\n",
       "    }\n",
       "\n",
       "    .dataframe tbody tr th {\n",
       "        vertical-align: top;\n",
       "    }\n",
       "\n",
       "    .dataframe thead th {\n",
       "        text-align: right;\n",
       "    }\n",
       "</style>\n",
       "<table border=\"1\" class=\"dataframe\">\n",
       "  <thead>\n",
       "    <tr style=\"text-align: right;\">\n",
       "      <th></th>\n",
       "      <th>Open</th>\n",
       "      <th>High</th>\n",
       "      <th>Low</th>\n",
       "      <th>Close</th>\n",
       "      <th>Adj Close</th>\n",
       "      <th>Volume</th>\n",
       "    </tr>\n",
       "    <tr>\n",
       "      <th>Date</th>\n",
       "      <th></th>\n",
       "      <th></th>\n",
       "      <th></th>\n",
       "      <th></th>\n",
       "      <th></th>\n",
       "      <th></th>\n",
       "    </tr>\n",
       "  </thead>\n",
       "  <tbody>\n",
       "    <tr>\n",
       "      <th>2017-01-03</th>\n",
       "      <td>14.324000</td>\n",
       "      <td>14.688667</td>\n",
       "      <td>14.064000</td>\n",
       "      <td>14.466000</td>\n",
       "      <td>14.466000</td>\n",
       "      <td>88849500</td>\n",
       "    </tr>\n",
       "    <tr>\n",
       "      <th>2017-01-04</th>\n",
       "      <td>14.316667</td>\n",
       "      <td>15.200000</td>\n",
       "      <td>14.287333</td>\n",
       "      <td>15.132667</td>\n",
       "      <td>15.132667</td>\n",
       "      <td>168202500</td>\n",
       "    </tr>\n",
       "    <tr>\n",
       "      <th>2017-01-05</th>\n",
       "      <td>15.094667</td>\n",
       "      <td>15.165333</td>\n",
       "      <td>14.796667</td>\n",
       "      <td>15.116667</td>\n",
       "      <td>15.116667</td>\n",
       "      <td>88675500</td>\n",
       "    </tr>\n",
       "    <tr>\n",
       "      <th>2017-01-06</th>\n",
       "      <td>15.128667</td>\n",
       "      <td>15.354000</td>\n",
       "      <td>15.030000</td>\n",
       "      <td>15.267333</td>\n",
       "      <td>15.267333</td>\n",
       "      <td>82918500</td>\n",
       "    </tr>\n",
       "    <tr>\n",
       "      <th>2017-01-09</th>\n",
       "      <td>15.264667</td>\n",
       "      <td>15.461333</td>\n",
       "      <td>15.200000</td>\n",
       "      <td>15.418667</td>\n",
       "      <td>15.418667</td>\n",
       "      <td>59692500</td>\n",
       "    </tr>\n",
       "    <tr>\n",
       "      <th>...</th>\n",
       "      <td>...</td>\n",
       "      <td>...</td>\n",
       "      <td>...</td>\n",
       "      <td>...</td>\n",
       "      <td>...</td>\n",
       "      <td>...</td>\n",
       "    </tr>\n",
       "    <tr>\n",
       "      <th>2019-12-23</th>\n",
       "      <td>27.452000</td>\n",
       "      <td>28.134001</td>\n",
       "      <td>27.333332</td>\n",
       "      <td>27.948000</td>\n",
       "      <td>27.948000</td>\n",
       "      <td>199794000</td>\n",
       "    </tr>\n",
       "    <tr>\n",
       "      <th>2019-12-24</th>\n",
       "      <td>27.890667</td>\n",
       "      <td>28.364668</td>\n",
       "      <td>27.512667</td>\n",
       "      <td>28.350000</td>\n",
       "      <td>28.350000</td>\n",
       "      <td>120820500</td>\n",
       "    </tr>\n",
       "    <tr>\n",
       "      <th>2019-12-26</th>\n",
       "      <td>28.527332</td>\n",
       "      <td>28.898666</td>\n",
       "      <td>28.423332</td>\n",
       "      <td>28.729334</td>\n",
       "      <td>28.729334</td>\n",
       "      <td>159508500</td>\n",
       "    </tr>\n",
       "    <tr>\n",
       "      <th>2019-12-27</th>\n",
       "      <td>29.000000</td>\n",
       "      <td>29.020666</td>\n",
       "      <td>28.407333</td>\n",
       "      <td>28.691999</td>\n",
       "      <td>28.691999</td>\n",
       "      <td>149185500</td>\n",
       "    </tr>\n",
       "    <tr>\n",
       "      <th>2019-12-30</th>\n",
       "      <td>28.586000</td>\n",
       "      <td>28.600000</td>\n",
       "      <td>27.284000</td>\n",
       "      <td>27.646667</td>\n",
       "      <td>27.646667</td>\n",
       "      <td>188796000</td>\n",
       "    </tr>\n",
       "  </tbody>\n",
       "</table>\n",
       "<p>753 rows × 6 columns</p>\n",
       "</div>"
      ],
      "text/plain": [
       "                 Open       High        Low      Close  Adj Close     Volume\n",
       "Date                                                                        \n",
       "2017-01-03  14.324000  14.688667  14.064000  14.466000  14.466000   88849500\n",
       "2017-01-04  14.316667  15.200000  14.287333  15.132667  15.132667  168202500\n",
       "2017-01-05  15.094667  15.165333  14.796667  15.116667  15.116667   88675500\n",
       "2017-01-06  15.128667  15.354000  15.030000  15.267333  15.267333   82918500\n",
       "2017-01-09  15.264667  15.461333  15.200000  15.418667  15.418667   59692500\n",
       "...               ...        ...        ...        ...        ...        ...\n",
       "2019-12-23  27.452000  28.134001  27.333332  27.948000  27.948000  199794000\n",
       "2019-12-24  27.890667  28.364668  27.512667  28.350000  28.350000  120820500\n",
       "2019-12-26  28.527332  28.898666  28.423332  28.729334  28.729334  159508500\n",
       "2019-12-27  29.000000  29.020666  28.407333  28.691999  28.691999  149185500\n",
       "2019-12-30  28.586000  28.600000  27.284000  27.646667  27.646667  188796000\n",
       "\n",
       "[753 rows x 6 columns]"
      ]
     },
     "execution_count": 5,
     "metadata": {},
     "output_type": "execute_result"
    }
   ],
   "source": [
    "def get_tickerdata(tickers_symbols, start=START_DATE, end=END_DATE, interval=INTERVAL, datadir=DATA_DIR):\n",
    "    tickers = {}\n",
    "    earliest_end= datetime.strptime(end,'%Y-%m-%d')\n",
    "    latest_start = datetime.strptime(start,'%Y-%m-%d')\n",
    "    os.makedirs(DATA_DIR, exist_ok=True)\n",
    "    for symbol in tickers_symbols:\n",
    "        cached_file_path = f\"{datadir}/{symbol}-{start}-{end}-{interval}.csv\"\n",
    "\n",
    "        try:\n",
    "            if os.path.exists(cached_file_path):\n",
    "                df = pd.read_parquet(cached_file_path)\n",
    "                df.index = pd.to_datetime(df.index)\n",
    "                assert len(df) > 0\n",
    "            else:\n",
    "                df = yf.download(\n",
    "                    symbol,\n",
    "                    start=START_DATE,\n",
    "                    end=END_DATE,\n",
    "                    progress=False,\n",
    "                    interval=INTERVAL,\n",
    "                )\n",
    "                assert len(df) > 0\n",
    "                df.to_parquet(cached_file_path, index=True, compression=\"snappy\")\n",
    "            min_date = df.index.min()\n",
    "            max_date = df.index.max()\n",
    "            nan_count = df[\"Close\"].isnull().sum()\n",
    "            skewness = round(skew(df[\"Close\"].dropna()), 2)\n",
    "            kurt = round(kurtosis(df[\"Close\"].dropna()), 2)\n",
    "            outliers_count = (df[\"Close\"] > df[\"Close\"].mean() + (3 * df[\"Close\"].std())).sum()\n",
    "            print(\n",
    "                f\"{symbol} => min_date: {min_date}, max_date: {max_date}, kurt:{kurt}, skewness:{skewness}, outliers_count:{outliers_count},  nan_count: {nan_count}\"\n",
    "            )\n",
    "            tickers[symbol] = df\n",
    "\n",
    "            if min_date > latest_start:\n",
    "                latest_start = min_date\n",
    "            if max_date < earliest_end:\n",
    "                earliest_end = max_date\n",
    "        except Exception as e:\n",
    "            print(f\"Error with {symbol}: {e}\")\n",
    "\n",
    "    return tickers, latest_start, earliest_end\n",
    "\n",
    "tickers, latest_start, earliest_end = get_tickerdata(TICKER_SYMBOLS)\n",
    "tickers[TARGET]"
   ]
  },
  {
   "cell_type": "markdown",
   "id": "92b14c39",
   "metadata": {
    "id": "ZDY9OBeVsxsA",
    "papermill": {
     "duration": 0.01341,
     "end_time": "2024-03-15T00:28:37.391926",
     "exception": false,
     "start_time": "2024-03-15T00:28:37.378516",
     "status": "completed"
    },
    "tags": []
   },
   "source": [
    "# The Problem Definition\n",
    "\n",
    "With Q-Training, we shall teach a pavlovian-agent to trade. Our objective is to make sequential interaction that lead to the highest sharpe ratio, formalized by this policy (remember Q-Learning is off-policy, and we won't learn this directly):\n",
    "\n",
    "$$\n",
    "\\pi^*(a_t | s_t) = \\arg\\max_{a \\in \\mathcal{A}} \\mathbb{E} \\left[ \\sum_{t=0}^{\\infty} \\gamma^t r_t \\middle| s_t = f(o_1, a_1, r_1, \\ldots, o_t), a_t \\right]\n",
    "$$\n",
    "\n",
    "At each timestep *t*:\n",
    "\n",
    "1. Observe the environments state *st* and map history with *f(.)*\n",
    "2. Observations *ot* from history *ht*, have previous actions *a_t-1*, previous observations *o_t-1* and their returns *r_t-1*. For our experiment, we'll encode these into features for a network.\n",
    "3. Execute action *a_t*, which can be: hold, long, short\n",
    "4. Get returns *r_t* discounted at *γt*. *γ* is the discounting factor to prevent the agent from doing only tactical choices for returns in the present (missing better future returns).\n",
    "\n",
    "\n",
    "The *π(at|ht)* creates an action on a Quantity Q *at = Qt*. Where a positive *Q* is the long, the negative *Q* signals a short and when its 0 no action is taken. For this article we will use the definition of policy *π(at|ht)* and Q-Value *Q(at,st)* interchangeably, as Q will define quantities bought."
   ]
  },
  {
   "cell_type": "markdown",
   "id": "ca072d75",
   "metadata": {
    "id": "I7yPL6IJtuuz",
    "papermill": {
     "duration": 0.012921,
     "end_time": "2024-03-15T00:28:37.417747",
     "exception": false,
     "start_time": "2024-03-15T00:28:37.404826",
     "status": "completed"
    },
    "tags": []
   },
   "source": [
    "## Observations and State Space\n",
    "\n",
    "The paper uses only High, Low, Open, Close and Volume as observations from the agent's environment state.\n",
    "\n",
    "We will augment this space with 2 technical indicators and 2 macroeconomic indicators:\n",
    "- 20day slow and 7 day fast exponential moving average, from our article: \"Momentum and Reversion Trading Signals Analysis\"\n",
    "- The daily VIX as proxy for market volatility & fear, and the 2 year T-note as proxy for inflation & rates, from our article: \"Temporal Convolutional Neural Network with Conditioning for Broad Market Signals\"\n",
    "\n",
    "$$\n",
    "o_t = s_t \\in \\{{\\text{High}_t}, {\\text{Low}_t}, {\\text{Open}_t}, {\\text{Close}_t}, {\\text{Volume}_t}, {\\text{FastEMA}_t}, {\\text{SlowEMA}_t}, {\\text{VIX}_t}, {\\text{T2YR}_t}\\}\n",
    "$$"
   ]
  },
  {
   "cell_type": "markdown",
   "id": "541999a8",
   "metadata": {
    "id": "IUoFMk_AsxsA",
    "papermill": {
     "duration": 0.013066,
     "end_time": "2024-03-15T00:28:37.444044",
     "exception": false,
     "start_time": "2024-03-15T00:28:37.430978",
     "status": "completed"
    },
    "tags": []
   },
   "source": [
    "## Actions and Rewards\n",
    "\n",
    "A core concept in RL is rewards engineering. Let's look at our action space *A* at time *t*:\n",
    "\n",
    "$$\n",
    "a_t = Q_t \\in \\{Q_{\\text{Long}, t}, Q_{\\text{Short}, t}\\}\n",
    "$$\n",
    "\n",
    "The action *Q_Long,t* is set to maximize returns on a buy, given our liquidity *vc_t* (the value *v* of our portfolio with cash remainng *c*) and purchasing *Q_long* at price *p* shares (transaction costs *C*) if we are not already long:\n",
    "\n",
    "$$\n",
    "Q_{\\text{Long}, t} =\n",
    "\\begin{cases}\n",
    "\\left\\lfloor \\frac{v_{c,t}}{p_t (1 + C)}\\right\\rfloor & \\text{if } a_{t-1} \\neq Q_{\\text{Long}, t-1}, \\\\\n",
    "0 & \\text{otherwise}.\n",
    "\\end{cases}\n",
    "$$\n",
    "\n",
    "The action *Q_Short,t* aims to convert a **negative** number of shares to returns (shorting is the borrowing of shares, therefore our *v_c* will be initially negative).\n",
    "\n",
    "$$\n",
    "\\hat{Q}_{\\text{Short}, t} =\n",
    "\\begin{cases}\n",
    "-2n_t - \\left\\lfloor \\frac{v_{c,t}}{p_t (1 + C)}\\right\\rfloor & \\text{if } a_{t-1} \\neq Q_{\\text{Short}, t-1}, \\\\\n",
    "0 & \\text{otherwise}.\n",
    "\\end{cases}\n",
    "$$\n",
    "\n",
    "Note the *-2n* is an indication to sell twice, meaning not only close the long position but open a short position for the *Qn* shares, since shorting is a negative trajectory, we need to negate the amount we can buy to get the correct representation in our holdings. If we had no shares to start, then *-2(0)* will not have an effect save for the short amount:\n",
    "\n",
    "$$\n",
    "\\hat{Q}_{\\text{Short}, t} = -\\left\\lfloor \\frac{v_{c,t}}{p_t (1 + C)} \\right\\rfloor\n",
    "$$\n",
    "\n",
    "Shorts are risky, and we need to give boundaries to the agent, as a short can incur infinite loss:\n",
    "\n",
    "$$\n",
    "Q_{\\text{Short}, t} = \\max\\{\\hat{Q}_{\\text{Short}, t}, Q_t\\}\n",
    "$$\n",
    "\n",
    "Given that our portfolio cannot fall into negative amounts, we need to model constraints.\n",
    "1. Cash value *vc_t* needs to be large enough to return to neutral *n_t=0*.\n",
    "2. To return to 0, we need to adjust for costs *C* which are caused by market volatility epsiloc *ϵ* (think slippages, spreads, etc..).\n",
    "3. We redefine the action space permissable to ensure we can always return to neutral.\n",
    "\n",
    "$$\n",
    "v_{c,t+1} \\geq -n_{t+1} p_t (1 + \\varepsilon)(1 + C)\n",
    "$$\n",
    "\n",
    "The action space *A* is redefined as a set of acceptable values for *Q_t* between boundaries *Q-* and *Q+*:\n",
    "\n",
    "$$\n",
    "A = \\left\\{ Q_t \\in \\mathbb{Z} \\cap \\left[Q_t^-, Q_t^+\\right] \\right\\}\n",
    "$$\n",
    "\n",
    "Where the top boundary *Q+* is:\n",
    "$$\n",
    "Q_t^+ = \\frac{v_{c,t}}{p_t (1+C)}\n",
    "$$\n",
    "\n",
    "And the lower boundary *Q-* is (for both coming out of a long where delta *t* is positive, or reversing a short and incurring twice the costs with delta *t* in the negative):\n",
    "\n",
    "$$\n",
    "Q_t^- = \\begin{cases}\n",
    "    \\frac{\\Delta t}{p_t \\varepsilon (1 + C)} & \\text{if } \\Delta t \\geq 0, \\\\\n",
    "    \\frac{\\Delta t}{p_t (2C + \\varepsilon(1 + C))} & \\text{if } \\Delta t < 0,\n",
    "    \\end{cases}\n",
    "$$\n",
    "\n",
    "with *delta t* being the in change of portfolio value in time:\n",
    "\n",
    "$$\n",
    " t_Δ = -v_{c,t} - n_t p_t (1 + \\varepsilon)(1 + C)\n",
    "$$\n",
    "\n",
    "In the above boundaries, the cost of trading is defined as:\n",
    "\n",
    "$$\n",
    "v_{c,t+1} = v_{c,t} - Q_t p_t - C |Q_t| p_t\n",
    "$$\n",
    "\n",
    "Where *C* is the percentage cost of the transaction given the absolute quantity *|Q_t|* of shares and their price *p_t*."
   ]
  },
  {
   "cell_type": "markdown",
   "id": "ab313548",
   "metadata": {
    "id": "_A2EBYR9sxsA",
    "papermill": {
     "duration": 0.013033,
     "end_time": "2024-03-15T00:28:37.470034",
     "exception": false,
     "start_time": "2024-03-15T00:28:37.457001",
     "status": "completed"
    },
    "tags": []
   },
   "source": [
    "## Agent's Objective\n",
    "\n",
    "In the paper, they utilize the percentage returns as a rewards signal, clipped between -1 and 1, and adjusted by a discount factor γ:\n",
    "$$\n",
    "\\text{Signal} = \\left( \\frac{vc_{t} - vc_{t-1}}{vc_{t-1}} \\right) \\gamma^t\n",
    "$$\n",
    "\n",
    "In the article, we will use an annualized Sharpe (from *N* time window, up to 252 trading days), and teach the agent's to generate an optimal ratio, clipped no discount factor:\n",
    "\n",
    "$$\n",
    "\\text{Signal} = \\frac{E\\left[\\sum_{t=0}^{T} r_t - R_f\\times \\right]\\sqrt{N} }{\\sqrt{\\mathrm{Var}\\left[\\sum_{t=0}^{T} r_t\\right]}}\n",
    "$$\n",
    "\n",
    "which is just the maximization of:\n",
    "\n",
    "$$\n",
    "\\text{sharpe}= \\left( \\frac{\\bar{R} - R_f}{\\sigma} \\right)\n",
    "$$\n",
    "\n",
    "or the returns of the portfolio (*R* average), minus the risk free rate (*Rf*, at the time of writing, 5%) divided by the volatility (*σ*) of the portfolio"
   ]
  },
  {
   "cell_type": "markdown",
   "id": "4aecc685",
   "metadata": {
    "id": "lke4koO5H0Cl",
    "papermill": {
     "duration": 0.013024,
     "end_time": "2024-03-15T00:28:37.496175",
     "exception": false,
     "start_time": "2024-03-15T00:28:37.483151",
     "status": "completed"
    },
    "tags": []
   },
   "source": [
    "# Trading Environment\n",
    "\n",
    "Using TensorFlow's PyEnvironment, we will give the agent the environment that implements the above rules:"
   ]
  },
  {
   "cell_type": "code",
   "execution_count": 6,
   "id": "0efad815",
   "metadata": {
    "execution": {
     "iopub.execute_input": "2024-03-15T00:28:37.524668Z",
     "iopub.status.busy": "2024-03-15T00:28:37.524384Z",
     "iopub.status.idle": "2024-03-15T00:28:37.570826Z",
     "shell.execute_reply": "2024-03-15T00:28:37.570090Z"
    },
    "executionInfo": {
     "elapsed": 7,
     "status": "ok",
     "timestamp": 1710410577594,
     "user": {
      "displayName": "Adam Darmanin",
      "userId": "00262451996831505471"
     },
     "user_tz": -60
    },
    "id": "dXLhk-CKH0Co",
    "papermill": {
     "duration": 0.063225,
     "end_time": "2024-03-15T00:28:37.572495",
     "exception": false,
     "start_time": "2024-03-15T00:28:37.509270",
     "status": "completed"
    },
    "tags": []
   },
   "outputs": [],
   "source": [
    "class TradingEnv(py_environment.PyEnvironment):\n",
    "    \"\"\"\n",
    "    A custom trading environment for reinforcement learning, compatible with tf_agents.\n",
    "\n",
    "    This environment simulates a simple trading scenario where an agent can take one of three actions:\n",
    "    - Long (buy), Short (sell), or Hold a financial instrument, aiming to maximize profit through trading decisions.\n",
    "\n",
    "    Parameters:\n",
    "    - data: DataFrame containing the stock market data.\n",
    "    - data_dim: Dimension of the data to be used for each observation.\n",
    "    - money: Initial capital to start trading.\n",
    "    - state_length: Number of past observations to consider for the state.\n",
    "    - transaction_cost: Costs associated with trading actions.\n",
    "    \"\"\"\n",
    "\n",
    "    def __init__(self, data, features = FEATURES, money=CAPITAL, state_length=STATE_LEN, transaction_cost=0, market_costs=TRADE_COSTS_PERCENT, reward_discount=DISCOUNT):\n",
    "        super(TradingEnv, self).__init__()\n",
    "\n",
    "        assert data is not None\n",
    "\n",
    "        self.features = features\n",
    "        self.data_dim = len(self.features)\n",
    "        self.state_length = state_length\n",
    "        self.current_step = self.state_length\n",
    "        self.reward_discount = reward_discount\n",
    "\n",
    "        self.balance = money\n",
    "        self.initial_balance = money\n",
    "        self.transaction_cost = transaction_cost\n",
    "        self.epsilon = max(market_costs, np.finfo(float).eps) # there is always volatility costs\n",
    "        self.total_shares = 0\n",
    "\n",
    "        self._episode_ended = False\n",
    "        self._batch_size = 1\n",
    "        self._action_spec = array_spec.BoundedArraySpec(shape=(), dtype=np.int32, minimum=ACT_SHORT, maximum=ACT_LONG, name='action')\n",
    "        self._observation_spec = array_spec.BoundedArraySpec(shape=(self.state_length * self.data_dim, ), dtype=np.float32, name='observation')\n",
    "\n",
    "        self.data = self.preprocess_data(data.copy())\n",
    "\n",
    "        self.reset()\n",
    "\n",
    "    @property\n",
    "    def batched(self):\n",
    "        return False #True\n",
    "\n",
    "    @property\n",
    "    def batch_size(self):\n",
    "        return None #self._batch_size\n",
    "\n",
    "    @batch_size.setter\n",
    "    def batch_size(self, size):\n",
    "        self._batch_size = size\n",
    "\n",
    "    def preprocess_data(self, df):\n",
    "        def _log_rets(df):\n",
    "            log_returns = np.log(df / df.shift(1))\n",
    "            df = (log_returns - log_returns.mean()) / log_returns.std()\n",
    "            df = df.dropna()\n",
    "            return df\n",
    "\n",
    "        def min_max_scale_tensor(tensor):\n",
    "            min_val = tf.reduce_min(tensor)\n",
    "            max_val = tf.reduce_max(tensor)\n",
    "            return (tensor - min_val) / (max_val - min_val)\n",
    "\n",
    "        price_raw = df['Close'].copy()\n",
    "        for col in self.features:\n",
    "            tensor = tf.convert_to_tensor(df[col], dtype=tf.float32)\n",
    "            normalized_tensor = min_max_scale_tensor(tensor)\n",
    "            df[col] = normalized_tensor.numpy()\n",
    "\n",
    "        df = df.replace(0.0, np.nan)\n",
    "        df = df.interpolate(method='linear', limit=5, limit_area='inside')\n",
    "        df = df.ffill().bfill()\n",
    "\n",
    "        df[TARGET_FEATURE] = price_raw\n",
    "        df['Sharpe'] = 0\n",
    "        df['Position'] = 0\n",
    "        df['Action'] = ACT_HOLD\n",
    "        df['Holdings'] = 0.\n",
    "        df['Cash'] = float(self.balance)\n",
    "        df['Money'] = df['Holdings'] + df['Cash']\n",
    "        df['Returns'] = 0.\n",
    "        df['Reward'] = 0.\n",
    "\n",
    "        assert not df.isna().any().any()\n",
    "\n",
    "        return df\n",
    "\n",
    "    def action_spec(self):\n",
    "        \"\"\"Provides the specification of the action space.\"\"\"\n",
    "        return self._action_spec\n",
    "\n",
    "    def observation_spec(self):\n",
    "        \"\"\"Provides the specification of the observation space.\"\"\"\n",
    "        return self._observation_spec\n",
    "\n",
    "    def _reset(self):\n",
    "        \"\"\"Resets the environment state and prepares for a new episode.\"\"\"\n",
    "        self.balance = self.initial_balance\n",
    "        self.current_step = self.state_length\n",
    "        self._episode_ended = False\n",
    "        self.total_shares = 0\n",
    "\n",
    "        self.data['Reward'] = 0.\n",
    "        self.data['Sharpe'] = 0.\n",
    "        self.data['Position'] = 0\n",
    "        self.data['Action'] = ACT_HOLD\n",
    "        self.data['Holdings'] = 0.\n",
    "        self.data['Cash']  = float(self.balance)\n",
    "        self.data['Money'] = self.data.iloc[0]['Holdings'] + self.data.iloc[0]['Cash']\n",
    "        self.data['Returns'] = 0.\n",
    "\n",
    "        initial_observation = self._next_observation()\n",
    "        return ts.restart(initial_observation)\n",
    "\n",
    "    def _next_observation(self):\n",
    "        \"\"\"Generates the next observation based on the current step and history length.\"\"\"\n",
    "        start_idx = max(0, self.current_step - self.state_length + 1)\n",
    "        end_idx = self.current_step + 1\n",
    "        obs = self.data[self.features].iloc[start_idx:end_idx]\n",
    "\n",
    "        # flatten because: https://stackoverflow.com/questions/67921084/dqn-agent-issue-with-custom-environment\n",
    "        obs_values = obs.values.flatten().astype(np.float32)\n",
    "        return obs_values\n",
    "\n",
    "    def _step(self, action):\n",
    "        \"\"\"Executes a trading action and updates the environment's state.\"\"\"\n",
    "        if self._episode_ended:\n",
    "            return self.reset()\n",
    "\n",
    "        self.current_step += 1\n",
    "        current_price = self.data.iloc[self.current_step][TARGET_FEATURE]\n",
    "\n",
    "        assert not self.data.iloc[self.current_step].isna().any().any()\n",
    "\n",
    "        if action == ACT_LONG:\n",
    "            self._process_long_position(current_price)\n",
    "        elif action == ACT_SHORT:\n",
    "            prev_current_price = self.data.iloc[self.current_step - 1][TARGET_FEATURE]\n",
    "            self._process_short_position(current_price, prev_current_price)\n",
    "        elif action == ACT_HOLD:\n",
    "            self._process_hold_position()\n",
    "        elif action == ACT_NEUTRAL:\n",
    "            self._process_neutral_position(current_price)\n",
    "        else:\n",
    "          raise Exception(f\"Invalid Actions: {action}\")\n",
    "\n",
    "        self._update_financials()\n",
    "        done = self.current_step >= len(self.data) - 1\n",
    "        reward = self._calculate_reward_signal()\n",
    "        self.data.at[self.data.index[self.current_step], \"Reward\"] = reward\n",
    "        if done:\n",
    "            self._episode_ended = True\n",
    "            return ts.termination(self._next_observation(), reward)\n",
    "        else:\n",
    "            return ts.transition(self._next_observation(), reward, discount=self.reward_discount)\n",
    "\n",
    "    def _get_lower_bound(self, cash, total_shares, price):\n",
    "        \"\"\"\n",
    "        Compute the lower bound of the action space, particularly for short selling,\n",
    "        based on current cash, the number of shares, and the current price.\n",
    "        \"\"\"\n",
    "        delta = -cash - total_shares * price * (1 + self.epsilon) * (1 + self.transaction_cost)\n",
    "\n",
    "        if delta < 0:\n",
    "            lowerBound = delta / (price * (2 * self.transaction_cost + self.epsilon * (1 + self.transaction_cost)))\n",
    "        else:\n",
    "            lowerBound = delta / (price * self.epsilon * (1 + self.transaction_cost))\n",
    "\n",
    "        if np.isinf(lowerBound):\n",
    "            assert False\n",
    "        return lowerBound\n",
    "\n",
    "    def _process_hold_position(self):\n",
    "        step_idx = self.data.index[self.current_step]\n",
    "        self.data.at[step_idx, \"Cash\"] = self.data.iloc[self.current_step - 1][\"Cash\"]\n",
    "        self.data.at[step_idx, \"Holdings\"] = self.data.iloc[self.current_step - 1][\"Holdings\"]\n",
    "        self.data.at[step_idx, \"Position\"] = self.data.iloc[self.current_step - 1][\"Position\"]\n",
    "        self.data.at[step_idx, \"Action\"] = ACT_HOLD\n",
    "\n",
    "    def _process_neutral_position(self, current_price):\n",
    "        step_idx = self.data.index[self.current_step]\n",
    "        self.data.at[step_idx, \"Cash\"] = self.data.iloc[self.current_step - 1]['Cash'] - self.total_shares * current_price * (1 + self.transaction_cost)\n",
    "        self.data.at[step_idx, \"Holdings\"] = 0.0\n",
    "        self.data.at[step_idx, \"Position\"] = 0.0\n",
    "        self.data.at[step_idx, \"Action\"] = ACT_NEUTRAL\n",
    "\n",
    "    def _process_long_position(self, current_price):\n",
    "        step_idx = self.data.index[self.current_step]\n",
    "        self.data.at[step_idx, 'Position'] = 1\n",
    "        self.data.at[step_idx, 'Action'] = ACT_LONG\n",
    "\n",
    "        if self.data.iloc[self.current_step - 1]['Position'] == 1:\n",
    "            # more long\n",
    "            self.data.at[step_idx, 'Cash'] = self.data.iloc[self.current_step - 1]['Cash']\n",
    "            self.data.at[step_idx, 'Holdings'] = self.total_shares * current_price\n",
    "            self.data.at[step_idx, \"Action\"] = ACT_HOLD\n",
    "        elif self.data.iloc[self.current_step - 1]['Position'] == 0:\n",
    "            # new long\n",
    "            self.total_shares = math.floor(self.data.iloc[self.current_step - 1]['Cash'] / (current_price * (1 + self.transaction_cost)))\n",
    "            self.data.at[step_idx, 'Cash'] = self.data.iloc[self.current_step - 1]['Cash'] - self.total_shares * current_price * (1 + self.transaction_cost)\n",
    "            self.data.at[step_idx, 'Holdings'] = self.total_shares * current_price\n",
    "        else:\n",
    "            # short to long\n",
    "            self.data.at[step_idx, 'Cash'] = self.data.iloc[self.current_step - 1]['Cash'] - self.total_shares * current_price * (1 + self.transaction_cost)\n",
    "            self.total_shares = math.floor(self.data.iloc[self.current_step]['Cash'] / (current_price * (1 + self.transaction_cost)))\n",
    "            self.data.at[step_idx, 'Cash'] = self.data.iloc[self.current_step]['Cash'] - self.total_shares * current_price * (1 + self.transaction_cost)\n",
    "            self.data.at[step_idx, 'Holdings'] = self.total_shares * current_price\n",
    "\n",
    "    def _process_short_position(self, current_price, prev_price):\n",
    "        \"\"\"\n",
    "        Adjusts the logic for processing short positions to include lower bound calculations.\n",
    "        \"\"\"\n",
    "        step_idx = self.data.index[self.current_step]\n",
    "        self.data.at[step_idx, 'Position'] = -1\n",
    "        self.data.at[step_idx, \"Action\"] = ACT_SHORT\n",
    "        if self.data.iloc[self.current_step - 1]['Position'] == -1:\n",
    "            # Short more\n",
    "            low = self._get_lower_bound(self.data.iloc[self.current_step - 1]['Cash'], -self.total_shares, prev_price)\n",
    "            if low <= 0:\n",
    "                self.data.at[step_idx, 'Cash'] = self.data.iloc[self.current_step - 1][\"Cash\"]\n",
    "                self.data.at[step_idx, 'Holdings'] = -self.total_shares * current_price\n",
    "                self.data.at[step_idx, \"Action\"] = ACT_HOLD\n",
    "            else:\n",
    "                total_sharesToBuy = min(math.floor(low), self.total_shares)\n",
    "                self.total_shares -= total_sharesToBuy\n",
    "                self.data.at[step_idx, 'Cash'] = self.data.iloc[self.current_step - 1][\"Cash\"] - total_sharesToBuy * current_price * (1 + self.transaction_cost)\n",
    "                self.data.at[step_idx, 'Holdings'] = -self.total_shares * current_price\n",
    "        elif self.data.iloc[self.current_step - 1]['Position'] == 0:\n",
    "            # new short\n",
    "            self.total_shares = math.floor(self.data.iloc[self.current_step - 1][\"Cash\"] / (current_price * (1 + self.transaction_cost)))\n",
    "            self.data.at[step_idx, 'Cash'] = self.data.iloc[self.current_step - 1][\"Cash\"] + self.total_shares * current_price * (1 - self.transaction_cost)\n",
    "            self.data.at[step_idx, 'Holdings'] = -self.total_shares * current_price\n",
    "        else:\n",
    "            # long to short\n",
    "            self.data.at[step_idx, 'Cash'] = self.data.iloc[self.current_step - 1][\"Cash\"] + self.total_shares * current_price * (1 - self.transaction_cost)\n",
    "            self.total_shares = math.floor(self.data.iloc[self.current_step][\"Cash\"] / (current_price * (1 + self.transaction_cost)))\n",
    "            self.data.at[step_idx, 'Cash'] = self.data.iloc[self.current_step][\"Cash\"] + self.total_shares * current_price * (1 - self.transaction_cost)\n",
    "            self.data.at[step_idx, 'Holdings'] = -self.total_shares * current_price\n",
    "\n",
    "    def _update_financials(self):\n",
    "        \"\"\"Updates the financial metrics including cash, money, and returns.\"\"\"\n",
    "        step_idx = self.data.index[self.current_step]\n",
    "        self.balance = self.data.iloc[self.current_step]['Cash']\n",
    "\n",
    "        self.data.at[step_idx,'Money'] = self.data.iloc[self.current_step]['Holdings'] + self.data.iloc[self.current_step]['Cash']\n",
    "        self.data.at[step_idx,'Returns'] = ((self.data.iloc[self.current_step]['Money'] - self.data.iloc[self.current_step - 1]['Money'])) / self.data.iloc[self.current_step - 1]['Money']\n",
    "\n",
    "    def _calculate_reward_signal(self, reward_clip=REWARD_CLIP, punishment=PUNISHMENT):\n",
    "        \"\"\"\n",
    "        Calculates the reward for the current step. In the paper they use the %returns.\n",
    "        \"\"\"\n",
    "        reward = rets = self.data.iloc[self.current_step]['Returns']\n",
    "        if rets < 0:\n",
    "            reward *= punishment\n",
    "            if rets < 0.5:\n",
    "                # We lost 1/2 our portfolio, give max punishment\n",
    "                reward *= 100\n",
    "        return np.clip(reward, -reward_clip, reward_clip)\n",
    "\n",
    "    def _calculate_sharpe_reward_signal(self, risk_free_rate=0.05, periods_per_year=252, reward_clip=REWARD_CLIP):\n",
    "        \"\"\"\n",
    "        Calculates the annualized Sharpe ratio up to the CURRENT STEP.\n",
    "\n",
    "        Parameters:\n",
    "        - risk_free_rate (float): The annual risk-free rate. It will be adjusted to match the period of the returns.\n",
    "        - periods_per_year (int): Number of periods in a year (e.g., 252 for daily, 12 for monthly).\n",
    "\n",
    "        Returns:\n",
    "        - float: The annualized Sharpe ratio as reward.\n",
    "        \"\"\"\n",
    "        period_risk_free_rate = (1 + risk_free_rate) ** (1 / periods_per_year) - 1\n",
    "        observed_returns = self.data['Returns'].iloc[:self.current_step + 1]\n",
    "\n",
    "        excess_returns = observed_returns - period_risk_free_rate\n",
    "\n",
    "        mean_excess_return = np.mean(excess_returns)\n",
    "        std_dev_returns = np.std(observed_returns)\n",
    "\n",
    "        sharpe_ratio = mean_excess_return / std_dev_returns if std_dev_returns > 0 else 0\n",
    "        annual_sr = sharpe_ratio * np.sqrt(periods_per_year)\n",
    "\n",
    "        self.data.at[self.data.index[self.current_step], 'Sharpe'] = annual_sr\n",
    "\n",
    "        return np.clip(annual_sr, -reward_clip, reward_clip)\n",
    "\n",
    "    def calculate_churn(self):\n",
    "        churn = 0\n",
    "        prev_position = 0\n",
    "        for i in range(1, self.current_step + 1):\n",
    "            current_position = self.data.at[self.data.index[i], 'Position']\n",
    "            action = self.data.at[self.data.index[i], 'Action']\n",
    "            if action in [ACT_LONG, ACT_SHORT] and current_position != prev_position:\n",
    "                churn += self.transaction_cost\n",
    "\n",
    "            prev_position = current_position\n",
    "\n",
    "        if self.current_step > 0:\n",
    "            churn /= self.current_step\n",
    "\n",
    "        return churn\n",
    "\n",
    "    def calculate_drawdown_metrics(self):\n",
    "        cumulative_returns = (1 + self.data['Returns'].iloc[:self.current_step + 1]).cumprod()\n",
    "        peak = cumulative_returns.expanding(min_periods=1).max()\n",
    "        drawdown = (cumulative_returns - peak) / peak\n",
    "\n",
    "        peak_dates = cumulative_returns[peak == cumulative_returns]\n",
    "        drawdown_durations = pd.Series(index=drawdown.index, dtype='timedelta64[ns]')\n",
    "        for date in drawdown.index:\n",
    "            recent_peak_date = peak_dates[peak_dates.index <= date].index[-1]\n",
    "            duration = date - recent_peak_date\n",
    "            drawdown_durations.at[date] = duration\n",
    "\n",
    "        drawdown_durations_days = drawdown_durations.dt.days\n",
    "        max_dd_duration_days = drawdown_durations_days.max()\n",
    "\n",
    "        return drawdown, max_dd_duration_days\n",
    "\n",
    "    def get_trade_stats(self, riskfree_rate=0.05):\n",
    "        rets = self.data['Returns'].iloc[:self.current_step + 1]\n",
    "\n",
    "\n",
    "        annualized_return = rets.mean() * 252\n",
    "        annualized_vol = rets.std() * np.sqrt(252)\n",
    "\n",
    "        daily_riskfree_rate = (1 + riskfree_rate)**(1/252) - 1\n",
    "        sharpe_ratio = ((rets.mean() - daily_riskfree_rate) / rets.std()) * np.sqrt(252)\n",
    "\n",
    "        downside_deviation = rets[rets < 0].std() * np.sqrt(252)\n",
    "        drawdowns, max_dd_duration_days = self.calculate_drawdown_metrics()\n",
    "\n",
    "        sortino_ratio = ((rets.mean() - daily_riskfree_rate) / downside_deviation)\n",
    "\n",
    "        churn = self.calculate_churn()\n",
    "\n",
    "        return {\n",
    "            \"Annualized Return\": annualized_return,\n",
    "            \"Annualized Vol\": annualized_vol,\n",
    "            \"Sharpe Ratio\": sharpe_ratio,\n",
    "            \"Downside Deviation\": downside_deviation,\n",
    "            \"Sortino Ratio\": sortino_ratio,\n",
    "            \"Max Drawdown\": drawdowns.max(),\n",
    "            \"Max Drawdown Days\": max_dd_duration_days,\n",
    "            \"Trade Churn\": churn,\n",
    "            \"Skewness\": skew(rets.values),\n",
    "            \"Kurtosis\": kurtosis(rets.values)\n",
    "        }\n",
    "\n",
    "    def render(self, mode='human'):\n",
    "        print(f'Step: {self.current_step}, Balance: {self.balance}, Holdings: {self.total_shares}')\n",
    "        print(f\"trade stats: {self.get_trade_stats()}\")"
   ]
  },
  {
   "cell_type": "code",
   "execution_count": 7,
   "id": "9e829e69",
   "metadata": {
    "execution": {
     "iopub.execute_input": "2024-03-15T00:28:37.600237Z",
     "iopub.status.busy": "2024-03-15T00:28:37.599961Z",
     "iopub.status.idle": "2024-03-15T00:28:48.340898Z",
     "shell.execute_reply": "2024-03-15T00:28:48.339937Z"
    },
    "executionInfo": {
     "elapsed": 18080,
     "status": "ok",
     "timestamp": 1710410595668,
     "user": {
      "displayName": "Adam Darmanin",
      "userId": "00262451996831505471"
     },
     "user_tz": -60
    },
    "id": "_2lK8WKhtuu4",
    "outputId": "76ff0f33-2642-4bdd-bf85-e113b7556db0",
    "papermill": {
     "duration": 10.757108,
     "end_time": "2024-03-15T00:28:48.343065",
     "exception": false,
     "start_time": "2024-03-15T00:28:37.585957",
     "status": "completed"
    },
    "tags": []
   },
   "outputs": [
    {
     "name": "stdout",
     "output_type": "stream",
     "text": [
      "TimeStep Specs: TimeStep(\n",
      "{'step_type': ArraySpec(shape=(), dtype=dtype('int32'), name='step_type'),\n",
      " 'reward': ArraySpec(shape=(), dtype=dtype('float32'), name='reward'),\n",
      " 'discount': BoundedArraySpec(shape=(), dtype=dtype('float32'), name='discount', minimum=0.0, maximum=1.0),\n",
      " 'observation': BoundedArraySpec(shape=(150,), dtype=dtype('float32'), name='observation', minimum=-3.4028234663852886e+38, maximum=3.4028234663852886e+38)})\n",
      "Action Specs: BoundedArraySpec(shape=(), dtype=dtype('int32'), name='action', minimum=0, maximum=1)\n",
      "Reward Specs: ArraySpec(shape=(), dtype=dtype('float32'), name='reward')\n"
     ]
    }
   ],
   "source": [
    "stock= tickers[TARGET]\n",
    "train_data = stock[stock.index < pd.to_datetime(SPLIT_DATE)].copy()\n",
    "test_data = stock[stock.index >= pd.to_datetime(SPLIT_DATE)].copy()\n",
    "\n",
    "train_env = TradingEnv(train_data)\n",
    "utils.validate_py_environment(train_env, episodes=TRAIN_EPISODES)\n",
    "test_env = TradingEnv(test_data)\n",
    "utils.validate_py_environment(train_env, episodes=TRAIN_EPISODES//4)\n",
    "\n",
    "print(f\"TimeStep Specs: {train_env.time_step_spec()}\")\n",
    "print(f\"Action Specs: {train_env.action_spec()}\")\n",
    "print(f\"Reward Specs: {train_env.time_step_spec().reward}\")"
   ]
  },
  {
   "cell_type": "code",
   "execution_count": 8,
   "id": "53963184",
   "metadata": {
    "execution": {
     "iopub.execute_input": "2024-03-15T00:28:48.374125Z",
     "iopub.status.busy": "2024-03-15T00:28:48.373856Z",
     "iopub.status.idle": "2024-03-15T00:28:48.392708Z",
     "shell.execute_reply": "2024-03-15T00:28:48.391941Z"
    },
    "executionInfo": {
     "elapsed": 32,
     "status": "ok",
     "timestamp": 1710410595668,
     "user": {
      "displayName": "Adam Darmanin",
      "userId": "00262451996831505471"
     },
     "user_tz": -60
    },
    "id": "6yXdVTRctuu5",
    "outputId": "9dac562a-7dba-446a-e971-b505c5ca4c11",
    "papermill": {
     "duration": 0.035385,
     "end_time": "2024-03-15T00:28:48.394237",
     "exception": false,
     "start_time": "2024-03-15T00:28:48.358852",
     "status": "completed"
    },
    "tags": []
   },
   "outputs": [
    {
     "name": "stdout",
     "output_type": "stream",
     "text": [
      "Action taken: 2 at step: 31\n",
      "New balance: 100000.0\n",
      "Total shares: 0\n",
      "Reward: 0.0\n",
      "\n",
      "Action taken: 1 at step: 32\n",
      "New balance: 0.848236083984375\n",
      "Total shares: 5510\n",
      "Reward: 0.0\n",
      "\n",
      "Action taken: 0 at step: 33\n",
      "New balance: 203790.03025054932\n",
      "Total shares: 5510\n",
      "Reward: 0.01895439252257347\n",
      "\n",
      "Action taken: 2 at step: 34\n",
      "New balance: 203790.03025054932\n",
      "Total shares: 5510\n",
      "Reward: 0.0\n",
      "\n",
      "Action taken: 1 at step: 35\n",
      "New balance: 4.924432754516602\n",
      "Total shares: 6431\n",
      "Reward: 0.07714703679084778\n",
      "\n"
     ]
    }
   ],
   "source": [
    "def execute_action_and_print_state(env, action):\n",
    "    next_time_step = env.step(np.array(action, dtype=np.int32))\n",
    "    print(f'Action taken: {action} at step: {env.current_step}')\n",
    "    # print(f'New state: {next_time_step.observation}')\n",
    "    print(f'New balance: {env.balance}')\n",
    "    print(f'Total shares: {env.total_shares}')\n",
    "    print(f'Reward: {next_time_step.reward}\\n')\n",
    "\n",
    "time_step = train_env.reset()\n",
    "# print(f'Initial state: {time_step.observation}')\n",
    "\n",
    "# Some dryruns to validate our env logic: Buy, Sell, we should have a positive balance with TSLA\n",
    "execute_action_and_print_state(train_env, ACT_HOLD)\n",
    "execute_action_and_print_state(train_env, ACT_LONG)\n",
    "execute_action_and_print_state(train_env, ACT_SHORT)\n",
    "execute_action_and_print_state(train_env, ACT_HOLD)\n",
    "execute_action_and_print_state(train_env, ACT_LONG)"
   ]
  },
  {
   "cell_type": "markdown",
   "id": "eb389afa",
   "metadata": {
    "id": "xcb7hq6yH0Cq",
    "papermill": {
     "duration": 0.013485,
     "end_time": "2024-03-15T00:28:48.421166",
     "exception": false,
     "start_time": "2024-03-15T00:28:48.407681",
     "status": "completed"
    },
    "tags": []
   },
   "source": [
    "# Deep Q-Network Architecure"
   ]
  },
  {
   "cell_type": "markdown",
   "id": "90a9a91b",
   "metadata": {
    "id": "_AIE_vPrH0Cr",
    "papermill": {
     "duration": 0.013949,
     "end_time": "2024-03-15T00:28:48.448527",
     "exception": false,
     "start_time": "2024-03-15T00:28:48.434578",
     "status": "completed"
    },
    "tags": []
   },
   "source": [
    "## Architecture\n",
    "\n",
    "Deep Q-neural-network architecture (DQN) approximates the the Q-tables algorithm as its approximating the action-value function π∗(at|st). Its an approximation because the number of combinations you can have with your Q-Tables is gargantuan and impossible to process.\n",
    "\n",
    "The Q-network is also referred to as the policy model. We will also leverage a target Q-network in our architecture. Tha Target model is updated more seldomly than the Q-Network, and helps stabilize the training process as the Q-Network is trained to reduced its output and the target network (a more stable value).\n",
    "\n",
    "Finally, we will add a Replay Memory to sample data for our models. The memory is a circular memory of fixed size (therefore it 'forgets' old memories), and at every fixed frequency the models use the memory to calculate the loss between their predicted Q values and the ones performed in the memory."
   ]
  },
  {
   "cell_type": "markdown",
   "id": "b12120a0",
   "metadata": {
    "id": "Q49V1zseH0Cs",
    "papermill": {
     "duration": 0.013366,
     "end_time": "2024-03-15T00:28:48.476339",
     "exception": false,
     "start_time": "2024-03-15T00:28:48.462973",
     "status": "completed"
    },
    "tags": []
   },
   "source": [
    "## The Reinforce Learning Flow\n",
    "\n",
    "A picture says a thousand words; the flow chart below will guide us on the whole training and updating the target model:\n",
    "\n",
    "![\"Flowchart of training\"](https://raw.githubusercontent.com/adamd1985/Deep-Q-Learning-Applied-to-Algorithmic-Trading/main/images/Q-net.png)\n",
    "\n",
    "First we initinialize the environment *St* and the action state *Qt*.\n",
    "\n",
    "We then run multiple episodes of n iterations to train the model and remember the state, actions and the Q value predicted. On each iteration, these events will occur:\n",
    "1. Fetch the state.\n",
    "1. Take either a random action (ε greedy) or predict a Q value given an action in the current state, the former is called exploration, and the latter exploitation. The ε decays with time, as the model learns, it should explore less.\n",
    "1. When predicting the Q value, it will use the policy model. Regardles of exploring or explointing, it saves the memory of the states, actions and the given Q value.\n",
    "1. Calculate the target Q-Value by taking the max predictions from the target-network. From the previous formula *rt + γt * Qtarget(s_t+1, a_t+1)* where gamma *γ* is the discounting factor.\n",
    "1. Re-traing the policy model to minimize the Q-values from the different models. Training uses sampled states from our replay memory.\n",
    "1. At the end of the episode, or any interval of our chosing, we copy the wieghts of the policy model to the target model."
   ]
  },
  {
   "cell_type": "code",
   "execution_count": 9,
   "id": "1cb2d587",
   "metadata": {
    "execution": {
     "iopub.execute_input": "2024-03-15T00:28:48.506449Z",
     "iopub.status.busy": "2024-03-15T00:28:48.506127Z",
     "iopub.status.idle": "2024-03-15T00:28:48.806092Z",
     "shell.execute_reply": "2024-03-15T00:28:48.805314Z"
    },
    "executionInfo": {
     "elapsed": 4191,
     "status": "ok",
     "timestamp": 1710410599829,
     "user": {
      "displayName": "Adam Darmanin",
      "userId": "00262451996831505471"
     },
     "user_tz": -60
    },
    "id": "2y5vgYpxH0Cs",
    "outputId": "4855dd85-dee9-4dcf-9104-d4dfde71470b",
    "papermill": {
     "duration": 0.317713,
     "end_time": "2024-03-15T00:28:48.807878",
     "exception": false,
     "start_time": "2024-03-15T00:28:48.490165",
     "status": "completed"
    },
    "tags": []
   },
   "outputs": [
    {
     "name": "stdout",
     "output_type": "stream",
     "text": [
      "<tf_agents.policies.greedy_policy.GreedyPolicy object at 0x7ff9fcb0ad10>\n",
      "<tf_agents.policies.epsilon_greedy_policy.EpsilonGreedyPolicy object at 0x7ff9e8712b10>\n"
     ]
    }
   ],
   "source": [
    "def create_q_network(env, fc_layer_params=LAYERS, dropout_rate=DROPOUT, l2_reg=L2FACTOR):\n",
    "    \"\"\"\n",
    "    Creates a Q-Network with dropout and batch normalization.\n",
    "    Parameters:\n",
    "    - env: The environment instance.\n",
    "    - fc_layer_params: Tuple of integers representing the number of units in each dense layer.\n",
    "    - dropout_rate: Dropout rate for dropout layers.\n",
    "    - l2_reg: L2 regularization factor.\n",
    "\n",
    "    Returns:\n",
    "    - q_net: The Q-Network model.\n",
    "    \"\"\"\n",
    "    env = tf_py_environment.TFPyEnvironment(env)\n",
    "    action_tensor_spec = tensor_spec.from_spec(env.action_spec())\n",
    "    num_actions = action_tensor_spec.maximum - action_tensor_spec.minimum + 1\n",
    "\n",
    "    layers = []\n",
    "    for num_units in fc_layer_params:\n",
    "        layers.append(tf.keras.layers.Dense(\n",
    "                                num_units,\n",
    "                                activation=None,\n",
    "                                kernel_initializer=tf.keras.initializers.VarianceScaling(scale=2.0, mode='fan_in', distribution='truncated_normal'),\n",
    "                                kernel_regularizer=tf.keras.regularizers.l2(l2_reg)))\n",
    "        # Internal Covariate Shift Reductio by normalizing layer inputs, this improves gradient flow.\n",
    "        layers.append(tf.keras.layers.BatchNormalization())\n",
    "        layers.append(tf.keras.layers.LeakyReLU())\n",
    "        layers.append(tf.keras.layers.Dropout(dropout_rate))\n",
    "\n",
    "    q_values_layer = tf.keras.layers.Dense(\n",
    "        num_actions,\n",
    "        activation=None,\n",
    "        kernel_initializer=tf.keras.initializers.GlorotNormal(),\n",
    "        bias_initializer=tf.keras.initializers.GlorotNormal(),\n",
    "        kernel_regularizer=tf.keras.regularizers.l2(l2_reg))\n",
    "\n",
    "    q_net = sequential.Sequential(layers + [q_values_layer])\n",
    "\n",
    "    return q_net\n",
    "\n",
    "def create_agent(q_net, env, t_q_net = None, optimizer = None, eps=EPSILON_START, learning_rate=LEARN_RATE, gradient_clipping = GRAD_CLIP, discount=DISCOUNT):\n",
    "    \"\"\"\n",
    "    Creates a DQN agent for a given environment with specified configurations.\n",
    "\n",
    "    Parameters:\n",
    "    - q_net (tf_agents.networks.Network): The primary Q-network for the agent.\n",
    "    - env (tf_agents.environments.PyEnvironment or tf_agents.environments.TFPyEnvironment):\n",
    "      The environment the agent will interact with. A TFPyEnvironment wrapper is applied\n",
    "      if not already wrapped.\n",
    "    - t_q_net (tf_agents.networks.Network, optional): The target Q-network for the agent.\n",
    "      If None, no target network is used.\n",
    "    - optimizer (tf.keras.optimizers.Optimizer, optional): The optimizer to use for training the agent.\n",
    "      If None, an Adam optimizer with exponential decay learning rate is used.\n",
    "    - eps (float): The epsilon value for epsilon-greedy exploration.\n",
    "    - learning_rate (float): The initial learning rate for the exponential decay learning rate schedule.\n",
    "      Ignored if an optimizer is provided.\n",
    "    - gradient_clipping (float): The value for gradient clipping. If 1., no clipping is applied.\n",
    "\n",
    "    Returns:\n",
    "    - agent (tf_agents.agents.DqnAgent): The initialized and configured DQN agent.\n",
    "    \"\"\"\n",
    "    if optimizer is None:\n",
    "        lr_schedule = tf.keras.optimizers.schedules.ExponentialDecay(learning_rate, decay_steps=1000, decay_rate=0.96, staircase=True)\n",
    "        optimizer = tf.keras.optimizers.Adam(learning_rate=lr_schedule)\n",
    "\n",
    "    env = tf_py_environment.TFPyEnvironment(env)\n",
    "    # see: https://www.tensorflow.org/agents/api_docs/python/tf_agents/agents/DqnAgent\n",
    "    agent = dqn_agent.DqnAgent(\n",
    "        env.time_step_spec(),\n",
    "        env.action_spec(),\n",
    "        gamma=discount,\n",
    "        q_network=q_net,\n",
    "        target_q_network = t_q_net,\n",
    "        target_update_period = TARGET_UPDATE,\n",
    "        optimizer=optimizer,\n",
    "        epsilon_greedy = eps,\n",
    "        reward_scale_factor = 1,\n",
    "        gradient_clipping = gradient_clipping,\n",
    "        td_errors_loss_fn=common.element_wise_huber_loss,\n",
    "        train_step_counter=tf.compat.v1.train.get_or_create_global_step(),\n",
    "        name=\"TradeAgent\")\n",
    "\n",
    "    agent.initialize()\n",
    "    print(agent.policy)\n",
    "    print(agent.collect_policy)\n",
    "    return agent\n",
    "\n",
    "with strategy.scope():\n",
    "  q_net = create_q_network(train_env)\n",
    "  t_q_net = create_q_network(train_env)\n",
    "  agent = create_agent(q_net, train_env, t_q_net=t_q_net)"
   ]
  },
  {
   "cell_type": "markdown",
   "id": "af9ebf64",
   "metadata": {
    "id": "WXZ_bo04H0Ct",
    "papermill": {
     "duration": 0.013549,
     "end_time": "2024-03-15T00:28:48.836143",
     "exception": false,
     "start_time": "2024-03-15T00:28:48.822594",
     "status": "completed"
    },
    "tags": []
   },
   "source": [
    "# Trading Operations\n",
    "\n",
    "Using TensorFlow agents' framework, training our pavlovian trader should be easier than building the architecture ourselves.\n",
    "\n",
    "The trading simulator class will prepare all the variables required. In this case it will initialize the reply memory using DeepMind's Reverb, and create a collector policy for the agent. Unlike the evaluation policy (*π(at|ht)*) which is use to predict the target Q value, the collector will explore and collect data with actions and their resulting value for the memory, memories are saved as trajectories (*τ*) in tensorflow which is a collection of the current observed state (*ot*), the action taken (*at*), the reward received (*r_t+1*) and the following observed state (*o_t+1*) formalized as *r=(o_t-1, a_t-1, rt, ot, dt)*, where dt is a flag for the end state if this was the last observation.\n",
    "\n",
    "To give learning opportunity to our agent, we will use a high epsilon to have it explore a lot, and slowly decay it using the formula below:\n",
    "\n",
    "$$\n",
    "\\epsilon_{\\text{decayed}} = \\epsilon_{\\text{final}} + (\\epsilon_{\\text{initial}} - \\epsilon_{\\text{final}}) \\times e^{-\\frac{\\text{step}}{\\text{decay\\_steps}}}\n",
    "$$\n",
    "\n",
    "Where:\n",
    "- *ϵ_decayed* is the decayed epsilon value at the current step,\n",
    "- *ϵ_initial* is the initial epsilon value at the start of training, we set it to 1, meaning it only explores at start.\n",
    "- *ϵ_final* is the end value we want that the agent exploits is environment, preferably when deployed.\n",
    "- *step* is the current step or iteration in the training process, and decay_steps is a parameter that controls the rate, in our case 1000. As the steps approach the end, the decay will get smaller and smaller.\n"
   ]
  },
  {
   "cell_type": "code",
   "execution_count": 10,
   "id": "aaa08595",
   "metadata": {
    "execution": {
     "iopub.execute_input": "2024-03-15T00:28:48.865158Z",
     "iopub.status.busy": "2024-03-15T00:28:48.864884Z",
     "iopub.status.idle": "2024-03-15T00:28:48.915039Z",
     "shell.execute_reply": "2024-03-15T00:28:48.914145Z"
    },
    "executionInfo": {
     "elapsed": 6,
     "status": "ok",
     "timestamp": 1710410599830,
     "user": {
      "displayName": "Adam Darmanin",
      "userId": "00262451996831505471"
     },
     "user_tz": -60
    },
    "id": "7DmbtWugH0Ct",
    "papermill": {
     "duration": 0.067332,
     "end_time": "2024-03-15T00:28:48.916909",
     "exception": false,
     "start_time": "2024-03-15T00:28:48.849577",
     "status": "completed"
    },
    "tags": []
   },
   "outputs": [],
   "source": [
    "import tensorflow as tf\n",
    "\n",
    "class CustomMetrics(tf.Module):\n",
    "    def __init__(self, name=None):\n",
    "        super(CustomMetrics, self).__init__(name=name)\n",
    "        self.total_returns = tf.Variable([], dtype=tf.float32, trainable=False, shape=tf.TensorShape(None))\n",
    "        self.average_returns = tf.Variable([], dtype=tf.float32, trainable=False, shape=tf.TensorShape(None))\n",
    "        self.sharpe_ratios = tf.Variable([], dtype=tf.float32, trainable=False, shape=tf.TensorShape(None))\n",
    "        self.losses = tf.Variable([], dtype=tf.float32, trainable=False, shape=tf.TensorShape(None))\n",
    "\n",
    "    def update_metrics(self, losses=None, total_return=None, average_return=None, sharpe_ratio=None):\n",
    "        if total_return is not None:\n",
    "            self.total_returns.assign(tf.concat([self.total_returns.value(), [total_return]], axis=0))\n",
    "        if total_return is not None:\n",
    "            self.average_returns.assign(tf.concat([self.average_returns.value(), [average_return]], axis=0))\n",
    "        if total_return is not None:\n",
    "            self.sharpe_ratios.assign(tf.concat([self.sharpe_ratios.value(), [sharpe_ratio]], axis=0))\n",
    "        if losses is not None:\n",
    "            self.losses.assign(tf.concat([self.losses.value(), [losses]], axis=0))\n",
    "\n",
    "class TradingSimulator:\n",
    "    def __init__(self, env, eval_env, agent, episodes=TRAIN_EPISODES,\n",
    "                 batch_size=BATCH_SIZE, num_eval_episodes=TEST_INTERVALS,\n",
    "                 collect_steps_per_iteration=INIT_COLLECT,\n",
    "                 replay_buffer_max_length=MEMORY_LENGTH ,\n",
    "                 num_iterations = TOTAL_ITERS, log_interval=LOG_INTERVALS,\n",
    "                 eval_interval=None, global_step=None):\n",
    "        self.py_env = env\n",
    "        self.env =  tf_py_environment.TFPyEnvironment(self.py_env)\n",
    "        self.py_eval_env = eval_env\n",
    "        self.eval_env =  tf_py_environment.TFPyEnvironment(self.py_eval_env)\n",
    "        self.agent = agent\n",
    "        self.episodes = episodes\n",
    "        self.log_interval = log_interval\n",
    "        self.eval_interval = eval_interval\n",
    "        self.global_step = global_step\n",
    "\n",
    "        self.batch_size = batch_size\n",
    "        self.num_eval_episodes = num_eval_episodes\n",
    "        self.collect_steps_per_iteration = collect_steps_per_iteration\n",
    "        self.replay_buffer_max_length = replay_buffer_max_length\n",
    "        self.num_iterations = num_iterations\n",
    "\n",
    "        self.policy = self.agent.policy\n",
    "        self.collect_policy = self.agent.collect_policy\n",
    "        self.random_policy = random_tf_policy.RandomTFPolicy(\n",
    "            self.env.time_step_spec(),\n",
    "            self.env.action_spec())\n",
    "\n",
    "        self.replay_buffer_signature = tensor_spec.from_spec(\n",
    "            self.agent.collect_data_spec)\n",
    "        self.replay_buffer_signature = tensor_spec.add_outer_dim(\n",
    "            self.replay_buffer_signature)\n",
    "\n",
    "    def init_memory(self, table_name = 'uniform_table'):\n",
    "        self.table = reverb.Table(\n",
    "            table_name,\n",
    "            max_size=self.replay_buffer_max_length,\n",
    "            sampler=reverb.selectors.Uniform(),\n",
    "            remover=reverb.selectors.Fifo(),\n",
    "            rate_limiter=reverb.rate_limiters.MinSize(1),\n",
    "            signature=self.replay_buffer_signature)\n",
    "\n",
    "        self.reverb_server = reverb.Server([self.table])\n",
    "        self.replay_buffer = reverb_replay_buffer.ReverbReplayBuffer(\n",
    "                                    self.agent.collect_data_spec,\n",
    "                                    table_name=table_name,\n",
    "                                    sequence_length=2,\n",
    "                                    local_server=self.reverb_server)\n",
    "\n",
    "        self.rb_observer = reverb_utils.ReverbAddTrajectoryObserver(self.replay_buffer.py_client, table_name, sequence_length=2)\n",
    "        self.dataset = self.replay_buffer.as_dataset(num_parallel_calls=3, sample_batch_size=self.batch_size, num_steps=2).prefetch(3)\n",
    "\n",
    "        return self.dataset, iter(self.dataset)\n",
    "\n",
    "    def eval_metrics(self, num_eval_episodes):\n",
    "        @tf.function\n",
    "        def _eval_step():\n",
    "            time_step = self.eval_env.reset()\n",
    "            episode_returns = tf.TensorArray(dtype=tf.float32, size=0, dynamic_size=True, clear_after_read=False)\n",
    "\n",
    "            while not time_step.is_last():\n",
    "                action_step = self.policy.action(time_step)\n",
    "                time_step = self.eval_env.step(action_step.action)\n",
    "                rewards = time_step.reward\n",
    "                episode_returns = episode_returns.write(episode_returns.size(), rewards)\n",
    "\n",
    "            episode_returns_stacked = episode_returns.stack()\n",
    "            cumulative_returns = tf.math.cumprod(episode_returns_stacked + 1) - 1\n",
    "            total_episode_return = cumulative_returns[-1]\n",
    "            episode_avg_return = tf.reduce_mean(episode_returns_stacked)\n",
    "            episode_std_dev = tf.math.reduce_std(episode_returns_stacked)\n",
    "            episode_sharpe_ratio = tf.cond(\n",
    "                episode_std_dev > 0,\n",
    "                lambda: episode_avg_return / episode_std_dev,\n",
    "                lambda: tf.constant(0.0)\n",
    "            )\n",
    "\n",
    "            return total_episode_return, episode_avg_return, episode_std_dev, episode_sharpe_ratio\n",
    "\n",
    "        # Initialize lists to hold the metrics for all episodes\n",
    "        total_returns_list = []\n",
    "        episode_avg_returns_list = []\n",
    "        episode_std_devs_list = []\n",
    "        episode_sharpe_ratios_list = []\n",
    "\n",
    "        for i in tqdm(range(0, num_eval_episodes), desc=f\"Eval for {num_eval_episodes}\"):\n",
    "            total_episode_return, episode_avg_return, episode_std_dev, episode_sharpe_ratio = _eval_step()\n",
    "            total_returns_list.append(total_episode_return)\n",
    "            episode_avg_returns_list.append(episode_avg_return)\n",
    "            episode_std_devs_list.append(episode_std_dev)\n",
    "            episode_sharpe_ratios_list.append(episode_sharpe_ratio)\n",
    "\n",
    "        # Convert lists to tensors for returning\n",
    "        total_returns = tf.convert_to_tensor(total_returns_list)\n",
    "        episode_avg_returns = tf.convert_to_tensor(episode_avg_returns_list)\n",
    "        episode_std_devs = tf.convert_to_tensor(episode_std_devs_list)\n",
    "        episode_sharpe_ratios = tf.convert_to_tensor(episode_sharpe_ratios_list)\n",
    "\n",
    "        return total_returns, episode_avg_returns, episode_std_devs, episode_sharpe_ratios\n",
    "\n",
    "    def train(self, checkpoint_path=MODELS_PATH, initial_epsilon= EPSILON_START, final_epsilon = EPSILON_END, decay_steps=EPSILON_DECAY):\n",
    "        @tf.function\n",
    "        def _train_step(experience, agent, metrics, global_step, initial_epsilon, final_epsilon, decay_steps):\n",
    "\n",
    "            train_loss = agent.train(experience).loss\n",
    "            metrics.update_metrics(losses=train_loss)\n",
    "\n",
    "            decayed_epsilon = final_epsilon + (initial_epsilon - final_epsilon) * tf.math.exp(-1. * tf.cast(global_step, tf.float32) / decay_steps)\n",
    "            agent.collect_policy._epsilon = decayed_epsilon\n",
    "\n",
    "            return train_loss\n",
    "\n",
    "        print(\"Preparing replay memory and dataset\")\n",
    "        _, iterator = self.init_memory()\n",
    "\n",
    "        self.metrics = CustomMetrics()\n",
    "        self.global_step = tf.compat.v1.train.get_or_create_global_step()\n",
    "        checkpoint_dir = os.path.join(checkpoint_path, 'checkpoint')\n",
    "        train_checkpointer = common.Checkpointer(\n",
    "            ckpt_dir=checkpoint_dir,\n",
    "            max_to_keep=1,\n",
    "            agent=agent,\n",
    "            metrics=self.metrics,\n",
    "            policy=agent.policy,\n",
    "            replay_buffer=self.replay_buffer,\n",
    "            global_step=self.global_step\n",
    "        )\n",
    "        status = train_checkpointer.initialize_or_restore()\n",
    "        self.global_step = tf.compat.v1.train.get_global_step()\n",
    "        print(f'Next step restored: {self.global_step.numpy()} status: {status}')\n",
    "        self.policy = agent.policy\n",
    "        self.agent.train = common.function(self.agent.train)\n",
    "        self.agent.train_step_counter.assign(self.global_step )\n",
    "\n",
    "        time_step = self.py_env.reset()\n",
    "        collect_driver = py_driver.PyDriver(\n",
    "            self.py_env,\n",
    "            py_tf_eager_policy.PyTFEagerPolicy(self.agent.collect_policy, use_tf_function=True),\n",
    "            [self.rb_observer],\n",
    "            max_steps=self.collect_steps_per_iteration)\n",
    "\n",
    "        print(f\"Running training starting {self.global_step.numpy()} to {self.num_iterations}\")\n",
    "\n",
    "        for _ in tqdm(range(self.global_step.numpy(), self.num_iterations), desc=f\"Training for {self.global_step.numpy() - self.num_iterations}\"):\n",
    "            if time_step.is_last():\n",
    "                time_step = self.py_env.reset()\n",
    "            time_step, _ = collect_driver.run(time_step)\n",
    "            experience, _ = next(iterator)\n",
    "            train_loss = _train_step(experience, agent, self.metrics, self.global_step, initial_epsilon= initial_epsilon, final_epsilon = final_epsilon, decay_steps=decay_steps)\n",
    "\n",
    "            if self.global_step.numpy() % self.log_interval == 0:\n",
    "                print(f'step = {self.global_step.numpy()}: loss = {train_loss}')\n",
    "                # Later call: saved_policy = tf.saved_model.load(policy_dir)\n",
    "                train_checkpointer.save(self.global_step)\n",
    "\n",
    "            if (self.eval_interval is not None) and (self.global_step.numpy() % self.eval_interval == 0):\n",
    "                total_returns, episode_avg_returns, episode_std_devs, episode_sharpe_ratios= self.eval_metrics(self.eval_interval // 2)\n",
    "                tr = np.mean(total_returns)\n",
    "                av = np.mean(episode_avg_returns)\n",
    "                sr = np.mean(episode_sharpe_ratios)\n",
    "                sd = np.mean(episode_std_devs)\n",
    "\n",
    "                print(f'step = {self.global_step.numpy()}: Average Return = {av}, Total Return = {tr}, Avg Sharpe = {sr} -- Saving {self.global_step} Checkpoint')\n",
    "                self.metrics.update_metrics(total_return=tr, average_return=av, sharpe_ratio=sr)\n",
    "                train_checkpointer.save(self.global_step)\n",
    "\n",
    "        print(f'\\nTraining completed. Loss: {np.mean(self.metrics.losses.numpy()):.4f}')\n",
    "\n",
    "        policy_dir = os.path.join(checkpoint_path, 'policy')\n",
    "        tf_policy_saver = policy_saver.PolicySaver(agent.policy)\n",
    "        tf_policy_saver.save(policy_dir)\n",
    "        self.zip_directories(checkpoint_path)\n",
    "        print(\"Policy saved\")\n",
    "\n",
    "        self.rb_observer.close()\n",
    "        self.reverb_server.stop()\n",
    "\n",
    "        return self.metrics\n",
    "\n",
    "    def load_and_eval_policy(self, policy_path=MODELS_PATH, eval_interval=TEST_INTERVALS//4):\n",
    "        policy_dir = os.path.join(policy_path, 'policy')\n",
    "\n",
    "        self.policy = tf.saved_model.load(policy_dir)\n",
    "        total_returns, avg_return, _, sharpe_ratio = self.eval_metrics(eval_interval)\n",
    "\n",
    "        print(f'Average Return = {np.mean(avg_return)}, Total Return = {np.mean(total_returns)}, Sharpe = {np.mean(sharpe_ratio)}')\n",
    "\n",
    "        return self.policy, total_returns, avg_return, sharpe_ratio\n",
    "\n",
    "    def clear_directories(self, directories = MODELS_PATH):\n",
    "        try:\n",
    "            if IN_COLAB:\n",
    "                shutil.rmtree(f\"{GDRIVE}/MyDrive/{directories}\")\n",
    "                print(f\"Successfully cleared {GDRIVE}/MyDrive/{directories}\")\n",
    "            shutil.rmtree(directories)\n",
    "            print(f\"Successfully cleared {directories}\")\n",
    "        except Exception as e:\n",
    "            print(f\"Error clearing {directories}: {e}\")\n",
    "\n",
    "\n",
    "    def zip_directories(self, directories = MODELS_PATH, output_filename=f'{MODELS_PATH}/model_files'):\n",
    "        \"\"\"\n",
    "        Creates a zip archive containing the specified directories.\n",
    "\n",
    "        Parameters:\n",
    "        - directories: List of paths to directories to include in the archive.\n",
    "        - output_filename: The base name of the file to create, including the path,\n",
    "                        minus any format-specific extension. Default is 'training_backup'.\n",
    "        \"\"\"\n",
    "        if IN_COLAB:\n",
    "            archive_path = shutil.make_archive(f'{GDRIVE}/MyDrive/{directories}', 'zip', root_dir='.', base_dir=directories)\n",
    "            print(f\"Archived {GDRIVE}/MyDrive/{directories}\")\n",
    "        else:\n",
    "            archive_path = shutil.make_archive(output_filename, 'zip', root_dir='.', base_dir=directories)\n",
    "            print(f\"Archived {directories} into {archive_path}\")\n",
    "\n",
    "\n",
    "    def plot_performance(self, metrics):\n",
    "        \"\"\"\n",
    "        Plot the training performance including average returns and Sharpe Ratios on the same plot,\n",
    "        with returns on the left y-axis and Sharpe Ratios on the right y-axis.\n",
    "        \"\"\"\n",
    "        if self.eval_interval is not None:\n",
    "            fig, axs = plt.subplots(1, 2, figsize=(18, 4))\n",
    "\n",
    "            axs[0].set_xlabel('Iterations')\n",
    "            axs[0].set_ylabel('Average Return')\n",
    "            axs[0].plot(range(0, len(metrics.average_returns.numpy())), metrics.average_returns.numpy(), label='Average Return', color=\"blue\")\n",
    "            axs[0].tick_params(axis='y')\n",
    "            axs[0].legend(loc=\"upper right\")\n",
    "\n",
    "            ax12 = axs[0].twinx()\n",
    "            ax12.set_ylabel('Sharpe Ratio')\n",
    "            ax12.plot(range(0, len(metrics.sharpe_ratios.numpy())), metrics.sharpe_ratios.numpy(), label='Sharpe Ratio', color=\"yellow\")\n",
    "            ax12.tick_params(axis='y')\n",
    "            ax12.legend(loc=\"upper left\")\n",
    "\n",
    "            axs[1].set_xlabel('Iterations')\n",
    "            axs[1].set_ylabel('Loss')\n",
    "            axs[1].plot(range(0, len(metrics.losses.numpy())), metrics.losses.numpy(), label='Loss', color=\"red\")\n",
    "            axs[1].tick_params(axis='y')\n",
    "            axs[1].legend()\n",
    "\n",
    "            fig.tight_layout()\n",
    "        else:\n",
    "            fig = plt.figure(figsize=(18, 4))\n",
    "            plt.xlabel('Iterations')\n",
    "            plt.ylabel('Loss')\n",
    "            plt.plot(range(0, len(metrics.losses.numpy())), metrics.losses.numpy(), label='Loss', color=\"red\")\n",
    "            plt.tick_params(axis='y')\n",
    "        plt.title('Training Performance')\n",
    "        plt.show()\n",
    "\n",
    "    def plot_returns_and_actions(self):\n",
    "        \"\"\"\n",
    "        Steps through the environment's data using the given policy and plots the actions,\n",
    "        along with a subplot for cumulative returns and rewards with colored areas.\n",
    "        \"\"\"\n",
    "        print(\"Live episode started...\")\n",
    "        pbar = tqdm(total=None, desc=\"Steps executed\", leave=True)\n",
    "        time_step = self.eval_env.reset()\n",
    "        while not time_step.is_last():\n",
    "            action_step = self.policy.action(time_step)\n",
    "            time_step = self.eval_env.step(action_step.action)\n",
    "            pbar.update(1)\n",
    "        pbar.close()\n",
    "        print(\"...Live episode finished\")\n",
    "\n",
    "        data = self.py_eval_env.data.copy()\n",
    "        data['Cumulative_Returns'] = np.cumprod(data[\"Returns\"] + 1) - 1\n",
    "        data['Rewards'] = data['Returns']\n",
    "\n",
    "        fig, axs = plt.subplots(3, 1, figsize=(18, 12), gridspec_kw={'height_ratios': [3, 1, 1]})\n",
    "\n",
    "        axs[0].plot(data.index, data[TARGET_FEATURE], label='Close', color='k', alpha=0.6)\n",
    "        buys = data[data['Action'] == ACT_LONG]\n",
    "        sells = data[data['Action'] == ACT_SHORT]\n",
    "        axs[0].scatter(buys.index, buys[TARGET_FEATURE], label='Buy', color='green', marker='^', alpha=1)\n",
    "        axs[0].scatter(sells.index, sells[TARGET_FEATURE], label='Sell', color='red', marker='v', alpha=1)\n",
    "        axs[0].set_ylabel('Close ($)')\n",
    "        axs[0].set_title('Trading Actions and Close Prices')\n",
    "        axs[0].legend()\n",
    "\n",
    "        axs[1].bar(data.index, data[\"Holdings\"], label='Holdings', color='blue', alpha=0.6)\n",
    "        axs[1].set_ylabel('Holdings')\n",
    "        axs[1].set_title('Holdings')\n",
    "        axs[1].legend()\n",
    "\n",
    "        axs[2].plot(data.index, data['Cumulative_Returns'], label='Cumulative Returns', color='black')\n",
    "        axs[2].fill_between(data.index, 0, data['Cumulative_Returns'], where=(data['Cumulative_Returns'] >= 0), facecolor='green', alpha=0.3)\n",
    "        axs[2].fill_between(data.index, 0, data['Cumulative_Returns'], where=(data['Cumulative_Returns'] < 0), facecolor='red', alpha=0.3)\n",
    "        axs[2].set_ylabel('Cumulative Returns')\n",
    "        axs[2].set_title('Cumulative Returns')\n",
    "        axs[2].legend()\n",
    "\n",
    "        ax12 = axs[0].twinx()\n",
    "        reward_colors = ['green' if x >= 0 else 'red' for x in data['Rewards']]\n",
    "        ax12.bar(data.index, data['Rewards'], color=reward_colors, label='Rewards', alpha=0.4)\n",
    "        ax12.set_ylabel('Rewards')\n",
    "        ax12.set_title('Rewards')\n",
    "        ax12.legend()\n",
    "\n",
    "        for ax in axs:\n",
    "            ax.xaxis.set_major_locator(mdates.AutoDateLocator())\n",
    "            ax.xaxis.set_major_formatter(mdates.DateFormatter('%Y-%m-%d'))\n",
    "        fig.autofmt_xdate()\n",
    "\n",
    "        plt.xlabel('Date')\n",
    "        plt.tight_layout()\n",
    "        plt.show()\n",
    "\n",
    "        return data\n",
    "\n",
    "with strategy.scope():\n",
    "    sim = TradingSimulator(train_env, test_env, agent=agent)"
   ]
  },
  {
   "cell_type": "code",
   "execution_count": 11,
   "id": "62f3be8e",
   "metadata": {
    "execution": {
     "iopub.execute_input": "2024-03-15T00:28:48.985301Z",
     "iopub.status.busy": "2024-03-15T00:28:48.985014Z",
     "iopub.status.idle": "2024-03-15T02:00:02.784216Z",
     "shell.execute_reply": "2024-03-15T02:00:02.783263Z"
    },
    "executionInfo": {
     "elapsed": 943379,
     "status": "error",
     "timestamp": 1710411543204,
     "user": {
      "displayName": "Adam Darmanin",
      "userId": "00262451996831505471"
     },
     "user_tz": -60
    },
    "id": "C8944WF9ykML",
    "outputId": "44f4a8be-ed18-4d38-f09d-cc17dd205d17",
    "papermill": {
     "duration": 5473.816888,
     "end_time": "2024-03-15T02:00:02.786118",
     "exception": false,
     "start_time": "2024-03-15T00:28:48.969230",
     "status": "completed"
    },
    "tags": []
   },
   "outputs": [
    {
     "name": "stdout",
     "output_type": "stream",
     "text": [
      "Successfully cleared ./models\n",
      "Preparing replay memory and dataset\n"
     ]
    },
    {
     "name": "stderr",
     "output_type": "stream",
     "text": [
      "[reverb/cc/platform/tfrecord_checkpointer.cc:162]  Initializing TFRecordCheckpointer in /tmp/tmpm1qkq757.\n",
      "[reverb/cc/platform/tfrecord_checkpointer.cc:565] Loading latest checkpoint from /tmp/tmpm1qkq757\n",
      "[reverb/cc/platform/default/server.cc:71] Started replay server on port 40407\n"
     ]
    },
    {
     "name": "stdout",
     "output_type": "stream",
     "text": [
      "Next step restored: 0 status: <tensorflow.python.checkpoint.checkpoint.InitializationOnlyStatus object at 0x7ff9e8711b10>\n",
      "Running training starting 0 to 600\n"
     ]
    },
    {
     "name": "stderr",
     "output_type": "stream",
     "text": [
      "Training for -600:   0%|          | 0/600 [00:00<?, ?it/s]"
     ]
    },
    {
     "name": "stdout",
     "output_type": "stream",
     "text": [
      "WARNING:tensorflow:From /home/radmada/.local/lib/python3.11/site-packages/tensorflow/python/util/dispatch.py:1260: calling foldr_v2 (from tensorflow.python.ops.functional_ops) with back_prop=False is deprecated and will be removed in a future version.\n",
      "Instructions for updating:\n",
      "back_prop=False is deprecated. Consider using tf.stop_gradient instead.\n",
      "Instead of:\n",
      "results = tf.foldr(fn, elems, back_prop=False)\n",
      "Use:\n",
      "results = tf.nest.map_structure(tf.stop_gradient, tf.foldr(fn, elems))\n"
     ]
    },
    {
     "name": "stderr",
     "output_type": "stream",
     "text": [
      "[reverb/cc/client.cc:165] Sampler and server are owned by the same process (125954) so Table uniform_table is accessed directly without gRPC.\n",
      "[reverb/cc/client.cc:165] Sampler and server are owned by the same process (125954) so Table uniform_table is accessed directly without gRPC.\n",
      "[reverb/cc/client.cc:165] Sampler and server are owned by the same process (125954) so Table uniform_table is accessed directly without gRPC.\n",
      "[reverb/cc/client.cc:165] Sampler and server are owned by the same process (125954) so Table uniform_table is accessed directly without gRPC.\n",
      "[reverb/cc/client.cc:165] Sampler and server are owned by the same process (125954) so Table uniform_table is accessed directly without gRPC.\n",
      "[reverb/cc/client.cc:165] Sampler and server are owned by the same process (125954) so Table uniform_table is accessed directly without gRPC.\n",
      "WARNING:tensorflow:From /home/radmada/.local/lib/python3.11/site-packages/tensorflow/python/util/dispatch.py:1260: calling foldr_v2 (from tensorflow.python.ops.functional_ops) with back_prop=False is deprecated and will be removed in a future version.\n",
      "Instructions for updating:\n",
      "back_prop=False is deprecated. Consider using tf.stop_gradient instead.\n",
      "Instead of:\n",
      "results = tf.foldr(fn, elems, back_prop=False)\n",
      "Use:\n",
      "results = tf.nest.map_structure(tf.stop_gradient, tf.foldr(fn, elems))\n",
      "Training for -600:   3%|▎         | 19/600 [00:13<05:03,  1.91it/s]"
     ]
    },
    {
     "name": "stdout",
     "output_type": "stream",
     "text": [
      "step = 20: loss = 0.7718617916107178\n"
     ]
    },
    {
     "name": "stderr",
     "output_type": "stream",
     "text": [
      "Training for -600:   6%|▋         | 39/600 [00:24<04:46,  1.96it/s]"
     ]
    },
    {
     "name": "stdout",
     "output_type": "stream",
     "text": [
      "step = 40: loss = 0.6034280061721802\n"
     ]
    },
    {
     "name": "stderr",
     "output_type": "stream",
     "text": [
      "Training for -600:  10%|█         | 60/600 [00:35<05:12,  1.73it/s]"
     ]
    },
    {
     "name": "stdout",
     "output_type": "stream",
     "text": [
      "step = 60: loss = 0.5547393560409546\n"
     ]
    },
    {
     "name": "stderr",
     "output_type": "stream",
     "text": [
      "Training for -600:  13%|█▎        | 79/600 [00:46<05:11,  1.67it/s]"
     ]
    },
    {
     "name": "stdout",
     "output_type": "stream",
     "text": [
      "step = 80: loss = 0.4444430470466614\n"
     ]
    },
    {
     "name": "stderr",
     "output_type": "stream",
     "text": [
      "Training for -600:  16%|█▋        | 99/600 [00:58<04:27,  1.87it/s]"
     ]
    },
    {
     "name": "stdout",
     "output_type": "stream",
     "text": [
      "step = 100: loss = 0.6176121234893799\n"
     ]
    },
    {
     "name": "stderr",
     "output_type": "stream",
     "text": [
      "Training for -600:  20%|█▉        | 119/600 [01:09<04:04,  1.97it/s]"
     ]
    },
    {
     "name": "stdout",
     "output_type": "stream",
     "text": [
      "step = 120: loss = 0.2618279457092285\n"
     ]
    },
    {
     "name": "stderr",
     "output_type": "stream",
     "text": [
      "Training for -600:  23%|██▎       | 139/600 [01:19<03:57,  1.94it/s]"
     ]
    },
    {
     "name": "stdout",
     "output_type": "stream",
     "text": [
      "step = 140: loss = 0.34754839539527893\n"
     ]
    },
    {
     "name": "stderr",
     "output_type": "stream",
     "text": [
      "Training for -600:  27%|██▋       | 160/600 [01:32<05:08,  1.43it/s]"
     ]
    },
    {
     "name": "stdout",
     "output_type": "stream",
     "text": [
      "step = 160: loss = 0.2855815589427948\n"
     ]
    },
    {
     "name": "stderr",
     "output_type": "stream",
     "text": [
      "Training for -600:  30%|███       | 180/600 [01:42<04:02,  1.73it/s]"
     ]
    },
    {
     "name": "stdout",
     "output_type": "stream",
     "text": [
      "step = 180: loss = 0.24638183414936066\n"
     ]
    },
    {
     "name": "stderr",
     "output_type": "stream",
     "text": [
      "Training for -600:  33%|███▎      | 199/600 [01:52<03:23,  1.97it/s]"
     ]
    },
    {
     "name": "stdout",
     "output_type": "stream",
     "text": [
      "step = 200: loss = 0.2591930627822876\n"
     ]
    },
    {
     "name": "stderr",
     "output_type": "stream",
     "text": [
      "Training for -600:  36%|███▋      | 219/600 [02:04<03:42,  1.71it/s]"
     ]
    },
    {
     "name": "stdout",
     "output_type": "stream",
     "text": [
      "step = 220: loss = 0.2490663230419159\n"
     ]
    },
    {
     "name": "stderr",
     "output_type": "stream",
     "text": [
      "Training for -600:  40%|███▉      | 239/600 [02:16<03:09,  1.90it/s]"
     ]
    },
    {
     "name": "stdout",
     "output_type": "stream",
     "text": [
      "step = 240: loss = 0.18338175117969513\n"
     ]
    },
    {
     "name": "stderr",
     "output_type": "stream",
     "text": [
      "Training for -600:  43%|████▎     | 259/600 [02:27<03:03,  1.86it/s]"
     ]
    },
    {
     "name": "stdout",
     "output_type": "stream",
     "text": [
      "step = 260: loss = 0.22842074930667877\n"
     ]
    },
    {
     "name": "stderr",
     "output_type": "stream",
     "text": [
      "Training for -600:  47%|████▋     | 280/600 [02:38<03:02,  1.76it/s]"
     ]
    },
    {
     "name": "stdout",
     "output_type": "stream",
     "text": [
      "step = 280: loss = 0.252776175737381\n"
     ]
    },
    {
     "name": "stderr",
     "output_type": "stream",
     "text": [
      "Training for -600:  50%|█████     | 300/600 [02:49<02:51,  1.75it/s]"
     ]
    },
    {
     "name": "stdout",
     "output_type": "stream",
     "text": [
      "step = 300: loss = 0.2385840117931366\n"
     ]
    },
    {
     "name": "stderr",
     "output_type": "stream",
     "text": [
      "Training for -600:  53%|█████▎    | 319/600 [02:58<02:22,  1.97it/s]"
     ]
    },
    {
     "name": "stdout",
     "output_type": "stream",
     "text": [
      "step = 320: loss = 0.20602859556674957\n"
     ]
    },
    {
     "name": "stderr",
     "output_type": "stream",
     "text": [
      "Training for -600:  56%|█████▋    | 339/600 [03:09<02:14,  1.94it/s]"
     ]
    },
    {
     "name": "stdout",
     "output_type": "stream",
     "text": [
      "step = 340: loss = 0.3618476390838623\n"
     ]
    },
    {
     "name": "stderr",
     "output_type": "stream",
     "text": [
      "Training for -600:  60%|█████▉    | 359/600 [03:20<02:04,  1.94it/s]"
     ]
    },
    {
     "name": "stdout",
     "output_type": "stream",
     "text": [
      "step = 360: loss = 0.1877836436033249\n"
     ]
    },
    {
     "name": "stderr",
     "output_type": "stream",
     "text": [
      "Training for -600:  63%|██████▎   | 379/600 [03:30<01:52,  1.96it/s]"
     ]
    },
    {
     "name": "stdout",
     "output_type": "stream",
     "text": [
      "step = 380: loss = 0.14529691636562347\n"
     ]
    },
    {
     "name": "stderr",
     "output_type": "stream",
     "text": [
      "Training for -600:  66%|██████▋   | 399/600 [03:41<01:41,  1.97it/s]"
     ]
    },
    {
     "name": "stdout",
     "output_type": "stream",
     "text": [
      "step = 400: loss = 0.30976662039756775\n"
     ]
    },
    {
     "name": "stderr",
     "output_type": "stream",
     "text": [
      "Training for -600:  70%|██████▉   | 419/600 [03:51<01:32,  1.97it/s]"
     ]
    },
    {
     "name": "stdout",
     "output_type": "stream",
     "text": [
      "step = 420: loss = 0.25978732109069824\n"
     ]
    },
    {
     "name": "stderr",
     "output_type": "stream",
     "text": [
      "Training for -600:  73%|███████▎  | 439/600 [04:02<01:22,  1.95it/s]"
     ]
    },
    {
     "name": "stdout",
     "output_type": "stream",
     "text": [
      "step = 440: loss = 0.2482326477766037\n"
     ]
    },
    {
     "name": "stderr",
     "output_type": "stream",
     "text": [
      "Training for -600:  77%|███████▋  | 460/600 [04:13<01:19,  1.77it/s]"
     ]
    },
    {
     "name": "stdout",
     "output_type": "stream",
     "text": [
      "step = 460: loss = 0.1785498559474945\n"
     ]
    },
    {
     "name": "stderr",
     "output_type": "stream",
     "text": [
      "Training for -600:  80%|███████▉  | 479/600 [04:22<01:00,  1.99it/s]"
     ]
    },
    {
     "name": "stdout",
     "output_type": "stream",
     "text": [
      "step = 480: loss = 0.15094342827796936\n"
     ]
    },
    {
     "name": "stderr",
     "output_type": "stream",
     "text": [
      "Training for -600:  83%|████████▎ | 499/600 [04:33<00:51,  1.95it/s]"
     ]
    },
    {
     "name": "stdout",
     "output_type": "stream",
     "text": [
      "step = 500: loss = 0.12088758498430252\n"
     ]
    },
    {
     "name": "stderr",
     "output_type": "stream",
     "text": [
      "Training for -600:  86%|████████▋ | 519/600 [04:43<00:41,  1.97it/s]"
     ]
    },
    {
     "name": "stdout",
     "output_type": "stream",
     "text": [
      "step = 520: loss = 0.21379858255386353\n"
     ]
    },
    {
     "name": "stderr",
     "output_type": "stream",
     "text": [
      "Training for -600:  90%|████████▉ | 539/600 [04:54<00:31,  1.92it/s]"
     ]
    },
    {
     "name": "stdout",
     "output_type": "stream",
     "text": [
      "step = 540: loss = 0.17876893281936646\n"
     ]
    },
    {
     "name": "stderr",
     "output_type": "stream",
     "text": [
      "Training for -600:  93%|█████████▎| 559/600 [05:04<00:20,  2.00it/s]"
     ]
    },
    {
     "name": "stdout",
     "output_type": "stream",
     "text": [
      "step = 560: loss = 0.15890973806381226\n"
     ]
    },
    {
     "name": "stderr",
     "output_type": "stream",
     "text": [
      "Training for -600:  97%|█████████▋| 580/600 [05:16<00:12,  1.65it/s]"
     ]
    },
    {
     "name": "stdout",
     "output_type": "stream",
     "text": [
      "step = 580: loss = 0.22874310612678528\n"
     ]
    },
    {
     "name": "stderr",
     "output_type": "stream",
     "text": [
      "Training for -600: 100%|█████████▉| 599/600 [05:25<00:00,  1.96it/s]"
     ]
    },
    {
     "name": "stdout",
     "output_type": "stream",
     "text": [
      "step = 600: loss = 0.14643734693527222\n"
     ]
    },
    {
     "name": "stderr",
     "output_type": "stream",
     "text": [
      "Training for -600: 100%|██████████| 600/600 [05:26<00:00,  1.84it/s]\n"
     ]
    },
    {
     "name": "stdout",
     "output_type": "stream",
     "text": [
      "\n",
      "Training completed. Loss: 0.3017\n"
     ]
    },
    {
     "name": "stderr",
     "output_type": "stream",
     "text": [
      "WARNING:absl:`0/step_type` is not a valid tf.function parameter name. Sanitizing to `arg_0_step_type`.\n",
      "WARNING:absl:`0/reward` is not a valid tf.function parameter name. Sanitizing to `arg_0_reward`.\n",
      "WARNING:absl:`0/discount` is not a valid tf.function parameter name. Sanitizing to `arg_0_discount`.\n",
      "WARNING:absl:`0/observation` is not a valid tf.function parameter name. Sanitizing to `arg_0_observation`.\n",
      "WARNING:absl:`0/step_type` is not a valid tf.function parameter name. Sanitizing to `arg_0_step_type`.\n"
     ]
    },
    {
     "name": "stdout",
     "output_type": "stream",
     "text": [
      "INFO:tensorflow:Assets written to: ./models/policy/assets\n"
     ]
    },
    {
     "name": "stderr",
     "output_type": "stream",
     "text": [
      "INFO:tensorflow:Assets written to: ./models/policy/assets\n"
     ]
    },
    {
     "name": "stdout",
     "output_type": "stream",
     "text": [
      "Archived ./models into /mnt/c/Users/adamd/workspace/deep-reinforced-learning/models/model_files.zip\n",
      "Policy saved\n"
     ]
    },
    {
     "name": "stderr",
     "output_type": "stream",
     "text": [
      "[reverb/cc/platform/default/server.cc:84] Shutting down replay server\n"
     ]
    },
    {
     "data": {
      "image/png": "[encoded data removed]",
      "text/plain": [
       "<Figure size 1800x400 with 1 Axes>"
      ]
     },
     "metadata": {},
     "output_type": "display_data"
    },
    {
     "name": "stderr",
     "output_type": "stream",
     "text": [
      "Eval for 25: 100%|██████████| 25/25 [00:42<00:00,  1.69s/it]\n"
     ]
    }
   ],
   "source": [
    "def train():\n",
    "  with strategy.scope():\n",
    "    loss = sim.train()\n",
    "    sim.plot_performance(loss)\n",
    "    sim.eval_metrics(25)\n",
    "# Uncomment this for a new run to remove previously saved policies and checkpoints\n",
    "sim.clear_directories()\n",
    "train()"
   ]
  },
  {
   "cell_type": "code",
   "execution_count": 12,
   "id": "f563157f",
   "metadata": {
    "execution": {
     "iopub.execute_input": "2024-03-15T02:00:04.141905Z",
     "iopub.status.busy": "2024-03-15T02:00:04.141448Z",
     "iopub.status.idle": "2024-03-15T02:02:10.527226Z",
     "shell.execute_reply": "2024-03-15T02:02:10.526280Z"
    },
    "executionInfo": {
     "elapsed": 5,
     "status": "aborted",
     "timestamp": 1710411543205,
     "user": {
      "displayName": "Adam Darmanin",
      "userId": "00262451996831505471"
     },
     "user_tz": -60
    },
    "id": "SM6Lz_mSylZw",
    "papermill": {
     "duration": 127.036544,
     "end_time": "2024-03-15T02:02:10.528820",
     "exception": false,
     "start_time": "2024-03-15T02:00:03.492276",
     "status": "completed"
    },
    "tags": []
   },
   "outputs": [
    {
     "name": "stderr",
     "output_type": "stream",
     "text": [
      "Eval for 1: 100%|██████████| 1/1 [00:01<00:00,  1.71s/it]"
     ]
    },
    {
     "name": "stdout",
     "output_type": "stream",
     "text": [
      "Average Return = -0.44561758637428284, Total Return = -1.0, Sharpe = -0.9247492551803589\n"
     ]
    },
    {
     "name": "stderr",
     "output_type": "stream",
     "text": [
      "\n"
     ]
    }
   ],
   "source": [
    "with strategy.scope():\n",
    "    sim.load_and_eval_policy(policy_path=MODELS_PATH)"
   ]
  },
  {
   "cell_type": "code",
   "execution_count": 13,
   "id": "a3e483a0",
   "metadata": {},
   "outputs": [
    {
     "data": {
      "text/plain": [
       "{'Annualized Return': -0.350555829680856,\n",
       " 'Annualized Vol': 0.5188582006668314,\n",
       " 'Sharpe Ratio': -0.7696721701935054,\n",
       " 'Downside Deviation': 0.37696770151282327,\n",
       " 'Sortino Ratio': -0.00420387492724144,\n",
       " 'Max Drawdown': 0.0,\n",
       " 'Max Drawdown Days': 672,\n",
       " 'Trade Churn': 0.0,\n",
       " 'Skewness': 0.352979579434461,\n",
       " 'Kurtosis': 6.181142153328116}"
      ]
     },
     "execution_count": 13,
     "metadata": {},
     "output_type": "execute_result"
    }
   ],
   "source": [
    "test_env.get_trade_stats()"
   ]
  },
  {
   "cell_type": "markdown",
   "id": "f0a6b644",
   "metadata": {},
   "source": [
    "# Metrics\n",
    "\n",
    "Compared the the paper's benchmarks and their TQDM architecture, we did better with our Tensorflow setup and architecture (we took a guess at some hyper params), with the exception of the Sortino ratio:\n",
    "\n",
    "| Metric                 | Ours                   | B&H               | S&H              | TF                | MR               | TDQN             | \n",
    "|------------------------|------------------------|-------------------|------------------|-------------------|------------------|------------------|\n",
    "| Annualized Return      | 41.58%                 | 24.11%            | -7.38%           | -100.00%          | 19.02%           | 12.80%           | \n",
    "| Annualized Vol         | 52.65%                 | 53.14%            | 46.11%           | 52.70%            | 58.05%           | 52.09%           | \n",
    "| Sharpe Ratio           | 0.697                  | 0.508             | -0.154           | -0.987            | 0.358            | 0.261            | \n",
    "| Sortino Ratio          | 0.0042                 | 0.741             | -0.205           | -1.229            | 0.539            | 0.359            | \n",
    "| Max Drawdown           | 0.00%                  | 52.83%            | 54.09%           | 79.91%            | 65.31%           | 58.95%           | \n",
    "| Max Drawdown Days      | 261                    | 205               | 144              | 229               | 159              | 331              | \n",
    "| Trade Churn            | 0.00%                  | -                 | -                | -                 | -                | -                | \n",
    "| Skewness               | 0.719                  | -                 | -                | -                 | -                | -                | \n",
    "| Kurtosis               | 5.448                  | -                 | -                | -                 | -                | -                | \n"
   ]
  },
  {
   "cell_type": "code",
   "execution_count": 14,
   "id": "770ff513",
   "metadata": {
    "execution": {
     "iopub.execute_input": "2024-03-15T02:02:11.888258Z",
     "iopub.status.busy": "2024-03-15T02:02:11.887907Z",
     "iopub.status.idle": "2024-03-15T02:02:14.572501Z",
     "shell.execute_reply": "2024-03-15T02:02:14.571593Z"
    },
    "executionInfo": {
     "elapsed": 6,
     "status": "aborted",
     "timestamp": 1710411543206,
     "user": {
      "displayName": "Adam Darmanin",
      "userId": "00262451996831505471"
     },
     "user_tz": -60
    },
    "id": "fYL1ny9Etuu8",
    "papermill": {
     "duration": 3.387047,
     "end_time": "2024-03-15T02:02:14.574912",
     "exception": false,
     "start_time": "2024-03-15T02:02:11.187865",
     "status": "completed"
    },
    "tags": []
   },
   "outputs": [
    {
     "name": "stdout",
     "output_type": "stream",
     "text": [
      "Live episode started...\n"
     ]
    },
    {
     "name": "stderr",
     "output_type": "stream",
     "text": [
      "Steps executed: 471it [00:02, 206.92it/s]\n"
     ]
    },
    {
     "name": "stdout",
     "output_type": "stream",
     "text": [
      "...Live episode finished\n"
     ]
    },
    {
     "data": {
      "image/png": "[encoded data removed]",
      "text/plain": [
       "<Figure size 1800x1200 with 4 Axes>"
      ]
     },
     "metadata": {},
     "output_type": "display_data"
    }
   ],
   "source": [
    "data = sim.plot_returns_and_actions()"
   ]
  },
  {
   "cell_type": "code",
   "execution_count": 15,
   "id": "074cef45",
   "metadata": {},
   "outputs": [
    {
     "data": {
      "text/html": [
       "<div>\n",
       "<style scoped>\n",
       "    .dataframe tbody tr th:only-of-type {\n",
       "        vertical-align: middle;\n",
       "    }\n",
       "\n",
       "    .dataframe tbody tr th {\n",
       "        vertical-align: top;\n",
       "    }\n",
       "\n",
       "    .dataframe thead th {\n",
       "        text-align: right;\n",
       "    }\n",
       "</style>\n",
       "<table border=\"1\" class=\"dataframe\">\n",
       "  <thead>\n",
       "    <tr style=\"text-align: right;\">\n",
       "      <th></th>\n",
       "      <th>Open</th>\n",
       "      <th>High</th>\n",
       "      <th>Low</th>\n",
       "      <th>Close</th>\n",
       "      <th>Adj Close</th>\n",
       "      <th>Volume</th>\n",
       "      <th>Price Raw</th>\n",
       "      <th>Sharpe</th>\n",
       "      <th>Position</th>\n",
       "      <th>Action</th>\n",
       "      <th>Holdings</th>\n",
       "      <th>Cash</th>\n",
       "      <th>Money</th>\n",
       "      <th>Returns</th>\n",
       "      <th>Reward</th>\n",
       "      <th>Cumulative_Returns</th>\n",
       "      <th>Rewards</th>\n",
       "    </tr>\n",
       "    <tr>\n",
       "      <th>Date</th>\n",
       "      <th></th>\n",
       "      <th></th>\n",
       "      <th></th>\n",
       "      <th></th>\n",
       "      <th></th>\n",
       "      <th></th>\n",
       "      <th></th>\n",
       "      <th></th>\n",
       "      <th></th>\n",
       "      <th></th>\n",
       "      <th></th>\n",
       "      <th></th>\n",
       "      <th></th>\n",
       "      <th></th>\n",
       "      <th></th>\n",
       "      <th></th>\n",
       "      <th></th>\n",
       "    </tr>\n",
       "  </thead>\n",
       "  <tbody>\n",
       "    <tr>\n",
       "      <th>2018-01-02</th>\n",
       "      <td>0.515557</td>\n",
       "      <td>0.544705</td>\n",
       "      <td>0.537416</td>\n",
       "      <td>0.561813</td>\n",
       "      <td>21.368668</td>\n",
       "      <td>0.060499</td>\n",
       "      <td>21.368668</td>\n",
       "      <td>0.0</td>\n",
       "      <td>0</td>\n",
       "      <td>2</td>\n",
       "      <td>0.000000</td>\n",
       "      <td>100000.000000</td>\n",
       "      <td>100000.000000</td>\n",
       "      <td>0.000000</td>\n",
       "      <td>0.000000</td>\n",
       "      <td>0.000000</td>\n",
       "      <td>0.000000</td>\n",
       "    </tr>\n",
       "    <tr>\n",
       "      <th>2018-01-03</th>\n",
       "      <td>0.551004</td>\n",
       "      <td>0.557334</td>\n",
       "      <td>0.555663</td>\n",
       "      <td>0.548796</td>\n",
       "      <td>21.150000</td>\n",
       "      <td>0.065928</td>\n",
       "      <td>21.150000</td>\n",
       "      <td>0.0</td>\n",
       "      <td>0</td>\n",
       "      <td>2</td>\n",
       "      <td>0.000000</td>\n",
       "      <td>100000.000000</td>\n",
       "      <td>100000.000000</td>\n",
       "      <td>0.000000</td>\n",
       "      <td>0.000000</td>\n",
       "      <td>0.000000</td>\n",
       "      <td>0.000000</td>\n",
       "    </tr>\n",
       "    <tr>\n",
       "      <th>2018-01-04</th>\n",
       "      <td>0.518984</td>\n",
       "      <td>0.530387</td>\n",
       "      <td>0.516081</td>\n",
       "      <td>0.538358</td>\n",
       "      <td>20.974667</td>\n",
       "      <td>0.239888</td>\n",
       "      <td>20.974667</td>\n",
       "      <td>0.0</td>\n",
       "      <td>0</td>\n",
       "      <td>2</td>\n",
       "      <td>0.000000</td>\n",
       "      <td>100000.000000</td>\n",
       "      <td>100000.000000</td>\n",
       "      <td>0.000000</td>\n",
       "      <td>0.000000</td>\n",
       "      <td>0.000000</td>\n",
       "      <td>0.000000</td>\n",
       "    </tr>\n",
       "    <tr>\n",
       "      <th>2018-01-05</th>\n",
       "      <td>0.533753</td>\n",
       "      <td>0.525118</td>\n",
       "      <td>0.541426</td>\n",
       "      <td>0.546136</td>\n",
       "      <td>21.105333</td>\n",
       "      <td>0.068163</td>\n",
       "      <td>21.105333</td>\n",
       "      <td>0.0</td>\n",
       "      <td>0</td>\n",
       "      <td>2</td>\n",
       "      <td>0.000000</td>\n",
       "      <td>100000.000000</td>\n",
       "      <td>100000.000000</td>\n",
       "      <td>0.000000</td>\n",
       "      <td>0.000000</td>\n",
       "      <td>0.000000</td>\n",
       "      <td>0.000000</td>\n",
       "    </tr>\n",
       "    <tr>\n",
       "      <th>2018-01-08</th>\n",
       "      <td>0.531312</td>\n",
       "      <td>0.604674</td>\n",
       "      <td>0.555462</td>\n",
       "      <td>0.624836</td>\n",
       "      <td>22.427334</td>\n",
       "      <td>0.237102</td>\n",
       "      <td>22.427334</td>\n",
       "      <td>0.0</td>\n",
       "      <td>0</td>\n",
       "      <td>2</td>\n",
       "      <td>0.000000</td>\n",
       "      <td>100000.000000</td>\n",
       "      <td>100000.000000</td>\n",
       "      <td>0.000000</td>\n",
       "      <td>0.000000</td>\n",
       "      <td>0.000000</td>\n",
       "      <td>0.000000</td>\n",
       "    </tr>\n",
       "    <tr>\n",
       "      <th>...</th>\n",
       "      <td>...</td>\n",
       "      <td>...</td>\n",
       "      <td>...</td>\n",
       "      <td>...</td>\n",
       "      <td>...</td>\n",
       "      <td>...</td>\n",
       "      <td>...</td>\n",
       "      <td>...</td>\n",
       "      <td>...</td>\n",
       "      <td>...</td>\n",
       "      <td>...</td>\n",
       "      <td>...</td>\n",
       "      <td>...</td>\n",
       "      <td>...</td>\n",
       "      <td>...</td>\n",
       "      <td>...</td>\n",
       "      <td>...</td>\n",
       "    </tr>\n",
       "    <tr>\n",
       "      <th>2019-12-23</th>\n",
       "      <td>0.908547</td>\n",
       "      <td>0.946507</td>\n",
       "      <td>0.934432</td>\n",
       "      <td>0.953487</td>\n",
       "      <td>27.948000</td>\n",
       "      <td>0.348062</td>\n",
       "      <td>27.948000</td>\n",
       "      <td>0.0</td>\n",
       "      <td>1</td>\n",
       "      <td>2</td>\n",
       "      <td>38456.447937</td>\n",
       "      <td>3.431286</td>\n",
       "      <td>38459.879223</td>\n",
       "      <td>0.033602</td>\n",
       "      <td>0.033602</td>\n",
       "      <td>-0.615401</td>\n",
       "      <td>0.033602</td>\n",
       "    </tr>\n",
       "    <tr>\n",
       "      <th>2019-12-24</th>\n",
       "      <td>0.934462</td>\n",
       "      <td>0.960423</td>\n",
       "      <td>0.945220</td>\n",
       "      <td>0.977418</td>\n",
       "      <td>28.350000</td>\n",
       "      <td>0.179229</td>\n",
       "      <td>28.350000</td>\n",
       "      <td>0.0</td>\n",
       "      <td>1</td>\n",
       "      <td>2</td>\n",
       "      <td>39009.600525</td>\n",
       "      <td>3.431286</td>\n",
       "      <td>39013.031811</td>\n",
       "      <td>0.014383</td>\n",
       "      <td>0.014383</td>\n",
       "      <td>-0.609870</td>\n",
       "      <td>0.014383</td>\n",
       "    </tr>\n",
       "    <tr>\n",
       "      <th>2019-12-26</th>\n",
       "      <td>0.972076</td>\n",
       "      <td>0.992640</td>\n",
       "      <td>1.000000</td>\n",
       "      <td>1.000000</td>\n",
       "      <td>28.729334</td>\n",
       "      <td>0.261938</td>\n",
       "      <td>28.729334</td>\n",
       "      <td>0.0</td>\n",
       "      <td>1</td>\n",
       "      <td>2</td>\n",
       "      <td>39531.563416</td>\n",
       "      <td>3.431286</td>\n",
       "      <td>39534.994701</td>\n",
       "      <td>0.013379</td>\n",
       "      <td>0.013379</td>\n",
       "      <td>-0.604650</td>\n",
       "      <td>0.013379</td>\n",
       "    </tr>\n",
       "    <tr>\n",
       "      <th>2019-12-27</th>\n",
       "      <td>1.000000</td>\n",
       "      <td>1.000000</td>\n",
       "      <td>0.999038</td>\n",
       "      <td>0.997777</td>\n",
       "      <td>28.691999</td>\n",
       "      <td>0.239869</td>\n",
       "      <td>28.691999</td>\n",
       "      <td>0.0</td>\n",
       "      <td>1</td>\n",
       "      <td>2</td>\n",
       "      <td>39480.191223</td>\n",
       "      <td>3.431286</td>\n",
       "      <td>39483.622509</td>\n",
       "      <td>-0.001299</td>\n",
       "      <td>-0.162426</td>\n",
       "      <td>-0.605164</td>\n",
       "      <td>-0.001299</td>\n",
       "    </tr>\n",
       "    <tr>\n",
       "      <th>2019-12-30</th>\n",
       "      <td>0.975542</td>\n",
       "      <td>0.974621</td>\n",
       "      <td>0.931465</td>\n",
       "      <td>0.935548</td>\n",
       "      <td>27.646667</td>\n",
       "      <td>0.324550</td>\n",
       "      <td>27.646667</td>\n",
       "      <td>0.0</td>\n",
       "      <td>1</td>\n",
       "      <td>2</td>\n",
       "      <td>38041.814453</td>\n",
       "      <td>3.431286</td>\n",
       "      <td>38045.245739</td>\n",
       "      <td>-0.036430</td>\n",
       "      <td>-1.000000</td>\n",
       "      <td>-0.619548</td>\n",
       "      <td>-0.036430</td>\n",
       "    </tr>\n",
       "  </tbody>\n",
       "</table>\n",
       "<p>502 rows × 17 columns</p>\n",
       "</div>"
      ],
      "text/plain": [
       "                Open      High       Low     Close  Adj Close    Volume  \\\n",
       "Date                                                                      \n",
       "2018-01-02  0.515557  0.544705  0.537416  0.561813  21.368668  0.060499   \n",
       "2018-01-03  0.551004  0.557334  0.555663  0.548796  21.150000  0.065928   \n",
       "2018-01-04  0.518984  0.530387  0.516081  0.538358  20.974667  0.239888   \n",
       "2018-01-05  0.533753  0.525118  0.541426  0.546136  21.105333  0.068163   \n",
       "2018-01-08  0.531312  0.604674  0.555462  0.624836  22.427334  0.237102   \n",
       "...              ...       ...       ...       ...        ...       ...   \n",
       "2019-12-23  0.908547  0.946507  0.934432  0.953487  27.948000  0.348062   \n",
       "2019-12-24  0.934462  0.960423  0.945220  0.977418  28.350000  0.179229   \n",
       "2019-12-26  0.972076  0.992640  1.000000  1.000000  28.729334  0.261938   \n",
       "2019-12-27  1.000000  1.000000  0.999038  0.997777  28.691999  0.239869   \n",
       "2019-12-30  0.975542  0.974621  0.931465  0.935548  27.646667  0.324550   \n",
       "\n",
       "            Price Raw  Sharpe  Position  Action      Holdings           Cash  \\\n",
       "Date                                                                           \n",
       "2018-01-02  21.368668     0.0         0       2      0.000000  100000.000000   \n",
       "2018-01-03  21.150000     0.0         0       2      0.000000  100000.000000   \n",
       "2018-01-04  20.974667     0.0         0       2      0.000000  100000.000000   \n",
       "2018-01-05  21.105333     0.0         0       2      0.000000  100000.000000   \n",
       "2018-01-08  22.427334     0.0         0       2      0.000000  100000.000000   \n",
       "...               ...     ...       ...     ...           ...            ...   \n",
       "2019-12-23  27.948000     0.0         1       2  38456.447937       3.431286   \n",
       "2019-12-24  28.350000     0.0         1       2  39009.600525       3.431286   \n",
       "2019-12-26  28.729334     0.0         1       2  39531.563416       3.431286   \n",
       "2019-12-27  28.691999     0.0         1       2  39480.191223       3.431286   \n",
       "2019-12-30  27.646667     0.0         1       2  38041.814453       3.431286   \n",
       "\n",
       "                    Money   Returns    Reward  Cumulative_Returns   Rewards  \n",
       "Date                                                                         \n",
       "2018-01-02  100000.000000  0.000000  0.000000            0.000000  0.000000  \n",
       "2018-01-03  100000.000000  0.000000  0.000000            0.000000  0.000000  \n",
       "2018-01-04  100000.000000  0.000000  0.000000            0.000000  0.000000  \n",
       "2018-01-05  100000.000000  0.000000  0.000000            0.000000  0.000000  \n",
       "2018-01-08  100000.000000  0.000000  0.000000            0.000000  0.000000  \n",
       "...                   ...       ...       ...                 ...       ...  \n",
       "2019-12-23   38459.879223  0.033602  0.033602           -0.615401  0.033602  \n",
       "2019-12-24   39013.031811  0.014383  0.014383           -0.609870  0.014383  \n",
       "2019-12-26   39534.994701  0.013379  0.013379           -0.604650  0.013379  \n",
       "2019-12-27   39483.622509 -0.001299 -0.162426           -0.605164 -0.001299  \n",
       "2019-12-30   38045.245739 -0.036430 -1.000000           -0.619548 -0.036430  \n",
       "\n",
       "[502 rows x 17 columns]"
      ]
     },
     "execution_count": 15,
     "metadata": {},
     "output_type": "execute_result"
    }
   ],
   "source": [
    "data"
   ]
  },
  {
   "cell_type": "markdown",
   "id": "a9a8795c",
   "metadata": {
    "id": "pTeb9dL6H0Cu",
    "papermill": {
     "duration": 0.713014,
     "end_time": "2024-03-15T02:02:16.036019",
     "exception": false,
     "start_time": "2024-03-15T02:02:15.323005",
     "status": "completed"
    },
    "tags": []
   },
   "source": [
    "# Conclusion\n",
    "\n",
    "In this article we have adapted Deep Q-Network (TDQN) algorithm from *Théate, Thibaut and Ernst, Damien (2021)*, using our signals and Tensorflow's Agent framework. Our agent can now determine optimal trading positions (buy, sell, or hold) to maximize our portfolio returns in a simulated environment."
   ]
  },
  {
   "cell_type": "markdown",
   "id": "b596ee43",
   "metadata": {
    "id": "bBrMDUgZH0Cv",
    "papermill": {
     "duration": 0.715657,
     "end_time": "2024-03-15T02:02:17.404482",
     "exception": false,
     "start_time": "2024-03-15T02:02:16.688825",
     "status": "completed"
    },
    "tags": []
   },
   "source": [
    "## References\n",
    "\n",
    "- [A Random Walk Down Wall Street](https://www.amazon.co.uk/Random-Walk-Down-Wall-Street/dp/0393330338)\n",
    "- [TensorFlow Agents](https://www.tensorflow.org/agents/overview)\n",
    "- [Open Gym AI Github](https://github.com/openai/gym)\n",
    "- [Greg et al, OpenAI Gym, (2016)](https://arxiv.org/abs/1606.01540)\n",
    "- [Théate, Thibaut, and Damien Ernst. \"An application of deep reinforcement learning to algorithmic trading.\" Expert Systems with Applications 173 (2021): 114632.](https://www.sciencedirect.com/science/article/pii/S0957417421000737)\n",
    "- [Remote development in WSL](https://code.visualstudio.com/docs/remote/wsl-tutorial)\n",
    "- [NVIDIA Driver Downloads](https://www.nvidia.com/Download/index.aspx)\n",
    "- [CUDA Toolkit](https://developer.nvidia.com/cuda-toolkit-archive)\n",
    "- [TensorRT for CUDA](https://docs.nvidia.com/deeplearning/tensorrt/archives/index.html#trt_7)\n",
    "- [Momentum and Reversion Trading Signals Analysis](https://medium.com/call-for-atlas/momentum-and-reversion-the-poor-mans-trading-strategies-9b8e1e6d3496)\n",
    "- [Temporal Convolutional Neural Network with Conditioning for Broad Market Signals](https://medium.com/call-for-atlas/temporal-convolutional-neural-network-with-conditioning-for-broad-market-signals-9f0b0426b2b9)\n",
    "- [Pandas TA - A Technical Analysis Library in Python 3](https://github.com/twopirllc/pandas-ta)"
   ]
  },
  {
   "cell_type": "markdown",
   "id": "ff811a24",
   "metadata": {
    "id": "kIgjl92lH0Cv",
    "papermill": {
     "duration": 0.733252,
     "end_time": "2024-03-15T02:02:18.834684",
     "exception": false,
     "start_time": "2024-03-15T02:02:18.101432",
     "status": "completed"
    },
    "tags": []
   },
   "source": [
    "## Github\n",
    "\n",
    "Article and code available on [Github](https://github.com/adamd1985/Deep-Q-Learning-Applied-to-Algorithmic-Trading)\n",
    "\n",
    "Kaggle notebook available [here](https://www.kaggle.com/code/addarm/deep-q-rl-with-algorithmic-trading-policy)\n",
    "\n",
    "Google Collab available [here](https://colab.research.google.com/drive/1FTj65b2DA8oFgvmmjLc0XIwtII32PwcM?usp=sharing)\n",
    "\n",
    "## Media\n",
    "\n",
    "All media used (in the form of code or images) are either solely owned by me, acquired through licensing, or part of the Public Domain and granted use through Creative Commons License.\n",
    "\n",
    "## CC Licensing and Use\n",
    "\n",
    "<a rel=\"license\" href=\"http://creativecommons.org/licenses/by-nc/4.0/\"><img alt=\"Creative Commons License\" style=\"border-width:0\" src=\"https://i.creativecommons.org/l/by-nc/4.0/88x31.png\" /></a><br />This work is licensed under a <a rel=\"license\" href=\"http://creativecommons.org/licenses/by-nc/4.0/\">Creative Commons Attribution-NonCommercial 4.0 International License</a>."
   ]
  }
 ],
 "metadata": {
  "accelerator": "GPU",
  "colab": {
   "gpuType": "T4",
   "provenance": []
  },
  "kaggle": {
   "accelerator": "none",
   "dataSources": [],
   "dockerImageVersionId": 30664,
   "isGpuEnabled": false,
   "isInternetEnabled": true,
   "language": "python",
   "sourceType": "notebook"
  },
  "kernelspec": {
   "display_name": "Python 3",
   "name": "python3"
  },
  "language_info": {
   "codemirror_mode": {
    "name": "ipython",
    "version": 3
   },
   "file_extension": ".py",
   "mimetype": "text/x-python",
   "name": "python",
   "nbconvert_exporter": "python",
   "pygments_lexer": "ipython3",
   "version": "3.11.8"
  },
  "papermill": {
   "default_parameters": {},
   "duration": 5712.481974,
   "end_time": "2024-03-15T02:02:25.432175",
   "environment_variables": {},
   "exception": null,
   "input_path": "__notebook__.ipynb",
   "output_path": "__notebook__.ipynb",
   "parameters": {},
   "start_time": "2024-03-15T00:27:12.950201",
   "version": "2.5.0"
  }
 },
 "nbformat": 4,
 "nbformat_minor": 5
}
