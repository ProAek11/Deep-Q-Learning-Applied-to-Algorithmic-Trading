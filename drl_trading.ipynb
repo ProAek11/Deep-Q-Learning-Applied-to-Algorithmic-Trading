{
 "cells": [
  {
   "cell_type": "markdown",
   "metadata": {},
   "source": [
    "# Deep Q-Learning Applied to Algorithmic Trading\n",
    "\n",
    "<a href=\"https://www.kaggle.com/addarm/unsupervised-learning-as-signals-for-pairs-trading\" target=\"_blank\"><img align=\"left\" alt=\"Kaggle\" title=\"Open in Kaggle\" src=\"https://kaggle.com/static/images/open-in-kaggle.svg\"></a>"
   ]
  },
  {
   "cell_type": "markdown",
   "metadata": {},
   "source": [
    "INTRO\n",
    "\n",
    "\n",
    "This deep learning network was inspired by the paper:\n",
    "```BibTeX\n",
    "@article{theate2021application,\n",
    "  title={An application of deep reinforcement learning to algorithmic trading},\n",
    "  author={Th{\\'e}ate, Thibaut and Ernst, Damien},\n",
    "  journal={Expert Systems with Applications},\n",
    "  volume={173},\n",
    "  pages={114632},\n",
    "  year={2021},\n",
    "  publisher={Elsevier}\n",
    "}\n",
    "```"
   ]
  },
  {
   "cell_type": "code",
   "execution_count": 1,
   "metadata": {},
   "outputs": [
    {
     "name": "stdout",
     "output_type": "stream",
     "text": [
      "Running Local...\n"
     ]
    },
    {
     "data": {
      "text/plain": [
       "'/mnt/c/Users/adamd/workspace/deep-reinforced-learning'"
      ]
     },
     "execution_count": 1,
     "metadata": {},
     "output_type": "execute_result"
    }
   ],
   "source": [
    "import os\n",
    "import warnings\n",
    "warnings.filterwarnings(\"ignore\")\n",
    "\n",
    "IS_KAGGLE = os.getenv('IS_KAGGLE', 'True') == 'True'\n",
    "if IS_KAGGLE:\n",
    "    # Kaggle confgs\n",
    "    print('Running in Kaggle...')\n",
    "    %pip install scikit-learn\n",
    "    %pip install tensorflow\n",
    "    %pip install tqdm\n",
    "    %pip install matplotlib\n",
    "    %pip install python-dotenv\n",
    "    %pip install yfinance\n",
    "    %pip install pyarrow\n",
    "    for dirname, _, filenames in os.walk('/kaggle/input'):\n",
    "        for filename in filenames:\n",
    "            print(os.path.join(dirname, filename))\n",
    "\n",
    "    DATA_DIR = \"/kaggle/input/DATASET\"\n",
    "else:\n",
    "    DATA_DIR = \"./data/\"\n",
    "    print('Running Local...')\n",
    "\n",
    "import numpy as np\n",
    "import yfinance as yf\n",
    "import pandas as pd\n",
    "from datetime import datetime\n",
    "from pandas.tseries.offsets import BDay\n",
    "import matplotlib.pyplot as plt\n",
    "from tqdm import tqdm\n",
    "from scipy.stats import skew, kurtosis\n",
    "import pyarrow as pa\n",
    "import pyarrow.parquet as pq\n",
    "\n",
    "os.getcwd()"
   ]
  },
  {
   "cell_type": "code",
   "execution_count": 2,
   "metadata": {},
   "outputs": [],
   "source": [
    "START_DATE = \"2017-01-01\"\n",
    "SPLIT_DATE = '2018-1-1' # Turning point from train to tst\n",
    "END_DATE = \"2019-12-31\" # pd.Timestamp(datetime.now() - BDay(1)).strftime('%Y-%m-%d')\n",
    "DATA_DIR = \"./data\"\n",
    "INDEX = \"Date\"\n",
    "TICKER_SYMBOLS = [\n",
    "    'DIA',  # Dow Jones\n",
    "    'SPY',  # S&P 500\n",
    "    'QQQ',  # NASDAQ 100\n",
    "    'EZU',  # FTSE 100\n",
    "    'EWJ',  # Nikkei 225\n",
    "    'GOOGL',  # Google\n",
    "    'AAPL',  # Apple\n",
    "    'META',  # Facebook\n",
    "    'AMZN',  # Amazon\n",
    "    'MSFT',  # Microsoft\n",
    "    'NOK',  # Nokia\n",
    "    'PHIA.AS',  # Philips\n",
    "    'SIE.DE',  # Siemens\n",
    "    'BIDU',  # Baidu\n",
    "    'BABA',  # Alibaba\n",
    "    '0700.HK',  # Tencent\n",
    "    '6758.T',  # Sony\n",
    "    'JPM',  # JPMorgan Chase\n",
    "    'HSBC',  # HSBC\n",
    "    '0939.HK',  # CCB\n",
    "    'XOM',  # ExxonMobil\n",
    "    'TSLA',  # Tesla\n",
    "    'VOW3.DE',  # Volkswagen\n",
    "    '7203.T',  # Toyota\n",
    "    'KO',  # Coca Cola\n",
    "    'ABI.BR',  # AB InBev\n",
    "    '2503.T',  # Kirin\n",
    "]\n",
    "TICKER_SYMBOLS = ['TSLA']\n",
    "TARGET = 'TSLA'\n",
    "INTERVAL = \"1d\"\n",
    "\n",
    "CAPITAL = 1000\n",
    "STATE_LEN = 30\n",
    "FEES = 0.1 / 100\n",
    "FEATURES = 4 # 4 dims: HLOC\n",
    "OBS_SPACE = (STATE_LEN)*FEATURES\n",
    "ACT_SPACE = 2\n",
    "EPISODES = 50"
   ]
  },
  {
   "cell_type": "markdown",
   "metadata": {},
   "source": [
    "# Financial Data"
   ]
  },
  {
   "cell_type": "code",
   "execution_count": 3,
   "metadata": {},
   "outputs": [
    {
     "name": "stdout",
     "output_type": "stream",
     "text": [
      "TSLA => min_date: 2017-01-03 00:00:00, max_date: 2019-12-30 00:00:00, kurt:-0.56, skewness:-0.28, outliers_count:0,  nan_count: 0\n"
     ]
    },
    {
     "data": {
      "text/html": [
       "<div>\n",
       "<style scoped>\n",
       "    .dataframe tbody tr th:only-of-type {\n",
       "        vertical-align: middle;\n",
       "    }\n",
       "\n",
       "    .dataframe tbody tr th {\n",
       "        vertical-align: top;\n",
       "    }\n",
       "\n",
       "    .dataframe thead th {\n",
       "        text-align: right;\n",
       "    }\n",
       "</style>\n",
       "<table border=\"1\" class=\"dataframe\">\n",
       "  <thead>\n",
       "    <tr style=\"text-align: right;\">\n",
       "      <th></th>\n",
       "      <th>Open</th>\n",
       "      <th>High</th>\n",
       "      <th>Low</th>\n",
       "      <th>Close</th>\n",
       "      <th>Adj Close</th>\n",
       "      <th>Volume</th>\n",
       "    </tr>\n",
       "    <tr>\n",
       "      <th>Date</th>\n",
       "      <th></th>\n",
       "      <th></th>\n",
       "      <th></th>\n",
       "      <th></th>\n",
       "      <th></th>\n",
       "      <th></th>\n",
       "    </tr>\n",
       "  </thead>\n",
       "  <tbody>\n",
       "    <tr>\n",
       "      <th>2017-01-03</th>\n",
       "      <td>14.324000</td>\n",
       "      <td>14.688667</td>\n",
       "      <td>14.064000</td>\n",
       "      <td>14.466000</td>\n",
       "      <td>14.466000</td>\n",
       "      <td>88849500</td>\n",
       "    </tr>\n",
       "    <tr>\n",
       "      <th>2017-01-04</th>\n",
       "      <td>14.316667</td>\n",
       "      <td>15.200000</td>\n",
       "      <td>14.287333</td>\n",
       "      <td>15.132667</td>\n",
       "      <td>15.132667</td>\n",
       "      <td>168202500</td>\n",
       "    </tr>\n",
       "    <tr>\n",
       "      <th>2017-01-05</th>\n",
       "      <td>15.094667</td>\n",
       "      <td>15.165333</td>\n",
       "      <td>14.796667</td>\n",
       "      <td>15.116667</td>\n",
       "      <td>15.116667</td>\n",
       "      <td>88675500</td>\n",
       "    </tr>\n",
       "    <tr>\n",
       "      <th>2017-01-06</th>\n",
       "      <td>15.128667</td>\n",
       "      <td>15.354000</td>\n",
       "      <td>15.030000</td>\n",
       "      <td>15.267333</td>\n",
       "      <td>15.267333</td>\n",
       "      <td>82918500</td>\n",
       "    </tr>\n",
       "    <tr>\n",
       "      <th>2017-01-09</th>\n",
       "      <td>15.264667</td>\n",
       "      <td>15.461333</td>\n",
       "      <td>15.200000</td>\n",
       "      <td>15.418667</td>\n",
       "      <td>15.418667</td>\n",
       "      <td>59692500</td>\n",
       "    </tr>\n",
       "    <tr>\n",
       "      <th>...</th>\n",
       "      <td>...</td>\n",
       "      <td>...</td>\n",
       "      <td>...</td>\n",
       "      <td>...</td>\n",
       "      <td>...</td>\n",
       "      <td>...</td>\n",
       "    </tr>\n",
       "    <tr>\n",
       "      <th>2019-12-23</th>\n",
       "      <td>27.452000</td>\n",
       "      <td>28.134001</td>\n",
       "      <td>27.333332</td>\n",
       "      <td>27.948000</td>\n",
       "      <td>27.948000</td>\n",
       "      <td>199794000</td>\n",
       "    </tr>\n",
       "    <tr>\n",
       "      <th>2019-12-24</th>\n",
       "      <td>27.890667</td>\n",
       "      <td>28.364668</td>\n",
       "      <td>27.512667</td>\n",
       "      <td>28.350000</td>\n",
       "      <td>28.350000</td>\n",
       "      <td>120820500</td>\n",
       "    </tr>\n",
       "    <tr>\n",
       "      <th>2019-12-26</th>\n",
       "      <td>28.527332</td>\n",
       "      <td>28.898666</td>\n",
       "      <td>28.423332</td>\n",
       "      <td>28.729334</td>\n",
       "      <td>28.729334</td>\n",
       "      <td>159508500</td>\n",
       "    </tr>\n",
       "    <tr>\n",
       "      <th>2019-12-27</th>\n",
       "      <td>29.000000</td>\n",
       "      <td>29.020666</td>\n",
       "      <td>28.407333</td>\n",
       "      <td>28.691999</td>\n",
       "      <td>28.691999</td>\n",
       "      <td>149185500</td>\n",
       "    </tr>\n",
       "    <tr>\n",
       "      <th>2019-12-30</th>\n",
       "      <td>28.586000</td>\n",
       "      <td>28.600000</td>\n",
       "      <td>27.284000</td>\n",
       "      <td>27.646667</td>\n",
       "      <td>27.646667</td>\n",
       "      <td>188796000</td>\n",
       "    </tr>\n",
       "  </tbody>\n",
       "</table>\n",
       "<p>753 rows × 6 columns</p>\n",
       "</div>"
      ],
      "text/plain": [
       "                 Open       High        Low      Close  Adj Close     Volume\n",
       "Date                                                                        \n",
       "2017-01-03  14.324000  14.688667  14.064000  14.466000  14.466000   88849500\n",
       "2017-01-04  14.316667  15.200000  14.287333  15.132667  15.132667  168202500\n",
       "2017-01-05  15.094667  15.165333  14.796667  15.116667  15.116667   88675500\n",
       "2017-01-06  15.128667  15.354000  15.030000  15.267333  15.267333   82918500\n",
       "2017-01-09  15.264667  15.461333  15.200000  15.418667  15.418667   59692500\n",
       "...               ...        ...        ...        ...        ...        ...\n",
       "2019-12-23  27.452000  28.134001  27.333332  27.948000  27.948000  199794000\n",
       "2019-12-24  27.890667  28.364668  27.512667  28.350000  28.350000  120820500\n",
       "2019-12-26  28.527332  28.898666  28.423332  28.729334  28.729334  159508500\n",
       "2019-12-27  29.000000  29.020666  28.407333  28.691999  28.691999  149185500\n",
       "2019-12-30  28.586000  28.600000  27.284000  27.646667  27.646667  188796000\n",
       "\n",
       "[753 rows x 6 columns]"
      ]
     },
     "execution_count": 3,
     "metadata": {},
     "output_type": "execute_result"
    }
   ],
   "source": [
    "def get_tickerdata(tickers_symbols, start=START_DATE, end=END_DATE, interval=INTERVAL, datadir=DATA_DIR):\n",
    "    tickers = {}\n",
    "    earliest_end= datetime.strptime(end,'%Y-%m-%d')\n",
    "    latest_start = datetime.strptime(start,'%Y-%m-%d')\n",
    "    os.makedirs(DATA_DIR, exist_ok=True)\n",
    "    for symbol in tickers_symbols:\n",
    "        cached_file_path = f\"{datadir}/{symbol}-{start}-{end}-{interval}.csv\"\n",
    "\n",
    "        try:\n",
    "            if os.path.exists(cached_file_path):\n",
    "                df = pd.read_parquet(cached_file_path)\n",
    "                df.index = pd.to_datetime(df.index)\n",
    "                assert len(df) > 0\n",
    "            else:\n",
    "                df = yf.download(\n",
    "                    symbol,\n",
    "                    start=START_DATE,\n",
    "                    end=END_DATE,\n",
    "                    progress=False,\n",
    "                    interval=INTERVAL,\n",
    "                )\n",
    "                assert len(df) > 0\n",
    "                df.to_parquet(cached_file_path, index=True, compression=\"snappy\")\n",
    "            min_date = df.index.min()\n",
    "            max_date = df.index.max()\n",
    "            nan_count = df[\"Close\"].isnull().sum()\n",
    "            skewness = round(skew(df[\"Close\"].dropna()), 2)\n",
    "            kurt = round(kurtosis(df[\"Close\"].dropna()), 2)\n",
    "            outliers_count = (df[\"Close\"] > df[\"Close\"].mean() + (3 * df[\"Close\"].std())).sum()\n",
    "            print(\n",
    "                f\"{symbol} => min_date: {min_date}, max_date: {max_date}, kurt:{kurt}, skewness:{skewness}, outliers_count:{outliers_count},  nan_count: {nan_count}\"\n",
    "            )\n",
    "            tickers[symbol] = df\n",
    "\n",
    "            if min_date > latest_start:\n",
    "                latest_start = min_date\n",
    "            if max_date < earliest_end:\n",
    "                earliest_end = max_date\n",
    "        except Exception as e:\n",
    "            print(f\"Error with {symbol}: {e}\")\n",
    "\n",
    "    return tickers, latest_start, earliest_end\n",
    "\n",
    "tickers, latest_start, earliest_end = get_tickerdata(TICKER_SYMBOLS)\n",
    "tickers[TARGET]"
   ]
  },
  {
   "cell_type": "markdown",
   "metadata": {},
   "source": [
    "# Trading Environment"
   ]
  },
  {
   "cell_type": "code",
   "execution_count": 4,
   "metadata": {},
   "outputs": [
    {
     "name": "stderr",
     "output_type": "stream",
     "text": [
      "2024-03-08 21:01:59.475488: E external/local_xla/xla/stream_executor/cuda/cuda_dnn.cc:9261] Unable to register cuDNN factory: Attempting to register factory for plugin cuDNN when one has already been registered\n",
      "2024-03-08 21:01:59.475540: E external/local_xla/xla/stream_executor/cuda/cuda_fft.cc:607] Unable to register cuFFT factory: Attempting to register factory for plugin cuFFT when one has already been registered\n",
      "2024-03-08 21:01:59.476542: E external/local_xla/xla/stream_executor/cuda/cuda_blas.cc:1515] Unable to register cuBLAS factory: Attempting to register factory for plugin cuBLAS when one has already been registered\n",
      "2024-03-08 21:01:59.482487: I tensorflow/core/platform/cpu_feature_guard.cc:182] This TensorFlow binary is optimized to use available CPU instructions in performance-critical operations.\n",
      "To enable the following instructions: AVX2 FMA, in other operations, rebuild TensorFlow with the appropriate compiler flags.\n",
      "2024-03-08 21:02:00.397353: W tensorflow/compiler/tf2tensorrt/utils/py_utils.cc:38] TF-TRT Warning: Could not find TensorRT\n"
     ]
    }
   ],
   "source": [
    "from tf_agents.environments import py_environment, utils\n",
    "from tf_agents.specs import array_spec\n",
    "from tf_agents.trajectories import time_step as ts\n",
    "import numpy as np\n",
    "\n",
    "ACT_LONG = 1\n",
    "ACT_SHORT = -1\n",
    "ACT_HOLD = 0\n",
    "\n",
    "\n",
    "class TradingEnv(py_environment.PyEnvironment):\n",
    "    \"\"\"\n",
    "    A custom trading environment for reinforcement learning, compatible with tf_agents.\n",
    "\n",
    "    This environment simulates a simple trading scenario where an agent can take one of three actions:\n",
    "    - Long (buy), Short (sell), or Hold a financial instrument, aiming to maximize profit through trading decisions.\n",
    "\n",
    "    Parameters:\n",
    "    - data: DataFrame containing the stock market data.\n",
    "    - data_dim: Dimension of the data to be used for each observation.\n",
    "    - money: Initial capital to start trading.\n",
    "    - stateLength: Number of past observations to consider for the state.\n",
    "    - transactionCosts: Costs associated with trading actions.\n",
    "    \"\"\"\n",
    "\n",
    "    def __init__(self, data, data_dim, money, stateLength, transactionCosts):\n",
    "        super(TradingEnv, self).__init__()\n",
    "        self.data = self.preprocess_data(data)\n",
    "        self.data_dim = data_dim\n",
    "        self.min_balance = -money//4\n",
    "        self.initial_balance = money\n",
    "        self.state_length = stateLength\n",
    "        self.transaction_cost = transactionCosts\n",
    "        self._episode_ended = False\n",
    "\n",
    "        self._action_spec = array_spec.BoundedArraySpec(shape=(), dtype=np.int32, minimum=ACT_SHORT, maximum=ACT_LONG, name='action')\n",
    "        self._observation_spec = array_spec.BoundedArraySpec(shape=(self.state_length, self.data_dim), dtype=np.float32, name='observation')\n",
    "\n",
    "        self.reset()\n",
    "\n",
    "    def preprocess_data(self, df):\n",
    "        log_returns = np.log(df / df.shift(1))\n",
    "        normalized_data = (log_returns - log_returns.mean()) / log_returns.std()\n",
    "        normalized_data.dropna(inplace=True)\n",
    "        return normalized_data\n",
    "\n",
    "    def action_spec(self):\n",
    "        \"\"\"Provides the specification of the action space.\"\"\"\n",
    "        return self._action_spec\n",
    "\n",
    "    def observation_spec(self):\n",
    "        \"\"\"Provides the specification of the observation space.\"\"\"\n",
    "        return self._observation_spec\n",
    "\n",
    "    def _reset(self):\n",
    "        \"\"\"Resets the environment state and prepares for a new episode.\"\"\"\n",
    "        self.balance = self.initial_balance\n",
    "        self.position = 0\n",
    "        self.total_shares = 0\n",
    "        self.current_step = self.state_length\n",
    "        self._episode_ended = False\n",
    "        initial_observation = self._next_observation()\n",
    "        return ts.restart(initial_observation)\n",
    "\n",
    "    def _next_observation(self):\n",
    "        \"\"\"Generates the next observation based on the current step.\"\"\"\n",
    "        if self.current_step + self.state_length > len(self.data):\n",
    "            padding_rows_needed = max(len(self.data) - (self.current_step + self.state_length), 0)\n",
    "            frame = self.data.iloc[-self.state_length:] if padding_rows_needed == 0 else self.data.iloc[-padding_rows_needed:]\n",
    "            padding = np.zeros((padding_rows_needed, self.data_dim))\n",
    "            obs = np.vstack((padding, frame[['Close', 'Low', 'High', 'Volume']].values))\n",
    "        else:\n",
    "            frame = self.data.iloc[self.current_step-self.state_length:self.current_step]\n",
    "            obs = frame[['Close', 'Low', 'High', 'Volume']].values\n",
    "\n",
    "        obs = np.array(obs, dtype=np.float32)\n",
    "\n",
    "        return obs\n",
    "\n",
    "    def _step(self, action):\n",
    "        \"\"\"Executes a trading action and returns the new state of the environment.\"\"\"\n",
    "        if self._episode_ended:\n",
    "            return self.reset()\n",
    "\n",
    "        current_price = self.data.iloc[self.current_step]['Close']\n",
    "        self.current_step += 1\n",
    "\n",
    "        reward = 0\n",
    "\n",
    "        if action == ACT_SHORT or action == ACT_LONG:\n",
    "            if self.total_shares > 0:\n",
    "                self.balance += self.total_shares * current_price * (1 - self.transaction_cost)\n",
    "                reward = self.balance - self.initial_balance\n",
    "                self.total_shares = 0\n",
    "\n",
    "        if action == ACT_LONG:\n",
    "            self.position = 1\n",
    "            self.total_shares = self.balance // (current_price * (1 + self.transaction_cost))\n",
    "            self.balance -= self.total_shares * current_price * (1 + self.transaction_cost)\n",
    "        elif action == ACT_SHORT:\n",
    "            self.position = -1\n",
    "\n",
    "        if self.balance < self.min_balance:\n",
    "            # bankrupt\n",
    "            done = True\n",
    "            reward = -1\n",
    "        else:\n",
    "            done = self.current_step >= len(self.data)\n",
    "        reward = np.clip(reward, -1, 1)\n",
    "        if done:\n",
    "            self._episode_ended = True\n",
    "            return ts.termination(self._next_observation(), reward)\n",
    "        else:\n",
    "            return ts.transition(self._next_observation(), reward, discount=1.0)\n",
    "\n",
    "    def render(self, mode='human'):\n",
    "        \"\"\"Outputs the current state of the environment for visualization.\"\"\"\n",
    "        print(f'Step: {self.current_step}, Balance: {self.balance}')\n",
    "\n",
    "environment = TradingEnv(tickers[TARGET], FEATURES, CAPITAL, STATE_LEN, FEES)\n",
    "utils.validate_py_environment(environment, episodes=5)"
   ]
  },
  {
   "cell_type": "code",
   "execution_count": 5,
   "metadata": {},
   "outputs": [
    {
     "name": "stdout",
     "output_type": "stream",
     "text": [
      "True\n",
      "TimeStep Specs: TimeStep(\n",
      "{'step_type': TensorSpec(shape=(), dtype=tf.int32, name='step_type'),\n",
      " 'reward': TensorSpec(shape=(), dtype=tf.float32, name='reward'),\n",
      " 'discount': BoundedTensorSpec(shape=(), dtype=tf.float32, name='discount', minimum=array(0., dtype=float32), maximum=array(1., dtype=float32)),\n",
      " 'observation': BoundedTensorSpec(shape=(30, 4), dtype=tf.float32, name='observation', minimum=array(-3.4028235e+38, dtype=float32), maximum=array(3.4028235e+38, dtype=float32))})\n",
      "Action Specs: BoundedTensorSpec(shape=(), dtype=tf.int32, name='action', minimum=array(-1, dtype=int32), maximum=array(1, dtype=int32))\n"
     ]
    }
   ],
   "source": [
    "from tf_agents.environments import tf_environment\n",
    "from tf_agents.environments import tf_py_environment\n",
    "\n",
    "tf_env = tf_py_environment.TFPyEnvironment(environment)\n",
    "\n",
    "print(isinstance(tf_env, tf_environment.TFEnvironment))\n",
    "print(\"TimeStep Specs:\", tf_env.time_step_spec())\n",
    "print(\"Action Specs:\", tf_env.action_spec())"
   ]
  },
  {
   "cell_type": "markdown",
   "metadata": {},
   "source": [
    "# Deep Q-Network Architecure"
   ]
  },
  {
   "cell_type": "markdown",
   "metadata": {},
   "source": [
    "## Architecture\n",
    "\n",
    "2 models:\n",
    "- Policy Model: This is the primary model that the agent uses to make decisions or select actions based on the current state of the environment. The policy model is actively trained and updated throughout the training process based on the agent's experiences. In real-life applications, after the training phase is complete, the policy model is what gets deployed to make decisions or take actions in the given environment.\n",
    "- Target Model: The target model is used exclusively during the training phase to provide a stable target for the temporal difference (TD) error calculation, which is crucial for the stability of the Q-learning updates. The target model's weights are periodically synchronized with the policy model's weights but at a much slower rate. This delayed update helps to stabilize the learning process by making the target for the policy updates more consistent across training batches. The target model itself is not used for decision-making or action selection outside of the training context.\n",
    "\n",
    "Some notes on this 2 model arch:\n",
    "- Stability/Reducing Temporal Correlations: The agent learns a policy that maps states to actions by using a Q-function. This Q-function estimates the rewards by taking a certain action in a given state. The learning process continuously updates the Q-values based on new experiences. If the Q-function is constantly changing—as it would be when updates are made based on estimates from the same function—it can lead to unstable training dynamics. The estimates can become overly optimistic, and the learning process can diverge.\n",
    "- Target: The target network is a stable baseline for the policy network to compare against. While the policy network is frequently updated to reflect the latest learning, the target network's weights are updated less frequently. This slower update rate provides a fixed target for the policy network to aim for over multiple iterations, making the learning process more stable.\n",
    "\n",
    "In practice, the policy network is responsible for selecting actions during training and gameplay. Its weights are regularly updated to reflect the agent's learning. The target network, on the other hand, is used to generate the Q-value targets for the updates of the policy network. Every few steps, the weights from the policy network are copied to the target network, ensuring the target for the updates remains relatively stable but still gradually adapts to the improved policy. The policy model is used both during training (for learning and decision-making) and after training (for decision-making in the deployment environment).\n",
    "\n",
    "The target model is used during the training process only, to calculate stable target values for updating the policy model.\n",
    "After training is complete and the model is deployed in a real-world application, only the policy model is used to make decisions or take actions based on the learned policy. The target model's role ends with the completion of the training phase, as its primary purpose is to aid in the convergence and stability of the training process itself."
   ]
  },
  {
   "cell_type": "markdown",
   "metadata": {},
   "source": [
    "## DRL Flow\n",
    "\n",
    "- Initialization: init policy network and the target network with the same architecture but separate parameters.\n",
    "- Data Preparation: Normalize input data using calculated coefficients to ensure consistency in scale.\n",
    "- Learning Process:\n",
    "    -At each training step, observe the current market state and process it through normalization.\n",
    "    - Select an action using the epsilon-greedy policy (a balance between exploration and exploitation) based on the current state.\n",
    "    - Execute the selected action in the simulated trading environment, observe the next state, and receive a reward based on the action's outcome.\n",
    "    - Store the experience (current state, action, reward, next state) in the replay memory.\n",
    "    - Sample a random batch of past experiences from the replay memory for learning to reduce correlation between consecutive learning steps.\n",
    "    - Use the policy network to predict Q-values for the current states and the target network to calculate the target Q-values for the next states.\n",
    "    - Update the policy network by minimizing the difference between its Q-value predictions and the target Q-values using backpropagation.\n",
    "    - Every few steps, update the target network's parameters with the policy network's parameters to gradually adapt the learning target.\n",
    "- Evaluation and Adjustment: Periodically test the trained policy network on a separate validation set or environment to evaluate performance.\n",
    "    -Repeat the learning and evaluation process for many episodes until the policy network stabilizes and performs satisfactorily.\n",
    "- Application Phase\n",
    "    - Model Deployment: Deploy the trained policy network in a real-world environment or a simulation that closely mimics real trading conditions.\n",
    "    - Real-time Operation: Observe the current market state and process it (normalization, etc.) as done during training.\n",
    "    - Use the trained policy network to select the action that maximizes expected rewards based on the current market state, leaning towards exploitation of the learned policy over exploration. Execute the selected action in the market (buy, sell, hold).\n",
    "- Continuous Learning:\n",
    "    - Repeat the learning process with new market data and experiences, possibly in a less frequent, offline manner.\n",
    "    - Update the policy and target networks as new data becomes available and as the market evolves to maintain or improve performance over time."
   ]
  },
  {
   "cell_type": "code",
   "execution_count": 6,
   "metadata": {},
   "outputs": [
    {
     "name": "stdout",
     "output_type": "stream",
     "text": [
      "Num GPUs Available:  1\n"
     ]
    },
    {
     "name": "stderr",
     "output_type": "stream",
     "text": [
      "2024-03-08 21:02:04.266452: I external/local_xla/xla/stream_executor/cuda/cuda_executor.cc:887] could not open file to read NUMA node: /sys/bus/pci/devices/0000:01:00.0/numa_node\n",
      "Your kernel may have been built without NUMA support.\n",
      "2024-03-08 21:02:04.302662: I external/local_xla/xla/stream_executor/cuda/cuda_executor.cc:887] could not open file to read NUMA node: /sys/bus/pci/devices/0000:01:00.0/numa_node\n",
      "Your kernel may have been built without NUMA support.\n",
      "2024-03-08 21:02:04.302731: I external/local_xla/xla/stream_executor/cuda/cuda_executor.cc:887] could not open file to read NUMA node: /sys/bus/pci/devices/0000:01:00.0/numa_node\n",
      "Your kernel may have been built without NUMA support.\n"
     ]
    }
   ],
   "source": [
    "import numpy as np\n",
    "import os\n",
    "import tensorflow as tf\n",
    "from tensorflow.keras.models import Sequential, load_model\n",
    "from tensorflow.keras.layers import Dense, BatchNormalization, Dropout, LeakyReLU\n",
    "from tensorflow.keras.optimizers import Adam\n",
    "from tensorflow.keras.initializers import glorot_uniform\n",
    "from tensorflow.keras.regularizers import l2\n",
    "from tensorflow.keras.callbacks import EarlyStopping, ReduceLROnPlateau\n",
    "from tensorflow.keras.losses import Huber\n",
    "from collections import deque\n",
    "import random\n",
    "\n",
    "os.environ['TF_CPP_MIN_LOG_LEVEL'] = '3'\n",
    "print(\"Num GPUs Available: \", len(tf.config.list_physical_devices('GPU')))\n",
    "for gpu in tf.config.experimental.list_physical_devices('GPU'):\n",
    "    tf.config.experimental.set_memory_growth(gpu, True)\n",
    "\n",
    "class ReplayMemory:\n",
    "    def __init__(self, capacity):\n",
    "        self.memory = deque(maxlen=capacity)\n",
    "\n",
    "    def push(self, state, action, reward, next_state, done):\n",
    "        self.memory.append((state, action, reward, next_state, done))\n",
    "\n",
    "    def sample(self, batch_size):\n",
    "        return random.sample(self.memory, batch_size)\n",
    "\n",
    "    def __len__(self):\n",
    "        return len(self.memory)\n",
    "\n",
    "\n",
    "class DQNModel(Sequential):\n",
    "    def __init__(self, observation_space, action_space, learning_rate=0.0001, l2_reg=0.01, neurons=32, dropout=0.2, n_layers=5, activation=LeakyReLU(alpha=0.01), kernel_initializer=glorot_uniform(), loss=Huber()):\n",
    "        super().__init__()\n",
    "\n",
    "        self.add(Dense(neurons, activation=activation, input_shape=(observation_space,), kernel_regularizer=l2(l2_reg), kernel_initializer=kernel_initializer))\n",
    "\n",
    "        for _ in range(1, n_layers):\n",
    "            self.add(Dense(neurons, activation=activation, kernel_regularizer=l2(l2_reg), kernel_initializer=kernel_initializer))\n",
    "            self.add(BatchNormalization())\n",
    "            self.add(Dropout(dropout))\n",
    "\n",
    "        self.add(Dense(action_space, activation='linear', kernel_initializer=kernel_initializer))\n",
    "\n",
    "        self.optimizer = Adam(learning_rate=learning_rate, clipnorm=1.0)\n",
    "        self.compile(loss=loss, optimizer=self.optimizer)\n",
    "\n",
    "\n",
    "class DQNAgent:\n",
    "    def __init__(self, observation_space, action_space, replay_memory_size=10000, batch_size=64, gamma=0.99, epsilon_start=1.0, epsilon_min=0.01, epsilon_decay=0.995, learning_rate=0.001, target_update_iter=1000):\n",
    "        self.action_space = action_space\n",
    "        self.memory = ReplayMemory(replay_memory_size)\n",
    "        self.gamma = gamma\n",
    "        self.epsilon = epsilon_start\n",
    "        self.epsilon_min = epsilon_min\n",
    "        self.epsilon_decay = epsilon_decay\n",
    "        self.batch_size = batch_size\n",
    "        self.target_update_iter = target_update_iter\n",
    "        self.iteration = 0\n",
    "\n",
    "        self.policy_model = DQNModel(observation_space, action_space, learning_rate)\n",
    "        self.target_model = DQNModel(observation_space, action_space, learning_rate)\n",
    "        self.target_model.set_weights(self.policy_model.get_weights())\n",
    "\n",
    "        self.callbacks = [\n",
    "            EarlyStopping(monitor='loss', patience=5, verbose=1, restore_best_weights=True),\n",
    "            ReduceLROnPlateau(monitor='loss', factor=0.2, patience=3, min_lr=0.0001, verbose=1)\n",
    "        ]\n",
    "\n",
    "        self.loss_history = []\n",
    "        self.rewards_history = []\n",
    "        self.total_rewards_history = []\n",
    "        self.epsilon_history = []\n",
    "        self.action_history = []\n",
    "\n",
    "    def remember(self, state, action, reward, next_state, done):\n",
    "        self.memory.push(state, action, reward, next_state, done)\n",
    "        self.action_history.append(action)\n",
    "\n",
    "    def act(self, state):\n",
    "        if np.random.rand() <= self.epsilon:\n",
    "            return random.randrange(self.action_space)\n",
    "        state = np.array(state).flatten()[None, :]\n",
    "\n",
    "        q_values = self.policy_model.predict(state, verbose=0)\n",
    "        return np.argmax(q_values[0])\n",
    "\n",
    "    def replay(self):\n",
    "        if len(self.memory) < self.batch_size:\n",
    "            return 0  # No update if not enough memory\n",
    "\n",
    "        batch = self.memory.sample(self.batch_size)\n",
    "        states, actions, rewards, next_states, dones = zip(*batch)\n",
    "\n",
    "        # Convert lists to numpy arrays for processing\n",
    "        states = np.array([s.flatten() for s in states])\n",
    "        next_states = np.array([ns.flatten() for ns in next_states])\n",
    "        rewards = np.array(rewards)  # Assume rewards are already clipped or don't need clipping\n",
    "        dones = np.array(dones)\n",
    "        actions = np.array(actions)\n",
    "\n",
    "        # Predict the Q values of next states\n",
    "        next_q_values = self.target_model.predict(next_states, verbose=0)\n",
    "\n",
    "        # Compute the maximum q-value for each next state\n",
    "        max_next_q_values = np.max(next_q_values, axis=1)\n",
    "\n",
    "        # Compute the target q values\n",
    "        targets = rewards + (1 - dones) * self.gamma * max_next_q_values\n",
    "        q_values = self.policy_model.predict(states, verbose=0)\n",
    "\n",
    "\n",
    "        for i, action in enumerate(actions):\n",
    "            q_values[i, action] = targets[i]\n",
    "\n",
    "        history = self.policy_model.fit(states, q_values, batch_size=self.batch_size, verbose=0, callbacks=self.callbacks)\n",
    "        loss = history.history['loss'][0]\n",
    "\n",
    "        self.loss_history.append(loss)\n",
    "        self.total_rewards_history.append(np.sum(self.rewards_history))\n",
    "        self.epsilon_history.append(self.epsilon)\n",
    "        self.rewards_history = []  # Reset rewards history for the next episode\n",
    "\n",
    "        self.epsilon = max(self.epsilon_min, self.epsilon * self.epsilon_decay)\n",
    "\n",
    "        # Periodically update the target model's weights\n",
    "        self.iteration += 1\n",
    "        if self.iteration % self.target_update_iter == 0:\n",
    "            self.update_target_model()\n",
    "\n",
    "        return loss\n",
    "\n",
    "    def reset_episode_stats(self):\n",
    "        self.total_reward = 0\n",
    "        self.total_loss = 0\n",
    "        self.episode_steps = 0\n",
    "\n",
    "\n",
    "    def adapt_epsilon(self):\n",
    "        self.epsilon = max(self.epsilon_min, self.epsilon * self.epsilon_decay)\n",
    "\n",
    "    def update_target_model(self):\n",
    "        self.target_model.set_weights(self.policy_model.get_weights())\n",
    "\n",
    "    def save_model(self, file_name):\n",
    "        self.policy_model.save(file_name)\n",
    "\n",
    "    def load_model(self, file_name):\n",
    "        self.policy_model = load_model(file_name)\n",
    "        self.target_model.set_weights(self.policy_model.get_weights())\n",
    "\n",
    "    def plot_history(self):\n",
    "        # Plotting loss history\n",
    "        plt.figure(figsize=(12, 5))\n",
    "        plt.subplot(1, 3, 1)\n",
    "        plt.plot(self.loss_history)\n",
    "        plt.title('Loss History')\n",
    "        plt.xlabel('Episode')\n",
    "        plt.ylabel('Loss')\n",
    "\n",
    "        # Plotting rewards history\n",
    "        plt.subplot(1, 3, 2)\n",
    "        plt.plot(self.total_rewards_history)\n",
    "        plt.title('Total Rewards History')\n",
    "        plt.xlabel('Episode')\n",
    "        plt.ylabel('Total Rewards')\n",
    "\n",
    "        # Plotting epsilon history\n",
    "        plt.subplot(1, 3, 3)\n",
    "        plt.plot(self.epsilon_history)\n",
    "        plt.title('Epsilon Decay')\n",
    "        plt.xlabel('Episode')\n",
    "        plt.ylabel('Epsilon')\n",
    "\n",
    "        plt.tight_layout()\n",
    "        plt.show()"
   ]
  },
  {
   "cell_type": "markdown",
   "metadata": {},
   "source": [
    "# Trading Operations"
   ]
  },
  {
   "cell_type": "code",
   "execution_count": 7,
   "metadata": {},
   "outputs": [],
   "source": [
    "class TradingSimulator:\n",
    "    def __init__(self, env, agent, episodes, checkpoint_interval):\n",
    "        self.env = env\n",
    "        self.agent = agent\n",
    "        self.episodes = episodes\n",
    "        self.checkpoint_interval = checkpoint_interval\n",
    "\n",
    "    def train(self):\n",
    "        self.episode_rewards = []\n",
    "        self.episode_losses = []\n",
    "        for episode in tqdm(range(0, self.episodes + 1), desc=\"Training\"):\n",
    "            self.agent.reset_episode_stats()\n",
    "            time_step = self.env.reset()\n",
    "            state = time_step.observation\n",
    "            done = time_step.is_last()\n",
    "            total_reward = 0\n",
    "            total_loss = 0\n",
    "\n",
    "            while not done:\n",
    "                action = self.agent.act(state)\n",
    "                time_step = self.env.step(action)\n",
    "                next_state = time_step.observation\n",
    "                reward = time_step.reward\n",
    "                done = time_step.is_last()\n",
    "\n",
    "                self.agent.remember(state, action, reward, next_state, done)\n",
    "                if done and self.env.balance < self.env.min_balance:\n",
    "                    print(f\"Episode {episode+1} terminated early due to low balance.\")\n",
    "                loss = self.agent.replay()\n",
    "\n",
    "                state = next_state\n",
    "                total_reward += reward\n",
    "                total_loss += loss\n",
    "\n",
    "            avg_loss = total_loss / episode if episode > 0 else 0\n",
    "            self.episode_rewards.append(total_reward)\n",
    "            self.episode_losses.append(avg_loss)\n",
    "\n",
    "            if episode > 0 and episode % self.checkpoint_interval == 0:\n",
    "                self.agent.save_model(f'dqn_model_checkpoint_{episode}.h5')\n",
    "                print(f\"\\nCheckpoint saved at episode {episode}\")\n",
    "\n",
    "            print(f'\\nEpisode {episode}: Total Reward: {total_reward}, Avg Loss: {avg_loss:.4f}, Epsilon: {self.agent.epsilon:.4f}')\n",
    "\n",
    "            if episode > 0 and episode % self.agent.target_update_iter == 0:\n",
    "                self.agent.update_target_model()\n",
    "\n",
    "        print(f'\\nTraining completed. Mean Reward: {np.mean(self.episode_rewards):.4f}, Mean Loss: {np.mean(self.episode_losses):.4f}')\n",
    "\n",
    "    def validate(self):\n",
    "        total_rewards = []\n",
    "        for episode in tqdm(range(1, self.episodes + 1), desc=\"Validation\"):\n",
    "            self.agent.reset_episode_stats()\n",
    "            time_step = self.env.reset()\n",
    "            state = time_step.observation\n",
    "            done = time_step.is_last()\n",
    "            total_reward = 0\n",
    "\n",
    "            while not done:\n",
    "                action = self.agent.act(state)\n",
    "                time_step = self.env.step(action)\n",
    "                next_state = time_step.observation\n",
    "                reward = time_step.reward\n",
    "                done = time_step.is_last()\n",
    "\n",
    "                state = next_state\n",
    "                total_reward += reward\n",
    "\n",
    "            total_rewards.append(total_reward)\n",
    "            print(f'\\nValidation Episode: {episode}, Total Reward: {total_reward}')\n",
    "\n",
    "        avg_reward = np.mean(total_rewards)\n",
    "        print(f'\\nAverage Reward Over Validation Episodes: {avg_reward:.4f}')\n",
    "\n",
    "\n",
    "    def plot_performance(self):\n",
    "        \"\"\"\n",
    "        Plot the training performance including rewards and losses.\n",
    "        \"\"\"\n",
    "        fig, ax1 = plt.subplots()\n",
    "\n",
    "        color = 'tab:red'\n",
    "        ax1.set_xlabel('Episode')\n",
    "        ax1.set_ylabel('Total Reward', color=color)\n",
    "        ax1.plot(self.episode_rewards, color=color)\n",
    "        ax1.tick_params(axis='y', labelcolor=color)\n",
    "\n",
    "        ax2 = ax1.twinx()  # instantiate a second axes that shares the same x-axis\n",
    "        color = 'tab:blue'\n",
    "        ax2.set_ylabel('Average Loss', color=color)\n",
    "        ax2.plot(self.episode_losses, color=color)\n",
    "        ax2.tick_params(axis='y', labelcolor=color)\n",
    "\n",
    "        fig.tight_layout()  # otherwise the right y-label is slightly clipped\n",
    "        plt.title('Training Performance')\n",
    "        plt.show()\n"
   ]
  },
  {
   "cell_type": "code",
   "execution_count": 8,
   "metadata": {},
   "outputs": [
    {
     "name": "stderr",
     "output_type": "stream",
     "text": [
      "2024-03-08 21:02:04.345662: I external/local_xla/xla/stream_executor/cuda/cuda_executor.cc:887] could not open file to read NUMA node: /sys/bus/pci/devices/0000:01:00.0/numa_node\n",
      "Your kernel may have been built without NUMA support.\n",
      "2024-03-08 21:02:04.345892: I external/local_xla/xla/stream_executor/cuda/cuda_executor.cc:887] could not open file to read NUMA node: /sys/bus/pci/devices/0000:01:00.0/numa_node\n",
      "Your kernel may have been built without NUMA support.\n",
      "2024-03-08 21:02:04.346022: I external/local_xla/xla/stream_executor/cuda/cuda_executor.cc:887] could not open file to read NUMA node: /sys/bus/pci/devices/0000:01:00.0/numa_node\n",
      "Your kernel may have been built without NUMA support.\n",
      "2024-03-08 21:02:04.545551: I external/local_xla/xla/stream_executor/cuda/cuda_executor.cc:887] could not open file to read NUMA node: /sys/bus/pci/devices/0000:01:00.0/numa_node\n",
      "Your kernel may have been built without NUMA support.\n",
      "2024-03-08 21:02:04.545625: I external/local_xla/xla/stream_executor/cuda/cuda_executor.cc:887] could not open file to read NUMA node: /sys/bus/pci/devices/0000:01:00.0/numa_node\n",
      "Your kernel may have been built without NUMA support.\n",
      "2024-03-08 21:02:04.545637: I tensorflow/core/common_runtime/gpu/gpu_device.cc:2022] Could not identify NUMA node of platform GPU id 0, defaulting to 0.  Your kernel may not have been built with NUMA support.\n",
      "2024-03-08 21:02:04.545693: I external/local_xla/xla/stream_executor/cuda/cuda_executor.cc:887] could not open file to read NUMA node: /sys/bus/pci/devices/0000:01:00.0/numa_node\n",
      "Your kernel may have been built without NUMA support.\n",
      "2024-03-08 21:02:04.545713: I tensorflow/core/common_runtime/gpu/gpu_device.cc:1929] Created device /job:localhost/replica:0/task:0/device:GPU:0 with 2246 MB memory:  -> device: 0, name: NVIDIA GeForce GTX 1650, pci bus id: 0000:01:00.0, compute capability: 7.5\n",
      "Training:   0%|          | 0/41 [00:00<?, ?it/s]2024-03-08 21:02:05.781816: I external/local_tsl/tsl/platform/default/subprocess.cc:304] Start cannot spawn child process: No such file or directory\n",
      "2024-03-08 21:02:09.516963: I external/local_xla/xla/service/service.cc:168] XLA service 0x7f194d765980 initialized for platform CUDA (this does not guarantee that XLA will be used). Devices:\n",
      "2024-03-08 21:02:09.517005: I external/local_xla/xla/service/service.cc:176]   StreamExecutor device (0): NVIDIA GeForce GTX 1650, Compute Capability 7.5\n",
      "2024-03-08 21:02:09.523404: I tensorflow/compiler/mlir/tensorflow/utils/dump_mlir_util.cc:269] disabling MLIR crash reproducer, set env var `MLIR_CRASH_REPRODUCER_DIRECTORY` to enable.\n",
      "2024-03-08 21:02:09.541027: I external/local_xla/xla/stream_executor/cuda/cuda_dnn.cc:454] Loaded cuDNN version 8904\n",
      "WARNING: All log messages before absl::InitializeLog() is called are written to STDERR\n",
      "I0000 00:00:1709928129.624778 3645861 device_compiler.h:186] Compiled cluster using XLA!  This line is logged at most once for the lifetime of the process.\n",
      "Training:   2%|▏         | 1/41 [00:38<25:34, 38.36s/it]"
     ]
    },
    {
     "name": "stdout",
     "output_type": "stream",
     "text": [
      "\n",
      "Episode 0: Total Reward: -50.0, Avg Loss: 0.0000, Epsilon: 0.4552\n"
     ]
    },
    {
     "name": "stderr",
     "output_type": "stream",
     "text": [
      "Training:   5%|▍         | 2/41 [01:31<30:27, 46.85s/it]"
     ]
    },
    {
     "name": "stdout",
     "output_type": "stream",
     "text": [
      "\n",
      "Episode 1: Total Reward: -16.0, Avg Loss: 250.9832, Epsilon: 0.1511\n"
     ]
    },
    {
     "name": "stderr",
     "output_type": "stream",
     "text": [
      "Training:   7%|▋         | 3/41 [02:24<31:39, 50.00s/it]"
     ]
    },
    {
     "name": "stdout",
     "output_type": "stream",
     "text": [
      "\n",
      "Episode 2: Total Reward: -6.0, Avg Loss: 67.0780, Epsilon: 0.0502\n"
     ]
    },
    {
     "name": "stderr",
     "output_type": "stream",
     "text": [
      "Training:  10%|▉         | 4/41 [03:28<34:03, 55.24s/it]"
     ]
    },
    {
     "name": "stdout",
     "output_type": "stream",
     "text": [
      "\n",
      "Episode 3: Total Reward: 0.0, Avg Loss: 22.5179, Epsilon: 0.0167\n"
     ]
    },
    {
     "name": "stderr",
     "output_type": "stream",
     "text": [
      "Training:  12%|█▏        | 5/41 [04:36<36:03, 60.10s/it]"
     ]
    },
    {
     "name": "stdout",
     "output_type": "stream",
     "text": [
      "\n",
      "Episode 4: Total Reward: -1.0, Avg Loss: 8.3804, Epsilon: 0.0100\n"
     ]
    },
    {
     "name": "stderr",
     "output_type": "stream",
     "text": [
      "Training:  15%|█▍        | 6/41 [05:48<37:18, 63.97s/it]"
     ]
    },
    {
     "name": "stdout",
     "output_type": "stream",
     "text": [
      "\n",
      "Episode 5: Total Reward: 0.0, Avg Loss: 2.9636, Epsilon: 0.0100\n"
     ]
    },
    {
     "name": "stderr",
     "output_type": "stream",
     "text": [
      "Training:  17%|█▋        | 7/41 [06:56<36:59, 65.27s/it]"
     ]
    },
    {
     "name": "stdout",
     "output_type": "stream",
     "text": [
      "\n",
      "Episode 6: Total Reward: 0.0, Avg Loss: 1.3929, Epsilon: 0.0100\n"
     ]
    },
    {
     "name": "stderr",
     "output_type": "stream",
     "text": [
      "Training:  20%|█▉        | 8/41 [08:06<36:45, 66.83s/it]"
     ]
    },
    {
     "name": "stdout",
     "output_type": "stream",
     "text": [
      "\n",
      "Episode 7: Total Reward: 0.0, Avg Loss: 0.7521, Epsilon: 0.0100\n"
     ]
    },
    {
     "name": "stderr",
     "output_type": "stream",
     "text": [
      "Training:  22%|██▏       | 9/41 [09:14<35:54, 67.32s/it]"
     ]
    },
    {
     "name": "stdout",
     "output_type": "stream",
     "text": [
      "\n",
      "Episode 8: Total Reward: 0.0, Avg Loss: 0.3428, Epsilon: 0.0100\n"
     ]
    },
    {
     "name": "stderr",
     "output_type": "stream",
     "text": [
      "Training:  24%|██▍       | 10/41 [10:33<36:30, 70.68s/it]"
     ]
    },
    {
     "name": "stdout",
     "output_type": "stream",
     "text": [
      "\n",
      "Episode 9: Total Reward: -47.0, Avg Loss: 88.0778, Epsilon: 0.0100\n"
     ]
    },
    {
     "name": "stderr",
     "output_type": "stream",
     "text": [
      "Training:  27%|██▋       | 11/41 [11:28<33:02, 66.09s/it]"
     ]
    },
    {
     "name": "stdout",
     "output_type": "stream",
     "text": [
      "\n",
      "Episode 10: Total Reward: -3.0, Avg Loss: 90.4321, Epsilon: 0.0100\n"
     ]
    },
    {
     "name": "stderr",
     "output_type": "stream",
     "text": [
      "Training:  29%|██▉       | 12/41 [12:29<31:12, 64.56s/it]"
     ]
    },
    {
     "name": "stdout",
     "output_type": "stream",
     "text": [
      "\n",
      "Episode 11: Total Reward: -91.0, Avg Loss: 332.1638, Epsilon: 0.0100\n"
     ]
    },
    {
     "name": "stderr",
     "output_type": "stream",
     "text": [
      "Training:  32%|███▏      | 13/41 [13:29<29:23, 62.98s/it]"
     ]
    },
    {
     "name": "stdout",
     "output_type": "stream",
     "text": [
      "\n",
      "Episode 12: Total Reward: -55.0, Avg Loss: 63.4914, Epsilon: 0.0100\n"
     ]
    },
    {
     "name": "stderr",
     "output_type": "stream",
     "text": [
      "Training:  34%|███▍      | 14/41 [14:38<29:13, 64.93s/it]"
     ]
    },
    {
     "name": "stdout",
     "output_type": "stream",
     "text": [
      "\n",
      "Episode 13: Total Reward: -2.0, Avg Loss: 16.2746, Epsilon: 0.0100\n"
     ]
    },
    {
     "name": "stderr",
     "output_type": "stream",
     "text": [
      "Training:  37%|███▋      | 15/41 [15:42<28:01, 64.68s/it]"
     ]
    },
    {
     "name": "stdout",
     "output_type": "stream",
     "text": [
      "\n",
      "Episode 14: Total Reward: 0.0, Avg Loss: 8.5451, Epsilon: 0.0100\n"
     ]
    },
    {
     "name": "stderr",
     "output_type": "stream",
     "text": [
      "Training:  39%|███▉      | 16/41 [16:43<26:29, 63.59s/it]"
     ]
    },
    {
     "name": "stdout",
     "output_type": "stream",
     "text": [
      "\n",
      "Episode 15: Total Reward: 0.0, Avg Loss: 4.5562, Epsilon: 0.0100\n"
     ]
    },
    {
     "name": "stderr",
     "output_type": "stream",
     "text": [
      "Training:  41%|████▏     | 17/41 [17:37<24:12, 60.51s/it]"
     ]
    },
    {
     "name": "stdout",
     "output_type": "stream",
     "text": [
      "\n",
      "Episode 16: Total Reward: -1.0, Avg Loss: 3.8053, Epsilon: 0.0100\n"
     ]
    },
    {
     "name": "stderr",
     "output_type": "stream",
     "text": [
      "Training:  44%|████▍     | 18/41 [18:33<22:44, 59.33s/it]"
     ]
    },
    {
     "name": "stdout",
     "output_type": "stream",
     "text": [
      "\n",
      "Episode 17: Total Reward: -1.0, Avg Loss: 3.6724, Epsilon: 0.0100\n"
     ]
    },
    {
     "name": "stderr",
     "output_type": "stream",
     "text": [
      "Training:  46%|████▋     | 19/41 [19:27<21:07, 57.60s/it]"
     ]
    },
    {
     "name": "stdout",
     "output_type": "stream",
     "text": [
      "\n",
      "Episode 18: Total Reward: 0.0, Avg Loss: 2.2690, Epsilon: 0.0100\n"
     ]
    },
    {
     "name": "stderr",
     "output_type": "stream",
     "text": [
      "Training:  49%|████▉     | 20/41 [20:26<20:22, 58.22s/it]"
     ]
    },
    {
     "name": "stdout",
     "output_type": "stream",
     "text": [
      "\n",
      "Episode 19: Total Reward: 0.0, Avg Loss: 2.2954, Epsilon: 0.0100\n"
     ]
    },
    {
     "name": "stderr",
     "output_type": "stream",
     "text": [
      "Training:  51%|█████     | 21/41 [21:21<19:01, 57.08s/it]"
     ]
    },
    {
     "name": "stdout",
     "output_type": "stream",
     "text": [
      "\n",
      "Episode 20: Total Reward: -100.0, Avg Loss: 3.8713, Epsilon: 0.0100\n"
     ]
    },
    {
     "name": "stderr",
     "output_type": "stream",
     "text": [
      "Training:  54%|█████▎    | 22/41 [22:20<18:16, 57.70s/it]"
     ]
    },
    {
     "name": "stdout",
     "output_type": "stream",
     "text": [
      "\n",
      "Episode 21: Total Reward: -104.0, Avg Loss: 5.5280, Epsilon: 0.0100\n"
     ]
    },
    {
     "name": "stderr",
     "output_type": "stream",
     "text": [
      "Training:  56%|█████▌    | 23/41 [23:17<17:12, 57.37s/it]"
     ]
    },
    {
     "name": "stdout",
     "output_type": "stream",
     "text": [
      "\n",
      "Episode 22: Total Reward: -101.0, Avg Loss: 7.4688, Epsilon: 0.0100\n"
     ]
    },
    {
     "name": "stderr",
     "output_type": "stream",
     "text": [
      "Training:  59%|█████▊    | 24/41 [24:16<16:26, 58.02s/it]"
     ]
    },
    {
     "name": "stdout",
     "output_type": "stream",
     "text": [
      "\n",
      "Episode 23: Total Reward: -104.0, Avg Loss: 6.5385, Epsilon: 0.0100\n"
     ]
    },
    {
     "name": "stderr",
     "output_type": "stream",
     "text": [
      "Training:  61%|██████    | 25/41 [25:14<15:27, 57.96s/it]"
     ]
    },
    {
     "name": "stdout",
     "output_type": "stream",
     "text": [
      "\n",
      "Episode 24: Total Reward: -89.0, Avg Loss: 1.7167, Epsilon: 0.0100\n"
     ]
    },
    {
     "name": "stderr",
     "output_type": "stream",
     "text": [
      "Training:  63%|██████▎   | 26/41 [26:13<14:32, 58.17s/it]"
     ]
    },
    {
     "name": "stdout",
     "output_type": "stream",
     "text": [
      "\n",
      "Episode 25: Total Reward: -10.0, Avg Loss: 0.6316, Epsilon: 0.0100\n"
     ]
    },
    {
     "name": "stderr",
     "output_type": "stream",
     "text": [
      "Training:  66%|██████▌   | 27/41 [27:11<13:35, 58.23s/it]"
     ]
    },
    {
     "name": "stdout",
     "output_type": "stream",
     "text": [
      "\n",
      "Episode 26: Total Reward: 0.0, Avg Loss: 0.5119, Epsilon: 0.0100\n"
     ]
    },
    {
     "name": "stderr",
     "output_type": "stream",
     "text": [
      "Training:  68%|██████▊   | 28/41 [28:09<12:35, 58.11s/it]"
     ]
    },
    {
     "name": "stdout",
     "output_type": "stream",
     "text": [
      "\n",
      "Episode 27: Total Reward: -1.0, Avg Loss: 0.4447, Epsilon: 0.0100\n"
     ]
    },
    {
     "name": "stderr",
     "output_type": "stream",
     "text": [
      "Training:  71%|███████   | 29/41 [29:07<11:37, 58.16s/it]"
     ]
    },
    {
     "name": "stdout",
     "output_type": "stream",
     "text": [
      "\n",
      "Episode 28: Total Reward: 0.0, Avg Loss: 0.3787, Epsilon: 0.0100\n"
     ]
    },
    {
     "name": "stderr",
     "output_type": "stream",
     "text": [
      "Training:  73%|███████▎  | 30/41 [30:05<10:39, 58.10s/it]"
     ]
    },
    {
     "name": "stdout",
     "output_type": "stream",
     "text": [
      "\n",
      "Episode 29: Total Reward: -1.0, Avg Loss: 0.3189, Epsilon: 0.0100\n"
     ]
    },
    {
     "name": "stderr",
     "output_type": "stream",
     "text": [
      "Training:  76%|███████▌  | 31/41 [31:04<09:42, 58.28s/it]"
     ]
    },
    {
     "name": "stdout",
     "output_type": "stream",
     "text": [
      "\n",
      "Episode 30: Total Reward: 0.0, Avg Loss: 0.2982, Epsilon: 0.0100\n"
     ]
    },
    {
     "name": "stderr",
     "output_type": "stream",
     "text": [
      "Training:  78%|███████▊  | 32/41 [32:01<08:40, 57.83s/it]"
     ]
    },
    {
     "name": "stdout",
     "output_type": "stream",
     "text": [
      "\n",
      "Episode 31: Total Reward: 0.0, Avg Loss: 0.2676, Epsilon: 0.0100\n"
     ]
    },
    {
     "name": "stderr",
     "output_type": "stream",
     "text": [
      "Training:  80%|████████  | 33/41 [32:59<07:45, 58.15s/it]"
     ]
    },
    {
     "name": "stdout",
     "output_type": "stream",
     "text": [
      "\n",
      "Episode 32: Total Reward: 0.0, Avg Loss: 0.2437, Epsilon: 0.0100\n"
     ]
    },
    {
     "name": "stderr",
     "output_type": "stream",
     "text": [
      "Training:  83%|████████▎ | 34/41 [33:56<06:44, 57.74s/it]"
     ]
    },
    {
     "name": "stdout",
     "output_type": "stream",
     "text": [
      "\n",
      "Episode 33: Total Reward: 0.0, Avg Loss: 0.2261, Epsilon: 0.0100\n"
     ]
    },
    {
     "name": "stderr",
     "output_type": "stream",
     "text": [
      "Training:  85%|████████▌ | 35/41 [34:55<05:47, 57.92s/it]"
     ]
    },
    {
     "name": "stdout",
     "output_type": "stream",
     "text": [
      "\n",
      "Episode 34: Total Reward: 0.0, Avg Loss: 0.2240, Epsilon: 0.0100\n"
     ]
    },
    {
     "name": "stderr",
     "output_type": "stream",
     "text": [
      "Training:  88%|████████▊ | 36/41 [35:51<04:46, 57.33s/it]"
     ]
    },
    {
     "name": "stdout",
     "output_type": "stream",
     "text": [
      "\n",
      "Episode 35: Total Reward: -2.0, Avg Loss: 0.2093, Epsilon: 0.0100\n"
     ]
    },
    {
     "name": "stderr",
     "output_type": "stream",
     "text": [
      "Training:  90%|█████████ | 37/41 [36:50<03:52, 58.02s/it]"
     ]
    },
    {
     "name": "stdout",
     "output_type": "stream",
     "text": [
      "\n",
      "Episode 36: Total Reward: 0.0, Avg Loss: 0.1854, Epsilon: 0.0100\n"
     ]
    },
    {
     "name": "stderr",
     "output_type": "stream",
     "text": [
      "Training:  93%|█████████▎| 38/41 [37:45<02:51, 57.13s/it]"
     ]
    },
    {
     "name": "stdout",
     "output_type": "stream",
     "text": [
      "\n",
      "Episode 37: Total Reward: 0.0, Avg Loss: 0.1772, Epsilon: 0.0100\n"
     ]
    },
    {
     "name": "stderr",
     "output_type": "stream",
     "text": [
      "Training:  95%|█████████▌| 39/41 [38:44<01:55, 57.68s/it]"
     ]
    },
    {
     "name": "stdout",
     "output_type": "stream",
     "text": [
      "\n",
      "Episode 38: Total Reward: 0.0, Avg Loss: 0.1947, Epsilon: 0.0100\n"
     ]
    },
    {
     "name": "stderr",
     "output_type": "stream",
     "text": [
      "Training:  98%|█████████▊| 40/41 [39:39<00:56, 56.91s/it]"
     ]
    },
    {
     "name": "stdout",
     "output_type": "stream",
     "text": [
      "\n",
      "Episode 39: Total Reward: 0.0, Avg Loss: 0.1594, Epsilon: 0.0100\n"
     ]
    },
    {
     "name": "stderr",
     "output_type": "stream",
     "text": [
      "Training: 100%|██████████| 41/41 [40:40<00:00, 59.52s/it]"
     ]
    },
    {
     "name": "stdout",
     "output_type": "stream",
     "text": [
      "\n",
      "Episode 40: Total Reward: 0.0, Avg Loss: 0.1489, Epsilon: 0.0100\n",
      "\n",
      "Training completed. Mean Reward: -19.1463, Mean Loss: 24.3838\n"
     ]
    },
    {
     "name": "stderr",
     "output_type": "stream",
     "text": [
      "\n"
     ]
    }
   ],
   "source": [
    "stock= tickers[TARGET]\n",
    "train_data = stock[stock.index < pd.to_datetime(SPLIT_DATE)].copy()\n",
    "test_data = stock[stock.index >= pd.to_datetime(SPLIT_DATE)].copy()\n",
    "\n",
    "agent = DQNAgent(observation_space=STATE_LEN * FEATURES, action_space=ACT_SPACE)\n",
    "\n",
    "env = TradingEnv(data=train_data, data_dim=FEATURES, money=CAPITAL, stateLength=STATE_LEN, transactionCosts=FEES)\n",
    "simulator = TradingSimulator(env, agent, episodes=40, checkpoint_interval=1000)\n",
    "simulator.train()"
   ]
  },
  {
   "cell_type": "code",
   "execution_count": 9,
   "metadata": {},
   "outputs": [
    {
     "data": {
      "image/png": "[encoded data removed]",
      "text/plain": [
       "<Figure size 1200x500 with 3 Axes>"
      ]
     },
     "metadata": {},
     "output_type": "display_data"
    }
   ],
   "source": [
    "agent.plot_history()"
   ]
  },
  {
   "cell_type": "code",
   "execution_count": 10,
   "metadata": {},
   "outputs": [
    {
     "data": {
      "image/png": "[encoded data removed]",
      "text/plain": [
       "<Figure size 640x480 with 2 Axes>"
      ]
     },
     "metadata": {},
     "output_type": "display_data"
    }
   ],
   "source": [
    "simulator.plot_performance()"
   ]
  },
  {
   "cell_type": "code",
   "execution_count": 11,
   "metadata": {},
   "outputs": [
    {
     "name": "stderr",
     "output_type": "stream",
     "text": [
      "Validation:   7%|▋         | 1/15 [00:25<05:51, 25.09s/it]"
     ]
    },
    {
     "name": "stdout",
     "output_type": "stream",
     "text": [
      "\n",
      "Validation Episode: 1, Total Reward: -2.0\n"
     ]
    },
    {
     "name": "stderr",
     "output_type": "stream",
     "text": [
      "Validation:  13%|█▎        | 2/15 [00:53<05:54, 27.26s/it]"
     ]
    },
    {
     "name": "stdout",
     "output_type": "stream",
     "text": [
      "\n",
      "Validation Episode: 2, Total Reward: 0.0\n"
     ]
    },
    {
     "name": "stderr",
     "output_type": "stream",
     "text": [
      "Validation:  20%|██        | 3/15 [01:28<06:06, 30.58s/it]"
     ]
    },
    {
     "name": "stdout",
     "output_type": "stream",
     "text": [
      "\n",
      "Validation Episode: 3, Total Reward: 1.0\n"
     ]
    },
    {
     "name": "stderr",
     "output_type": "stream",
     "text": [
      "Validation:  27%|██▋       | 4/15 [01:55<05:20, 29.16s/it]"
     ]
    },
    {
     "name": "stdout",
     "output_type": "stream",
     "text": [
      "\n",
      "Validation Episode: 4, Total Reward: 0.0\n"
     ]
    },
    {
     "name": "stderr",
     "output_type": "stream",
     "text": [
      "Validation:  33%|███▎      | 5/15 [02:22<04:44, 28.46s/it]"
     ]
    },
    {
     "name": "stdout",
     "output_type": "stream",
     "text": [
      "\n",
      "Validation Episode: 5, Total Reward: -2.0\n"
     ]
    },
    {
     "name": "stderr",
     "output_type": "stream",
     "text": [
      "Validation:  40%|████      | 6/15 [02:57<04:36, 30.69s/it]"
     ]
    },
    {
     "name": "stdout",
     "output_type": "stream",
     "text": [
      "\n",
      "Validation Episode: 6, Total Reward: 0.0\n"
     ]
    },
    {
     "name": "stderr",
     "output_type": "stream",
     "text": [
      "Validation:  47%|████▋     | 7/15 [03:29<04:08, 31.07s/it]"
     ]
    },
    {
     "name": "stdout",
     "output_type": "stream",
     "text": [
      "\n",
      "Validation Episode: 7, Total Reward: -1.0\n"
     ]
    },
    {
     "name": "stderr",
     "output_type": "stream",
     "text": [
      "Validation:  53%|█████▎    | 8/15 [03:59<03:36, 30.88s/it]"
     ]
    },
    {
     "name": "stdout",
     "output_type": "stream",
     "text": [
      "\n",
      "Validation Episode: 8, Total Reward: -1.0\n"
     ]
    },
    {
     "name": "stderr",
     "output_type": "stream",
     "text": [
      "Validation:  60%|██████    | 9/15 [04:36<03:16, 32.78s/it]"
     ]
    },
    {
     "name": "stdout",
     "output_type": "stream",
     "text": [
      "\n",
      "Validation Episode: 9, Total Reward: 0.0\n"
     ]
    },
    {
     "name": "stderr",
     "output_type": "stream",
     "text": [
      "Validation:  67%|██████▋   | 10/15 [05:09<02:42, 32.58s/it]"
     ]
    },
    {
     "name": "stdout",
     "output_type": "stream",
     "text": [
      "\n",
      "Validation Episode: 10, Total Reward: 0.0\n"
     ]
    }
   ],
   "source": [
    "env = TradingEnv(data=test_data, data_dim=FEATURES, money=CAPITAL, stateLength=STATE_LEN, transactionCosts=FEES)\n",
    "simulator = TradingSimulator(env, agent, episodes=15, checkpoint_interval=1000)\n",
    "simulator.validate()"
   ]
  },
  {
   "cell_type": "markdown",
   "metadata": {},
   "source": [
    "# Conclusion\n",
    "\n",
    "CONCLUDE"
   ]
  },
  {
   "cell_type": "markdown",
   "metadata": {},
   "source": [
    "## References\n",
    "\n",
    "- [TensorFlow Agents](https://www.tensorflow.org/agents/overview)\n",
    "- [Open Gym AI Github](https://github.com/openai/gym)\n",
    "- [Greg et al, OpenAI Gym, (2016)](https://arxiv.org/abs/1606.01540)\n",
    "- [Théate, Thibaut, and Damien Ernst. \"An application of deep reinforcement learning to algorithmic trading.\" Expert Systems with Applications 173 (2021): 114632.](https://www.sciencedirect.com/science/article/pii/S0957417421000737)\n",
    "- [Remote development in WSL](https://code.visualstudio.com/docs/remote/wsl-tutorial)\n",
    "- [NVIDIA Driver Downloads](https://www.nvidia.com/Download/index.aspx)\n",
    "- [CUDA Toolkit](https://developer.nvidia.com/cuda-toolkit-archive)\n",
    "- [TensorRT for CUDA](https://docs.nvidia.com/deeplearning/tensorrt/archives/index.html#trt_7)"
   ]
  },
  {
   "cell_type": "markdown",
   "metadata": {},
   "source": [
    "## Github\n",
    "\n",
    "Article here is also available on [Github](https://github.com/adamd1985/pairs_trading_unsupervised_learning)\n",
    "\n",
    "Kaggle notebook available [here](https://www.kaggle.com/code/addarm/unsupervised-learning-as-signals-for-pairs-trading)\n",
    "\n",
    "## Media\n",
    "\n",
    "All media used (in the form of code or images) are either solely owned by me, acquired through licensing, or part of the Public Domain and granted use through Creative Commons License.\n",
    "\n",
    "## CC Licensing and Use\n",
    "\n",
    "<a rel=\"license\" href=\"http://creativecommons.org/licenses/by-nc/4.0/\"><img alt=\"Creative Commons License\" style=\"border-width:0\" src=\"https://i.creativecommons.org/l/by-nc/4.0/88x31.png\" /></a><br />This work is licensed under a <a rel=\"license\" href=\"http://creativecommons.org/licenses/by-nc/4.0/\">Creative Commons Attribution-NonCommercial 4.0 International License</a>."
   ]
  }
 ],
 "metadata": {
  "kernelspec": {
   "display_name": "quant",
   "language": "python",
   "name": "python3"
  },
  "language_info": {
   "codemirror_mode": {
    "name": "ipython",
    "version": 3
   },
   "file_extension": ".py",
   "mimetype": "text/x-python",
   "name": "python",
   "nbconvert_exporter": "python",
   "pygments_lexer": "ipython3",
   "version": "3.11.8"
  }
 },
 "nbformat": 4,
 "nbformat_minor": 2
}
