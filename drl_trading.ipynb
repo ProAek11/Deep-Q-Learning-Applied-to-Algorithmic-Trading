{
 "cells": [
  {
   "cell_type": "markdown",
   "metadata": {},
   "source": [
    "# Deep Q-Learning Applied to Algorithmic Trading\n",
    "\n",
    "<a href=\"https://www.kaggle.com/addarm/unsupervised-learning-as-signals-for-pairs-trading\" target=\"_blank\"><img align=\"left\" alt=\"Kaggle\" title=\"Open in Kaggle\" src=\"https://kaggle.com/static/images/open-in-kaggle.svg\"></a>"
   ]
  },
  {
   "cell_type": "markdown",
   "metadata": {},
   "source": [
    "INTRO\n",
    "\n",
    "\n",
    "This deep learning network was inspired by the paper:\n",
    "```BibTeX\n",
    "@article{theate2021application,\n",
    "  title={An application of deep reinforcement learning to algorithmic trading},\n",
    "  author={Th{\\'e}ate, Thibaut and Ernst, Damien},\n",
    "  journal={Expert Systems with Applications},\n",
    "  volume={173},\n",
    "  pages={114632},\n",
    "  year={2021},\n",
    "  publisher={Elsevier}\n",
    "}\n",
    "```"
   ]
  },
  {
   "cell_type": "code",
   "execution_count": 1,
   "metadata": {},
   "outputs": [
    {
     "name": "stdout",
     "output_type": "stream",
     "text": [
      "Running Local...\n"
     ]
    },
    {
     "data": {
      "text/plain": [
       "'/mnt/c/Users/adamd/workspace/deep-reinforced-learning'"
      ]
     },
     "execution_count": 1,
     "metadata": {},
     "output_type": "execute_result"
    }
   ],
   "source": [
    "import os\n",
    "import warnings\n",
    "warnings.filterwarnings(\"ignore\")\n",
    "\n",
    "IS_KAGGLE = os.getenv('IS_KAGGLE', 'True') == 'True'\n",
    "if IS_KAGGLE:\n",
    "    # Kaggle confgs\n",
    "    print('Running in Kaggle...')\n",
    "    %pip install scikit-learn\n",
    "    %pip install tensorflow\n",
    "    %pip install tqdm\n",
    "    %pip install matplotlib\n",
    "    %pip install python-dotenv\n",
    "    %pip install yfinance\n",
    "    %pip install pyarrow\n",
    "    for dirname, _, filenames in os.walk('/kaggle/input'):\n",
    "        for filename in filenames:\n",
    "            print(os.path.join(dirname, filename))\n",
    "\n",
    "    DATA_DIR = \"/kaggle/input/DATASET\"\n",
    "else:\n",
    "    DATA_DIR = \"./data/\"\n",
    "    print('Running Local...')\n",
    "\n",
    "import numpy as np\n",
    "import yfinance as yf\n",
    "import pandas as pd\n",
    "from datetime import datetime\n",
    "from pandas.tseries.offsets import BDay\n",
    "import matplotlib.pyplot as plt\n",
    "from tqdm import tqdm\n",
    "from scipy.stats import skew, kurtosis\n",
    "import pyarrow as pa\n",
    "import pyarrow.parquet as pq\n",
    "\n",
    "os.getcwd()"
   ]
  },
  {
   "cell_type": "code",
   "execution_count": 2,
   "metadata": {},
   "outputs": [],
   "source": [
    "START_DATE = \"2017-01-01\"\n",
    "SPLIT_DATE = '2018-1-1' # Turning point from train to tst\n",
    "END_DATE = \"2019-12-31\" # pd.Timestamp(datetime.now() - BDay(1)).strftime('%Y-%m-%d')\n",
    "DATA_DIR = \"./data\"\n",
    "INDEX = \"Date\"\n",
    "TICKER_SYMBOLS = [\n",
    "    'DIA',  # Dow Jones\n",
    "    'SPY',  # S&P 500\n",
    "    'QQQ',  # NASDAQ 100\n",
    "    'EZU',  # FTSE 100\n",
    "    'EWJ',  # Nikkei 225\n",
    "    'GOOGL',  # Google\n",
    "    'AAPL',  # Apple\n",
    "    'META',  # Facebook\n",
    "    'AMZN',  # Amazon\n",
    "    'MSFT',  # Microsoft\n",
    "    'NOK',  # Nokia\n",
    "    'PHIA.AS',  # Philips\n",
    "    'SIE.DE',  # Siemens\n",
    "    'BIDU',  # Baidu\n",
    "    'BABA',  # Alibaba\n",
    "    '0700.HK',  # Tencent\n",
    "    '6758.T',  # Sony\n",
    "    'JPM',  # JPMorgan Chase\n",
    "    'HSBC',  # HSBC\n",
    "    '0939.HK',  # CCB\n",
    "    'XOM',  # ExxonMobil\n",
    "    'TSLA',  # Tesla\n",
    "    'VOW3.DE',  # Volkswagen\n",
    "    '7203.T',  # Toyota\n",
    "    'KO',  # Coca Cola\n",
    "    'ABI.BR',  # AB InBev\n",
    "    '2503.T',  # Kirin\n",
    "]\n",
    "TICKER_SYMBOLS = ['TSLA']\n",
    "TARGET = 'TSLA'\n",
    "INTERVAL = \"1d\"\n",
    "\n",
    "CAPITAL = 100000\n",
    "STATE_LEN = 30\n",
    "FEES = 0.1 / 100\n",
    "FEATURES = 4 # 4 dims: HLOC\n",
    "OBS_SPACE = (STATE_LEN)*FEATURES\n",
    "ACT_SPACE = 2\n",
    "EPISODES = 50"
   ]
  },
  {
   "cell_type": "markdown",
   "metadata": {},
   "source": [
    "# Financial Data"
   ]
  },
  {
   "cell_type": "code",
   "execution_count": 3,
   "metadata": {},
   "outputs": [
    {
     "name": "stdout",
     "output_type": "stream",
     "text": [
      "TSLA => min_date: 1970-01-01 00:00:00, max_date: 1970-01-01 00:00:00.000000752, kurt:-0.56, skewness:-0.28, outliers_count:0,  nan_count: 0\n"
     ]
    },
    {
     "data": {
      "text/html": [
       "<div>\n",
       "<style scoped>\n",
       "    .dataframe tbody tr th:only-of-type {\n",
       "        vertical-align: middle;\n",
       "    }\n",
       "\n",
       "    .dataframe tbody tr th {\n",
       "        vertical-align: top;\n",
       "    }\n",
       "\n",
       "    .dataframe thead th {\n",
       "        text-align: right;\n",
       "    }\n",
       "</style>\n",
       "<table border=\"1\" class=\"dataframe\">\n",
       "  <thead>\n",
       "    <tr style=\"text-align: right;\">\n",
       "      <th></th>\n",
       "      <th>Open</th>\n",
       "      <th>High</th>\n",
       "      <th>Low</th>\n",
       "      <th>Close</th>\n",
       "      <th>Adj Close</th>\n",
       "      <th>Volume</th>\n",
       "    </tr>\n",
       "  </thead>\n",
       "  <tbody>\n",
       "    <tr>\n",
       "      <th>1970-01-01 00:00:00.000000000</th>\n",
       "      <td>14.324000</td>\n",
       "      <td>14.688667</td>\n",
       "      <td>14.064000</td>\n",
       "      <td>14.466000</td>\n",
       "      <td>14.466000</td>\n",
       "      <td>88849500</td>\n",
       "    </tr>\n",
       "    <tr>\n",
       "      <th>1970-01-01 00:00:00.000000001</th>\n",
       "      <td>14.316667</td>\n",
       "      <td>15.200000</td>\n",
       "      <td>14.287333</td>\n",
       "      <td>15.132667</td>\n",
       "      <td>15.132667</td>\n",
       "      <td>168202500</td>\n",
       "    </tr>\n",
       "    <tr>\n",
       "      <th>1970-01-01 00:00:00.000000002</th>\n",
       "      <td>15.094667</td>\n",
       "      <td>15.165333</td>\n",
       "      <td>14.796667</td>\n",
       "      <td>15.116667</td>\n",
       "      <td>15.116667</td>\n",
       "      <td>88675500</td>\n",
       "    </tr>\n",
       "    <tr>\n",
       "      <th>1970-01-01 00:00:00.000000003</th>\n",
       "      <td>15.128667</td>\n",
       "      <td>15.354000</td>\n",
       "      <td>15.030000</td>\n",
       "      <td>15.267333</td>\n",
       "      <td>15.267333</td>\n",
       "      <td>82918500</td>\n",
       "    </tr>\n",
       "    <tr>\n",
       "      <th>1970-01-01 00:00:00.000000004</th>\n",
       "      <td>15.264667</td>\n",
       "      <td>15.461333</td>\n",
       "      <td>15.200000</td>\n",
       "      <td>15.418667</td>\n",
       "      <td>15.418667</td>\n",
       "      <td>59692500</td>\n",
       "    </tr>\n",
       "    <tr>\n",
       "      <th>...</th>\n",
       "      <td>...</td>\n",
       "      <td>...</td>\n",
       "      <td>...</td>\n",
       "      <td>...</td>\n",
       "      <td>...</td>\n",
       "      <td>...</td>\n",
       "    </tr>\n",
       "    <tr>\n",
       "      <th>1970-01-01 00:00:00.000000748</th>\n",
       "      <td>27.452000</td>\n",
       "      <td>28.134001</td>\n",
       "      <td>27.333332</td>\n",
       "      <td>27.948000</td>\n",
       "      <td>27.948000</td>\n",
       "      <td>199794000</td>\n",
       "    </tr>\n",
       "    <tr>\n",
       "      <th>1970-01-01 00:00:00.000000749</th>\n",
       "      <td>27.890667</td>\n",
       "      <td>28.364668</td>\n",
       "      <td>27.512667</td>\n",
       "      <td>28.350000</td>\n",
       "      <td>28.350000</td>\n",
       "      <td>120820500</td>\n",
       "    </tr>\n",
       "    <tr>\n",
       "      <th>1970-01-01 00:00:00.000000750</th>\n",
       "      <td>28.527332</td>\n",
       "      <td>28.898666</td>\n",
       "      <td>28.423332</td>\n",
       "      <td>28.729334</td>\n",
       "      <td>28.729334</td>\n",
       "      <td>159508500</td>\n",
       "    </tr>\n",
       "    <tr>\n",
       "      <th>1970-01-01 00:00:00.000000751</th>\n",
       "      <td>29.000000</td>\n",
       "      <td>29.020666</td>\n",
       "      <td>28.407333</td>\n",
       "      <td>28.691999</td>\n",
       "      <td>28.691999</td>\n",
       "      <td>149185500</td>\n",
       "    </tr>\n",
       "    <tr>\n",
       "      <th>1970-01-01 00:00:00.000000752</th>\n",
       "      <td>28.586000</td>\n",
       "      <td>28.600000</td>\n",
       "      <td>27.284000</td>\n",
       "      <td>27.646667</td>\n",
       "      <td>27.646667</td>\n",
       "      <td>188796000</td>\n",
       "    </tr>\n",
       "  </tbody>\n",
       "</table>\n",
       "<p>753 rows × 6 columns</p>\n",
       "</div>"
      ],
      "text/plain": [
       "                                    Open       High        Low      Close  \\\n",
       "1970-01-01 00:00:00.000000000  14.324000  14.688667  14.064000  14.466000   \n",
       "1970-01-01 00:00:00.000000001  14.316667  15.200000  14.287333  15.132667   \n",
       "1970-01-01 00:00:00.000000002  15.094667  15.165333  14.796667  15.116667   \n",
       "1970-01-01 00:00:00.000000003  15.128667  15.354000  15.030000  15.267333   \n",
       "1970-01-01 00:00:00.000000004  15.264667  15.461333  15.200000  15.418667   \n",
       "...                                  ...        ...        ...        ...   \n",
       "1970-01-01 00:00:00.000000748  27.452000  28.134001  27.333332  27.948000   \n",
       "1970-01-01 00:00:00.000000749  27.890667  28.364668  27.512667  28.350000   \n",
       "1970-01-01 00:00:00.000000750  28.527332  28.898666  28.423332  28.729334   \n",
       "1970-01-01 00:00:00.000000751  29.000000  29.020666  28.407333  28.691999   \n",
       "1970-01-01 00:00:00.000000752  28.586000  28.600000  27.284000  27.646667   \n",
       "\n",
       "                               Adj Close     Volume  \n",
       "1970-01-01 00:00:00.000000000  14.466000   88849500  \n",
       "1970-01-01 00:00:00.000000001  15.132667  168202500  \n",
       "1970-01-01 00:00:00.000000002  15.116667   88675500  \n",
       "1970-01-01 00:00:00.000000003  15.267333   82918500  \n",
       "1970-01-01 00:00:00.000000004  15.418667   59692500  \n",
       "...                                  ...        ...  \n",
       "1970-01-01 00:00:00.000000748  27.948000  199794000  \n",
       "1970-01-01 00:00:00.000000749  28.350000  120820500  \n",
       "1970-01-01 00:00:00.000000750  28.729334  159508500  \n",
       "1970-01-01 00:00:00.000000751  28.691999  149185500  \n",
       "1970-01-01 00:00:00.000000752  27.646667  188796000  \n",
       "\n",
       "[753 rows x 6 columns]"
      ]
     },
     "execution_count": 3,
     "metadata": {},
     "output_type": "execute_result"
    }
   ],
   "source": [
    "def get_tickerdata(tickers_symbols, start=START_DATE, end=END_DATE, interval=INTERVAL, datadir=DATA_DIR):\n",
    "    tickers = {}\n",
    "    earliest_end= datetime.strptime(end,'%Y-%m-%d')\n",
    "    latest_start = datetime.strptime(start,'%Y-%m-%d')\n",
    "    os.makedirs(DATA_DIR, exist_ok=True)\n",
    "    for symbol in tickers_symbols:\n",
    "        cached_file_path = f\"{datadir}/{symbol}-{start}-{end}-{interval}.csv\"\n",
    "\n",
    "        try:\n",
    "            if os.path.exists(cached_file_path):\n",
    "                df = pd.read_parquet(cached_file_path)\n",
    "                df.index = pd.to_datetime(df.index)\n",
    "                assert len(df) > 0\n",
    "            else:\n",
    "                df = yf.download(\n",
    "                    symbol,\n",
    "                    start=START_DATE,\n",
    "                    end=END_DATE,\n",
    "                    progress=False,\n",
    "                    interval=INTERVAL,\n",
    "                )\n",
    "                assert len(df) > 0\n",
    "                df.to_parquet(cached_file_path, index=False, compression=\"snappy\")\n",
    "            min_date = df.index.min()\n",
    "            max_date = df.index.max()\n",
    "            nan_count = df[\"Close\"].isnull().sum()\n",
    "            skewness = round(skew(df[\"Close\"].dropna()), 2)\n",
    "            kurt = round(kurtosis(df[\"Close\"].dropna()), 2)\n",
    "            outliers_count = (df[\"Close\"] > df[\"Close\"].mean() + (3 * df[\"Close\"].std())).sum()\n",
    "            print(\n",
    "                f\"{symbol} => min_date: {min_date}, max_date: {max_date}, kurt:{kurt}, skewness:{skewness}, outliers_count:{outliers_count},  nan_count: {nan_count}\"\n",
    "            )\n",
    "            tickers[symbol] = df\n",
    "\n",
    "            if min_date > latest_start:\n",
    "                latest_start = min_date\n",
    "            if max_date < earliest_end:\n",
    "                earliest_end = max_date\n",
    "        except Exception as e:\n",
    "            print(f\"Error with {symbol}: {e}\")\n",
    "\n",
    "    return tickers, latest_start, earliest_end\n",
    "\n",
    "tickers, latest_start, earliest_end = get_tickerdata(TICKER_SYMBOLS)\n",
    "tickers[TARGET]"
   ]
  },
  {
   "cell_type": "markdown",
   "metadata": {},
   "source": [
    "# Trading Environment"
   ]
  },
  {
   "cell_type": "code",
   "execution_count": 4,
   "metadata": {},
   "outputs": [
    {
     "name": "stderr",
     "output_type": "stream",
     "text": [
      "2024-03-08 03:25:39.901814: I external/local_tsl/tsl/cuda/cudart_stub.cc:31] Could not find cuda drivers on your machine, GPU will not be used.\n",
      "2024-03-08 03:25:39.934400: E external/local_xla/xla/stream_executor/cuda/cuda_dnn.cc:9261] Unable to register cuDNN factory: Attempting to register factory for plugin cuDNN when one has already been registered\n",
      "2024-03-08 03:25:39.934429: E external/local_xla/xla/stream_executor/cuda/cuda_fft.cc:607] Unable to register cuFFT factory: Attempting to register factory for plugin cuFFT when one has already been registered\n",
      "2024-03-08 03:25:39.935285: E external/local_xla/xla/stream_executor/cuda/cuda_blas.cc:1515] Unable to register cuBLAS factory: Attempting to register factory for plugin cuBLAS when one has already been registered\n",
      "2024-03-08 03:25:39.940507: I external/local_tsl/tsl/cuda/cudart_stub.cc:31] Could not find cuda drivers on your machine, GPU will not be used.\n",
      "2024-03-08 03:25:39.941165: I tensorflow/core/platform/cpu_feature_guard.cc:182] This TensorFlow binary is optimized to use available CPU instructions in performance-critical operations.\n",
      "To enable the following instructions: AVX2 FMA, in other operations, rebuild TensorFlow with the appropriate compiler flags.\n",
      "2024-03-08 03:25:40.764254: W tensorflow/compiler/tf2tensorrt/utils/py_utils.cc:38] TF-TRT Warning: Could not find TensorRT\n"
     ]
    }
   ],
   "source": [
    "from tf_agents.environments import py_environment, utils\n",
    "from tf_agents.specs import array_spec\n",
    "from tf_agents.trajectories import time_step as ts\n",
    "import numpy as np\n",
    "\n",
    "ACT_LONG = 1\n",
    "ACT_SHORT = -1\n",
    "ACT_HOLD = 0\n",
    "\n",
    "\n",
    "class TradingEnv(py_environment.PyEnvironment):\n",
    "    \"\"\"\n",
    "    A custom trading environment for reinforcement learning, compatible with tf_agents.\n",
    "\n",
    "    This environment simulates a simple trading scenario where an agent can take one of three actions:\n",
    "    - Long (buy), Short (sell), or Hold a financial instrument, aiming to maximize profit through trading decisions.\n",
    "\n",
    "    Parameters:\n",
    "    - data: DataFrame containing the stock market data.\n",
    "    - data_dim: Dimension of the data to be used for each observation.\n",
    "    - startingDate: The starting date of the trading period.\n",
    "    - money: Initial capital to start trading.\n",
    "    - stateLength: Number of past observations to consider for the state.\n",
    "    - transactionCosts: Costs associated with trading actions.\n",
    "    - endingDate: The ending date of the trading period.\n",
    "    \"\"\"\n",
    "\n",
    "    def __init__(self, data, data_dim, startingDate, money, stateLength, transactionCosts, endingDate):\n",
    "        super(TradingEnv, self).__init__()\n",
    "        self.data = data\n",
    "        self.data_dim = data_dim\n",
    "        self.startingDate = startingDate\n",
    "        self.initial_balance = money\n",
    "        self.state_length = stateLength\n",
    "        self.transaction_cost = transactionCosts\n",
    "        self.endingDate = endingDate\n",
    "        self._episode_ended = False\n",
    "\n",
    "        self._action_spec = array_spec.BoundedArraySpec(shape=(), dtype=np.int32, minimum=ACT_SHORT, maximum=ACT_LONG, name='action')\n",
    "        self._observation_spec = array_spec.BoundedArraySpec(shape=(self.state_length, self.data_dim), dtype=np.float32, name='observation')\n",
    "\n",
    "        self.reset()\n",
    "\n",
    "    def action_spec(self):\n",
    "        \"\"\"Provides the specification of the action space.\"\"\"\n",
    "        return self._action_spec\n",
    "\n",
    "    def observation_spec(self):\n",
    "        \"\"\"Provides the specification of the observation space.\"\"\"\n",
    "        return self._observation_spec\n",
    "\n",
    "    def _reset(self):\n",
    "        \"\"\"Resets the environment state and prepares for a new episode.\"\"\"\n",
    "        self.balance = self.initial_balance\n",
    "        self.position = 0\n",
    "        self.total_shares = 0\n",
    "        self.current_step = self.state_length\n",
    "        self._episode_ended = False\n",
    "        initial_observation = self._next_observation()\n",
    "        return ts.restart(initial_observation)\n",
    "\n",
    "    def _next_observation(self):\n",
    "        \"\"\"Generates the next observation based on the current step.\"\"\"\n",
    "        if self.current_step + self.state_length > len(self.data):\n",
    "            padding_rows_needed = max(len(self.data) - (self.current_step + self.state_length), 0)\n",
    "            frame = self.data.iloc[-self.state_length:] if padding_rows_needed == 0 else self.data.iloc[-padding_rows_needed:]\n",
    "            padding = np.zeros((padding_rows_needed, self.data_dim))\n",
    "            obs = np.vstack((padding, frame[['Close', 'Low', 'High', 'Volume']].values))\n",
    "        else:\n",
    "            frame = self.data.iloc[self.current_step-self.state_length:self.current_step]\n",
    "            obs = frame[['Close', 'Low', 'High', 'Volume']].values\n",
    "\n",
    "        obs = np.array(obs, dtype=np.float32)\n",
    "\n",
    "        return obs\n",
    "\n",
    "    def _step(self, action):\n",
    "        \"\"\"Executes a trading action and returns the new state of the environment.\"\"\"\n",
    "        if self._episode_ended:\n",
    "            return self.reset()\n",
    "\n",
    "        current_price = self.data.iloc[self.current_step]['Close']\n",
    "        self.current_step += 1\n",
    "\n",
    "        reward = 0\n",
    "\n",
    "        if action == ACT_SHORT or action == ACT_LONG:\n",
    "            if self.total_shares > 0:\n",
    "                self.balance += self.total_shares * current_price * (1 - self.transaction_cost)\n",
    "                reward = self.balance - self.initial_balance\n",
    "                self.total_shares = 0\n",
    "\n",
    "        if action == ACT_LONG:\n",
    "            self.position = 1\n",
    "            self.total_shares = self.balance // (current_price * (1 + self.transaction_cost))\n",
    "            self.balance -= self.total_shares * current_price * (1 + self.transaction_cost)\n",
    "        elif action == ACT_SHORT:\n",
    "            self.position = -1\n",
    "\n",
    "        done = self.current_step >= len(self.data)\n",
    "        if done:\n",
    "            self._episode_ended = True\n",
    "            return ts.termination(self._next_observation(), reward)\n",
    "        else:\n",
    "            return ts.transition(self._next_observation(), reward, discount=1.0)\n",
    "\n",
    "    def render(self, mode='human'):\n",
    "        \"\"\"Outputs the current state of the environment for visualization.\"\"\"\n",
    "        print(f'Step: {self.current_step}, Balance: {self.balance}')\n",
    "\n",
    "environment = TradingEnv(tickers[TARGET], FEATURES, START_DATE, CAPITAL, STATE_LEN, FEES, END_DATE)\n",
    "utils.validate_py_environment(environment, episodes=5)"
   ]
  },
  {
   "cell_type": "code",
   "execution_count": 5,
   "metadata": {},
   "outputs": [
    {
     "name": "stdout",
     "output_type": "stream",
     "text": [
      "True\n",
      "TimeStep Specs: TimeStep(\n",
      "{'step_type': TensorSpec(shape=(), dtype=tf.int32, name='step_type'),\n",
      " 'reward': TensorSpec(shape=(), dtype=tf.float32, name='reward'),\n",
      " 'discount': BoundedTensorSpec(shape=(), dtype=tf.float32, name='discount', minimum=array(0., dtype=float32), maximum=array(1., dtype=float32)),\n",
      " 'observation': BoundedTensorSpec(shape=(30, 4), dtype=tf.float32, name='observation', minimum=array(-3.4028235e+38, dtype=float32), maximum=array(3.4028235e+38, dtype=float32))})\n",
      "Action Specs: BoundedTensorSpec(shape=(), dtype=tf.int32, name='action', minimum=array(-1, dtype=int32), maximum=array(1, dtype=int32))\n"
     ]
    }
   ],
   "source": [
    "from tf_agents.environments import tf_environment\n",
    "from tf_agents.environments import tf_py_environment\n",
    "\n",
    "tf_env = tf_py_environment.TFPyEnvironment(environment)\n",
    "\n",
    "print(isinstance(tf_env, tf_environment.TFEnvironment))\n",
    "print(\"TimeStep Specs:\", tf_env.time_step_spec())\n",
    "print(\"Action Specs:\", tf_env.action_spec())"
   ]
  },
  {
   "cell_type": "markdown",
   "metadata": {},
   "source": [
    "# Deep Q-Network Architecure"
   ]
  },
  {
   "cell_type": "code",
   "execution_count": 6,
   "metadata": {},
   "outputs": [],
   "source": [
    "import numpy as np\n",
    "from tensorflow.keras.models import Sequential\n",
    "from tensorflow.keras.layers import Dense, BatchNormalization, Dropout\n",
    "from tensorflow.keras.optimizers import Adam\n",
    "from collections import deque\n",
    "import random\n",
    "import tensorflow as tf\n",
    "tf.get_logger().setLevel('INFO')\n",
    "\n",
    "# Replay Memory\n",
    "class ReplayMemory:\n",
    "    def __init__(self, capacity):\n",
    "        self.memory = deque(maxlen=capacity)\n",
    "\n",
    "    def push(self, state, action, reward, next_state, done):\n",
    "        self.memory.append((state, action, reward, next_state, done))\n",
    "\n",
    "    def sample(self, batch_size):\n",
    "        return random.sample(self.memory, batch_size)\n",
    "\n",
    "    def __len__(self):\n",
    "        return len(self.memory)\n",
    "\n",
    "# DQN Model\n",
    "class DQNModel(Sequential):\n",
    "    def __init__(self, flattened_observation_space, action_space, learning_rate=0.0001):\n",
    "        super(DQNModel, self).__init__()\n",
    "        self.add(Dense(512, activation='relu', input_shape=(flattened_observation_space,)))\n",
    "        self.add(BatchNormalization())\n",
    "        self.add(Dropout(0.2))\n",
    "        self.add(Dense(512, activation='relu'))\n",
    "        self.add(BatchNormalization())\n",
    "        self.add(Dropout(0.2))\n",
    "        self.add(Dense(action_space, activation='linear'))\n",
    "        self.compile(loss='mean_squared_error', optimizer=Adam(learning_rate=learning_rate))\n",
    "\n",
    "# DQN Agent\n",
    "class DQNAgent:\n",
    "    def __init__(self, observation_space, action_space, replay_memory_size=10000, batch_size=64, gamma=0.99, epsilon=1.0, epsilon_min=0.01, epsilon_decay=0.9995, learning_rate=0.001, target_update_iter=100):\n",
    "        self.action_space = action_space\n",
    "        self.memory = ReplayMemory(replay_memory_size)\n",
    "        self.gamma = gamma\n",
    "        self.epsilon = epsilon\n",
    "        self.epsilon_min = epsilon_min\n",
    "        self.epsilon_decay = epsilon_decay\n",
    "        self.batch_size = batch_size\n",
    "        self.target_update_iter = target_update_iter\n",
    "        self.model = DQNModel(observation_space, action_space, learning_rate)\n",
    "        self.target_model = DQNModel(observation_space, action_space, learning_rate)\n",
    "        self.target_model.set_weights(self.model.get_weights())\n",
    "        self.iteration = 0\n",
    "\n",
    "    def remember(self, state, action, reward, next_state, done):\n",
    "        self.memory.push(state, action, reward, next_state, done)\n",
    "\n",
    "    def act(self, state):\n",
    "        if np.random.rand() <= self.epsilon:\n",
    "            return random.randrange(self.action_space)\n",
    "        q_values = self.model.predict(np.array([state.flatten()]), verbose=0)\n",
    "        return np.argmax(q_values[0])\n",
    "\n",
    "    def replay(self):\n",
    "        if len(self.memory) < self.batch_size:\n",
    "            return\n",
    "\n",
    "        batch = self.memory.sample(self.batch_size)\n",
    "        states = np.array([x[0].flatten() for x in batch])\n",
    "        actions = np.array([x[1] for x in batch])\n",
    "        rewards = np.array([x[2] for x in batch])\n",
    "        next_states = np.array([x[3].flatten() for x in batch])\n",
    "        dones = np.array([x[4] for x in batch])\n",
    "\n",
    "        not_dones = 1 - dones\n",
    "        ns_values = self.target_model.predict(next_states, verbose=0)\n",
    "        q_update = rewards + self.gamma * np.amax(ns_values, axis=1) * not_dones\n",
    "        q_values = self.model.predict(states, verbose=0)\n",
    "\n",
    "        for i, action in enumerate(actions):\n",
    "            q_values[i][action] = q_update[i]\n",
    "\n",
    "        self.model.fit(states, q_values, batch_size=self.batch_size, verbose=0)\n",
    "\n",
    "        if self.epsilon > self.epsilon_min:\n",
    "            self.epsilon *= self.epsilon_decay\n",
    "\n",
    "        self.iteration += 1\n",
    "        if self.iteration % self.target_update_iter == 0:\n",
    "            self.update_target_model()\n",
    "\n",
    "    def update_target_model(self):\n",
    "        self.target_model.set_weights(self.model.get_weights())\n",
    "\n",
    "    def save_model(self, file_name):\n",
    "        self.model.save_weights(file_name)\n"
   ]
  },
  {
   "cell_type": "markdown",
   "metadata": {},
   "source": [
    "# Trading Operations"
   ]
  },
  {
   "cell_type": "code",
   "execution_count": 7,
   "metadata": {},
   "outputs": [],
   "source": [
    "class TradingSimulator:\n",
    "    def __init__(self, env, agent, training_episodes, validation_episodes, checkpoint_interval):\n",
    "        self.env = env\n",
    "        self.agent = agent\n",
    "        self.training_episodes = training_episodes\n",
    "        self.validation_episodes = validation_episodes\n",
    "        self.checkpoint_interval = checkpoint_interval\n",
    "\n",
    "    def train(self):\n",
    "        for episode in tqdm(range(1, self.training_episodes + 1), desc=\"train\"):\n",
    "            time_step = self.env.reset()\n",
    "            state = time_step.observation\n",
    "            done = time_step.is_last()\n",
    "            total_reward = 0\n",
    "\n",
    "            while not done:\n",
    "                action = self.agent.act(state)\n",
    "                time_step = self.env.step(action)\n",
    "                next_state = time_step.observation\n",
    "                reward = time_step.reward\n",
    "                done = time_step.is_last()\n",
    "\n",
    "                self.agent.remember(state, action, reward, next_state, done)\n",
    "                self.agent.replay()\n",
    "\n",
    "                state = next_state\n",
    "                total_reward += reward\n",
    "\n",
    "            if episode % self.checkpoint_interval == 0:\n",
    "                self.agent.save_model(f'dqn_model_checkpoint_{episode}.h5')\n",
    "                print(f\"Checkpoint saved at episode {episode}\")\n",
    "\n",
    "            print(f'Training Episode: {episode}, Total Reward: {total_reward}')\n",
    "\n",
    "            if episode % self.agent.target_update_iter == 0:\n",
    "                self.agent.update_target_model()\n",
    "\n",
    "    def validate(self):\n",
    "        total_rewards = []\n",
    "        for episode in tqdm(range(1, self.validation_episodes + 1), desc=\"validate\"):\n",
    "            time_step = self.env.reset()\n",
    "            state = time_step.observation\n",
    "            done = time_step.is_last()\n",
    "            total_reward = 0\n",
    "\n",
    "            while not done:\n",
    "                action = self.agent.act(state)\n",
    "                time_step = self.env.step(action)\n",
    "                next_state = time_step.observation\n",
    "                reward = time_step.reward\n",
    "                done = time_step.is_last()\n",
    "\n",
    "                state = next_state\n",
    "                total_reward += reward\n",
    "\n",
    "            total_rewards.append(total_reward)\n",
    "            print(f'Validation Episode: {episode}, Total Reward: {total_reward}')\n",
    "\n",
    "        avg_reward = np.mean(total_rewards)\n",
    "        print(f'Average Reward Over Validation Episodes: {avg_reward}')\n"
   ]
  },
  {
   "cell_type": "code",
   "execution_count": 8,
   "metadata": {},
   "outputs": [
    {
     "name": "stderr",
     "output_type": "stream",
     "text": [
      "2024-03-08 03:25:45.680931: I external/local_xla/xla/stream_executor/cuda/cuda_executor.cc:887] could not open file to read NUMA node: /sys/bus/pci/devices/0000:01:00.0/numa_node\n",
      "Your kernel may have been built without NUMA support.\n",
      "2024-03-08 03:25:45.681414: W tensorflow/core/common_runtime/gpu/gpu_device.cc:2256] Cannot dlopen some GPU libraries. Please make sure the missing libraries mentioned above are installed properly if you would like to use GPU. Follow the guide at https://www.tensorflow.org/install/gpu for how to download and setup the required libraries for your platform.\n",
      "Skipping registering GPU devices...\n",
      "train:   2%|▎         | 1/40 [01:42<1:06:37, 102.51s/it]"
     ]
    },
    {
     "name": "stdout",
     "output_type": "stream",
     "text": [
      "Training Episode: 1, Total Reward: -8041645.471069336\n"
     ]
    },
    {
     "name": "stderr",
     "output_type": "stream",
     "text": [
      "train:   5%|▌         | 2/40 [03:43<1:11:38, 113.12s/it]"
     ]
    },
    {
     "name": "stdout",
     "output_type": "stream",
     "text": [
      "Training Episode: 2, Total Reward: -4835184.062187195\n"
     ]
    },
    {
     "name": "stderr",
     "output_type": "stream",
     "text": [
      "train:   8%|▊         | 3/40 [05:54<1:14:48, 121.32s/it]"
     ]
    },
    {
     "name": "stdout",
     "output_type": "stream",
     "text": [
      "Training Episode: 3, Total Reward: -7039959.244415283\n"
     ]
    },
    {
     "name": "stderr",
     "output_type": "stream",
     "text": [
      "train:  10%|█         | 4/40 [08:06<1:15:29, 125.81s/it]"
     ]
    },
    {
     "name": "stdout",
     "output_type": "stream",
     "text": [
      "Training Episode: 4, Total Reward: -9558329.319347382\n"
     ]
    },
    {
     "name": "stderr",
     "output_type": "stream",
     "text": [
      "train:  12%|█▎        | 5/40 [10:25<1:16:02, 130.35s/it]"
     ]
    },
    {
     "name": "stdout",
     "output_type": "stream",
     "text": [
      "Training Episode: 5, Total Reward: -8735979.226463318\n"
     ]
    },
    {
     "name": "stderr",
     "output_type": "stream",
     "text": [
      "train:  15%|█▌        | 6/40 [12:45<1:15:52, 133.88s/it]"
     ]
    },
    {
     "name": "stdout",
     "output_type": "stream",
     "text": [
      "Training Episode: 6, Total Reward: -8248013.355106354\n"
     ]
    },
    {
     "name": "stderr",
     "output_type": "stream",
     "text": [
      "train:  18%|█▊        | 7/40 [15:20<1:17:24, 140.74s/it]"
     ]
    },
    {
     "name": "stdout",
     "output_type": "stream",
     "text": [
      "Training Episode: 7, Total Reward: -7617297.337215424\n"
     ]
    },
    {
     "name": "stderr",
     "output_type": "stream",
     "text": [
      "train:  20%|██        | 8/40 [17:48<1:16:16, 143.01s/it]"
     ]
    },
    {
     "name": "stdout",
     "output_type": "stream",
     "text": [
      "Training Episode: 8, Total Reward: -6774897.4391441345\n"
     ]
    },
    {
     "name": "stderr",
     "output_type": "stream",
     "text": [
      "train:  22%|██▎       | 9/40 [20:10<1:13:40, 142.61s/it]"
     ]
    },
    {
     "name": "stdout",
     "output_type": "stream",
     "text": [
      "Training Episode: 9, Total Reward: -4282801.3408203125\n"
     ]
    },
    {
     "name": "stderr",
     "output_type": "stream",
     "text": [
      "train:  25%|██▌       | 10/40 [22:37<1:12:04, 144.13s/it]"
     ]
    },
    {
     "name": "stdout",
     "output_type": "stream",
     "text": [
      "Training Episode: 10, Total Reward: -4427396.664352417\n"
     ]
    },
    {
     "name": "stderr",
     "output_type": "stream",
     "text": [
      "train:  28%|██▊       | 11/40 [25:05<1:10:13, 145.28s/it]"
     ]
    },
    {
     "name": "stdout",
     "output_type": "stream",
     "text": [
      "Training Episode: 11, Total Reward: -2728665.2070770264\n"
     ]
    },
    {
     "name": "stderr",
     "output_type": "stream",
     "text": [
      "train:  30%|███       | 12/40 [27:32<1:07:59, 145.70s/it]"
     ]
    },
    {
     "name": "stdout",
     "output_type": "stream",
     "text": [
      "Training Episode: 12, Total Reward: -2023563.597480774\n"
     ]
    },
    {
     "name": "stderr",
     "output_type": "stream",
     "text": [
      "train:  32%|███▎      | 13/40 [29:59<1:05:44, 146.10s/it]"
     ]
    },
    {
     "name": "stdout",
     "output_type": "stream",
     "text": [
      "Training Episode: 13, Total Reward: 153558.27634429932\n"
     ]
    },
    {
     "name": "stderr",
     "output_type": "stream",
     "text": [
      "train:  35%|███▌      | 14/40 [32:26<1:03:29, 146.51s/it]"
     ]
    },
    {
     "name": "stdout",
     "output_type": "stream",
     "text": [
      "Training Episode: 14, Total Reward: 172572.83303070068\n"
     ]
    },
    {
     "name": "stderr",
     "output_type": "stream",
     "text": [
      "train:  38%|███▊      | 15/40 [34:57<1:01:31, 147.68s/it]"
     ]
    },
    {
     "name": "stdout",
     "output_type": "stream",
     "text": [
      "Training Episode: 15, Total Reward: 402311.54846191406\n"
     ]
    },
    {
     "name": "stderr",
     "output_type": "stream",
     "text": [
      "train:  40%|████      | 16/40 [37:25<59:07, 147.82s/it]  "
     ]
    },
    {
     "name": "stdout",
     "output_type": "stream",
     "text": [
      "Training Episode: 16, Total Reward: 212792.10192871094\n"
     ]
    },
    {
     "name": "stderr",
     "output_type": "stream",
     "text": [
      "train:  42%|████▎     | 17/40 [39:51<56:27, 147.27s/it]"
     ]
    },
    {
     "name": "stdout",
     "output_type": "stream",
     "text": [
      "Training Episode: 17, Total Reward: 382934.6798095703\n"
     ]
    },
    {
     "name": "stderr",
     "output_type": "stream",
     "text": [
      "train:  45%|████▌     | 18/40 [42:18<53:55, 147.07s/it]"
     ]
    },
    {
     "name": "stdout",
     "output_type": "stream",
     "text": [
      "Training Episode: 18, Total Reward: 349836.1328125\n"
     ]
    },
    {
     "name": "stderr",
     "output_type": "stream",
     "text": [
      "train:  48%|████▊     | 19/40 [44:45<51:28, 147.07s/it]"
     ]
    },
    {
     "name": "stdout",
     "output_type": "stream",
     "text": [
      "Training Episode: 19, Total Reward: 375595.8896484375\n"
     ]
    },
    {
     "name": "stderr",
     "output_type": "stream",
     "text": [
      "train:  50%|█████     | 20/40 [47:10<48:51, 146.58s/it]"
     ]
    },
    {
     "name": "stdout",
     "output_type": "stream",
     "text": [
      "Training Episode: 20, Total Reward: 161313.28161621094\n"
     ]
    },
    {
     "name": "stderr",
     "output_type": "stream",
     "text": [
      "train:  52%|█████▎    | 21/40 [49:34<46:10, 145.81s/it]"
     ]
    },
    {
     "name": "stdout",
     "output_type": "stream",
     "text": [
      "Training Episode: 21, Total Reward: 180688.3006591797\n"
     ]
    },
    {
     "name": "stderr",
     "output_type": "stream",
     "text": [
      "train:  55%|█████▌    | 22/40 [52:01<43:51, 146.21s/it]"
     ]
    },
    {
     "name": "stdout",
     "output_type": "stream",
     "text": [
      "Training Episode: 22, Total Reward: 236401.64852905273\n"
     ]
    },
    {
     "name": "stderr",
     "output_type": "stream",
     "text": [
      "train:  57%|█████▊    | 23/40 [54:29<41:33, 146.70s/it]"
     ]
    },
    {
     "name": "stdout",
     "output_type": "stream",
     "text": [
      "Training Episode: 23, Total Reward: 160171.57583618164\n"
     ]
    },
    {
     "name": "stderr",
     "output_type": "stream",
     "text": [
      "train:  60%|██████    | 24/40 [56:55<39:03, 146.49s/it]"
     ]
    },
    {
     "name": "stdout",
     "output_type": "stream",
     "text": [
      "Training Episode: 24, Total Reward: 24554.45654296875\n"
     ]
    },
    {
     "name": "stderr",
     "output_type": "stream",
     "text": [
      "train:  62%|██████▎   | 25/40 [59:20<36:29, 145.93s/it]"
     ]
    },
    {
     "name": "stdout",
     "output_type": "stream",
     "text": [
      "Training Episode: 25, Total Reward: -61304.38720703125\n"
     ]
    },
    {
     "name": "stderr",
     "output_type": "stream",
     "text": [
      "train:  65%|██████▌   | 26/40 [1:01:44<33:57, 145.57s/it]"
     ]
    },
    {
     "name": "stdout",
     "output_type": "stream",
     "text": [
      "Training Episode: 26, Total Reward: -372582.4560241699\n"
     ]
    },
    {
     "name": "stderr",
     "output_type": "stream",
     "text": [
      "train:  68%|██████▊   | 27/40 [1:04:11<31:36, 145.89s/it]"
     ]
    },
    {
     "name": "stdout",
     "output_type": "stream",
     "text": [
      "Training Episode: 27, Total Reward: -343475.25102233887\n"
     ]
    },
    {
     "name": "stderr",
     "output_type": "stream",
     "text": [
      "train:  70%|███████   | 28/40 [1:06:39<29:17, 146.44s/it]"
     ]
    },
    {
     "name": "stdout",
     "output_type": "stream",
     "text": [
      "Training Episode: 28, Total Reward: 28393.346923828125\n"
     ]
    },
    {
     "name": "stderr",
     "output_type": "stream",
     "text": [
      "train:  72%|███████▎  | 29/40 [1:09:06<26:52, 146.63s/it]"
     ]
    },
    {
     "name": "stdout",
     "output_type": "stream",
     "text": [
      "Training Episode: 29, Total Reward: 149333.0556640625\n"
     ]
    },
    {
     "name": "stderr",
     "output_type": "stream",
     "text": [
      "train:  75%|███████▌  | 30/40 [1:11:32<24:26, 146.61s/it]"
     ]
    },
    {
     "name": "stdout",
     "output_type": "stream",
     "text": [
      "Training Episode: 30, Total Reward: 59490.1474609375\n"
     ]
    },
    {
     "name": "stderr",
     "output_type": "stream",
     "text": [
      "train:  78%|███████▊  | 31/40 [1:14:00<22:01, 146.79s/it]"
     ]
    },
    {
     "name": "stdout",
     "output_type": "stream",
     "text": [
      "Training Episode: 31, Total Reward: 11340.171752929688\n"
     ]
    },
    {
     "name": "stderr",
     "output_type": "stream",
     "text": [
      "train:  80%|████████  | 32/40 [1:16:27<19:36, 147.05s/it]"
     ]
    },
    {
     "name": "stdout",
     "output_type": "stream",
     "text": [
      "Training Episode: 32, Total Reward: 88029.76708984375\n"
     ]
    },
    {
     "name": "stderr",
     "output_type": "stream",
     "text": [
      "train:  82%|████████▎ | 33/40 [1:18:56<17:13, 147.58s/it]"
     ]
    },
    {
     "name": "stdout",
     "output_type": "stream",
     "text": [
      "Training Episode: 33, Total Reward: 76013.66748046875\n"
     ]
    },
    {
     "name": "stderr",
     "output_type": "stream",
     "text": [
      "train:  85%|████████▌ | 34/40 [1:21:27<14:51, 148.62s/it]"
     ]
    },
    {
     "name": "stdout",
     "output_type": "stream",
     "text": [
      "Training Episode: 34, Total Reward: 77420.96942138672\n"
     ]
    },
    {
     "name": "stderr",
     "output_type": "stream",
     "text": [
      "train:  88%|████████▊ | 35/40 [1:23:53<12:18, 147.76s/it]"
     ]
    },
    {
     "name": "stdout",
     "output_type": "stream",
     "text": [
      "Training Episode: 35, Total Reward: 82425.07080078125\n"
     ]
    },
    {
     "name": "stderr",
     "output_type": "stream",
     "text": [
      "train:  90%|█████████ | 36/40 [1:26:22<09:52, 148.22s/it]"
     ]
    },
    {
     "name": "stdout",
     "output_type": "stream",
     "text": [
      "Training Episode: 36, Total Reward: 33816.596923828125\n"
     ]
    },
    {
     "name": "stderr",
     "output_type": "stream",
     "text": [
      "train:  92%|█████████▎| 37/40 [1:28:52<07:26, 148.68s/it]"
     ]
    },
    {
     "name": "stdout",
     "output_type": "stream",
     "text": [
      "Training Episode: 37, Total Reward: -1321.57470703125\n"
     ]
    },
    {
     "name": "stderr",
     "output_type": "stream",
     "text": [
      "train:  95%|█████████▌| 38/40 [1:31:26<05:00, 150.36s/it]"
     ]
    },
    {
     "name": "stdout",
     "output_type": "stream",
     "text": [
      "Training Episode: 38, Total Reward: -33790.20751953125\n"
     ]
    },
    {
     "name": "stderr",
     "output_type": "stream",
     "text": [
      "train:  98%|█████████▊| 39/40 [1:33:53<02:29, 149.24s/it]"
     ]
    },
    {
     "name": "stdout",
     "output_type": "stream",
     "text": [
      "Training Episode: 39, Total Reward: 433635.04333496094\n"
     ]
    },
    {
     "name": "stderr",
     "output_type": "stream",
     "text": [
      "train: 100%|██████████| 40/40 [1:36:21<00:00, 144.53s/it]\n"
     ]
    },
    {
     "name": "stdout",
     "output_type": "stream",
     "text": [
      "Training Episode: 40, Total Reward: -57634.88555908203\n"
     ]
    },
    {
     "name": "stderr",
     "output_type": "stream",
     "text": [
      "validate:   2%|▎         | 1/40 [00:38<24:49, 38.19s/it]"
     ]
    },
    {
     "name": "stdout",
     "output_type": "stream",
     "text": [
      "Validation Episode: 1, Total Reward: 784.4375\n"
     ]
    },
    {
     "name": "stderr",
     "output_type": "stream",
     "text": [
      "validate:   5%|▌         | 2/40 [01:14<23:21, 36.87s/it]"
     ]
    },
    {
     "name": "stdout",
     "output_type": "stream",
     "text": [
      "Validation Episode: 2, Total Reward: 16610.2109375\n"
     ]
    },
    {
     "name": "stderr",
     "output_type": "stream",
     "text": [
      "validate:   8%|▊         | 3/40 [01:51<22:48, 37.00s/it]"
     ]
    },
    {
     "name": "stdout",
     "output_type": "stream",
     "text": [
      "Validation Episode: 3, Total Reward: -5256.532958984375\n"
     ]
    },
    {
     "name": "stderr",
     "output_type": "stream",
     "text": [
      "validate:  10%|█         | 4/40 [02:24<21:20, 35.56s/it]"
     ]
    },
    {
     "name": "stdout",
     "output_type": "stream",
     "text": [
      "Validation Episode: 4, Total Reward: 182778.986328125\n"
     ]
    },
    {
     "name": "stderr",
     "output_type": "stream",
     "text": [
      "validate:  12%|█▎        | 5/40 [03:02<21:10, 36.29s/it]"
     ]
    },
    {
     "name": "stdout",
     "output_type": "stream",
     "text": [
      "Validation Episode: 5, Total Reward: 46843.56982421875\n"
     ]
    },
    {
     "name": "stderr",
     "output_type": "stream",
     "text": [
      "validate:  15%|█▌        | 6/40 [03:36<20:09, 35.57s/it]"
     ]
    },
    {
     "name": "stdout",
     "output_type": "stream",
     "text": [
      "Validation Episode: 6, Total Reward: -54241.18615722656\n"
     ]
    },
    {
     "name": "stderr",
     "output_type": "stream",
     "text": [
      "validate:  18%|█▊        | 7/40 [04:14<20:00, 36.39s/it]"
     ]
    },
    {
     "name": "stdout",
     "output_type": "stream",
     "text": [
      "Validation Episode: 7, Total Reward: 223941.35986328125\n"
     ]
    },
    {
     "name": "stderr",
     "output_type": "stream",
     "text": [
      "validate:  20%|██        | 8/40 [04:48<19:04, 35.78s/it]"
     ]
    },
    {
     "name": "stdout",
     "output_type": "stream",
     "text": [
      "Validation Episode: 8, Total Reward: -60964.263671875\n"
     ]
    },
    {
     "name": "stderr",
     "output_type": "stream",
     "text": [
      "validate:  22%|██▎       | 9/40 [05:26<18:46, 36.33s/it]"
     ]
    },
    {
     "name": "stdout",
     "output_type": "stream",
     "text": [
      "Validation Episode: 9, Total Reward: -7080.0881271362305\n"
     ]
    },
    {
     "name": "stderr",
     "output_type": "stream",
     "text": [
      "validate:  25%|██▌       | 10/40 [06:01<17:58, 35.94s/it]"
     ]
    },
    {
     "name": "stdout",
     "output_type": "stream",
     "text": [
      "Validation Episode: 10, Total Reward: -77747.25451660156\n"
     ]
    },
    {
     "name": "stderr",
     "output_type": "stream",
     "text": [
      "validate:  28%|██▊       | 11/40 [06:38<17:31, 36.27s/it]"
     ]
    },
    {
     "name": "stdout",
     "output_type": "stream",
     "text": [
      "Validation Episode: 11, Total Reward: 71497.201171875\n"
     ]
    },
    {
     "name": "stderr",
     "output_type": "stream",
     "text": [
      "validate:  30%|███       | 12/40 [07:14<16:51, 36.14s/it]"
     ]
    },
    {
     "name": "stdout",
     "output_type": "stream",
     "text": [
      "Validation Episode: 12, Total Reward: -29103.99072265625\n"
     ]
    },
    {
     "name": "stderr",
     "output_type": "stream",
     "text": [
      "validate:  32%|███▎      | 13/40 [07:50<16:18, 36.25s/it]"
     ]
    },
    {
     "name": "stdout",
     "output_type": "stream",
     "text": [
      "Validation Episode: 13, Total Reward: 163366.03515625\n"
     ]
    },
    {
     "name": "stderr",
     "output_type": "stream",
     "text": [
      "validate:  35%|███▌      | 14/40 [08:26<15:36, 36.03s/it]"
     ]
    },
    {
     "name": "stdout",
     "output_type": "stream",
     "text": [
      "Validation Episode: 14, Total Reward: 19417.460693359375\n"
     ]
    },
    {
     "name": "stderr",
     "output_type": "stream",
     "text": [
      "validate:  38%|███▊      | 15/40 [09:03<15:06, 36.24s/it]"
     ]
    },
    {
     "name": "stdout",
     "output_type": "stream",
     "text": [
      "Validation Episode: 15, Total Reward: -50605.18505859375\n"
     ]
    },
    {
     "name": "stderr",
     "output_type": "stream",
     "text": [
      "validate:  40%|████      | 16/40 [09:39<14:28, 36.19s/it]"
     ]
    },
    {
     "name": "stdout",
     "output_type": "stream",
     "text": [
      "Validation Episode: 16, Total Reward: -14453.09619140625\n"
     ]
    },
    {
     "name": "stderr",
     "output_type": "stream",
     "text": [
      "validate:  42%|████▎     | 17/40 [10:13<13:40, 35.67s/it]"
     ]
    },
    {
     "name": "stdout",
     "output_type": "stream",
     "text": [
      "Validation Episode: 17, Total Reward: 78937.6689453125\n"
     ]
    },
    {
     "name": "stderr",
     "output_type": "stream",
     "text": [
      "validate:  45%|████▌     | 18/40 [10:50<13:13, 36.07s/it]"
     ]
    },
    {
     "name": "stdout",
     "output_type": "stream",
     "text": [
      "Validation Episode: 18, Total Reward: 18658.87939453125\n"
     ]
    },
    {
     "name": "stderr",
     "output_type": "stream",
     "text": [
      "validate:  48%|████▊     | 19/40 [11:24<12:24, 35.45s/it]"
     ]
    },
    {
     "name": "stdout",
     "output_type": "stream",
     "text": [
      "Validation Episode: 19, Total Reward: -36463.251525878906\n"
     ]
    },
    {
     "name": "stderr",
     "output_type": "stream",
     "text": [
      "validate:  50%|█████     | 20/40 [12:02<12:03, 36.17s/it]"
     ]
    },
    {
     "name": "stdout",
     "output_type": "stream",
     "text": [
      "Validation Episode: 20, Total Reward: -38176.8896484375\n"
     ]
    },
    {
     "name": "stderr",
     "output_type": "stream",
     "text": [
      "validate:  52%|█████▎    | 21/40 [12:35<11:09, 35.23s/it]"
     ]
    },
    {
     "name": "stdout",
     "output_type": "stream",
     "text": [
      "Validation Episode: 21, Total Reward: 145328.86157226562\n"
     ]
    },
    {
     "name": "stderr",
     "output_type": "stream",
     "text": [
      "validate:  55%|█████▌    | 22/40 [13:14<10:51, 36.21s/it]"
     ]
    },
    {
     "name": "stdout",
     "output_type": "stream",
     "text": [
      "Validation Episode: 22, Total Reward: -16104.49609375\n"
     ]
    },
    {
     "name": "stderr",
     "output_type": "stream",
     "text": [
      "validate:  57%|█████▊    | 23/40 [13:49<10:11, 35.97s/it]"
     ]
    },
    {
     "name": "stdout",
     "output_type": "stream",
     "text": [
      "Validation Episode: 23, Total Reward: -81166.224609375\n"
     ]
    },
    {
     "name": "stderr",
     "output_type": "stream",
     "text": [
      "validate:  60%|██████    | 24/40 [14:28<09:50, 36.89s/it]"
     ]
    },
    {
     "name": "stdout",
     "output_type": "stream",
     "text": [
      "Validation Episode: 24, Total Reward: 5301.551513671875\n"
     ]
    },
    {
     "name": "stderr",
     "output_type": "stream",
     "text": [
      "validate:  62%|██████▎   | 25/40 [15:02<09:02, 36.14s/it]"
     ]
    },
    {
     "name": "stdout",
     "output_type": "stream",
     "text": [
      "Validation Episode: 25, Total Reward: -82206.31436157227\n"
     ]
    },
    {
     "name": "stderr",
     "output_type": "stream",
     "text": [
      "validate:  65%|██████▌   | 26/40 [15:40<08:32, 36.58s/it]"
     ]
    },
    {
     "name": "stdout",
     "output_type": "stream",
     "text": [
      "Validation Episode: 26, Total Reward: -49465.942138671875\n"
     ]
    },
    {
     "name": "stderr",
     "output_type": "stream",
     "text": [
      "validate:  68%|██████▊   | 27/40 [16:15<07:48, 36.01s/it]"
     ]
    },
    {
     "name": "stdout",
     "output_type": "stream",
     "text": [
      "Validation Episode: 27, Total Reward: 56992.97265625\n"
     ]
    },
    {
     "name": "stderr",
     "output_type": "stream",
     "text": [
      "validate:  70%|███████   | 28/40 [16:52<07:17, 36.47s/it]"
     ]
    },
    {
     "name": "stdout",
     "output_type": "stream",
     "text": [
      "Validation Episode: 28, Total Reward: 20056.00390625\n"
     ]
    },
    {
     "name": "stderr",
     "output_type": "stream",
     "text": [
      "validate:  72%|███████▎  | 29/40 [17:27<06:35, 35.99s/it]"
     ]
    },
    {
     "name": "stdout",
     "output_type": "stream",
     "text": [
      "Validation Episode: 29, Total Reward: 101990.599609375\n"
     ]
    },
    {
     "name": "stderr",
     "output_type": "stream",
     "text": [
      "validate:  75%|███████▌  | 30/40 [18:04<06:02, 36.24s/it]"
     ]
    },
    {
     "name": "stdout",
     "output_type": "stream",
     "text": [
      "Validation Episode: 30, Total Reward: 72073.884765625\n"
     ]
    },
    {
     "name": "stderr",
     "output_type": "stream",
     "text": [
      "validate:  78%|███████▊  | 31/40 [18:41<05:28, 36.51s/it]"
     ]
    },
    {
     "name": "stdout",
     "output_type": "stream",
     "text": [
      "Validation Episode: 31, Total Reward: 41048.341796875\n"
     ]
    },
    {
     "name": "stderr",
     "output_type": "stream",
     "text": [
      "validate:  80%|████████  | 32/40 [19:16<04:49, 36.17s/it]"
     ]
    },
    {
     "name": "stdout",
     "output_type": "stream",
     "text": [
      "Validation Episode: 32, Total Reward: 10320.2607421875\n"
     ]
    },
    {
     "name": "stderr",
     "output_type": "stream",
     "text": [
      "validate:  82%|████████▎ | 33/40 [19:54<04:16, 36.62s/it]"
     ]
    },
    {
     "name": "stdout",
     "output_type": "stream",
     "text": [
      "Validation Episode: 33, Total Reward: 37446.668701171875\n"
     ]
    },
    {
     "name": "stderr",
     "output_type": "stream",
     "text": [
      "validate:  85%|████████▌ | 34/40 [20:30<03:37, 36.24s/it]"
     ]
    },
    {
     "name": "stdout",
     "output_type": "stream",
     "text": [
      "Validation Episode: 34, Total Reward: 69738.37158203125\n"
     ]
    },
    {
     "name": "stderr",
     "output_type": "stream",
     "text": [
      "validate:  88%|████████▊ | 35/40 [21:08<03:04, 36.88s/it]"
     ]
    },
    {
     "name": "stdout",
     "output_type": "stream",
     "text": [
      "Validation Episode: 35, Total Reward: -25999.81640625\n"
     ]
    },
    {
     "name": "stderr",
     "output_type": "stream",
     "text": [
      "validate:  90%|█████████ | 36/40 [21:43<02:25, 36.42s/it]"
     ]
    },
    {
     "name": "stdout",
     "output_type": "stream",
     "text": [
      "Validation Episode: 36, Total Reward: -1988.6668853759766\n"
     ]
    },
    {
     "name": "stderr",
     "output_type": "stream",
     "text": [
      "validate:  92%|█████████▎| 37/40 [22:22<01:50, 36.99s/it]"
     ]
    },
    {
     "name": "stdout",
     "output_type": "stream",
     "text": [
      "Validation Episode: 37, Total Reward: -10238.01953125\n"
     ]
    },
    {
     "name": "stderr",
     "output_type": "stream",
     "text": [
      "validate:  95%|█████████▌| 38/40 [22:56<01:12, 36.36s/it]"
     ]
    },
    {
     "name": "stdout",
     "output_type": "stream",
     "text": [
      "Validation Episode: 38, Total Reward: 6313.5941162109375\n"
     ]
    },
    {
     "name": "stderr",
     "output_type": "stream",
     "text": [
      "validate:  98%|█████████▊| 39/40 [23:35<00:36, 36.96s/it]"
     ]
    },
    {
     "name": "stdout",
     "output_type": "stream",
     "text": [
      "Validation Episode: 39, Total Reward: -70499.33087158203\n"
     ]
    },
    {
     "name": "stderr",
     "output_type": "stream",
     "text": [
      "validate: 100%|██████████| 40/40 [24:10<00:00, 36.25s/it]"
     ]
    },
    {
     "name": "stdout",
     "output_type": "stream",
     "text": [
      "Validation Episode: 40, Total Reward: -69790.44360351562\n",
      "Average Reward Over Validation Episodes: 15197.3981924057\n"
     ]
    },
    {
     "name": "stderr",
     "output_type": "stream",
     "text": [
      "\n"
     ]
    }
   ],
   "source": [
    "env = TradingEnv(data=tickers[TARGET], data_dim=FEATURES, startingDate=START_DATE, money=CAPITAL, stateLength=STATE_LEN, transactionCosts=FEES, endingDate=END_DATE)\n",
    "agent = DQNAgent(observation_space=STATE_LEN * FEATURES, action_space=ACT_SPACE)\n",
    "\n",
    "simulator = TradingSimulator(env, agent, training_episodes=40, validation_episodes=15, checkpoint_interval=100)\n",
    "simulator.train()\n",
    "simulator.validate()"
   ]
  },
  {
   "cell_type": "markdown",
   "metadata": {},
   "source": [
    "# Conclusion\n",
    "\n",
    "CONCLUDE"
   ]
  },
  {
   "cell_type": "markdown",
   "metadata": {},
   "source": [
    "## References\n",
    "\n",
    "- [TensorFlow Agents](https://www.tensorflow.org/agents/overview)\n",
    "- [Open Gym AI Github](https://github.com/openai/gym)\n",
    "- [Greg et al, OpenAI Gym, (2016)](https://arxiv.org/abs/1606.01540)\n",
    "- [Théate, Thibaut, and Damien Ernst. \"An application of deep reinforcement learning to algorithmic trading.\" Expert Systems with Applications 173 (2021): 114632.](https://www.sciencedirect.com/science/article/pii/S0957417421000737)"
   ]
  },
  {
   "cell_type": "markdown",
   "metadata": {},
   "source": [
    "## Github\n",
    "\n",
    "Article here is also available on [Github](https://github.com/adamd1985/pairs_trading_unsupervised_learning)\n",
    "\n",
    "Kaggle notebook available [here](https://www.kaggle.com/code/addarm/unsupervised-learning-as-signals-for-pairs-trading)\n",
    "\n",
    "## Media\n",
    "\n",
    "All media used (in the form of code or images) are either solely owned by me, acquired through licensing, or part of the Public Domain and granted use through Creative Commons License.\n",
    "\n",
    "## CC Licensing and Use\n",
    "\n",
    "<a rel=\"license\" href=\"http://creativecommons.org/licenses/by-nc/4.0/\"><img alt=\"Creative Commons License\" style=\"border-width:0\" src=\"https://i.creativecommons.org/l/by-nc/4.0/88x31.png\" /></a><br />This work is licensed under a <a rel=\"license\" href=\"http://creativecommons.org/licenses/by-nc/4.0/\">Creative Commons Attribution-NonCommercial 4.0 International License</a>."
   ]
  }
 ],
 "metadata": {
  "kernelspec": {
   "display_name": "quant",
   "language": "python",
   "name": "python3"
  },
  "language_info": {
   "codemirror_mode": {
    "name": "ipython",
    "version": 3
   },
   "file_extension": ".py",
   "mimetype": "text/x-python",
   "name": "python",
   "nbconvert_exporter": "python",
   "pygments_lexer": "ipython3",
   "version": "3.11.8"
  }
 },
 "nbformat": 4,
 "nbformat_minor": 2
}
